{
 "cells": [
  {
   "cell_type": "markdown",
   "metadata": {},
   "source": [
    "# Stochastic Differential Equations, Quantum Phase Space, and Julia\n",
    "\n",
    "$$\n",
    "\\def\\julia{\\texttt{julia}}\n",
    "\\def\\dashint{{\\int\\!\\!\\!\\!\\!\\!-\\,}}\n",
    "\\def\\infdashint{\\dashint_{\\!\\!\\!-\\infty}^{\\,\\infty}}\n",
    "\\def\\D{\\,{\\rm d}}\n",
    "\\def\\E{{\\rm e}}\n",
    "\\def\\dx{\\D x}\n",
    "\\def\\dt{\\D t}\n",
    "\\def\\dz{\\D z}\n",
    "\\def\\C{{\\mathbb C}}\n",
    "\\def\\R{{\\mathbb R}}\n",
    "\\def\\CC{{\\cal C}}\n",
    "\\def\\HH{{\\cal H}}\n",
    "\\def\\I{{\\rm i}}\n",
    "\\def\\qqqquad{\\qquad\\qquad}\n",
    "\\def\\qqfor{\\qquad\\hbox{for}\\qquad}\n",
    "\\def\\qqwhere{\\qquad\\hbox{where}\\qquad}\n",
    "\\def\\Res_#1{\\underset{#1}{\\rm Res}}\\,\n",
    "\\def\\sech{{\\rm sech}\\,}\n",
    "\\def\\vc#1{{\\mathbf #1}}\n",
    "$$\n",
    "\n",
    "Dr. Ashton Bradley\n",
    "<br>\n",
    "ashton.bradley@otago.ac.nz\n",
    "<br>\n",
    "http://amoqt.otago.ac.nz"
   ]
  },
  {
   "cell_type": "markdown",
   "metadata": {},
   "source": [
    "# Intro to julia"
   ]
  },
  {
   "cell_type": "markdown",
   "metadata": {},
   "source": [
    "This laboratory will serve as an introduction to julia, and provide some essential background for stochastic processes.  "
   ]
  },
  {
   "cell_type": "markdown",
   "metadata": {},
   "source": [
    "## Workshop 1 (1.5 hours): $\\julia$ in a nutshell\n",
    "Getting started in $\\julia$: the basics\n",
    "\n",
    "- Familiarity with $\\julia$ computing environments: REPL, Jupyter, Juno\n",
    "- Variables, functions \n",
    "- Using packages and plotting\n",
    "- How does $\\julia$ solve the two-language problem?\n",
    "\n",
    "References\n",
    "\n",
    "- [julialang.org](https://julialang.org)\n",
    "- [juliaobserver](https://juliaobserver.com)\n",
    "- _Julia: A Fresh Approach to Numerical Computing_, Jeff Bezanson, Alan Edelman, Stefan Karpinski and Viral B. Shah [SIAM Review, __59__, 65–98 (2017)](http://julialang.org/publications/julia-fresh-approach-BEKS.pdf)\n",
    "- [Fun and sometimes useful julia packages](http://amoqt.otago.ac.nz/resources/juliajam)"
   ]
  },
  {
   "cell_type": "markdown",
   "metadata": {},
   "source": [
    "# Motivation: the two-language problem\n",
    "Why another language? \n",
    "\n",
    "- Compiled languages\n",
    "    - Fast execution\n",
    "    - Slow to read/write/debug\n",
    "    - Tend to get isolated from latest conceptual developments \n",
    "- Interpreted languages \n",
    "    - Slow exection\n",
    "    - Easy to read/write/debug\n",
    "    - Not well suited for high performance computing\n",
    "- This is a ___major___ issue in technical computing. \n",
    "- This conflict motivated the development of $\\julia$ at MIT (1.0 released 2018). \n",
    "- [next big thing?](https://www.techrepublic.com/article/is-julia-the-next-big-programming-language-mit-thinks-so-as-version-1-0-lands/)\n",
    "- [Julia joined the \"petaflop club\" in 2017](https://www.hpcwire.com/off-the-wire/julia-joins-petaflop-club/), the only high level scripting language ever to do so."
   ]
  },
  {
   "cell_type": "markdown",
   "metadata": {},
   "source": [
    "## Julia microbenchmarks\n",
    "[https://julialang.org/benchmarks/](https://julialang.org/benchmarks/)"
   ]
  },
  {
   "cell_type": "markdown",
   "metadata": {},
   "source": [
    "<img src=\"media/juliabench.png\" width=\"600\">"
   ]
  },
  {
   "cell_type": "markdown",
   "metadata": {},
   "source": [
    "<img src=\"media/packages.png\" width=\"600\">"
   ]
  },
  {
   "cell_type": "markdown",
   "metadata": {},
   "source": [
    "## Julia observer\n",
    "\n",
    "An up to date package listing is provided at [juliaobserver.com](https://juliaobserver.com/packages)\n",
    "\n",
    "## Language \n",
    "Julia is powered by several unique language innovations that developers love, and I think you will too once you get to know a bit more about them:\n",
    "\n",
    "- Multiple dispatch: methods are not owned by classes.\n",
    "- Duck typing: you can define your own data types by their properties; they translate across all of julia \n",
    "- Different julia modules can call each other without any loss of performance\n",
    "\n",
    "Coming from a different language, you may find a list of [noteworthy differences to other languages](https://docs.julialang.org/en/v0.7.0/manual/noteworthy-differences/)  useful."
   ]
  },
  {
   "cell_type": "markdown",
   "metadata": {},
   "source": [
    "# $\\julia$ environments"
   ]
  },
  {
   "cell_type": "markdown",
   "metadata": {},
   "source": [
    "## Read, Evaluate, Print, Loop (REPL)"
   ]
  },
  {
   "cell_type": "markdown",
   "metadata": {},
   "source": [
    "<img src=\"media/repl.png\" width=\"500\">"
   ]
  },
  {
   "cell_type": "markdown",
   "metadata": {},
   "source": [
    "## Package manager"
   ]
  },
  {
   "cell_type": "markdown",
   "metadata": {},
   "source": [
    "How to access Pkg mode in the REPL\n",
    "```julia\n",
    "julia> ]\n",
    "```\n",
    "\n",
    "To add a package\n",
    "\n",
    "```julia\n",
    "(1.0) pkg> add IJulia \n",
    "```"
   ]
  },
  {
   "cell_type": "markdown",
   "metadata": {},
   "source": [
    "Note that REPL commands are just $\\julia$ commands, so julia REPL and jupyter are identical, except that the Pkg mode can't be accessed in jupyter."
   ]
  },
  {
   "cell_type": "code",
   "execution_count": null,
   "metadata": {},
   "outputs": [],
   "source": [
    "#how to access Pkg commands in jupyter\n",
    "using Pkg\n",
    "pkg\"status\" "
   ]
  },
  {
   "cell_type": "markdown",
   "metadata": {},
   "source": [
    "To load a package\n",
    "```julia\n",
    "julia> using IJulia\n",
    "```"
   ]
  },
  {
   "cell_type": "markdown",
   "metadata": {},
   "source": [
    "`IJulia` provides the jupyter environment for julia. \n",
    "    \n",
    "To launch jupyter, enter this command in the REPL:\n",
    "```julia\n",
    "julia> notebook()\n",
    "```"
   ]
  },
  {
   "cell_type": "markdown",
   "metadata": {},
   "source": [
    "You should now have access to the lectures as jupyter notebooks (no? let me know)."
   ]
  },
  {
   "cell_type": "markdown",
   "metadata": {},
   "source": [
    "# Jupyter\n",
    "Web browser front end calls a $\\julia$ kernel, evaluates, returns result; quite low overhead."
   ]
  },
  {
   "cell_type": "code",
   "execution_count": null,
   "metadata": {},
   "outputs": [],
   "source": [
    "using Plots\n",
    "# set defaults for GR backend\n",
    "gr(titlefontsize=12,grid=false,legend=false,size=(600,200))"
   ]
  },
  {
   "cell_type": "code",
   "execution_count": null,
   "metadata": {},
   "outputs": [],
   "source": [
    "# let's add one useful function (more on this later)\n",
    "linspace(a,b,n) = LinRange(a,b,n) |> collect"
   ]
  },
  {
   "cell_type": "code",
   "execution_count": null,
   "metadata": {},
   "outputs": [],
   "source": [
    "x = linspace(0,10,500);"
   ]
  },
  {
   "cell_type": "code",
   "execution_count": null,
   "metadata": {},
   "outputs": [],
   "source": [
    "#first plot will take a few seconds\n",
    "plot(x,sin.(x)) \n",
    "xlabel!(\"x\");ylabel!(\"sin(x)\")"
   ]
  },
  {
   "cell_type": "markdown",
   "metadata": {},
   "source": [
    "- Dot-calls: extension of Matlab's local array operation syntax.\n",
    "- `xlabel!()`: `!` at the end of the function name is a julia convention that declares: \"modifies the input\", also referred to as a _mutating function_; here the input is the current plot which doesn't neet to be declared. "
   ]
  },
  {
   "cell_type": "code",
   "execution_count": null,
   "metadata": {},
   "outputs": [],
   "source": [
    "plot!(x,cos.(x).^2,fillrange=[zero(x) cos.(x).^2],\n",
    "    c=:blue,alpha=0.3)\n",
    "\n",
    "# line continuation: just break off, mid-command"
   ]
  },
  {
   "cell_type": "code",
   "execution_count": null,
   "metadata": {},
   "outputs": [],
   "source": [
    "z=2; println(z) #more than one command on same line"
   ]
  },
  {
   "cell_type": "code",
   "execution_count": null,
   "metadata": {},
   "outputs": [],
   "source": [
    "println(\"hello world, this is julia. It's a bit like Matlab, Python, R, C, Fortran, Ruby, Haskell, ...\n",
    "    but not really like any other language\")"
   ]
  },
  {
   "cell_type": "markdown",
   "metadata": {},
   "source": [
    "# Calling other languages"
   ]
  },
  {
   "cell_type": "code",
   "execution_count": null,
   "metadata": {},
   "outputs": [],
   "source": [
    "println(\"from julia you can also easily use  libraries from \n",
    "    Python, R, C/Fortran, C++, and Java. \n",
    "    Did I mention that I like \", pi ,\" ?\")"
   ]
  },
  {
   "cell_type": "markdown",
   "metadata": {},
   "source": [
    "For example, a number of special functions can be called via the C library GSL ([GNU Scientific Library](https://github.com/JuliaMath/GSL.jl)):"
   ]
  },
  {
   "cell_type": "code",
   "execution_count": null,
   "metadata": {},
   "outputs": [],
   "source": [
    "#load some wrapper functions that call GSL\n",
    "using GSL"
   ]
  },
  {
   "cell_type": "code",
   "execution_count": null,
   "metadata": {},
   "outputs": [],
   "source": [
    "sf_bessel_J0(0.3)"
   ]
  },
  {
   "cell_type": "markdown",
   "metadata": {},
   "source": [
    "A native $\\julia$ implementation of many special functions can be found in [SpecialFunctions.jl](https://github.com/JuliaMath/SpecialFunctions.jl)"
   ]
  },
  {
   "cell_type": "code",
   "execution_count": null,
   "metadata": {},
   "outputs": [],
   "source": [
    "using SpecialFunctions"
   ]
  },
  {
   "cell_type": "code",
   "execution_count": null,
   "metadata": {},
   "outputs": [],
   "source": [
    "zeta(3) # returns a Float64"
   ]
  },
  {
   "cell_type": "code",
   "execution_count": null,
   "metadata": {},
   "outputs": [],
   "source": [
    "zeta(2.0 + 3.0im) # returns a complex float"
   ]
  },
  {
   "cell_type": "code",
   "execution_count": null,
   "metadata": {},
   "outputs": [],
   "source": [
    "typeof(ans)"
   ]
  },
  {
   "cell_type": "markdown",
   "metadata": {},
   "source": [
    "You can also use [PyCall.jl](https://github.com/JuliaPy/PyCall.jl) to call `python` functions with low overhead:"
   ]
  },
  {
   "cell_type": "code",
   "execution_count": null,
   "metadata": {},
   "outputs": [],
   "source": [
    "using PyCall"
   ]
  },
  {
   "cell_type": "code",
   "execution_count": null,
   "metadata": {},
   "outputs": [],
   "source": [
    "@pyimport math\n",
    "math.sin(math.pi / 4) - sin(pi / 4)  # returns 0.0"
   ]
  },
  {
   "cell_type": "markdown",
   "metadata": {},
   "source": [
    "- A nice feature of jupyter is that we can enter text, latex, and code, all in one easily shareable document. \n",
    "- Open Science! Yay! There are [many other kernels](https://github.com/jupyter/jupyter/wiki/Jupyter-kernels) available for jupyter.\n",
    "- The importance of such an open science standard is highlighted by major scientific discovery of LIGO: the black hole merger data, simulations, and analysis were provided as [jupyter notebooks](https://blog.jupyter.org/congratulations-to-the-ligo-and-virgo-collaborations-from-project-jupyter-5923247be019)."
   ]
  },
  {
   "cell_type": "markdown",
   "metadata": {},
   "source": [
    "- To shift from ___code mode___ to ___markdown mode___, press `ESC`, then `y`.\n",
    "\n",
    "- You can now type text with simple [markdown](https://www.markdownguide.org/cheat-sheet/) syntax, LaTeX in-line $\\langle x\\rangle=\\pi$, and full line equations:\n",
    "$$i\\hbar\\frac{\\partial\\psi}{\\partial t}=\\hat{H}\\psi,$$\n",
    "add [links](http://www.google.com), and drag in images. Not all of latex is supported, but for example, you can\n",
    "\n",
    "\\begin{align}\n",
    "\\partial_t\\psi&=L\\psi\\tag{some equation}\\\\\n",
    "-\\nabla^2\\psi&=\\lambda\\psi\\tag{some other}\n",
    "\\end{align}"
   ]
  },
  {
   "cell_type": "markdown",
   "metadata": {},
   "source": [
    "- To go back to code mode, press `ESC`, then `m`; default is code mode. \n",
    "\n",
    "- A full list of keyboard shortcuts can be found under the help menu above."
   ]
  },
  {
   "cell_type": "markdown",
   "metadata": {},
   "source": [
    "## Cool things you can do in julia"
   ]
  },
  {
   "cell_type": "code",
   "execution_count": null,
   "metadata": {},
   "outputs": [],
   "source": [
    "😸=35.6 #unicode inputs are allowed varables!"
   ]
  },
  {
   "cell_type": "code",
   "execution_count": null,
   "metadata": {},
   "outputs": [],
   "source": [
    "ψ=25 #LaTeX tab completion: type \\psi<tab> to get the greek letter ψ."
   ]
  },
  {
   "cell_type": "code",
   "execution_count": null,
   "metadata": {},
   "outputs": [],
   "source": [
    "ħ = 1.0545718e-34"
   ]
  },
  {
   "cell_type": "code",
   "execution_count": null,
   "metadata": {},
   "outputs": [],
   "source": [
    "#variable precision \n",
    "BigFloat(pi,2000)"
   ]
  },
  {
   "cell_type": "code",
   "execution_count": null,
   "metadata": {},
   "outputs": [],
   "source": [
    "exp(im*BigFloat(pi,2000))+1"
   ]
  },
  {
   "cell_type": "code",
   "execution_count": null,
   "metadata": {},
   "outputs": [],
   "source": [
    "typeof(BigFloat(pi))"
   ]
  },
  {
   "cell_type": "markdown",
   "metadata": {},
   "source": [
    "Here \"BigFloat\" is both \n",
    "\n",
    "- a method to perform type conversion, and \n",
    "- the name of a data type. \n",
    "\n",
    "These two things are defined separately."
   ]
  },
  {
   "cell_type": "code",
   "execution_count": null,
   "metadata": {},
   "outputs": [],
   "source": [
    "mypi = BigFloat(pi,64)"
   ]
  },
  {
   "cell_type": "code",
   "execution_count": null,
   "metadata": {},
   "outputs": [],
   "source": [
    "typeof(mypi) <: AbstractFloat"
   ]
  },
  {
   "cell_type": "markdown",
   "metadata": {},
   "source": [
    "There is an abstract type system that you can extend as you like."
   ]
  },
  {
   "cell_type": "code",
   "execution_count": null,
   "metadata": {},
   "outputs": [],
   "source": [
    "?BigFloat "
   ]
  },
  {
   "cell_type": "markdown",
   "metadata": {},
   "source": [
    "## Arrays and functions"
   ]
  },
  {
   "cell_type": "code",
   "execution_count": null,
   "metadata": {},
   "outputs": [],
   "source": [
    "x = randn(6)"
   ]
  },
  {
   "cell_type": "code",
   "execution_count": null,
   "metadata": {},
   "outputs": [],
   "source": [
    "x[2] # accessing an element of an array: [] vs ()"
   ]
  },
  {
   "cell_type": "code",
   "execution_count": null,
   "metadata": {},
   "outputs": [],
   "source": [
    "x^2"
   ]
  },
  {
   "cell_type": "code",
   "execution_count": null,
   "metadata": {},
   "outputs": [],
   "source": [
    "x.^2 # a dot-call: element-wise operations"
   ]
  },
  {
   "cell_type": "code",
   "execution_count": null,
   "metadata": {},
   "outputs": [],
   "source": [
    "# let's define a function\n",
    "f(x) = x^3-x+pi"
   ]
  },
  {
   "cell_type": "code",
   "execution_count": null,
   "metadata": {},
   "outputs": [],
   "source": [
    "f.(x)"
   ]
  },
  {
   "cell_type": "markdown",
   "metadata": {},
   "source": [
    "same result without passing to a function:"
   ]
  },
  {
   "cell_type": "code",
   "execution_count": null,
   "metadata": {},
   "outputs": [],
   "source": [
    "x.^3 .-x.+pi #manually dot all operations that will act on arrays element by element"
   ]
  },
  {
   "cell_type": "code",
   "execution_count": null,
   "metadata": {},
   "outputs": [],
   "source": [
    "@. x^3-x+pi # the macro @. will dot-the-lot."
   ]
  },
  {
   "cell_type": "markdown",
   "metadata": {},
   "source": [
    "By dotting the function call, `f.(x)`, the dot is applied to all operations."
   ]
  },
  {
   "cell_type": "markdown",
   "metadata": {},
   "source": [
    "### Two-dimensional example"
   ]
  },
  {
   "cell_type": "code",
   "execution_count": null,
   "metadata": {},
   "outputs": [],
   "source": [
    "f2(x,y) = x^3-y+pi"
   ]
  },
  {
   "cell_type": "code",
   "execution_count": null,
   "metadata": {},
   "outputs": [],
   "source": [
    "y = x"
   ]
  },
  {
   "cell_type": "code",
   "execution_count": null,
   "metadata": {},
   "outputs": [],
   "source": [
    "f2(x,y) #(oops!)"
   ]
  },
  {
   "cell_type": "code",
   "execution_count": null,
   "metadata": {},
   "outputs": [],
   "source": [
    "f2.(x,y) #acts on each element of column vectors x, y"
   ]
  },
  {
   "cell_type": "code",
   "execution_count": null,
   "metadata": {},
   "outputs": [],
   "source": [
    "f2.(x,y') #broadcasts each element of x along y, and of y along x"
   ]
  },
  {
   "cell_type": "markdown",
   "metadata": {},
   "source": [
    "This is a beautiful feature of $\\julia$ due to Steven Johnson (MIT, of FFTW fame). It goes quite deeply into the language, allowing you to create \"fused kernels\", compiling many dot-calls together into a single highly efficient operation acting locally in memory. "
   ]
  },
  {
   "cell_type": "markdown",
   "metadata": {},
   "source": [
    "# Memory and function calls\n",
    "It is worth emphasizing at this point that one of the great advantages of $\\julia$ is that it allows low-level access to memory, giving pathways to overcome one of the main bottleknecks of interpreted languages. A major deficiency  of other high-level languages such as Matlab is that function calls are slowed down by temporary memory allocations. \n",
    "\n",
    "## Writing in-place\n",
    "If we want to do a calculation and write the output in-place in memory"
   ]
  },
  {
   "cell_type": "code",
   "execution_count": null,
   "metadata": {},
   "outputs": [],
   "source": [
    "using BenchmarkTools "
   ]
  },
  {
   "cell_type": "code",
   "execution_count": null,
   "metadata": {},
   "outputs": [],
   "source": [
    "x=randn(10000);"
   ]
  },
  {
   "cell_type": "code",
   "execution_count": null,
   "metadata": {},
   "outputs": [],
   "source": [
    "#let's pre-allocate somwhere to write the output\n",
    "z = f2.(x,x');"
   ]
  },
  {
   "cell_type": "code",
   "execution_count": null,
   "metadata": {},
   "outputs": [],
   "source": [
    "# do many calls, and return average execution time, and memory allocations\n",
    "@btime z = f2.(x,x');"
   ]
  },
  {
   "cell_type": "markdown",
   "metadata": {},
   "source": [
    "So far this is an allocating call, requiring a temporary allocation for the result, before finally writing the result to `z`. \n",
    "\n",
    "Now let's write the result directly to memory, the $\\julia$ way:"
   ]
  },
  {
   "cell_type": "code",
   "execution_count": null,
   "metadata": {},
   "outputs": [],
   "source": [
    "@btime z .= f2.(x,x');"
   ]
  },
  {
   "cell_type": "markdown",
   "metadata": {},
   "source": [
    "The calculation is basically allocation free, with a significant speed up. In ambitious physics simulations, this can translate into much larger gains in execution speed."
   ]
  },
  {
   "cell_type": "markdown",
   "metadata": {},
   "source": [
    "This is probably a good time to point out that \n",
    "\n",
    "- In $\\julia$ there is no speed advantage to \"vectorizing\" your code. \n",
    "- If you prefer to write your own loops, you will get native C speed in $\\julia$.\n",
    "- By using dot-calls, you will get you very close to the same speed, while maintaining the clarity of vectorized code. "
   ]
  },
  {
   "cell_type": "markdown",
   "metadata": {},
   "source": [
    "# Loops, iterators"
   ]
  },
  {
   "cell_type": "code",
   "execution_count": null,
   "metadata": {},
   "outputs": [],
   "source": [
    "for j=1:10\n",
    "    println(\"j is $j\")\n",
    "end"
   ]
  },
  {
   "cell_type": "code",
   "execution_count": null,
   "metadata": {},
   "outputs": [],
   "source": [
    "# an interator\n",
    "n = 1:30"
   ]
  },
  {
   "cell_type": "code",
   "execution_count": null,
   "metadata": {},
   "outputs": [],
   "source": [
    "typeof(n) #not an Array"
   ]
  },
  {
   "cell_type": "code",
   "execution_count": null,
   "metadata": {},
   "outputs": [],
   "source": [
    "# a simple function with type conversion using redirection\n",
    "sumton(n) = n*(n+1)/2 |> Int #or, better: |> typeof(n) "
   ]
  },
  {
   "cell_type": "code",
   "execution_count": null,
   "metadata": {},
   "outputs": [],
   "source": [
    "sumton(3)"
   ]
  },
  {
   "cell_type": "code",
   "execution_count": null,
   "metadata": {},
   "outputs": [],
   "source": [
    "sumton(3.1)"
   ]
  },
  {
   "cell_type": "code",
   "execution_count": null,
   "metadata": {},
   "outputs": [],
   "source": [
    "# a for loop with string inerpolation\n",
    "for j in n\n",
    "    println(\"sum up to j: j = $j; julia gives $(sum(n[1:j])); Euler gives $(sumton(j))\")\n",
    "end"
   ]
  },
  {
   "cell_type": "markdown",
   "metadata": {},
   "source": [
    "## Geometric series\n",
    "Let's make a little function to evaluate the geometric series up to a given polynomial degree $N-1$."
   ]
  },
  {
   "cell_type": "markdown",
   "metadata": {},
   "source": [
    "__Exercise:__ Write a function to sum `N` terms in the geometric series, for input `x`."
   ]
  },
  {
   "cell_type": "code",
   "execution_count": null,
   "metadata": {},
   "outputs": [],
   "source": [
    "# write a function to add up the terms\n",
    "function geometric(x,N)\n",
    "    result = #your code to sum from x^0 up to x^(N-1)\n",
    "    return result\n",
    "end"
   ]
  },
  {
   "cell_type": "markdown",
   "metadata": {},
   "source": [
    "(note we haven't used any type annotations!)"
   ]
  },
  {
   "cell_type": "markdown",
   "metadata": {},
   "source": [
    "and compare with the analytical result:\n",
    "<div class=\"alert alert-block alert-warning\"><font color=blue>\n",
    "$$S_N=\\sum_{k=0}^{N-1}x^k=1+x+x^2+x^3\\dots+x^{N-1}=\\frac{1-x^N}{1-x}$$\n",
    "</font></div>"
   ]
  },
  {
   "cell_type": "code",
   "execution_count": null,
   "metadata": {},
   "outputs": [],
   "source": [
    "geomExact(x,N)=(1-x^N)/(1-x)"
   ]
  },
  {
   "cell_type": "markdown",
   "metadata": {},
   "source": [
    "A note on compilation and evaluation\n",
    " - first call with particular data type triggers $\\julia$ to compile fast code.\n",
    " - all later calls with the same type will get fast execution"
   ]
  },
  {
   "cell_type": "markdown",
   "metadata": {},
   "source": [
    "Let's time the first call:"
   ]
  },
  {
   "cell_type": "code",
   "execution_count": null,
   "metadata": {},
   "outputs": [],
   "source": [
    "@time geometric(.1,1000) #compile"
   ]
  },
  {
   "cell_type": "code",
   "execution_count": null,
   "metadata": {},
   "outputs": [],
   "source": [
    "@time geometric(.1,1000) # ~C speed!"
   ]
  },
  {
   "cell_type": "code",
   "execution_count": null,
   "metadata": {},
   "outputs": [],
   "source": [
    "@btime geometric(.1,1000) # a more reliable measure of timing"
   ]
  },
  {
   "cell_type": "markdown",
   "metadata": {},
   "source": [
    "Our two functions should achieve the same result to numerical precision"
   ]
  },
  {
   "cell_type": "code",
   "execution_count": null,
   "metadata": {},
   "outputs": [],
   "source": [
    "x = 0.97\n",
    "N = 100\n",
    "geometric(x,N),geomExact(x,N)"
   ]
  },
  {
   "cell_type": "markdown",
   "metadata": {},
   "source": [
    "In this example, \"numerical precision\" means about 1e-14 due to accumulated floating point error:"
   ]
  },
  {
   "cell_type": "code",
   "execution_count": null,
   "metadata": {},
   "outputs": [],
   "source": [
    "isapprox(geometric(x,N),geomExact(x,N),atol=1e-14)"
   ]
  },
  {
   "cell_type": "markdown",
   "metadata": {},
   "source": [
    "Notice we can dot some or all of the arguments:"
   ]
  },
  {
   "cell_type": "code",
   "execution_count": null,
   "metadata": {},
   "outputs": [],
   "source": [
    "geometric.([0.1; 0.2; 0.3],100) "
   ]
  },
  {
   "cell_type": "code",
   "execution_count": null,
   "metadata": {},
   "outputs": [],
   "source": [
    "geometric.(0.7,[10 20 30 100]) "
   ]
  },
  {
   "cell_type": "code",
   "execution_count": null,
   "metadata": {},
   "outputs": [],
   "source": [
    "geometric.([0.1; 0.2; 0.7],[3 20 30 100]) "
   ]
  },
  {
   "cell_type": "markdown",
   "metadata": {},
   "source": [
    "# Miltiple dispatch\n",
    "This is really the key language feature the sets $\\julia$ apart from other technical computing languages. \n",
    "- Methods are not owned by classes\n",
    "- Operator overloading is ubiquitous and tied to data type\n",
    "- Types can be extended at will"
   ]
  },
  {
   "cell_type": "code",
   "execution_count": null,
   "metadata": {},
   "outputs": [],
   "source": [
    "methods(*)"
   ]
  },
  {
   "cell_type": "code",
   "execution_count": null,
   "metadata": {},
   "outputs": [],
   "source": [
    "@code_lowered 5*5 #what is high-level julia translated into?"
   ]
  },
  {
   "cell_type": "code",
   "execution_count": null,
   "metadata": {},
   "outputs": [],
   "source": [
    "@code_llvm 5*5 #what does the compiler produce?"
   ]
  },
  {
   "cell_type": "code",
   "execution_count": null,
   "metadata": {},
   "outputs": [],
   "source": [
    "@code_lowered 5*2.1"
   ]
  },
  {
   "cell_type": "code",
   "execution_count": null,
   "metadata": {},
   "outputs": [],
   "source": [
    "@code_llvm 5*2.1"
   ]
  },
  {
   "cell_type": "code",
   "execution_count": null,
   "metadata": {},
   "outputs": [],
   "source": [
    "#multiply two integers\n",
    "@btime 5*5"
   ]
  },
  {
   "cell_type": "code",
   "execution_count": null,
   "metadata": {},
   "outputs": [],
   "source": [
    "#multiply a float and an integer\n",
    "@btime 5*2.1"
   ]
  },
  {
   "cell_type": "markdown",
   "metadata": {},
   "source": [
    "Is float multiplication really that much slower?"
   ]
  },
  {
   "cell_type": "code",
   "execution_count": null,
   "metadata": {},
   "outputs": [],
   "source": [
    "#multiply two floats\n",
    "@btime 5.0*2.1"
   ]
  },
  {
   "cell_type": "markdown",
   "metadata": {},
   "source": [
    "These timing comparisons and code principles apply across the enirety of $\\julia$: "
   ]
  },
  {
   "cell_type": "markdown",
   "metadata": {},
   "source": [
    "<div class=\"alert alert-block alert-warning\"><font color=blue>\n",
    "You are both free to create without concern for data types, and free to optimize so that efficient code is written for you by the compiler once your code is type stable.\n",
    "    </font></div>    \n",
    "    \n",
    "- Note 90\\% of $\\julia$ is written in $\\julia$: the core of julia is setting up a composable type system and multiple dispatch structure for methods. All data types and methods that act on therm are build with the same core language that you are free to extend as you wish!\n",
    "\n",
    "- This is one of the main reasons developers enjoy $\\julia$. \n",
    "\n",
    "- For users: come for the speed, stay for the productivity!"
   ]
  },
  {
   "cell_type": "markdown",
   "metadata": {},
   "source": [
    "# Array comprehension\n",
    "Julia has absorbed many nice language features that have emerged in different contexts. For example the array comprehension, a nice natural language syntax for building complex arrays of arbitrary size, element by element. (a little slow to evaluate, but clear and easy to write!)"
   ]
  },
  {
   "cell_type": "code",
   "execution_count": null,
   "metadata": {},
   "outputs": [],
   "source": [
    "B = [i*j^2 for i in 1:5, j in 1:4, k in 1:3]"
   ]
  },
  {
   "cell_type": "code",
   "execution_count": null,
   "metadata": {},
   "outputs": [],
   "source": [
    "truthTable = [i*j for i in [true; false], j in [true; false]]"
   ]
  },
  {
   "cell_type": "code",
   "execution_count": null,
   "metadata": {},
   "outputs": [],
   "source": [
    "⊗=kron"
   ]
  },
  {
   "cell_type": "code",
   "execution_count": null,
   "metadata": {},
   "outputs": [],
   "source": [
    "using LinearAlgebra"
   ]
  },
  {
   "cell_type": "code",
   "execution_count": null,
   "metadata": {},
   "outputs": [],
   "source": [
    "a = randn(3,3)\n",
    "b = one(randn(2,2))"
   ]
  },
  {
   "cell_type": "code",
   "execution_count": null,
   "metadata": {},
   "outputs": [],
   "source": [
    "a⊗b"
   ]
  },
  {
   "cell_type": "code",
   "execution_count": null,
   "metadata": {},
   "outputs": [],
   "source": [
    "b⊗a"
   ]
  },
  {
   "cell_type": "markdown",
   "metadata": {},
   "source": [
    "More introductory topics to explore:\n",
    "- [Conditional evaluation; ternary operator](https://docs.julialang.org/en/v1/manual/control-flow/#man-conditional-evaluation-1)\n",
    "- [Mathematical operators](https://docs.julialang.org/en/v1/base/math/#math-ops-1)"
   ]
  },
  {
   "cell_type": "markdown",
   "metadata": {},
   "source": [
    "More packages to explore:\n",
    " - [DynamicalSystems](https://github.com/JuliaDynamics/DynamicalSystems.jl)\n",
    " - [QuantumOptics](https://github.com/qojulia/QuantumOptics.jl)\n",
    " - [SymPy](https://github.com/JuliaPy/SymPy.jl)\n",
    " - [PGFPlots](https://github.com/JuliaTeX/PGFPlots.jl)"
   ]
  },
  {
   "cell_type": "markdown",
   "metadata": {},
   "source": [
    " ## Juno\n",
    " - Integrated Development Environment based on the wonderful open-source editor [Atom](https://atom.io/).\n",
    " - Great once you get into writing a sizeable amount of code.\n",
    " - Line by line evaluation, plotting, workspace, documentation browser, GitHub integration, etc. "
   ]
  },
  {
   "attachments": {},
   "cell_type": "markdown",
   "metadata": {},
   "source": [
    "<img src=\"media/juno.png\" width=\"600\">"
   ]
  },
  {
   "cell_type": "markdown",
   "metadata": {},
   "source": [
    "# Wiener process\n",
    "The _Wiener process_ $W(t)$, depending continuously on $t\\in[0,T]$, has the following defining properties:\n",
    "1. $W(0)=0$ (with probability 1).\n",
    "2. For $0\\leq s<t\\leq T$ the random variable given by the increment $W(t)-W(0)$ is normally distributed with mean zero and variance $t-s$. \n",
    "3. For $0\\leq s<t<u<v\\leq T$ the increments $W(t)-W(s)$ and $W(v)-W(u)$ are independent. \n",
    "\n",
    "Property 2 is the statement that the Wiener process can be described by a normal random variable:\n",
    "\n",
    ">$W(t)-W(s)\\sim \\sqrt{t-s}N(0,1)$, where $N(0,1)$ is a scaled Gaussian random variable with mean zero and unit variance. In $\\julia$ this is `randn()`.\n",
    "\n",
    "Property 3 is the statement that the Wiener process is a _Markov process_ (memoryless).\n",
    "\n",
    "The Wiener process is often referred to as simply ___Brownian motion___ since it is the fundamental process governing Brownian motion as derived by Einstein, with diffusion coefficient $D\\equiv 1$."
   ]
  },
  {
   "cell_type": "markdown",
   "metadata": {},
   "source": [
    "# Computational Wiener process\n",
    "On a computer we always deal with discretizations. The discretized Brownian motion is equivalent to a set of samples from `randn()` "
   ]
  },
  {
   "cell_type": "code",
   "execution_count": null,
   "metadata": {},
   "outputs": [],
   "source": [
    "using Statistics, Plots, LaTeXStrings, Revise"
   ]
  },
  {
   "cell_type": "code",
   "execution_count": null,
   "metadata": {},
   "outputs": [],
   "source": [
    "linspace(a,b,n) =  LinRange(a,b,n) |> collect #linspace is worth having"
   ]
  },
  {
   "cell_type": "code",
   "execution_count": null,
   "metadata": {},
   "outputs": [],
   "source": [
    "randn() # part of base julia"
   ]
  },
  {
   "cell_type": "code",
   "execution_count": null,
   "metadata": {},
   "outputs": [],
   "source": [
    "N = 3000\n",
    "x = randn(N)\n",
    "n = 1:N |> collect # convert a range object to a vector\n",
    "plot(n,x,seriestype=:scatter,ms=.5,size=(700,150),legend=false)\n",
    "title!(\"$N samples drawn from N(0,1)\")"
   ]
  },
  {
   "cell_type": "code",
   "execution_count": null,
   "metadata": {},
   "outputs": [],
   "source": [
    "mean(x),var(x) # from the Statistics package"
   ]
  },
  {
   "cell_type": "code",
   "execution_count": null,
   "metadata": {},
   "outputs": [],
   "source": [
    "T = 1; N = 500; dt = T/N\n",
    "t = linspace(0,T,N+1)\n",
    "W = zeros(N)\n",
    "dW = sqrt(dt)*randn(N); #all independent"
   ]
  },
  {
   "cell_type": "code",
   "execution_count": null,
   "metadata": {},
   "outputs": [],
   "source": [
    "mean(dW), var(dW), dt, length(t)"
   ]
  },
  {
   "cell_type": "markdown",
   "metadata": {},
   "source": [
    "We single the initial condition out as a special point with index $j=0$, and use the discretized definition\n",
    "\n",
    "$ W_j\\equiv W_{j-1} + dW_j$\n",
    "\n",
    "with $j=1,2,..., N$. This choice is consistent with julia's \"1-indexing\" of arrays."
   ]
  },
  {
   "cell_type": "code",
   "execution_count": null,
   "metadata": {},
   "outputs": [],
   "source": [
    "W[1] = dW[1] \n",
    "for j in 2:N \n",
    "    W[j] = W[j-1] + dW[j]\n",
    "end\n",
    "W = [0.0; W]; # careful here! - in jupyter we can do out of order execution"
   ]
  },
  {
   "cell_type": "code",
   "execution_count": null,
   "metadata": {},
   "outputs": [],
   "source": [
    "mean(W), length(W)"
   ]
  },
  {
   "cell_type": "code",
   "execution_count": null,
   "metadata": {},
   "outputs": [],
   "source": [
    "dt = T/N\n",
    "plot(t,W,legend=false)\n",
    "xlabel!(\"t\");ylabel!(\"W(t)\")"
   ]
  },
  {
   "cell_type": "markdown",
   "metadata": {},
   "source": [
    "Let's deal with the sampling and initial condition inside a single function that samples one path, for `N` steps. \n",
    "\n",
    "We can also easily add a short documentation string to explain the function. This gives an example of documentation conventions and notation."
   ]
  },
  {
   "cell_type": "code",
   "execution_count": null,
   "metadata": {},
   "outputs": [],
   "source": [
    "\"\"\"\n",
    "`t,dW,W = wienerpath(N,T)`\n",
    "\n",
    "Sample a path of the Wiener process over time interval `[0,T]` for `N` increments `dW` and initial condition `W(t=0)=W[1]=0.0`. \n",
    "\n",
    "Outputs:\n",
    "\n",
    "- `t` time vector, of length `N+1`\n",
    "- `dW` vector of increments, of length `N`\n",
    "- `W` vector of `W[j]` at time points `t=t_j` with `j=1,2,...,N` corresponding to increments. The initial value is included, giving a vector of length `N+1`.\n",
    "\"\"\"\n",
    "function wienerpath(N,T)\n",
    "    dt = T/N\n",
    "    t = 0:dt:T |> collect\n",
    "    dW = sqrt(dt)*randn(N)\n",
    "    W = cumsum(dW)\n",
    "    W = [0.0;W]\n",
    "    return t,dW,W\n",
    "end"
   ]
  },
  {
   "cell_type": "markdown",
   "metadata": {},
   "source": [
    "The function is now part of our current julia session, and the documentation is also part of julia:"
   ]
  },
  {
   "cell_type": "code",
   "execution_count": null,
   "metadata": {},
   "outputs": [],
   "source": [
    "?wienerpath"
   ]
  },
  {
   "cell_type": "code",
   "execution_count": null,
   "metadata": {},
   "outputs": [],
   "source": [
    "N = 500\n",
    "t,dW,W = wienerpath(N,1)\n",
    "p1=plot(t,W,size=(500,300),legend=false,grid=false)\n",
    "plot!(t,sqrt.(2t),linewidth=1,c=:black)\n",
    "plot!(t,-sqrt.(2t),linewidth=1,c=:black)\n",
    "ylims!(-3,3)\n",
    "xlabel!(\"t\");ylabel!(\"W(t)\")"
   ]
  },
  {
   "cell_type": "code",
   "execution_count": null,
   "metadata": {},
   "outputs": [],
   "source": [
    "Np = 200\n",
    "for j = 1:Np\n",
    "    t,dW,W = wienerpath(N,1)\n",
    "    plot!(p1,t,W,legend=false)\n",
    "end\n",
    "plot!(t,sqrt.(2t),linewidth=1,c=:black)\n",
    "plot!(t,-sqrt.(2t),linewidth=1,c=:black)\n",
    "title!(L\"\\Delta W(t)\\sim\\sqrt{2t}\\;\\; \\textrm{spreading of sample paths}\")"
   ]
  },
  {
   "cell_type": "markdown",
   "metadata": {},
   "source": [
    "Make a simple animated `gif` in `Plots.jl`"
   ]
  },
  {
   "cell_type": "code",
   "execution_count": null,
   "metadata": {},
   "outputs": [],
   "source": [
    "anim = @animate for i=1:150\n",
    "t,dW,W = wienerpath(N,1)\n",
    "plot!(p1,t,W)\n",
    "end\n",
    "\n",
    "gif(anim,\"wpaths.gif\", fps = 12)"
   ]
  },
  {
   "cell_type": "markdown",
   "metadata": {},
   "source": [
    "# FPE solution for Brownian motion"
   ]
  },
  {
   "cell_type": "markdown",
   "metadata": {},
   "source": [
    "The diffusion equation\n",
    "\n",
    "$$\\frac{\\partial p(x,t|0,0)}{\\partial t}=\\frac{1}{2}\\frac{\\partial^2p(x,t|0,0)}{\\partial x^2}$$\n",
    "\n",
    "with ideally localized initial condition $p(x,t=0|0,0) = n\\delta(x)$ has solution\n",
    "\n",
    "$$p(x,t|0,0)=\\frac{n}{\\sqrt{2\\pi t}}e^{-x^2/2t}$$"
   ]
  },
  {
   "cell_type": "code",
   "execution_count": null,
   "metadata": {},
   "outputs": [],
   "source": [
    "p(x,t) = exp(-x^2/(2t))/sqrt(2π*t) #scalar definition"
   ]
  },
  {
   "cell_type": "code",
   "execution_count": null,
   "metadata": {},
   "outputs": [],
   "source": [
    "y = linspace(-2,2,500)\n",
    "heatmap(t,y,p.(y,t'),size=(600,200),transpose=false) # broadcast\n",
    "plot!(t,sqrt.(2t),linewidth=1,c=:white,legend=false)\n",
    "plot!(t,-sqrt.(2t),linewidth=1,c=:white)\n",
    "xlims!(0,.5);ylims!(-2,2)"
   ]
  },
  {
   "cell_type": "code",
   "execution_count": null,
   "metadata": {},
   "outputs": [],
   "source": [
    "# another plot example\n",
    "p1=surface(t,y,p.(y,t'),color = :rainbow)\n",
    "plot!(p1, camera=(40, 40),grid=true)"
   ]
  },
  {
   "cell_type": "markdown",
   "metadata": {},
   "source": [
    "# Ensemble average\n",
    "Let's compute a simple stochastic average over our Wiener increments. \n",
    "\n",
    "We can graph the sample average for a set of sample paths of the Wiener process. \n",
    "\n",
    "- We show the average, and a few sample paths, of the function $f(t)=e^{t+W(t)/2}$. \n",
    "- The known analytic result for the mean is $\\langle f(t)\\rangle =e^{9t/8}$."
   ]
  },
  {
   "cell_type": "code",
   "execution_count": null,
   "metadata": {},
   "outputs": [],
   "source": [
    "T = 1; N = 500; dt = T/N \n",
    "t = linspace(0,T,N+1)\n",
    "Np = 1000\n",
    "dW = sqrt(dt)*randn(N,Np)\n",
    "W = cumsum(dW,dims=1)\n",
    "W = [zeros(1,Np); W]\n",
    "U = @. exp(t + 0.5*W) # broadcast (!!)\n",
    "Ū = mean(U,dims=2) # path average at each time\n",
    "plot(t,U[:,1:3],s=:dot,size=(500,300)) # show a few paths\n",
    "plot!(t,Ū,w=8,c=:lightgrey,label=\"mean of $Np paths\",legend=:topleft)\n",
    "plot!(t,exp.(9t/8),w=2,c=:blue,label=L\"e^{9t/8}\\;\\;\\textrm{(analytic)}\")\n",
    "xlabel!(\"t\");ylabel!(\"W(t)\")\n",
    "title!(L\"\\langle e^{t+W(t)/2}\\rangle\")"
   ]
  },
  {
   "cell_type": "markdown",
   "metadata": {},
   "source": [
    "# Theorem\n",
    "If $u$ is a Gaussian variable with mean $\\langle u\\rangle =0$ and variance $\\langle u^2\\rangle=\\sigma^2$, then \n",
    "\n",
    "$$ \\langle e^{\\alpha u}\\rangle = e^{\\alpha^2\\sigma^2/2}$$"
   ]
  },
  {
   "cell_type": "markdown",
   "metadata": {},
   "source": [
    "__Exercise:__ use this to prove the analytic result for $\\langle f(t)\\rangle$ given above."
   ]
  },
  {
   "cell_type": "markdown",
   "metadata": {},
   "source": [
    "# Workshop 2\n",
    "- Introduction to ODE's and SDE's in $\\julia$ using `DifferentialEquations.jl`"
   ]
  },
  {
   "cell_type": "code",
   "execution_count": null,
   "metadata": {},
   "outputs": [],
   "source": []
  }
 ],
 "metadata": {
  "kernelspec": {
   "display_name": "Julia 1.0.3",
   "language": "julia",
   "name": "julia-1.0"
  },
  "language_info": {
   "file_extension": ".jl",
   "mimetype": "application/julia",
   "name": "julia",
   "version": "1.0.3"
  }
 },
 "nbformat": 4,
 "nbformat_minor": 2
}
