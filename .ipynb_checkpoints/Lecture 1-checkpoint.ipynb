{
 "cells": [
  {
   "cell_type": "markdown",
   "metadata": {},
   "source": [
    "# Stochastic Differential Equations, Quantum Phase Space, and Julia \n",
    "\n",
    "$$\n",
    "\\def\\julia{\\texttt{julia}}\n",
    "\\def\\dashint{{\\int\\!\\!\\!\\!\\!\\!-\\,}}\n",
    "\\def\\infdashint{\\dashint_{\\!\\!\\!-\\infty}^{\\,\\infty}}\n",
    "\\def\\D{\\,{\\rm d}}\n",
    "\\def\\E{{\\rm e}}\n",
    "\\def\\dx{\\D x}\n",
    "\\def\\dt{\\D t}\n",
    "\\def\\dz{\\D z}\n",
    "\\def\\C{{\\mathbb C}}\n",
    "\\def\\R{{\\mathbb R}}\n",
    "\\def\\CC{{\\cal C}}\n",
    "\\def\\HH{{\\cal H}}\n",
    "\\def\\I{{\\rm i}}\n",
    "\\def\\qqqquad{\\qquad\\qquad}\n",
    "\\def\\qqfor{\\qquad\\hbox{for}\\qquad}\n",
    "\\def\\qqwhere{\\qquad\\hbox{where}\\qquad}\n",
    "\\def\\Res_#1{\\underset{#1}{\\rm Res}}\\,\n",
    "\\def\\sech{{\\rm sech}\\,}\n",
    "\\def\\vc#1{{\\mathbf #1}}\n",
    "$$\n",
    "\n",
    "Dr. Ashton Bradley\n",
    "<br>\n",
    "ashton.bradley@otago.ac.nz\n",
    "<br>\n",
    "http://amoqt.otago.ac.nz"
   ]
  },
  {
   "cell_type": "markdown",
   "metadata": {},
   "source": [
    "These lectures present an introduction to three related topics:\n",
    "\n",
    "- _Quantum Phase Space_, where properties of a class of quantum dynamics problems are exploited to develop efficient means of solution using\n",
    "- _Stochastic Differential Equations_, the numerical and mathematical framework underpinning the rigorous study of stochastic processes. We will use state of the art numerical solvers now available in\n",
    "- $\\julia$, a new language for high-performance technical computing. Solves the two-language problem."
   ]
  },
  {
   "cell_type": "markdown",
   "metadata": {},
   "source": [
    "# Topics\n",
    "\n",
    "## Lecture 1 (50 mins)\n",
    "- General overview: Quantum Optics and BEC\n",
    "- Introduction to stochastic processes: Einstein, Langevin\n",
    "- Wiener process: the fundamental Gaussian, Markov noise\n",
    "\n",
    "## Lecture 2 (50 mins)\n",
    "- Stochastic integration\n",
    "- Stochastic differential equations (SDE's): conceptual\n",
    "- Quantum phase space: conceptual\n",
    "\n",
    "## Workshop 1 (1.5 hours)\n",
    "- Introduction to Julia\n",
    "- Computational Wiener process: Wiener increments\n",
    "- Intro to SDE's (numerical)\n",
    "\n",
    "## Workshop 2 (1 hour)\n",
    "- Stochastic integration: Ito and Stratonovich\n",
    "- Convergence: Weak and Strong\n",
    "\n",
    "## Workshop 3 (1 hour)\n",
    "- Quantum phase space \n",
    "- Quantum applications"
   ]
  },
  {
   "cell_type": "markdown",
   "metadata": {},
   "source": [
    "\n",
    "\n",
    "## Lecture 1: Introduction to stochastic differential equations\n",
    "Mathematical formalism of SDE's. \n",
    "\n",
    "- Motivation: open quantum systems\n",
    "- History: Einstein and Langevin\n",
    "- The Wiener process\n",
    "\n",
    "References\n",
    "\n",
    "- Chapter 4 of _Stochastic Methods - a Handbook for the Natural and Social Sciences_, C. W. Gardiner, [4-th edition, Springer, Berlin (2009)](https://www.springer.com/gp/book/9783540707127) \n",
    "- _An algorithmic introduction to numerical simulation of stochastic differential equations_, D. J. Higham, [SIAM Review, __43__, 525-546 (2001)](https://epubs.siam.org/doi/abs/10.1137/S0036144500378302)\n",
    "- _The Quantum World of Ultracold Atoms and Light: Book I: Foundations of Quantum Optics_, C. W. Gardiner and P. Zoller, [Imperial College Press, London (2014)](https://www.worldscientific.com/worldscibooks/10.1142/p941)\n",
    "\n",
    "<img src=\"media/qw1.png\" width=\"200\">"
   ]
  },
  {
   "cell_type": "markdown",
   "metadata": {},
   "source": [
    "# Dynamics: ODE's and PDE's\n",
    "We are all familiar with solving ODE's and PDE's to understand physical problems. A lot of our progress in understanding observations of nature can be traced to this process. \n",
    "\n",
    "<div class=\"alert alert-block alert-warning\"><font color=blue>\n",
    "\\begin{align}\n",
    "    \\frac{\\partial L}{\\partial q_i}&=\\frac{d}{dt}\\left(\\frac{\\partial L}{\\partial \\dot{q}_i}\\right)\\tag{CM}\\\\\n",
    "\\frac{1}{c^2}\\frac{\\partial^2 u}{\\partial t^2}&=\\nabla^2 u \\tag{Waves}\\\\\n",
    "\\frac{\\partial u}{\\partial t}&=\\kappa\\nabla^2 u\\tag{Heat}\\\\\n",
    "        G_{\\mu\\nu}+\\Lambda g_{\\mu\\nu}&=8\\pi T_{\\mu\\nu}\\tag{Spacetime}\n",
    "\\end{align}\n",
    "    </font></div>"
   ]
  },
  {
   "cell_type": "markdown",
   "metadata": {},
   "source": [
    "## ANZSUP15\n",
    "<img src=\"media/history.png\" width=\"800\">"
   ]
  },
  {
   "cell_type": "markdown",
   "metadata": {},
   "source": [
    "# Quantum optics\n",
    "- Clear separation between system and reservoir\n",
    "- Quantitative open systems theory\n",
    "- ___Dynamical___ theory of system reservoir interactions\n",
    "\n",
    "<img src=\"media/sys-resSmall.png\" width=\"300\">"
   ]
  },
  {
   "cell_type": "markdown",
   "metadata": {},
   "source": [
    "# Ultra-cold gases\n",
    "\n",
    "- Pristine quantum many-body systems\n",
    "- Quantum and thermal fluctuations both important\n",
    "- System/reservoir boundary is much less clear!\n",
    "\n",
    "$^{87}$Rb BEC forming at Otago (Kjaergaard Light and Matter Lab)\n",
    "<img src=\"media/BECOtago5.png\" width=\"600\">"
   ]
  },
  {
   "cell_type": "markdown",
   "metadata": {},
   "source": [
    "## Rotating thermal cloud\n",
    "\n",
    "[BEC at MIT](http://www.rle.mit.edu/cua_pub/ketterle_group/Nice_pics.htm):\n",
    "<img src=\"media/MITvortlattices.jpg\" width=\"500\">"
   ]
  },
  {
   "cell_type": "markdown",
   "metadata": {},
   "source": [
    "# Dark soliton in trapped BEC\n",
    "Gross Pitaevskii equation\n",
    "\n",
    "<div class=\"alert alert-block alert-warning\"><font color=blue>\n",
    "\\begin{align}\n",
    "i\\hbar\\frac{\\partial \\psi}{\\partial t}&=\\left(-\\frac{\\hbar^2\\nabla^2}{2m}+V(\\mathbf{r})+g|\\psi|^2\\right)\\psi\\equiv L\\psi\\tag{Matter waves}\n",
    "\\end{align}\n",
    "</font></div>\n",
    "    \n",
    "where $g=4\\pi\\hbar^2 a/m$ is the s-wave interaction strength.\n",
    "\n",
    "Let's take a 1D example, harmonically trapped.\n",
    "- Dark soliton is a metastable excitation of the GPE\n",
    "- Any small dissipation will cause eventual decay"
   ]
  },
  {
   "cell_type": "markdown",
   "metadata": {},
   "source": [
    "<img src=\"media/darksoliton.gif\" width=\"400\">"
   ]
  },
  {
   "cell_type": "markdown",
   "metadata": {},
   "source": [
    "# Dissipative Dynamics: imaginary time\n",
    "- As a prelude to the full SDE description of open systems, we should first discuss damped evolution _without_ noise. \n",
    "- The general problem we face is the description of a subsystem immersed in an _environment_.\n",
    "- A first attempt at modelling dissipation can be established by simply replacing\n",
    "\n",
    "\\begin{align}\n",
    "L&\\longrightarrow L-\\mu\\tag{reservoir frame}\\\\\n",
    "t&\\longrightarrow (1-i\\gamma)t\\tag{$\\gamma\\ll 1$}\n",
    "\\end{align}\n",
    "giving \n",
    "\n",
    "<div class=\"alert alert-block alert-warning\">\n",
    "<font color=blue>\n",
    "$$i\\hbar\\frac{\\partial \\psi}{\\partial t}=(1-i\\gamma)(L-\\mu)\\tag{damped GPE}$$\n",
    "    </font></div>\n",
    "    \n",
    "<img src=\"media/darksolitondecay.gif\" width=\"400\">\n",
    "\n",
    "So, where are the fluctuations??"
   ]
  },
  {
   "cell_type": "markdown",
   "metadata": {},
   "source": [
    "# Stochastic Dynamics: SDE's\n",
    "The description of any system coupled to an environment will lead naturally to a stochastic differential equation containing both _damping_ and _noise_ terms. \n",
    "\n",
    "The system-environment coupling introduces irreversible processes inherent in statistical mechanics. \n",
    "\n",
    "Even at absolute zero temperature, quantum vacuum fluctuations often play the role of an environment. Another obvioius manifestation of environmental quantum noise is the spontaneous emission of a two-level atom. "
   ]
  },
  {
   "cell_type": "markdown",
   "metadata": {},
   "source": [
    "<img src=\"media/reservoir.png\" width=\"600\">"
   ]
  },
  {
   "cell_type": "markdown",
   "metadata": {},
   "source": [
    "# Stochastic differential equations\n",
    "Physical motivation and mathematical formalism of SDE's. This lecture will borrow heavily from ___the Gardiner book:___\n",
    "\n",
    "> Suppose your house is on fire, and you only have time to rescue a single item from the blazing inferno. What item would you choose to save? A Dutch mathematics professor—happily married, with children—instantly replied: ‘‘I would rescue the Gardiner book!’’. This anecdote illustrates at least two points. The first point is that the book by Crispin Gardiner (2004), ‘‘Handbook of Stochastic Methods’’ is a classic text on stochastic differential equations (SDEs). The second point is that the mathematics professor was probably unaware that the out-of-print 1985 edition has been followed up by a 1997 edition, and, most recently, a 2004 edition.\n",
    "\n",
    "[From online review](https://pdfs.semanticscholar.org/111f/4edebd24439f82a431e4302de897ad3a854a.pdf)"
   ]
  },
  {
   "cell_type": "markdown",
   "metadata": {},
   "source": [
    "# History: Brownian motion\n",
    "Brownian motion was first identified in 1827 by [Robert Brown](https://en.wikipedia.org/wiki/Brownian_motion)\n",
    "- Brown observed random jostling of pollen particles in water under a microscope.\n",
    "- There was speculation that the jostling could be due to the motion of living creatures.\n",
    "- Observed to undergo 'random' displacements (due to collisions with water molecules)\n",
    "- ___Einstein___ showed that this process could be analysed statistically, and derived a _diffusion equation_ governing the time-evolution of the distribution describing the pollen grain's position. The motion was shown to be of _thermal_ origin.\n",
    "\n",
    "The success of Einstein's explanation was interpreted as giving direct microscopic evidence for the existence of ___atoms___. \n",
    "\n",
    "<div class=\"alert alert-block alert-warning\">\n",
    "<font color=blue>\n",
    "\n",
    "<img src=\"media/Brownian_motion_large.gif\" width=\"200\">\n",
    "\n",
    "By <a href=\"//commons.wikimedia.org/w/index.php?title=User:Lookang&amp;action=edit&amp;redlink=1\" class=\"new\" title=\"User:Lookang (page does not exist)\">Lookang</a> Author of computer model: Francisco Esquembre, Fu-Kwun and lookang - <span class=\"int-own-work\" lang=\"en\">Own work</span>, <a href=\"https://creativecommons.org/licenses/by-sa/3.0\" title=\"Creative Commons Attribution-Share Alike 3.0\">CC BY-SA 3.0</a>, <a href=\"https://commons.wikimedia.org/w/index.php?curid=19140345\">Link</a>\n",
    "        </font>\n",
    "    </div>\n",
    "    \n"
   ]
  },
  {
   "cell_type": "markdown",
   "metadata": {},
   "source": [
    "# Fokker-Planck Equation\n",
    "Given a collection of $n$ Brownian particles immersed in a thermally activated fluid, described by distribution $P(x,t)$ such that\n",
    "\n",
    "$$\\int_{-\\infty}^\\infty dx\\; P(x,t)=n,$$\n",
    "\n",
    "Einstein showed that under particular assumptions of regularity, the equation of motion for the ___Brownian particle distribution___ can be approximated as\n",
    "\n",
    "<div class=\"alert alert-block alert-warning\"><font color=blue>\n",
    "$$\\frac{\\partial P}{\\partial t}=D\\frac{\\partial^2 P}{\\partial x^2}\\tag{Fokker-Planck equation}$$\n",
    " </font></div>\n",
    " \n",
    "where $D$ is called the diffusion coefficient; the value of $D$ depends upon the microscopic physical processes giving rise to random forces. In general, FPE has form\n",
    "\n",
    "$$\\frac{\\partial P(x,t)}{\\partial t}=\\underbrace{-\\frac{\\partial }{\\partial x}(A(x,t)P(x,t))}_{\\textrm{Drift}} + \\underbrace{\\frac{1}{2}\\frac{\\partial^2}{\\partial x^2}(D(x,t)P(x,t))}_{\\textrm{Diffusion}}.$$\n",
    "\n",
    "In multivariable systems, $A$ becomes a drift ___vector___ and $D$ a diffusion ___matrix___."
   ]
  },
  {
   "cell_type": "markdown",
   "metadata": {},
   "source": [
    "## Example: Spreading of a localized droplet\n",
    "If we introduce a concentrated droplet of dye into the fluid, modelled as the localized initial condition\n",
    "\n",
    "$$P(x,0)=n\\delta(x),$$\n",
    "\n",
    "the exact solution is (Fourier transfrom the FPE)\n",
    "\n",
    "<div class=\"alert alert-block alert-warning\"><font color=blue>\n",
    "$$P(x,t)=\\frac{n}{\\sqrt{4\\pi D t}}e^{-x^2/4Dt},$$\n",
    " </font></div>\n",
    " \n",
    "describing a spreading distribution caused by the random jostling, with spatial variance\n",
    "\n",
    "$$\\langle x^2\\rangle=\\int dx\\;P(x,t)x^2 = 2Dt.$$\n",
    "\n",
    "The rms spatial extent of the droplet $\\lambda_x=\\sqrt{\\langle x^2\\rangle}\\sim \\sqrt{t}$ exhibits the characteristic _diffusive_ scaling with time.\n",
    "\n",
    "- Although the precise path of each particle remains unknown, we know the exact distribution over space and time\n",
    "- In quantum mechanics, an analogous development may be made for quantum phase space distributions. "
   ]
  },
  {
   "cell_type": "markdown",
   "metadata": {},
   "source": [
    "# Langevin\n",
    "A complimentary approach to Einstein's, with more direct microscipic construction of the dynamics: \n",
    "\n",
    "> \"... _infiniment plus simple_\" than Einstein's treatment. [Langevin] \n",
    "\n",
    "Our aim in these lectures is to show how one can combine the two approaches in the context of quantum mechanics to develop a tractable approach for solving many body quantum dynamics; the approach is also well suited to revealing semi-classical approximations and analytical insights. "
   ]
  },
  {
   "cell_type": "markdown",
   "metadata": {},
   "source": [
    "## Langevin equation\n",
    "- Consider motion of a particle in the fluid\n",
    "- Viscous drag + fluctuating force due to thermal impacts by fluid molecules.\n",
    "\n",
    "### Newton's second law\n",
    "The particle velocity $u(t)$ is assumed to be governed by a naive form of stochastic differential equation \n",
    "\n",
    "<div class=\"alert alert-block alert-warning\">\n",
    "<font color=blue>\n",
    "$$\\frac{du}{dt}=-\\gamma u + \\sqrt{f}\\xi(t),$$\n",
    "    </font>\n",
    "    </div>\n",
    "    \n",
    "where \n",
    "\n",
    "- $\\gamma$ is the friction coefficient of the system, which is related to $D$ (we will see how). \n",
    "\n",
    "- For a sphere of radius $a$, mass $m$, in fluid of viscousity $\\eta$\n",
    "$$\\gamma=\\frac{6\\pi\\eta a}{m}$$\n",
    "- $\\sqrt{f}\\xi(t)$ describes random forces (assumed rapidly fluctuating). \n",
    "- The force is assumed to have the statistical properties \n",
    "\n",
    "<div class=\"alert alert-block alert-warning\">\n",
    "<font color=blue>\n",
    "$$\\langle \\xi(t)\\rangle = 0$$\n",
    "$$\\langle \\xi(t)\\xi(t')\\rangle=\\delta(t-t'),$$\n",
    "    </font></div>"
   ]
  },
  {
   "cell_type": "markdown",
   "metadata": {},
   "source": [
    "namely, that on average the force vanishes, and that the forces at different times are statistically independent. At this point the force strength $f$ is ___unknown___; it turns out to be closely related to $\\gamma$, and we will see how to deduce it later (if you find the pathology at $t\\to t'$ physically troubling, you are not alone!)."
   ]
  },
  {
   "cell_type": "markdown",
   "metadata": {},
   "source": [
    "### Formal solution\n",
    "We can find the formal solution of the Langevin equation as \n",
    "\n",
    "<div class=\"alert alert-block alert-warning\">\n",
    "<font color=blue>\n",
    "$$ u(t) = u(0)e^{-\\gamma t} + \\sqrt{f}\\int_0^t dt'\\;e^{-\\gamma(t-t')}\\xi(t'),$$\n",
    "    </font>\n",
    "    </div>\n",
    "which turns out to be quite useful, despite the aforementioned issues. \n",
    "\n",
    "Before proceeding we emphasize that later we will introduce a rigorous formulation of the SDE that will calrify the nature of the force, and leads to the notion of ___Ito calculus___. For now, we simply use the statistical properties of the noise, and see what can be deduced.\n",
    "\n",
    "The mean velocity is simply $\\langle u(t)\\rangle = u(0)e^{-\\gamma t},$\n",
    "\n",
    "and the viscosity damps away the initial flow."
   ]
  },
  {
   "cell_type": "markdown",
   "metadata": {},
   "source": [
    "The variance $\\langle [u(t)- u(0)e^{-\\gamma t}]^2\\rangle = [1-e^{-2\\gamma t}]f/2\\gamma$ (show this!) gives us the result \n",
    "\n",
    "$$\\langle u(t)^2\\rangle = u(0)^2e^{-2\\gamma t}+\\frac{f}{2\\gamma}[1-e^{-2\\gamma t}]$$\n",
    "\n",
    "### Steady state\n",
    "The physically crucial observation is that the steady state should satisfy the equipartition theorem. For times $t\\gg 1/\\gamma$, we impose the steady-state constraint\n",
    "\n",
    "$$\\langle u(t)^2\\rangle_s\\longrightarrow\\frac{f}{2\\gamma}=\\frac{k_BT}{2}$$\n",
    "\n",
    "and hence\n",
    "\n",
    "<div class=\"alert alert-block alert-warning\">\n",
    "<font color=blue>\n",
    "$$ f=\\frac{2\\gamma k_B T}{m}$$\n",
    "    </font></div>\n",
    "    \n",
    "This is an example of the ___fluctuation-dissipation theorem:___\n",
    "\n",
    "- The fluctuation amplitude $\\sqrt{f}$ is related to the dissipatation rate $\\gamma$. \n",
    "- They are connected by the absolute temperature, and the particle's inertia.\n",
    "- Importantly, this choice means that the steady state is ___independent___ for the precise value of $\\gamma$. Such independence must hold for a steady state described by statistical mechanics. \n",
    "- E.g. - the canonical ensemble only depends on the reservoir temperature, not on the details of the coupling between system and reservoir. \n",
    "- Microscopic theory of system-reservoir interactions can be developed that __rigorously confirms this relationship__. "
   ]
  },
  {
   "cell_type": "markdown",
   "metadata": {},
   "source": [
    "### Exercise\n",
    "We can find the spreading of the Langevin paths in space from $x(t)=\\int_0^t u(t')dt'$.\n",
    "\n",
    "a. Show that $\\langle x(t)\\rangle = \\frac{u(0)}{\\gamma}(1-e^{-\\gamma t})$.\n",
    "\n",
    "b. Using $\\alpha(s)\\equiv\\sqrt{f}\\int_0^s dt\\; e^{-\\gamma(s-t)}\\xi(t)$, show that $g(s,s')\\equiv\\langle \\alpha(s)\\alpha(s')\\rangle$ is\n",
    "\n",
    "$$g(s,s')=\\frac{f}{2\\gamma}e^{-\\gamma(s+s')}\\left[e^{2\\gamma\\textrm{min}(s,s')}-1\\right]=\\frac{f}{2\\gamma}\\left[e^{-\\gamma|s-s'|}-e^{-\\gamma(s+s')}\\right]$$\n",
    "\n",
    "c. Hence show that\n",
    "\n",
    "$$\n",
    "\\langle [x(t)-\\langle x(t)\\rangle]^2\\rangle = \\int_0^t ds\\int_0^tds'g(s,s')=\\frac{ft}{\\gamma^2}-(1-e^{-\\gamma t})\\frac{2f}{\\gamma^3}+(1-e^{-2\\gamma t})\\frac{f}{2\\gamma^3}$$\n",
    "\n",
    "At short times the initial velocity dominates: $\\langle x(t)^2\\rangle\\simeq (u(0)t)^2$; the long-time limit is of particular interest to connect with the FPE. "
   ]
  },
  {
   "cell_type": "markdown",
   "metadata": {},
   "source": [
    "### Long-time limit\n",
    "Recall, from Einstein's Brownian motion FPE, that \n",
    "\n",
    "$$\\langle x^2\\rangle=\\int dx\\;P(x,t)x^2 = 2Dt.$$\n",
    "\n",
    "The long-time behavior of $\\langle [x(t)-\\langle x(t)\\rangle]^2\\rangle$ can be taken as the _definition_ of the diffusion coefficient\n",
    "\n",
    "<div class=\"alert alert-block alert-warning\"><font color=blue>\n",
    "$$D = \\lim_{t\\to \\infty}\\frac{\\langle (x-\\langle x\\rangle)^2\\rangle}{2t}=\\frac{f}{2\\gamma^2}=\\frac{k_BT}{\\gamma m}=\\frac{k_BT}{6\\pi\\eta a}\\tag{Einstein}$$\n",
    "</font></div>\n",
    "    \n",
    "Thus we have established an important link between the approaches of Langevin and Einstein."
   ]
  },
  {
   "cell_type": "markdown",
   "metadata": {},
   "source": [
    "# Wiener process\n",
    "The workhorse of stochastic differential equations, the Wiener process provides the fundamental source of noise. \n",
    "\n",
    "An understanding of the Wiener process will allow us to define and work with stochastic integrals - also, rather confusingly, known as stochastic differential equations.\n",
    "\n",
    "- $\\xi(t)$ is often used, technically it is not well defined (despite our success using it!)\n",
    "- What does $\\langle \\xi(t)\\xi(t')\\rangle \\to \\infty$ as $t\\to t'$ mean physically?\n",
    "\n",
    "We might expect, given the $\\delta$-correlation, that this object would fair better inside an integral. This is exactly the definition of the ___Wiener process___\n",
    "\n",
    "<div class=\"alert alert-block alert-warning\"><font color=blue>\n",
    "$$W(t)\\equiv \\int_0^t dt'\\xi(t')$$\n",
    "</font></div>\n",
    "\n",
    "where $\\xi(t)$ is required to be Gaussian. We emphasize that the pathology returns as soon as we try to differentiate:\n",
    "\n",
    "$$\\frac{dW}{dt}=\\xi(t)$$\n",
    "\n",
    "is not well defined - Wiener process is ___continuous everywhere___, but ___differentiable nowhere!___"
   ]
  },
  {
   "cell_type": "markdown",
   "metadata": {},
   "source": [
    "Then we have the first moments\n",
    "\n",
    "\\begin{align}\n",
    "    \\langle W(t)\\rangle&=\\int_0^t\\langle\\xi(t')\\rangle = 0,\\\\\n",
    "    \\langle W(t)^2\\rangle&=\\int_0^t dt'\\int_0^t dt'\\langle\\xi(t')\\xi(t)\\rangle = t,\n",
    "\\end{align}\n",
    "\n",
    "and $W(t)$ is Gaussian, with mean zero and unit variance, with probability density\n",
    "\n",
    "\\begin{align}\n",
    "p(w,t|0,0)dw &\\equiv \\textrm{Prob.} \\quad w<W(t)<w+dw\\notag\\\\\n",
    "&=\\frac{1}{\\sqrt{2\\pi t}}e^{-w^2/2t}dw \\tag{Diffusion}\n",
    "\\end{align}\n",
    "\n",
    "Note that this is precisely the solution of the localized droplet diffusion problem, for $D=1/2$. This is the fundamental Gaussian diffusion process from which all others are constructed. "
   ]
  },
  {
   "cell_type": "markdown",
   "metadata": {},
   "source": [
    "In general, if $W(t_0)=w_0$, then $W(t)=w_0 + \\int_{t_0}^t dt'\\xi(t')$, with conditional probability distribution\n",
    "\n",
    "<div class=\"alert alert-block alert-warning\"><font color=blue>\n",
    "$$ p(w,t|w_0,t_0)=\\frac{1}{\\sqrt{2\\pi(t-t_0)}}\\exp{\\left(-\\frac{(w-w_0)^2}{2(t-t_0)}\\right)}$$\n",
    "</font></div>\n",
    "\n",
    "Notice that $p(w,t|w_0,t_0)\\to\\delta(w-w_0)$ as $t\\to t_0$. Hence, knowledge of $W(t_0)$ completely determines $p$ at all $t>t_0$. "
   ]
  },
  {
   "cell_type": "markdown",
   "metadata": {},
   "source": [
    "__Exercise:__ show that the diffusion solution satisfies\n",
    "\n",
    "$$\\frac{\\partial p(w,t|0,0)}{\\partial t}=\\frac{1}{2}\\frac{\\partial^2 p(w,t|0,0)}{\\partial w^2}$$"
   ]
  },
  {
   "cell_type": "markdown",
   "metadata": {},
   "source": [
    "__Exercise:__ prove that \n",
    "\n",
    "$$ p(w,t|w_0,t_0)=\\int dw_1 p(w,t|w_1,t_1)p(w_1,t_1|w_0,t_0)$$\n",
    "\n",
    "provided $t>t_1>t_0$. This is a more formal demonstration of the ___Markov property___."
   ]
  },
  {
   "cell_type": "markdown",
   "metadata": {},
   "source": [
    "# Brownian paths\n",
    "<img src=\"media/wpaths.gif\" width=\"500\">"
   ]
  },
  {
   "cell_type": "markdown",
   "metadata": {},
   "source": [
    "Next time:\n",
    "- Wiener increments: discrete approxmation to $dW/dt$ works fine!\n",
    "- Stochastic integration\n",
    "- Ito rules\n",
    "- Quantum phase space\n"
   ]
  }
 ],
 "metadata": {
  "kernelspec": {
   "display_name": "Julia 1.0.3",
   "language": "julia",
   "name": "julia-1.0"
  },
  "language_info": {
   "file_extension": ".jl",
   "mimetype": "application/julia",
   "name": "julia",
   "version": "1.0.3"
  }
 },
 "nbformat": 4,
 "nbformat_minor": 2
}
