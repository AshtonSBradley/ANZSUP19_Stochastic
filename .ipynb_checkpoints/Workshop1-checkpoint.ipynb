{
 "cells": [
  {
   "cell_type": "markdown",
   "metadata": {},
   "source": [
    "# Stochastic Differential Equations, Quantum Phase Space, and Julia\n",
    "\n",
    "$$\n",
    "\\def\\julia{\\texttt{julia}}\n",
    "\\def\\dashint{{\\int\\!\\!\\!\\!\\!\\!-\\,}}\n",
    "\\def\\infdashint{\\dashint_{\\!\\!\\!-\\infty}^{\\,\\infty}}\n",
    "\\def\\D{\\,{\\rm d}}\n",
    "\\def\\E{{\\rm e}}\n",
    "\\def\\dx{\\D x}\n",
    "\\def\\dt{\\D t}\n",
    "\\def\\dz{\\D z}\n",
    "\\def\\C{{\\mathbb C}}\n",
    "\\def\\R{{\\mathbb R}}\n",
    "\\def\\CC{{\\cal C}}\n",
    "\\def\\HH{{\\cal H}}\n",
    "\\def\\I{{\\rm i}}\n",
    "\\def\\qqqquad{\\qquad\\qquad}\n",
    "\\def\\qqfor{\\qquad\\hbox{for}\\qquad}\n",
    "\\def\\qqwhere{\\qquad\\hbox{where}\\qquad}\n",
    "\\def\\Res_#1{\\underset{#1}{\\rm Res}}\\,\n",
    "\\def\\sech{{\\rm sech}\\,}\n",
    "\\def\\vc#1{{\\mathbf #1}}\n",
    "$$\n",
    "\n",
    "Dr. Ashton Bradley\n",
    "<br>\n",
    "ashton.bradley@otago.ac.nz\n",
    "<br>\n",
    "http://amoqt.otago.ac.nz"
   ]
  },
  {
   "cell_type": "markdown",
   "metadata": {},
   "source": [
    "# Intro to julia"
   ]
  },
  {
   "cell_type": "markdown",
   "metadata": {},
   "source": [
    "This laboratory will serve as an introduction to julia, and provide some essential background for stochastic processes.  "
   ]
  },
  {
   "cell_type": "markdown",
   "metadata": {},
   "source": [
    "## Workshop 1 (1.5 hours): $\\julia$ in a nutshell\n",
    "Getting started in $\\julia$: the basics\n",
    "\n",
    "- Familiarity with $\\julia$ computing environments: REPL, Jupyter, Juno\n",
    "- Variables, functions \n",
    "- Using packages and plotting\n",
    "- How does $\\julia$ solve the two-language problem?\n",
    "\n",
    "References\n",
    "\n",
    "- [julialang.org](https://julialang.org)\n",
    "- [juliaobserver](https://juliaobserver.com)\n",
    "- *Julia: A Fresh Approach to Numerical Computing*, Jeff Bezanson, Alan Edelman, Stefan Karpinski and Viral B. Shah [SIAM Review, __59__, 65–98 (2017)](http://julialang.org/publications/julia-fresh-approach-BEKS.pdf)\n",
    "- [Fun and sometimes useful julia packages](http://amoqt.otago.ac.nz/resources/juliajam)"
   ]
  },
  {
   "cell_type": "markdown",
   "metadata": {},
   "source": [
    "# Motivation: the two-language problem\n",
    "Why another language? \n",
    "\n",
    "- Compiled languages\n",
    "    - Fast execution\n",
    "    - Slow to read/write/debug\n",
    "    - Tend to get isolated from latest conceptual developments \n",
    "- Interpreted languages \n",
    "    - Slow exection\n",
    "    - Easy to read/write/debug\n",
    "    - Not well suited for high performance computing\n",
    "- This is a ___major___ issue in technical computing. \n",
    "- This conflict motivated the development of $\\julia$ at MIT (1.0 released 2018). \n",
    "- [next big thing?](https://www.techrepublic.com/article/is-julia-the-next-big-programming-language-mit-thinks-so-as-version-1-0-lands/)\n",
    "- [Julia joined the \"petaflop club\" in 2017](https://www.hpcwire.com/off-the-wire/julia-joins-petaflop-club/), the only high level scripting language ever to do so."
   ]
  },
  {
   "cell_type": "markdown",
   "metadata": {},
   "source": [
    "## Julia microbenchmarks\n",
    "[https://julialang.org/benchmarks/](https://julialang.org/benchmarks/)"
   ]
  },
  {
   "cell_type": "markdown",
   "metadata": {},
   "source": [
    "<img src=\"media/juliabench.png\" width=\"600\">"
   ]
  },
  {
   "cell_type": "markdown",
   "metadata": {},
   "source": [
    "<img src=\"media/packages.png\" width=\"600\">"
   ]
  },
  {
   "cell_type": "markdown",
   "metadata": {},
   "source": [
    "## Julia observer\n",
    "\n",
    "An up to date package listing is provided at [juliaobserver.com](https://juliaobserver.com/packages)\n",
    "\n",
    "## Language \n",
    "Julia is powered by several unique language innovations that developers love, and I think you will too once you get to know a bit more about them:\n",
    "\n",
    "- Multiple dispatch: methods are not owned by classes.\n",
    "- Duck typing: you can define your own data types by their properties; they translate across all of julia \n",
    "- Different julia modules can call each other without any loss of performance\n",
    "\n",
    "Coming from a different language, you may find a list of [noteworthy differences to other languages](https://docs.julialang.org/en/v0.7.0/manual/noteworthy-differences/)  useful."
   ]
  },
  {
   "cell_type": "markdown",
   "metadata": {},
   "source": [
    "# $\\julia$ environments"
   ]
  },
  {
   "cell_type": "markdown",
   "metadata": {},
   "source": [
    "## Read, Evaluate, Print, Loop (REPL)"
   ]
  },
  {
   "cell_type": "markdown",
   "metadata": {},
   "source": [
    "<img src=\"media/repl.png\" width=\"500\">"
   ]
  },
  {
   "cell_type": "markdown",
   "metadata": {},
   "source": [
    "## Package manager"
   ]
  },
  {
   "cell_type": "markdown",
   "metadata": {},
   "source": [
    "To access Pkg mode in the REPL, type\n",
    "```julia\n",
    "julia> ]\n",
    "```\n",
    "which will give you the prompt\n",
    "\n",
    "```julia\n",
    "(@v1.4) pkg>\n",
    "```\n",
    "To add a package\n",
    "\n",
    "```julia\n",
    "(@v1.4) pkg> add IJulia \n",
    "```\n",
    "Then type backspace to go back to REPL mode. "
   ]
  },
  {
   "cell_type": "markdown",
   "metadata": {},
   "source": [
    "Note that REPL commands are just $\\julia$ commands, so julia REPL and jupyter are identical, except that the Pkg mode can't be accessed in jupyter."
   ]
  },
  {
   "cell_type": "code",
   "execution_count": 34,
   "metadata": {},
   "outputs": [
    {
     "name": "stdout",
     "output_type": "stream",
     "text": [
      "\u001b[32m\u001b[1mStatus\u001b[22m\u001b[39m `~/.julia/environments/v1.4/Project.toml`\n",
      " \u001b[90m [537997a7]\u001b[39m\u001b[37m AbstractPlotting v0.10.1\u001b[39m\n",
      " \u001b[90m [28f2ccd6]\u001b[39m\u001b[37m ApproxFun v0.11.11\u001b[39m\n",
      " \u001b[90m [c52e3926]\u001b[39m\u001b[37m Atom v0.12.10\u001b[39m\n",
      " \u001b[90m [6e4b80f9]\u001b[39m\u001b[37m BenchmarkTools v0.5.0\u001b[39m\n",
      " \u001b[90m [159f3aea]\u001b[39m\u001b[37m Cairo v1.0.3\u001b[39m\n",
      " \u001b[90m [13f3f980]\u001b[39m\u001b[37m CairoMakie v0.2.0\u001b[39m\n",
      " \u001b[90m [35d6a980]\u001b[39m\u001b[37m ColorSchemes v3.7.0\u001b[39m\n",
      " \u001b[90m [5ae59095]\u001b[39m\u001b[37m Colors v0.11.2\u001b[39m\n",
      " \u001b[90m [861a8166]\u001b[39m\u001b[37m Combinatorics v1.0.0\u001b[39m\n",
      " \u001b[90m [a81c6b42]\u001b[39m\u001b[37m Compose v0.8.2\u001b[39m\n",
      " \u001b[90m [8f4d0f93]\u001b[39m\u001b[37m Conda v1.4.1\u001b[39m\n",
      " \u001b[90m [e034abe6]\u001b[39m\u001b[37m Controlz v0.1.3\u001b[39m\n",
      " \u001b[90m [a93c6f00]\u001b[39m\u001b[37m DataFrames v0.20.2\u001b[39m\n",
      " \u001b[90m [0c46a032]\u001b[39m\u001b[37m DifferentialEquations v6.13.0\u001b[39m\n",
      " \u001b[90m [31c24e10]\u001b[39m\u001b[37m Distributions v0.23.2\u001b[39m\n",
      " \u001b[90m [e30172f5]\u001b[39m\u001b[37m Documenter v0.24.9\u001b[39m\n",
      " \u001b[90m [634d3b9d]\u001b[39m\u001b[37m DrWatson v1.10.2\u001b[39m\n",
      " \u001b[90m [7a1cc6ca]\u001b[39m\u001b[37m FFTW v1.2.0\u001b[39m\n",
      " \u001b[90m [442a2c76]\u001b[39m\u001b[37m FastGaussQuadrature v0.4.2\u001b[39m\n",
      " \u001b[90m [057dd010]\u001b[39m\u001b[37m FastTransforms v0.8.2\u001b[39m\n",
      " \u001b[90m [5789e2e9]\u001b[39m\u001b[37m FileIO v1.2.4\u001b[39m\n",
      " \u001b[90m [186bb1d3]\u001b[39m\u001b[37m Fontconfig v0.4.0\u001b[39m\n",
      " \u001b[90m [f013a474]\u001b[39m\u001b[37m FourierGPE v0.1.0 #master (https://github.com/AshtonSBradley/FourierGPE.jl.git)\u001b[39m\n",
      " \u001b[90m [92c85e6c]\u001b[39m\u001b[37m GSL v0.6.0\u001b[39m\n",
      " \u001b[90m [19dc6840]\u001b[39m\u001b[37m HCubature v1.4.0\u001b[39m\n",
      " \u001b[90m [7073ff75]\u001b[39m\u001b[37m IJulia v1.21.2\u001b[39m\n",
      " \u001b[90m [6218d12a]\u001b[39m\u001b[37m ImageMagick v1.1.4\u001b[39m\n",
      " \u001b[90m [c601a237]\u001b[39m\u001b[37m Interact v0.10.3\u001b[39m\n",
      " \u001b[90m [a98d9a8b]\u001b[39m\u001b[37m Interpolations v0.12.9\u001b[39m\n",
      " \u001b[90m [8197267c]\u001b[39m\u001b[37m IntervalSets v0.3.2\u001b[39m\n",
      " \u001b[90m [c8e1da08]\u001b[39m\u001b[37m IterTools v1.3.0\u001b[39m\n",
      " \u001b[90m [033835bb]\u001b[39m\u001b[37m JLD2 v0.1.12\u001b[39m\n",
      " \u001b[90m [e5e0dc1b]\u001b[39m\u001b[37m Juno v0.8.1\u001b[39m\n",
      " \u001b[90m [5ab0869b]\u001b[39m\u001b[37m KernelDensity v0.5.1\u001b[39m\n",
      " \u001b[90m [b964fa9f]\u001b[39m\u001b[37m LaTeXStrings v1.1.0\u001b[39m\n",
      " \u001b[90m [23fbe1c1]\u001b[39m\u001b[37m Latexify v0.13.0\u001b[39m\n",
      " \u001b[90m [50d2b5c4]\u001b[39m\u001b[37m Lazy v0.15.0\u001b[39m\n",
      " \u001b[90m [b13ce0c6]\u001b[39m\u001b[37m LibSndFile v2.3.0\u001b[39m\n",
      " \u001b[90m [33e6dc65]\u001b[39m\u001b[37m MKL v0.2.0 #master (https://github.com/JuliaComputing/MKL.jl)\u001b[39m\n",
      " \u001b[90m [ee78f7c6]\u001b[39m\u001b[37m Makie v0.10.0\u001b[39m\n",
      " \u001b[90m [5a521ce4]\u001b[39m\u001b[37m MakieLayout v0.6.0\u001b[39m\n",
      " \u001b[90m [eff96d63]\u001b[39m\u001b[37m Measurements v2.1.1\u001b[39m\n",
      " \u001b[90m [442fdcdd]\u001b[39m\u001b[37m Measures v0.3.1\u001b[39m\n",
      " \u001b[90m [a3a9e032]\u001b[39m\u001b[37m NIfTI v0.4.0\u001b[39m\n",
      " \u001b[90m [76087f3c]\u001b[39m\u001b[37m NLopt v0.5.1\u001b[39m\n",
      " \u001b[90m [1dea7af3]\u001b[39m\u001b[37m OrdinaryDiffEq v5.34.1\u001b[39m\n",
      " \u001b[90m [3b7a836e]\u001b[39m\u001b[37m PGFPlots v3.2.1\u001b[39m\n",
      " \u001b[90m [8314cec4]\u001b[39m\u001b[37m PGFPlotsX v1.2.6\u001b[39m\n",
      " \u001b[90m [dd1b0cdc]\u001b[39m\u001b[37m PGPE v0.1.0 #master (https://github.com/AshtonSBradley/PGPE.jl.git)\u001b[39m\n",
      " \u001b[90m [5432bcbf]\u001b[39m\u001b[37m PaddedViews v0.5.4\u001b[39m\n",
      " \u001b[90m [65888b18]\u001b[39m\u001b[37m ParameterizedFunctions v5.3.0\u001b[39m\n",
      " \u001b[90m [d96e819e]\u001b[39m\u001b[37m Parameters v0.12.0\u001b[39m\n",
      " \u001b[90m [0e21426a]\u001b[39m\u001b[37m PhaseSpaceTools v0.1.0 #master (https://github.com/AshtonSBradley/PhaseSpaceTools.jl.git)\u001b[39m\n",
      " \u001b[90m [5ad8b20f]\u001b[39m\u001b[37m PhysicalConstants v0.2.0\u001b[39m\n",
      " \u001b[90m [91a5bcdd]\u001b[39m\u001b[37m Plots v0.29.9\u001b[39m\n",
      " \u001b[90m [27ebfcd6]\u001b[39m\u001b[37m Primes v0.4.0\u001b[39m\n",
      " \u001b[90m [438e738f]\u001b[39m\u001b[37m PyCall v1.91.4\u001b[39m\n",
      " \u001b[90m [d330b81b]\u001b[39m\u001b[37m PyPlot v2.9.0\u001b[39m\n",
      " \u001b[90m [1fd47b50]\u001b[39m\u001b[37m QuadGK v2.3.1\u001b[39m\n",
      " \u001b[90m [6e0679c1]\u001b[39m\u001b[37m QuantumOptics v0.7.1\u001b[39m\n",
      " \u001b[90m [71555da5]\u001b[39m\u001b[37m Reel v1.3.0\u001b[39m\n",
      " \u001b[90m [295af30f]\u001b[39m\u001b[37m Revise v2.6.1\u001b[39m\n",
      " \u001b[90m [92719e2c]\u001b[39m\u001b[37m SPGPE v0.1.0 #master (https://github.com/AshtonSBradley/SPGPE.jl.git)\u001b[39m\n",
      " \u001b[90m [276daf66]\u001b[39m\u001b[37m SpecialFunctions v0.10.0\u001b[39m\n",
      " \u001b[90m [2913bbd2]\u001b[39m\u001b[37m StatsBase v0.33.0\u001b[39m\n",
      " \u001b[90m [24249f21]\u001b[39m\u001b[37m SymPy v1.0.7\u001b[39m\n",
      " \u001b[90m [37f6aa50]\u001b[39m\u001b[37m TikzPictures v3.1.0\u001b[39m\n",
      " \u001b[90m [28d57a85]\u001b[39m\u001b[37m Transducers v0.4.25\u001b[39m\n",
      " \u001b[90m [1986cc42]\u001b[39m\u001b[37m Unitful v0.17.0\u001b[39m\n",
      " \u001b[90m [b688e990]\u001b[39m\u001b[37m VortexDistributions v0.0.0 #master (https://github.com/AshtonSBradley/VortexDistributions.jl.git)\u001b[39m\n",
      " \u001b[90m [8149f6b0]\u001b[39m\u001b[37m WAV v1.0.3\u001b[39m\n",
      " \u001b[90m [44d3d7a6]\u001b[39m\u001b[37m Weave v0.9.4\u001b[39m\n",
      " \u001b[90m [0f1e0344]\u001b[39m\u001b[37m WebIO v0.8.11\u001b[39m\n",
      " \u001b[90m [c4c688b2]\u001b[39m\u001b[37m jlpkg v1.1.3\u001b[39m\n",
      " \u001b[90m [37e2e46d]\u001b[39m\u001b[37m LinearAlgebra \u001b[39m\n",
      " \u001b[90m [de0858da]\u001b[39m\u001b[37m Printf \u001b[39m\n",
      " \u001b[90m [2f01184e]\u001b[39m\u001b[37m SparseArrays \u001b[39m\n",
      " \u001b[90m [10745b16]\u001b[39m\u001b[37m Statistics \u001b[39m\n"
     ]
    }
   ],
   "source": [
    "#how to execute Pkg commands in jupyter\n",
    "using Pkg\n",
    "pkg\"status\""
   ]
  },
  {
   "cell_type": "code",
   "execution_count": 40,
   "metadata": {},
   "outputs": [
    {
     "name": "stderr",
     "output_type": "stream",
     "text": [
      "\u001b[32m\u001b[1m  Resolving\u001b[22m\u001b[39m package versions...\n",
      "\u001b[32m\u001b[1m   Updating\u001b[22m\u001b[39m `~/.julia/environments/v1.4/Project.toml`\n",
      "\u001b[90m [no changes]\u001b[39m\n",
      "\u001b[32m\u001b[1m   Updating\u001b[22m\u001b[39m `~/.julia/environments/v1.4/Manifest.toml`\n",
      "\u001b[90m [no changes]\u001b[39m\n",
      "\u001b[32m\u001b[1m  Resolving\u001b[22m\u001b[39m package versions...\n",
      "\u001b[32m\u001b[1m   Updating\u001b[22m\u001b[39m `~/.julia/environments/v1.4/Project.toml`\n",
      "\u001b[90m [no changes]\u001b[39m\n",
      "\u001b[32m\u001b[1m   Updating\u001b[22m\u001b[39m `~/.julia/environments/v1.4/Manifest.toml`\n",
      "\u001b[90m [no changes]\u001b[39m\n",
      "\u001b[32m\u001b[1m  Resolving\u001b[22m\u001b[39m package versions...\n",
      "\u001b[32m\u001b[1m   Updating\u001b[22m\u001b[39m `~/.julia/environments/v1.4/Project.toml`\n",
      "\u001b[90m [no changes]\u001b[39m\n",
      "\u001b[32m\u001b[1m   Updating\u001b[22m\u001b[39m `~/.julia/environments/v1.4/Manifest.toml`\n",
      "\u001b[90m [no changes]\u001b[39m\n",
      "\u001b[32m\u001b[1m  Resolving\u001b[22m\u001b[39m package versions...\n",
      "\u001b[32m\u001b[1m   Updating\u001b[22m\u001b[39m `~/.julia/environments/v1.4/Project.toml`\n",
      "\u001b[90m [no changes]\u001b[39m\n",
      "\u001b[32m\u001b[1m   Updating\u001b[22m\u001b[39m `~/.julia/environments/v1.4/Manifest.toml`\n",
      "\u001b[90m [no changes]\u001b[39m\n",
      "\u001b[32m\u001b[1m  Resolving\u001b[22m\u001b[39m package versions...\n",
      "\u001b[32m\u001b[1m   Updating\u001b[22m\u001b[39m `~/.julia/environments/v1.4/Project.toml`\n",
      "\u001b[90m [no changes]\u001b[39m\n",
      "\u001b[32m\u001b[1m   Updating\u001b[22m\u001b[39m `~/.julia/environments/v1.4/Manifest.toml`\n",
      "\u001b[90m [no changes]\u001b[39m\n",
      "\u001b[32m\u001b[1m  Resolving\u001b[22m\u001b[39m package versions...\n",
      "\u001b[32m\u001b[1m   Updating\u001b[22m\u001b[39m `~/.julia/environments/v1.4/Project.toml`\n",
      "\u001b[90m [no changes]\u001b[39m\n",
      "\u001b[32m\u001b[1m   Updating\u001b[22m\u001b[39m `~/.julia/environments/v1.4/Manifest.toml`\n",
      "\u001b[90m [no changes]\u001b[39m\n",
      "\u001b[32m\u001b[1m  Resolving\u001b[22m\u001b[39m package versions...\n",
      "\u001b[32m\u001b[1m   Updating\u001b[22m\u001b[39m `~/.julia/environments/v1.4/Project.toml`\n",
      "\u001b[90m [no changes]\u001b[39m\n",
      "\u001b[32m\u001b[1m   Updating\u001b[22m\u001b[39m `~/.julia/environments/v1.4/Manifest.toml`\n",
      "\u001b[90m [no changes]\u001b[39m\n",
      "\u001b[32m\u001b[1m  Resolving\u001b[22m\u001b[39m package versions...\n",
      "\u001b[32m\u001b[1m   Updating\u001b[22m\u001b[39m `~/.julia/environments/v1.4/Project.toml`\n",
      "\u001b[90m [no changes]\u001b[39m\n",
      "\u001b[32m\u001b[1m   Updating\u001b[22m\u001b[39m `~/.julia/environments/v1.4/Manifest.toml`\n",
      "\u001b[90m [no changes]\u001b[39m\n",
      "\u001b[32m\u001b[1m  Resolving\u001b[22m\u001b[39m package versions...\n",
      "\u001b[32m\u001b[1m   Updating\u001b[22m\u001b[39m `~/.julia/environments/v1.4/Project.toml`\n",
      "\u001b[90m [no changes]\u001b[39m\n",
      "\u001b[32m\u001b[1m   Updating\u001b[22m\u001b[39m `~/.julia/environments/v1.4/Manifest.toml`\n",
      "\u001b[90m [no changes]\u001b[39m\n",
      "\u001b[32m\u001b[1m  Resolving\u001b[22m\u001b[39m package versions...\n",
      "\u001b[32m\u001b[1m   Updating\u001b[22m\u001b[39m `~/.julia/environments/v1.4/Project.toml`\n",
      "\u001b[90m [no changes]\u001b[39m\n",
      "\u001b[32m\u001b[1m   Updating\u001b[22m\u001b[39m `~/.julia/environments/v1.4/Manifest.toml`\n",
      "\u001b[90m [no changes]\u001b[39m\n"
     ]
    }
   ],
   "source": [
    "# let's add all packages for these workshops\n",
    "pkgs = [:Plots,:DifferentialEquations,:GSL, :SpecialFunctions,\n",
    "    :Statistics, :Plots, :LaTeXStrings, :Revise,:SymPy,:BenchmarkTools]\n",
    "\n",
    "for pkg in pkgs\n",
    "    Pkg.add(String(pkg))\n",
    "end"
   ]
  },
  {
   "cell_type": "markdown",
   "metadata": {},
   "source": [
    "To load a package\n",
    "```julia\n",
    "julia> using IJulia\n",
    "```"
   ]
  },
  {
   "cell_type": "markdown",
   "metadata": {},
   "source": [
    "`IJulia` provides the jupyter environment for julia. \n",
    "    \n",
    "To launch jupyter, enter this command in the REPL:\n",
    "```julia\n",
    "julia> notebook()\n",
    "```"
   ]
  },
  {
   "cell_type": "markdown",
   "metadata": {},
   "source": [
    "You should now have access to the lectures as jupyter notebooks."
   ]
  },
  {
   "cell_type": "markdown",
   "metadata": {},
   "source": [
    "# Jupyter\n",
    "Web browser front end calls a $\\julia$ kernel, evaluates, returns result; quite low overhead."
   ]
  },
  {
   "cell_type": "code",
   "execution_count": 35,
   "metadata": {},
   "outputs": [
    {
     "data": {
      "text/plain": [
       "Plots.GRBackend()"
      ]
     },
     "execution_count": 35,
     "metadata": {},
     "output_type": "execute_result"
    }
   ],
   "source": [
    "using Plots\n",
    "gr(titlefontsize=12,grid=false,legend=false,size=(600,200)) # set defaults for GR backend"
   ]
  },
  {
   "cell_type": "code",
   "execution_count": 2,
   "metadata": {},
   "outputs": [],
   "source": [
    "x = LinRange(0,10,500);"
   ]
  },
  {
   "cell_type": "code",
   "execution_count": 8,
   "metadata": {},
   "outputs": [
    {
     "data": {
      "image/svg+xml": [
       "<?xml version=\"1.0\" encoding=\"utf-8\"?>\n",
       "<svg xmlns=\"http://www.w3.org/2000/svg\" xmlns:xlink=\"http://www.w3.org/1999/xlink\" width=\"600\" height=\"200\" viewBox=\"0 0 2400 800\">\n",
       "<defs>\n",
       "  <clipPath id=\"clip4200\">\n",
       "    <rect x=\"0\" y=\"0\" width=\"2400\" height=\"800\"/>\n",
       "  </clipPath>\n",
       "</defs>\n",
       "<path clip-path=\"url(#clip4200)\" d=\"\n",
       "M0 800 L2400 800 L2400 0 L0 0  Z\n",
       "  \" fill=\"#ffffff\" fill-rule=\"evenodd\" fill-opacity=\"1\"/>\n",
       "<defs>\n",
       "  <clipPath id=\"clip4201\">\n",
       "    <rect x=\"480\" y=\"0\" width=\"1681\" height=\"800\"/>\n",
       "  </clipPath>\n",
       "</defs>\n",
       "<path clip-path=\"url(#clip4200)\" d=\"\n",
       "M220.81 673.439 L2352.76 673.439 L2352.76 47.2441 L220.81 47.2441  Z\n",
       "  \" fill=\"#ffffff\" fill-rule=\"evenodd\" fill-opacity=\"1\"/>\n",
       "<defs>\n",
       "  <clipPath id=\"clip4202\">\n",
       "    <rect x=\"220\" y=\"47\" width=\"2133\" height=\"627\"/>\n",
       "  </clipPath>\n",
       "</defs>\n",
       "<polyline clip-path=\"url(#clip4200)\" style=\"stroke:#000000; stroke-width:4; stroke-opacity:1; fill:none\" points=\"\n",
       "  220.81,673.439 2352.76,673.439 \n",
       "  \"/>\n",
       "<polyline clip-path=\"url(#clip4200)\" style=\"stroke:#000000; stroke-width:4; stroke-opacity:1; fill:none\" points=\"\n",
       "  220.81,673.439 220.81,47.2441 \n",
       "  \"/>\n",
       "<polyline clip-path=\"url(#clip4200)\" style=\"stroke:#000000; stroke-width:4; stroke-opacity:1; fill:none\" points=\"\n",
       "  281.148,673.439 281.148,665.925 \n",
       "  \"/>\n",
       "<polyline clip-path=\"url(#clip4200)\" style=\"stroke:#000000; stroke-width:4; stroke-opacity:1; fill:none\" points=\"\n",
       "  783.966,673.439 783.966,665.925 \n",
       "  \"/>\n",
       "<polyline clip-path=\"url(#clip4200)\" style=\"stroke:#000000; stroke-width:4; stroke-opacity:1; fill:none\" points=\"\n",
       "  1286.78,673.439 1286.78,665.925 \n",
       "  \"/>\n",
       "<polyline clip-path=\"url(#clip4200)\" style=\"stroke:#000000; stroke-width:4; stroke-opacity:1; fill:none\" points=\"\n",
       "  1789.6,673.439 1789.6,665.925 \n",
       "  \"/>\n",
       "<polyline clip-path=\"url(#clip4200)\" style=\"stroke:#000000; stroke-width:4; stroke-opacity:1; fill:none\" points=\"\n",
       "  2292.42,673.439 2292.42,665.925 \n",
       "  \"/>\n",
       "<polyline clip-path=\"url(#clip4200)\" style=\"stroke:#000000; stroke-width:4; stroke-opacity:1; fill:none\" points=\"\n",
       "  220.81,655.718 246.393,655.718 \n",
       "  \"/>\n",
       "<polyline clip-path=\"url(#clip4200)\" style=\"stroke:#000000; stroke-width:4; stroke-opacity:1; fill:none\" points=\"\n",
       "  220.81,508.03 246.393,508.03 \n",
       "  \"/>\n",
       "<polyline clip-path=\"url(#clip4200)\" style=\"stroke:#000000; stroke-width:4; stroke-opacity:1; fill:none\" points=\"\n",
       "  220.81,360.342 246.393,360.342 \n",
       "  \"/>\n",
       "<polyline clip-path=\"url(#clip4200)\" style=\"stroke:#000000; stroke-width:4; stroke-opacity:1; fill:none\" points=\"\n",
       "  220.81,212.654 246.393,212.654 \n",
       "  \"/>\n",
       "<polyline clip-path=\"url(#clip4200)\" style=\"stroke:#000000; stroke-width:4; stroke-opacity:1; fill:none\" points=\"\n",
       "  220.81,64.9662 246.393,64.9662 \n",
       "  \"/>\n",
       "<g clip-path=\"url(#clip4200)\">\n",
       "<text style=\"fill:#000000; fill-opacity:1; font-family:Arial,Helvetica Neue,Helvetica,sans-serif; font-size:48px; text-anchor:middle;\" transform=\"rotate(0, 281.148, 727.439)\" x=\"281.148\" y=\"727.439\">0.0</text>\n",
       "</g>\n",
       "<g clip-path=\"url(#clip4200)\">\n",
       "<text style=\"fill:#000000; fill-opacity:1; font-family:Arial,Helvetica Neue,Helvetica,sans-serif; font-size:48px; text-anchor:middle;\" transform=\"rotate(0, 783.966, 727.439)\" x=\"783.966\" y=\"727.439\">2.5</text>\n",
       "</g>\n",
       "<g clip-path=\"url(#clip4200)\">\n",
       "<text style=\"fill:#000000; fill-opacity:1; font-family:Arial,Helvetica Neue,Helvetica,sans-serif; font-size:48px; text-anchor:middle;\" transform=\"rotate(0, 1286.78, 727.439)\" x=\"1286.78\" y=\"727.439\">5.0</text>\n",
       "</g>\n",
       "<g clip-path=\"url(#clip4200)\">\n",
       "<text style=\"fill:#000000; fill-opacity:1; font-family:Arial,Helvetica Neue,Helvetica,sans-serif; font-size:48px; text-anchor:middle;\" transform=\"rotate(0, 1789.6, 727.439)\" x=\"1789.6\" y=\"727.439\">7.5</text>\n",
       "</g>\n",
       "<g clip-path=\"url(#clip4200)\">\n",
       "<text style=\"fill:#000000; fill-opacity:1; font-family:Arial,Helvetica Neue,Helvetica,sans-serif; font-size:48px; text-anchor:middle;\" transform=\"rotate(0, 2292.42, 727.439)\" x=\"2292.42\" y=\"727.439\">10.0</text>\n",
       "</g>\n",
       "<g clip-path=\"url(#clip4200)\">\n",
       "<text style=\"fill:#000000; fill-opacity:1; font-family:Arial,Helvetica Neue,Helvetica,sans-serif; font-size:48px; text-anchor:end;\" transform=\"rotate(0, 196.81, 673.218)\" x=\"196.81\" y=\"673.218\">-1.0</text>\n",
       "</g>\n",
       "<g clip-path=\"url(#clip4200)\">\n",
       "<text style=\"fill:#000000; fill-opacity:1; font-family:Arial,Helvetica Neue,Helvetica,sans-serif; font-size:48px; text-anchor:end;\" transform=\"rotate(0, 196.81, 525.53)\" x=\"196.81\" y=\"525.53\">-0.5</text>\n",
       "</g>\n",
       "<g clip-path=\"url(#clip4200)\">\n",
       "<text style=\"fill:#000000; fill-opacity:1; font-family:Arial,Helvetica Neue,Helvetica,sans-serif; font-size:48px; text-anchor:end;\" transform=\"rotate(0, 196.81, 377.842)\" x=\"196.81\" y=\"377.842\">0.0</text>\n",
       "</g>\n",
       "<g clip-path=\"url(#clip4200)\">\n",
       "<text style=\"fill:#000000; fill-opacity:1; font-family:Arial,Helvetica Neue,Helvetica,sans-serif; font-size:48px; text-anchor:end;\" transform=\"rotate(0, 196.81, 230.154)\" x=\"196.81\" y=\"230.154\">0.5</text>\n",
       "</g>\n",
       "<g clip-path=\"url(#clip4200)\">\n",
       "<text style=\"fill:#000000; fill-opacity:1; font-family:Arial,Helvetica Neue,Helvetica,sans-serif; font-size:48px; text-anchor:end;\" transform=\"rotate(0, 196.81, 82.4662)\" x=\"196.81\" y=\"82.4662\">1.0</text>\n",
       "</g>\n",
       "<g clip-path=\"url(#clip4200)\">\n",
       "<text style=\"fill:#000000; fill-opacity:1; font-family:Arial,Helvetica Neue,Helvetica,sans-serif; font-size:66px; text-anchor:middle;\" transform=\"rotate(0, 1286.78, 807.301)\" x=\"1286.78\" y=\"807.301\">x</text>\n",
       "</g>\n",
       "<g clip-path=\"url(#clip4200)\">\n",
       "<text style=\"fill:#000000; fill-opacity:1; font-family:Arial,Helvetica Neue,Helvetica,sans-serif; font-size:66px; text-anchor:middle;\" transform=\"rotate(-90, 66.2321, 360.342)\" x=\"66.2321\" y=\"360.342\">sin(x)</text>\n",
       "</g>\n",
       "<polyline clip-path=\"url(#clip4202)\" style=\"stroke:#009af9; stroke-width:4; stroke-opacity:1; fill:none\" points=\"\n",
       "  281.148,360.342 285.179,354.423 289.209,348.507 293.24,342.595 297.271,336.69 301.301,330.795 305.332,324.911 309.362,319.042 313.393,313.19 317.424,307.356 \n",
       "  321.454,301.544 325.485,295.755 329.515,289.992 333.546,284.258 337.577,278.554 341.607,272.883 345.638,267.247 349.668,261.648 353.699,256.089 357.73,250.572 \n",
       "  361.76,245.099 365.791,239.673 369.821,234.294 373.852,228.967 377.883,223.692 381.913,218.472 385.944,213.309 389.974,208.205 394.005,203.162 398.036,198.182 \n",
       "  402.066,193.267 406.097,188.42 410.127,183.641 414.158,178.934 418.189,174.299 422.219,169.739 426.25,165.256 430.28,160.85 434.311,156.525 438.342,152.282 \n",
       "  442.372,148.123 446.403,144.048 450.433,140.061 454.464,136.162 458.495,132.353 462.525,128.635 466.556,125.011 470.586,121.481 474.617,118.047 478.648,114.711 \n",
       "  482.678,111.472 486.709,108.334 490.739,105.298 494.77,102.363 498.801,99.5323 502.831,96.8062 506.862,94.1859 510.892,91.6725 514.923,89.267 518.954,86.9704 \n",
       "  522.984,84.7836 527.015,82.7074 531.045,80.7427 535.076,78.8903 539.107,77.151 543.137,75.5253 547.168,74.0141 551.198,72.6178 555.229,71.337 559.26,70.1724 \n",
       "  563.29,69.1242 567.321,68.1931 571.351,67.3792 575.382,66.683 579.413,66.1047 583.443,65.6446 587.474,65.3028 591.504,65.0796 595.535,64.9748 599.566,64.9888 \n",
       "  603.596,65.1213 607.627,65.3724 611.657,65.7419 615.688,66.2297 619.719,66.8357 623.749,67.5595 627.78,68.4009 631.81,69.3596 635.841,70.4351 639.872,71.627 \n",
       "  643.902,72.9349 647.933,74.3582 651.963,75.8963 655.994,77.5487 660.025,79.3146 664.055,81.1934 668.086,83.1843 672.116,85.2866 676.147,87.4992 680.178,89.8215 \n",
       "  684.208,92.2523 688.239,94.7909 692.269,97.4361 696.3,100.187 700.331,103.042 704.361,106.001 708.392,109.061 712.422,112.223 716.453,115.484 720.484,118.844 \n",
       "  724.514,122.3 728.545,125.853 732.575,129.499 736.606,133.238 740.637,137.068 744.667,140.988 748.698,144.996 752.728,149.091 756.759,153.27 760.79,157.532 \n",
       "  764.82,161.876 768.851,166.3 772.881,170.802 776.912,175.379 780.943,180.031 784.973,184.756 789.004,189.55 793.034,194.414 797.065,199.344 801.096,204.339 \n",
       "  805.126,209.396 809.157,214.514 813.187,219.691 817.218,224.924 821.249,230.211 825.279,235.551 829.31,240.941 833.34,246.379 837.371,251.862 841.402,257.389 \n",
       "  845.432,262.958 849.463,268.565 853.493,274.21 857.524,279.889 861.555,285.6 865.585,291.342 869.616,297.111 873.646,302.905 877.677,308.723 881.708,314.561 \n",
       "  885.738,320.417 889.769,326.29 893.799,332.176 897.83,338.074 901.861,343.981 905.891,349.894 909.922,355.811 913.952,361.73 917.983,367.649 922.014,373.565 \n",
       "  926.044,379.475 930.075,385.378 934.105,391.27 938.136,397.151 942.167,403.016 946.197,408.864 950.228,414.693 954.258,420.5 958.289,426.283 962.32,432.039 \n",
       "  966.35,437.767 970.381,443.463 974.411,449.126 978.442,454.754 982.473,460.343 986.503,465.893 990.534,471.4 994.564,476.862 998.595,482.277 1002.63,487.644 \n",
       "  1006.66,492.96 1010.69,498.222 1014.72,503.429 1018.75,508.578 1022.78,513.668 1026.81,518.696 1030.84,523.661 1034.87,528.56 1038.9,533.391 1042.93,538.153 \n",
       "  1046.96,542.844 1050.99,547.461 1055.02,552.004 1059.05,556.469 1063.08,560.855 1067.12,565.161 1071.15,569.385 1075.18,573.525 1079.21,577.579 1083.24,581.546 \n",
       "  1087.27,585.424 1091.3,589.211 1095.33,592.907 1099.36,596.51 1103.39,600.017 1107.42,603.428 1111.45,606.742 1115.48,609.957 1119.51,613.071 1123.54,616.084 \n",
       "  1127.57,618.994 1131.6,621.801 1135.64,624.502 1139.67,627.097 1143.7,629.586 1147.73,631.966 1151.76,634.237 1155.79,636.397 1159.82,638.448 1163.85,640.386 \n",
       "  1167.88,642.212 1171.91,643.925 1175.94,645.524 1179.97,647.008 1184,648.377 1188.03,649.631 1192.06,650.768 1196.09,651.789 1200.13,652.693 1204.16,653.479 \n",
       "  1208.19,654.147 1212.22,654.698 1216.25,655.13 1220.28,655.444 1224.31,655.64 1228.34,655.717 1232.37,655.675 1236.4,655.515 1240.43,655.236 1244.46,654.838 \n",
       "  1248.49,654.323 1252.52,653.689 1256.55,652.938 1260.58,652.069 1264.61,651.083 1268.65,649.98 1272.68,648.761 1276.71,647.426 1280.74,645.976 1284.77,644.411 \n",
       "  1288.8,642.731 1292.83,640.939 1296.86,639.034 1300.89,637.017 1304.92,634.889 1308.95,632.65 1312.98,630.302 1317.01,627.846 1321.04,625.282 1325.07,622.612 \n",
       "  1329.1,619.837 1333.13,616.957 1337.17,613.975 1341.2,610.89 1345.23,607.705 1349.26,604.421 1353.29,601.038 1357.32,597.559 1361.35,593.985 1365.38,590.317 \n",
       "  1369.41,586.556 1373.44,582.705 1377.47,578.764 1381.5,574.735 1385.53,570.621 1389.56,566.422 1393.59,562.14 1397.62,557.777 1401.66,553.335 1405.69,548.816 \n",
       "  1409.72,544.221 1413.75,539.551 1417.78,534.81 1421.81,529.999 1425.84,525.12 1429.87,520.174 1433.9,515.165 1437.93,510.093 1441.96,504.961 1445.99,499.771 \n",
       "  1450.02,494.525 1454.05,489.225 1458.08,483.873 1462.11,478.472 1466.14,473.023 1470.18,467.529 1474.21,461.992 1478.24,456.415 1482.27,450.798 1486.3,445.145 \n",
       "  1490.33,439.459 1494.36,433.74 1498.39,427.992 1502.42,422.217 1506.45,416.417 1510.48,410.594 1514.51,404.751 1518.54,398.891 1522.57,393.015 1526.6,387.126 \n",
       "  1530.63,381.226 1534.66,375.317 1538.7,369.403 1542.73,363.485 1546.76,357.566 1550.79,351.647 1554.82,345.733 1558.85,339.824 1562.88,333.924 1566.91,328.034 \n",
       "  1570.94,322.157 1574.97,316.295 1579,310.451 1583.03,304.627 1587.06,298.826 1591.09,293.049 1595.12,287.299 1599.15,281.579 1603.19,275.89 1607.22,270.235 \n",
       "  1611.25,264.616 1615.28,259.036 1619.31,253.496 1623.34,247.999 1627.37,242.548 1631.4,237.144 1635.43,231.789 1639.46,226.486 1643.49,221.236 1647.52,216.043 \n",
       "  1651.55,210.907 1655.58,205.831 1659.61,200.818 1663.64,195.868 1667.67,190.985 1671.71,186.17 1675.74,181.424 1679.77,176.751 1683.8,172.151 1687.83,167.626 \n",
       "  1691.86,163.179 1695.89,158.812 1699.92,154.525 1703.95,150.321 1707.98,146.201 1712.01,142.167 1716.04,138.221 1720.07,134.364 1724.1,130.598 1728.13,126.924 \n",
       "  1732.16,123.343 1736.19,119.858 1740.23,116.47 1744.26,113.179 1748.29,109.988 1752.32,106.897 1756.35,103.908 1760.38,101.022 1764.41,98.2405 1768.44,95.5639 \n",
       "  1772.47,92.9936 1776.5,90.5307 1780.53,88.1762 1784.56,85.931 1788.59,83.7959 1792.62,81.7719 1796.65,79.8598 1800.68,78.0603 1804.72,76.3742 1808.75,74.8022 \n",
       "  1812.78,73.3448 1816.81,72.0026 1820.84,70.7763 1824.87,69.6662 1828.9,68.6729 1832.93,67.7967 1836.96,67.038 1840.99,66.3971 1845.02,65.8742 1849.05,65.4695 \n",
       "  1853.08,65.1833 1857.11,65.0157 1861.14,64.9666 1865.17,65.0361 1869.2,65.2243 1873.24,65.5309 1877.27,65.956 1881.3,66.4993 1885.33,67.1606 1889.36,67.9396 \n",
       "  1893.39,68.836 1897.42,69.8495 1901.45,70.9797 1905.48,72.2261 1909.51,73.5882 1913.54,75.0654 1917.57,76.6572 1921.6,78.3629 1925.63,80.1819 1929.66,82.1134 \n",
       "  1933.69,84.1566 1937.72,86.3107 1941.76,88.5749 1945.79,90.9482 1949.82,93.4297 1953.85,96.0184 1957.88,98.7132 1961.91,101.513 1965.94,104.417 1969.97,107.424 \n",
       "  1974,110.532 1978.03,113.74 1982.06,117.048 1986.09,120.453 1990.12,123.955 1994.15,127.551 1998.18,131.241 2002.21,135.023 2006.25,138.896 2010.28,142.857 \n",
       "  2014.31,146.906 2018.34,151.041 2022.37,155.259 2026.4,159.56 2030.43,163.942 2034.46,168.402 2038.49,172.939 2042.52,177.552 2046.55,182.238 2050.58,186.996 \n",
       "  2054.61,191.823 2058.64,196.718 2062.67,201.679 2066.7,206.703 2070.73,211.789 2074.77,216.935 2078.8,222.139 2082.83,227.397 2086.86,232.71 2090.89,238.073 \n",
       "  2094.92,243.486 2098.95,248.945 2102.98,254.45 2107.01,259.996 2111.04,265.583 2115.07,271.209 2119.1,276.869 2123.13,282.564 2127.16,288.29 2131.19,294.044 \n",
       "  2135.22,299.825 2139.26,305.631 2143.29,311.459 2147.32,317.306 2151.35,323.17 2155.38,329.05 2159.41,334.941 2163.44,340.844 2167.47,346.754 2171.5,352.669 \n",
       "  2175.53,358.587 2179.56,364.507 2183.59,370.424 2187.62,376.338 2191.65,382.245 2195.68,388.143 2199.71,394.03 2203.74,399.904 2207.78,405.761 2211.81,411.601 \n",
       "  2215.84,417.42 2219.87,423.216 2223.9,428.986 2227.93,434.729 2231.96,440.443 2235.99,446.124 2240.02,451.77 2244.05,457.38 2248.08,462.951 2252.11,468.481 \n",
       "  2256.14,473.967 2260.17,479.408 2264.2,484.801 2268.23,490.144 2272.26,495.435 2276.3,500.671 2280.33,505.851 2284.36,510.973 2288.39,516.034 2292.42,521.033 \n",
       "  \n",
       "  \"/>\n",
       "</svg>\n"
      ]
     },
     "execution_count": 8,
     "metadata": {},
     "output_type": "execute_result"
    }
   ],
   "source": [
    "# first plot will take a few seconds\n",
    "plot(x,sin.(x)) \n",
    "xlabel!(\"x\");ylabel!(\"sin(x)\")"
   ]
  },
  {
   "cell_type": "markdown",
   "metadata": {},
   "source": [
    "- Dot-calls: (large) extension of Matlab's local array operation syntax.\n",
    "- `xlabel!()`: `!` at the end of the function name is a julia convention that declares: \"modifies the input\", also referred to as a ___mutating function___; here the input is the current plot which doesn't neet to be declared. "
   ]
  },
  {
   "cell_type": "code",
   "execution_count": 9,
   "metadata": {},
   "outputs": [
    {
     "data": {
      "image/svg+xml": [
       "<?xml version=\"1.0\" encoding=\"utf-8\"?>\n",
       "<svg xmlns=\"http://www.w3.org/2000/svg\" xmlns:xlink=\"http://www.w3.org/1999/xlink\" width=\"600\" height=\"200\" viewBox=\"0 0 2400 800\">\n",
       "<defs>\n",
       "  <clipPath id=\"clip4600\">\n",
       "    <rect x=\"0\" y=\"0\" width=\"2400\" height=\"800\"/>\n",
       "  </clipPath>\n",
       "</defs>\n",
       "<path clip-path=\"url(#clip4600)\" d=\"\n",
       "M0 800 L2400 800 L2400 0 L0 0  Z\n",
       "  \" fill=\"#ffffff\" fill-rule=\"evenodd\" fill-opacity=\"1\"/>\n",
       "<defs>\n",
       "  <clipPath id=\"clip4601\">\n",
       "    <rect x=\"480\" y=\"0\" width=\"1681\" height=\"800\"/>\n",
       "  </clipPath>\n",
       "</defs>\n",
       "<path clip-path=\"url(#clip4600)\" d=\"\n",
       "M220.81 673.439 L2352.76 673.439 L2352.76 47.2441 L220.81 47.2441  Z\n",
       "  \" fill=\"#ffffff\" fill-rule=\"evenodd\" fill-opacity=\"1\"/>\n",
       "<defs>\n",
       "  <clipPath id=\"clip4602\">\n",
       "    <rect x=\"220\" y=\"47\" width=\"2133\" height=\"627\"/>\n",
       "  </clipPath>\n",
       "</defs>\n",
       "<polyline clip-path=\"url(#clip4600)\" style=\"stroke:#000000; stroke-width:4; stroke-opacity:1; fill:none\" points=\"\n",
       "  220.81,673.439 2352.76,673.439 \n",
       "  \"/>\n",
       "<polyline clip-path=\"url(#clip4600)\" style=\"stroke:#000000; stroke-width:4; stroke-opacity:1; fill:none\" points=\"\n",
       "  220.81,673.439 220.81,47.2441 \n",
       "  \"/>\n",
       "<polyline clip-path=\"url(#clip4600)\" style=\"stroke:#000000; stroke-width:4; stroke-opacity:1; fill:none\" points=\"\n",
       "  281.148,673.439 281.148,665.925 \n",
       "  \"/>\n",
       "<polyline clip-path=\"url(#clip4600)\" style=\"stroke:#000000; stroke-width:4; stroke-opacity:1; fill:none\" points=\"\n",
       "  783.966,673.439 783.966,665.925 \n",
       "  \"/>\n",
       "<polyline clip-path=\"url(#clip4600)\" style=\"stroke:#000000; stroke-width:4; stroke-opacity:1; fill:none\" points=\"\n",
       "  1286.78,673.439 1286.78,665.925 \n",
       "  \"/>\n",
       "<polyline clip-path=\"url(#clip4600)\" style=\"stroke:#000000; stroke-width:4; stroke-opacity:1; fill:none\" points=\"\n",
       "  1789.6,673.439 1789.6,665.925 \n",
       "  \"/>\n",
       "<polyline clip-path=\"url(#clip4600)\" style=\"stroke:#000000; stroke-width:4; stroke-opacity:1; fill:none\" points=\"\n",
       "  2292.42,673.439 2292.42,665.925 \n",
       "  \"/>\n",
       "<polyline clip-path=\"url(#clip4600)\" style=\"stroke:#000000; stroke-width:4; stroke-opacity:1; fill:none\" points=\"\n",
       "  220.81,655.718 246.393,655.718 \n",
       "  \"/>\n",
       "<polyline clip-path=\"url(#clip4600)\" style=\"stroke:#000000; stroke-width:4; stroke-opacity:1; fill:none\" points=\"\n",
       "  220.81,508.03 246.393,508.03 \n",
       "  \"/>\n",
       "<polyline clip-path=\"url(#clip4600)\" style=\"stroke:#000000; stroke-width:4; stroke-opacity:1; fill:none\" points=\"\n",
       "  220.81,360.342 246.393,360.342 \n",
       "  \"/>\n",
       "<polyline clip-path=\"url(#clip4600)\" style=\"stroke:#000000; stroke-width:4; stroke-opacity:1; fill:none\" points=\"\n",
       "  220.81,212.654 246.393,212.654 \n",
       "  \"/>\n",
       "<polyline clip-path=\"url(#clip4600)\" style=\"stroke:#000000; stroke-width:4; stroke-opacity:1; fill:none\" points=\"\n",
       "  220.81,64.9666 246.393,64.9666 \n",
       "  \"/>\n",
       "<g clip-path=\"url(#clip4600)\">\n",
       "<text style=\"fill:#000000; fill-opacity:1; font-family:Arial,Helvetica Neue,Helvetica,sans-serif; font-size:48px; text-anchor:middle;\" transform=\"rotate(0, 281.148, 727.439)\" x=\"281.148\" y=\"727.439\">0.0</text>\n",
       "</g>\n",
       "<g clip-path=\"url(#clip4600)\">\n",
       "<text style=\"fill:#000000; fill-opacity:1; font-family:Arial,Helvetica Neue,Helvetica,sans-serif; font-size:48px; text-anchor:middle;\" transform=\"rotate(0, 783.966, 727.439)\" x=\"783.966\" y=\"727.439\">2.5</text>\n",
       "</g>\n",
       "<g clip-path=\"url(#clip4600)\">\n",
       "<text style=\"fill:#000000; fill-opacity:1; font-family:Arial,Helvetica Neue,Helvetica,sans-serif; font-size:48px; text-anchor:middle;\" transform=\"rotate(0, 1286.78, 727.439)\" x=\"1286.78\" y=\"727.439\">5.0</text>\n",
       "</g>\n",
       "<g clip-path=\"url(#clip4600)\">\n",
       "<text style=\"fill:#000000; fill-opacity:1; font-family:Arial,Helvetica Neue,Helvetica,sans-serif; font-size:48px; text-anchor:middle;\" transform=\"rotate(0, 1789.6, 727.439)\" x=\"1789.6\" y=\"727.439\">7.5</text>\n",
       "</g>\n",
       "<g clip-path=\"url(#clip4600)\">\n",
       "<text style=\"fill:#000000; fill-opacity:1; font-family:Arial,Helvetica Neue,Helvetica,sans-serif; font-size:48px; text-anchor:middle;\" transform=\"rotate(0, 2292.42, 727.439)\" x=\"2292.42\" y=\"727.439\">10.0</text>\n",
       "</g>\n",
       "<g clip-path=\"url(#clip4600)\">\n",
       "<text style=\"fill:#000000; fill-opacity:1; font-family:Arial,Helvetica Neue,Helvetica,sans-serif; font-size:48px; text-anchor:end;\" transform=\"rotate(0, 196.81, 673.218)\" x=\"196.81\" y=\"673.218\">-1.0</text>\n",
       "</g>\n",
       "<g clip-path=\"url(#clip4600)\">\n",
       "<text style=\"fill:#000000; fill-opacity:1; font-family:Arial,Helvetica Neue,Helvetica,sans-serif; font-size:48px; text-anchor:end;\" transform=\"rotate(0, 196.81, 525.53)\" x=\"196.81\" y=\"525.53\">-0.5</text>\n",
       "</g>\n",
       "<g clip-path=\"url(#clip4600)\">\n",
       "<text style=\"fill:#000000; fill-opacity:1; font-family:Arial,Helvetica Neue,Helvetica,sans-serif; font-size:48px; text-anchor:end;\" transform=\"rotate(0, 196.81, 377.842)\" x=\"196.81\" y=\"377.842\">0.0</text>\n",
       "</g>\n",
       "<g clip-path=\"url(#clip4600)\">\n",
       "<text style=\"fill:#000000; fill-opacity:1; font-family:Arial,Helvetica Neue,Helvetica,sans-serif; font-size:48px; text-anchor:end;\" transform=\"rotate(0, 196.81, 230.154)\" x=\"196.81\" y=\"230.154\">0.5</text>\n",
       "</g>\n",
       "<g clip-path=\"url(#clip4600)\">\n",
       "<text style=\"fill:#000000; fill-opacity:1; font-family:Arial,Helvetica Neue,Helvetica,sans-serif; font-size:48px; text-anchor:end;\" transform=\"rotate(0, 196.81, 82.4666)\" x=\"196.81\" y=\"82.4666\">1.0</text>\n",
       "</g>\n",
       "<g clip-path=\"url(#clip4600)\">\n",
       "<text style=\"fill:#000000; fill-opacity:1; font-family:Arial,Helvetica Neue,Helvetica,sans-serif; font-size:66px; text-anchor:middle;\" transform=\"rotate(0, 1286.78, 807.301)\" x=\"1286.78\" y=\"807.301\">x</text>\n",
       "</g>\n",
       "<g clip-path=\"url(#clip4600)\">\n",
       "<text style=\"fill:#000000; fill-opacity:1; font-family:Arial,Helvetica Neue,Helvetica,sans-serif; font-size:66px; text-anchor:middle;\" transform=\"rotate(-90, 66.2321, 360.342)\" x=\"66.2321\" y=\"360.342\">sin(x)</text>\n",
       "</g>\n",
       "<polyline clip-path=\"url(#clip4602)\" style=\"stroke:#009af9; stroke-width:4; stroke-opacity:1; fill:none\" points=\"\n",
       "  281.148,360.342 285.179,354.423 289.209,348.507 293.24,342.595 297.271,336.69 301.301,330.795 305.332,324.912 309.362,319.043 313.393,313.19 317.424,307.357 \n",
       "  321.454,301.544 325.485,295.756 329.515,289.993 333.546,284.258 337.577,278.554 341.607,272.883 345.638,267.247 349.668,261.649 353.699,256.09 357.73,250.573 \n",
       "  361.76,245.1 365.791,239.673 369.821,234.295 373.852,228.967 377.883,223.692 381.913,218.472 385.944,213.309 389.974,208.205 394.005,203.162 398.036,198.182 \n",
       "  402.066,193.268 406.097,188.42 410.127,183.642 414.158,178.934 418.189,174.299 422.219,169.739 426.25,165.256 430.28,160.851 434.311,156.526 438.342,152.283 \n",
       "  442.372,148.123 446.403,144.049 450.433,140.061 454.464,136.162 458.495,132.353 462.525,128.636 466.556,125.011 470.586,121.482 474.617,118.048 478.648,114.711 \n",
       "  482.678,111.473 486.709,108.335 490.739,105.298 494.77,102.364 498.801,99.5327 502.831,96.8066 506.862,94.1863 510.892,91.673 514.923,89.2675 518.954,86.9708 \n",
       "  522.984,84.784 527.015,82.7078 531.045,80.7432 535.076,78.8908 539.107,77.1514 543.137,75.5257 547.168,74.0145 551.198,72.6182 555.229,71.3375 559.26,70.1728 \n",
       "  563.29,69.1247 567.321,68.1935 571.351,67.3796 575.382,66.6834 579.413,66.1052 583.443,65.645 587.474,65.3033 591.504,65.08 595.535,64.9753 599.566,64.9892 \n",
       "  603.596,65.1217 607.627,65.3728 611.657,65.7423 615.688,66.2302 619.719,66.8361 623.749,67.56 627.78,68.4014 631.81,69.36 635.841,70.4355 639.872,71.6275 \n",
       "  643.902,72.9353 647.933,74.3586 651.963,75.8968 655.994,77.5491 660.025,79.3151 664.055,81.1939 668.086,83.1848 672.116,85.287 676.147,87.4996 680.178,89.8219 \n",
       "  684.208,92.2528 688.239,94.7913 692.269,97.4365 696.3,100.187 700.331,103.042 704.361,106.001 708.392,109.062 712.422,112.223 716.453,115.485 720.484,118.844 \n",
       "  724.514,122.301 728.545,125.853 732.575,129.499 736.606,133.238 740.637,137.069 744.667,140.989 748.698,144.997 752.728,149.091 756.759,153.27 760.79,157.533 \n",
       "  764.82,161.877 768.851,166.3 772.881,170.802 776.912,175.38 780.943,180.032 784.973,184.756 789.004,189.551 793.034,194.414 797.065,199.344 801.096,204.339 \n",
       "  805.126,209.397 809.157,214.515 813.187,219.691 817.218,224.924 821.249,230.212 825.279,235.551 829.31,240.941 833.34,246.379 837.371,251.863 841.402,257.39 \n",
       "  845.432,262.958 849.463,268.566 853.493,274.21 857.524,279.889 861.555,285.6 865.585,291.342 869.616,297.111 873.646,302.905 877.677,308.723 881.708,314.561 \n",
       "  885.738,320.418 889.769,326.29 893.799,332.177 897.83,338.074 901.861,343.981 905.891,349.894 909.922,355.811 913.952,361.731 917.983,367.649 922.014,373.565 \n",
       "  926.044,379.475 930.075,385.378 934.105,391.271 938.136,397.151 942.167,403.016 946.197,408.864 950.228,414.693 954.258,420.5 958.289,426.283 962.32,432.039 \n",
       "  966.35,437.767 970.381,443.463 974.411,449.126 978.442,454.754 982.473,460.343 986.503,465.893 990.534,471.4 994.564,476.862 998.595,482.278 1002.63,487.644 \n",
       "  1006.66,492.96 1010.69,498.222 1014.72,503.429 1018.75,508.578 1022.78,513.668 1026.81,518.696 1030.84,523.661 1034.87,528.56 1038.9,533.392 1042.93,538.154 \n",
       "  1046.96,542.844 1050.99,547.462 1055.02,552.004 1059.05,556.469 1063.08,560.855 1067.12,565.161 1071.15,569.385 1075.18,573.525 1079.21,577.579 1083.24,581.546 \n",
       "  1087.27,585.424 1091.3,589.212 1095.33,592.907 1099.36,596.51 1103.39,600.017 1107.42,603.428 1111.45,606.742 1115.48,609.957 1119.51,613.071 1123.54,616.084 \n",
       "  1127.57,618.994 1131.6,621.801 1135.64,624.502 1139.67,627.097 1143.7,629.586 1147.73,631.966 1151.76,634.237 1155.79,636.398 1159.82,638.448 1163.85,640.386 \n",
       "  1167.88,642.212 1171.91,643.925 1175.94,645.524 1179.97,647.008 1184,648.377 1188.03,649.631 1192.06,650.768 1196.09,651.789 1200.13,652.693 1204.16,653.479 \n",
       "  1208.19,654.147 1212.22,654.698 1216.25,655.13 1220.28,655.444 1224.31,655.64 1228.34,655.717 1232.37,655.675 1236.4,655.515 1240.43,655.236 1244.46,654.838 \n",
       "  1248.49,654.323 1252.52,653.689 1256.55,652.938 1260.58,652.069 1264.61,651.083 1268.65,649.98 1272.68,648.761 1276.71,647.426 1280.74,645.976 1284.77,644.411 \n",
       "  1288.8,642.732 1292.83,640.939 1296.86,639.034 1300.89,637.017 1304.92,634.889 1308.95,632.65 1312.98,630.302 1317.01,627.846 1321.04,625.283 1325.07,622.612 \n",
       "  1329.1,619.837 1333.13,616.958 1337.17,613.975 1341.2,610.89 1345.23,607.705 1349.26,604.421 1353.29,601.038 1357.32,597.559 1361.35,593.985 1365.38,590.317 \n",
       "  1369.41,586.556 1373.44,582.705 1377.47,578.764 1381.5,574.736 1385.53,570.621 1389.56,566.422 1393.59,562.14 1397.62,557.777 1401.66,553.335 1405.69,548.816 \n",
       "  1409.72,544.221 1413.75,539.551 1417.78,534.81 1421.81,529.999 1425.84,525.12 1429.87,520.175 1433.9,515.165 1437.93,510.093 1441.96,504.961 1445.99,499.771 \n",
       "  1450.02,494.525 1454.05,489.225 1458.08,483.874 1462.11,478.472 1466.14,473.024 1470.18,467.53 1474.21,461.993 1478.24,456.415 1482.27,450.798 1486.3,445.146 \n",
       "  1490.33,439.459 1494.36,433.74 1498.39,427.992 1502.42,422.217 1506.45,416.417 1510.48,410.594 1514.51,404.752 1518.54,398.891 1522.57,393.015 1526.6,387.126 \n",
       "  1530.63,381.226 1534.66,375.317 1538.7,369.403 1542.73,363.485 1546.76,357.566 1550.79,351.648 1554.82,345.733 1558.85,339.824 1562.88,333.924 1566.91,328.034 \n",
       "  1570.94,322.157 1574.97,316.295 1579,310.451 1583.03,304.627 1587.06,298.826 1591.09,293.049 1595.12,287.299 1599.15,281.579 1603.19,275.89 1607.22,270.235 \n",
       "  1611.25,264.616 1615.28,259.036 1619.31,253.496 1623.34,248 1627.37,242.548 1631.4,237.144 1635.43,231.789 1639.46,226.486 1643.49,221.237 1647.52,216.043 \n",
       "  1651.55,210.907 1655.58,205.832 1659.61,200.818 1663.64,195.869 1667.67,190.985 1671.71,186.17 1675.74,181.425 1679.77,176.751 1683.8,172.151 1687.83,167.627 \n",
       "  1691.86,163.18 1695.89,158.812 1699.92,154.525 1703.95,150.321 1707.98,146.201 1712.01,142.167 1716.04,138.221 1720.07,134.364 1724.1,130.598 1728.13,126.924 \n",
       "  1732.16,123.344 1736.19,119.859 1740.23,116.47 1744.26,113.18 1748.29,109.988 1752.32,106.898 1756.35,103.909 1760.38,101.023 1764.41,98.2409 1768.44,95.5643 \n",
       "  1772.47,92.994 1776.5,90.5312 1780.53,88.1766 1784.56,85.9314 1788.59,83.7963 1792.62,81.7724 1796.65,79.8603 1800.68,78.0608 1804.72,76.3747 1808.75,74.8026 \n",
       "  1812.78,73.3452 1816.81,72.0031 1820.84,70.7767 1824.87,69.6667 1828.9,68.6733 1832.93,67.7971 1836.96,67.0384 1840.99,66.3975 1845.02,65.8746 1849.05,65.47 \n",
       "  1853.08,65.1838 1857.11,65.0161 1861.14,64.967 1865.17,65.0366 1869.2,65.2247 1873.24,65.5314 1877.27,65.9564 1881.3,66.4997 1885.33,67.161 1889.36,67.94 \n",
       "  1893.39,68.8365 1897.42,69.85 1901.45,70.9801 1905.48,72.2265 1909.51,73.5886 1913.54,75.0658 1917.57,76.6576 1921.6,78.3634 1925.63,80.1823 1929.66,82.1138 \n",
       "  1933.69,84.157 1937.72,86.3111 1941.76,88.5753 1945.79,90.9486 1949.82,93.4301 1953.85,96.0188 1957.88,98.7136 1961.91,101.514 1965.94,104.417 1969.97,107.424 \n",
       "  1974,110.532 1978.03,113.741 1982.06,117.048 1986.09,120.454 1990.12,123.955 1994.15,127.552 1998.18,131.242 2002.21,135.024 2006.25,138.896 2010.28,142.858 \n",
       "  2014.31,146.906 2018.34,151.041 2022.37,155.259 2026.4,159.56 2030.43,163.942 2034.46,168.402 2038.49,172.94 2042.52,177.553 2046.55,182.239 2050.58,186.996 \n",
       "  2054.61,191.824 2058.64,196.719 2062.67,201.679 2066.7,206.704 2070.73,211.79 2074.77,216.936 2078.8,222.139 2082.83,227.398 2086.86,232.71 2090.89,238.073 \n",
       "  2094.92,243.486 2098.95,248.946 2102.98,254.45 2107.01,259.997 2111.04,265.584 2115.07,271.209 2119.1,276.87 2123.13,282.564 2127.16,288.29 2131.19,294.044 \n",
       "  2135.22,299.826 2139.26,305.631 2143.29,311.459 2147.32,317.306 2151.35,323.17 2155.38,329.05 2159.41,334.942 2163.44,340.844 2167.47,346.754 2171.5,352.669 \n",
       "  2175.53,358.588 2179.56,364.507 2183.59,370.424 2187.62,376.338 2191.65,382.245 2195.68,388.143 2199.71,394.03 2203.74,399.904 2207.78,405.762 2211.81,411.601 \n",
       "  2215.84,417.42 2219.87,423.216 2223.9,428.987 2227.93,434.73 2231.96,440.443 2235.99,446.124 2240.02,451.771 2244.05,457.381 2248.08,462.951 2252.11,468.481 \n",
       "  2256.14,473.967 2260.17,479.408 2264.2,484.801 2268.23,490.144 2272.26,495.435 2276.3,500.671 2280.33,505.851 2284.36,510.973 2288.39,516.034 2292.42,521.033 \n",
       "  \n",
       "  \"/>\n",
       "<path clip-path=\"url(#clip4602)\" d=\"\n",
       "M281.148 64.9666 L285.179 65.0852 L289.209 65.4408 L293.24 66.0329 L297.271 66.8605 L301.301 67.9223 L305.332 69.2165 L309.362 70.7412 L313.393 72.4937 L317.424 74.4714 \n",
       "  L321.454 76.6711 L325.485 79.0891 L329.515 81.7217 L333.546 84.5646 L337.577 87.6133 L341.607 90.8628 L345.638 94.3079 L349.668 97.9431 L353.699 101.763 L357.73 105.76 \n",
       "  L361.76 109.929 L365.791 114.264 L369.821 118.756 L373.852 123.399 L377.883 128.185 L381.913 133.108 L385.944 138.157 L389.974 143.327 L394.005 148.608 L398.036 153.992 \n",
       "  L402.066 159.47 L406.097 165.033 L410.127 170.673 L414.158 176.381 L418.189 182.146 L422.219 187.961 L426.25 193.815 L430.28 199.7 L434.311 205.605 L438.342 211.522 \n",
       "  L442.372 217.44 L446.403 223.351 L450.433 229.245 L454.464 235.112 L458.495 240.943 L462.525 246.728 L466.556 252.459 L470.586 258.126 L474.617 263.719 L478.648 269.231 \n",
       "  L482.678 274.652 L486.709 279.973 L490.739 285.187 L494.77 290.283 L498.801 295.255 L502.831 300.095 L506.862 304.793 L510.892 309.344 L514.923 313.74 L518.954 317.973 \n",
       "  L522.984 322.037 L527.015 325.925 L531.045 329.632 L535.076 333.15 L539.107 336.475 L543.137 339.601 L547.168 342.524 L551.198 345.237 L555.229 347.738 L559.26 350.022 \n",
       "  L563.29 352.085 L567.321 353.924 L571.351 355.536 L575.382 356.919 L579.413 358.07 L583.443 358.987 L587.474 359.669 L591.504 360.116 L595.535 360.325 L599.566 360.297 \n",
       "  L603.596 360.032 L607.627 359.53 L611.657 358.793 L615.688 357.821 L619.719 356.615 L623.749 355.178 L627.78 353.513 L631.81 351.621 L635.841 349.506 L639.872 347.171 \n",
       "  L643.902 344.62 L647.933 341.857 L651.963 338.886 L655.994 335.713 L660.025 332.342 L664.055 328.779 L668.086 325.03 L672.116 321.099 L676.147 316.995 L680.178 312.723 \n",
       "  L684.208 308.291 L688.239 303.704 L692.269 298.972 L696.3 294.101 L700.331 289.099 L704.361 283.974 L708.392 278.735 L712.422 273.389 L716.453 267.946 L720.484 262.415 \n",
       "  L724.514 256.803 L728.545 251.12 L732.575 245.376 L736.606 239.579 L740.637 233.739 L744.667 227.864 L748.698 221.966 L752.728 216.052 L756.759 210.134 L760.79 204.219 \n",
       "  L764.82 198.317 L768.851 192.439 L772.881 186.593 L776.912 180.789 L780.943 175.036 L784.973 169.344 L789.004 163.721 L793.034 158.177 L797.065 152.72 L801.096 147.36 \n",
       "  L805.126 142.104 L809.157 136.962 L813.187 131.941 L817.218 127.05 L821.249 122.297 L825.279 117.688 L829.31 113.233 L833.34 108.936 L837.371 104.807 L841.402 100.851 \n",
       "  L845.432 97.0738 L849.463 93.4826 L853.493 90.0829 L857.524 86.8801 L861.555 83.8793 L865.585 81.0853 L869.616 78.5026 L873.646 76.1355 L877.677 73.9876 L881.708 72.0624 \n",
       "  L885.738 70.363 L889.769 68.8922 L893.799 67.6523 L897.83 66.6454 L901.861 65.8729 L905.891 65.3362 L909.922 65.0361 L913.952 64.9731 L917.983 65.1474 L922.014 65.5585 \n",
       "  L926.044 66.2059 L930.075 67.0886 L934.105 68.205 L938.136 69.5535 L942.167 71.1318 L946.197 72.9375 L950.228 74.9675 L954.258 77.2187 L958.289 79.6874 L962.32 82.3698 \n",
       "  L966.35 85.2613 L970.381 88.3575 L974.411 91.6534 L978.442 95.1436 L982.473 98.8225 L986.503 102.684 L990.534 106.723 L994.564 110.931 L998.595 115.303 L1002.63 119.832 \n",
       "  L1006.66 124.509 L1010.69 129.328 L1014.72 134.281 L1018.75 139.359 L1022.78 144.556 L1026.81 149.862 L1030.84 155.268 L1034.87 160.767 L1038.9 166.349 L1042.93 172.006 \n",
       "  L1046.96 177.728 L1050.99 183.506 L1055.02 189.331 L1059.05 195.193 L1063.08 201.083 L1067.12 206.992 L1071.15 212.91 L1075.18 218.827 L1079.21 224.735 L1083.24 230.623 \n",
       "  L1087.27 236.483 L1091.3 242.304 L1095.33 248.077 L1099.36 253.794 L1103.39 259.444 L1107.42 265.02 L1111.45 270.511 L1115.48 275.909 L1119.51 281.206 L1123.54 286.393 \n",
       "  L1127.57 291.461 L1131.6 296.402 L1135.64 301.209 L1139.67 305.874 L1143.7 310.389 L1147.73 314.747 L1151.76 318.942 L1155.79 322.965 L1159.82 326.811 L1163.85 330.474 \n",
       "  L1167.88 333.948 L1171.91 337.227 L1175.94 340.305 L1179.97 343.179 L1184 345.843 L1188.03 348.293 L1192.06 350.525 L1196.09 352.536 L1200.13 354.322 L1204.16 355.881 \n",
       "  L1208.19 357.209 L1212.22 358.306 L1216.25 359.168 L1220.28 359.795 L1224.31 360.186 L1228.34 360.34 L1232.37 360.256 L1236.4 359.936 L1240.43 359.379 L1244.46 358.586 \n",
       "  L1248.49 357.559 L1252.52 356.299 L1256.55 354.808 L1260.58 353.089 L1264.61 351.145 L1268.65 348.978 L1272.68 346.592 L1276.71 343.991 L1280.74 341.179 L1284.77 338.16 \n",
       "  L1288.8 334.94 L1292.83 331.524 L1296.86 327.916 L1300.89 324.124 L1304.92 320.152 L1308.95 316.008 L1312.98 311.698 L1317.01 307.229 L1321.04 302.607 L1325.07 297.842 \n",
       "  L1329.1 292.939 L1333.13 287.908 L1337.17 282.755 L1341.2 277.49 L1345.23 272.121 L1349.26 266.657 L1353.29 261.105 L1357.32 255.476 L1361.35 249.778 L1365.38 244.021 \n",
       "  L1369.41 238.213 L1373.44 232.364 L1377.47 226.483 L1381.5 220.58 L1385.53 214.664 L1389.56 208.746 L1393.59 202.833 L1397.62 196.936 L1401.66 191.065 L1405.69 185.228 \n",
       "  L1409.72 179.435 L1413.75 173.696 L1417.78 168.019 L1421.81 162.414 L1425.84 156.889 L1429.87 151.454 L1433.9 146.118 L1437.93 140.888 L1441.96 135.773 L1445.99 130.782 \n",
       "  L1450.02 125.923 L1454.05 121.203 L1458.08 116.63 L1462.11 112.21 L1466.14 107.953 L1470.18 103.863 L1474.21 99.9484 L1478.24 96.2147 L1482.27 92.6679 L1486.3 89.3139 \n",
       "  L1490.33 86.158 L1494.36 83.2053 L1498.39 80.4605 L1502.42 77.928 L1506.45 75.6119 L1510.48 73.5159 L1514.51 71.6435 L1518.54 69.9975 L1522.57 68.5806 L1526.6 67.3952 \n",
       "  L1530.63 66.4431 L1534.66 65.7258 L1538.7 65.2445 L1542.73 65 L1546.76 64.9927 L1550.79 65.2225 L1554.82 65.6892 L1558.85 66.3919 L1562.88 67.3295 L1566.91 68.5005 \n",
       "  L1570.94 69.9031 L1574.97 71.535 L1579 73.3935 L1583.03 75.4758 L1587.06 77.7783 L1591.09 80.2975 L1595.12 83.0293 L1599.15 85.9693 L1603.19 89.1128 L1607.22 92.4547 \n",
       "  L1611.25 95.9896 L1615.28 99.712 L1619.31 103.616 L1623.34 107.695 L1627.37 111.942 L1631.4 116.351 L1635.43 120.915 L1639.46 125.627 L1643.49 130.478 L1647.52 135.461 \n",
       "  L1651.55 140.568 L1655.58 145.791 L1659.61 151.121 L1663.64 156.55 L1667.67 162.069 L1671.71 167.67 L1675.74 173.342 L1679.77 179.078 L1683.8 184.868 L1687.83 190.702 \n",
       "  L1691.86 196.572 L1695.89 202.468 L1699.92 208.379 L1703.95 214.298 L1707.98 220.214 L1712.01 226.118 L1716.04 232 L1720.07 237.852 L1724.1 243.662 L1728.13 249.423 \n",
       "  L1732.16 255.125 L1736.19 260.759 L1740.23 266.315 L1744.26 271.786 L1748.29 277.161 L1752.32 282.433 L1756.35 287.592 L1760.38 292.631 L1764.41 297.542 L1768.44 302.316 \n",
       "  L1772.47 306.947 L1776.5 311.426 L1780.53 315.746 L1784.56 319.901 L1788.59 323.883 L1792.62 327.687 L1796.65 331.306 L1800.68 334.734 L1804.72 337.967 L1808.75 340.998 \n",
       "  L1812.78 343.823 L1816.81 346.437 L1820.84 348.836 L1824.87 351.017 L1828.9 352.975 L1832.93 354.708 L1836.96 356.213 L1840.99 357.487 L1845.02 358.529 L1849.05 359.336 \n",
       "  L1853.08 359.908 L1857.11 360.243 L1861.14 360.341 L1865.17 360.202 L1869.2 359.826 L1873.24 359.214 L1877.27 358.366 L1881.3 357.284 L1885.33 355.97 L1889.36 354.425 \n",
       "  L1893.39 352.653 L1897.42 350.656 L1901.45 348.438 L1905.48 346.001 L1909.51 343.35 L1913.54 340.489 L1917.57 337.423 L1921.6 334.156 L1925.63 330.695 L1929.66 327.043 \n",
       "  L1933.69 323.208 L1937.72 319.196 L1941.76 315.012 L1945.79 310.664 L1949.82 306.158 L1953.85 301.502 L1957.88 296.704 L1961.91 291.77 L1965.94 286.71 L1969.97 281.53 \n",
       "  L1974 276.24 L1978.03 270.848 L1982.06 265.362 L1986.09 259.792 L1990.12 254.146 L1994.15 248.433 L1998.18 242.663 L2002.21 236.844 L2006.25 230.987 L2010.28 225.1 \n",
       "  L2014.31 219.194 L2018.34 213.276 L2022.37 207.358 L2026.4 201.448 L2030.43 195.557 L2034.46 189.692 L2038.49 183.865 L2042.52 178.084 L2046.55 172.358 L2050.58 166.697 \n",
       "  L2054.61 161.11 L2058.64 155.606 L2062.67 150.194 L2066.7 144.881 L2070.73 139.678 L2074.77 134.592 L2078.8 129.631 L2082.83 124.803 L2086.86 120.117 L2090.89 115.579 \n",
       "  L2094.92 111.197 L2098.95 106.978 L2102.98 102.929 L2107.01 99.0563 L2111.04 95.3658 L2115.07 91.8638 L2119.1 88.5558 L2123.13 85.4471 L2127.16 82.5427 L2131.19 79.8473 \n",
       "  L2135.22 77.3652 L2139.26 75.1005 L2143.29 73.0566 L2147.32 71.237 L2151.35 69.6445 L2155.38 68.2818 L2159.41 67.1509 L2163.44 66.2537 L2167.47 65.5917 L2171.5 65.1659 \n",
       "  L2175.53 64.977 L2179.56 65.0253 L2183.59 65.3107 L2187.62 65.8328 L2191.65 66.5907 L2195.68 67.5832 L2199.71 68.8088 L2203.74 70.2653 L2207.78 71.9506 L2211.81 73.8619 \n",
       "  L2215.84 75.9961 L2219.87 78.3498 L2223.9 80.9193 L2227.93 83.7003 L2231.96 86.6884 L2235.99 89.8789 L2240.02 93.2666 L2244.05 96.846 L2248.08 100.611 L2252.11 104.557 \n",
       "  L2256.14 108.676 L2260.17 112.962 L2264.2 117.408 L2268.23 122.007 L2272.26 126.752 L2276.3 131.635 L2280.33 136.648 L2284.36 141.783 L2288.39 147.031 L2292.42 152.386 \n",
       "  L2292.42 360.342 L2288.39 360.342 L2284.36 360.342 L2280.33 360.342 L2276.3 360.342 L2272.26 360.342 L2268.23 360.342 L2264.2 360.342 L2260.17 360.342 L2256.14 360.342 \n",
       "  L2252.11 360.342 L2248.08 360.342 L2244.05 360.342 L2240.02 360.342 L2235.99 360.342 L2231.96 360.342 L2227.93 360.342 L2223.9 360.342 L2219.87 360.342 L2215.84 360.342 \n",
       "  L2211.81 360.342 L2207.78 360.342 L2203.74 360.342 L2199.71 360.342 L2195.68 360.342 L2191.65 360.342 L2187.62 360.342 L2183.59 360.342 L2179.56 360.342 L2175.53 360.342 \n",
       "  L2171.5 360.342 L2167.47 360.342 L2163.44 360.342 L2159.41 360.342 L2155.38 360.342 L2151.35 360.342 L2147.32 360.342 L2143.29 360.342 L2139.26 360.342 L2135.22 360.342 \n",
       "  L2131.19 360.342 L2127.16 360.342 L2123.13 360.342 L2119.1 360.342 L2115.07 360.342 L2111.04 360.342 L2107.01 360.342 L2102.98 360.342 L2098.95 360.342 L2094.92 360.342 \n",
       "  L2090.89 360.342 L2086.86 360.342 L2082.83 360.342 L2078.8 360.342 L2074.77 360.342 L2070.73 360.342 L2066.7 360.342 L2062.67 360.342 L2058.64 360.342 L2054.61 360.342 \n",
       "  L2050.58 360.342 L2046.55 360.342 L2042.52 360.342 L2038.49 360.342 L2034.46 360.342 L2030.43 360.342 L2026.4 360.342 L2022.37 360.342 L2018.34 360.342 L2014.31 360.342 \n",
       "  L2010.28 360.342 L2006.25 360.342 L2002.21 360.342 L1998.18 360.342 L1994.15 360.342 L1990.12 360.342 L1986.09 360.342 L1982.06 360.342 L1978.03 360.342 L1974 360.342 \n",
       "  L1969.97 360.342 L1965.94 360.342 L1961.91 360.342 L1957.88 360.342 L1953.85 360.342 L1949.82 360.342 L1945.79 360.342 L1941.76 360.342 L1937.72 360.342 L1933.69 360.342 \n",
       "  L1929.66 360.342 L1925.63 360.342 L1921.6 360.342 L1917.57 360.342 L1913.54 360.342 L1909.51 360.342 L1905.48 360.342 L1901.45 360.342 L1897.42 360.342 L1893.39 360.342 \n",
       "  L1889.36 360.342 L1885.33 360.342 L1881.3 360.342 L1877.27 360.342 L1873.24 360.342 L1869.2 360.342 L1865.17 360.342 L1861.14 360.342 L1857.11 360.342 L1853.08 360.342 \n",
       "  L1849.05 360.342 L1845.02 360.342 L1840.99 360.342 L1836.96 360.342 L1832.93 360.342 L1828.9 360.342 L1824.87 360.342 L1820.84 360.342 L1816.81 360.342 L1812.78 360.342 \n",
       "  L1808.75 360.342 L1804.72 360.342 L1800.68 360.342 L1796.65 360.342 L1792.62 360.342 L1788.59 360.342 L1784.56 360.342 L1780.53 360.342 L1776.5 360.342 L1772.47 360.342 \n",
       "  L1768.44 360.342 L1764.41 360.342 L1760.38 360.342 L1756.35 360.342 L1752.32 360.342 L1748.29 360.342 L1744.26 360.342 L1740.23 360.342 L1736.19 360.342 L1732.16 360.342 \n",
       "  L1728.13 360.342 L1724.1 360.342 L1720.07 360.342 L1716.04 360.342 L1712.01 360.342 L1707.98 360.342 L1703.95 360.342 L1699.92 360.342 L1695.89 360.342 L1691.86 360.342 \n",
       "  L1687.83 360.342 L1683.8 360.342 L1679.77 360.342 L1675.74 360.342 L1671.71 360.342 L1667.67 360.342 L1663.64 360.342 L1659.61 360.342 L1655.58 360.342 L1651.55 360.342 \n",
       "  L1647.52 360.342 L1643.49 360.342 L1639.46 360.342 L1635.43 360.342 L1631.4 360.342 L1627.37 360.342 L1623.34 360.342 L1619.31 360.342 L1615.28 360.342 L1611.25 360.342 \n",
       "  L1607.22 360.342 L1603.19 360.342 L1599.15 360.342 L1595.12 360.342 L1591.09 360.342 L1587.06 360.342 L1583.03 360.342 L1579 360.342 L1574.97 360.342 L1570.94 360.342 \n",
       "  L1566.91 360.342 L1562.88 360.342 L1558.85 360.342 L1554.82 360.342 L1550.79 360.342 L1546.76 360.342 L1542.73 360.342 L1538.7 360.342 L1534.66 360.342 L1530.63 360.342 \n",
       "  L1526.6 360.342 L1522.57 360.342 L1518.54 360.342 L1514.51 360.342 L1510.48 360.342 L1506.45 360.342 L1502.42 360.342 L1498.39 360.342 L1494.36 360.342 L1490.33 360.342 \n",
       "  L1486.3 360.342 L1482.27 360.342 L1478.24 360.342 L1474.21 360.342 L1470.18 360.342 L1466.14 360.342 L1462.11 360.342 L1458.08 360.342 L1454.05 360.342 L1450.02 360.342 \n",
       "  L1445.99 360.342 L1441.96 360.342 L1437.93 360.342 L1433.9 360.342 L1429.87 360.342 L1425.84 360.342 L1421.81 360.342 L1417.78 360.342 L1413.75 360.342 L1409.72 360.342 \n",
       "  L1405.69 360.342 L1401.66 360.342 L1397.62 360.342 L1393.59 360.342 L1389.56 360.342 L1385.53 360.342 L1381.5 360.342 L1377.47 360.342 L1373.44 360.342 L1369.41 360.342 \n",
       "  L1365.38 360.342 L1361.35 360.342 L1357.32 360.342 L1353.29 360.342 L1349.26 360.342 L1345.23 360.342 L1341.2 360.342 L1337.17 360.342 L1333.13 360.342 L1329.1 360.342 \n",
       "  L1325.07 360.342 L1321.04 360.342 L1317.01 360.342 L1312.98 360.342 L1308.95 360.342 L1304.92 360.342 L1300.89 360.342 L1296.86 360.342 L1292.83 360.342 L1288.8 360.342 \n",
       "  L1284.77 360.342 L1280.74 360.342 L1276.71 360.342 L1272.68 360.342 L1268.65 360.342 L1264.61 360.342 L1260.58 360.342 L1256.55 360.342 L1252.52 360.342 L1248.49 360.342 \n",
       "  L1244.46 360.342 L1240.43 360.342 L1236.4 360.342 L1232.37 360.342 L1228.34 360.342 L1224.31 360.342 L1220.28 360.342 L1216.25 360.342 L1212.22 360.342 L1208.19 360.342 \n",
       "  L1204.16 360.342 L1200.13 360.342 L1196.09 360.342 L1192.06 360.342 L1188.03 360.342 L1184 360.342 L1179.97 360.342 L1175.94 360.342 L1171.91 360.342 L1167.88 360.342 \n",
       "  L1163.85 360.342 L1159.82 360.342 L1155.79 360.342 L1151.76 360.342 L1147.73 360.342 L1143.7 360.342 L1139.67 360.342 L1135.64 360.342 L1131.6 360.342 L1127.57 360.342 \n",
       "  L1123.54 360.342 L1119.51 360.342 L1115.48 360.342 L1111.45 360.342 L1107.42 360.342 L1103.39 360.342 L1099.36 360.342 L1095.33 360.342 L1091.3 360.342 L1087.27 360.342 \n",
       "  L1083.24 360.342 L1079.21 360.342 L1075.18 360.342 L1071.15 360.342 L1067.12 360.342 L1063.08 360.342 L1059.05 360.342 L1055.02 360.342 L1050.99 360.342 L1046.96 360.342 \n",
       "  L1042.93 360.342 L1038.9 360.342 L1034.87 360.342 L1030.84 360.342 L1026.81 360.342 L1022.78 360.342 L1018.75 360.342 L1014.72 360.342 L1010.69 360.342 L1006.66 360.342 \n",
       "  L1002.63 360.342 L998.595 360.342 L994.564 360.342 L990.534 360.342 L986.503 360.342 L982.473 360.342 L978.442 360.342 L974.411 360.342 L970.381 360.342 L966.35 360.342 \n",
       "  L962.32 360.342 L958.289 360.342 L954.258 360.342 L950.228 360.342 L946.197 360.342 L942.167 360.342 L938.136 360.342 L934.105 360.342 L930.075 360.342 L926.044 360.342 \n",
       "  L922.014 360.342 L917.983 360.342 L913.952 360.342 L909.922 360.342 L905.891 360.342 L901.861 360.342 L897.83 360.342 L893.799 360.342 L889.769 360.342 L885.738 360.342 \n",
       "  L881.708 360.342 L877.677 360.342 L873.646 360.342 L869.616 360.342 L865.585 360.342 L861.555 360.342 L857.524 360.342 L853.493 360.342 L849.463 360.342 L845.432 360.342 \n",
       "  L841.402 360.342 L837.371 360.342 L833.34 360.342 L829.31 360.342 L825.279 360.342 L821.249 360.342 L817.218 360.342 L813.187 360.342 L809.157 360.342 L805.126 360.342 \n",
       "  L801.096 360.342 L797.065 360.342 L793.034 360.342 L789.004 360.342 L784.973 360.342 L780.943 360.342 L776.912 360.342 L772.881 360.342 L768.851 360.342 L764.82 360.342 \n",
       "  L760.79 360.342 L756.759 360.342 L752.728 360.342 L748.698 360.342 L744.667 360.342 L740.637 360.342 L736.606 360.342 L732.575 360.342 L728.545 360.342 L724.514 360.342 \n",
       "  L720.484 360.342 L716.453 360.342 L712.422 360.342 L708.392 360.342 L704.361 360.342 L700.331 360.342 L696.3 360.342 L692.269 360.342 L688.239 360.342 L684.208 360.342 \n",
       "  L680.178 360.342 L676.147 360.342 L672.116 360.342 L668.086 360.342 L664.055 360.342 L660.025 360.342 L655.994 360.342 L651.963 360.342 L647.933 360.342 L643.902 360.342 \n",
       "  L639.872 360.342 L635.841 360.342 L631.81 360.342 L627.78 360.342 L623.749 360.342 L619.719 360.342 L615.688 360.342 L611.657 360.342 L607.627 360.342 L603.596 360.342 \n",
       "  L599.566 360.342 L595.535 360.342 L591.504 360.342 L587.474 360.342 L583.443 360.342 L579.413 360.342 L575.382 360.342 L571.351 360.342 L567.321 360.342 L563.29 360.342 \n",
       "  L559.26 360.342 L555.229 360.342 L551.198 360.342 L547.168 360.342 L543.137 360.342 L539.107 360.342 L535.076 360.342 L531.045 360.342 L527.015 360.342 L522.984 360.342 \n",
       "  L518.954 360.342 L514.923 360.342 L510.892 360.342 L506.862 360.342 L502.831 360.342 L498.801 360.342 L494.77 360.342 L490.739 360.342 L486.709 360.342 L482.678 360.342 \n",
       "  L478.648 360.342 L474.617 360.342 L470.586 360.342 L466.556 360.342 L462.525 360.342 L458.495 360.342 L454.464 360.342 L450.433 360.342 L446.403 360.342 L442.372 360.342 \n",
       "  L438.342 360.342 L434.311 360.342 L430.28 360.342 L426.25 360.342 L422.219 360.342 L418.189 360.342 L414.158 360.342 L410.127 360.342 L406.097 360.342 L402.066 360.342 \n",
       "  L398.036 360.342 L394.005 360.342 L389.974 360.342 L385.944 360.342 L381.913 360.342 L377.883 360.342 L373.852 360.342 L369.821 360.342 L365.791 360.342 L361.76 360.342 \n",
       "  L357.73 360.342 L353.699 360.342 L349.668 360.342 L345.638 360.342 L341.607 360.342 L337.577 360.342 L333.546 360.342 L329.515 360.342 L325.485 360.342 L321.454 360.342 \n",
       "  L317.424 360.342 L313.393 360.342 L309.362 360.342 L305.332 360.342 L301.301 360.342 L297.271 360.342 L293.24 360.342 L289.209 360.342 L285.179 360.342 L281.148 360.342 \n",
       "   Z\n",
       "  \" fill=\"#ff0000\" fill-rule=\"evenodd\" fill-opacity=\"0.3\"/>\n",
       "<polyline clip-path=\"url(#clip4602)\" style=\"stroke:#0000ff; stroke-width:4; stroke-opacity:1; fill:none\" points=\"\n",
       "  281.148,64.9666 285.179,65.0852 289.209,65.4408 293.24,66.0329 297.271,66.8605 301.301,67.9223 305.332,69.2165 309.362,70.7412 313.393,72.4937 317.424,74.4714 \n",
       "  321.454,76.6711 325.485,79.0891 329.515,81.7217 333.546,84.5646 337.577,87.6133 341.607,90.8628 345.638,94.3079 349.668,97.9431 353.699,101.763 357.73,105.76 \n",
       "  361.76,109.929 365.791,114.264 369.821,118.756 373.852,123.399 377.883,128.185 381.913,133.108 385.944,138.157 389.974,143.327 394.005,148.608 398.036,153.992 \n",
       "  402.066,159.47 406.097,165.033 410.127,170.673 414.158,176.381 418.189,182.146 422.219,187.961 426.25,193.815 430.28,199.7 434.311,205.605 438.342,211.522 \n",
       "  442.372,217.44 446.403,223.351 450.433,229.245 454.464,235.112 458.495,240.943 462.525,246.728 466.556,252.459 470.586,258.126 474.617,263.719 478.648,269.231 \n",
       "  482.678,274.652 486.709,279.973 490.739,285.187 494.77,290.283 498.801,295.255 502.831,300.095 506.862,304.793 510.892,309.344 514.923,313.74 518.954,317.973 \n",
       "  522.984,322.037 527.015,325.925 531.045,329.632 535.076,333.15 539.107,336.475 543.137,339.601 547.168,342.524 551.198,345.237 555.229,347.738 559.26,350.022 \n",
       "  563.29,352.085 567.321,353.924 571.351,355.536 575.382,356.919 579.413,358.07 583.443,358.987 587.474,359.669 591.504,360.116 595.535,360.325 599.566,360.297 \n",
       "  603.596,360.032 607.627,359.53 611.657,358.793 615.688,357.821 619.719,356.615 623.749,355.178 627.78,353.513 631.81,351.621 635.841,349.506 639.872,347.171 \n",
       "  643.902,344.62 647.933,341.857 651.963,338.886 655.994,335.713 660.025,332.342 664.055,328.779 668.086,325.03 672.116,321.099 676.147,316.995 680.178,312.723 \n",
       "  684.208,308.291 688.239,303.704 692.269,298.972 696.3,294.101 700.331,289.099 704.361,283.974 708.392,278.735 712.422,273.389 716.453,267.946 720.484,262.415 \n",
       "  724.514,256.803 728.545,251.12 732.575,245.376 736.606,239.579 740.637,233.739 744.667,227.864 748.698,221.966 752.728,216.052 756.759,210.134 760.79,204.219 \n",
       "  764.82,198.317 768.851,192.439 772.881,186.593 776.912,180.789 780.943,175.036 784.973,169.344 789.004,163.721 793.034,158.177 797.065,152.72 801.096,147.36 \n",
       "  805.126,142.104 809.157,136.962 813.187,131.941 817.218,127.05 821.249,122.297 825.279,117.688 829.31,113.233 833.34,108.936 837.371,104.807 841.402,100.851 \n",
       "  845.432,97.0738 849.463,93.4826 853.493,90.0829 857.524,86.8801 861.555,83.8793 865.585,81.0853 869.616,78.5026 873.646,76.1355 877.677,73.9876 881.708,72.0624 \n",
       "  885.738,70.363 889.769,68.8922 893.799,67.6523 897.83,66.6454 901.861,65.8729 905.891,65.3362 909.922,65.0361 913.952,64.9731 917.983,65.1474 922.014,65.5585 \n",
       "  926.044,66.2059 930.075,67.0886 934.105,68.205 938.136,69.5535 942.167,71.1318 946.197,72.9375 950.228,74.9675 954.258,77.2187 958.289,79.6874 962.32,82.3698 \n",
       "  966.35,85.2613 970.381,88.3575 974.411,91.6534 978.442,95.1436 982.473,98.8225 986.503,102.684 990.534,106.723 994.564,110.931 998.595,115.303 1002.63,119.832 \n",
       "  1006.66,124.509 1010.69,129.328 1014.72,134.281 1018.75,139.359 1022.78,144.556 1026.81,149.862 1030.84,155.268 1034.87,160.767 1038.9,166.349 1042.93,172.006 \n",
       "  1046.96,177.728 1050.99,183.506 1055.02,189.331 1059.05,195.193 1063.08,201.083 1067.12,206.992 1071.15,212.91 1075.18,218.827 1079.21,224.735 1083.24,230.623 \n",
       "  1087.27,236.483 1091.3,242.304 1095.33,248.077 1099.36,253.794 1103.39,259.444 1107.42,265.02 1111.45,270.511 1115.48,275.909 1119.51,281.206 1123.54,286.393 \n",
       "  1127.57,291.461 1131.6,296.402 1135.64,301.209 1139.67,305.874 1143.7,310.389 1147.73,314.747 1151.76,318.942 1155.79,322.965 1159.82,326.811 1163.85,330.474 \n",
       "  1167.88,333.948 1171.91,337.227 1175.94,340.305 1179.97,343.179 1184,345.843 1188.03,348.293 1192.06,350.525 1196.09,352.536 1200.13,354.322 1204.16,355.881 \n",
       "  1208.19,357.209 1212.22,358.306 1216.25,359.168 1220.28,359.795 1224.31,360.186 1228.34,360.34 1232.37,360.256 1236.4,359.936 1240.43,359.379 1244.46,358.586 \n",
       "  1248.49,357.559 1252.52,356.299 1256.55,354.808 1260.58,353.089 1264.61,351.145 1268.65,348.978 1272.68,346.592 1276.71,343.991 1280.74,341.179 1284.77,338.16 \n",
       "  1288.8,334.94 1292.83,331.524 1296.86,327.916 1300.89,324.124 1304.92,320.152 1308.95,316.008 1312.98,311.698 1317.01,307.229 1321.04,302.607 1325.07,297.842 \n",
       "  1329.1,292.939 1333.13,287.908 1337.17,282.755 1341.2,277.49 1345.23,272.121 1349.26,266.657 1353.29,261.105 1357.32,255.476 1361.35,249.778 1365.38,244.021 \n",
       "  1369.41,238.213 1373.44,232.364 1377.47,226.483 1381.5,220.58 1385.53,214.664 1389.56,208.746 1393.59,202.833 1397.62,196.936 1401.66,191.065 1405.69,185.228 \n",
       "  1409.72,179.435 1413.75,173.696 1417.78,168.019 1421.81,162.414 1425.84,156.889 1429.87,151.454 1433.9,146.118 1437.93,140.888 1441.96,135.773 1445.99,130.782 \n",
       "  1450.02,125.923 1454.05,121.203 1458.08,116.63 1462.11,112.21 1466.14,107.953 1470.18,103.863 1474.21,99.9484 1478.24,96.2147 1482.27,92.6679 1486.3,89.3139 \n",
       "  1490.33,86.158 1494.36,83.2053 1498.39,80.4605 1502.42,77.928 1506.45,75.6119 1510.48,73.5159 1514.51,71.6435 1518.54,69.9975 1522.57,68.5806 1526.6,67.3952 \n",
       "  1530.63,66.4431 1534.66,65.7258 1538.7,65.2445 1542.73,65 1546.76,64.9927 1550.79,65.2225 1554.82,65.6892 1558.85,66.3919 1562.88,67.3295 1566.91,68.5005 \n",
       "  1570.94,69.9031 1574.97,71.535 1579,73.3935 1583.03,75.4758 1587.06,77.7783 1591.09,80.2975 1595.12,83.0293 1599.15,85.9693 1603.19,89.1128 1607.22,92.4547 \n",
       "  1611.25,95.9896 1615.28,99.712 1619.31,103.616 1623.34,107.695 1627.37,111.942 1631.4,116.351 1635.43,120.915 1639.46,125.627 1643.49,130.478 1647.52,135.461 \n",
       "  1651.55,140.568 1655.58,145.791 1659.61,151.121 1663.64,156.55 1667.67,162.069 1671.71,167.67 1675.74,173.342 1679.77,179.078 1683.8,184.868 1687.83,190.702 \n",
       "  1691.86,196.572 1695.89,202.468 1699.92,208.379 1703.95,214.298 1707.98,220.214 1712.01,226.118 1716.04,232 1720.07,237.852 1724.1,243.662 1728.13,249.423 \n",
       "  1732.16,255.125 1736.19,260.759 1740.23,266.315 1744.26,271.786 1748.29,277.161 1752.32,282.433 1756.35,287.592 1760.38,292.631 1764.41,297.542 1768.44,302.316 \n",
       "  1772.47,306.947 1776.5,311.426 1780.53,315.746 1784.56,319.901 1788.59,323.883 1792.62,327.687 1796.65,331.306 1800.68,334.734 1804.72,337.967 1808.75,340.998 \n",
       "  1812.78,343.823 1816.81,346.437 1820.84,348.836 1824.87,351.017 1828.9,352.975 1832.93,354.708 1836.96,356.213 1840.99,357.487 1845.02,358.529 1849.05,359.336 \n",
       "  1853.08,359.908 1857.11,360.243 1861.14,360.341 1865.17,360.202 1869.2,359.826 1873.24,359.214 1877.27,358.366 1881.3,357.284 1885.33,355.97 1889.36,354.425 \n",
       "  1893.39,352.653 1897.42,350.656 1901.45,348.438 1905.48,346.001 1909.51,343.35 1913.54,340.489 1917.57,337.423 1921.6,334.156 1925.63,330.695 1929.66,327.043 \n",
       "  1933.69,323.208 1937.72,319.196 1941.76,315.012 1945.79,310.664 1949.82,306.158 1953.85,301.502 1957.88,296.704 1961.91,291.77 1965.94,286.71 1969.97,281.53 \n",
       "  1974,276.24 1978.03,270.848 1982.06,265.362 1986.09,259.792 1990.12,254.146 1994.15,248.433 1998.18,242.663 2002.21,236.844 2006.25,230.987 2010.28,225.1 \n",
       "  2014.31,219.194 2018.34,213.276 2022.37,207.358 2026.4,201.448 2030.43,195.557 2034.46,189.692 2038.49,183.865 2042.52,178.084 2046.55,172.358 2050.58,166.697 \n",
       "  2054.61,161.11 2058.64,155.606 2062.67,150.194 2066.7,144.881 2070.73,139.678 2074.77,134.592 2078.8,129.631 2082.83,124.803 2086.86,120.117 2090.89,115.579 \n",
       "  2094.92,111.197 2098.95,106.978 2102.98,102.929 2107.01,99.0563 2111.04,95.3658 2115.07,91.8638 2119.1,88.5558 2123.13,85.4471 2127.16,82.5427 2131.19,79.8473 \n",
       "  2135.22,77.3652 2139.26,75.1005 2143.29,73.0566 2147.32,71.237 2151.35,69.6445 2155.38,68.2818 2159.41,67.1509 2163.44,66.2537 2167.47,65.5917 2171.5,65.1659 \n",
       "  2175.53,64.977 2179.56,65.0253 2183.59,65.3107 2187.62,65.8328 2191.65,66.5907 2195.68,67.5832 2199.71,68.8088 2203.74,70.2653 2207.78,71.9506 2211.81,73.8619 \n",
       "  2215.84,75.9961 2219.87,78.3498 2223.9,80.9193 2227.93,83.7003 2231.96,86.6884 2235.99,89.8789 2240.02,93.2666 2244.05,96.846 2248.08,100.611 2252.11,104.557 \n",
       "  2256.14,108.676 2260.17,112.962 2264.2,117.408 2268.23,122.007 2272.26,126.752 2276.3,131.635 2280.33,136.648 2284.36,141.783 2288.39,147.031 2292.42,152.386 \n",
       "  \n",
       "  \"/>\n",
       "</svg>\n"
      ]
     },
     "execution_count": 9,
     "metadata": {},
     "output_type": "execute_result"
    }
   ],
   "source": [
    "plot!(x,cos.(x).^2,c=:blue,fill=(0,.3,:red))"
   ]
  },
  {
   "cell_type": "code",
   "execution_count": 11,
   "metadata": {},
   "outputs": [
    {
     "name": "stdout",
     "output_type": "stream",
     "text": [
      "2\n"
     ]
    },
    {
     "data": {
      "text/plain": [
       "-2.185039863261519"
      ]
     },
     "execution_count": 11,
     "metadata": {},
     "output_type": "execute_result"
    }
   ],
   "source": [
    "z=2; println(z);tan(z) #more than one command on same line"
   ]
  },
  {
   "cell_type": "code",
   "execution_count": 12,
   "metadata": {},
   "outputs": [
    {
     "name": "stdout",
     "output_type": "stream",
     "text": [
      "hello world, this is julia. It's a bit like Matlab, Python, R, C, Fortran, Ruby, Haskell, ...\n",
      "    but not really like any other language\n"
     ]
    }
   ],
   "source": [
    "println(\"hello world, this is julia. It's a bit like Matlab, Python, R, C, Fortran, Ruby, Haskell, ...\n",
    "    but not really like any other language\")"
   ]
  },
  {
   "cell_type": "markdown",
   "metadata": {},
   "source": [
    "# Calling other languages"
   ]
  },
  {
   "cell_type": "code",
   "execution_count": 13,
   "metadata": {},
   "outputs": [
    {
     "name": "stdout",
     "output_type": "stream",
     "text": [
      "from julia you can also easily use  libraries from \n",
      "    Python, R, C/Fortran, C++, and Java. \n",
      "    Did I mention that I like π ?\n"
     ]
    }
   ],
   "source": [
    "println(\"from julia you can also easily use  libraries from \n",
    "    Python, R, C/Fortran, C++, and Java. \n",
    "    Did I mention that I like \", pi ,\" ?\")"
   ]
  },
  {
   "cell_type": "markdown",
   "metadata": {},
   "source": [
    "For example, a number of special functions can be called via the C library GSL ([GNU Scientific Library](https://github.com/JuliaMath/GSL.jl)):"
   ]
  },
  {
   "cell_type": "code",
   "execution_count": 14,
   "metadata": {},
   "outputs": [],
   "source": [
    "#load some wrapper functions that call GSL\n",
    "using GSL"
   ]
  },
  {
   "cell_type": "code",
   "execution_count": 15,
   "metadata": {},
   "outputs": [
    {
     "data": {
      "text/plain": [
       "0.9776262465382961"
      ]
     },
     "execution_count": 15,
     "metadata": {},
     "output_type": "execute_result"
    }
   ],
   "source": [
    "sf_bessel_J0(0.3)"
   ]
  },
  {
   "cell_type": "markdown",
   "metadata": {},
   "source": [
    "A native $\\julia$ implementation of many special functions can be found in [SpecialFunctions.jl](https://github.com/JuliaMath/SpecialFunctions.jl)"
   ]
  },
  {
   "cell_type": "code",
   "execution_count": 16,
   "metadata": {},
   "outputs": [],
   "source": [
    "using SpecialFunctions"
   ]
  },
  {
   "cell_type": "code",
   "execution_count": 17,
   "metadata": {},
   "outputs": [
    {
     "data": {
      "text/plain": [
       "1.2020569031595951"
      ]
     },
     "execution_count": 17,
     "metadata": {},
     "output_type": "execute_result"
    }
   ],
   "source": [
    "zeta(3) # returns a Float64"
   ]
  },
  {
   "cell_type": "code",
   "execution_count": 18,
   "metadata": {},
   "outputs": [
    {
     "data": {
      "text/plain": [
       "0.7980219851462758 - 0.11374430805293854im"
      ]
     },
     "execution_count": 18,
     "metadata": {},
     "output_type": "execute_result"
    }
   ],
   "source": [
    "zeta(2.0 + 3.0im) # returns a complex float"
   ]
  },
  {
   "cell_type": "code",
   "execution_count": 19,
   "metadata": {},
   "outputs": [
    {
     "data": {
      "text/plain": [
       "Complex{Float64}"
      ]
     },
     "execution_count": 19,
     "metadata": {},
     "output_type": "execute_result"
    }
   ],
   "source": [
    "typeof(ans)"
   ]
  },
  {
   "cell_type": "markdown",
   "metadata": {},
   "source": [
    "You can also use [PyCall.jl](https://github.com/JuliaPy/PyCall.jl) to call `python` functions with low overhead:"
   ]
  },
  {
   "cell_type": "code",
   "execution_count": 20,
   "metadata": {},
   "outputs": [
    {
     "name": "stderr",
     "output_type": "stream",
     "text": [
      "┌ Info: Precompiling PyCall [438e738f-606a-5dbb-bf0a-cddfbfd45ab0]\n",
      "└ @ Base loading.jl:1260\n"
     ]
    }
   ],
   "source": [
    "using PyCall"
   ]
  },
  {
   "cell_type": "code",
   "execution_count": 23,
   "metadata": {},
   "outputs": [
    {
     "data": {
      "text/plain": [
       "0.0"
      ]
     },
     "execution_count": 23,
     "metadata": {},
     "output_type": "execute_result"
    }
   ],
   "source": [
    "pymath = pyimport(\"math\")\n",
    "pymath.sin(pymath.pi / 4) - sin(pi / 4)  # returns 0.0"
   ]
  },
  {
   "cell_type": "markdown",
   "metadata": {},
   "source": [
    "- A nice feature of jupyter is that we can enter text, latex, and code, all in one easily shareable document. \n",
    "- Open Science! Yay! There are [many other kernels](https://github.com/jupyter/jupyter/wiki/Jupyter-kernels) available for jupyter.\n",
    "- The importance of such an open science standard is highlighted by major scientific discovery of LIGO: the black hole merger data, simulations, and analysis were provided as [jupyter notebooks](https://blog.jupyter.org/congratulations-to-the-ligo-and-virgo-collaborations-from-project-jupyter-5923247be019)."
   ]
  },
  {
   "cell_type": "markdown",
   "metadata": {},
   "source": [
    "- To shift from ___code mode___ to ___markdown mode___, press `ESC`, then `y`.\n",
    "\n",
    "- You can now type text with simple [markdown](https://www.markdownguide.org/cheat-sheet/) syntax, LaTeX in-line $\\langle x\\rangle=\\pi$, and full line equations:\n",
    "$$i\\hbar\\frac{\\partial\\psi}{\\partial t}=\\hat{H}\\psi,$$\n",
    "add [links](http://www.google.com), and drag in images. Not all of latex is supported, but for example, you can\n",
    "\n",
    "\\begin{align}\n",
    "\\partial_t\\psi&=L\\psi\\tag{some equation}\\\\\n",
    "-\\nabla^2\\psi&=\\lambda\\psi\\tag{some other}\n",
    "\\end{align}"
   ]
  },
  {
   "cell_type": "markdown",
   "metadata": {},
   "source": [
    "- To go back to code mode, press `ESC`, then `m`; default is code mode. \n",
    "\n",
    "- A full list of keyboard shortcuts can be found under the help menu above."
   ]
  },
  {
   "cell_type": "markdown",
   "metadata": {},
   "source": [
    "## Cool things you can do in julia"
   ]
  },
  {
   "cell_type": "code",
   "execution_count": 24,
   "metadata": {},
   "outputs": [
    {
     "data": {
      "text/plain": [
       "35.6"
      ]
     },
     "execution_count": 24,
     "metadata": {},
     "output_type": "execute_result"
    }
   ],
   "source": [
    "😸=35.6 #unicode inputs are allowed varables!"
   ]
  },
  {
   "cell_type": "code",
   "execution_count": 25,
   "metadata": {},
   "outputs": [
    {
     "data": {
      "text/plain": [
       "25"
      ]
     },
     "execution_count": 25,
     "metadata": {},
     "output_type": "execute_result"
    }
   ],
   "source": [
    "ψ=25 #LaTeX tab completion: type \\psi<tab> to get the greek letter ψ."
   ]
  },
  {
   "cell_type": "code",
   "execution_count": 26,
   "metadata": {},
   "outputs": [
    {
     "data": {
      "text/plain": [
       "1.0545718e-34"
      ]
     },
     "execution_count": 26,
     "metadata": {},
     "output_type": "execute_result"
    }
   ],
   "source": [
    "ħ = 1.0545718e-34 #\\hbar<tab>"
   ]
  },
  {
   "cell_type": "code",
   "execution_count": 27,
   "metadata": {},
   "outputs": [
    {
     "data": {
      "text/plain": [
       "3.141592653589793238462643383279502884197169399375105820974944592307816406286208998628034825342117067982148086513282306647093844609550582231725359408128481117450284102701938521105559644622948954930381964428810975665933446128475648233786783165271201909145648566923460348610454326648213393607260249141273724587006606315588174881520920962829254091715364367892590360011330530548820466521384146951941511609433057270365759591953092186117381932611793105118548074462379962749567351885752724891227938183011949129833673362440656643086021394946395224737190702179860943702770539217176293176752384674818467669405131996"
      ]
     },
     "execution_count": 27,
     "metadata": {},
     "output_type": "execute_result"
    }
   ],
   "source": [
    "#variable precision: set the number of bits\n",
    "BigFloat(pi,2000)"
   ]
  },
  {
   "cell_type": "code",
   "execution_count": 22,
   "metadata": {},
   "outputs": [
    {
     "data": {
      "text/plain": [
       "0.0 + 4.582363384086222409168621731742190695845080541202039763581730143804801597402798e-603im"
      ]
     },
     "execution_count": 22,
     "metadata": {},
     "output_type": "execute_result"
    }
   ],
   "source": [
    "exp(im*BigFloat(pi,2000))+1"
   ]
  },
  {
   "cell_type": "code",
   "execution_count": 23,
   "metadata": {},
   "outputs": [
    {
     "data": {
      "text/plain": [
       "BigFloat"
      ]
     },
     "execution_count": 23,
     "metadata": {},
     "output_type": "execute_result"
    }
   ],
   "source": [
    "typeof(BigFloat(pi))"
   ]
  },
  {
   "cell_type": "markdown",
   "metadata": {},
   "source": [
    "Here \"BigFloat\" is both \n",
    "\n",
    "- a method to perform type conversion, and \n",
    "- the name of a data type. \n",
    "\n",
    "These two things are defined separately."
   ]
  },
  {
   "cell_type": "code",
   "execution_count": 24,
   "metadata": {},
   "outputs": [
    {
     "data": {
      "text/plain": [
       "3.14159265358979323851"
      ]
     },
     "execution_count": 24,
     "metadata": {},
     "output_type": "execute_result"
    }
   ],
   "source": [
    "mypi = BigFloat(pi,64)"
   ]
  },
  {
   "cell_type": "code",
   "execution_count": 25,
   "metadata": {},
   "outputs": [
    {
     "data": {
      "text/plain": [
       "true"
      ]
     },
     "execution_count": 25,
     "metadata": {},
     "output_type": "execute_result"
    }
   ],
   "source": [
    "typeof(mypi) <: AbstractFloat"
   ]
  },
  {
   "cell_type": "markdown",
   "metadata": {},
   "source": [
    "There is an abstract type system that you can extend as you like."
   ]
  },
  {
   "cell_type": "code",
   "execution_count": 26,
   "metadata": {},
   "outputs": [
    {
     "name": "stdout",
     "output_type": "stream",
     "text": [
      "search: \u001b[0m\u001b[1mB\u001b[22m\u001b[0m\u001b[1mi\u001b[22m\u001b[0m\u001b[1mg\u001b[22m\u001b[0m\u001b[1mF\u001b[22m\u001b[0m\u001b[1ml\u001b[22m\u001b[0m\u001b[1mo\u001b[22m\u001b[0m\u001b[1ma\u001b[22m\u001b[0m\u001b[1mt\u001b[22m\n",
      "\n"
     ]
    },
    {
     "data": {
      "text/latex": [
       "\\begin{verbatim}\n",
       "BigFloat <: AbstractFloat\n",
       "\\end{verbatim}\n",
       "Arbitrary precision floating point number type.\n",
       "\n",
       "\\rule{\\textwidth}{1pt}\n",
       "\\begin{verbatim}\n",
       "BigFloat(x)\n",
       "\\end{verbatim}\n",
       "Create an arbitrary precision floating point number. \\texttt{x} may be an \\href{@ref}{\\texttt{Integer}}, a \\href{@ref}{\\texttt{Float64}} or a \\href{@ref}{\\texttt{BigInt}}. The usual mathematical operators are defined for this type, and results are promoted to a \\href{@ref}{\\texttt{BigFloat}}.\n",
       "\n",
       "Note that because decimal literals are converted to floating point numbers when parsed, \\texttt{BigFloat(2.1)} may not yield what you expect. You may instead prefer to initialize constants from strings via \\href{@ref}{\\texttt{parse}}, or using the \\texttt{big} string literal.\n",
       "\n",
       "\\begin{verbatim}\n",
       "julia> BigFloat(2.1)\n",
       "2.100000000000000088817841970012523233890533447265625\n",
       "\n",
       "julia> big\"2.1\"\n",
       "2.099999999999999999999999999999999999999999999999999999999999999999999999999986\n",
       "\\end{verbatim}\n",
       "\\rule{\\textwidth}{1pt}\n",
       "\\begin{verbatim}\n",
       "BigFloat(x, prec::Int)\n",
       "\\end{verbatim}\n",
       "Create a representation of \\texttt{x} as a \\href{@ref}{\\texttt{BigFloat}} with precision \\texttt{prec}.\n",
       "\n",
       "\\rule{\\textwidth}{1pt}\n",
       "\\begin{verbatim}\n",
       "BigFloat(x, prec::Int, rounding::RoundingMode)\n",
       "\\end{verbatim}\n",
       "Create a representation of \\texttt{x} as a \\href{@ref}{\\texttt{BigFloat}} with precision \\texttt{prec} and \\href{@ref Base.Rounding.RoundingMode}{\\texttt{Rounding Mode}} \\texttt{rounding}.\n",
       "\n",
       "\\rule{\\textwidth}{1pt}\n",
       "\\begin{verbatim}\n",
       "BigFloat(x, rounding::RoundingMode)\n",
       "\\end{verbatim}\n",
       "Create a representation of \\texttt{x} as a \\href{@ref}{\\texttt{BigFloat}} with the current global precision and \\href{@ref Base.Rounding.RoundingMode}{\\texttt{Rounding Mode}} \\texttt{rounding}.\n",
       "\n",
       "\\rule{\\textwidth}{1pt}\n",
       "\\begin{verbatim}\n",
       "BigFloat(x::String)\n",
       "\\end{verbatim}\n",
       "Create a representation of the string \\texttt{x} as a \\href{@ref}{\\texttt{BigFloat}}.\n",
       "\n"
      ],
      "text/markdown": [
       "```\n",
       "BigFloat <: AbstractFloat\n",
       "```\n",
       "\n",
       "Arbitrary precision floating point number type.\n",
       "\n",
       "---\n",
       "\n",
       "```\n",
       "BigFloat(x)\n",
       "```\n",
       "\n",
       "Create an arbitrary precision floating point number. `x` may be an [`Integer`](@ref), a [`Float64`](@ref) or a [`BigInt`](@ref). The usual mathematical operators are defined for this type, and results are promoted to a [`BigFloat`](@ref).\n",
       "\n",
       "Note that because decimal literals are converted to floating point numbers when parsed, `BigFloat(2.1)` may not yield what you expect. You may instead prefer to initialize constants from strings via [`parse`](@ref), or using the `big` string literal.\n",
       "\n",
       "```jldoctest\n",
       "julia> BigFloat(2.1)\n",
       "2.100000000000000088817841970012523233890533447265625\n",
       "\n",
       "julia> big\"2.1\"\n",
       "2.099999999999999999999999999999999999999999999999999999999999999999999999999986\n",
       "```\n",
       "\n",
       "---\n",
       "\n",
       "```\n",
       "BigFloat(x, prec::Int)\n",
       "```\n",
       "\n",
       "Create a representation of `x` as a [`BigFloat`](@ref) with precision `prec`.\n",
       "\n",
       "---\n",
       "\n",
       "```\n",
       "BigFloat(x, prec::Int, rounding::RoundingMode)\n",
       "```\n",
       "\n",
       "Create a representation of `x` as a [`BigFloat`](@ref) with precision `prec` and [`Rounding Mode`](@ref Base.Rounding.RoundingMode) `rounding`.\n",
       "\n",
       "---\n",
       "\n",
       "```\n",
       "BigFloat(x, rounding::RoundingMode)\n",
       "```\n",
       "\n",
       "Create a representation of `x` as a [`BigFloat`](@ref) with the current global precision and [`Rounding Mode`](@ref Base.Rounding.RoundingMode) `rounding`.\n",
       "\n",
       "---\n",
       "\n",
       "```\n",
       "BigFloat(x::String)\n",
       "```\n",
       "\n",
       "Create a representation of the string `x` as a [`BigFloat`](@ref).\n"
      ],
      "text/plain": [
       "\u001b[36m  BigFloat <: AbstractFloat\u001b[39m\n",
       "\n",
       "  Arbitrary precision floating point number type.\n",
       "\n",
       "  ────────────────────────────────────────────────────────────────────────────\n",
       "\n",
       "\u001b[36m  BigFloat(x)\u001b[39m\n",
       "\n",
       "  Create an arbitrary precision floating point number. \u001b[36mx\u001b[39m may be an \u001b[36mInteger\u001b[39m, a\n",
       "  \u001b[36mFloat64\u001b[39m or a \u001b[36mBigInt\u001b[39m. The usual mathematical operators are defined for this\n",
       "  type, and results are promoted to a \u001b[36mBigFloat\u001b[39m.\n",
       "\n",
       "  Note that because decimal literals are converted to floating point numbers\n",
       "  when parsed, \u001b[36mBigFloat(2.1)\u001b[39m may not yield what you expect. You may instead\n",
       "  prefer to initialize constants from strings via \u001b[36mparse\u001b[39m, or using the \u001b[36mbig\u001b[39m\n",
       "  string literal.\n",
       "\n",
       "\u001b[36m  julia> BigFloat(2.1)\u001b[39m\n",
       "\u001b[36m  2.100000000000000088817841970012523233890533447265625\u001b[39m\n",
       "\u001b[36m  \u001b[39m\n",
       "\u001b[36m  julia> big\"2.1\"\u001b[39m\n",
       "\u001b[36m  2.099999999999999999999999999999999999999999999999999999999999999999999999999986\u001b[39m\n",
       "\n",
       "  ────────────────────────────────────────────────────────────────────────────\n",
       "\n",
       "\u001b[36m  BigFloat(x, prec::Int)\u001b[39m\n",
       "\n",
       "  Create a representation of \u001b[36mx\u001b[39m as a \u001b[36mBigFloat\u001b[39m with precision \u001b[36mprec\u001b[39m.\n",
       "\n",
       "  ────────────────────────────────────────────────────────────────────────────\n",
       "\n",
       "\u001b[36m  BigFloat(x, prec::Int, rounding::RoundingMode)\u001b[39m\n",
       "\n",
       "  Create a representation of \u001b[36mx\u001b[39m as a \u001b[36mBigFloat\u001b[39m with precision \u001b[36mprec\u001b[39m and \u001b[36mRounding\n",
       "  Mode\u001b[39m \u001b[36mrounding\u001b[39m.\n",
       "\n",
       "  ────────────────────────────────────────────────────────────────────────────\n",
       "\n",
       "\u001b[36m  BigFloat(x, rounding::RoundingMode)\u001b[39m\n",
       "\n",
       "  Create a representation of \u001b[36mx\u001b[39m as a \u001b[36mBigFloat\u001b[39m with the current global precision\n",
       "  and \u001b[36mRounding Mode\u001b[39m \u001b[36mrounding\u001b[39m.\n",
       "\n",
       "  ────────────────────────────────────────────────────────────────────────────\n",
       "\n",
       "\u001b[36m  BigFloat(x::String)\u001b[39m\n",
       "\n",
       "  Create a representation of the string \u001b[36mx\u001b[39m as a \u001b[36mBigFloat\u001b[39m."
      ]
     },
     "execution_count": 26,
     "metadata": {},
     "output_type": "execute_result"
    }
   ],
   "source": [
    "?BigFloat "
   ]
  },
  {
   "cell_type": "markdown",
   "metadata": {},
   "source": [
    "## Arrays and functions"
   ]
  },
  {
   "cell_type": "code",
   "execution_count": 27,
   "metadata": {},
   "outputs": [
    {
     "data": {
      "text/plain": [
       "6-element Array{Float64,1}:\n",
       "  1.05998177182784  \n",
       "  0.9163974274017533\n",
       " -1.0175765184304009\n",
       "  0.1651457938104572\n",
       "  0.8574853490976208\n",
       " -0.6715652549844074"
      ]
     },
     "execution_count": 27,
     "metadata": {},
     "output_type": "execute_result"
    }
   ],
   "source": [
    "x = randn(6)"
   ]
  },
  {
   "cell_type": "code",
   "execution_count": 28,
   "metadata": {},
   "outputs": [
    {
     "data": {
      "text/plain": [
       "0.9163974274017533"
      ]
     },
     "execution_count": 28,
     "metadata": {},
     "output_type": "execute_result"
    }
   ],
   "source": [
    "x[2] # accessing an element of an array: [] vs ()"
   ]
  },
  {
   "cell_type": "code",
   "execution_count": 29,
   "metadata": {},
   "outputs": [
    {
     "ename": "MethodError",
     "evalue": "MethodError: no method matching ^(::Array{Float64,1}, ::Int64)\nClosest candidates are:\n  ^(!Matched::Float16, ::Integer) at math.jl:795\n  ^(!Matched::Missing, ::Integer) at missing.jl:120\n  ^(!Matched::Missing, ::Number) at missing.jl:93\n  ...",
     "output_type": "error",
     "traceback": [
      "MethodError: no method matching ^(::Array{Float64,1}, ::Int64)\nClosest candidates are:\n  ^(!Matched::Float16, ::Integer) at math.jl:795\n  ^(!Matched::Missing, ::Integer) at missing.jl:120\n  ^(!Matched::Missing, ::Number) at missing.jl:93\n  ...",
      "",
      "Stacktrace:",
      " [1] macro expansion at ./none:0 [inlined]",
      " [2] literal_pow(::typeof(^), ::Array{Float64,1}, ::Val{2}) at ./none:0",
      " [3] top-level scope at In[29]:1"
     ]
    }
   ],
   "source": [
    "x^2 #a typicaly method error"
   ]
  },
  {
   "cell_type": "code",
   "execution_count": 30,
   "metadata": {},
   "outputs": [
    {
     "data": {
      "text/plain": [
       "6-element Array{Float64,1}:\n",
       " 1.1235613566072868 \n",
       " 0.8397842449485518 \n",
       " 1.035461970860936  \n",
       " 0.02727313321328604\n",
       " 0.7352811239170686 \n",
       " 0.45099989170227217"
      ]
     },
     "execution_count": 30,
     "metadata": {},
     "output_type": "execute_result"
    }
   ],
   "source": [
    "x.^2 # a dot-call: element-wise operations"
   ]
  },
  {
   "cell_type": "code",
   "execution_count": 31,
   "metadata": {},
   "outputs": [
    {
     "data": {
      "text/plain": [
       "f (generic function with 1 method)"
      ]
     },
     "execution_count": 31,
     "metadata": {},
     "output_type": "execute_result"
    }
   ],
   "source": [
    "# let's define a function (this is one way)\n",
    "f(x) = x^3-x+pi"
   ]
  },
  {
   "cell_type": "code",
   "execution_count": 32,
   "metadata": {},
   "outputs": [
    {
     "data": {
      "text/plain": [
       "6-element Array{Float64,1}:\n",
       " 3.2725654392958363\n",
       " 2.9947713478314166\n",
       " 3.1055073847444414\n",
       " 2.9809509030135426\n",
       " 2.914600095719091 \n",
       " 3.510282051305224 "
      ]
     },
     "execution_count": 32,
     "metadata": {},
     "output_type": "execute_result"
    }
   ],
   "source": [
    "f.(x) #dot-call"
   ]
  },
  {
   "cell_type": "markdown",
   "metadata": {},
   "source": [
    "same result without passing to a function:"
   ]
  },
  {
   "cell_type": "code",
   "execution_count": 33,
   "metadata": {},
   "outputs": [
    {
     "data": {
      "text/plain": [
       "6-element Array{Float64,1}:\n",
       " 3.2725654392958363\n",
       " 2.9947713478314166\n",
       " 3.1055073847444414\n",
       " 2.9809509030135426\n",
       " 2.914600095719091 \n",
       " 3.510282051305224 "
      ]
     },
     "execution_count": 33,
     "metadata": {},
     "output_type": "execute_result"
    }
   ],
   "source": [
    "x.^3 .-x.+pi #manually dot all operations that will act on arrays element by element"
   ]
  },
  {
   "cell_type": "code",
   "execution_count": 34,
   "metadata": {},
   "outputs": [
    {
     "data": {
      "text/plain": [
       "6-element Array{Float64,1}:\n",
       " 3.2725654392958363\n",
       " 2.9947713478314166\n",
       " 3.1055073847444414\n",
       " 2.9809509030135426\n",
       " 2.914600095719091 \n",
       " 3.510282051305224 "
      ]
     },
     "execution_count": 34,
     "metadata": {},
     "output_type": "execute_result"
    }
   ],
   "source": [
    "@. x^3-x+pi # the macro @. will dot-the-lot."
   ]
  },
  {
   "cell_type": "markdown",
   "metadata": {},
   "source": [
    "By dotting the function call, `f.(x)`, the dot is applied to all operations."
   ]
  },
  {
   "cell_type": "markdown",
   "metadata": {},
   "source": [
    "### Two-dimensional example"
   ]
  },
  {
   "cell_type": "code",
   "execution_count": 2,
   "metadata": {},
   "outputs": [
    {
     "data": {
      "text/plain": [
       "f2 (generic function with 1 method)"
      ]
     },
     "execution_count": 2,
     "metadata": {},
     "output_type": "execute_result"
    }
   ],
   "source": [
    "f2(x,y) = x^3-y+pi"
   ]
  },
  {
   "cell_type": "code",
   "execution_count": 36,
   "metadata": {},
   "outputs": [
    {
     "data": {
      "text/plain": [
       "6-element Array{Float64,1}:\n",
       "  1.05998177182784  \n",
       "  0.9163974274017533\n",
       " -1.0175765184304009\n",
       "  0.1651457938104572\n",
       "  0.8574853490976208\n",
       " -0.6715652549844074"
      ]
     },
     "execution_count": 36,
     "metadata": {},
     "output_type": "execute_result"
    }
   ],
   "source": [
    "y = x"
   ]
  },
  {
   "cell_type": "code",
   "execution_count": 37,
   "metadata": {},
   "outputs": [
    {
     "ename": "MethodError",
     "evalue": "MethodError: no method matching ^(::Array{Float64,1}, ::Int64)\nClosest candidates are:\n  ^(!Matched::Float16, ::Integer) at math.jl:795\n  ^(!Matched::Missing, ::Integer) at missing.jl:120\n  ^(!Matched::Missing, ::Number) at missing.jl:93\n  ...",
     "output_type": "error",
     "traceback": [
      "MethodError: no method matching ^(::Array{Float64,1}, ::Int64)\nClosest candidates are:\n  ^(!Matched::Float16, ::Integer) at math.jl:795\n  ^(!Matched::Missing, ::Integer) at missing.jl:120\n  ^(!Matched::Missing, ::Number) at missing.jl:93\n  ...",
      "",
      "Stacktrace:",
      " [1] macro expansion at ./none:0 [inlined]",
      " [2] literal_pow at ./none:0 [inlined]",
      " [3] f2(::Array{Float64,1}, ::Array{Float64,1}) at ./In[35]:1",
      " [4] top-level scope at In[37]:1"
     ]
    }
   ],
   "source": [
    "f2(x,y) #(oops!)"
   ]
  },
  {
   "cell_type": "code",
   "execution_count": 38,
   "metadata": {},
   "outputs": [
    {
     "data": {
      "text/plain": [
       "6-element Array{Float64,1}:\n",
       " 3.2725654392958363\n",
       " 2.9947713478314166\n",
       " 3.1055073847444414\n",
       " 2.9809509030135426\n",
       " 2.914600095719091 \n",
       " 3.510282051305224 "
      ]
     },
     "execution_count": 38,
     "metadata": {},
     "output_type": "execute_result"
    }
   ],
   "source": [
    "f2.(x,y) #acts on each element of column vectors x, y"
   ]
  },
  {
   "cell_type": "code",
   "execution_count": 39,
   "metadata": {},
   "outputs": [
    {
     "data": {
      "text/plain": [
       "6×6 Array{Float64,2}:\n",
       " 3.27257  3.41615  5.35012  4.1674   3.47506  5.00411\n",
       " 2.85119  2.99477  4.92875  3.74602  3.05368  4.58273\n",
       " 1.02795  1.17153  3.10551  1.92279  1.23045  2.7595 \n",
       " 2.08611  2.2297   4.16367  2.98095  2.28861  3.81766\n",
       " 2.7121   2.85569  4.78966  3.60694  2.9146   4.44365\n",
       " 1.77874  1.92232  3.85629  2.67357  1.98123  3.51028"
      ]
     },
     "execution_count": 39,
     "metadata": {},
     "output_type": "execute_result"
    }
   ],
   "source": [
    "f2.(x,y') #broadcasts each element of x along y, and of y along x"
   ]
  },
  {
   "cell_type": "markdown",
   "metadata": {},
   "source": [
    "This is a beautiful feature of $\\julia$ due in large part to Steven Johnson (MIT, of FFTW fame). It goes quite deeply into the language, allowing you to create \"fused kernels\", compiling many dot-calls together into a single highly efficient operation acting locally in memory. "
   ]
  },
  {
   "cell_type": "markdown",
   "metadata": {},
   "source": [
    "# Memory and function calls\n",
    "It is worth emphasizing at this point that one of the great advantages of $\\julia$ is that it allows low-level access to memory, giving pathways to overcome one of the main bottleknecks of interpreted languages. A major deficiency  of other high-level languages such as Matlab is that function calls are slowed down by temporary memory allocations. \n",
    "\n",
    "## Writing in-place\n",
    "If we want to do a calculation and write the output in-place in memory"
   ]
  },
  {
   "cell_type": "code",
   "execution_count": 1,
   "metadata": {},
   "outputs": [],
   "source": [
    "using BenchmarkTools "
   ]
  },
  {
   "cell_type": "code",
   "execution_count": 3,
   "metadata": {},
   "outputs": [],
   "source": [
    "x=randn(10000);"
   ]
  },
  {
   "cell_type": "code",
   "execution_count": 4,
   "metadata": {},
   "outputs": [],
   "source": [
    "#let's pre-allocate somwhere to write the output\n",
    "z = f2.(x,x');"
   ]
  },
  {
   "cell_type": "code",
   "execution_count": 5,
   "metadata": {},
   "outputs": [
    {
     "name": "stdout",
     "output_type": "stream",
     "text": [
      "  591.136 ms (5 allocations: 762.94 MiB)\n"
     ]
    }
   ],
   "source": [
    "# do many calls, and return average execution time, and memory allocations\n",
    "@btime z = f2.(x,x');"
   ]
  },
  {
   "cell_type": "markdown",
   "metadata": {},
   "source": [
    "So far this is an allocating call, requiring a temporary memory address for the result, before finally writing the result to `z`. \n",
    "\n",
    "Now let's write the result directly to memory, the $\\julia$ way:"
   ]
  },
  {
   "cell_type": "code",
   "execution_count": 6,
   "metadata": {},
   "outputs": [
    {
     "name": "stdout",
     "output_type": "stream",
     "text": [
      "  90.926 ms (3 allocations: 64 bytes)\n"
     ]
    }
   ],
   "source": [
    "@btime z .= f2.(x,x');"
   ]
  },
  {
   "cell_type": "markdown",
   "metadata": {},
   "source": [
    "The calculation is basically allocation free, with a significant speed up. In ambitious physics simulations, this can translate into much larger gains in execution speed."
   ]
  },
  {
   "cell_type": "markdown",
   "metadata": {},
   "source": [
    "This is probably a good time to point out that \n",
    "\n",
    "- In $\\julia$ there is no speed advantage to \"vectorizing\" your code. \n",
    "- If you prefer to write your own loops, you will get native C speed in $\\julia$.\n",
    "- By using dot-calls, you will get you very close to the same speed, while maintaining the clarity of vectorized code. "
   ]
  },
  {
   "cell_type": "markdown",
   "metadata": {},
   "source": [
    "# Loops, iterators"
   ]
  },
  {
   "cell_type": "code",
   "execution_count": 45,
   "metadata": {},
   "outputs": [
    {
     "name": "stdout",
     "output_type": "stream",
     "text": [
      "j is 1\n",
      "j is 2\n",
      "j is 3\n",
      "j is 4\n",
      "j is 5\n",
      "j is 6\n",
      "j is 7\n",
      "j is 8\n",
      "j is 9\n",
      "j is 10\n"
     ]
    }
   ],
   "source": [
    "for j=1:10\n",
    "    println(\"j is $j\")\n",
    "end"
   ]
  },
  {
   "cell_type": "code",
   "execution_count": 46,
   "metadata": {},
   "outputs": [
    {
     "data": {
      "text/plain": [
       "1:30"
      ]
     },
     "execution_count": 46,
     "metadata": {},
     "output_type": "execute_result"
    }
   ],
   "source": [
    "# an interator\n",
    "n = 1:30"
   ]
  },
  {
   "cell_type": "code",
   "execution_count": 47,
   "metadata": {},
   "outputs": [
    {
     "data": {
      "text/plain": [
       "UnitRange{Int64}"
      ]
     },
     "execution_count": 47,
     "metadata": {},
     "output_type": "execute_result"
    }
   ],
   "source": [
    "typeof(n) #not an Array"
   ]
  },
  {
   "cell_type": "code",
   "execution_count": 48,
   "metadata": {},
   "outputs": [
    {
     "data": {
      "text/plain": [
       "sumton (generic function with 1 method)"
      ]
     },
     "execution_count": 48,
     "metadata": {},
     "output_type": "execute_result"
    }
   ],
   "source": [
    "# a simple function with type conversion using redirection\n",
    "sumton(n) = n*(n+1)/2 |> Int #or, better: |> typeof(n) "
   ]
  },
  {
   "cell_type": "code",
   "execution_count": 49,
   "metadata": {},
   "outputs": [
    {
     "data": {
      "text/plain": [
       "6"
      ]
     },
     "execution_count": 49,
     "metadata": {},
     "output_type": "execute_result"
    }
   ],
   "source": [
    "sumton(3)"
   ]
  },
  {
   "cell_type": "code",
   "execution_count": 50,
   "metadata": {},
   "outputs": [
    {
     "ename": "InexactError",
     "evalue": "InexactError: Int64(Int64, 6.3549999999999995)",
     "output_type": "error",
     "traceback": [
      "InexactError: Int64(Int64, 6.3549999999999995)",
      "",
      "Stacktrace:",
      " [1] Type at ./float.jl:700 [inlined]",
      " [2] |> at ./operators.jl:813 [inlined]",
      " [3] sumton(::Float64) at ./In[48]:2",
      " [4] top-level scope at In[50]:1"
     ]
    }
   ],
   "source": [
    "sumton(3.1)"
   ]
  },
  {
   "cell_type": "code",
   "execution_count": 51,
   "metadata": {},
   "outputs": [
    {
     "data": {
      "text/plain": [
       "sumton (generic function with 1 method)"
      ]
     },
     "execution_count": 51,
     "metadata": {},
     "output_type": "execute_result"
    }
   ],
   "source": [
    "# a simple function with type conversion using redirection\n",
    "sumton(n) = n*(n+1)/2 |> typeof(n) #or, better: |> typeof(n) "
   ]
  },
  {
   "cell_type": "code",
   "execution_count": 52,
   "metadata": {},
   "outputs": [
    {
     "name": "stdout",
     "output_type": "stream",
     "text": [
      "sum up to j: j = 1; julia gives 1; Euler gives 1\n",
      "sum up to j: j = 2; julia gives 3; Euler gives 3\n",
      "sum up to j: j = 3; julia gives 6; Euler gives 6\n",
      "sum up to j: j = 4; julia gives 10; Euler gives 10\n",
      "sum up to j: j = 5; julia gives 15; Euler gives 15\n",
      "sum up to j: j = 6; julia gives 21; Euler gives 21\n",
      "sum up to j: j = 7; julia gives 28; Euler gives 28\n",
      "sum up to j: j = 8; julia gives 36; Euler gives 36\n",
      "sum up to j: j = 9; julia gives 45; Euler gives 45\n",
      "sum up to j: j = 10; julia gives 55; Euler gives 55\n",
      "sum up to j: j = 11; julia gives 66; Euler gives 66\n",
      "sum up to j: j = 12; julia gives 78; Euler gives 78\n",
      "sum up to j: j = 13; julia gives 91; Euler gives 91\n",
      "sum up to j: j = 14; julia gives 105; Euler gives 105\n",
      "sum up to j: j = 15; julia gives 120; Euler gives 120\n",
      "sum up to j: j = 16; julia gives 136; Euler gives 136\n",
      "sum up to j: j = 17; julia gives 153; Euler gives 153\n",
      "sum up to j: j = 18; julia gives 171; Euler gives 171\n",
      "sum up to j: j = 19; julia gives 190; Euler gives 190\n",
      "sum up to j: j = 20; julia gives 210; Euler gives 210\n",
      "sum up to j: j = 21; julia gives 231; Euler gives 231\n",
      "sum up to j: j = 22; julia gives 253; Euler gives 253\n",
      "sum up to j: j = 23; julia gives 276; Euler gives 276\n",
      "sum up to j: j = 24; julia gives 300; Euler gives 300\n",
      "sum up to j: j = 25; julia gives 325; Euler gives 325\n",
      "sum up to j: j = 26; julia gives 351; Euler gives 351\n",
      "sum up to j: j = 27; julia gives 378; Euler gives 378\n",
      "sum up to j: j = 28; julia gives 406; Euler gives 406\n",
      "sum up to j: j = 29; julia gives 435; Euler gives 435\n",
      "sum up to j: j = 30; julia gives 465; Euler gives 465\n"
     ]
    }
   ],
   "source": [
    "# a for loop with string inerpolation\n",
    "for j in n\n",
    "    println(\"sum up to j: j = $j; julia gives $(sum(n[1:j])); Gauss gives $(sumton(j))\")\n",
    "end"
   ]
  },
  {
   "cell_type": "markdown",
   "metadata": {},
   "source": [
    "## Geometric series\n",
    "Let's make a little function to evaluate the geometric series up to a given polynomial degree $N-1$."
   ]
  },
  {
   "cell_type": "markdown",
   "metadata": {},
   "source": [
    "__Exercise:__ Write a function to sum `N` terms in the geometric series, for input `x`."
   ]
  },
  {
   "cell_type": "code",
   "execution_count": 28,
   "metadata": {},
   "outputs": [
    {
     "data": {
      "text/plain": [
       "geometric (generic function with 1 method)"
      ]
     },
     "execution_count": 28,
     "metadata": {},
     "output_type": "execute_result"
    }
   ],
   "source": [
    "# write a function to add up the terms\n",
    "function geometric(x,N)\n",
    "    y=zero(x)\n",
    "    for j=0:N-1\n",
    "        y+=x^j\n",
    "    end\n",
    "    return y\n",
    "end"
   ]
  },
  {
   "cell_type": "markdown",
   "metadata": {},
   "source": [
    "(note we haven't used any type annotations!)"
   ]
  },
  {
   "cell_type": "markdown",
   "metadata": {},
   "source": [
    "and compare with the analytical result:\n",
    "<div class=\"alert alert-block alert-warning\"><font color=blue>\n",
    "$$S_N=\\sum_{k=0}^{N-1}x^k=1+x+x^2+x^3\\dots+x^{N-1}=\\frac{1-x^N}{1-x}$$\n",
    "</font></div>"
   ]
  },
  {
   "cell_type": "code",
   "execution_count": 29,
   "metadata": {},
   "outputs": [
    {
     "data": {
      "text/plain": [
       "geomExact (generic function with 1 method)"
      ]
     },
     "execution_count": 29,
     "metadata": {},
     "output_type": "execute_result"
    }
   ],
   "source": [
    "geomExact(x,N)=(1-x^N)/(1-x)"
   ]
  },
  {
   "cell_type": "markdown",
   "metadata": {},
   "source": [
    "A note on compilation and evaluation\n",
    " - first call with particular data type triggers the $\\julia$ JIT to compile fast code.\n",
    " - all later calls with the same type will get fast execution"
   ]
  },
  {
   "cell_type": "markdown",
   "metadata": {},
   "source": [
    "Let's time the first call:"
   ]
  },
  {
   "cell_type": "code",
   "execution_count": 30,
   "metadata": {},
   "outputs": [
    {
     "name": "stdout",
     "output_type": "stream",
     "text": [
      "  0.000017 seconds\n"
     ]
    },
    {
     "data": {
      "text/plain": [
       "1.1111111111111112"
      ]
     },
     "execution_count": 30,
     "metadata": {},
     "output_type": "execute_result"
    }
   ],
   "source": [
    "@time geometric(.1,1000) #compile"
   ]
  },
  {
   "cell_type": "markdown",
   "metadata": {},
   "source": [
    "Now $\\julia$ has compiled efficient code for the types we passed (not the values), i.e. Float64 and Int64"
   ]
  },
  {
   "cell_type": "code",
   "execution_count": 31,
   "metadata": {},
   "outputs": [
    {
     "name": "stdout",
     "output_type": "stream",
     "text": [
      "  0.000019 seconds\n"
     ]
    },
    {
     "data": {
      "text/plain": [
       "1.1111111111111112"
      ]
     },
     "execution_count": 31,
     "metadata": {},
     "output_type": "execute_result"
    }
   ],
   "source": [
    "@time geometric(.1,1000) # ~C speed!"
   ]
  },
  {
   "cell_type": "code",
   "execution_count": 32,
   "metadata": {},
   "outputs": [
    {
     "ename": "LoadError",
     "evalue": "UndefVarError: @btime not defined",
     "output_type": "error",
     "traceback": [
      "UndefVarError: @btime not defined",
      ""
     ]
    }
   ],
   "source": [
    "@btime geometric(.1,1000) # a more reliable measure of timing"
   ]
  },
  {
   "cell_type": "markdown",
   "metadata": {},
   "source": [
    "Our two functions should achieve the same result to numerical precision"
   ]
  },
  {
   "cell_type": "code",
   "execution_count": 58,
   "metadata": {},
   "outputs": [
    {
     "data": {
      "text/plain": [
       "(31.74824973581979, 31.748249735819783)"
      ]
     },
     "execution_count": 58,
     "metadata": {},
     "output_type": "execute_result"
    }
   ],
   "source": [
    "x = 0.97\n",
    "N = 100\n",
    "geometric(x,N),geomExact(x,N)"
   ]
  },
  {
   "cell_type": "markdown",
   "metadata": {},
   "source": [
    "In this example, \"numerical precision\" means about 1e-14 due to accumulated floating point error:"
   ]
  },
  {
   "cell_type": "code",
   "execution_count": 59,
   "metadata": {},
   "outputs": [
    {
     "data": {
      "text/plain": [
       "true"
      ]
     },
     "execution_count": 59,
     "metadata": {},
     "output_type": "execute_result"
    }
   ],
   "source": [
    "isapprox(geometric(x,N),geomExact(x,N),atol=1e-14)"
   ]
  },
  {
   "cell_type": "markdown",
   "metadata": {},
   "source": [
    "Notice we can dot some or all of the arguments:"
   ]
  },
  {
   "cell_type": "code",
   "execution_count": 60,
   "metadata": {},
   "outputs": [
    {
     "data": {
      "text/plain": [
       "3-element Array{Float64,1}:\n",
       " 1.1111111111111112\n",
       " 1.25              \n",
       " 1.4285714285714288"
      ]
     },
     "execution_count": 60,
     "metadata": {},
     "output_type": "execute_result"
    }
   ],
   "source": [
    "geometric.([0.1; 0.2; 0.3],100) "
   ]
  },
  {
   "cell_type": "code",
   "execution_count": 61,
   "metadata": {},
   "outputs": [
    {
     "data": {
      "text/plain": [
       "1×4 Array{Float64,2}:\n",
       " 3.23917  3.33067  3.33326  3.33333"
      ]
     },
     "execution_count": 61,
     "metadata": {},
     "output_type": "execute_result"
    }
   ],
   "source": [
    "geometric.(0.7,[10 20 30 100]) "
   ]
  },
  {
   "cell_type": "code",
   "execution_count": 64,
   "metadata": {},
   "outputs": [
    {
     "data": {
      "text/plain": [
       "3×4 Array{Float64,2}:\n",
       " 1.1  1.1111  1.11111  1.11111\n",
       " 1.2  1.2496  1.25     1.25   \n",
       " 1.7  2.7731  3.23917  3.33326"
      ]
     },
     "execution_count": 64,
     "metadata": {},
     "output_type": "execute_result"
    }
   ],
   "source": [
    "geometric.([0.1; 0.2; 0.7],[2 5 10 30]) "
   ]
  },
  {
   "cell_type": "markdown",
   "metadata": {},
   "source": [
    "# Miltiple dispatch\n",
    "This is really the key language feature the sets $\\julia$ apart from other technical computing languages. \n",
    "- Methods are not owned by classes\n",
    "- Operator overloading is ubiquitous and tied to data type\n",
    "- Types can be extended at will"
   ]
  },
  {
   "cell_type": "code",
   "execution_count": 38,
   "metadata": {},
   "outputs": [],
   "source": [
    "methods(*);"
   ]
  },
  {
   "cell_type": "code",
   "execution_count": 8,
   "metadata": {},
   "outputs": [
    {
     "data": {
      "text/plain": [
       "CodeInfo(\n",
       "\u001b[90m\u001b[77G│\u001b[1G\u001b[39m\u001b[90m54 \u001b[39m1 ─ %1 = (Base.mul_int)(x, y)\n",
       "\u001b[90m\u001b[77G│\u001b[1G\u001b[39m\u001b[90m   \u001b[39m└──      return %1\n",
       ")"
      ]
     },
     "execution_count": 8,
     "metadata": {},
     "output_type": "execute_result"
    }
   ],
   "source": [
    "@code_lowered 5*5 #what is high-level julia translated into?"
   ]
  },
  {
   "cell_type": "code",
   "execution_count": 9,
   "metadata": {},
   "outputs": [
    {
     "name": "stdout",
     "output_type": "stream",
     "text": [
      "\n",
      "; Function *\n",
      "; Location: int.jl:54\n",
      "define i64 @\"julia_*_24657\"(i64, i64) {\n",
      "top:\n",
      "  %2 = mul i64 %1, %0\n",
      "  ret i64 %2\n",
      "}\n"
     ]
    }
   ],
   "source": [
    "@code_llvm 5*5 #what does the compiler produce?"
   ]
  },
  {
   "cell_type": "code",
   "execution_count": 10,
   "metadata": {},
   "outputs": [
    {
     "data": {
      "text/plain": [
       "CodeInfo(\n",
       "\u001b[90m\u001b[77G│\u001b[1G\u001b[39m\u001b[90m314 \u001b[39m1 ─ %1 = (Base.promote)(x, y)\n",
       "\u001b[90m\u001b[77G│\u001b[1G\u001b[39m\u001b[90m    \u001b[39m│   %2 = (Core._apply)(Base.:*, %1)\n",
       "\u001b[90m\u001b[77G│\u001b[1G\u001b[39m\u001b[90m    \u001b[39m└──      return %2\n",
       ")"
      ]
     },
     "execution_count": 10,
     "metadata": {},
     "output_type": "execute_result"
    }
   ],
   "source": [
    "@code_lowered 5*2.1"
   ]
  },
  {
   "cell_type": "code",
   "execution_count": 11,
   "metadata": {},
   "outputs": [
    {
     "name": "stdout",
     "output_type": "stream",
     "text": [
      "\n",
      "; Function *\n",
      "; Location: promotion.jl:314\n",
      "define double @\"julia_*_27876\"(i64, double) {\n",
      "top:\n",
      "; Function promote; {\n",
      "; Location: promotion.jl:284\n",
      "; Function _promote; {\n",
      "; Location: promotion.jl:261\n",
      "; Function convert; {\n",
      "; Location: number.jl:7\n",
      "; Function Type; {\n",
      "; Location: float.jl:60\n",
      "  %2 = sitofp i64 %0 to double\n",
      ";}}}}\n",
      "; Function *; {\n",
      "; Location: float.jl:399\n",
      "  %3 = fmul double %2, %1\n",
      ";}\n",
      "  ret double %3\n",
      "}\n"
     ]
    }
   ],
   "source": [
    "@code_llvm 5*2.1"
   ]
  },
  {
   "cell_type": "code",
   "execution_count": 12,
   "metadata": {},
   "outputs": [
    {
     "name": "stdout",
     "output_type": "stream",
     "text": [
      "  0.040 ns (0 allocations: 0 bytes)\n"
     ]
    },
    {
     "data": {
      "text/plain": [
       "25"
      ]
     },
     "execution_count": 12,
     "metadata": {},
     "output_type": "execute_result"
    }
   ],
   "source": [
    "#multiply two integers\n",
    "@btime 5*5"
   ]
  },
  {
   "cell_type": "code",
   "execution_count": 13,
   "metadata": {},
   "outputs": [
    {
     "name": "stdout",
     "output_type": "stream",
     "text": [
      "  1.886 ns (0 allocations: 0 bytes)\n"
     ]
    },
    {
     "data": {
      "text/plain": [
       "10.5"
      ]
     },
     "execution_count": 13,
     "metadata": {},
     "output_type": "execute_result"
    }
   ],
   "source": [
    "#multiply a float and an integer\n",
    "@btime 5*2.1"
   ]
  },
  {
   "cell_type": "markdown",
   "metadata": {},
   "source": [
    "Is float multiplication really that much slower?"
   ]
  },
  {
   "cell_type": "code",
   "execution_count": 14,
   "metadata": {},
   "outputs": [
    {
     "name": "stdout",
     "output_type": "stream",
     "text": [
      "  0.031 ns (0 allocations: 0 bytes)\n"
     ]
    },
    {
     "data": {
      "text/plain": [
       "10.5"
      ]
     },
     "execution_count": 14,
     "metadata": {},
     "output_type": "execute_result"
    }
   ],
   "source": [
    "#multiply two floats\n",
    "@btime 5.0*2.1"
   ]
  },
  {
   "cell_type": "markdown",
   "metadata": {},
   "source": [
    "No, we took a hit from promotion. These timing comparisons and code principles apply across the enirety of $\\julia$: "
   ]
  },
  {
   "cell_type": "markdown",
   "metadata": {},
   "source": [
    "<div class=\"alert alert-block alert-warning\"><font color=blue>\n",
    "You are both free to create without concern for data types, and free to optimize so that efficient code is written for you by the compiler once your code is type stable.\n",
    "    </font></div>    \n",
    "    \n",
    "- Note 90\\% of $\\julia$ is written in $\\julia$: the core of julia is setting up a composable type system and multiple dispatch structure for methods. All data types and methods that act on therm are build with the same core language that you are free to extend as you wish!\n",
    "\n",
    "- This is one of the main reasons developers enjoy $\\julia$. \n",
    "\n",
    "- For users: come for the speed, stay for the productivity!"
   ]
  },
  {
   "cell_type": "markdown",
   "metadata": {},
   "source": [
    "## Avoid global scope: functions are key\n",
    "There is one final \"gotcha\" that I need to emphasize: running any sequence of commands straight in the REPL or in a Jupyter cell _can_ lead to a speed penalty that will be immediately fixed by wrapping your code inside a function. This is because for $\\julia$, the command line is at global scope, and the compiler has trouble inferring type information for global variables (unless you declare types for each variable explicitly). The function barrier makes the compiler's job much easier, and should make your code much more usable. \n",
    "\n",
    "In $\\julia$, your writing should always proceed towards wrapping hard-working commands inside functions to get the job done in a fast and modular way that avoids this issue. \n",
    "\n",
    "Happily, creating and modifying functions in $\\julia$ is super-easy!"
   ]
  },
  {
   "cell_type": "markdown",
   "metadata": {},
   "source": [
    "# Array comprehension\n",
    "Julia has absorbed many nice language features that have emerged in different contexts. For example the array comprehension, a nice natural language syntax for building complex arrays of arbitrary size, element by element. (a little slow to evaluate, but clear and easy to write!)"
   ]
  },
  {
   "cell_type": "code",
   "execution_count": 73,
   "metadata": {},
   "outputs": [
    {
     "data": {
      "text/plain": [
       "5×4×3 Array{Int64,3}:\n",
       "[:, :, 1] =\n",
       " 1   4   9  16\n",
       " 2   8  18  32\n",
       " 3  12  27  48\n",
       " 4  16  36  64\n",
       " 5  20  45  80\n",
       "\n",
       "[:, :, 2] =\n",
       " 1   4   9  16\n",
       " 2   8  18  32\n",
       " 3  12  27  48\n",
       " 4  16  36  64\n",
       " 5  20  45  80\n",
       "\n",
       "[:, :, 3] =\n",
       " 1   4   9  16\n",
       " 2   8  18  32\n",
       " 3  12  27  48\n",
       " 4  16  36  64\n",
       " 5  20  45  80"
      ]
     },
     "execution_count": 73,
     "metadata": {},
     "output_type": "execute_result"
    }
   ],
   "source": [
    "B = [i*j^2 for i in 1:5, j in 1:4, k in 1:3]"
   ]
  },
  {
   "cell_type": "code",
   "execution_count": 15,
   "metadata": {},
   "outputs": [
    {
     "data": {
      "text/plain": [
       "2×2 Array{Bool,2}:\n",
       "  true  false\n",
       " false  false"
      ]
     },
     "execution_count": 15,
     "metadata": {},
     "output_type": "execute_result"
    }
   ],
   "source": [
    "truthTable = [i*j for i in [true; false], j in [true; false]]"
   ]
  },
  {
   "cell_type": "code",
   "execution_count": 75,
   "metadata": {},
   "outputs": [
    {
     "data": {
      "text/plain": [
       "kron (generic function with 25 methods)"
      ]
     },
     "execution_count": 75,
     "metadata": {},
     "output_type": "execute_result"
    }
   ],
   "source": [
    "⊗=kron"
   ]
  },
  {
   "cell_type": "code",
   "execution_count": 76,
   "metadata": {},
   "outputs": [],
   "source": [
    "using LinearAlgebra"
   ]
  },
  {
   "cell_type": "code",
   "execution_count": 77,
   "metadata": {},
   "outputs": [
    {
     "data": {
      "text/plain": [
       "2×2 Array{Float64,2}:\n",
       " 1.0  0.0\n",
       " 0.0  1.0"
      ]
     },
     "execution_count": 77,
     "metadata": {},
     "output_type": "execute_result"
    }
   ],
   "source": [
    "a = randn(3,3)\n",
    "b = one(randn(2,2))"
   ]
  },
  {
   "cell_type": "code",
   "execution_count": 78,
   "metadata": {},
   "outputs": [
    {
     "data": {
      "text/plain": [
       "6×6 Array{Float64,2}:\n",
       "  2.04888    0.0       1.07188   0.0       -0.181842   -0.0      \n",
       "  0.0        2.04888   0.0       1.07188   -0.0        -0.181842 \n",
       " -0.149097  -0.0       0.855614  0.0       -0.629326   -0.0      \n",
       " -0.0       -0.149097  0.0       0.855614  -0.0        -0.629326 \n",
       "  0.520474   0.0       0.198172  0.0       -0.0354704  -0.0      \n",
       "  0.0        0.520474  0.0       0.198172  -0.0        -0.0354704"
      ]
     },
     "execution_count": 78,
     "metadata": {},
     "output_type": "execute_result"
    }
   ],
   "source": [
    "a⊗b"
   ]
  },
  {
   "cell_type": "code",
   "execution_count": 79,
   "metadata": {},
   "outputs": [
    {
     "data": {
      "text/plain": [
       "6×6 Array{Float64,2}:\n",
       "  2.04888   1.07188   -0.181842    0.0       0.0       -0.0      \n",
       " -0.149097  0.855614  -0.629326   -0.0       0.0       -0.0      \n",
       "  0.520474  0.198172  -0.0354704   0.0       0.0       -0.0      \n",
       "  0.0       0.0       -0.0         2.04888   1.07188   -0.181842 \n",
       " -0.0       0.0       -0.0        -0.149097  0.855614  -0.629326 \n",
       "  0.0       0.0       -0.0         0.520474  0.198172  -0.0354704"
      ]
     },
     "execution_count": 79,
     "metadata": {},
     "output_type": "execute_result"
    }
   ],
   "source": [
    "b⊗a"
   ]
  },
  {
   "cell_type": "markdown",
   "metadata": {},
   "source": [
    "More introductory topics to explore:\n",
    "- [Conditional evaluation; ternary operator](https://docs.julialang.org/en/v1/manual/control-flow/#man-conditional-evaluation-1)\n",
    "- [Mathematical operators](https://docs.julialang.org/en/v1/base/math/#math-ops-1)"
   ]
  },
  {
   "cell_type": "markdown",
   "metadata": {},
   "source": [
    "More packages to explore:\n",
    " - [DynamicalSystems](https://github.com/JuliaDynamics/DynamicalSystems.jl)\n",
    " - [QuantumOptics](https://github.com/qojulia/QuantumOptics.jl)\n",
    " - [SymPy](https://github.com/JuliaPy/SymPy.jl)\n",
    " - [PGFPlots](https://github.com/JuliaTeX/PGFPlots.jl)"
   ]
  },
  {
   "cell_type": "markdown",
   "metadata": {},
   "source": [
    " ## Juno\n",
    " - Integrated Development Environment based on the wonderful open-source editor [Atom](https://atom.io/).\n",
    " - Great once you get into writing a sizeable amount of code.\n",
    " - Line by line evaluation, plotting, workspace, documentation browser, GitHub integration, etc. "
   ]
  },
  {
   "cell_type": "markdown",
   "metadata": {},
   "source": [
    "<img src=\"media/juno.png\" width=\"600\">"
   ]
  }
 ],
 "metadata": {
  "kernelspec": {
   "display_name": "Julia 1.4.0",
   "language": "julia",
   "name": "julia-1.4"
  },
  "language_info": {
   "file_extension": ".jl",
   "mimetype": "application/julia",
   "name": "julia",
   "version": "1.4.0"
  }
 },
 "nbformat": 4,
 "nbformat_minor": 2
}
