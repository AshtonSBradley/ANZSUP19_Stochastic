{
 "cells": [
  {
   "cell_type": "markdown",
   "metadata": {},
   "source": [
    "# Stochastic Differential Equations, Quantum Phase Space, and Julia\n",
    "\n",
    "$$\n",
    "\\def\\julia{\\texttt{julia}}\n",
    "\\def\\dashint{{\\int\\!\\!\\!\\!\\!\\!-\\,}}\n",
    "\\def\\infdashint{\\dashint_{\\!\\!\\!-\\infty}^{\\,\\infty}}\n",
    "\\def\\D{\\,{\\rm d}}\n",
    "\\def\\E{{\\rm e}}\n",
    "\\def\\dx{\\D x}\n",
    "\\def\\dt{\\D t}\n",
    "\\def\\dz{\\D z}\n",
    "\\def\\C{{\\mathbb C}}\n",
    "\\def\\R{{\\mathbb R}}\n",
    "\\def\\CC{{\\cal C}}\n",
    "\\def\\HH{{\\cal H}}\n",
    "\\def\\I{{\\rm i}}\n",
    "\\def\\qqqquad{\\qquad\\qquad}\n",
    "\\def\\qqfor{\\qquad\\hbox{for}\\qquad}\n",
    "\\def\\qqwhere{\\qquad\\hbox{where}\\qquad}\n",
    "\\def\\Res_#1{\\underset{#1}{\\rm Res}}\\,\n",
    "\\def\\sech{{\\rm sech}\\,}\n",
    "\\def\\vc#1{{\\mathbf #1}}\n",
    "$$\n",
    "\n",
    "Dr. Ashton Bradley\n",
    "<br>\n",
    "ashton.bradley@otago.ac.nz\n",
    "<br>\n",
    "http://amoqt.otago.ac.nz"
   ]
  },
  {
   "cell_type": "markdown",
   "metadata": {},
   "source": [
    "# Intro to julia"
   ]
  },
  {
   "cell_type": "markdown",
   "metadata": {},
   "source": [
    "This laboratory will serve as an introduction to julia, and provide some essential background for stochastic processes.  "
   ]
  },
  {
   "cell_type": "markdown",
   "metadata": {},
   "source": [
    "## Workshop 1 (1.5 hours): $\\julia$ in a nutshell\n",
    "Getting started in $\\julia$: the basics\n",
    "\n",
    "- Familiarity with $\\julia$ computing environments: REPL, Jupyter, Juno\n",
    "- Variables, functions \n",
    "- Using packages and plotting\n",
    "- How does $\\julia$ solve the two-language problem?\n",
    "\n",
    "References\n",
    "\n",
    "- [julialang.org](https://julialang.org)\n",
    "- [juliaobserver](https://juliaobserver.com)\n",
    "- _Julia: A Fresh Approach to Numerical Computing_, Jeff Bezanson, Alan Edelman, Stefan Karpinski and Viral B. Shah [SIAM Review, __59__, 65–98 (2017)](http://julialang.org/publications/julia-fresh-approach-BEKS.pdf)\n",
    "- [Fun and sometimes useful julia packages](http://amoqt.otago.ac.nz/resources/juliajam)"
   ]
  },
  {
   "cell_type": "markdown",
   "metadata": {},
   "source": [
    "# Motivation: the two-language problem\n",
    "Why another language? \n",
    "\n",
    "- Compiled languages\n",
    "    - Fast execution\n",
    "    - Slow to read/write/debug\n",
    "    - Tend to get isolated from latest conceptual developments \n",
    "- Interpreted languages \n",
    "    - Slow exection\n",
    "    - Easy to read/write/debug\n",
    "    - Not well suited for high performance computing\n",
    "- This is a ___major___ issue in technical computing. \n",
    "- This conflict motivated the development of $\\julia$ at MIT (1.0 released 2018). \n",
    "- [next big thing?](https://www.techrepublic.com/article/is-julia-the-next-big-programming-language-mit-thinks-so-as-version-1-0-lands/)\n",
    "- [Julia joined the \"petaflop club\" in 2017](https://www.hpcwire.com/off-the-wire/julia-joins-petaflop-club/), the only high level scripting language ever to do so."
   ]
  },
  {
   "cell_type": "markdown",
   "metadata": {},
   "source": [
    "## Julia microbenchmarks\n",
    "[https://julialang.org/benchmarks/](https://julialang.org/benchmarks/)"
   ]
  },
  {
   "cell_type": "markdown",
   "metadata": {},
   "source": [
    "<img src=\"media/juliabench.png\" width=\"600\">"
   ]
  },
  {
   "cell_type": "markdown",
   "metadata": {},
   "source": [
    "<img src=\"media/packages.png\" width=\"600\">"
   ]
  },
  {
   "cell_type": "markdown",
   "metadata": {},
   "source": [
    "## Julia observer\n",
    "\n",
    "An up to date package listing is provided at [juliaobserver.com](https://juliaobserver.com/packages)\n",
    "\n",
    "## Language \n",
    "Julia is powered by several unique language innovations that developers love, and I think you will too once you get to know a bit more about them:\n",
    "\n",
    "- Multiple dispatch: methods are not owned by classes.\n",
    "- Duck typing: you can define your own data types by their properties; they translate across all of julia \n",
    "- Different julia modules can call each other without any loss of performance\n",
    "\n",
    "Coming from a different language, you may find a list of [noteworthy differences to other languages](https://docs.julialang.org/en/v0.7.0/manual/noteworthy-differences/)  useful."
   ]
  },
  {
   "cell_type": "markdown",
   "metadata": {},
   "source": [
    "# $\\julia$ environments"
   ]
  },
  {
   "cell_type": "markdown",
   "metadata": {},
   "source": [
    "## Read, Evaluate, Print, Loop (REPL)"
   ]
  },
  {
   "cell_type": "markdown",
   "metadata": {},
   "source": [
    "<img src=\"media/repl.png\" width=\"500\">"
   ]
  },
  {
   "cell_type": "markdown",
   "metadata": {},
   "source": [
    "## Package manager"
   ]
  },
  {
   "cell_type": "markdown",
   "metadata": {},
   "source": [
    "How to access Pkg mode in the REPL\n",
    "```julia\n",
    "julia> ]\n",
    "```\n",
    "\n",
    "To add a package\n",
    "\n",
    "```julia\n",
    "(1.0) pkg> add IJulia \n",
    "```"
   ]
  },
  {
   "cell_type": "markdown",
   "metadata": {},
   "source": [
    "Note that REPL commands are just $\\julia$ commands, so julia REPL and jupyter are identical, except that the Pkg mode can't be accessed in jupyter."
   ]
  },
  {
   "cell_type": "code",
   "execution_count": null,
   "metadata": {},
   "outputs": [],
   "source": [
    "#how to access Pkg commands in jupyter\n",
    "using Pkg\n",
    "pkg\"status\" "
   ]
  },
  {
   "cell_type": "markdown",
   "metadata": {},
   "source": [
    "To load a package\n",
    "```julia\n",
    "julia> using IJulia\n",
    "```"
   ]
  },
  {
   "cell_type": "markdown",
   "metadata": {},
   "source": [
    "`IJulia` provides the jupyter environment for julia. \n",
    "    \n",
    "To launch jupyter, enter this command in the REPL:\n",
    "```julia\n",
    "julia> notebook()\n",
    "```"
   ]
  },
  {
   "cell_type": "markdown",
   "metadata": {},
   "source": [
    "You should now have access to the lectures as jupyter notebooks (no? let me know)."
   ]
  },
  {
   "cell_type": "markdown",
   "metadata": {},
   "source": [
    "# Jupyter\n",
    "Web browser front end calls a $\\julia$ kernel, evaluates, returns result; quite low overhead."
   ]
  },
  {
   "cell_type": "code",
   "execution_count": 5,
   "metadata": {},
   "outputs": [
    {
     "data": {
      "text/plain": [
       "Plots.GRBackend()"
      ]
     },
     "execution_count": 5,
     "metadata": {},
     "output_type": "execute_result"
    }
   ],
   "source": [
    "using Plots\n",
    "# set defaults for GR backend\n",
    "gr(titlefontsize=12,grid=false,legend=false,size=(600,200))"
   ]
  },
  {
   "cell_type": "code",
   "execution_count": 2,
   "metadata": {},
   "outputs": [
    {
     "data": {
      "text/plain": [
       "linspace (generic function with 1 method)"
      ]
     },
     "execution_count": 2,
     "metadata": {},
     "output_type": "execute_result"
    }
   ],
   "source": [
    "# let's add one useful function (more on this later)\n",
    "linspace(a,b,n) = LinRange(a,b,n) |> collect"
   ]
  },
  {
   "cell_type": "code",
   "execution_count": 3,
   "metadata": {},
   "outputs": [],
   "source": [
    "x = linspace(0,10,500);"
   ]
  },
  {
   "cell_type": "code",
   "execution_count": 4,
   "metadata": {},
   "outputs": [
    {
     "data": {
      "image/svg+xml": [
       "<?xml version=\"1.0\" encoding=\"utf-8\"?>\n",
       "<svg xmlns=\"http://www.w3.org/2000/svg\" xmlns:xlink=\"http://www.w3.org/1999/xlink\" width=\"600\" height=\"200\" viewBox=\"0 0 2400 800\">\n",
       "<defs>\n",
       "  <clipPath id=\"clip5500\">\n",
       "    <rect x=\"0\" y=\"0\" width=\"2000\" height=\"2000\"/>\n",
       "  </clipPath>\n",
       "</defs>\n",
       "<defs>\n",
       "  <clipPath id=\"clip5501\">\n",
       "    <rect x=\"0\" y=\"0\" width=\"2400\" height=\"800\"/>\n",
       "  </clipPath>\n",
       "</defs>\n",
       "<polygon clip-path=\"url(#clip5501)\" points=\"\n",
       "0,800 2400,800 2400,0 0,0 \n",
       "  \" fill=\"#ffffff\" fill-rule=\"evenodd\" fill-opacity=\"1\"/>\n",
       "<defs>\n",
       "  <clipPath id=\"clip5502\">\n",
       "    <rect x=\"480\" y=\"0\" width=\"1681\" height=\"800\"/>\n",
       "  </clipPath>\n",
       "</defs>\n",
       "<polygon clip-path=\"url(#clip5501)\" points=\"\n",
       "252.496,640.483 2321.26,640.483 2321.26,47.2441 252.496,47.2441 \n",
       "  \" fill=\"#ffffff\" fill-rule=\"evenodd\" fill-opacity=\"1\"/>\n",
       "<defs>\n",
       "  <clipPath id=\"clip5503\">\n",
       "    <rect x=\"252\" y=\"47\" width=\"2070\" height=\"594\"/>\n",
       "  </clipPath>\n",
       "</defs>\n",
       "<polyline clip-path=\"url(#clip5501)\" style=\"stroke:#000000; stroke-width:4; stroke-opacity:1; fill:none\" points=\"\n",
       "  252.496,640.483 2321.26,640.483 \n",
       "  \"/>\n",
       "<polyline clip-path=\"url(#clip5501)\" style=\"stroke:#000000; stroke-width:4; stroke-opacity:1; fill:none\" points=\"\n",
       "  252.496,640.483 252.496,47.2441 \n",
       "  \"/>\n",
       "<polyline clip-path=\"url(#clip5501)\" style=\"stroke:#000000; stroke-width:4; stroke-opacity:1; fill:none\" points=\"\n",
       "  311.046,640.483 311.046,631.584 \n",
       "  \"/>\n",
       "<polyline clip-path=\"url(#clip5501)\" style=\"stroke:#000000; stroke-width:4; stroke-opacity:1; fill:none\" points=\"\n",
       "  798.962,640.483 798.962,631.584 \n",
       "  \"/>\n",
       "<polyline clip-path=\"url(#clip5501)\" style=\"stroke:#000000; stroke-width:4; stroke-opacity:1; fill:none\" points=\"\n",
       "  1286.88,640.483 1286.88,631.584 \n",
       "  \"/>\n",
       "<polyline clip-path=\"url(#clip5501)\" style=\"stroke:#000000; stroke-width:4; stroke-opacity:1; fill:none\" points=\"\n",
       "  1774.79,640.483 1774.79,631.584 \n",
       "  \"/>\n",
       "<polyline clip-path=\"url(#clip5501)\" style=\"stroke:#000000; stroke-width:4; stroke-opacity:1; fill:none\" points=\"\n",
       "  2262.71,640.483 2262.71,631.584 \n",
       "  \"/>\n",
       "<polyline clip-path=\"url(#clip5501)\" style=\"stroke:#000000; stroke-width:4; stroke-opacity:1; fill:none\" points=\"\n",
       "  252.496,623.694 283.528,623.694 \n",
       "  \"/>\n",
       "<polyline clip-path=\"url(#clip5501)\" style=\"stroke:#000000; stroke-width:4; stroke-opacity:1; fill:none\" points=\"\n",
       "  252.496,483.779 283.528,483.779 \n",
       "  \"/>\n",
       "<polyline clip-path=\"url(#clip5501)\" style=\"stroke:#000000; stroke-width:4; stroke-opacity:1; fill:none\" points=\"\n",
       "  252.496,343.864 283.528,343.864 \n",
       "  \"/>\n",
       "<polyline clip-path=\"url(#clip5501)\" style=\"stroke:#000000; stroke-width:4; stroke-opacity:1; fill:none\" points=\"\n",
       "  252.496,203.949 283.528,203.949 \n",
       "  \"/>\n",
       "<polyline clip-path=\"url(#clip5501)\" style=\"stroke:#000000; stroke-width:4; stroke-opacity:1; fill:none\" points=\"\n",
       "  252.496,64.0334 283.528,64.0334 \n",
       "  \"/>\n",
       "<g clip-path=\"url(#clip5501)\">\n",
       "<text style=\"fill:#000000; fill-opacity:1; font-family:Arial,Helvetica Neue,Helvetica,sans-serif; font-size:48px; text-anchor:middle;\" transform=\"rotate(0, 311.046, 694.483)\" x=\"311.046\" y=\"694.483\">0.0</text>\n",
       "</g>\n",
       "<g clip-path=\"url(#clip5501)\">\n",
       "<text style=\"fill:#000000; fill-opacity:1; font-family:Arial,Helvetica Neue,Helvetica,sans-serif; font-size:48px; text-anchor:middle;\" transform=\"rotate(0, 798.962, 694.483)\" x=\"798.962\" y=\"694.483\">2.5</text>\n",
       "</g>\n",
       "<g clip-path=\"url(#clip5501)\">\n",
       "<text style=\"fill:#000000; fill-opacity:1; font-family:Arial,Helvetica Neue,Helvetica,sans-serif; font-size:48px; text-anchor:middle;\" transform=\"rotate(0, 1286.88, 694.483)\" x=\"1286.88\" y=\"694.483\">5.0</text>\n",
       "</g>\n",
       "<g clip-path=\"url(#clip5501)\">\n",
       "<text style=\"fill:#000000; fill-opacity:1; font-family:Arial,Helvetica Neue,Helvetica,sans-serif; font-size:48px; text-anchor:middle;\" transform=\"rotate(0, 1774.79, 694.483)\" x=\"1774.79\" y=\"694.483\">7.5</text>\n",
       "</g>\n",
       "<g clip-path=\"url(#clip5501)\">\n",
       "<text style=\"fill:#000000; fill-opacity:1; font-family:Arial,Helvetica Neue,Helvetica,sans-serif; font-size:48px; text-anchor:middle;\" transform=\"rotate(0, 2262.71, 694.483)\" x=\"2262.71\" y=\"694.483\">10.0</text>\n",
       "</g>\n",
       "<g clip-path=\"url(#clip5501)\">\n",
       "<text style=\"fill:#000000; fill-opacity:1; font-family:Arial,Helvetica Neue,Helvetica,sans-serif; font-size:48px; text-anchor:end;\" transform=\"rotate(0, 228.496, 641.194)\" x=\"228.496\" y=\"641.194\">-1.0</text>\n",
       "</g>\n",
       "<g clip-path=\"url(#clip5501)\">\n",
       "<text style=\"fill:#000000; fill-opacity:1; font-family:Arial,Helvetica Neue,Helvetica,sans-serif; font-size:48px; text-anchor:end;\" transform=\"rotate(0, 228.496, 501.279)\" x=\"228.496\" y=\"501.279\">-0.5</text>\n",
       "</g>\n",
       "<g clip-path=\"url(#clip5501)\">\n",
       "<text style=\"fill:#000000; fill-opacity:1; font-family:Arial,Helvetica Neue,Helvetica,sans-serif; font-size:48px; text-anchor:end;\" transform=\"rotate(0, 228.496, 361.364)\" x=\"228.496\" y=\"361.364\">0.0</text>\n",
       "</g>\n",
       "<g clip-path=\"url(#clip5501)\">\n",
       "<text style=\"fill:#000000; fill-opacity:1; font-family:Arial,Helvetica Neue,Helvetica,sans-serif; font-size:48px; text-anchor:end;\" transform=\"rotate(0, 228.496, 221.449)\" x=\"228.496\" y=\"221.449\">0.5</text>\n",
       "</g>\n",
       "<g clip-path=\"url(#clip5501)\">\n",
       "<text style=\"fill:#000000; fill-opacity:1; font-family:Arial,Helvetica Neue,Helvetica,sans-serif; font-size:48px; text-anchor:end;\" transform=\"rotate(0, 228.496, 81.5334)\" x=\"228.496\" y=\"81.5334\">1.0</text>\n",
       "</g>\n",
       "<g clip-path=\"url(#clip5501)\">\n",
       "<text style=\"fill:#000000; fill-opacity:1; font-family:Arial,Helvetica Neue,Helvetica,sans-serif; font-size:66px; text-anchor:middle;\" transform=\"rotate(0, 1286.88, 790.4)\" x=\"1286.88\" y=\"790.4\">x</text>\n",
       "</g>\n",
       "<g clip-path=\"url(#clip5501)\">\n",
       "<text style=\"fill:#000000; fill-opacity:1; font-family:Arial,Helvetica Neue,Helvetica,sans-serif; font-size:66px; text-anchor:middle;\" transform=\"rotate(-90, 57.6, 343.863)\" x=\"57.6\" y=\"343.863\">sin(x)</text>\n",
       "</g>\n",
       "<polyline clip-path=\"url(#clip5503)\" style=\"stroke:#009af9; stroke-width:4; stroke-opacity:1; fill:none\" points=\"\n",
       "  311.046,343.864 314.957,338.256 318.868,332.651 322.78,327.05 326.691,321.456 330.602,315.872 334.513,310.298 338.424,304.738 342.335,299.193 346.247,293.667 \n",
       "  350.158,288.16 354.069,282.676 357.98,277.217 361.891,271.784 365.802,266.38 369.713,261.008 373.625,255.668 377.536,250.364 381.447,245.098 385.358,239.871 \n",
       "  389.269,234.686 393.18,229.545 397.091,224.45 401.003,219.403 404.914,214.405 408.825,209.46 412.736,204.569 416.647,199.733 420.558,194.956 424.47,190.238 \n",
       "  428.381,185.582 432.292,180.99 436.203,176.463 440.114,172.003 444.025,167.612 447.936,163.292 451.848,159.045 455.759,154.871 459.67,150.774 463.581,146.754 \n",
       "  467.492,142.813 471.403,138.954 475.314,135.176 479.226,131.482 483.137,127.874 487.048,124.352 490.959,120.918 494.87,117.574 498.781,114.321 502.693,111.16 \n",
       "  506.604,108.092 510.515,105.119 514.426,102.242 518.337,99.4622 522.248,96.7803 526.159,94.1977 530.071,91.7154 533.982,89.3343 537.893,87.0554 541.804,84.8796 \n",
       "  545.715,82.8079 549.626,80.841 553.537,78.9797 557.449,77.2248 561.36,75.577 565.271,74.0369 569.182,72.6051 573.093,71.2824 577.004,70.069 580.915,68.9657 \n",
       "  584.827,67.9727 588.738,67.0905 592.649,66.3195 596.56,65.6599 600.471,65.1121 604.382,64.6762 608.294,64.3524 612.205,64.1409 616.116,64.0417 620.027,64.0549 \n",
       "  623.938,64.1804 627.849,64.4183 631.76,64.7684 635.672,65.2305 639.583,65.8046 643.494,66.4903 647.405,67.2874 651.316,68.1956 655.227,69.2145 659.138,70.3437 \n",
       "  663.05,71.5828 666.961,72.9312 670.872,74.3884 674.783,75.9538 678.694,77.6268 682.605,79.4067 686.517,81.2928 690.428,83.2844 694.339,85.3806 698.25,87.5806 \n",
       "  702.161,89.8836 706.072,92.2885 709.983,94.7945 713.895,97.4004 717.806,100.105 721.717,102.908 725.628,105.808 729.539,108.803 733.45,111.893 737.361,115.076 \n",
       "  741.273,118.35 745.184,121.715 749.095,125.17 753.006,128.712 756.917,132.341 760.828,136.054 764.74,139.851 768.651,143.73 772.562,147.69 776.473,151.728 \n",
       "  780.384,155.843 784.295,160.034 788.206,164.299 792.118,168.636 796.029,173.043 799.94,177.518 803.851,182.061 807.762,186.668 811.673,191.339 815.584,196.071 \n",
       "  819.496,200.862 823.407,205.711 827.318,210.615 831.229,215.573 835.14,220.582 839.051,225.641 842.963,230.747 846.874,235.898 850.785,241.093 854.696,246.329 \n",
       "  858.607,251.605 862.518,256.917 866.429,262.265 870.341,267.645 874.252,273.056 878.163,278.495 882.074,283.96 885.985,289.45 889.896,294.961 893.807,300.492 \n",
       "  897.719,306.04 901.63,311.604 905.541,317.18 909.452,322.768 913.363,328.363 917.274,333.965 921.186,339.571 925.097,345.179 929.008,350.786 932.919,356.39 \n",
       "  936.83,361.99 940.741,367.582 944.652,373.164 948.564,378.735 952.475,384.292 956.386,389.832 960.297,395.354 964.208,400.856 968.119,406.334 972.03,411.787 \n",
       "  975.942,417.214 979.853,422.61 983.764,427.975 987.675,433.307 991.586,438.602 995.497,443.859 999.409,449.076 1003.32,454.251 1007.23,459.382 1011.14,464.466 \n",
       "  1015.05,469.502 1018.96,474.487 1022.88,479.42 1026.79,484.298 1030.7,489.12 1034.61,493.884 1038.52,498.587 1042.43,503.228 1046.34,507.805 1050.25,512.317 \n",
       "  1054.16,516.761 1058.08,521.135 1061.99,525.438 1065.9,529.668 1069.81,533.824 1073.72,537.903 1077.63,541.905 1081.54,545.827 1085.45,549.667 1089.36,553.425 \n",
       "  1093.28,557.099 1097.19,560.688 1101.1,564.189 1105.01,567.602 1108.92,570.925 1112.83,574.156 1116.74,577.296 1120.65,580.341 1124.57,583.292 1128.48,586.146 \n",
       "  1132.39,588.903 1136.3,591.562 1140.21,594.121 1144.12,596.58 1148.03,598.937 1151.94,601.192 1155.85,603.343 1159.77,605.39 1163.68,607.333 1167.59,609.169 \n",
       "  1171.5,610.899 1175.41,612.521 1179.32,614.036 1183.23,615.442 1187.14,616.74 1191.05,617.927 1194.97,619.005 1198.88,619.972 1202.79,620.828 1206.7,621.573 \n",
       "  1210.61,622.206 1214.52,622.728 1218.43,623.137 1222.34,623.435 1226.26,623.62 1230.17,623.693 1234.08,623.653 1237.99,623.501 1241.9,623.237 1245.81,622.861 \n",
       "  1249.72,622.372 1253.63,621.772 1257.54,621.06 1261.46,620.237 1265.37,619.303 1269.28,618.258 1273.19,617.103 1277.1,615.838 1281.01,614.464 1284.92,612.982 \n",
       "  1288.83,611.391 1292.74,609.693 1296.66,607.888 1300.57,605.977 1304.48,603.961 1308.39,601.84 1312.3,599.616 1316.21,597.289 1320.12,594.86 1324.03,592.331 \n",
       "  1327.95,589.702 1331.86,586.973 1335.77,584.148 1339.68,581.226 1343.59,578.208 1347.5,575.097 1351.41,571.892 1355.32,568.596 1359.23,565.21 1363.15,561.735 \n",
       "  1367.06,558.172 1370.97,554.523 1374.88,550.79 1378.79,546.974 1382.7,543.076 1386.61,539.098 1390.52,535.041 1394.43,530.908 1398.35,526.7 1402.26,522.418 \n",
       "  1406.17,518.065 1410.08,513.641 1413.99,509.15 1417.9,504.592 1421.81,499.969 1425.72,495.284 1429.64,490.538 1433.55,485.733 1437.46,480.871 1441.37,475.955 \n",
       "  1445.28,470.985 1449.19,465.964 1453.1,460.894 1457.01,455.777 1460.92,450.615 1464.84,445.41 1468.75,440.164 1472.66,434.88 1476.57,429.559 1480.48,424.204 \n",
       "  1484.39,418.816 1488.3,413.399 1492.21,407.953 1496.12,402.482 1500.04,396.987 1503.95,391.471 1507.86,385.936 1511.77,380.384 1515.68,374.817 1519.59,369.238 \n",
       "  1523.5,363.648 1527.41,358.051 1531.32,352.448 1535.24,346.841 1539.15,341.233 1543.06,335.627 1546.97,330.023 1550.88,324.426 1554.79,318.836 1558.7,313.256 \n",
       "  1562.61,307.688 1566.53,302.135 1570.44,296.598 1574.35,291.081 1578.26,285.585 1582.17,280.112 1586.08,274.665 1589.99,269.246 1593.9,263.856 1597.81,258.499 \n",
       "  1601.73,253.176 1605.64,247.889 1609.55,242.641 1613.46,237.434 1617.37,232.269 1621.28,227.149 1625.19,222.076 1629.1,217.052 1633.01,212.079 1636.93,207.159 \n",
       "  1640.84,202.294 1644.75,197.485 1648.66,192.735 1652.57,188.046 1656.48,183.42 1660.39,178.858 1664.3,174.362 1668.22,169.935 1672.13,165.577 1676.04,161.291 \n",
       "  1679.95,157.078 1683.86,152.94 1687.77,148.879 1691.68,144.896 1695.59,140.993 1699.5,137.171 1703.42,133.433 1707.33,129.779 1711.24,126.211 1715.15,122.73 \n",
       "  1719.06,119.338 1722.97,116.037 1726.88,112.827 1730.79,109.709 1734.7,106.686 1738.62,103.758 1742.53,100.926 1746.44,98.192 1750.35,95.5565 1754.26,93.0208 \n",
       "  1758.17,90.5858 1762.08,88.2526 1765.99,86.0219 1769.91,83.8949 1773.82,81.8722 1777.73,79.9547 1781.64,78.1433 1785.55,76.4385 1789.46,74.8411 1793.37,73.3518 \n",
       "  1797.28,71.9711 1801.19,70.6996 1805.11,69.5378 1809.02,68.4861 1812.93,67.5451 1816.84,66.715 1820.75,65.9962 1824.66,65.389 1828.57,64.8937 1832.48,64.5103 \n",
       "  1836.39,64.2392 1840.31,64.0804 1844.22,64.0339 1848.13,64.0998 1852.04,64.278 1855.95,64.5685 1859.86,64.9712 1863.77,65.4859 1867.68,66.1123 1871.59,66.8504 \n",
       "  1875.51,67.6996 1879.42,68.6598 1883.33,69.7305 1887.24,70.9113 1891.15,72.2017 1895.06,73.6012 1898.97,75.1092 1902.88,76.7251 1906.8,78.4484 1910.71,80.2782 \n",
       "  1914.62,82.2139 1918.53,84.2546 1922.44,86.3996 1926.35,88.6481 1930.26,90.999 1934.17,93.4514 1938.08,96.0044 1942,98.657 1945.91,101.408 1949.82,104.256 \n",
       "  1953.73,107.201 1957.64,110.241 1961.55,113.374 1965.46,116.6 1969.37,119.917 1973.28,123.325 1977.2,126.821 1981.11,130.403 1985.02,134.072 1988.93,137.825 \n",
       "  1992.84,141.661 1996.75,145.578 2000.66,149.574 2004.57,153.649 2008.49,157.8 2012.4,162.025 2016.31,166.324 2020.22,170.694 2024.13,175.134 2028.04,179.641 \n",
       "  2031.95,184.214 2035.86,188.851 2039.77,193.551 2043.69,198.311 2047.6,203.129 2051.51,208.004 2055.42,212.934 2059.33,217.916 2063.24,222.949 2067.15,228.03 \n",
       "  2071.06,233.158 2074.97,238.33 2078.89,243.544 2082.8,248.799 2086.71,254.092 2090.62,259.421 2094.53,264.784 2098.44,270.179 2102.35,275.603 2106.26,281.055 \n",
       "  2110.18,286.532 2114.09,292.032 2118,297.553 2121.91,303.092 2125.82,308.648 2129.73,314.218 2133.64,319.8 2137.55,325.391 2141.46,330.99 2145.38,336.594 \n",
       "  2149.29,342.201 2153.2,347.809 2157.11,353.415 2161.02,359.018 2164.93,364.614 2168.84,370.202 2172.75,375.779 2176.66,381.343 2180.58,386.893 2184.49,392.425 \n",
       "  2188.4,397.937 2192.31,403.428 2196.22,408.895 2200.13,414.336 2204.04,419.749 2207.95,425.131 2211.86,430.48 2215.78,435.795 2219.69,441.073 2223.6,446.311 \n",
       "  2227.51,451.509 2231.42,456.663 2235.33,461.772 2239.24,466.834 2243.15,471.846 2247.07,476.807 2250.98,481.715 2254.89,486.567 2258.8,491.362 2262.71,496.097 \n",
       "  \n",
       "  \"/>\n",
       "</svg>\n"
      ]
     },
     "execution_count": 4,
     "metadata": {},
     "output_type": "execute_result"
    }
   ],
   "source": [
    "#first plot will take a few seconds\n",
    "plot(x,sin.(x)) \n",
    "xlabel!(\"x\");ylabel!(\"sin(x)\")"
   ]
  },
  {
   "cell_type": "markdown",
   "metadata": {},
   "source": [
    "- Dot-calls: (large) extension of Matlab's local array operation syntax.\n",
    "- `xlabel!()`: `!` at the end of the function name is a julia convention that declares: \"modifies the input\", also referred to as a _mutating function_; here the input is the current plot which doesn't neet to be declared. "
   ]
  },
  {
   "cell_type": "code",
   "execution_count": 6,
   "metadata": {},
   "outputs": [
    {
     "data": {
      "image/svg+xml": [
       "<?xml version=\"1.0\" encoding=\"utf-8\"?>\n",
       "<svg xmlns=\"http://www.w3.org/2000/svg\" xmlns:xlink=\"http://www.w3.org/1999/xlink\" width=\"600\" height=\"200\" viewBox=\"0 0 2400 800\">\n",
       "<defs>\n",
       "  <clipPath id=\"clip5700\">\n",
       "    <rect x=\"0\" y=\"0\" width=\"2000\" height=\"2000\"/>\n",
       "  </clipPath>\n",
       "</defs>\n",
       "<defs>\n",
       "  <clipPath id=\"clip5701\">\n",
       "    <rect x=\"0\" y=\"0\" width=\"2400\" height=\"800\"/>\n",
       "  </clipPath>\n",
       "</defs>\n",
       "<polygon clip-path=\"url(#clip5701)\" points=\"\n",
       "0,800 2400,800 2400,0 0,0 \n",
       "  \" fill=\"#ffffff\" fill-rule=\"evenodd\" fill-opacity=\"1\"/>\n",
       "<defs>\n",
       "  <clipPath id=\"clip5702\">\n",
       "    <rect x=\"480\" y=\"0\" width=\"1681\" height=\"800\"/>\n",
       "  </clipPath>\n",
       "</defs>\n",
       "<polygon clip-path=\"url(#clip5701)\" points=\"\n",
       "252.496,657.249 2321.26,657.249 2321.26,47.2441 252.496,47.2441 \n",
       "  \" fill=\"#ffffff\" fill-rule=\"evenodd\" fill-opacity=\"1\"/>\n",
       "<defs>\n",
       "  <clipPath id=\"clip5703\">\n",
       "    <rect x=\"252\" y=\"47\" width=\"2070\" height=\"611\"/>\n",
       "  </clipPath>\n",
       "</defs>\n",
       "<polyline clip-path=\"url(#clip5701)\" style=\"stroke:#000000; stroke-width:4; stroke-opacity:1; fill:none\" points=\"\n",
       "  252.496,657.249 2321.26,657.249 \n",
       "  \"/>\n",
       "<polyline clip-path=\"url(#clip5701)\" style=\"stroke:#000000; stroke-width:4; stroke-opacity:1; fill:none\" points=\"\n",
       "  252.496,657.249 252.496,47.2441 \n",
       "  \"/>\n",
       "<polyline clip-path=\"url(#clip5701)\" style=\"stroke:#000000; stroke-width:4; stroke-opacity:1; fill:none\" points=\"\n",
       "  311.046,657.249 311.046,648.099 \n",
       "  \"/>\n",
       "<polyline clip-path=\"url(#clip5701)\" style=\"stroke:#000000; stroke-width:4; stroke-opacity:1; fill:none\" points=\"\n",
       "  798.962,657.249 798.962,648.099 \n",
       "  \"/>\n",
       "<polyline clip-path=\"url(#clip5701)\" style=\"stroke:#000000; stroke-width:4; stroke-opacity:1; fill:none\" points=\"\n",
       "  1286.88,657.249 1286.88,648.099 \n",
       "  \"/>\n",
       "<polyline clip-path=\"url(#clip5701)\" style=\"stroke:#000000; stroke-width:4; stroke-opacity:1; fill:none\" points=\"\n",
       "  1774.79,657.249 1774.79,648.099 \n",
       "  \"/>\n",
       "<polyline clip-path=\"url(#clip5701)\" style=\"stroke:#000000; stroke-width:4; stroke-opacity:1; fill:none\" points=\"\n",
       "  2262.71,657.249 2262.71,648.099 \n",
       "  \"/>\n",
       "<polyline clip-path=\"url(#clip5701)\" style=\"stroke:#000000; stroke-width:4; stroke-opacity:1; fill:none\" points=\"\n",
       "  252.496,639.986 283.528,639.986 \n",
       "  \"/>\n",
       "<polyline clip-path=\"url(#clip5701)\" style=\"stroke:#000000; stroke-width:4; stroke-opacity:1; fill:none\" points=\"\n",
       "  252.496,496.117 283.528,496.117 \n",
       "  \"/>\n",
       "<polyline clip-path=\"url(#clip5701)\" style=\"stroke:#000000; stroke-width:4; stroke-opacity:1; fill:none\" points=\"\n",
       "  252.496,352.247 283.528,352.247 \n",
       "  \"/>\n",
       "<polyline clip-path=\"url(#clip5701)\" style=\"stroke:#000000; stroke-width:4; stroke-opacity:1; fill:none\" points=\"\n",
       "  252.496,208.378 283.528,208.378 \n",
       "  \"/>\n",
       "<polyline clip-path=\"url(#clip5701)\" style=\"stroke:#000000; stroke-width:4; stroke-opacity:1; fill:none\" points=\"\n",
       "  252.496,64.5084 283.528,64.5084 \n",
       "  \"/>\n",
       "<g clip-path=\"url(#clip5701)\">\n",
       "<text style=\"fill:#000000; fill-opacity:1; font-family:Arial,Helvetica Neue,Helvetica,sans-serif; font-size:48px; text-anchor:middle;\" transform=\"rotate(0, 311.046, 711.249)\" x=\"311.046\" y=\"711.249\">0.0</text>\n",
       "</g>\n",
       "<g clip-path=\"url(#clip5701)\">\n",
       "<text style=\"fill:#000000; fill-opacity:1; font-family:Arial,Helvetica Neue,Helvetica,sans-serif; font-size:48px; text-anchor:middle;\" transform=\"rotate(0, 798.962, 711.249)\" x=\"798.962\" y=\"711.249\">2.5</text>\n",
       "</g>\n",
       "<g clip-path=\"url(#clip5701)\">\n",
       "<text style=\"fill:#000000; fill-opacity:1; font-family:Arial,Helvetica Neue,Helvetica,sans-serif; font-size:48px; text-anchor:middle;\" transform=\"rotate(0, 1286.88, 711.249)\" x=\"1286.88\" y=\"711.249\">5.0</text>\n",
       "</g>\n",
       "<g clip-path=\"url(#clip5701)\">\n",
       "<text style=\"fill:#000000; fill-opacity:1; font-family:Arial,Helvetica Neue,Helvetica,sans-serif; font-size:48px; text-anchor:middle;\" transform=\"rotate(0, 1774.79, 711.249)\" x=\"1774.79\" y=\"711.249\">7.5</text>\n",
       "</g>\n",
       "<g clip-path=\"url(#clip5701)\">\n",
       "<text style=\"fill:#000000; fill-opacity:1; font-family:Arial,Helvetica Neue,Helvetica,sans-serif; font-size:48px; text-anchor:middle;\" transform=\"rotate(0, 2262.71, 711.249)\" x=\"2262.71\" y=\"711.249\">10.0</text>\n",
       "</g>\n",
       "<g clip-path=\"url(#clip5701)\">\n",
       "<text style=\"fill:#000000; fill-opacity:1; font-family:Arial,Helvetica Neue,Helvetica,sans-serif; font-size:48px; text-anchor:end;\" transform=\"rotate(0, 228.496, 657.486)\" x=\"228.496\" y=\"657.486\">-1.0</text>\n",
       "</g>\n",
       "<g clip-path=\"url(#clip5701)\">\n",
       "<text style=\"fill:#000000; fill-opacity:1; font-family:Arial,Helvetica Neue,Helvetica,sans-serif; font-size:48px; text-anchor:end;\" transform=\"rotate(0, 228.496, 513.617)\" x=\"228.496\" y=\"513.617\">-0.5</text>\n",
       "</g>\n",
       "<g clip-path=\"url(#clip5701)\">\n",
       "<text style=\"fill:#000000; fill-opacity:1; font-family:Arial,Helvetica Neue,Helvetica,sans-serif; font-size:48px; text-anchor:end;\" transform=\"rotate(0, 228.496, 369.747)\" x=\"228.496\" y=\"369.747\">0.0</text>\n",
       "</g>\n",
       "<g clip-path=\"url(#clip5701)\">\n",
       "<text style=\"fill:#000000; fill-opacity:1; font-family:Arial,Helvetica Neue,Helvetica,sans-serif; font-size:48px; text-anchor:end;\" transform=\"rotate(0, 228.496, 225.878)\" x=\"228.496\" y=\"225.878\">0.5</text>\n",
       "</g>\n",
       "<g clip-path=\"url(#clip5701)\">\n",
       "<text style=\"fill:#000000; fill-opacity:1; font-family:Arial,Helvetica Neue,Helvetica,sans-serif; font-size:48px; text-anchor:end;\" transform=\"rotate(0, 228.496, 82.0084)\" x=\"228.496\" y=\"82.0084\">1.0</text>\n",
       "</g>\n",
       "<g clip-path=\"url(#clip5701)\">\n",
       "<text style=\"fill:#000000; fill-opacity:1; font-family:Arial,Helvetica Neue,Helvetica,sans-serif; font-size:66px; text-anchor:middle;\" transform=\"rotate(0, 1286.88, 790.4)\" x=\"1286.88\" y=\"790.4\">x</text>\n",
       "</g>\n",
       "<g clip-path=\"url(#clip5701)\">\n",
       "<text style=\"fill:#000000; fill-opacity:1; font-family:Arial,Helvetica Neue,Helvetica,sans-serif; font-size:66px; text-anchor:middle;\" transform=\"rotate(-90, 57.6, 352.247)\" x=\"57.6\" y=\"352.247\">sin(x)</text>\n",
       "</g>\n",
       "<polyline clip-path=\"url(#clip5703)\" style=\"stroke:#009af9; stroke-width:4; stroke-opacity:1; fill:none\" points=\"\n",
       "  311.046,352.247 314.957,346.481 318.868,340.718 322.78,334.959 326.691,329.207 330.602,323.464 334.513,317.733 338.424,312.015 342.335,306.314 346.247,300.631 \n",
       "  350.158,294.969 354.069,289.33 357.98,283.717 361.891,278.13 365.802,272.574 369.713,267.049 373.625,261.559 377.536,256.105 381.447,250.69 385.358,245.316 \n",
       "  389.269,239.984 393.18,234.698 397.091,229.458 401.003,224.269 404.914,219.13 408.825,214.045 412.736,209.015 416.647,204.043 420.558,199.131 424.47,194.28 \n",
       "  428.381,189.492 432.292,184.77 436.203,180.115 440.114,175.529 444.025,171.014 447.936,166.572 451.848,162.205 455.759,157.914 459.67,153.7 463.581,149.567 \n",
       "  467.492,145.515 471.403,141.546 475.314,137.661 479.226,133.863 483.137,130.153 487.048,126.531 490.959,123.001 494.87,119.562 498.781,116.217 502.693,112.967 \n",
       "  506.604,109.812 510.515,106.755 514.426,103.797 518.337,100.938 522.248,98.1808 526.159,95.5252 530.071,92.9727 533.982,90.5243 537.893,88.181 541.804,85.9437 \n",
       "  545.715,83.8134 549.626,81.7909 553.537,79.877 557.449,78.0725 561.36,76.3781 565.271,74.7945 569.182,73.3223 573.093,71.9622 577.004,70.7146 580.915,69.58 \n",
       "  584.827,68.559 588.738,67.6519 592.649,66.859 596.56,66.1808 600.471,65.6175 604.382,65.1693 608.294,64.8364 612.205,64.6189 616.116,64.5169 620.027,64.5304 \n",
       "  623.938,64.6595 627.849,64.9041 631.76,65.2641 635.672,65.7393 639.583,66.3296 643.494,67.0347 647.405,67.8544 651.316,68.7882 655.227,69.8359 659.138,70.997 \n",
       "  663.05,72.2711 666.961,73.6576 670.872,75.156 674.783,76.7656 678.694,78.4859 682.605,80.3161 686.517,82.2555 690.428,84.3034 694.339,86.4589 698.25,88.721 \n",
       "  702.161,91.0891 706.072,93.562 709.983,96.1388 713.895,98.8184 717.806,101.6 721.717,104.482 725.628,107.463 729.539,110.543 733.45,113.72 737.361,116.993 \n",
       "  741.273,120.36 745.184,123.821 749.095,127.373 753.006,131.015 756.917,134.746 760.828,138.565 764.74,142.469 768.651,146.458 772.562,150.529 776.473,154.681 \n",
       "  780.384,158.913 784.295,163.222 788.206,167.607 792.118,172.067 796.029,176.598 799.94,181.201 803.851,185.872 807.762,190.609 811.673,195.412 815.584,200.278 \n",
       "  819.496,205.204 823.407,210.19 827.318,215.233 831.229,220.33 835.14,225.481 839.051,230.683 842.963,235.933 846.874,241.23 850.785,246.572 854.696,251.956 \n",
       "  858.607,257.381 862.518,262.844 866.429,268.342 870.341,273.874 874.252,279.438 878.163,285.031 882.074,290.651 885.985,296.295 889.896,301.962 893.807,307.65 \n",
       "  897.719,313.355 901.63,319.076 905.541,324.81 909.452,330.555 913.363,336.309 917.274,342.069 921.186,347.833 925.097,353.6 929.008,359.365 932.919,365.128 \n",
       "  936.83,370.885 940.741,376.636 944.652,382.376 948.564,388.104 952.475,393.818 956.386,399.515 960.297,405.193 964.208,410.85 968.119,416.483 972.03,422.091 \n",
       "  975.942,427.67 979.853,433.219 983.764,438.736 987.675,444.218 991.586,449.663 995.497,455.069 999.409,460.433 1003.32,465.754 1007.23,471.03 1011.14,476.258 \n",
       "  1015.05,481.436 1018.96,486.562 1022.88,491.634 1026.79,496.65 1030.7,501.609 1034.61,506.507 1038.52,511.343 1042.43,516.116 1046.34,520.822 1050.25,525.461 \n",
       "  1054.16,530.031 1058.08,534.529 1061.99,538.953 1065.9,543.303 1069.81,547.576 1073.72,551.771 1077.63,555.885 1081.54,559.918 1085.45,563.867 1089.36,567.732 \n",
       "  1093.28,571.509 1097.19,575.199 1101.1,578.799 1105.01,582.309 1108.92,585.725 1112.83,589.048 1116.74,592.276 1120.65,595.408 1124.57,598.442 1128.48,601.377 \n",
       "  1132.39,604.212 1136.3,606.946 1140.21,609.577 1144.12,612.105 1148.03,614.529 1151.94,616.848 1155.85,619.06 1159.77,621.165 1163.68,623.162 1167.59,625.051 \n",
       "  1171.5,626.829 1175.41,628.498 1179.32,630.055 1183.23,631.501 1187.14,632.835 1191.05,634.056 1194.97,635.164 1198.88,636.159 1202.79,637.039 1206.7,637.805 \n",
       "  1210.61,638.456 1214.52,638.992 1218.43,639.414 1222.34,639.72 1226.26,639.91 1230.17,639.985 1234.08,639.944 1237.99,639.788 1241.9,639.516 1245.81,639.129 \n",
       "  1249.72,638.627 1253.63,638.01 1257.54,637.278 1261.46,636.431 1265.37,635.471 1269.28,634.396 1273.19,633.209 1277.1,631.908 1281.01,630.496 1284.92,628.971 \n",
       "  1288.83,627.335 1292.74,625.589 1296.66,623.733 1300.57,621.768 1304.48,619.695 1308.39,617.515 1312.3,615.228 1316.21,612.835 1320.12,610.338 1324.03,607.737 \n",
       "  1327.95,605.033 1331.86,602.228 1335.77,599.322 1339.68,596.318 1343.59,593.215 1347.5,590.015 1351.41,586.72 1355.32,583.331 1359.23,579.849 1363.15,576.276 \n",
       "  1367.06,572.612 1370.97,568.861 1374.88,565.022 1378.79,561.097 1382.7,557.089 1386.61,552.999 1390.52,548.828 1394.43,544.578 1398.35,540.251 1402.26,535.848 \n",
       "  1406.17,531.371 1410.08,526.823 1413.99,522.205 1417.9,517.518 1421.81,512.765 1425.72,507.947 1429.64,503.067 1433.55,498.126 1437.46,493.127 1441.37,488.071 \n",
       "  1445.28,482.961 1449.19,477.798 1453.1,472.585 1457.01,467.323 1460.92,462.015 1464.84,456.663 1468.75,451.269 1472.66,445.836 1476.57,440.365 1480.48,434.858 \n",
       "  1484.39,429.318 1488.3,423.748 1492.21,418.148 1496.12,412.522 1500.04,406.872 1503.95,401.2 1507.86,395.508 1511.77,389.799 1515.68,384.075 1519.59,378.338 \n",
       "  1523.5,372.591 1527.41,366.835 1531.32,361.074 1535.24,355.309 1539.15,349.543 1543.06,343.777 1546.97,338.016 1550.88,332.26 1554.79,326.512 1558.7,320.774 \n",
       "  1562.61,315.049 1566.53,309.339 1570.44,303.646 1574.35,297.973 1578.26,292.321 1582.17,286.694 1586.08,281.093 1589.99,275.52 1593.9,269.978 1597.81,264.47 \n",
       "  1601.73,258.996 1605.64,253.56 1609.55,248.164 1613.46,242.809 1617.37,237.499 1621.28,232.234 1625.19,227.018 1629.1,221.852 1633.01,216.738 1636.93,211.679 \n",
       "  1640.84,206.676 1644.75,201.732 1648.66,196.848 1652.57,192.026 1656.48,187.269 1660.39,182.578 1664.3,177.955 1668.22,173.403 1672.13,168.922 1676.04,164.514 \n",
       "  1679.95,160.182 1683.86,155.928 1687.77,151.752 1691.68,147.656 1695.59,143.643 1699.5,139.713 1703.42,135.869 1707.33,132.112 1711.24,128.443 1715.15,124.864 \n",
       "  1719.06,121.376 1722.97,117.981 1726.88,114.68 1730.79,111.475 1734.7,108.366 1738.62,105.355 1742.53,102.444 1746.44,99.6323 1750.35,96.9224 1754.26,94.315 \n",
       "  1758.17,91.8112 1762.08,89.412 1765.99,87.1183 1769.91,84.9311 1773.82,82.8513 1777.73,80.8796 1781.64,79.017 1785.55,77.264 1789.46,75.6215 1793.37,74.0901 \n",
       "  1797.28,72.6704 1801.19,71.3629 1805.11,70.1683 1809.02,69.0869 1812.93,68.1193 1816.84,67.2657 1820.75,66.5266 1824.66,65.9023 1828.57,65.3929 1832.48,64.9988 \n",
       "  1836.39,64.72 1840.31,64.5566 1844.22,64.5088 1848.13,64.5766 1852.04,64.7598 1855.95,65.0586 1859.86,65.4726 1863.77,66.0019 1867.68,66.646 1871.59,67.4049 \n",
       "  1875.51,68.2782 1879.42,69.2655 1883.33,70.3664 1887.24,71.5806 1891.15,72.9075 1895.06,74.3465 1898.97,75.8971 1902.88,77.5588 1906.8,79.3307 1910.71,81.2123 \n",
       "  1914.62,83.2026 1918.53,85.3011 1922.44,87.5067 1926.35,89.8187 1930.26,92.236 1934.17,94.7578 1938.08,97.3829 1942,100.11 1945.91,102.939 1949.82,105.868 \n",
       "  1953.73,108.896 1957.64,112.022 1961.55,115.244 1965.46,118.561 1969.37,121.972 1973.28,125.475 1977.2,129.07 1981.11,132.754 1985.02,136.527 1988.93,140.386 \n",
       "  1992.84,144.33 1996.75,148.357 2000.66,152.467 2004.57,156.656 2008.49,160.925 2012.4,165.27 2016.31,169.69 2020.22,174.183 2024.13,178.748 2028.04,183.383 \n",
       "  2031.95,188.086 2035.86,192.854 2039.77,197.686 2043.69,202.581 2047.6,207.535 2051.51,212.548 2055.42,217.617 2059.33,222.74 2063.24,227.915 2067.15,233.14 \n",
       "  2071.06,238.412 2074.97,243.731 2078.89,249.093 2082.8,254.496 2086.71,259.939 2090.62,265.418 2094.53,270.933 2098.44,276.48 2102.35,282.058 2106.26,287.664 \n",
       "  2110.18,293.295 2114.09,298.951 2118,304.628 2121.91,310.324 2125.82,316.036 2129.73,321.764 2133.64,327.503 2137.55,333.253 2141.46,339.01 2145.38,344.773 \n",
       "  2149.29,350.538 2153.2,356.304 2157.11,362.069 2161.02,367.829 2164.93,373.584 2168.84,379.329 2172.75,385.064 2176.66,390.786 2180.58,396.492 2184.49,402.181 \n",
       "  2188.4,407.849 2192.31,413.495 2196.22,419.117 2200.13,424.711 2204.04,430.277 2207.95,435.811 2211.86,441.312 2215.78,446.777 2219.69,452.203 2223.6,457.59 \n",
       "  2227.51,462.935 2231.42,468.235 2235.33,473.488 2239.24,478.693 2243.15,483.847 2247.07,488.948 2250.98,493.994 2254.89,498.983 2258.8,503.914 2262.71,508.783 \n",
       "  \n",
       "  \"/>\n",
       "<polygon clip-path=\"url(#clip5703)\" points=\"\n",
       "311.046,64.5084 314.957,64.6239 318.868,64.9704 322.78,65.5472 326.691,66.3533 330.602,67.3877 334.513,68.6484 338.424,70.1337 342.335,71.8409 346.247,73.7675 \n",
       "  350.158,75.9103 354.069,78.2658 357.98,80.8303 361.891,83.5997 365.802,86.5696 369.713,89.735 373.625,93.0911 377.536,96.6323 381.447,100.353 385.358,104.247 \n",
       "  389.269,108.309 393.18,112.531 397.091,116.907 401.003,121.43 404.914,126.093 408.825,130.888 412.736,135.807 416.647,140.843 420.558,145.987 424.47,151.232 \n",
       "  428.381,156.568 432.292,161.988 436.203,167.482 440.114,173.042 444.025,178.658 447.936,184.323 451.848,190.026 455.759,195.758 459.67,201.511 463.581,207.274 \n",
       "  467.492,213.04 471.403,218.798 475.314,224.539 479.226,230.254 483.137,235.935 487.048,241.57 490.959,247.153 494.87,252.673 498.781,258.122 502.693,263.492 \n",
       "  506.604,268.772 510.515,273.956 514.426,279.035 518.337,284 522.248,288.843 526.159,293.557 530.071,298.135 533.982,302.568 537.893,306.85 541.804,310.973 \n",
       "  545.715,314.932 549.626,318.72 553.537,322.331 557.449,325.758 561.36,328.997 565.271,332.043 569.182,334.889 573.093,337.533 577.004,339.969 580.915,342.193 \n",
       "  584.827,344.203 588.738,345.995 592.649,347.565 596.56,348.912 600.471,350.033 604.382,350.927 608.294,351.592 612.205,352.026 616.116,352.23 620.027,352.203 \n",
       "  623.938,351.945 627.849,351.456 631.76,350.738 635.672,349.791 639.583,348.616 643.494,347.217 647.405,345.594 651.316,343.751 655.227,341.691 659.138,339.416 \n",
       "  663.05,336.931 666.961,334.24 670.872,331.346 674.783,328.255 678.694,324.971 682.605,321.5 686.517,317.848 690.428,314.019 694.339,310.021 698.25,305.859 \n",
       "  702.161,301.541 706.072,297.074 709.983,292.464 713.895,287.718 717.806,282.846 721.717,277.853 725.628,272.75 729.539,267.542 733.45,262.24 737.361,256.851 \n",
       "  741.273,251.385 745.184,245.849 749.095,240.253 753.006,234.606 756.917,228.917 760.828,223.195 764.74,217.449 768.651,211.688 772.562,205.922 776.473,200.16 \n",
       "  780.384,194.411 784.295,188.685 788.206,182.99 792.118,177.336 796.029,171.732 799.94,166.187 803.851,160.71 807.762,155.309 811.673,149.993 815.584,144.771 \n",
       "  819.496,139.652 823.407,134.642 827.318,129.752 831.229,124.987 835.14,120.356 839.051,115.867 842.963,111.527 846.874,107.341 850.785,103.319 854.696,99.4646 \n",
       "  858.607,95.7854 862.518,92.2871 866.429,88.9753 870.341,85.8553 874.252,82.9321 878.163,80.2103 882.074,77.6945 885.985,75.3885 889.896,73.2961 893.807,71.4207 \n",
       "  897.719,69.7653 901.63,68.3325 905.541,67.1247 909.452,66.1437 913.363,65.3912 917.274,64.8684 921.186,64.5761 925.097,64.5147 929.008,64.6845 932.919,65.085 \n",
       "  936.83,65.7157 940.741,66.5755 944.652,67.6631 948.564,68.9767 952.475,70.5142 956.386,72.2732 960.297,74.2507 964.208,76.4437 968.119,78.8486 972.03,81.4616 \n",
       "  975.942,84.2784 979.853,87.2946 983.764,90.5052 987.675,93.9051 991.586,97.489 995.497,101.251 999.409,105.185 1003.32,109.285 1007.23,113.544 1011.14,117.955 \n",
       "  1015.05,122.511 1018.96,127.206 1022.88,132.03 1026.79,136.978 1030.7,142.04 1034.61,147.209 1038.52,152.475 1042.43,157.832 1046.34,163.27 1050.25,168.78 \n",
       "  1054.16,174.354 1058.08,179.983 1061.99,185.657 1065.9,191.368 1069.81,197.106 1073.72,202.862 1077.63,208.627 1081.54,214.391 1085.45,220.146 1089.36,225.882 \n",
       "  1093.28,231.59 1097.19,237.261 1101.1,242.885 1105.01,248.454 1108.92,253.958 1112.83,259.389 1116.74,264.738 1120.65,269.997 1124.57,275.157 1128.48,280.209 \n",
       "  1132.39,285.147 1136.3,289.96 1140.21,294.643 1144.12,299.187 1148.03,303.586 1151.94,307.831 1155.85,311.917 1159.77,315.836 1163.68,319.583 1167.59,323.151 \n",
       "  1171.5,326.535 1175.41,329.729 1179.32,332.728 1183.23,335.528 1187.14,338.123 1191.05,340.51 1194.97,342.684 1198.88,344.643 1202.79,346.383 1206.7,347.901 \n",
       "  1210.61,349.195 1214.52,350.263 1218.43,351.103 1222.34,351.714 1226.26,352.095 1230.17,352.245 1234.08,352.163 1237.99,351.851 1241.9,351.308 1245.81,350.536 \n",
       "  1249.72,349.536 1253.63,348.308 1257.54,346.856 1261.46,345.182 1265.37,343.287 1269.28,341.177 1273.19,338.852 1277.1,336.318 1281.01,333.579 1284.92,330.639 \n",
       "  1288.83,327.502 1292.74,324.174 1296.66,320.66 1300.57,316.965 1304.48,313.096 1308.39,309.059 1312.3,304.861 1316.21,300.507 1320.12,296.005 1324.03,291.363 \n",
       "  1327.95,286.587 1331.86,281.685 1335.77,276.666 1339.68,271.537 1343.59,266.307 1347.5,260.984 1351.41,255.576 1355.32,250.092 1359.23,244.542 1363.15,238.933 \n",
       "  1367.06,233.275 1370.97,227.577 1374.88,221.849 1378.79,216.099 1382.7,210.336 1386.61,204.57 1390.52,198.81 1394.43,193.066 1398.35,187.346 1402.26,181.66 \n",
       "  1406.17,176.017 1410.08,170.426 1413.99,164.896 1417.9,159.436 1421.81,154.054 1425.72,148.76 1429.64,143.561 1433.55,138.467 1437.46,133.485 1441.37,128.623 \n",
       "  1445.28,123.889 1449.19,119.291 1453.1,114.836 1457.01,110.531 1460.92,106.383 1464.84,102.399 1468.75,98.5858 1472.66,94.9485 1476.57,91.4935 1480.48,88.2262 \n",
       "  1484.39,85.1519 1488.3,82.2755 1492.21,79.6017 1496.12,77.1347 1500.04,74.8785 1503.95,72.8367 1507.86,71.0126 1511.77,69.4092 1515.68,68.029 1519.59,66.8742 \n",
       "  1523.5,65.9467 1527.41,65.248 1531.32,64.7791 1535.24,64.541 1539.15,64.5338 1543.06,64.7577 1546.97,65.2123 1550.88,65.8968 1554.79,66.8102 1558.7,67.951 \n",
       "  1562.61,69.3173 1566.53,70.907 1570.44,72.7174 1574.35,74.7458 1578.26,76.9889 1582.17,79.4429 1586.08,82.1041 1589.99,84.9681 1593.9,88.0303 1597.81,91.2858 \n",
       "  1601.73,94.7293 1605.64,98.3555 1609.55,102.158 1613.46,106.132 1617.37,110.269 1621.28,114.565 1625.19,119.011 1629.1,123.6 1633.01,128.326 1636.93,133.18 \n",
       "  1640.84,138.155 1644.75,143.243 1648.66,148.435 1652.57,153.724 1656.48,159.1 1660.39,164.556 1664.3,170.082 1668.22,175.67 1672.13,181.31 1676.04,186.993 \n",
       "  1679.95,192.711 1683.86,198.454 1687.77,204.213 1691.68,209.979 1695.59,215.742 1699.5,221.493 1703.42,227.224 1707.33,232.924 1711.24,238.584 1715.15,244.196 \n",
       "  1719.06,249.751 1722.97,255.239 1726.88,260.651 1730.79,265.98 1734.7,271.217 1738.62,276.352 1742.53,281.378 1746.44,286.287 1750.35,291.071 1754.26,295.722 \n",
       "  1758.17,300.232 1762.08,304.595 1765.99,308.804 1769.91,312.851 1773.82,316.731 1777.73,320.436 1781.64,323.962 1785.55,327.301 1789.46,330.45 1793.37,333.403 \n",
       "  1797.28,336.155 1801.19,338.701 1805.11,341.039 1809.02,343.163 1812.93,345.071 1816.84,346.759 1820.75,348.225 1824.66,349.466 1828.57,350.481 1832.48,351.267 \n",
       "  1836.39,351.824 1840.31,352.151 1844.22,352.246 1848.13,352.111 1852.04,351.745 1855.95,351.148 1859.86,350.322 1863.77,349.268 1867.68,347.988 1871.59,346.483 \n",
       "  1875.51,344.757 1879.42,342.812 1883.33,340.65 1887.24,338.277 1891.15,335.694 1895.06,332.907 1898.97,329.921 1902.88,326.738 1906.8,323.366 1910.71,319.809 \n",
       "  1914.62,316.073 1918.53,312.164 1922.44,308.089 1926.35,303.853 1930.26,299.464 1934.17,294.929 1938.08,290.254 1942,285.448 1945.91,280.519 1949.82,275.473 \n",
       "  1953.73,270.32 1957.64,265.067 1961.55,259.723 1965.46,254.296 1969.37,248.796 1973.28,243.231 1977.2,237.61 1981.11,231.942 1985.02,226.236 1988.93,220.502 \n",
       "  1992.84,214.748 1996.75,208.984 2000.66,203.218 2004.57,197.461 2008.49,191.722 2012.4,186.009 2016.31,180.333 2020.22,174.701 2024.13,169.124 2028.04,163.609 \n",
       "  2031.95,158.166 2035.86,152.804 2039.77,147.532 2043.69,142.357 2047.6,137.288 2051.51,132.333 2055.42,127.501 2059.33,122.798 2063.24,118.233 2067.15,113.812 \n",
       "  2071.06,109.544 2074.97,105.434 2078.89,101.489 2082.8,97.7167 2086.71,94.1217 2090.62,90.7102 2094.53,87.4877 2098.44,84.4594 2102.35,81.6301 2106.26,79.0044 \n",
       "  2110.18,76.5865 2114.09,74.3802 2118,72.3892 2121.91,70.6167 2125.82,69.0654 2129.73,67.7379 2133.64,66.6362 2137.55,65.7623 2141.46,65.1174 2145.38,64.7026 \n",
       "  2149.29,64.5185 2153.2,64.5656 2157.11,64.8436 2161.02,65.3522 2164.93,66.0905 2168.84,67.0574 2172.75,68.2512 2176.66,69.6701 2180.58,71.3118 2184.49,73.1737 \n",
       "  2188.4,75.2527 2192.31,77.5456 2196.22,80.0486 2200.13,82.7577 2204.04,85.6686 2207.95,88.7766 2211.86,92.0767 2215.78,95.5636 2219.69,99.2317 2223.6,103.075 \n",
       "  2227.51,107.088 2231.42,111.263 2235.33,115.594 2239.24,120.074 2243.15,124.696 2247.07,129.453 2250.98,134.336 2254.89,139.338 2258.8,144.452 2262.71,149.667 \n",
       "  2262.71,352.247 2258.8,352.247 2254.89,352.247 2250.98,352.247 2247.07,352.247 2243.15,352.247 2239.24,352.247 2235.33,352.247 2231.42,352.247 2227.51,352.247 \n",
       "  2223.6,352.247 2219.69,352.247 2215.78,352.247 2211.86,352.247 2207.95,352.247 2204.04,352.247 2200.13,352.247 2196.22,352.247 2192.31,352.247 2188.4,352.247 \n",
       "  2184.49,352.247 2180.58,352.247 2176.66,352.247 2172.75,352.247 2168.84,352.247 2164.93,352.247 2161.02,352.247 2157.11,352.247 2153.2,352.247 2149.29,352.247 \n",
       "  2145.38,352.247 2141.46,352.247 2137.55,352.247 2133.64,352.247 2129.73,352.247 2125.82,352.247 2121.91,352.247 2118,352.247 2114.09,352.247 2110.18,352.247 \n",
       "  2106.26,352.247 2102.35,352.247 2098.44,352.247 2094.53,352.247 2090.62,352.247 2086.71,352.247 2082.8,352.247 2078.89,352.247 2074.97,352.247 2071.06,352.247 \n",
       "  2067.15,352.247 2063.24,352.247 2059.33,352.247 2055.42,352.247 2051.51,352.247 2047.6,352.247 2043.69,352.247 2039.77,352.247 2035.86,352.247 2031.95,352.247 \n",
       "  2028.04,352.247 2024.13,352.247 2020.22,352.247 2016.31,352.247 2012.4,352.247 2008.49,352.247 2004.57,352.247 2000.66,352.247 1996.75,352.247 1992.84,352.247 \n",
       "  1988.93,352.247 1985.02,352.247 1981.11,352.247 1977.2,352.247 1973.28,352.247 1969.37,352.247 1965.46,352.247 1961.55,352.247 1957.64,352.247 1953.73,352.247 \n",
       "  1949.82,352.247 1945.91,352.247 1942,352.247 1938.08,352.247 1934.17,352.247 1930.26,352.247 1926.35,352.247 1922.44,352.247 1918.53,352.247 1914.62,352.247 \n",
       "  1910.71,352.247 1906.8,352.247 1902.88,352.247 1898.97,352.247 1895.06,352.247 1891.15,352.247 1887.24,352.247 1883.33,352.247 1879.42,352.247 1875.51,352.247 \n",
       "  1871.59,352.247 1867.68,352.247 1863.77,352.247 1859.86,352.247 1855.95,352.247 1852.04,352.247 1848.13,352.247 1844.22,352.247 1840.31,352.247 1836.39,352.247 \n",
       "  1832.48,352.247 1828.57,352.247 1824.66,352.247 1820.75,352.247 1816.84,352.247 1812.93,352.247 1809.02,352.247 1805.11,352.247 1801.19,352.247 1797.28,352.247 \n",
       "  1793.37,352.247 1789.46,352.247 1785.55,352.247 1781.64,352.247 1777.73,352.247 1773.82,352.247 1769.91,352.247 1765.99,352.247 1762.08,352.247 1758.17,352.247 \n",
       "  1754.26,352.247 1750.35,352.247 1746.44,352.247 1742.53,352.247 1738.62,352.247 1734.7,352.247 1730.79,352.247 1726.88,352.247 1722.97,352.247 1719.06,352.247 \n",
       "  1715.15,352.247 1711.24,352.247 1707.33,352.247 1703.42,352.247 1699.5,352.247 1695.59,352.247 1691.68,352.247 1687.77,352.247 1683.86,352.247 1679.95,352.247 \n",
       "  1676.04,352.247 1672.13,352.247 1668.22,352.247 1664.3,352.247 1660.39,352.247 1656.48,352.247 1652.57,352.247 1648.66,352.247 1644.75,352.247 1640.84,352.247 \n",
       "  1636.93,352.247 1633.01,352.247 1629.1,352.247 1625.19,352.247 1621.28,352.247 1617.37,352.247 1613.46,352.247 1609.55,352.247 1605.64,352.247 1601.73,352.247 \n",
       "  1597.81,352.247 1593.9,352.247 1589.99,352.247 1586.08,352.247 1582.17,352.247 1578.26,352.247 1574.35,352.247 1570.44,352.247 1566.53,352.247 1562.61,352.247 \n",
       "  1558.7,352.247 1554.79,352.247 1550.88,352.247 1546.97,352.247 1543.06,352.247 1539.15,352.247 1535.24,352.247 1531.32,352.247 1527.41,352.247 1523.5,352.247 \n",
       "  1519.59,352.247 1515.68,352.247 1511.77,352.247 1507.86,352.247 1503.95,352.247 1500.04,352.247 1496.12,352.247 1492.21,352.247 1488.3,352.247 1484.39,352.247 \n",
       "  1480.48,352.247 1476.57,352.247 1472.66,352.247 1468.75,352.247 1464.84,352.247 1460.92,352.247 1457.01,352.247 1453.1,352.247 1449.19,352.247 1445.28,352.247 \n",
       "  1441.37,352.247 1437.46,352.247 1433.55,352.247 1429.64,352.247 1425.72,352.247 1421.81,352.247 1417.9,352.247 1413.99,352.247 1410.08,352.247 1406.17,352.247 \n",
       "  1402.26,352.247 1398.35,352.247 1394.43,352.247 1390.52,352.247 1386.61,352.247 1382.7,352.247 1378.79,352.247 1374.88,352.247 1370.97,352.247 1367.06,352.247 \n",
       "  1363.15,352.247 1359.23,352.247 1355.32,352.247 1351.41,352.247 1347.5,352.247 1343.59,352.247 1339.68,352.247 1335.77,352.247 1331.86,352.247 1327.95,352.247 \n",
       "  1324.03,352.247 1320.12,352.247 1316.21,352.247 1312.3,352.247 1308.39,352.247 1304.48,352.247 1300.57,352.247 1296.66,352.247 1292.74,352.247 1288.83,352.247 \n",
       "  1284.92,352.247 1281.01,352.247 1277.1,352.247 1273.19,352.247 1269.28,352.247 1265.37,352.247 1261.46,352.247 1257.54,352.247 1253.63,352.247 1249.72,352.247 \n",
       "  1245.81,352.247 1241.9,352.247 1237.99,352.247 1234.08,352.247 1230.17,352.247 1226.26,352.247 1222.34,352.247 1218.43,352.247 1214.52,352.247 1210.61,352.247 \n",
       "  1206.7,352.247 1202.79,352.247 1198.88,352.247 1194.97,352.247 1191.05,352.247 1187.14,352.247 1183.23,352.247 1179.32,352.247 1175.41,352.247 1171.5,352.247 \n",
       "  1167.59,352.247 1163.68,352.247 1159.77,352.247 1155.85,352.247 1151.94,352.247 1148.03,352.247 1144.12,352.247 1140.21,352.247 1136.3,352.247 1132.39,352.247 \n",
       "  1128.48,352.247 1124.57,352.247 1120.65,352.247 1116.74,352.247 1112.83,352.247 1108.92,352.247 1105.01,352.247 1101.1,352.247 1097.19,352.247 1093.28,352.247 \n",
       "  1089.36,352.247 1085.45,352.247 1081.54,352.247 1077.63,352.247 1073.72,352.247 1069.81,352.247 1065.9,352.247 1061.99,352.247 1058.08,352.247 1054.16,352.247 \n",
       "  1050.25,352.247 1046.34,352.247 1042.43,352.247 1038.52,352.247 1034.61,352.247 1030.7,352.247 1026.79,352.247 1022.88,352.247 1018.96,352.247 1015.05,352.247 \n",
       "  1011.14,352.247 1007.23,352.247 1003.32,352.247 999.409,352.247 995.497,352.247 991.586,352.247 987.675,352.247 983.764,352.247 979.853,352.247 975.942,352.247 \n",
       "  972.03,352.247 968.119,352.247 964.208,352.247 960.297,352.247 956.386,352.247 952.475,352.247 948.564,352.247 944.652,352.247 940.741,352.247 936.83,352.247 \n",
       "  932.919,352.247 929.008,352.247 925.097,352.247 921.186,352.247 917.274,352.247 913.363,352.247 909.452,352.247 905.541,352.247 901.63,352.247 897.719,352.247 \n",
       "  893.807,352.247 889.896,352.247 885.985,352.247 882.074,352.247 878.163,352.247 874.252,352.247 870.341,352.247 866.429,352.247 862.518,352.247 858.607,352.247 \n",
       "  854.696,352.247 850.785,352.247 846.874,352.247 842.963,352.247 839.051,352.247 835.14,352.247 831.229,352.247 827.318,352.247 823.407,352.247 819.496,352.247 \n",
       "  815.584,352.247 811.673,352.247 807.762,352.247 803.851,352.247 799.94,352.247 796.029,352.247 792.118,352.247 788.206,352.247 784.295,352.247 780.384,352.247 \n",
       "  776.473,352.247 772.562,352.247 768.651,352.247 764.74,352.247 760.828,352.247 756.917,352.247 753.006,352.247 749.095,352.247 745.184,352.247 741.273,352.247 \n",
       "  737.361,352.247 733.45,352.247 729.539,352.247 725.628,352.247 721.717,352.247 717.806,352.247 713.895,352.247 709.983,352.247 706.072,352.247 702.161,352.247 \n",
       "  698.25,352.247 694.339,352.247 690.428,352.247 686.517,352.247 682.605,352.247 678.694,352.247 674.783,352.247 670.872,352.247 666.961,352.247 663.05,352.247 \n",
       "  659.138,352.247 655.227,352.247 651.316,352.247 647.405,352.247 643.494,352.247 639.583,352.247 635.672,352.247 631.76,352.247 627.849,352.247 623.938,352.247 \n",
       "  620.027,352.247 616.116,352.247 612.205,352.247 608.294,352.247 604.382,352.247 600.471,352.247 596.56,352.247 592.649,352.247 588.738,352.247 584.827,352.247 \n",
       "  580.915,352.247 577.004,352.247 573.093,352.247 569.182,352.247 565.271,352.247 561.36,352.247 557.449,352.247 553.537,352.247 549.626,352.247 545.715,352.247 \n",
       "  541.804,352.247 537.893,352.247 533.982,352.247 530.071,352.247 526.159,352.247 522.248,352.247 518.337,352.247 514.426,352.247 510.515,352.247 506.604,352.247 \n",
       "  502.693,352.247 498.781,352.247 494.87,352.247 490.959,352.247 487.048,352.247 483.137,352.247 479.226,352.247 475.314,352.247 471.403,352.247 467.492,352.247 \n",
       "  463.581,352.247 459.67,352.247 455.759,352.247 451.848,352.247 447.936,352.247 444.025,352.247 440.114,352.247 436.203,352.247 432.292,352.247 428.381,352.247 \n",
       "  424.47,352.247 420.558,352.247 416.647,352.247 412.736,352.247 408.825,352.247 404.914,352.247 401.003,352.247 397.091,352.247 393.18,352.247 389.269,352.247 \n",
       "  385.358,352.247 381.447,352.247 377.536,352.247 373.625,352.247 369.713,352.247 365.802,352.247 361.891,352.247 357.98,352.247 354.069,352.247 350.158,352.247 \n",
       "  346.247,352.247 342.335,352.247 338.424,352.247 334.513,352.247 330.602,352.247 326.691,352.247 322.78,352.247 318.868,352.247 314.957,352.247 311.046,352.247 \n",
       "  \n",
       "  \" fill=\"#0000ff\" fill-rule=\"evenodd\" fill-opacity=\"0.3\"/>\n",
       "<polyline clip-path=\"url(#clip5703)\" style=\"stroke:#0000ff; stroke-width:4; stroke-opacity:0.3; fill:none\" points=\"\n",
       "  311.046,64.5084 314.957,64.6239 318.868,64.9704 322.78,65.5472 326.691,66.3533 330.602,67.3877 334.513,68.6484 338.424,70.1337 342.335,71.8409 346.247,73.7675 \n",
       "  350.158,75.9103 354.069,78.2658 357.98,80.8303 361.891,83.5997 365.802,86.5696 369.713,89.735 373.625,93.0911 377.536,96.6323 381.447,100.353 385.358,104.247 \n",
       "  389.269,108.309 393.18,112.531 397.091,116.907 401.003,121.43 404.914,126.093 408.825,130.888 412.736,135.807 416.647,140.843 420.558,145.987 424.47,151.232 \n",
       "  428.381,156.568 432.292,161.988 436.203,167.482 440.114,173.042 444.025,178.658 447.936,184.323 451.848,190.026 455.759,195.758 459.67,201.511 463.581,207.274 \n",
       "  467.492,213.04 471.403,218.798 475.314,224.539 479.226,230.254 483.137,235.935 487.048,241.57 490.959,247.153 494.87,252.673 498.781,258.122 502.693,263.492 \n",
       "  506.604,268.772 510.515,273.956 514.426,279.035 518.337,284 522.248,288.843 526.159,293.557 530.071,298.135 533.982,302.568 537.893,306.85 541.804,310.973 \n",
       "  545.715,314.932 549.626,318.72 553.537,322.331 557.449,325.758 561.36,328.997 565.271,332.043 569.182,334.889 573.093,337.533 577.004,339.969 580.915,342.193 \n",
       "  584.827,344.203 588.738,345.995 592.649,347.565 596.56,348.912 600.471,350.033 604.382,350.927 608.294,351.592 612.205,352.026 616.116,352.23 620.027,352.203 \n",
       "  623.938,351.945 627.849,351.456 631.76,350.738 635.672,349.791 639.583,348.616 643.494,347.217 647.405,345.594 651.316,343.751 655.227,341.691 659.138,339.416 \n",
       "  663.05,336.931 666.961,334.24 670.872,331.346 674.783,328.255 678.694,324.971 682.605,321.5 686.517,317.848 690.428,314.019 694.339,310.021 698.25,305.859 \n",
       "  702.161,301.541 706.072,297.074 709.983,292.464 713.895,287.718 717.806,282.846 721.717,277.853 725.628,272.75 729.539,267.542 733.45,262.24 737.361,256.851 \n",
       "  741.273,251.385 745.184,245.849 749.095,240.253 753.006,234.606 756.917,228.917 760.828,223.195 764.74,217.449 768.651,211.688 772.562,205.922 776.473,200.16 \n",
       "  780.384,194.411 784.295,188.685 788.206,182.99 792.118,177.336 796.029,171.732 799.94,166.187 803.851,160.71 807.762,155.309 811.673,149.993 815.584,144.771 \n",
       "  819.496,139.652 823.407,134.642 827.318,129.752 831.229,124.987 835.14,120.356 839.051,115.867 842.963,111.527 846.874,107.341 850.785,103.319 854.696,99.4646 \n",
       "  858.607,95.7854 862.518,92.2871 866.429,88.9753 870.341,85.8553 874.252,82.9321 878.163,80.2103 882.074,77.6945 885.985,75.3885 889.896,73.2961 893.807,71.4207 \n",
       "  897.719,69.7653 901.63,68.3325 905.541,67.1247 909.452,66.1437 913.363,65.3912 917.274,64.8684 921.186,64.5761 925.097,64.5147 929.008,64.6845 932.919,65.085 \n",
       "  936.83,65.7157 940.741,66.5755 944.652,67.6631 948.564,68.9767 952.475,70.5142 956.386,72.2732 960.297,74.2507 964.208,76.4437 968.119,78.8486 972.03,81.4616 \n",
       "  975.942,84.2784 979.853,87.2946 983.764,90.5052 987.675,93.9051 991.586,97.489 995.497,101.251 999.409,105.185 1003.32,109.285 1007.23,113.544 1011.14,117.955 \n",
       "  1015.05,122.511 1018.96,127.206 1022.88,132.03 1026.79,136.978 1030.7,142.04 1034.61,147.209 1038.52,152.475 1042.43,157.832 1046.34,163.27 1050.25,168.78 \n",
       "  1054.16,174.354 1058.08,179.983 1061.99,185.657 1065.9,191.368 1069.81,197.106 1073.72,202.862 1077.63,208.627 1081.54,214.391 1085.45,220.146 1089.36,225.882 \n",
       "  1093.28,231.59 1097.19,237.261 1101.1,242.885 1105.01,248.454 1108.92,253.958 1112.83,259.389 1116.74,264.738 1120.65,269.997 1124.57,275.157 1128.48,280.209 \n",
       "  1132.39,285.147 1136.3,289.96 1140.21,294.643 1144.12,299.187 1148.03,303.586 1151.94,307.831 1155.85,311.917 1159.77,315.836 1163.68,319.583 1167.59,323.151 \n",
       "  1171.5,326.535 1175.41,329.729 1179.32,332.728 1183.23,335.528 1187.14,338.123 1191.05,340.51 1194.97,342.684 1198.88,344.643 1202.79,346.383 1206.7,347.901 \n",
       "  1210.61,349.195 1214.52,350.263 1218.43,351.103 1222.34,351.714 1226.26,352.095 1230.17,352.245 1234.08,352.163 1237.99,351.851 1241.9,351.308 1245.81,350.536 \n",
       "  1249.72,349.536 1253.63,348.308 1257.54,346.856 1261.46,345.182 1265.37,343.287 1269.28,341.177 1273.19,338.852 1277.1,336.318 1281.01,333.579 1284.92,330.639 \n",
       "  1288.83,327.502 1292.74,324.174 1296.66,320.66 1300.57,316.965 1304.48,313.096 1308.39,309.059 1312.3,304.861 1316.21,300.507 1320.12,296.005 1324.03,291.363 \n",
       "  1327.95,286.587 1331.86,281.685 1335.77,276.666 1339.68,271.537 1343.59,266.307 1347.5,260.984 1351.41,255.576 1355.32,250.092 1359.23,244.542 1363.15,238.933 \n",
       "  1367.06,233.275 1370.97,227.577 1374.88,221.849 1378.79,216.099 1382.7,210.336 1386.61,204.57 1390.52,198.81 1394.43,193.066 1398.35,187.346 1402.26,181.66 \n",
       "  1406.17,176.017 1410.08,170.426 1413.99,164.896 1417.9,159.436 1421.81,154.054 1425.72,148.76 1429.64,143.561 1433.55,138.467 1437.46,133.485 1441.37,128.623 \n",
       "  1445.28,123.889 1449.19,119.291 1453.1,114.836 1457.01,110.531 1460.92,106.383 1464.84,102.399 1468.75,98.5858 1472.66,94.9485 1476.57,91.4935 1480.48,88.2262 \n",
       "  1484.39,85.1519 1488.3,82.2755 1492.21,79.6017 1496.12,77.1347 1500.04,74.8785 1503.95,72.8367 1507.86,71.0126 1511.77,69.4092 1515.68,68.029 1519.59,66.8742 \n",
       "  1523.5,65.9467 1527.41,65.248 1531.32,64.7791 1535.24,64.541 1539.15,64.5338 1543.06,64.7577 1546.97,65.2123 1550.88,65.8968 1554.79,66.8102 1558.7,67.951 \n",
       "  1562.61,69.3173 1566.53,70.907 1570.44,72.7174 1574.35,74.7458 1578.26,76.9889 1582.17,79.4429 1586.08,82.1041 1589.99,84.9681 1593.9,88.0303 1597.81,91.2858 \n",
       "  1601.73,94.7293 1605.64,98.3555 1609.55,102.158 1613.46,106.132 1617.37,110.269 1621.28,114.565 1625.19,119.011 1629.1,123.6 1633.01,128.326 1636.93,133.18 \n",
       "  1640.84,138.155 1644.75,143.243 1648.66,148.435 1652.57,153.724 1656.48,159.1 1660.39,164.556 1664.3,170.082 1668.22,175.67 1672.13,181.31 1676.04,186.993 \n",
       "  1679.95,192.711 1683.86,198.454 1687.77,204.213 1691.68,209.979 1695.59,215.742 1699.5,221.493 1703.42,227.224 1707.33,232.924 1711.24,238.584 1715.15,244.196 \n",
       "  1719.06,249.751 1722.97,255.239 1726.88,260.651 1730.79,265.98 1734.7,271.217 1738.62,276.352 1742.53,281.378 1746.44,286.287 1750.35,291.071 1754.26,295.722 \n",
       "  1758.17,300.232 1762.08,304.595 1765.99,308.804 1769.91,312.851 1773.82,316.731 1777.73,320.436 1781.64,323.962 1785.55,327.301 1789.46,330.45 1793.37,333.403 \n",
       "  1797.28,336.155 1801.19,338.701 1805.11,341.039 1809.02,343.163 1812.93,345.071 1816.84,346.759 1820.75,348.225 1824.66,349.466 1828.57,350.481 1832.48,351.267 \n",
       "  1836.39,351.824 1840.31,352.151 1844.22,352.246 1848.13,352.111 1852.04,351.745 1855.95,351.148 1859.86,350.322 1863.77,349.268 1867.68,347.988 1871.59,346.483 \n",
       "  1875.51,344.757 1879.42,342.812 1883.33,340.65 1887.24,338.277 1891.15,335.694 1895.06,332.907 1898.97,329.921 1902.88,326.738 1906.8,323.366 1910.71,319.809 \n",
       "  1914.62,316.073 1918.53,312.164 1922.44,308.089 1926.35,303.853 1930.26,299.464 1934.17,294.929 1938.08,290.254 1942,285.448 1945.91,280.519 1949.82,275.473 \n",
       "  1953.73,270.32 1957.64,265.067 1961.55,259.723 1965.46,254.296 1969.37,248.796 1973.28,243.231 1977.2,237.61 1981.11,231.942 1985.02,226.236 1988.93,220.502 \n",
       "  1992.84,214.748 1996.75,208.984 2000.66,203.218 2004.57,197.461 2008.49,191.722 2012.4,186.009 2016.31,180.333 2020.22,174.701 2024.13,169.124 2028.04,163.609 \n",
       "  2031.95,158.166 2035.86,152.804 2039.77,147.532 2043.69,142.357 2047.6,137.288 2051.51,132.333 2055.42,127.501 2059.33,122.798 2063.24,118.233 2067.15,113.812 \n",
       "  2071.06,109.544 2074.97,105.434 2078.89,101.489 2082.8,97.7167 2086.71,94.1217 2090.62,90.7102 2094.53,87.4877 2098.44,84.4594 2102.35,81.6301 2106.26,79.0044 \n",
       "  2110.18,76.5865 2114.09,74.3802 2118,72.3892 2121.91,70.6167 2125.82,69.0654 2129.73,67.7379 2133.64,66.6362 2137.55,65.7623 2141.46,65.1174 2145.38,64.7026 \n",
       "  2149.29,64.5185 2153.2,64.5656 2157.11,64.8436 2161.02,65.3522 2164.93,66.0905 2168.84,67.0574 2172.75,68.2512 2176.66,69.6701 2180.58,71.3118 2184.49,73.1737 \n",
       "  2188.4,75.2527 2192.31,77.5456 2196.22,80.0486 2200.13,82.7577 2204.04,85.6686 2207.95,88.7766 2211.86,92.0767 2215.78,95.5636 2219.69,99.2317 2223.6,103.075 \n",
       "  2227.51,107.088 2231.42,111.263 2235.33,115.594 2239.24,120.074 2243.15,124.696 2247.07,129.453 2250.98,134.336 2254.89,139.338 2258.8,144.452 2262.71,149.667 \n",
       "  \n",
       "  \"/>\n",
       "</svg>\n"
      ]
     },
     "execution_count": 6,
     "metadata": {},
     "output_type": "execute_result"
    }
   ],
   "source": [
    "plot!(x,cos.(x).^2,fillrange=[zero(x) cos.(x).^2],\n",
    "    c=:blue,alpha=0.3)\n",
    "\n",
    "# line continuation: just break off, mid-command"
   ]
  },
  {
   "cell_type": "code",
   "execution_count": 7,
   "metadata": {},
   "outputs": [
    {
     "name": "stdout",
     "output_type": "stream",
     "text": [
      "2\n"
     ]
    }
   ],
   "source": [
    "z=2; println(z) #more than one command on same line"
   ]
  },
  {
   "cell_type": "code",
   "execution_count": 8,
   "metadata": {},
   "outputs": [
    {
     "name": "stdout",
     "output_type": "stream",
     "text": [
      "hello world, this is julia. It's a bit like Matlab, Python, R, C, Fortran, Ruby, Haskell, ...\n",
      "    but not really like any other language\n"
     ]
    }
   ],
   "source": [
    "println(\"hello world, this is julia. It's a bit like Matlab, Python, R, C, Fortran, Ruby, Haskell, ...\n",
    "    but not really like any other language\")"
   ]
  },
  {
   "cell_type": "markdown",
   "metadata": {},
   "source": [
    "# Calling other languages"
   ]
  },
  {
   "cell_type": "code",
   "execution_count": 9,
   "metadata": {},
   "outputs": [
    {
     "name": "stdout",
     "output_type": "stream",
     "text": [
      "from julia you can also easily use  libraries from \n",
      "    Python, R, C/Fortran, C++, and Java. \n",
      "    Did I mention that I like π = 3.1415926535897... ?\n"
     ]
    }
   ],
   "source": [
    "println(\"from julia you can also easily use  libraries from \n",
    "    Python, R, C/Fortran, C++, and Java. \n",
    "    Did I mention that I like \", pi ,\" ?\")"
   ]
  },
  {
   "cell_type": "markdown",
   "metadata": {},
   "source": [
    "For example, a number of special functions can be called via the C library GSL ([GNU Scientific Library](https://github.com/JuliaMath/GSL.jl)):"
   ]
  },
  {
   "cell_type": "code",
   "execution_count": 10,
   "metadata": {},
   "outputs": [
    {
     "name": "stderr",
     "output_type": "stream",
     "text": [
      "┌ Info: Recompiling stale cache file /Users/abradley/.julia/compiled/v1.0/GSL/cuZHp.ji for GSL [92c85e6c-cbff-5e0c-80f7-495c94daaecd]\n",
      "└ @ Base loading.jl:1190\n"
     ]
    }
   ],
   "source": [
    "#load some wrapper functions that call GSL\n",
    "using GSL"
   ]
  },
  {
   "cell_type": "code",
   "execution_count": 11,
   "metadata": {},
   "outputs": [
    {
     "data": {
      "text/plain": [
       "0.9776262465382961"
      ]
     },
     "execution_count": 11,
     "metadata": {},
     "output_type": "execute_result"
    }
   ],
   "source": [
    "sf_bessel_J0(0.3)"
   ]
  },
  {
   "cell_type": "markdown",
   "metadata": {},
   "source": [
    "A native $\\julia$ implementation of many special functions can be found in [SpecialFunctions.jl](https://github.com/JuliaMath/SpecialFunctions.jl)"
   ]
  },
  {
   "cell_type": "code",
   "execution_count": 12,
   "metadata": {},
   "outputs": [
    {
     "name": "stderr",
     "output_type": "stream",
     "text": [
      "┌ Info: Recompiling stale cache file /Users/abradley/.julia/compiled/v1.0/SpecialFunctions/78gOt.ji for SpecialFunctions [276daf66-3868-5448-9aa4-cd146d93841b]\n",
      "└ @ Base loading.jl:1190\n"
     ]
    }
   ],
   "source": [
    "using SpecialFunctions"
   ]
  },
  {
   "cell_type": "code",
   "execution_count": 13,
   "metadata": {},
   "outputs": [
    {
     "data": {
      "text/plain": [
       "1.2020569031595951"
      ]
     },
     "execution_count": 13,
     "metadata": {},
     "output_type": "execute_result"
    }
   ],
   "source": [
    "zeta(3) # returns a Float64"
   ]
  },
  {
   "cell_type": "code",
   "execution_count": 14,
   "metadata": {},
   "outputs": [
    {
     "data": {
      "text/plain": [
       "0.7980219851462758 - 0.11374430805293854im"
      ]
     },
     "execution_count": 14,
     "metadata": {},
     "output_type": "execute_result"
    }
   ],
   "source": [
    "zeta(2.0 + 3.0im) # returns a complex float"
   ]
  },
  {
   "cell_type": "code",
   "execution_count": 15,
   "metadata": {},
   "outputs": [
    {
     "data": {
      "text/plain": [
       "Complex{Float64}"
      ]
     },
     "execution_count": 15,
     "metadata": {},
     "output_type": "execute_result"
    }
   ],
   "source": [
    "typeof(ans)"
   ]
  },
  {
   "cell_type": "markdown",
   "metadata": {},
   "source": [
    "You can also use [PyCall.jl](https://github.com/JuliaPy/PyCall.jl) to call `python` functions with low overhead:"
   ]
  },
  {
   "cell_type": "code",
   "execution_count": 16,
   "metadata": {},
   "outputs": [
    {
     "name": "stderr",
     "output_type": "stream",
     "text": [
      "┌ Info: Recompiling stale cache file /Users/abradley/.julia/compiled/v1.0/PyCall/GkzkC.ji for PyCall [438e738f-606a-5dbb-bf0a-cddfbfd45ab0]\n",
      "└ @ Base loading.jl:1190\n"
     ]
    }
   ],
   "source": [
    "using PyCall"
   ]
  },
  {
   "cell_type": "code",
   "execution_count": 17,
   "metadata": {},
   "outputs": [
    {
     "data": {
      "text/plain": [
       "0.0"
      ]
     },
     "execution_count": 17,
     "metadata": {},
     "output_type": "execute_result"
    }
   ],
   "source": [
    "@pyimport math\n",
    "math.sin(math.pi / 4) - sin(pi / 4)  # returns 0.0"
   ]
  },
  {
   "cell_type": "markdown",
   "metadata": {},
   "source": [
    "- A nice feature of jupyter is that we can enter text, latex, and code, all in one easily shareable document. \n",
    "- Open Science! Yay! There are [many other kernels](https://github.com/jupyter/jupyter/wiki/Jupyter-kernels) available for jupyter.\n",
    "- The importance of such an open science standard is highlighted by major scientific discovery of LIGO: the black hole merger data, simulations, and analysis were provided as [jupyter notebooks](https://blog.jupyter.org/congratulations-to-the-ligo-and-virgo-collaborations-from-project-jupyter-5923247be019)."
   ]
  },
  {
   "cell_type": "markdown",
   "metadata": {},
   "source": [
    "- To shift from ___code mode___ to ___markdown mode___, press `ESC`, then `y`.\n",
    "\n",
    "- You can now type text with simple [markdown](https://www.markdownguide.org/cheat-sheet/) syntax, LaTeX in-line $\\langle x\\rangle=\\pi$, and full line equations:\n",
    "$$i\\hbar\\frac{\\partial\\psi}{\\partial t}=\\hat{H}\\psi,$$\n",
    "add [links](http://www.google.com), and drag in images. Not all of latex is supported, but for example, you can\n",
    "\n",
    "\\begin{align}\n",
    "\\partial_t\\psi&=L\\psi\\tag{some equation}\\\\\n",
    "-\\nabla^2\\psi&=\\lambda\\psi\\tag{some other}\n",
    "\\end{align}"
   ]
  },
  {
   "cell_type": "markdown",
   "metadata": {},
   "source": [
    "- To go back to code mode, press `ESC`, then `m`; default is code mode. \n",
    "\n",
    "- A full list of keyboard shortcuts can be found under the help menu above."
   ]
  },
  {
   "cell_type": "markdown",
   "metadata": {},
   "source": [
    "## Cool things you can do in julia"
   ]
  },
  {
   "cell_type": "code",
   "execution_count": 18,
   "metadata": {},
   "outputs": [
    {
     "data": {
      "text/plain": [
       "35.6"
      ]
     },
     "execution_count": 18,
     "metadata": {},
     "output_type": "execute_result"
    }
   ],
   "source": [
    "😸=35.6 #unicode inputs are allowed varables!"
   ]
  },
  {
   "cell_type": "code",
   "execution_count": 19,
   "metadata": {},
   "outputs": [
    {
     "data": {
      "text/plain": [
       "25"
      ]
     },
     "execution_count": 19,
     "metadata": {},
     "output_type": "execute_result"
    }
   ],
   "source": [
    "ψ=25 #LaTeX tab completion: type \\psi<tab> to get the greek letter ψ."
   ]
  },
  {
   "cell_type": "code",
   "execution_count": 20,
   "metadata": {},
   "outputs": [
    {
     "data": {
      "text/plain": [
       "1.0545718e-34"
      ]
     },
     "execution_count": 20,
     "metadata": {},
     "output_type": "execute_result"
    }
   ],
   "source": [
    "ħ = 1.0545718e-34 #\\hbar<tab>"
   ]
  },
  {
   "cell_type": "code",
   "execution_count": 21,
   "metadata": {},
   "outputs": [
    {
     "data": {
      "text/plain": [
       "3.141592653589793238462643383279502884197169399375105820974944592307816406286208998628034825342117067982148086513282306647093844609550582231725359408128481117450284102701938521105559644622948954930381964428810975665933446128475648233786783165271201909145648566923460348610454326648213393607260249141273724587006606315588174881520920962829254091715364367892590360011330530548820466521384146951941511609433057270365759591953092186117381932611793105118548074462379962749567351885752724891227938183011949129833673362440656643086021394946395224737190702179860943702770539217176293176752384674818467669405131996"
      ]
     },
     "execution_count": 21,
     "metadata": {},
     "output_type": "execute_result"
    }
   ],
   "source": [
    "#variable precision: set the number of bits\n",
    "BigFloat(pi,2000)"
   ]
  },
  {
   "cell_type": "code",
   "execution_count": 22,
   "metadata": {},
   "outputs": [
    {
     "data": {
      "text/plain": [
       "0.0 + 4.582363384086222409168621731742190695845080541202039763581730143804801597402798e-603im"
      ]
     },
     "execution_count": 22,
     "metadata": {},
     "output_type": "execute_result"
    }
   ],
   "source": [
    "exp(im*BigFloat(pi,2000))+1"
   ]
  },
  {
   "cell_type": "code",
   "execution_count": 23,
   "metadata": {},
   "outputs": [
    {
     "data": {
      "text/plain": [
       "BigFloat"
      ]
     },
     "execution_count": 23,
     "metadata": {},
     "output_type": "execute_result"
    }
   ],
   "source": [
    "typeof(BigFloat(pi))"
   ]
  },
  {
   "cell_type": "markdown",
   "metadata": {},
   "source": [
    "Here \"BigFloat\" is both \n",
    "\n",
    "- a method to perform type conversion, and \n",
    "- the name of a data type. \n",
    "\n",
    "These two things are defined separately."
   ]
  },
  {
   "cell_type": "code",
   "execution_count": 24,
   "metadata": {},
   "outputs": [
    {
     "data": {
      "text/plain": [
       "3.14159265358979323851"
      ]
     },
     "execution_count": 24,
     "metadata": {},
     "output_type": "execute_result"
    }
   ],
   "source": [
    "mypi = BigFloat(pi,64)"
   ]
  },
  {
   "cell_type": "code",
   "execution_count": 25,
   "metadata": {},
   "outputs": [
    {
     "data": {
      "text/plain": [
       "true"
      ]
     },
     "execution_count": 25,
     "metadata": {},
     "output_type": "execute_result"
    }
   ],
   "source": [
    "typeof(mypi) <: AbstractFloat"
   ]
  },
  {
   "cell_type": "markdown",
   "metadata": {},
   "source": [
    "There is an abstract type system that you can extend as you like."
   ]
  },
  {
   "cell_type": "code",
   "execution_count": 26,
   "metadata": {},
   "outputs": [
    {
     "name": "stdout",
     "output_type": "stream",
     "text": [
      "search: \u001b[0m\u001b[1mB\u001b[22m\u001b[0m\u001b[1mi\u001b[22m\u001b[0m\u001b[1mg\u001b[22m\u001b[0m\u001b[1mF\u001b[22m\u001b[0m\u001b[1ml\u001b[22m\u001b[0m\u001b[1mo\u001b[22m\u001b[0m\u001b[1ma\u001b[22m\u001b[0m\u001b[1mt\u001b[22m\n",
      "\n"
     ]
    },
    {
     "data": {
      "text/latex": [
       "\\begin{verbatim}\n",
       "BigFloat <: AbstractFloat\n",
       "\\end{verbatim}\n",
       "Arbitrary precision floating point number type.\n",
       "\n",
       "\\rule{\\textwidth}{1pt}\n",
       "\\begin{verbatim}\n",
       "BigFloat(x)\n",
       "\\end{verbatim}\n",
       "Create an arbitrary precision floating point number. \\texttt{x} may be an \\href{@ref}{\\texttt{Integer}}, a \\href{@ref}{\\texttt{Float64}} or a \\href{@ref}{\\texttt{BigInt}}. The usual mathematical operators are defined for this type, and results are promoted to a \\href{@ref}{\\texttt{BigFloat}}.\n",
       "\n",
       "Note that because decimal literals are converted to floating point numbers when parsed, \\texttt{BigFloat(2.1)} may not yield what you expect. You may instead prefer to initialize constants from strings via \\href{@ref}{\\texttt{parse}}, or using the \\texttt{big} string literal.\n",
       "\n",
       "\\begin{verbatim}\n",
       "julia> BigFloat(2.1)\n",
       "2.100000000000000088817841970012523233890533447265625\n",
       "\n",
       "julia> big\"2.1\"\n",
       "2.099999999999999999999999999999999999999999999999999999999999999999999999999986\n",
       "\\end{verbatim}\n",
       "\\rule{\\textwidth}{1pt}\n",
       "\\begin{verbatim}\n",
       "BigFloat(x, prec::Int)\n",
       "\\end{verbatim}\n",
       "Create a representation of \\texttt{x} as a \\href{@ref}{\\texttt{BigFloat}} with precision \\texttt{prec}.\n",
       "\n",
       "\\rule{\\textwidth}{1pt}\n",
       "\\begin{verbatim}\n",
       "BigFloat(x, prec::Int, rounding::RoundingMode)\n",
       "\\end{verbatim}\n",
       "Create a representation of \\texttt{x} as a \\href{@ref}{\\texttt{BigFloat}} with precision \\texttt{prec} and \\href{@ref Base.Rounding.RoundingMode}{\\texttt{Rounding Mode}} \\texttt{rounding}.\n",
       "\n",
       "\\rule{\\textwidth}{1pt}\n",
       "\\begin{verbatim}\n",
       "BigFloat(x, rounding::RoundingMode)\n",
       "\\end{verbatim}\n",
       "Create a representation of \\texttt{x} as a \\href{@ref}{\\texttt{BigFloat}} with the current global precision and \\href{@ref Base.Rounding.RoundingMode}{\\texttt{Rounding Mode}} \\texttt{rounding}.\n",
       "\n",
       "\\rule{\\textwidth}{1pt}\n",
       "\\begin{verbatim}\n",
       "BigFloat(x::String)\n",
       "\\end{verbatim}\n",
       "Create a representation of the string \\texttt{x} as a \\href{@ref}{\\texttt{BigFloat}}.\n",
       "\n"
      ],
      "text/markdown": [
       "```\n",
       "BigFloat <: AbstractFloat\n",
       "```\n",
       "\n",
       "Arbitrary precision floating point number type.\n",
       "\n",
       "---\n",
       "\n",
       "```\n",
       "BigFloat(x)\n",
       "```\n",
       "\n",
       "Create an arbitrary precision floating point number. `x` may be an [`Integer`](@ref), a [`Float64`](@ref) or a [`BigInt`](@ref). The usual mathematical operators are defined for this type, and results are promoted to a [`BigFloat`](@ref).\n",
       "\n",
       "Note that because decimal literals are converted to floating point numbers when parsed, `BigFloat(2.1)` may not yield what you expect. You may instead prefer to initialize constants from strings via [`parse`](@ref), or using the `big` string literal.\n",
       "\n",
       "```jldoctest\n",
       "julia> BigFloat(2.1)\n",
       "2.100000000000000088817841970012523233890533447265625\n",
       "\n",
       "julia> big\"2.1\"\n",
       "2.099999999999999999999999999999999999999999999999999999999999999999999999999986\n",
       "```\n",
       "\n",
       "---\n",
       "\n",
       "```\n",
       "BigFloat(x, prec::Int)\n",
       "```\n",
       "\n",
       "Create a representation of `x` as a [`BigFloat`](@ref) with precision `prec`.\n",
       "\n",
       "---\n",
       "\n",
       "```\n",
       "BigFloat(x, prec::Int, rounding::RoundingMode)\n",
       "```\n",
       "\n",
       "Create a representation of `x` as a [`BigFloat`](@ref) with precision `prec` and [`Rounding Mode`](@ref Base.Rounding.RoundingMode) `rounding`.\n",
       "\n",
       "---\n",
       "\n",
       "```\n",
       "BigFloat(x, rounding::RoundingMode)\n",
       "```\n",
       "\n",
       "Create a representation of `x` as a [`BigFloat`](@ref) with the current global precision and [`Rounding Mode`](@ref Base.Rounding.RoundingMode) `rounding`.\n",
       "\n",
       "---\n",
       "\n",
       "```\n",
       "BigFloat(x::String)\n",
       "```\n",
       "\n",
       "Create a representation of the string `x` as a [`BigFloat`](@ref).\n"
      ],
      "text/plain": [
       "\u001b[36m  BigFloat <: AbstractFloat\u001b[39m\n",
       "\n",
       "  Arbitrary precision floating point number type.\n",
       "\n",
       "  ────────────────────────────────────────────────────────────────────────────\n",
       "\n",
       "\u001b[36m  BigFloat(x)\u001b[39m\n",
       "\n",
       "  Create an arbitrary precision floating point number. \u001b[36mx\u001b[39m may be an \u001b[36mInteger\u001b[39m, a\n",
       "  \u001b[36mFloat64\u001b[39m or a \u001b[36mBigInt\u001b[39m. The usual mathematical operators are defined for this\n",
       "  type, and results are promoted to a \u001b[36mBigFloat\u001b[39m.\n",
       "\n",
       "  Note that because decimal literals are converted to floating point numbers\n",
       "  when parsed, \u001b[36mBigFloat(2.1)\u001b[39m may not yield what you expect. You may instead\n",
       "  prefer to initialize constants from strings via \u001b[36mparse\u001b[39m, or using the \u001b[36mbig\u001b[39m\n",
       "  string literal.\n",
       "\n",
       "\u001b[36m  julia> BigFloat(2.1)\u001b[39m\n",
       "\u001b[36m  2.100000000000000088817841970012523233890533447265625\u001b[39m\n",
       "\u001b[36m  \u001b[39m\n",
       "\u001b[36m  julia> big\"2.1\"\u001b[39m\n",
       "\u001b[36m  2.099999999999999999999999999999999999999999999999999999999999999999999999999986\u001b[39m\n",
       "\n",
       "  ────────────────────────────────────────────────────────────────────────────\n",
       "\n",
       "\u001b[36m  BigFloat(x, prec::Int)\u001b[39m\n",
       "\n",
       "  Create a representation of \u001b[36mx\u001b[39m as a \u001b[36mBigFloat\u001b[39m with precision \u001b[36mprec\u001b[39m.\n",
       "\n",
       "  ────────────────────────────────────────────────────────────────────────────\n",
       "\n",
       "\u001b[36m  BigFloat(x, prec::Int, rounding::RoundingMode)\u001b[39m\n",
       "\n",
       "  Create a representation of \u001b[36mx\u001b[39m as a \u001b[36mBigFloat\u001b[39m with precision \u001b[36mprec\u001b[39m and \u001b[36mRounding\n",
       "  Mode\u001b[39m \u001b[36mrounding\u001b[39m.\n",
       "\n",
       "  ────────────────────────────────────────────────────────────────────────────\n",
       "\n",
       "\u001b[36m  BigFloat(x, rounding::RoundingMode)\u001b[39m\n",
       "\n",
       "  Create a representation of \u001b[36mx\u001b[39m as a \u001b[36mBigFloat\u001b[39m with the current global precision\n",
       "  and \u001b[36mRounding Mode\u001b[39m \u001b[36mrounding\u001b[39m.\n",
       "\n",
       "  ────────────────────────────────────────────────────────────────────────────\n",
       "\n",
       "\u001b[36m  BigFloat(x::String)\u001b[39m\n",
       "\n",
       "  Create a representation of the string \u001b[36mx\u001b[39m as a \u001b[36mBigFloat\u001b[39m."
      ]
     },
     "execution_count": 26,
     "metadata": {},
     "output_type": "execute_result"
    }
   ],
   "source": [
    "?BigFloat "
   ]
  },
  {
   "cell_type": "markdown",
   "metadata": {},
   "source": [
    "## Arrays and functions"
   ]
  },
  {
   "cell_type": "code",
   "execution_count": 27,
   "metadata": {},
   "outputs": [
    {
     "data": {
      "text/plain": [
       "6-element Array{Float64,1}:\n",
       "  1.05998177182784  \n",
       "  0.9163974274017533\n",
       " -1.0175765184304009\n",
       "  0.1651457938104572\n",
       "  0.8574853490976208\n",
       " -0.6715652549844074"
      ]
     },
     "execution_count": 27,
     "metadata": {},
     "output_type": "execute_result"
    }
   ],
   "source": [
    "x = randn(6)"
   ]
  },
  {
   "cell_type": "code",
   "execution_count": 28,
   "metadata": {},
   "outputs": [
    {
     "data": {
      "text/plain": [
       "0.9163974274017533"
      ]
     },
     "execution_count": 28,
     "metadata": {},
     "output_type": "execute_result"
    }
   ],
   "source": [
    "x[2] # accessing an element of an array: [] vs ()"
   ]
  },
  {
   "cell_type": "code",
   "execution_count": 29,
   "metadata": {},
   "outputs": [
    {
     "ename": "MethodError",
     "evalue": "MethodError: no method matching ^(::Array{Float64,1}, ::Int64)\nClosest candidates are:\n  ^(!Matched::Float16, ::Integer) at math.jl:795\n  ^(!Matched::Missing, ::Integer) at missing.jl:120\n  ^(!Matched::Missing, ::Number) at missing.jl:93\n  ...",
     "output_type": "error",
     "traceback": [
      "MethodError: no method matching ^(::Array{Float64,1}, ::Int64)\nClosest candidates are:\n  ^(!Matched::Float16, ::Integer) at math.jl:795\n  ^(!Matched::Missing, ::Integer) at missing.jl:120\n  ^(!Matched::Missing, ::Number) at missing.jl:93\n  ...",
      "",
      "Stacktrace:",
      " [1] macro expansion at ./none:0 [inlined]",
      " [2] literal_pow(::typeof(^), ::Array{Float64,1}, ::Val{2}) at ./none:0",
      " [3] top-level scope at In[29]:1"
     ]
    }
   ],
   "source": [
    "x^2 #a typicaly method error"
   ]
  },
  {
   "cell_type": "code",
   "execution_count": 30,
   "metadata": {},
   "outputs": [
    {
     "data": {
      "text/plain": [
       "6-element Array{Float64,1}:\n",
       " 1.1235613566072868 \n",
       " 0.8397842449485518 \n",
       " 1.035461970860936  \n",
       " 0.02727313321328604\n",
       " 0.7352811239170686 \n",
       " 0.45099989170227217"
      ]
     },
     "execution_count": 30,
     "metadata": {},
     "output_type": "execute_result"
    }
   ],
   "source": [
    "x.^2 # a dot-call: element-wise operations"
   ]
  },
  {
   "cell_type": "code",
   "execution_count": 31,
   "metadata": {},
   "outputs": [
    {
     "data": {
      "text/plain": [
       "f (generic function with 1 method)"
      ]
     },
     "execution_count": 31,
     "metadata": {},
     "output_type": "execute_result"
    }
   ],
   "source": [
    "# let's define a function (this is one way)\n",
    "f(x) = x^3-x+pi"
   ]
  },
  {
   "cell_type": "code",
   "execution_count": 32,
   "metadata": {},
   "outputs": [
    {
     "data": {
      "text/plain": [
       "6-element Array{Float64,1}:\n",
       " 3.2725654392958363\n",
       " 2.9947713478314166\n",
       " 3.1055073847444414\n",
       " 2.9809509030135426\n",
       " 2.914600095719091 \n",
       " 3.510282051305224 "
      ]
     },
     "execution_count": 32,
     "metadata": {},
     "output_type": "execute_result"
    }
   ],
   "source": [
    "f.(x) #dot-call"
   ]
  },
  {
   "cell_type": "markdown",
   "metadata": {},
   "source": [
    "same result without passing to a function:"
   ]
  },
  {
   "cell_type": "code",
   "execution_count": 33,
   "metadata": {},
   "outputs": [
    {
     "data": {
      "text/plain": [
       "6-element Array{Float64,1}:\n",
       " 3.2725654392958363\n",
       " 2.9947713478314166\n",
       " 3.1055073847444414\n",
       " 2.9809509030135426\n",
       " 2.914600095719091 \n",
       " 3.510282051305224 "
      ]
     },
     "execution_count": 33,
     "metadata": {},
     "output_type": "execute_result"
    }
   ],
   "source": [
    "x.^3 .-x.+pi #manually dot all operations that will act on arrays element by element"
   ]
  },
  {
   "cell_type": "code",
   "execution_count": 34,
   "metadata": {},
   "outputs": [
    {
     "data": {
      "text/plain": [
       "6-element Array{Float64,1}:\n",
       " 3.2725654392958363\n",
       " 2.9947713478314166\n",
       " 3.1055073847444414\n",
       " 2.9809509030135426\n",
       " 2.914600095719091 \n",
       " 3.510282051305224 "
      ]
     },
     "execution_count": 34,
     "metadata": {},
     "output_type": "execute_result"
    }
   ],
   "source": [
    "@. x^3-x+pi # the macro @. will dot-the-lot."
   ]
  },
  {
   "cell_type": "markdown",
   "metadata": {},
   "source": [
    "By dotting the function call, `f.(x)`, the dot is applied to all operations."
   ]
  },
  {
   "cell_type": "markdown",
   "metadata": {},
   "source": [
    "### Two-dimensional example"
   ]
  },
  {
   "cell_type": "code",
   "execution_count": 35,
   "metadata": {},
   "outputs": [
    {
     "data": {
      "text/plain": [
       "f2 (generic function with 1 method)"
      ]
     },
     "execution_count": 35,
     "metadata": {},
     "output_type": "execute_result"
    }
   ],
   "source": [
    "f2(x,y) = x^3-y+pi"
   ]
  },
  {
   "cell_type": "code",
   "execution_count": 36,
   "metadata": {},
   "outputs": [
    {
     "data": {
      "text/plain": [
       "6-element Array{Float64,1}:\n",
       "  1.05998177182784  \n",
       "  0.9163974274017533\n",
       " -1.0175765184304009\n",
       "  0.1651457938104572\n",
       "  0.8574853490976208\n",
       " -0.6715652549844074"
      ]
     },
     "execution_count": 36,
     "metadata": {},
     "output_type": "execute_result"
    }
   ],
   "source": [
    "y = x"
   ]
  },
  {
   "cell_type": "code",
   "execution_count": 37,
   "metadata": {},
   "outputs": [
    {
     "ename": "MethodError",
     "evalue": "MethodError: no method matching ^(::Array{Float64,1}, ::Int64)\nClosest candidates are:\n  ^(!Matched::Float16, ::Integer) at math.jl:795\n  ^(!Matched::Missing, ::Integer) at missing.jl:120\n  ^(!Matched::Missing, ::Number) at missing.jl:93\n  ...",
     "output_type": "error",
     "traceback": [
      "MethodError: no method matching ^(::Array{Float64,1}, ::Int64)\nClosest candidates are:\n  ^(!Matched::Float16, ::Integer) at math.jl:795\n  ^(!Matched::Missing, ::Integer) at missing.jl:120\n  ^(!Matched::Missing, ::Number) at missing.jl:93\n  ...",
      "",
      "Stacktrace:",
      " [1] macro expansion at ./none:0 [inlined]",
      " [2] literal_pow at ./none:0 [inlined]",
      " [3] f2(::Array{Float64,1}, ::Array{Float64,1}) at ./In[35]:1",
      " [4] top-level scope at In[37]:1"
     ]
    }
   ],
   "source": [
    "f2(x,y) #(oops!)"
   ]
  },
  {
   "cell_type": "code",
   "execution_count": 38,
   "metadata": {},
   "outputs": [
    {
     "data": {
      "text/plain": [
       "6-element Array{Float64,1}:\n",
       " 3.2725654392958363\n",
       " 2.9947713478314166\n",
       " 3.1055073847444414\n",
       " 2.9809509030135426\n",
       " 2.914600095719091 \n",
       " 3.510282051305224 "
      ]
     },
     "execution_count": 38,
     "metadata": {},
     "output_type": "execute_result"
    }
   ],
   "source": [
    "f2.(x,y) #acts on each element of column vectors x, y"
   ]
  },
  {
   "cell_type": "code",
   "execution_count": 39,
   "metadata": {},
   "outputs": [
    {
     "data": {
      "text/plain": [
       "6×6 Array{Float64,2}:\n",
       " 3.27257  3.41615  5.35012  4.1674   3.47506  5.00411\n",
       " 2.85119  2.99477  4.92875  3.74602  3.05368  4.58273\n",
       " 1.02795  1.17153  3.10551  1.92279  1.23045  2.7595 \n",
       " 2.08611  2.2297   4.16367  2.98095  2.28861  3.81766\n",
       " 2.7121   2.85569  4.78966  3.60694  2.9146   4.44365\n",
       " 1.77874  1.92232  3.85629  2.67357  1.98123  3.51028"
      ]
     },
     "execution_count": 39,
     "metadata": {},
     "output_type": "execute_result"
    }
   ],
   "source": [
    "f2.(x,y') #broadcasts each element of x along y, and of y along x"
   ]
  },
  {
   "cell_type": "markdown",
   "metadata": {},
   "source": [
    "This is a beautiful feature of $\\julia$ due in large part to Steven Johnson (MIT, of FFTW fame). It goes quite deeply into the language, allowing you to create \"fused kernels\", compiling many dot-calls together into a single highly efficient operation acting locally in memory. "
   ]
  },
  {
   "cell_type": "markdown",
   "metadata": {},
   "source": [
    "# Memory and function calls\n",
    "It is worth emphasizing at this point that one of the great advantages of $\\julia$ is that it allows low-level access to memory, giving pathways to overcome one of the main bottleknecks of interpreted languages. A major deficiency  of other high-level languages such as Matlab is that function calls are slowed down by temporary memory allocations. \n",
    "\n",
    "## Writing in-place\n",
    "If we want to do a calculation and write the output in-place in memory"
   ]
  },
  {
   "cell_type": "code",
   "execution_count": 40,
   "metadata": {},
   "outputs": [
    {
     "name": "stderr",
     "output_type": "stream",
     "text": [
      "┌ Info: Recompiling stale cache file /Users/abradley/.julia/compiled/v1.0/BenchmarkTools/ZXPQo.ji for BenchmarkTools [6e4b80f9-dd63-53aa-95a3-0cdb28fa8baf]\n",
      "└ @ Base loading.jl:1190\n"
     ]
    }
   ],
   "source": [
    "using BenchmarkTools "
   ]
  },
  {
   "cell_type": "code",
   "execution_count": 41,
   "metadata": {},
   "outputs": [],
   "source": [
    "x=randn(10000);"
   ]
  },
  {
   "cell_type": "code",
   "execution_count": 42,
   "metadata": {},
   "outputs": [],
   "source": [
    "#let's pre-allocate somwhere to write the output\n",
    "z = f2.(x,x');"
   ]
  },
  {
   "cell_type": "code",
   "execution_count": 43,
   "metadata": {},
   "outputs": [
    {
     "name": "stdout",
     "output_type": "stream",
     "text": [
      "  566.134 ms (5 allocations: 762.94 MiB)\n"
     ]
    }
   ],
   "source": [
    "# do many calls, and return average execution time, and memory allocations\n",
    "@btime z = f2.(x,x');"
   ]
  },
  {
   "cell_type": "markdown",
   "metadata": {},
   "source": [
    "So far this is an allocating call, requiring a temporary memory address for the result, before finally writing the result to `z`. \n",
    "\n",
    "Now let's write the result directly to memory, the $\\julia$ way:"
   ]
  },
  {
   "cell_type": "code",
   "execution_count": 44,
   "metadata": {},
   "outputs": [
    {
     "name": "stdout",
     "output_type": "stream",
     "text": [
      "  91.280 ms (3 allocations: 64 bytes)\n"
     ]
    }
   ],
   "source": [
    "@btime z .= f2.(x,x');"
   ]
  },
  {
   "cell_type": "markdown",
   "metadata": {},
   "source": [
    "The calculation is basically allocation free, with a significant speed up. In ambitious physics simulations, this can translate into much larger gains in execution speed."
   ]
  },
  {
   "cell_type": "markdown",
   "metadata": {},
   "source": [
    "This is probably a good time to point out that \n",
    "\n",
    "- In $\\julia$ there is no speed advantage to \"vectorizing\" your code. \n",
    "- If you prefer to write your own loops, you will get native C speed in $\\julia$.\n",
    "- By using dot-calls, you will get you very close to the same speed, while maintaining the clarity of vectorized code. "
   ]
  },
  {
   "cell_type": "markdown",
   "metadata": {},
   "source": [
    "# Loops, iterators"
   ]
  },
  {
   "cell_type": "code",
   "execution_count": 45,
   "metadata": {},
   "outputs": [
    {
     "name": "stdout",
     "output_type": "stream",
     "text": [
      "j is 1\n",
      "j is 2\n",
      "j is 3\n",
      "j is 4\n",
      "j is 5\n",
      "j is 6\n",
      "j is 7\n",
      "j is 8\n",
      "j is 9\n",
      "j is 10\n"
     ]
    }
   ],
   "source": [
    "for j=1:10\n",
    "    println(\"j is $j\")\n",
    "end"
   ]
  },
  {
   "cell_type": "code",
   "execution_count": 46,
   "metadata": {},
   "outputs": [
    {
     "data": {
      "text/plain": [
       "1:30"
      ]
     },
     "execution_count": 46,
     "metadata": {},
     "output_type": "execute_result"
    }
   ],
   "source": [
    "# an interator\n",
    "n = 1:30"
   ]
  },
  {
   "cell_type": "code",
   "execution_count": 47,
   "metadata": {},
   "outputs": [
    {
     "data": {
      "text/plain": [
       "UnitRange{Int64}"
      ]
     },
     "execution_count": 47,
     "metadata": {},
     "output_type": "execute_result"
    }
   ],
   "source": [
    "typeof(n) #not an Array"
   ]
  },
  {
   "cell_type": "code",
   "execution_count": 48,
   "metadata": {},
   "outputs": [
    {
     "data": {
      "text/plain": [
       "sumton (generic function with 1 method)"
      ]
     },
     "execution_count": 48,
     "metadata": {},
     "output_type": "execute_result"
    }
   ],
   "source": [
    "# a simple function with type conversion using redirection\n",
    "sumton(n) = n*(n+1)/2 |> Int #or, better: |> typeof(n) "
   ]
  },
  {
   "cell_type": "code",
   "execution_count": 49,
   "metadata": {},
   "outputs": [
    {
     "data": {
      "text/plain": [
       "6"
      ]
     },
     "execution_count": 49,
     "metadata": {},
     "output_type": "execute_result"
    }
   ],
   "source": [
    "sumton(3)"
   ]
  },
  {
   "cell_type": "code",
   "execution_count": 50,
   "metadata": {},
   "outputs": [
    {
     "ename": "InexactError",
     "evalue": "InexactError: Int64(Int64, 6.3549999999999995)",
     "output_type": "error",
     "traceback": [
      "InexactError: Int64(Int64, 6.3549999999999995)",
      "",
      "Stacktrace:",
      " [1] Type at ./float.jl:700 [inlined]",
      " [2] |> at ./operators.jl:813 [inlined]",
      " [3] sumton(::Float64) at ./In[48]:2",
      " [4] top-level scope at In[50]:1"
     ]
    }
   ],
   "source": [
    "sumton(3.1)"
   ]
  },
  {
   "cell_type": "code",
   "execution_count": 51,
   "metadata": {},
   "outputs": [
    {
     "data": {
      "text/plain": [
       "sumton (generic function with 1 method)"
      ]
     },
     "execution_count": 51,
     "metadata": {},
     "output_type": "execute_result"
    }
   ],
   "source": [
    "# a simple function with type conversion using redirection\n",
    "sumton(n) = n*(n+1)/2 |> typeof(n) #or, better: |> typeof(n) "
   ]
  },
  {
   "cell_type": "code",
   "execution_count": 52,
   "metadata": {},
   "outputs": [
    {
     "name": "stdout",
     "output_type": "stream",
     "text": [
      "sum up to j: j = 1; julia gives 1; Euler gives 1\n",
      "sum up to j: j = 2; julia gives 3; Euler gives 3\n",
      "sum up to j: j = 3; julia gives 6; Euler gives 6\n",
      "sum up to j: j = 4; julia gives 10; Euler gives 10\n",
      "sum up to j: j = 5; julia gives 15; Euler gives 15\n",
      "sum up to j: j = 6; julia gives 21; Euler gives 21\n",
      "sum up to j: j = 7; julia gives 28; Euler gives 28\n",
      "sum up to j: j = 8; julia gives 36; Euler gives 36\n",
      "sum up to j: j = 9; julia gives 45; Euler gives 45\n",
      "sum up to j: j = 10; julia gives 55; Euler gives 55\n",
      "sum up to j: j = 11; julia gives 66; Euler gives 66\n",
      "sum up to j: j = 12; julia gives 78; Euler gives 78\n",
      "sum up to j: j = 13; julia gives 91; Euler gives 91\n",
      "sum up to j: j = 14; julia gives 105; Euler gives 105\n",
      "sum up to j: j = 15; julia gives 120; Euler gives 120\n",
      "sum up to j: j = 16; julia gives 136; Euler gives 136\n",
      "sum up to j: j = 17; julia gives 153; Euler gives 153\n",
      "sum up to j: j = 18; julia gives 171; Euler gives 171\n",
      "sum up to j: j = 19; julia gives 190; Euler gives 190\n",
      "sum up to j: j = 20; julia gives 210; Euler gives 210\n",
      "sum up to j: j = 21; julia gives 231; Euler gives 231\n",
      "sum up to j: j = 22; julia gives 253; Euler gives 253\n",
      "sum up to j: j = 23; julia gives 276; Euler gives 276\n",
      "sum up to j: j = 24; julia gives 300; Euler gives 300\n",
      "sum up to j: j = 25; julia gives 325; Euler gives 325\n",
      "sum up to j: j = 26; julia gives 351; Euler gives 351\n",
      "sum up to j: j = 27; julia gives 378; Euler gives 378\n",
      "sum up to j: j = 28; julia gives 406; Euler gives 406\n",
      "sum up to j: j = 29; julia gives 435; Euler gives 435\n",
      "sum up to j: j = 30; julia gives 465; Euler gives 465\n"
     ]
    }
   ],
   "source": [
    "# a for loop with string inerpolation\n",
    "for j in n\n",
    "    println(\"sum up to j: j = $j; julia gives $(sum(n[1:j])); Euler gives $(sumton(j))\")\n",
    "end"
   ]
  },
  {
   "cell_type": "markdown",
   "metadata": {},
   "source": [
    "## Geometric series\n",
    "Let's make a little function to evaluate the geometric series up to a given polynomial degree $N-1$."
   ]
  },
  {
   "cell_type": "markdown",
   "metadata": {},
   "source": [
    "__Exercise:__ Write a function to sum `N` terms in the geometric series, for input `x`."
   ]
  },
  {
   "cell_type": "code",
   "execution_count": 53,
   "metadata": {},
   "outputs": [
    {
     "data": {
      "text/plain": [
       "geometric (generic function with 1 method)"
      ]
     },
     "execution_count": 53,
     "metadata": {},
     "output_type": "execute_result"
    }
   ],
   "source": [
    "# write a function to add up the terms\n",
    "function geometric(x,N)\n",
    "    y=zero(x)\n",
    "    for j=0:N-1\n",
    "        y+=x^j\n",
    "    end\n",
    "    return y\n",
    "end"
   ]
  },
  {
   "cell_type": "markdown",
   "metadata": {},
   "source": [
    "(note we haven't used any type annotations!)"
   ]
  },
  {
   "cell_type": "markdown",
   "metadata": {},
   "source": [
    "and compare with the analytical result:\n",
    "<div class=\"alert alert-block alert-warning\"><font color=blue>\n",
    "$$S_N=\\sum_{k=0}^{N-1}x^k=1+x+x^2+x^3\\dots+x^{N-1}=\\frac{1-x^N}{1-x}$$\n",
    "</font></div>"
   ]
  },
  {
   "cell_type": "code",
   "execution_count": 54,
   "metadata": {},
   "outputs": [
    {
     "data": {
      "text/plain": [
       "geomExact (generic function with 1 method)"
      ]
     },
     "execution_count": 54,
     "metadata": {},
     "output_type": "execute_result"
    }
   ],
   "source": [
    "geomExact(x,N)=(1-x^N)/(1-x)"
   ]
  },
  {
   "cell_type": "markdown",
   "metadata": {},
   "source": [
    "A note on compilation and evaluation\n",
    " - first call with particular data type triggers the $\\julia$ JIT to compile fast code.\n",
    " - all later calls with the same type will get fast execution"
   ]
  },
  {
   "cell_type": "markdown",
   "metadata": {},
   "source": [
    "Let's time the first call:"
   ]
  },
  {
   "cell_type": "code",
   "execution_count": 55,
   "metadata": {},
   "outputs": [
    {
     "name": "stdout",
     "output_type": "stream",
     "text": [
      "  0.011034 seconds (14.05 k allocations: 748.988 KiB)\n"
     ]
    },
    {
     "data": {
      "text/plain": [
       "1.1111111111111112"
      ]
     },
     "execution_count": 55,
     "metadata": {},
     "output_type": "execute_result"
    }
   ],
   "source": [
    "@time geometric(.1,1000) #compile"
   ]
  },
  {
   "cell_type": "markdown",
   "metadata": {},
   "source": [
    "Now $\\julia$ has compiled efficient code for the types we passed (not the values), i.e. Float64 and Int64"
   ]
  },
  {
   "cell_type": "code",
   "execution_count": 56,
   "metadata": {},
   "outputs": [
    {
     "name": "stdout",
     "output_type": "stream",
     "text": [
      "  0.000033 seconds (5 allocations: 176 bytes)\n"
     ]
    },
    {
     "data": {
      "text/plain": [
       "1.1111111111111112"
      ]
     },
     "execution_count": 56,
     "metadata": {},
     "output_type": "execute_result"
    }
   ],
   "source": [
    "@time geometric(.1,1000) # ~C speed!"
   ]
  },
  {
   "cell_type": "code",
   "execution_count": 57,
   "metadata": {},
   "outputs": [
    {
     "name": "stdout",
     "output_type": "stream",
     "text": [
      "  21.047 μs (0 allocations: 0 bytes)\n"
     ]
    },
    {
     "data": {
      "text/plain": [
       "1.1111111111111112"
      ]
     },
     "execution_count": 57,
     "metadata": {},
     "output_type": "execute_result"
    }
   ],
   "source": [
    "@btime geometric(.1,1000) # a more reliable measure of timing"
   ]
  },
  {
   "cell_type": "markdown",
   "metadata": {},
   "source": [
    "Our two functions should achieve the same result to numerical precision"
   ]
  },
  {
   "cell_type": "code",
   "execution_count": 58,
   "metadata": {},
   "outputs": [
    {
     "data": {
      "text/plain": [
       "(31.74824973581979, 31.748249735819783)"
      ]
     },
     "execution_count": 58,
     "metadata": {},
     "output_type": "execute_result"
    }
   ],
   "source": [
    "x = 0.97\n",
    "N = 100\n",
    "geometric(x,N),geomExact(x,N)"
   ]
  },
  {
   "cell_type": "markdown",
   "metadata": {},
   "source": [
    "In this example, \"numerical precision\" means about 1e-14 due to accumulated floating point error:"
   ]
  },
  {
   "cell_type": "code",
   "execution_count": 59,
   "metadata": {},
   "outputs": [
    {
     "data": {
      "text/plain": [
       "true"
      ]
     },
     "execution_count": 59,
     "metadata": {},
     "output_type": "execute_result"
    }
   ],
   "source": [
    "isapprox(geometric(x,N),geomExact(x,N),atol=1e-14)"
   ]
  },
  {
   "cell_type": "markdown",
   "metadata": {},
   "source": [
    "Notice we can dot some or all of the arguments:"
   ]
  },
  {
   "cell_type": "code",
   "execution_count": 60,
   "metadata": {},
   "outputs": [
    {
     "data": {
      "text/plain": [
       "3-element Array{Float64,1}:\n",
       " 1.1111111111111112\n",
       " 1.25              \n",
       " 1.4285714285714288"
      ]
     },
     "execution_count": 60,
     "metadata": {},
     "output_type": "execute_result"
    }
   ],
   "source": [
    "geometric.([0.1; 0.2; 0.3],100) "
   ]
  },
  {
   "cell_type": "code",
   "execution_count": 61,
   "metadata": {},
   "outputs": [
    {
     "data": {
      "text/plain": [
       "1×4 Array{Float64,2}:\n",
       " 3.23917  3.33067  3.33326  3.33333"
      ]
     },
     "execution_count": 61,
     "metadata": {},
     "output_type": "execute_result"
    }
   ],
   "source": [
    "geometric.(0.7,[10 20 30 100]) "
   ]
  },
  {
   "cell_type": "code",
   "execution_count": 64,
   "metadata": {},
   "outputs": [
    {
     "data": {
      "text/plain": [
       "3×4 Array{Float64,2}:\n",
       " 1.1  1.1111  1.11111  1.11111\n",
       " 1.2  1.2496  1.25     1.25   \n",
       " 1.7  2.7731  3.23917  3.33326"
      ]
     },
     "execution_count": 64,
     "metadata": {},
     "output_type": "execute_result"
    }
   ],
   "source": [
    "geometric.([0.1; 0.2; 0.7],[2 5 10 30]) "
   ]
  },
  {
   "cell_type": "markdown",
   "metadata": {},
   "source": [
    "# Miltiple dispatch\n",
    "This is really the key language feature the sets $\\julia$ apart from other technical computing languages. \n",
    "- Methods are not owned by classes\n",
    "- Operator overloading is ubiquitous and tied to data type\n",
    "- Types can be extended at will"
   ]
  },
  {
   "cell_type": "code",
   "execution_count": 65,
   "metadata": {},
   "outputs": [
    {
     "data": {
      "text/html": [
       "373 methods for generic function <b>*</b>:<ul><li> *(x::<b>Bool</b>, z::<b>Complex{Bool}</b>) in Base at <a href=\"https://github.com/JuliaLang/julia/tree/099e826241fca365a120df9bac9a9fede6e7bae4/base/complex.jl#L281\" target=\"_blank\">complex.jl:281</a></li> <li> *(x::<b>Bool</b>, y::<b>Bool</b>) in Base at <a href=\"https://github.com/JuliaLang/julia/tree/099e826241fca365a120df9bac9a9fede6e7bae4/base/bool.jl#L106\" target=\"_blank\">bool.jl:106</a></li> <li> *<i>{T<:AbstractFloat}</i>(x::<b>Bool</b>, y::<b>T</b>) in Base at <a href=\"https://github.com/JuliaLang/julia/tree/099e826241fca365a120df9bac9a9fede6e7bae4/base/bool.jl#L118\" target=\"_blank\">bool.jl:118</a></li> <li> *(x::<b>Bool</b>, z::<b>Complex</b>) in Base at <a href=\"https://github.com/JuliaLang/julia/tree/099e826241fca365a120df9bac9a9fede6e7bae4/base/complex.jl#L288\" target=\"_blank\">complex.jl:288</a></li> <li> *(x::<b>Bool</b>, y::<b>AbstractIrrational</b>) in Base at <a href=\"https://github.com/JuliaLang/julia/tree/099e826241fca365a120df9bac9a9fede6e7bae4/base/irrationals.jl#L135\" target=\"_blank\">irrationals.jl:135</a></li> <li> *(a::<b>Float16</b>, b::<b>Float16</b>) in Base at <a href=\"https://github.com/JuliaLang/julia/tree/099e826241fca365a120df9bac9a9fede6e7bae4/base/float.jl#L392\" target=\"_blank\">float.jl:392</a></li> <li> *(x::<b>Float32</b>, y::<b>Float32</b>) in Base at <a href=\"https://github.com/JuliaLang/julia/tree/099e826241fca365a120df9bac9a9fede6e7bae4/base/float.jl#L398\" target=\"_blank\">float.jl:398</a></li> <li> *(x::<b>Float64</b>, y::<b>Float64</b>) in Base at <a href=\"https://github.com/JuliaLang/julia/tree/099e826241fca365a120df9bac9a9fede6e7bae4/base/float.jl#L399\" target=\"_blank\">float.jl:399</a></li> <li> *(z::<b>Complex{Bool}</b>, x::<b>Bool</b>) in Base at <a href=\"https://github.com/JuliaLang/julia/tree/099e826241fca365a120df9bac9a9fede6e7bae4/base/complex.jl#L282\" target=\"_blank\">complex.jl:282</a></li> <li> *(z::<b>Complex{Bool}</b>, x::<b>Real</b>) in Base at <a href=\"https://github.com/JuliaLang/julia/tree/099e826241fca365a120df9bac9a9fede6e7bae4/base/complex.jl#L300\" target=\"_blank\">complex.jl:300</a></li> <li> *(::<b>Missing</b>, ::<b>Missing</b>) in Base at <a href=\"https://github.com/JuliaLang/julia/tree/099e826241fca365a120df9bac9a9fede6e7bae4/base/missing.jl#L92\" target=\"_blank\">missing.jl:92</a></li> <li> *(::<b>Missing</b>, ::<b>Number</b>) in Base at <a href=\"https://github.com/JuliaLang/julia/tree/099e826241fca365a120df9bac9a9fede6e7bae4/base/missing.jl#L93\" target=\"_blank\">missing.jl:93</a></li> <li> *(d::<b>Missing</b>, x::<b>AbstractString</b>) in Base at <a href=\"https://github.com/JuliaLang/julia/tree/099e826241fca365a120df9bac9a9fede6e7bae4/base/missing.jl#L139\" target=\"_blank\">missing.jl:139</a></li> <li> *(this::<b>Base.Grisu.Float</b>, other::<b>Base.Grisu.Float</b>) in Base.Grisu at <a href=\"https://github.com/JuliaLang/julia/tree/099e826241fca365a120df9bac9a9fede6e7bae4/base/grisu/float.jl#L140\" target=\"_blank\">grisu/float.jl:140</a></li> <li> *(c::<b>BigInt</b>, x::<b>BigFloat</b>) in Base.MPFR at <a href=\"https://github.com/JuliaLang/julia/tree/099e826241fca365a120df9bac9a9fede6e7bae4/base/mpfr.jl#L353\" target=\"_blank\">mpfr.jl:353</a></li> <li> *(a::<b>BigInt</b>, b::<b>BigInt</b>, c::<b>BigInt</b>, d::<b>BigInt</b>, e::<b>BigInt</b>) in Base.GMP at <a href=\"https://github.com/JuliaLang/julia/tree/099e826241fca365a120df9bac9a9fede6e7bae4/base/gmp.jl#L443\" target=\"_blank\">gmp.jl:443</a></li> <li> *(a::<b>BigInt</b>, b::<b>BigInt</b>, c::<b>BigInt</b>, d::<b>BigInt</b>) in Base.GMP at <a href=\"https://github.com/JuliaLang/julia/tree/099e826241fca365a120df9bac9a9fede6e7bae4/base/gmp.jl#L442\" target=\"_blank\">gmp.jl:442</a></li> <li> *(a::<b>BigInt</b>, b::<b>BigInt</b>, c::<b>BigInt</b>) in Base.GMP at <a href=\"https://github.com/JuliaLang/julia/tree/099e826241fca365a120df9bac9a9fede6e7bae4/base/gmp.jl#L441\" target=\"_blank\">gmp.jl:441</a></li> <li> *(x::<b>BigInt</b>, y::<b>BigInt</b>) in Base.GMP at <a href=\"https://github.com/JuliaLang/julia/tree/099e826241fca365a120df9bac9a9fede6e7bae4/base/gmp.jl#L412\" target=\"_blank\">gmp.jl:412</a></li> <li> *(x::<b>BigInt</b>, c::<b>Union{UInt16, UInt32, UInt64, UInt8}</b>) in Base.GMP at <a href=\"https://github.com/JuliaLang/julia/tree/099e826241fca365a120df9bac9a9fede6e7bae4/base/gmp.jl#L460\" target=\"_blank\">gmp.jl:460</a></li> <li> *(x::<b>BigInt</b>, c::<b>Union{Int16, Int32, Int64, Int8}</b>) in Base.GMP at <a href=\"https://github.com/JuliaLang/julia/tree/099e826241fca365a120df9bac9a9fede6e7bae4/base/gmp.jl#L462\" target=\"_blank\">gmp.jl:462</a></li> <li> *(a::<b>BigFloat</b>, b::<b>BigFloat</b>, c::<b>BigFloat</b>, d::<b>BigFloat</b>, e::<b>BigFloat</b>) in Base.MPFR at <a href=\"https://github.com/JuliaLang/julia/tree/099e826241fca365a120df9bac9a9fede6e7bae4/base/mpfr.jl#L503\" target=\"_blank\">mpfr.jl:503</a></li> <li> *(a::<b>BigFloat</b>, b::<b>BigFloat</b>, c::<b>BigFloat</b>, d::<b>BigFloat</b>) in Base.MPFR at <a href=\"https://github.com/JuliaLang/julia/tree/099e826241fca365a120df9bac9a9fede6e7bae4/base/mpfr.jl#L496\" target=\"_blank\">mpfr.jl:496</a></li> <li> *(a::<b>BigFloat</b>, b::<b>BigFloat</b>, c::<b>BigFloat</b>) in Base.MPFR at <a href=\"https://github.com/JuliaLang/julia/tree/099e826241fca365a120df9bac9a9fede6e7bae4/base/mpfr.jl#L490\" target=\"_blank\">mpfr.jl:490</a></li> <li> *(x::<b>BigFloat</b>, c::<b>BigInt</b>) in Base.MPFR at <a href=\"https://github.com/JuliaLang/julia/tree/099e826241fca365a120df9bac9a9fede6e7bae4/base/mpfr.jl#L349\" target=\"_blank\">mpfr.jl:349</a></li> <li> *(x::<b>BigFloat</b>, y::<b>BigFloat</b>) in Base.MPFR at <a href=\"https://github.com/JuliaLang/julia/tree/099e826241fca365a120df9bac9a9fede6e7bae4/base/mpfr.jl#L318\" target=\"_blank\">mpfr.jl:318</a></li> <li> *(x::<b>BigFloat</b>, c::<b>Union{UInt16, UInt32, UInt64, UInt8}</b>) in Base.MPFR at <a href=\"https://github.com/JuliaLang/julia/tree/099e826241fca365a120df9bac9a9fede6e7bae4/base/mpfr.jl#L325\" target=\"_blank\">mpfr.jl:325</a></li> <li> *(x::<b>BigFloat</b>, c::<b>Union{Int16, Int32, Int64, Int8}</b>) in Base.MPFR at <a href=\"https://github.com/JuliaLang/julia/tree/099e826241fca365a120df9bac9a9fede6e7bae4/base/mpfr.jl#L333\" target=\"_blank\">mpfr.jl:333</a></li> <li> *(x::<b>BigFloat</b>, c::<b>Union{Float16, Float32, Float64}</b>) in Base.MPFR at <a href=\"https://github.com/JuliaLang/julia/tree/099e826241fca365a120df9bac9a9fede6e7bae4/base/mpfr.jl#L341\" target=\"_blank\">mpfr.jl:341</a></li> <li> *(B::<b>BitArray{2}</b>, J::<b>LinearAlgebra.UniformScaling</b>) in LinearAlgebra at <a href=\"file:///Applications/Julia-1.0.app/Contents/Resources/julia/share/julia/stdlib/v1.0/LinearAlgebra/src/uniformscaling.jl\" target=\"_blank\">/Applications/Julia-1.0.app/Contents/Resources/julia/share/julia/stdlib/v1.0/LinearAlgebra/src/uniformscaling.jl:145</a></li> <li> *(m1::<b>Measures.Length{:mm,Float64}</b>, m2::<b>Measures.Length{:pct,T} where T</b>) in Plots at <a href=\"file:///Users/abradley/.julia/packages/Plots/UQI78/src/layouts.jl\" target=\"_blank\">/Users/abradley/.julia/packages/Plots/UQI78/src/layouts.jl:24</a></li> <li> *(a::<b>PyObject</b>, b::<b>PyObject</b>) in PyCall at <a href=\"file:///Users/abradley/.julia/packages/PyCall/0jMpb/src/pyoperators.jl\" target=\"_blank\">/Users/abradley/.julia/packages/PyCall/0jMpb/src/pyoperators.jl:12</a></li> <li> *(a::<b>PyObject</b>, b) in PyCall at <a href=\"file:///Users/abradley/.julia/packages/PyCall/0jMpb/src/pyoperators.jl\" target=\"_blank\">/Users/abradley/.julia/packages/PyCall/0jMpb/src/pyoperators.jl:14</a></li> <li> *(y::<b>AbstractFloat</b>, x::<b>Bool</b>) in Base at <a href=\"https://github.com/JuliaLang/julia/tree/099e826241fca365a120df9bac9a9fede6e7bae4/base/bool.jl#L120\" target=\"_blank\">bool.jl:120</a></li> <li> *<i>{T<:Union{Int128, UInt128}}</i>(x::<b>T</b>, y::<b>T</b>) in Base at <a href=\"https://github.com/JuliaLang/julia/tree/099e826241fca365a120df9bac9a9fede6e7bae4/base/int.jl#L788\" target=\"_blank\">int.jl:788</a></li> <li> *<i>{T<:Union{Int128, Int16, Int32, Int64, Int8, UInt128, UInt16, UInt32, UInt64, UInt8}}</i>(x::<b>T</b>, y::<b>T</b>) in Base at <a href=\"https://github.com/JuliaLang/julia/tree/099e826241fca365a120df9bac9a9fede6e7bae4/base/int.jl#L54\" target=\"_blank\">int.jl:54</a></li> <li> *(c::<b>Union{UInt16, UInt32, UInt64, UInt8}</b>, x::<b>BigInt</b>) in Base.GMP at <a href=\"https://github.com/JuliaLang/julia/tree/099e826241fca365a120df9bac9a9fede6e7bae4/base/gmp.jl#L461\" target=\"_blank\">gmp.jl:461</a></li> <li> *(c::<b>Union{Int16, Int32, Int64, Int8}</b>, x::<b>BigInt</b>) in Base.GMP at <a href=\"https://github.com/JuliaLang/julia/tree/099e826241fca365a120df9bac9a9fede6e7bae4/base/gmp.jl#L463\" target=\"_blank\">gmp.jl:463</a></li> <li> *(a::<b>Integer</b>, b::<b>Integer</b>) in Base at <a href=\"https://github.com/JuliaLang/julia/tree/099e826241fca365a120df9bac9a9fede6e7bae4/base/int.jl#L800\" target=\"_blank\">int.jl:800</a></li> <li> *(x::<b>Real</b>, r::<b>StepRangeLen{#s57,#s56,S} where S where #s56<:Base.TwicePrecision where #s57<:Real</b>) in Base at <a href=\"https://github.com/JuliaLang/julia/tree/099e826241fca365a120df9bac9a9fede6e7bae4/base/twiceprecision.jl#L479\" target=\"_blank\">twiceprecision.jl:479</a></li> <li> *(z::<b>Complex</b>, w::<b>Complex</b>) in Base at <a href=\"https://github.com/JuliaLang/julia/tree/099e826241fca365a120df9bac9a9fede6e7bae4/base/complex.jl#L268\" target=\"_blank\">complex.jl:268</a></li> <li> *(z::<b>Complex</b>, x::<b>Bool</b>) in Base at <a href=\"https://github.com/JuliaLang/julia/tree/099e826241fca365a120df9bac9a9fede6e7bae4/base/complex.jl#L289\" target=\"_blank\">complex.jl:289</a></li> <li> *(x::<b>Real</b>, z::<b>Complex{Bool}</b>) in Base at <a href=\"https://github.com/JuliaLang/julia/tree/099e826241fca365a120df9bac9a9fede6e7bae4/base/complex.jl#L299\" target=\"_blank\">complex.jl:299</a></li> <li> *(x::<b>Real</b>, z::<b>Complex</b>) in Base at <a href=\"https://github.com/JuliaLang/julia/tree/099e826241fca365a120df9bac9a9fede6e7bae4/base/complex.jl#L311\" target=\"_blank\">complex.jl:311</a></li> <li> *(z::<b>Complex</b>, x::<b>Real</b>) in Base at <a href=\"https://github.com/JuliaLang/julia/tree/099e826241fca365a120df9bac9a9fede6e7bae4/base/complex.jl#L312\" target=\"_blank\">complex.jl:312</a></li> <li> *(x::<b>Rational</b>, y::<b>Rational</b>) in Base at <a href=\"https://github.com/JuliaLang/julia/tree/099e826241fca365a120df9bac9a9fede6e7bae4/base/rational.jl#L259\" target=\"_blank\">rational.jl:259</a></li> <li> *<i>{N}</i>(a::<b>Integer</b>, index::<b>CartesianIndex{N}</b>) in Base.IteratorsMD at <a href=\"https://github.com/JuliaLang/julia/tree/099e826241fca365a120df9bac9a9fede6e7bae4/base/multidimensional.jl#L115\" target=\"_blank\">multidimensional.jl:115</a></li> <li> *(c::<b>Union{UInt16, UInt32, UInt64, UInt8}</b>, x::<b>BigFloat</b>) in Base.MPFR at <a href=\"https://github.com/JuliaLang/julia/tree/099e826241fca365a120df9bac9a9fede6e7bae4/base/mpfr.jl#L329\" target=\"_blank\">mpfr.jl:329</a></li> <li> *(c::<b>Union{Int16, Int32, Int64, Int8}</b>, x::<b>BigFloat</b>) in Base.MPFR at <a href=\"https://github.com/JuliaLang/julia/tree/099e826241fca365a120df9bac9a9fede6e7bae4/base/mpfr.jl#L337\" target=\"_blank\">mpfr.jl:337</a></li> <li> *(c::<b>Union{Float16, Float32, Float64}</b>, x::<b>BigFloat</b>) in Base.MPFR at <a href=\"https://github.com/JuliaLang/julia/tree/099e826241fca365a120df9bac9a9fede6e7bae4/base/mpfr.jl#L345\" target=\"_blank\">mpfr.jl:345</a></li> <li> *(x::<b>AbstractIrrational</b>, y::<b>AbstractIrrational</b>) in Base at <a href=\"https://github.com/JuliaLang/julia/tree/099e826241fca365a120df9bac9a9fede6e7bae4/base/irrationals.jl#L133\" target=\"_blank\">irrationals.jl:133</a></li> <li> *(y::<b>Real</b>, x::<b>Dates.Period</b>) in Dates at <a href=\"file:///Applications/Julia-1.0.app/Contents/Resources/julia/share/julia/stdlib/v1.0/Dates/src/periods.jl\" target=\"_blank\">/Applications/Julia-1.0.app/Contents/Resources/julia/share/julia/stdlib/v1.0/Dates/src/periods.jl:93</a></li> <li> *<i>{X<:FixedPoint}</i>(x::<b>Real</b>, ::<b>Type{X}</b>) in FixedPointNumbers at <a href=\"file:///Users/abradley/.julia/packages/FixedPointNumbers/3QAEg/src/FixedPointNumbers.jl\" target=\"_blank\">/Users/abradley/.julia/packages/FixedPointNumbers/3QAEg/src/FixedPointNumbers.jl:35</a></li> <li> *<i>{T, f}</i>(x::<b>FixedPointNumbers.Fixed{T,f}</b>, y::<b>FixedPointNumbers.Fixed{T,f}</b>) in FixedPointNumbers at <a href=\"file:///Users/abradley/.julia/packages/FixedPointNumbers/3QAEg/src/fixed.jl\" target=\"_blank\">/Users/abradley/.julia/packages/FixedPointNumbers/3QAEg/src/fixed.jl:42</a></li> <li> *<i>{T<:Normed}</i>(x::<b>T</b>, y::<b>T</b>) in FixedPointNumbers at <a href=\"file:///Users/abradley/.julia/packages/FixedPointNumbers/3QAEg/src/normed.jl\" target=\"_blank\">/Users/abradley/.julia/packages/FixedPointNumbers/3QAEg/src/normed.jl:93</a></li> <li> *(x::<b>Number</b>) in Base at <a href=\"https://github.com/JuliaLang/julia/tree/099e826241fca365a120df9bac9a9fede6e7bae4/base/operators.jl#L478\" target=\"_blank\">operators.jl:478</a></li> <li> *<i>{T<:Number}</i>(x::<b>T</b>, y::<b>T</b>) in Base at <a href=\"https://github.com/JuliaLang/julia/tree/099e826241fca365a120df9bac9a9fede6e7bae4/base/promotion.jl#L412\" target=\"_blank\">promotion.jl:412</a></li> <li> *(x::<b>Number</b>, y::<b>Number</b>) in Base at <a href=\"https://github.com/JuliaLang/julia/tree/099e826241fca365a120df9bac9a9fede6e7bae4/base/promotion.jl#L314\" target=\"_blank\">promotion.jl:314</a></li> <li> *(x::<b>Base.TwicePrecision{#s57} where #s57<:Union{Float16, Float32, Float64}</b>, v::<b>Integer</b>) in Base at <a href=\"https://github.com/JuliaLang/julia/tree/099e826241fca365a120df9bac9a9fede6e7bae4/base/twiceprecision.jl#L286\" target=\"_blank\">twiceprecision.jl:286</a></li> <li> *(x::<b>Base.TwicePrecision</b>, v::<b>Number</b>) in Base at <a href=\"https://github.com/JuliaLang/julia/tree/099e826241fca365a120df9bac9a9fede6e7bae4/base/twiceprecision.jl#L282\" target=\"_blank\">twiceprecision.jl:282</a></li> <li> *(v::<b>Number</b>, x::<b>Base.TwicePrecision</b>) in Base at <a href=\"https://github.com/JuliaLang/julia/tree/099e826241fca365a120df9bac9a9fede6e7bae4/base/twiceprecision.jl#L291\" target=\"_blank\">twiceprecision.jl:291</a></li> <li> *<i>{T}</i>(x::<b>Base.TwicePrecision{T}</b>, y::<b>Base.TwicePrecision{T}</b>) in Base at <a href=\"https://github.com/JuliaLang/julia/tree/099e826241fca365a120df9bac9a9fede6e7bae4/base/twiceprecision.jl#L294\" target=\"_blank\">twiceprecision.jl:294</a></li> <li> *(x::<b>Base.TwicePrecision</b>, y::<b>Base.TwicePrecision</b>) in Base at <a href=\"https://github.com/JuliaLang/julia/tree/099e826241fca365a120df9bac9a9fede6e7bae4/base/twiceprecision.jl#L298\" target=\"_blank\">twiceprecision.jl:298</a></li> <li> *(r::<b>StepRangeLen{#s57,#s56,S} where S where #s56<:Base.TwicePrecision where #s57<:Real</b>, x::<b>Real</b>) in Base at <a href=\"https://github.com/JuliaLang/julia/tree/099e826241fca365a120df9bac9a9fede6e7bae4/base/twiceprecision.jl#L481\" target=\"_blank\">twiceprecision.jl:481</a></li> <li> *<i>{P<:Period}</i>(X::<b>Union{DenseArray{P,N}, ReinterpretArray{P,N,S,A} where S where A<:Union{SubArray{T,N,A,I,true} where I<:Tuple{AbstractUnitRange,Vararg{Any,N} where N} where A<:DenseArray where N where T, DenseArray}, ReshapedArray{P,N,A,MI} where MI<:Tuple{Vararg{SignedMultiplicativeInverse{Int64},N} where N} where A<:Union{ReinterpretArray{T,N,S,A} where S where A<:Union{SubArray{T,N,A,I,true} where I<:Tuple{AbstractUnitRange,Vararg{Any,N} where N} where A<:DenseArray where N where T, DenseArray} where N where T, SubArray{T,N,A,I,true} where I<:Tuple{AbstractUnitRange,Vararg{Any,N} where N} where A<:DenseArray where N where T, DenseArray}, SubArray{P,N,A,I,L} where L where I<:Tuple{Vararg{Union{Int64, AbstractRange{Int64}, AbstractCartesianIndex},N} where N} where A<:Union{ReinterpretArray{T,N,S,A} where S where A<:Union{SubArray{T,N,A,I,true} where I<:Tuple{AbstractUnitRange,Vararg{Any,N} where N} where A<:DenseArray where N where T, DenseArray} where N where T, ReshapedArray{T,N,A,MI} where MI<:Tuple{Vararg{SignedMultiplicativeInverse{Int64},N} where N} where A<:Union{ReinterpretArray{T,N,S,A} where S where A<:Union{SubArray{T,N,A,I,true} where I<:Tuple{AbstractUnitRange,Vararg{Any,N} where N} where A<:DenseArray where N where T, DenseArray} where N where T, SubArray{T,N,A,I,true} where I<:Tuple{AbstractUnitRange,Vararg{Any,N} where N} where A<:DenseArray where N where T, DenseArray} where N where T, DenseArray}} where N</b>, y::<b>Real</b>) in Dates at <a href=\"file:///Applications/Julia-1.0.app/Contents/Resources/julia/share/julia/stdlib/v1.0/Dates/src/periods.jl\" target=\"_blank\">/Applications/Julia-1.0.app/Contents/Resources/julia/share/julia/stdlib/v1.0/Dates/src/periods.jl:98</a></li> <li> *(u::<b>LinearAlgebra.Adjoint{T,#s576} where #s576<:(AbstractArray{T,1} where T) where T</b>, v::<b>LinearAlgebra.Adjoint{#s576,#s575} where #s575<:(LinearAlgebra.Transpose{T,#s576} where #s576<:(AbstractArray{T,1} where T) where T) where #s576</b>) in LinearAlgebra at <a href=\"file:///Applications/Julia-1.0.app/Contents/Resources/julia/share/julia/stdlib/v1.0/LinearAlgebra/src/adjtrans.jl\" target=\"_blank\">/Applications/Julia-1.0.app/Contents/Resources/julia/share/julia/stdlib/v1.0/LinearAlgebra/src/adjtrans.jl:215</a></li> <li> *(A::<b>LinearAlgebra.Adjoint{#s576,#s575} where #s575<:LinearAlgebra.AbstractTriangular where #s576</b>, B::<b>LinearAlgebra.Adjoint{#s574,#s573} where #s573<:LinearAlgebra.AbstractTriangular where #s574</b>) in LinearAlgebra at <a href=\"file:///Applications/Julia-1.0.app/Contents/Resources/julia/share/julia/stdlib/v1.0/LinearAlgebra/src/triangular.jl\" target=\"_blank\">/Applications/Julia-1.0.app/Contents/Resources/julia/share/julia/stdlib/v1.0/LinearAlgebra/src/triangular.jl:1967</a></li> <li> *(A::<b>LinearAlgebra.Adjoint{#s576,#s575} where #s575<:(Union{Hermitian{T,S}, Hermitian{Complex{T},S}, Symmetric{T,S}} where S where T<:Real) where #s576</b>, B::<b>LinearAlgebra.Adjoint{#s574,#s573} where #s573<:LinearAlgebra.AbstractTriangular where #s574</b>) in LinearAlgebra at <a href=\"file:///Applications/Julia-1.0.app/Contents/Resources/julia/share/julia/stdlib/v1.0/LinearAlgebra/src/symmetric.jl\" target=\"_blank\">/Applications/Julia-1.0.app/Contents/Resources/julia/share/julia/stdlib/v1.0/LinearAlgebra/src/symmetric.jl:862</a></li> <li> *(v::<b>LinearAlgebra.Adjoint{T,#s576} where #s576<:(AbstractArray{T,1} where T) where T</b>, A::<b>LinearAlgebra.Adjoint{#s576,#s575} where #s575<:LinearAlgebra.AbstractTriangular where #s576</b>) in LinearAlgebra at <a href=\"file:///Applications/Julia-1.0.app/Contents/Resources/julia/share/julia/stdlib/v1.0/LinearAlgebra/src/triangular.jl\" target=\"_blank\">/Applications/Julia-1.0.app/Contents/Resources/julia/share/julia/stdlib/v1.0/LinearAlgebra/src/triangular.jl:1954</a></li> <li> *(A::<b>LinearAlgebra.Adjoint{#s576,#s575} where #s575<:LinearAlgebra.AbstractTriangular where #s576</b>, B::<b>LinearAlgebra.Adjoint{#s574,#s573} where #s573<:(Union{Hermitian{T,S}, Hermitian{Complex{T},S}, Symmetric{T,S}} where S where T<:Real) where #s574</b>) in LinearAlgebra at <a href=\"file:///Applications/Julia-1.0.app/Contents/Resources/julia/share/julia/stdlib/v1.0/LinearAlgebra/src/symmetric.jl\" target=\"_blank\">/Applications/Julia-1.0.app/Contents/Resources/julia/share/julia/stdlib/v1.0/LinearAlgebra/src/symmetric.jl:858</a></li> <li> *(A::<b>LinearAlgebra.Adjoint{#s576,#s575} where #s575<:LinearAlgebra.AbstractTriangular where #s576</b>, B::<b>LinearAlgebra.Adjoint{#s574,#s573} where #s573<:(AbstractArray{T,1} where T) where #s574</b>) in LinearAlgebra at <a href=\"file:///Applications/Julia-1.0.app/Contents/Resources/julia/share/julia/stdlib/v1.0/LinearAlgebra/src/triangular.jl\" target=\"_blank\">/Applications/Julia-1.0.app/Contents/Resources/julia/share/julia/stdlib/v1.0/LinearAlgebra/src/triangular.jl:2484</a></li> <li> *(adjQ::<b>LinearAlgebra.Adjoint{#s576,#s575} where #s575<:LinearAlgebra.AbstractQ where #s576</b>, adjB::<b>LinearAlgebra.Adjoint{#s574,#s573} where #s573<:(Union{DenseArray{T,1}, DenseArray{T,2}, ReinterpretArray{T,2,S,A} where S where A<:Union{SubArray{T,N,A,I,true} where I<:Tuple{AbstractUnitRange,Vararg{Any,N} where N} where A<:DenseArray where N where T, DenseArray}, ReinterpretArray{T,1,S,A} where S where A<:Union{SubArray{T,N,A,I,true} where I<:Tuple{AbstractUnitRange,Vararg{Any,N} where N} where A<:DenseArray where N where T, DenseArray}, ReshapedArray{T,1,A,MI} where MI<:Tuple{Vararg{SignedMultiplicativeInverse{Int64},N} where N} where A<:Union{ReinterpretArray{T,N,S,A} where S where A<:Union{SubArray{T,N,A,I,true} where I<:Tuple{AbstractUnitRange,Vararg{Any,N} where N} where A<:DenseArray where N where T, DenseArray} where N where T, SubArray{T,N,A,I,true} where I<:Tuple{AbstractUnitRange,Vararg{Any,N} where N} where A<:DenseArray where N where T, DenseArray}, ReshapedArray{T,2,A,MI} where MI<:Tuple{Vararg{SignedMultiplicativeInverse{Int64},N} where N} where A<:Union{ReinterpretArray{T,N,S,A} where S where A<:Union{SubArray{T,N,A,I,true} where I<:Tuple{AbstractUnitRange,Vararg{Any,N} where N} where A<:DenseArray where N where T, DenseArray} where N where T, SubArray{T,N,A,I,true} where I<:Tuple{AbstractUnitRange,Vararg{Any,N} where N} where A<:DenseArray where N where T, DenseArray}, SubArray{T,1,A,I,L} where L where I<:Tuple{Vararg{Union{Int64, AbstractRange{Int64}, AbstractCartesianIndex},N} where N} where A<:Union{ReinterpretArray{T,N,S,A} where S where A<:Union{SubArray{T,N,A,I,true} where I<:Tuple{AbstractUnitRange,Vararg{Any,N} where N} where A<:DenseArray where N where T, DenseArray} where N where T, ReshapedArray{T,N,A,MI} where MI<:Tuple{Vararg{SignedMultiplicativeInverse{Int64},N} where N} where A<:Union{ReinterpretArray{T,N,S,A} where S where A<:Union{SubArray{T,N,A,I,true} where I<:Tuple{AbstractUnitRange,Vararg{Any,N} where N} where A<:DenseArray where N where T, DenseArray} where N where T, SubArray{T,N,A,I,true} where I<:Tuple{AbstractUnitRange,Vararg{Any,N} where N} where A<:DenseArray where N where T, DenseArray} where N where T, DenseArray}, SubArray{T,2,A,I,L} where L where I<:Tuple{Vararg{Union{Int64, AbstractRange{Int64}, AbstractCartesianIndex},N} where N} where A<:Union{ReinterpretArray{T,N,S,A} where S where A<:Union{SubArray{T,N,A,I,true} where I<:Tuple{AbstractUnitRange,Vararg{Any,N} where N} where A<:DenseArray where N where T, DenseArray} where N where T, ReshapedArray{T,N,A,MI} where MI<:Tuple{Vararg{SignedMultiplicativeInverse{Int64},N} where N} where A<:Union{ReinterpretArray{T,N,S,A} where S where A<:Union{SubArray{T,N,A,I,true} where I<:Tuple{AbstractUnitRange,Vararg{Any,N} where N} where A<:DenseArray where N where T, DenseArray} where N where T, SubArray{T,N,A,I,true} where I<:Tuple{AbstractUnitRange,Vararg{Any,N} where N} where A<:DenseArray where N where T, DenseArray} where N where T, DenseArray}} where T) where #s574</b>) in LinearAlgebra at <a href=\"file:///Applications/Julia-1.0.app/Contents/Resources/julia/share/julia/stdlib/v1.0/LinearAlgebra/src/qr.jl\" target=\"_blank\">/Applications/Julia-1.0.app/Contents/Resources/julia/share/julia/stdlib/v1.0/LinearAlgebra/src/qr.jl:631</a></li> <li> *(adjA::<b>LinearAlgebra.Adjoint{#s576,#s575} where #s575<:(Union{DenseArray{T,1}, DenseArray{T,2}, ReinterpretArray{T,2,S,A} where S where A<:Union{SubArray{T,N,A,I,true} where I<:Tuple{AbstractUnitRange,Vararg{Any,N} where N} where A<:DenseArray where N where T, DenseArray}, ReinterpretArray{T,1,S,A} where S where A<:Union{SubArray{T,N,A,I,true} where I<:Tuple{AbstractUnitRange,Vararg{Any,N} where N} where A<:DenseArray where N where T, DenseArray}, ReshapedArray{T,1,A,MI} where MI<:Tuple{Vararg{SignedMultiplicativeInverse{Int64},N} where N} where A<:Union{ReinterpretArray{T,N,S,A} where S where A<:Union{SubArray{T,N,A,I,true} where I<:Tuple{AbstractUnitRange,Vararg{Any,N} where N} where A<:DenseArray where N where T, DenseArray} where N where T, SubArray{T,N,A,I,true} where I<:Tuple{AbstractUnitRange,Vararg{Any,N} where N} where A<:DenseArray where N where T, DenseArray}, ReshapedArray{T,2,A,MI} where MI<:Tuple{Vararg{SignedMultiplicativeInverse{Int64},N} where N} where A<:Union{ReinterpretArray{T,N,S,A} where S where A<:Union{SubArray{T,N,A,I,true} where I<:Tuple{AbstractUnitRange,Vararg{Any,N} where N} where A<:DenseArray where N where T, DenseArray} where N where T, SubArray{T,N,A,I,true} where I<:Tuple{AbstractUnitRange,Vararg{Any,N} where N} where A<:DenseArray where N where T, DenseArray}, SubArray{T,1,A,I,L} where L where I<:Tuple{Vararg{Union{Int64, AbstractRange{Int64}, AbstractCartesianIndex},N} where N} where A<:Union{ReinterpretArray{T,N,S,A} where S where A<:Union{SubArray{T,N,A,I,true} where I<:Tuple{AbstractUnitRange,Vararg{Any,N} where N} where A<:DenseArray where N where T, DenseArray} where N where T, ReshapedArray{T,N,A,MI} where MI<:Tuple{Vararg{SignedMultiplicativeInverse{Int64},N} where N} where A<:Union{ReinterpretArray{T,N,S,A} where S where A<:Union{SubArray{T,N,A,I,true} where I<:Tuple{AbstractUnitRange,Vararg{Any,N} where N} where A<:DenseArray where N where T, DenseArray} where N where T, SubArray{T,N,A,I,true} where I<:Tuple{AbstractUnitRange,Vararg{Any,N} where N} where A<:DenseArray where N where T, DenseArray} where N where T, DenseArray}, SubArray{T,2,A,I,L} where L where I<:Tuple{Vararg{Union{Int64, AbstractRange{Int64}, AbstractCartesianIndex},N} where N} where A<:Union{ReinterpretArray{T,N,S,A} where S where A<:Union{SubArray{T,N,A,I,true} where I<:Tuple{AbstractUnitRange,Vararg{Any,N} where N} where A<:DenseArray where N where T, DenseArray} where N where T, ReshapedArray{T,N,A,MI} where MI<:Tuple{Vararg{SignedMultiplicativeInverse{Int64},N} where N} where A<:Union{ReinterpretArray{T,N,S,A} where S where A<:Union{SubArray{T,N,A,I,true} where I<:Tuple{AbstractUnitRange,Vararg{Any,N} where N} where A<:DenseArray where N where T, DenseArray} where N where T, SubArray{T,N,A,I,true} where I<:Tuple{AbstractUnitRange,Vararg{Any,N} where N} where A<:DenseArray where N where T, DenseArray} where N where T, DenseArray}} where T) where #s576</b>, adjQ::<b>LinearAlgebra.Adjoint{#s574,#s573} where #s573<:LinearAlgebra.AbstractQ where #s574</b>) in LinearAlgebra at <a href=\"file:///Applications/Julia-1.0.app/Contents/Resources/julia/share/julia/stdlib/v1.0/LinearAlgebra/src/qr.jl\" target=\"_blank\">/Applications/Julia-1.0.app/Contents/Resources/julia/share/julia/stdlib/v1.0/LinearAlgebra/src/qr.jl:734</a></li> <li> *(u::<b>LinearAlgebra.Adjoint{T,#s576} where #s576<:(AbstractArray{T,1} where T) where T</b>, A::<b>LinearAlgebra.Adjoint{#s576,#s575} where #s575<:LinearAlgebra.AbstractQ where #s576</b>) in LinearAlgebra at <a href=\"file:///Applications/Julia-1.0.app/Contents/Resources/julia/share/julia/stdlib/v1.0/LinearAlgebra/src/qr.jl\" target=\"_blank\">/Applications/Julia-1.0.app/Contents/Resources/julia/share/julia/stdlib/v1.0/LinearAlgebra/src/qr.jl:722</a></li> <li> *(adjA::<b>LinearAlgebra.Adjoint{#s576,#s575} where #s575<:LinearAlgebra.LQPackedQ where #s576</b>, adjB::<b>LinearAlgebra.Adjoint{#s574,#s573} where #s573<:(Union{DenseArray{T,1}, DenseArray{T,2}, ReinterpretArray{T,2,S,A} where S where A<:Union{SubArray{T,N,A,I,true} where I<:Tuple{AbstractUnitRange,Vararg{Any,N} where N} where A<:DenseArray where N where T, DenseArray}, ReinterpretArray{T,1,S,A} where S where A<:Union{SubArray{T,N,A,I,true} where I<:Tuple{AbstractUnitRange,Vararg{Any,N} where N} where A<:DenseArray where N where T, DenseArray}, ReshapedArray{T,1,A,MI} where MI<:Tuple{Vararg{SignedMultiplicativeInverse{Int64},N} where N} where A<:Union{ReinterpretArray{T,N,S,A} where S where A<:Union{SubArray{T,N,A,I,true} where I<:Tuple{AbstractUnitRange,Vararg{Any,N} where N} where A<:DenseArray where N where T, DenseArray} where N where T, SubArray{T,N,A,I,true} where I<:Tuple{AbstractUnitRange,Vararg{Any,N} where N} where A<:DenseArray where N where T, DenseArray}, ReshapedArray{T,2,A,MI} where MI<:Tuple{Vararg{SignedMultiplicativeInverse{Int64},N} where N} where A<:Union{ReinterpretArray{T,N,S,A} where S where A<:Union{SubArray{T,N,A,I,true} where I<:Tuple{AbstractUnitRange,Vararg{Any,N} where N} where A<:DenseArray where N where T, DenseArray} where N where T, SubArray{T,N,A,I,true} where I<:Tuple{AbstractUnitRange,Vararg{Any,N} where N} where A<:DenseArray where N where T, DenseArray}, SubArray{T,1,A,I,L} where L where I<:Tuple{Vararg{Union{Int64, AbstractRange{Int64}, AbstractCartesianIndex},N} where N} where A<:Union{ReinterpretArray{T,N,S,A} where S where A<:Union{SubArray{T,N,A,I,true} where I<:Tuple{AbstractUnitRange,Vararg{Any,N} where N} where A<:DenseArray where N where T, DenseArray} where N where T, ReshapedArray{T,N,A,MI} where MI<:Tuple{Vararg{SignedMultiplicativeInverse{Int64},N} where N} where A<:Union{ReinterpretArray{T,N,S,A} where S where A<:Union{SubArray{T,N,A,I,true} where I<:Tuple{AbstractUnitRange,Vararg{Any,N} where N} where A<:DenseArray where N where T, DenseArray} where N where T, SubArray{T,N,A,I,true} where I<:Tuple{AbstractUnitRange,Vararg{Any,N} where N} where A<:DenseArray where N where T, DenseArray} where N where T, DenseArray}, SubArray{T,2,A,I,L} where L where I<:Tuple{Vararg{Union{Int64, AbstractRange{Int64}, AbstractCartesianIndex},N} where N} where A<:Union{ReinterpretArray{T,N,S,A} where S where A<:Union{SubArray{T,N,A,I,true} where I<:Tuple{AbstractUnitRange,Vararg{Any,N} where N} where A<:DenseArray where N where T, DenseArray} where N where T, ReshapedArray{T,N,A,MI} where MI<:Tuple{Vararg{SignedMultiplicativeInverse{Int64},N} where N} where A<:Union{ReinterpretArray{T,N,S,A} where S where A<:Union{SubArray{T,N,A,I,true} where I<:Tuple{AbstractUnitRange,Vararg{Any,N} where N} where A<:DenseArray where N where T, DenseArray} where N where T, SubArray{T,N,A,I,true} where I<:Tuple{AbstractUnitRange,Vararg{Any,N} where N} where A<:DenseArray where N where T, DenseArray} where N where T, DenseArray}} where T) where #s574</b>) in LinearAlgebra at <a href=\"file:///Applications/Julia-1.0.app/Contents/Resources/julia/share/julia/stdlib/v1.0/LinearAlgebra/src/lq.jl\" target=\"_blank\">/Applications/Julia-1.0.app/Contents/Resources/julia/share/julia/stdlib/v1.0/LinearAlgebra/src/lq.jl:183</a></li> <li> *(adjA::<b>LinearAlgebra.Adjoint{#s576,#s575} where #s575<:(Union{DenseArray{T,2}, ReinterpretArray{T,2,S,A} where S where A<:Union{SubArray{T,N,A,I,true} where I<:Tuple{AbstractUnitRange,Vararg{Any,N} where N} where A<:DenseArray where N where T, DenseArray}, ReshapedArray{T,2,A,MI} where MI<:Tuple{Vararg{SignedMultiplicativeInverse{Int64},N} where N} where A<:Union{ReinterpretArray{T,N,S,A} where S where A<:Union{SubArray{T,N,A,I,true} where I<:Tuple{AbstractUnitRange,Vararg{Any,N} where N} where A<:DenseArray where N where T, DenseArray} where N where T, SubArray{T,N,A,I,true} where I<:Tuple{AbstractUnitRange,Vararg{Any,N} where N} where A<:DenseArray where N where T, DenseArray}, SubArray{T,2,A,I,L} where L where I<:Tuple{Vararg{Union{Int64, AbstractRange{Int64}, AbstractCartesianIndex},N} where N} where A<:Union{ReinterpretArray{T,N,S,A} where S where A<:Union{SubArray{T,N,A,I,true} where I<:Tuple{AbstractUnitRange,Vararg{Any,N} where N} where A<:DenseArray where N where T, DenseArray} where N where T, ReshapedArray{T,N,A,MI} where MI<:Tuple{Vararg{SignedMultiplicativeInverse{Int64},N} where N} where A<:Union{ReinterpretArray{T,N,S,A} where S where A<:Union{SubArray{T,N,A,I,true} where I<:Tuple{AbstractUnitRange,Vararg{Any,N} where N} where A<:DenseArray where N where T, DenseArray} where N where T, SubArray{T,N,A,I,true} where I<:Tuple{AbstractUnitRange,Vararg{Any,N} where N} where A<:DenseArray where N where T, DenseArray} where N where T, DenseArray}} where T) where #s576</b>, adjQ::<b>LinearAlgebra.Adjoint{#s574,#s573} where #s573<:LinearAlgebra.LQPackedQ where #s574</b>) in LinearAlgebra at <a href=\"file:///Applications/Julia-1.0.app/Contents/Resources/julia/share/julia/stdlib/v1.0/LinearAlgebra/src/lq.jl\" target=\"_blank\">/Applications/Julia-1.0.app/Contents/Resources/julia/share/julia/stdlib/v1.0/LinearAlgebra/src/lq.jl:220</a></li> <li> *(adjA::<b>LinearAlgebra.Adjoint{#s576,#s575} where #s575<:(Union{Hermitian{T,S}, Hermitian{Complex{T},S}, Symmetric{T,S}} where S where T<:Real) where #s576</b>, adjB::<b>LinearAlgebra.Adjoint{#s574,#s573} where #s573<:(Union{Hermitian{T,S}, Hermitian{Complex{T},S}, Symmetric{T,S}} where S where T<:Real) where #s574</b>) in LinearAlgebra at <a href=\"file:///Applications/Julia-1.0.app/Contents/Resources/julia/share/julia/stdlib/v1.0/LinearAlgebra/src/symmetric.jl\" target=\"_blank\">/Applications/Julia-1.0.app/Contents/Resources/julia/share/julia/stdlib/v1.0/LinearAlgebra/src/symmetric.jl:433</a></li> <li> *(adjA::<b>LinearAlgebra.Adjoint{#s576,#s575} where #s575<:(Union{Hermitian{T,S}, Symmetric{T,S}, Symmetric{Complex{T},S}} where S where T<:Real) where #s576</b>, adjB::<b>LinearAlgebra.Adjoint{#s574,#s573} where #s573<:(Union{Hermitian{T,S}, Hermitian{Complex{T},S}, Symmetric{T,S}} where S where T<:Real) where #s574</b>) in LinearAlgebra at <a href=\"file:///Applications/Julia-1.0.app/Contents/Resources/julia/share/julia/stdlib/v1.0/LinearAlgebra/src/symmetric.jl\" target=\"_blank\">/Applications/Julia-1.0.app/Contents/Resources/julia/share/julia/stdlib/v1.0/LinearAlgebra/src/symmetric.jl:434</a></li> <li> *(adjA::<b>LinearAlgebra.Adjoint{#s576,#s575} where #s575<:(Union{Hermitian{T,S}, Hermitian{Complex{T},S}, Symmetric{T,S}} where S where T<:Real) where #s576</b>, adjB::<b>LinearAlgebra.Adjoint{#s574,#s573} where #s573<:(Union{Hermitian{T,S}, Symmetric{T,S}, Symmetric{Complex{T},S}} where S where T<:Real) where #s574</b>) in LinearAlgebra at <a href=\"file:///Applications/Julia-1.0.app/Contents/Resources/julia/share/julia/stdlib/v1.0/LinearAlgebra/src/symmetric.jl\" target=\"_blank\">/Applications/Julia-1.0.app/Contents/Resources/julia/share/julia/stdlib/v1.0/LinearAlgebra/src/symmetric.jl:435</a></li> <li> *(adjD::<b>LinearAlgebra.Adjoint{#s576,#s575} where #s575<:LinearAlgebra.Diagonal where #s576</b>, adjA::<b>LinearAlgebra.Adjoint{#s574,#s573} where #s573<:(Union{Hermitian{T,S}, Hermitian{Complex{T},S}, Symmetric{T,S}} where S where T<:Real) where #s574</b>) in LinearAlgebra at <a href=\"file:///Applications/Julia-1.0.app/Contents/Resources/julia/share/julia/stdlib/v1.0/LinearAlgebra/src/diagonal.jl\" target=\"_blank\">/Applications/Julia-1.0.app/Contents/Resources/julia/share/julia/stdlib/v1.0/LinearAlgebra/src/diagonal.jl:293</a></li> <li> *(A::<b>LinearAlgebra.Adjoint{#s576,#s575} where #s575<:(AbstractArray{T,1} where T) where #s576</b>, B::<b>LinearAlgebra.Adjoint{#s574,#s573} where #s573<:(Union{Hermitian{T,S}, Hermitian{Complex{T},S}, Symmetric{T,S}} where S where T<:Real) where #s574</b>) in LinearAlgebra at <a href=\"file:///Applications/Julia-1.0.app/Contents/Resources/julia/share/julia/stdlib/v1.0/LinearAlgebra/src/symmetric.jl\" target=\"_blank\">/Applications/Julia-1.0.app/Contents/Resources/julia/share/julia/stdlib/v1.0/LinearAlgebra/src/symmetric.jl:839</a></li> <li> *(adjA::<b>LinearAlgebra.Adjoint{#s576,#s575} where #s575<:(Union{Hermitian{T,S}, Hermitian{Complex{T},S}, Symmetric{T,S}} where S where T<:Real) where #s576</b>, adjD::<b>LinearAlgebra.Adjoint{#s574,#s573} where #s573<:LinearAlgebra.Diagonal where #s574</b>) in LinearAlgebra at <a href=\"file:///Applications/Julia-1.0.app/Contents/Resources/julia/share/julia/stdlib/v1.0/LinearAlgebra/src/diagonal.jl\" target=\"_blank\">/Applications/Julia-1.0.app/Contents/Resources/julia/share/julia/stdlib/v1.0/LinearAlgebra/src/diagonal.jl:292</a></li> <li> *(A::<b>LinearAlgebra.Adjoint{#s576,#s575} where #s575<:(Union{Hermitian{T,S}, Hermitian{Complex{T},S}, Symmetric{T,S}} where S where T<:Real) where #s576</b>, B::<b>LinearAlgebra.Adjoint{#s574,#s573} where #s573<:(AbstractArray{T,1} where T) where #s574</b>) in LinearAlgebra at <a href=\"file:///Applications/Julia-1.0.app/Contents/Resources/julia/share/julia/stdlib/v1.0/LinearAlgebra/src/symmetric.jl\" target=\"_blank\">/Applications/Julia-1.0.app/Contents/Resources/julia/share/julia/stdlib/v1.0/LinearAlgebra/src/symmetric.jl:848</a></li> <li> *(D::<b>LinearAlgebra.Adjoint{#s576,#s575} where #s575<:LinearAlgebra.Diagonal where #s576</b>, B::<b>LinearAlgebra.Adjoint{#s574,#s573} where #s573<:LinearAlgebra.Diagonal where #s574</b>) in LinearAlgebra at <a href=\"file:///Applications/Julia-1.0.app/Contents/Resources/julia/share/julia/stdlib/v1.0/LinearAlgebra/src/diagonal.jl\" target=\"_blank\">/Applications/Julia-1.0.app/Contents/Resources/julia/share/julia/stdlib/v1.0/LinearAlgebra/src/diagonal.jl:249</a></li> <li> *<i>{Tv, Ti}</i>(A::<b>LinearAlgebra.Adjoint{#s576,#s575} where #s575<:SparseArrays.SparseMatrixCSC{Tv,Ti} where #s576</b>, B::<b>LinearAlgebra.Adjoint{#s574,#s573} where #s573<:SparseArrays.SparseMatrixCSC{Tv,Ti} where #s574</b>) in SparseArrays at <a href=\"file:///Applications/Julia-1.0.app/Contents/Resources/julia/share/julia/stdlib/v1.0/SparseArrays/src/linalg.jl\" target=\"_blank\">/Applications/Julia-1.0.app/Contents/Resources/julia/share/julia/stdlib/v1.0/SparseArrays/src/linalg.jl:146</a></li> <li> *<i>{TvA, TiA, TvB, TiB}</i>(adjA::<b>LinearAlgebra.Adjoint{#s576,#s575} where #s575<:SparseArrays.SparseMatrixCSC{TvA,TiA} where #s576</b>, adjB::<b>LinearAlgebra.Adjoint{#s574,#s573} where #s573<:SparseArrays.SparseMatrixCSC{TvB,TiB} where #s574</b>) in SparseArrays at <a href=\"file:///Applications/Julia-1.0.app/Contents/Resources/julia/share/julia/stdlib/v1.0/SparseArrays/src/linalg.jl\" target=\"_blank\">/Applications/Julia-1.0.app/Contents/Resources/julia/share/julia/stdlib/v1.0/SparseArrays/src/linalg.jl:19</a></li> <li> *(u::<b>LinearAlgebra.Adjoint{T,#s576} where #s576<:(AbstractArray{T,1} where T) where T</b>, v::<b>LinearAlgebra.Adjoint{T,#s576} where #s576<:(AbstractArray{T,1} where T) where T</b>) in LinearAlgebra at <a href=\"file:///Applications/Julia-1.0.app/Contents/Resources/julia/share/julia/stdlib/v1.0/LinearAlgebra/src/adjtrans.jl\" target=\"_blank\">/Applications/Julia-1.0.app/Contents/Resources/julia/share/julia/stdlib/v1.0/LinearAlgebra/src/adjtrans.jl:208</a></li> <li> *(u::<b>LinearAlgebra.Adjoint{T,#s576} where #s576<:(AbstractArray{T,1} where T) where T</b>, v::<b>LinearAlgebra.Transpose{#s576,#s575} where #s575<:(LinearAlgebra.Adjoint{T,#s576} where #s576<:(AbstractArray{T,1} where T) where T) where #s576</b>) in LinearAlgebra at <a href=\"file:///Applications/Julia-1.0.app/Contents/Resources/julia/share/julia/stdlib/v1.0/LinearAlgebra/src/adjtrans.jl\" target=\"_blank\">/Applications/Julia-1.0.app/Contents/Resources/julia/share/julia/stdlib/v1.0/LinearAlgebra/src/adjtrans.jl:219</a></li> <li> *<i>{T<:Union{Complex{Float32}, Complex{Float64}, Float32, Float64}, S}</i>(adjA::<b>LinearAlgebra.Adjoint{#s576,#s575} where #s575<:Union{DenseArray{T,2}, ReinterpretArray{T,2,S,A} where S where A<:Union{SubArray{T,N,A,I,true} where I<:Tuple{AbstractUnitRange,Vararg{Any,N} where N} where A<:DenseArray where N where T, DenseArray}, ReshapedArray{T,2,A,MI} where MI<:Tuple{Vararg{SignedMultiplicativeInverse{Int64},N} where N} where A<:Union{ReinterpretArray{T,N,S,A} where S where A<:Union{SubArray{T,N,A,I,true} where I<:Tuple{AbstractUnitRange,Vararg{Any,N} where N} where A<:DenseArray where N where T, DenseArray} where N where T, SubArray{T,N,A,I,true} where I<:Tuple{AbstractUnitRange,Vararg{Any,N} where N} where A<:DenseArray where N where T, DenseArray}, SubArray{T,2,A,I,L} where L where I<:Tuple{Vararg{Union{Int64, AbstractRange{Int64}, AbstractCartesianIndex},N} where N} where A<:Union{ReinterpretArray{T,N,S,A} where S where A<:Union{SubArray{T,N,A,I,true} where I<:Tuple{AbstractUnitRange,Vararg{Any,N} where N} where A<:DenseArray where N where T, DenseArray} where N where T, ReshapedArray{T,N,A,MI} where MI<:Tuple{Vararg{SignedMultiplicativeInverse{Int64},N} where N} where A<:Union{ReinterpretArray{T,N,S,A} where S where A<:Union{SubArray{T,N,A,I,true} where I<:Tuple{AbstractUnitRange,Vararg{Any,N} where N} where A<:DenseArray where N where T, DenseArray} where N where T, SubArray{T,N,A,I,true} where I<:Tuple{AbstractUnitRange,Vararg{Any,N} where N} where A<:DenseArray where N where T, DenseArray} where N where T, DenseArray}} where #s576</b>, x::<b>Union{DenseArray{S,1}, ReinterpretArray{S,1,S1,A} where S1 where A<:Union{SubArray{T,N,A,I,true} where I<:Tuple{AbstractUnitRange,Vararg{Any,N} where N} where A<:DenseArray where N where T, DenseArray}, ReshapedArray{S,1,A,MI} where MI<:Tuple{Vararg{SignedMultiplicativeInverse{Int64},N} where N} where A<:Union{ReinterpretArray{T,N,S,A} where S where A<:Union{SubArray{T,N,A,I,true} where I<:Tuple{AbstractUnitRange,Vararg{Any,N} where N} where A<:DenseArray where N where T, DenseArray} where N where T, SubArray{T,N,A,I,true} where I<:Tuple{AbstractUnitRange,Vararg{Any,N} where N} where A<:DenseArray where N where T, DenseArray}, SubArray{S,1,A,I,L} where L where I<:Tuple{Vararg{Union{Int64, AbstractRange{Int64}, AbstractCartesianIndex},N} where N} where A<:Union{ReinterpretArray{T,N,S,A} where S where A<:Union{SubArray{T,N,A,I,true} where I<:Tuple{AbstractUnitRange,Vararg{Any,N} where N} where A<:DenseArray where N where T, DenseArray} where N where T, ReshapedArray{T,N,A,MI} where MI<:Tuple{Vararg{SignedMultiplicativeInverse{Int64},N} where N} where A<:Union{ReinterpretArray{T,N,S,A} where S where A<:Union{SubArray{T,N,A,I,true} where I<:Tuple{AbstractUnitRange,Vararg{Any,N} where N} where A<:DenseArray where N where T, DenseArray} where N where T, SubArray{T,N,A,I,true} where I<:Tuple{AbstractUnitRange,Vararg{Any,N} where N} where A<:DenseArray where N where T, DenseArray} where N where T, DenseArray}}</b>) in LinearAlgebra at <a href=\"file:///Applications/Julia-1.0.app/Contents/Resources/julia/share/julia/stdlib/v1.0/LinearAlgebra/src/matmul.jl\" target=\"_blank\">/Applications/Julia-1.0.app/Contents/Resources/julia/share/julia/stdlib/v1.0/LinearAlgebra/src/matmul.jl:98</a></li> <li> *(xformA::<b>LinearAlgebra.Adjoint{#s576,#s575} where #s575<:LinearAlgebra.UpperTriangular where #s576</b>, B::<b>LinearAlgebra.LowerTriangular</b>) in LinearAlgebra at <a href=\"file:///Applications/Julia-1.0.app/Contents/Resources/julia/share/julia/stdlib/v1.0/LinearAlgebra/src/triangular.jl\" target=\"_blank\">/Applications/Julia-1.0.app/Contents/Resources/julia/share/julia/stdlib/v1.0/LinearAlgebra/src/triangular.jl:1647</a></li> <li> *(xformA::<b>LinearAlgebra.Adjoint{#s574,#s573} where #s573<:LinearAlgebra.UnitUpperTriangular where #s574</b>, B::<b>LinearAlgebra.LowerTriangular</b>) in LinearAlgebra at <a href=\"file:///Applications/Julia-1.0.app/Contents/Resources/julia/share/julia/stdlib/v1.0/LinearAlgebra/src/triangular.jl\" target=\"_blank\">/Applications/Julia-1.0.app/Contents/Resources/julia/share/julia/stdlib/v1.0/LinearAlgebra/src/triangular.jl:1656</a></li> <li> *(xformA::<b>LinearAlgebra.Adjoint{#s572,#s571} where #s571<:LinearAlgebra.LowerTriangular where #s572</b>, B::<b>LinearAlgebra.UpperTriangular</b>) in LinearAlgebra at <a href=\"file:///Applications/Julia-1.0.app/Contents/Resources/julia/share/julia/stdlib/v1.0/LinearAlgebra/src/triangular.jl\" target=\"_blank\">/Applications/Julia-1.0.app/Contents/Resources/julia/share/julia/stdlib/v1.0/LinearAlgebra/src/triangular.jl:1665</a></li> <li> *(xformA::<b>LinearAlgebra.Adjoint{#s570,#s569} where #s569<:LinearAlgebra.UnitLowerTriangular where #s570</b>, B::<b>LinearAlgebra.UpperTriangular</b>) in LinearAlgebra at <a href=\"file:///Applications/Julia-1.0.app/Contents/Resources/julia/share/julia/stdlib/v1.0/LinearAlgebra/src/triangular.jl\" target=\"_blank\">/Applications/Julia-1.0.app/Contents/Resources/julia/share/julia/stdlib/v1.0/LinearAlgebra/src/triangular.jl:1674</a></li> <li> *(adjA::<b>LinearAlgebra.Adjoint{#s576,#s575} where #s575<:LinearAlgebra.AbstractTriangular where #s576</b>, B::<b>LinearAlgebra.AbstractTriangular</b>) in LinearAlgebra at <a href=\"file:///Applications/Julia-1.0.app/Contents/Resources/julia/share/julia/stdlib/v1.0/LinearAlgebra/src/triangular.jl\" target=\"_blank\">/Applications/Julia-1.0.app/Contents/Resources/julia/share/julia/stdlib/v1.0/LinearAlgebra/src/triangular.jl:1765</a></li> <li> *(A::<b>LinearAlgebra.Adjoint{#s576,#s575} where #s575<:LinearAlgebra.AbstractTriangular where #s576</b>, B::<b>LinearAlgebra.Adjoint{#s574,#s573} where #s573<:(AbstractArray{T,2} where T) where #s574</b>) in LinearAlgebra at <a href=\"file:///Applications/Julia-1.0.app/Contents/Resources/julia/share/julia/stdlib/v1.0/LinearAlgebra/src/triangular.jl\" target=\"_blank\">/Applications/Julia-1.0.app/Contents/Resources/julia/share/julia/stdlib/v1.0/LinearAlgebra/src/triangular.jl:1968</a></li> <li> *(A::<b>LinearAlgebra.Adjoint{#s576,#s575} where #s575<:LinearAlgebra.AbstractTriangular where #s576</b>, B::<b>LinearAlgebra.Transpose{#s574,#s573} where #s573<:LinearAlgebra.AbstractTriangular where #s574</b>) in LinearAlgebra at <a href=\"file:///Applications/Julia-1.0.app/Contents/Resources/julia/share/julia/stdlib/v1.0/LinearAlgebra/src/triangular.jl\" target=\"_blank\">/Applications/Julia-1.0.app/Contents/Resources/julia/share/julia/stdlib/v1.0/LinearAlgebra/src/triangular.jl:2481</a></li> <li> *(A::<b>LinearAlgebra.Adjoint{#s576,#s575} where #s575<:LinearAlgebra.AbstractTriangular where #s576</b>, B::<b>LinearAlgebra.Transpose{#s574,#s573} where #s573<:(Union{Hermitian{T,S}, Symmetric{T,S}, Symmetric{Complex{T},S}} where S where T<:Real) where #s574</b>) in LinearAlgebra at <a href=\"file:///Applications/Julia-1.0.app/Contents/Resources/julia/share/julia/stdlib/v1.0/LinearAlgebra/src/symmetric.jl\" target=\"_blank\">/Applications/Julia-1.0.app/Contents/Resources/julia/share/julia/stdlib/v1.0/LinearAlgebra/src/symmetric.jl:859</a></li> <li> *(A::<b>LinearAlgebra.Adjoint{#s576,#s575} where #s575<:LinearAlgebra.AbstractTriangular where #s576</b>, B::<b>LinearAlgebra.Transpose{#s574,#s573} where #s573<:(AbstractArray{T,2} where T) where #s574</b>) in LinearAlgebra at <a href=\"file:///Applications/Julia-1.0.app/Contents/Resources/julia/share/julia/stdlib/v1.0/LinearAlgebra/src/triangular.jl\" target=\"_blank\">/Applications/Julia-1.0.app/Contents/Resources/julia/share/julia/stdlib/v1.0/LinearAlgebra/src/triangular.jl:2485</a></li> <li> *(A::<b>LinearAlgebra.Adjoint{#s576,#s575} where #s575<:LinearAlgebra.AbstractTriangular where #s576</b>, B::<b>LinearAlgebra.Transpose{#s574,#s573} where #s573<:(AbstractArray{T,1} where T) where #s574</b>) in LinearAlgebra at <a href=\"file:///Applications/Julia-1.0.app/Contents/Resources/julia/share/julia/stdlib/v1.0/LinearAlgebra/src/triangular.jl\" target=\"_blank\">/Applications/Julia-1.0.app/Contents/Resources/julia/share/julia/stdlib/v1.0/LinearAlgebra/src/triangular.jl:2486</a></li> <li> *(A::<b>LinearAlgebra.Adjoint{#s576,#s575} where #s575<:LinearAlgebra.AbstractTriangular where #s576</b>, D::<b>LinearAlgebra.Diagonal</b>) in LinearAlgebra at <a href=\"file:///Applications/Julia-1.0.app/Contents/Resources/julia/share/julia/stdlib/v1.0/LinearAlgebra/src/diagonal.jl\" target=\"_blank\">/Applications/Julia-1.0.app/Contents/Resources/julia/share/julia/stdlib/v1.0/LinearAlgebra/src/diagonal.jl:213</a></li> <li> *(A::<b>LinearAlgebra.Adjoint{#s576,#s575} where #s575<:LinearAlgebra.AbstractTriangular where #s576</b>, B::<b>LinearAlgebra.Adjoint{#s574,#s573} where #s573<:LinearAlgebra.AbstractRotation where #s574</b>) in LinearAlgebra at <a href=\"file:///Applications/Julia-1.0.app/Contents/Resources/julia/share/julia/stdlib/v1.0/LinearAlgebra/src/givens.jl\" target=\"_blank\">/Applications/Julia-1.0.app/Contents/Resources/julia/share/julia/stdlib/v1.0/LinearAlgebra/src/givens.jl:392</a></li> <li> *(adjA::<b>LinearAlgebra.Adjoint{#s576,#s575} where #s575<:LinearAlgebra.AbstractTriangular where #s576</b>, B::<b>AbstractArray{T,1} where T</b>) in LinearAlgebra at <a href=\"file:///Applications/Julia-1.0.app/Contents/Resources/julia/share/julia/stdlib/v1.0/LinearAlgebra/src/triangular.jl\" target=\"_blank\">/Applications/Julia-1.0.app/Contents/Resources/julia/share/julia/stdlib/v1.0/LinearAlgebra/src/triangular.jl:1805</a></li> <li> *(adjA::<b>LinearAlgebra.Adjoint{#s576,#s575} where #s575<:(Union{Hermitian{T,S}, Hermitian{Complex{T},S}, Symmetric{T,S}} where S where T<:Real) where #s576</b>, B::<b>LinearAlgebra.AbstractTriangular</b>) in LinearAlgebra at <a href=\"file:///Applications/Julia-1.0.app/Contents/Resources/julia/share/julia/stdlib/v1.0/LinearAlgebra/src/symmetric.jl\" target=\"_blank\">/Applications/Julia-1.0.app/Contents/Resources/julia/share/julia/stdlib/v1.0/LinearAlgebra/src/symmetric.jl:440</a></li> <li> *(A::<b>LinearAlgebra.Adjoint{#s177,#s176} where #s176<:(Union{StaticArray{Tuple{#s12},T,1} where #s12, StaticArray{Tuple{#s13,#s14},T,2} where #s14 where #s13} where T) where #s177</b>, B::<b>LinearAlgebra.AbstractTriangular{#s175,#s174} where #s174<:(StaticArrays.StaticArray{Tuple{N,M},T,2} where T where M where N) where #s175</b>) in StaticArrays at <a href=\"file:///Users/abradley/.julia/packages/StaticArrays/mcf7t/src/triangular.jl\" target=\"_blank\">/Users/abradley/.julia/packages/StaticArrays/mcf7t/src/triangular.jl:11</a></li> <li> *(v::<b>LinearAlgebra.Adjoint{T,#s576} where #s576<:(AbstractArray{T,1} where T) where T</b>, A::<b>LinearAlgebra.AbstractTriangular</b>) in LinearAlgebra at <a href=\"file:///Applications/Julia-1.0.app/Contents/Resources/julia/share/julia/stdlib/v1.0/LinearAlgebra/src/triangular.jl\" target=\"_blank\">/Applications/Julia-1.0.app/Contents/Resources/julia/share/julia/stdlib/v1.0/LinearAlgebra/src/triangular.jl:1952</a></li> <li> *(A::<b>LinearAlgebra.Adjoint{#s576,#s575} where #s575<:(Union{Hermitian{T,S}, Hermitian{Complex{T},S}, Symmetric{T,S}} where S where T<:Real) where #s576</b>, B::<b>LinearAlgebra.Transpose{#s574,#s573} where #s573<:LinearAlgebra.AbstractTriangular where #s574</b>) in LinearAlgebra at <a href=\"file:///Applications/Julia-1.0.app/Contents/Resources/julia/share/julia/stdlib/v1.0/LinearAlgebra/src/symmetric.jl\" target=\"_blank\">/Applications/Julia-1.0.app/Contents/Resources/julia/share/julia/stdlib/v1.0/LinearAlgebra/src/symmetric.jl:863</a></li> <li> *(A::<b>LinearAlgebra.Adjoint{#s576,#s575} where #s575<:(AbstractArray{T,1} where T) where #s576</b>, B::<b>LinearAlgebra.Transpose{#s574,#s573} where #s573<:LinearAlgebra.AbstractTriangular where #s574</b>) in LinearAlgebra at <a href=\"file:///Applications/Julia-1.0.app/Contents/Resources/julia/share/julia/stdlib/v1.0/LinearAlgebra/src/triangular.jl\" target=\"_blank\">/Applications/Julia-1.0.app/Contents/Resources/julia/share/julia/stdlib/v1.0/LinearAlgebra/src/triangular.jl:2491</a></li> <li> *(adjQ::<b>LinearAlgebra.Adjoint{#s576,#s575} where #s575<:LinearAlgebra.AbstractQ where #s576</b>, B::<b>Union{DenseArray{T,1}, DenseArray{T,2}, ReinterpretArray{T,2,S,A} where S where A<:Union{SubArray{T,N,A,I,true} where I<:Tuple{AbstractUnitRange,Vararg{Any,N} where N} where A<:DenseArray where N where T, DenseArray}, ReinterpretArray{T,1,S,A} where S where A<:Union{SubArray{T,N,A,I,true} where I<:Tuple{AbstractUnitRange,Vararg{Any,N} where N} where A<:DenseArray where N where T, DenseArray}, ReshapedArray{T,1,A,MI} where MI<:Tuple{Vararg{SignedMultiplicativeInverse{Int64},N} where N} where A<:Union{ReinterpretArray{T,N,S,A} where S where A<:Union{SubArray{T,N,A,I,true} where I<:Tuple{AbstractUnitRange,Vararg{Any,N} where N} where A<:DenseArray where N where T, DenseArray} where N where T, SubArray{T,N,A,I,true} where I<:Tuple{AbstractUnitRange,Vararg{Any,N} where N} where A<:DenseArray where N where T, DenseArray}, ReshapedArray{T,2,A,MI} where MI<:Tuple{Vararg{SignedMultiplicativeInverse{Int64},N} where N} where A<:Union{ReinterpretArray{T,N,S,A} where S where A<:Union{SubArray{T,N,A,I,true} where I<:Tuple{AbstractUnitRange,Vararg{Any,N} where N} where A<:DenseArray where N where T, DenseArray} where N where T, SubArray{T,N,A,I,true} where I<:Tuple{AbstractUnitRange,Vararg{Any,N} where N} where A<:DenseArray where N where T, DenseArray}, SubArray{T,1,A,I,L} where L where I<:Tuple{Vararg{Union{Int64, AbstractRange{Int64}, AbstractCartesianIndex},N} where N} where A<:Union{ReinterpretArray{T,N,S,A} where S where A<:Union{SubArray{T,N,A,I,true} where I<:Tuple{AbstractUnitRange,Vararg{Any,N} where N} where A<:DenseArray where N where T, DenseArray} where N where T, ReshapedArray{T,N,A,MI} where MI<:Tuple{Vararg{SignedMultiplicativeInverse{Int64},N} where N} where A<:Union{ReinterpretArray{T,N,S,A} where S where A<:Union{SubArray{T,N,A,I,true} where I<:Tuple{AbstractUnitRange,Vararg{Any,N} where N} where A<:DenseArray where N where T, DenseArray} where N where T, SubArray{T,N,A,I,true} where I<:Tuple{AbstractUnitRange,Vararg{Any,N} where N} where A<:DenseArray where N where T, DenseArray} where N where T, DenseArray}, SubArray{T,2,A,I,L} where L where I<:Tuple{Vararg{Union{Int64, AbstractRange{Int64}, AbstractCartesianIndex},N} where N} where A<:Union{ReinterpretArray{T,N,S,A} where S where A<:Union{SubArray{T,N,A,I,true} where I<:Tuple{AbstractUnitRange,Vararg{Any,N} where N} where A<:DenseArray where N where T, DenseArray} where N where T, ReshapedArray{T,N,A,MI} where MI<:Tuple{Vararg{SignedMultiplicativeInverse{Int64},N} where N} where A<:Union{ReinterpretArray{T,N,S,A} where S where A<:Union{SubArray{T,N,A,I,true} where I<:Tuple{AbstractUnitRange,Vararg{Any,N} where N} where A<:DenseArray where N where T, DenseArray} where N where T, SubArray{T,N,A,I,true} where I<:Tuple{AbstractUnitRange,Vararg{Any,N} where N} where A<:DenseArray where N where T, DenseArray} where N where T, DenseArray}} where T</b>) in LinearAlgebra at <a href=\"file:///Applications/Julia-1.0.app/Contents/Resources/julia/share/julia/stdlib/v1.0/LinearAlgebra/src/qr.jl\" target=\"_blank\">/Applications/Julia-1.0.app/Contents/Resources/julia/share/julia/stdlib/v1.0/LinearAlgebra/src/qr.jl:617</a></li> <li> *(adjA::<b>LinearAlgebra.Adjoint{#s576,#s575} where #s575<:(Union{DenseArray{T,1}, DenseArray{T,2}, ReinterpretArray{T,2,S,A} where S where A<:Union{SubArray{T,N,A,I,true} where I<:Tuple{AbstractUnitRange,Vararg{Any,N} where N} where A<:DenseArray where N where T, DenseArray}, ReinterpretArray{T,1,S,A} where S where A<:Union{SubArray{T,N,A,I,true} where I<:Tuple{AbstractUnitRange,Vararg{Any,N} where N} where A<:DenseArray where N where T, DenseArray}, ReshapedArray{T,1,A,MI} where MI<:Tuple{Vararg{SignedMultiplicativeInverse{Int64},N} where N} where A<:Union{ReinterpretArray{T,N,S,A} where S where A<:Union{SubArray{T,N,A,I,true} where I<:Tuple{AbstractUnitRange,Vararg{Any,N} where N} where A<:DenseArray where N where T, DenseArray} where N where T, SubArray{T,N,A,I,true} where I<:Tuple{AbstractUnitRange,Vararg{Any,N} where N} where A<:DenseArray where N where T, DenseArray}, ReshapedArray{T,2,A,MI} where MI<:Tuple{Vararg{SignedMultiplicativeInverse{Int64},N} where N} where A<:Union{ReinterpretArray{T,N,S,A} where S where A<:Union{SubArray{T,N,A,I,true} where I<:Tuple{AbstractUnitRange,Vararg{Any,N} where N} where A<:DenseArray where N where T, DenseArray} where N where T, SubArray{T,N,A,I,true} where I<:Tuple{AbstractUnitRange,Vararg{Any,N} where N} where A<:DenseArray where N where T, DenseArray}, SubArray{T,1,A,I,L} where L where I<:Tuple{Vararg{Union{Int64, AbstractRange{Int64}, AbstractCartesianIndex},N} where N} where A<:Union{ReinterpretArray{T,N,S,A} where S where A<:Union{SubArray{T,N,A,I,true} where I<:Tuple{AbstractUnitRange,Vararg{Any,N} where N} where A<:DenseArray where N where T, DenseArray} where N where T, ReshapedArray{T,N,A,MI} where MI<:Tuple{Vararg{SignedMultiplicativeInverse{Int64},N} where N} where A<:Union{ReinterpretArray{T,N,S,A} where S where A<:Union{SubArray{T,N,A,I,true} where I<:Tuple{AbstractUnitRange,Vararg{Any,N} where N} where A<:DenseArray where N where T, DenseArray} where N where T, SubArray{T,N,A,I,true} where I<:Tuple{AbstractUnitRange,Vararg{Any,N} where N} where A<:DenseArray where N where T, DenseArray} where N where T, DenseArray}, SubArray{T,2,A,I,L} where L where I<:Tuple{Vararg{Union{Int64, AbstractRange{Int64}, AbstractCartesianIndex},N} where N} where A<:Union{ReinterpretArray{T,N,S,A} where S where A<:Union{SubArray{T,N,A,I,true} where I<:Tuple{AbstractUnitRange,Vararg{Any,N} where N} where A<:DenseArray where N where T, DenseArray} where N where T, ReshapedArray{T,N,A,MI} where MI<:Tuple{Vararg{SignedMultiplicativeInverse{Int64},N} where N} where A<:Union{ReinterpretArray{T,N,S,A} where S where A<:Union{SubArray{T,N,A,I,true} where I<:Tuple{AbstractUnitRange,Vararg{Any,N} where N} where A<:DenseArray where N where T, DenseArray} where N where T, SubArray{T,N,A,I,true} where I<:Tuple{AbstractUnitRange,Vararg{Any,N} where N} where A<:DenseArray where N where T, DenseArray} where N where T, DenseArray}} where T) where #s576</b>, Q::<b>LinearAlgebra.AbstractQ</b>) in LinearAlgebra at <a href=\"file:///Applications/Julia-1.0.app/Contents/Resources/julia/share/julia/stdlib/v1.0/LinearAlgebra/src/qr.jl\" target=\"_blank\">/Applications/Julia-1.0.app/Contents/Resources/julia/share/julia/stdlib/v1.0/LinearAlgebra/src/qr.jl:727</a></li> <li> *(adjA::<b>LinearAlgebra.Adjoint{#s576,#s575} where #s575<:LinearAlgebra.LQPackedQ where #s576</b>, B::<b>Union{DenseArray{T,1}, DenseArray{T,2}, ReinterpretArray{T,2,S,A} where S where A<:Union{SubArray{T,N,A,I,true} where I<:Tuple{AbstractUnitRange,Vararg{Any,N} where N} where A<:DenseArray where N where T, DenseArray}, ReinterpretArray{T,1,S,A} where S where A<:Union{SubArray{T,N,A,I,true} where I<:Tuple{AbstractUnitRange,Vararg{Any,N} where N} where A<:DenseArray where N where T, DenseArray}, ReshapedArray{T,1,A,MI} where MI<:Tuple{Vararg{SignedMultiplicativeInverse{Int64},N} where N} where A<:Union{ReinterpretArray{T,N,S,A} where S where A<:Union{SubArray{T,N,A,I,true} where I<:Tuple{AbstractUnitRange,Vararg{Any,N} where N} where A<:DenseArray where N where T, DenseArray} where N where T, SubArray{T,N,A,I,true} where I<:Tuple{AbstractUnitRange,Vararg{Any,N} where N} where A<:DenseArray where N where T, DenseArray}, ReshapedArray{T,2,A,MI} where MI<:Tuple{Vararg{SignedMultiplicativeInverse{Int64},N} where N} where A<:Union{ReinterpretArray{T,N,S,A} where S where A<:Union{SubArray{T,N,A,I,true} where I<:Tuple{AbstractUnitRange,Vararg{Any,N} where N} where A<:DenseArray where N where T, DenseArray} where N where T, SubArray{T,N,A,I,true} where I<:Tuple{AbstractUnitRange,Vararg{Any,N} where N} where A<:DenseArray where N where T, DenseArray}, SubArray{T,1,A,I,L} where L where I<:Tuple{Vararg{Union{Int64, AbstractRange{Int64}, AbstractCartesianIndex},N} where N} where A<:Union{ReinterpretArray{T,N,S,A} where S where A<:Union{SubArray{T,N,A,I,true} where I<:Tuple{AbstractUnitRange,Vararg{Any,N} where N} where A<:DenseArray where N where T, DenseArray} where N where T, ReshapedArray{T,N,A,MI} where MI<:Tuple{Vararg{SignedMultiplicativeInverse{Int64},N} where N} where A<:Union{ReinterpretArray{T,N,S,A} where S where A<:Union{SubArray{T,N,A,I,true} where I<:Tuple{AbstractUnitRange,Vararg{Any,N} where N} where A<:DenseArray where N where T, DenseArray} where N where T, SubArray{T,N,A,I,true} where I<:Tuple{AbstractUnitRange,Vararg{Any,N} where N} where A<:DenseArray where N where T, DenseArray} where N where T, DenseArray}, SubArray{T,2,A,I,L} where L where I<:Tuple{Vararg{Union{Int64, AbstractRange{Int64}, AbstractCartesianIndex},N} where N} where A<:Union{ReinterpretArray{T,N,S,A} where S where A<:Union{SubArray{T,N,A,I,true} where I<:Tuple{AbstractUnitRange,Vararg{Any,N} where N} where A<:DenseArray where N where T, DenseArray} where N where T, ReshapedArray{T,N,A,MI} where MI<:Tuple{Vararg{SignedMultiplicativeInverse{Int64},N} where N} where A<:Union{ReinterpretArray{T,N,S,A} where S where A<:Union{SubArray{T,N,A,I,true} where I<:Tuple{AbstractUnitRange,Vararg{Any,N} where N} where A<:DenseArray where N where T, DenseArray} where N where T, SubArray{T,N,A,I,true} where I<:Tuple{AbstractUnitRange,Vararg{Any,N} where N} where A<:DenseArray where N where T, DenseArray} where N where T, DenseArray}} where T</b>) in LinearAlgebra at <a href=\"file:///Applications/Julia-1.0.app/Contents/Resources/julia/share/julia/stdlib/v1.0/LinearAlgebra/src/lq.jl\" target=\"_blank\">/Applications/Julia-1.0.app/Contents/Resources/julia/share/julia/stdlib/v1.0/LinearAlgebra/src/lq.jl:163</a></li> <li> *(adjA::<b>LinearAlgebra.Adjoint{#s576,#s575} where #s575<:(Union{DenseArray{T,2}, ReinterpretArray{T,2,S,A} where S where A<:Union{SubArray{T,N,A,I,true} where I<:Tuple{AbstractUnitRange,Vararg{Any,N} where N} where A<:DenseArray where N where T, DenseArray}, ReshapedArray{T,2,A,MI} where MI<:Tuple{Vararg{SignedMultiplicativeInverse{Int64},N} where N} where A<:Union{ReinterpretArray{T,N,S,A} where S where A<:Union{SubArray{T,N,A,I,true} where I<:Tuple{AbstractUnitRange,Vararg{Any,N} where N} where A<:DenseArray where N where T, DenseArray} where N where T, SubArray{T,N,A,I,true} where I<:Tuple{AbstractUnitRange,Vararg{Any,N} where N} where A<:DenseArray where N where T, DenseArray}, SubArray{T,2,A,I,L} where L where I<:Tuple{Vararg{Union{Int64, AbstractRange{Int64}, AbstractCartesianIndex},N} where N} where A<:Union{ReinterpretArray{T,N,S,A} where S where A<:Union{SubArray{T,N,A,I,true} where I<:Tuple{AbstractUnitRange,Vararg{Any,N} where N} where A<:DenseArray where N where T, DenseArray} where N where T, ReshapedArray{T,N,A,MI} where MI<:Tuple{Vararg{SignedMultiplicativeInverse{Int64},N} where N} where A<:Union{ReinterpretArray{T,N,S,A} where S where A<:Union{SubArray{T,N,A,I,true} where I<:Tuple{AbstractUnitRange,Vararg{Any,N} where N} where A<:DenseArray where N where T, DenseArray} where N where T, SubArray{T,N,A,I,true} where I<:Tuple{AbstractUnitRange,Vararg{Any,N} where N} where A<:DenseArray where N where T, DenseArray} where N where T, DenseArray}} where T) where #s576</b>, Q::<b>LinearAlgebra.LQPackedQ</b>) in LinearAlgebra at <a href=\"file:///Applications/Julia-1.0.app/Contents/Resources/julia/share/julia/stdlib/v1.0/LinearAlgebra/src/lq.jl\" target=\"_blank\">/Applications/Julia-1.0.app/Contents/Resources/julia/share/julia/stdlib/v1.0/LinearAlgebra/src/lq.jl:251</a></li> <li> *(A::<b>LinearAlgebra.Adjoint{#s576,#s575} where #s575<:(Union{Hermitian{T,S}, Hermitian{Complex{T},S}, Symmetric{T,S}} where S where T<:Real) where #s576</b>, B::<b>LinearAlgebra.Transpose{#s574,#s573} where #s573<:(Union{Hermitian{T,S}, Symmetric{T,S}, Symmetric{Complex{T},S}} where S where T<:Real) where #s574</b>) in LinearAlgebra at <a href=\"file:///Applications/Julia-1.0.app/Contents/Resources/julia/share/julia/stdlib/v1.0/LinearAlgebra/src/symmetric.jl\" target=\"_blank\">/Applications/Julia-1.0.app/Contents/Resources/julia/share/julia/stdlib/v1.0/LinearAlgebra/src/symmetric.jl:836</a></li> <li> *(A::<b>LinearAlgebra.Adjoint{#s576,#s575} where #s575<:(Union{Hermitian{T,S}, Hermitian{Complex{T},S}, Symmetric{T,S}} where S where T<:Real) where #s576</b>, B::<b>LinearAlgebra.Adjoint{#s574,#s573} where #s573<:(AbstractArray{T,2} where T) where #s574</b>) in LinearAlgebra at <a href=\"file:///Applications/Julia-1.0.app/Contents/Resources/julia/share/julia/stdlib/v1.0/LinearAlgebra/src/symmetric.jl\" target=\"_blank\">/Applications/Julia-1.0.app/Contents/Resources/julia/share/julia/stdlib/v1.0/LinearAlgebra/src/symmetric.jl:849</a></li> <li> *(A::<b>LinearAlgebra.Adjoint{#s576,#s575} where #s575<:(Union{Hermitian{T,S}, Hermitian{Complex{T},S}, Symmetric{T,S}} where S where T<:Real) where #s576</b>, B::<b>LinearAlgebra.Transpose{#s574,#s573} where #s573<:(AbstractArray{T,1} where T) where #s574</b>) in LinearAlgebra at <a href=\"file:///Applications/Julia-1.0.app/Contents/Resources/julia/share/julia/stdlib/v1.0/LinearAlgebra/src/symmetric.jl\" target=\"_blank\">/Applications/Julia-1.0.app/Contents/Resources/julia/share/julia/stdlib/v1.0/LinearAlgebra/src/symmetric.jl:850</a></li> <li> *(A::<b>LinearAlgebra.Adjoint{#s576,#s575} where #s575<:(Union{Hermitian{T,S}, Hermitian{Complex{T},S}, Symmetric{T,S}} where S where T<:Real) where #s576</b>, B::<b>LinearAlgebra.Transpose{#s574,#s573} where #s573<:(AbstractArray{T,2} where T) where #s574</b>) in LinearAlgebra at <a href=\"file:///Applications/Julia-1.0.app/Contents/Resources/julia/share/julia/stdlib/v1.0/LinearAlgebra/src/symmetric.jl\" target=\"_blank\">/Applications/Julia-1.0.app/Contents/Resources/julia/share/julia/stdlib/v1.0/LinearAlgebra/src/symmetric.jl:851</a></li> <li> *(adjA::<b>LinearAlgebra.Adjoint{#s576,#s575} where #s575<:(Union{Hermitian{T,S}, Hermitian{Complex{T},S}, Symmetric{T,S}} where S where T<:Real) where #s576</b>, B::<b>LinearAlgebra.Diagonal</b>) in LinearAlgebra at <a href=\"file:///Applications/Julia-1.0.app/Contents/Resources/julia/share/julia/stdlib/v1.0/LinearAlgebra/src/diagonal.jl\" target=\"_blank\">/Applications/Julia-1.0.app/Contents/Resources/julia/share/julia/stdlib/v1.0/LinearAlgebra/src/diagonal.jl:289</a></li> <li> *(A::<b>LinearAlgebra.Adjoint{#s576,#s575} where #s575<:(Union{Hermitian{T,S}, Hermitian{Complex{T},S}, Symmetric{T,S}} where S where T<:Real) where #s576</b>, B::<b>LinearAlgebra.Adjoint{#s574,#s573} where #s573<:LinearAlgebra.AbstractRotation where #s574</b>) in LinearAlgebra at <a href=\"file:///Applications/Julia-1.0.app/Contents/Resources/julia/share/julia/stdlib/v1.0/LinearAlgebra/src/givens.jl\" target=\"_blank\">/Applications/Julia-1.0.app/Contents/Resources/julia/share/julia/stdlib/v1.0/LinearAlgebra/src/givens.jl:394</a></li> <li> *(adjA::<b>LinearAlgebra.Adjoint{#s576,#s575} where #s575<:(Union{Hermitian{T,S}, Hermitian{Complex{T},S}, Symmetric{T,S}} where S where T<:Real) where #s576</b>, B::<b>AbstractArray{T,1} where T</b>) in LinearAlgebra at <a href=\"file:///Applications/Julia-1.0.app/Contents/Resources/julia/share/julia/stdlib/v1.0/LinearAlgebra/src/symmetric.jl\" target=\"_blank\">/Applications/Julia-1.0.app/Contents/Resources/julia/share/julia/stdlib/v1.0/LinearAlgebra/src/symmetric.jl:425</a></li> <li> *(A::<b>LinearAlgebra.Adjoint{#s576,#s575} where #s575<:(AbstractArray{T,1} where T) where #s576</b>, B::<b>LinearAlgebra.Transpose{#s574,#s573} where #s573<:(Union{Hermitian{T,S}, Symmetric{T,S}, Symmetric{Complex{T},S}} where S where T<:Real) where #s574</b>) in LinearAlgebra at <a href=\"file:///Applications/Julia-1.0.app/Contents/Resources/julia/share/julia/stdlib/v1.0/LinearAlgebra/src/symmetric.jl\" target=\"_blank\">/Applications/Julia-1.0.app/Contents/Resources/julia/share/julia/stdlib/v1.0/LinearAlgebra/src/symmetric.jl:841</a></li> <li> *(D::<b>LinearAlgebra.Adjoint{#s576,#s575} where #s575<:LinearAlgebra.Diagonal where #s576</b>, B::<b>LinearAlgebra.Diagonal</b>) in LinearAlgebra at <a href=\"file:///Applications/Julia-1.0.app/Contents/Resources/julia/share/julia/stdlib/v1.0/LinearAlgebra/src/diagonal.jl\" target=\"_blank\">/Applications/Julia-1.0.app/Contents/Resources/julia/share/julia/stdlib/v1.0/LinearAlgebra/src/diagonal.jl:212</a></li> <li> *(x::<b>LinearAlgebra.Adjoint{#s576,#s575} where #s575<:(AbstractArray{T,1} where T) where #s576</b>, D::<b>LinearAlgebra.Diagonal</b>) in LinearAlgebra at <a href=\"file:///Applications/Julia-1.0.app/Contents/Resources/julia/share/julia/stdlib/v1.0/LinearAlgebra/src/diagonal.jl\" target=\"_blank\">/Applications/Julia-1.0.app/Contents/Resources/julia/share/julia/stdlib/v1.0/LinearAlgebra/src/diagonal.jl:508</a></li> <li> *(x::<b>LinearAlgebra.Adjoint{#s576,#s575} where #s575<:(AbstractArray{T,1} where T) where #s576</b>, D::<b>LinearAlgebra.Diagonal</b>, y::<b>AbstractArray{T,1} where T</b>) in LinearAlgebra at <a href=\"file:///Applications/Julia-1.0.app/Contents/Resources/julia/share/julia/stdlib/v1.0/LinearAlgebra/src/diagonal.jl\" target=\"_blank\">/Applications/Julia-1.0.app/Contents/Resources/julia/share/julia/stdlib/v1.0/LinearAlgebra/src/diagonal.jl:509</a></li> <li> *<i>{T}</i>(adjA::<b>LinearAlgebra.Adjoint{#s576,#s575} where #s575<:(LinearAlgebra.Bidiagonal{T,V} where V<:AbstractArray{T,1}) where #s576</b>, B::<b>AbstractArray{T,1}</b>) in LinearAlgebra at <a href=\"file:///Applications/Julia-1.0.app/Contents/Resources/julia/share/julia/stdlib/v1.0/LinearAlgebra/src/bidiag.jl\" target=\"_blank\">/Applications/Julia-1.0.app/Contents/Resources/julia/share/julia/stdlib/v1.0/LinearAlgebra/src/bidiag.jl:496</a></li> <li> *(A::<b>LinearAlgebra.Adjoint{#s576,#s575} where #s575<:(AbstractArray{T,1} where T) where #s576</b>, B::<b>LinearAlgebra.Adjoint{#s574,#s573} where #s573<:LinearAlgebra.AbstractRotation where #s574</b>) in LinearAlgebra at <a href=\"file:///Applications/Julia-1.0.app/Contents/Resources/julia/share/julia/stdlib/v1.0/LinearAlgebra/src/givens.jl\" target=\"_blank\">/Applications/Julia-1.0.app/Contents/Resources/julia/share/julia/stdlib/v1.0/LinearAlgebra/src/givens.jl:387</a></li> <li> *(adjA::<b>LinearAlgebra.Adjoint{#s576,#s575} where #s575<:SparseArrays.SparseMatrixCSC where #s576</b>, x::<b>SparseArrays.AbstractSparseArray{Tv,Ti,1} where Ti where Tv</b>) in SparseArrays at <a href=\"file:///Applications/Julia-1.0.app/Contents/Resources/julia/share/julia/stdlib/v1.0/SparseArrays/src/sparsevector.jl\" target=\"_blank\">/Applications/Julia-1.0.app/Contents/Resources/julia/share/julia/stdlib/v1.0/SparseArrays/src/sparsevector.jl:1676</a></li> <li> *<i>{Tv, Ti}</i>(A::<b>LinearAlgebra.Adjoint{#s576,#s575} where #s575<:SparseArrays.SparseMatrixCSC{Tv,Ti} where #s576</b>, B::<b>SparseArrays.SparseMatrixCSC{Tv,Ti}</b>) in SparseArrays at <a href=\"file:///Applications/Julia-1.0.app/Contents/Resources/julia/share/julia/stdlib/v1.0/SparseArrays/src/linalg.jl\" target=\"_blank\">/Applications/Julia-1.0.app/Contents/Resources/julia/share/julia/stdlib/v1.0/SparseArrays/src/linalg.jl:145</a></li> <li> *<i>{TvA, TiA, TvB, TiB}</i>(adjA::<b>LinearAlgebra.Adjoint{#s576,#s575} where #s575<:SparseArrays.SparseMatrixCSC{TvA,TiA} where #s576</b>, B::<b>SparseArrays.SparseMatrixCSC{TvB,TiB}</b>) in SparseArrays at <a href=\"file:///Applications/Julia-1.0.app/Contents/Resources/julia/share/julia/stdlib/v1.0/SparseArrays/src/linalg.jl\" target=\"_blank\">/Applications/Julia-1.0.app/Contents/Resources/julia/share/julia/stdlib/v1.0/SparseArrays/src/linalg.jl:15</a></li> <li> *<i>{TA, S, Tx}</i>(adjA::<b>LinearAlgebra.Adjoint{#s576,#s575} where #s575<:SparseArrays.SparseMatrixCSC{TA,S} where #s576</b>, x::<b>Union{DenseArray{Tx,1}, ReinterpretArray{Tx,1,S,A} where S where A<:Union{SubArray{T,N,A,I,true} where I<:Tuple{AbstractUnitRange,Vararg{Any,N} where N} where A<:DenseArray where N where T, DenseArray}, ReshapedArray{Tx,1,A,MI} where MI<:Tuple{Vararg{SignedMultiplicativeInverse{Int64},N} where N} where A<:Union{ReinterpretArray{T,N,S,A} where S where A<:Union{SubArray{T,N,A,I,true} where I<:Tuple{AbstractUnitRange,Vararg{Any,N} where N} where A<:DenseArray where N where T, DenseArray} where N where T, SubArray{T,N,A,I,true} where I<:Tuple{AbstractUnitRange,Vararg{Any,N} where N} where A<:DenseArray where N where T, DenseArray}, SubArray{Tx,1,A,I,L} where L where I<:Tuple{Vararg{Union{Int64, AbstractRange{Int64}, AbstractCartesianIndex},N} where N} where A<:Union{ReinterpretArray{T,N,S,A} where S where A<:Union{SubArray{T,N,A,I,true} where I<:Tuple{AbstractUnitRange,Vararg{Any,N} where N} where A<:DenseArray where N where T, DenseArray} where N where T, ReshapedArray{T,N,A,MI} where MI<:Tuple{Vararg{SignedMultiplicativeInverse{Int64},N} where N} where A<:Union{ReinterpretArray{T,N,S,A} where S where A<:Union{SubArray{T,N,A,I,true} where I<:Tuple{AbstractUnitRange,Vararg{Any,N} where N} where A<:DenseArray where N where T, DenseArray} where N where T, SubArray{T,N,A,I,true} where I<:Tuple{AbstractUnitRange,Vararg{Any,N} where N} where A<:DenseArray where N where T, DenseArray} where N where T, DenseArray}}</b>) in SparseArrays at <a href=\"file:///Applications/Julia-1.0.app/Contents/Resources/julia/share/julia/stdlib/v1.0/SparseArrays/src/linalg.jl\" target=\"_blank\">/Applications/Julia-1.0.app/Contents/Resources/julia/share/julia/stdlib/v1.0/SparseArrays/src/linalg.jl:77</a></li> <li> *<i>{TA, S, Tx}</i>(adjA::<b>LinearAlgebra.Adjoint{#s576,#s575} where #s575<:SparseArrays.SparseMatrixCSC{TA,S} where #s576</b>, B::<b>Union{DenseArray{Tx,2}, ReinterpretArray{Tx,2,S,A} where S where A<:Union{SubArray{T,N,A,I,true} where I<:Tuple{AbstractUnitRange,Vararg{Any,N} where N} where A<:DenseArray where N where T, DenseArray}, ReshapedArray{Tx,2,A,MI} where MI<:Tuple{Vararg{SignedMultiplicativeInverse{Int64},N} where N} where A<:Union{ReinterpretArray{T,N,S,A} where S where A<:Union{SubArray{T,N,A,I,true} where I<:Tuple{AbstractUnitRange,Vararg{Any,N} where N} where A<:DenseArray where N where T, DenseArray} where N where T, SubArray{T,N,A,I,true} where I<:Tuple{AbstractUnitRange,Vararg{Any,N} where N} where A<:DenseArray where N where T, DenseArray}, SubArray{Tx,2,A,I,L} where L where I<:Tuple{Vararg{Union{Int64, AbstractRange{Int64}, AbstractCartesianIndex},N} where N} where A<:Union{ReinterpretArray{T,N,S,A} where S where A<:Union{SubArray{T,N,A,I,true} where I<:Tuple{AbstractUnitRange,Vararg{Any,N} where N} where A<:DenseArray where N where T, DenseArray} where N where T, ReshapedArray{T,N,A,MI} where MI<:Tuple{Vararg{SignedMultiplicativeInverse{Int64},N} where N} where A<:Union{ReinterpretArray{T,N,S,A} where S where A<:Union{SubArray{T,N,A,I,true} where I<:Tuple{AbstractUnitRange,Vararg{Any,N} where N} where A<:DenseArray where N where T, DenseArray} where N where T, SubArray{T,N,A,I,true} where I<:Tuple{AbstractUnitRange,Vararg{Any,N} where N} where A<:DenseArray where N where T, DenseArray} where N where T, DenseArray}}</b>) in SparseArrays at <a href=\"file:///Applications/Julia-1.0.app/Contents/Resources/julia/share/julia/stdlib/v1.0/SparseArrays/src/linalg.jl\" target=\"_blank\">/Applications/Julia-1.0.app/Contents/Resources/julia/share/julia/stdlib/v1.0/SparseArrays/src/linalg.jl:79</a></li> <li> *(adjA::<b>LinearAlgebra.Adjoint{#s576,#s575} where #s575<:SuiteSparse.CHOLMOD.Sparse where #s576</b>, B::<b>SuiteSparse.CHOLMOD.Sparse</b>) in SuiteSparse.CHOLMOD at <a href=\"file:///Applications/Julia-1.0.app/Contents/Resources/julia/share/julia/stdlib/v1.0/SuiteSparse/src/cholmod.jl\" target=\"_blank\">/Applications/Julia-1.0.app/Contents/Resources/julia/share/julia/stdlib/v1.0/SuiteSparse/src/cholmod.jl:1332</a></li> <li> *(adjA::<b>LinearAlgebra.Adjoint{#s576,#s575} where #s575<:SuiteSparse.CHOLMOD.Sparse where #s576</b>, B::<b>SuiteSparse.CHOLMOD.Dense</b>) in SuiteSparse.CHOLMOD at <a href=\"file:///Applications/Julia-1.0.app/Contents/Resources/julia/share/julia/stdlib/v1.0/SuiteSparse/src/cholmod.jl\" target=\"_blank\">/Applications/Julia-1.0.app/Contents/Resources/julia/share/julia/stdlib/v1.0/SuiteSparse/src/cholmod.jl:1341</a></li> <li> *(adjA::<b>LinearAlgebra.Adjoint{#s576,#s575} where #s575<:SuiteSparse.CHOLMOD.Sparse where #s576</b>, B::<b>Union{Array{T,1}, Array{T,2}} where T</b>) in SuiteSparse.CHOLMOD at <a href=\"file:///Applications/Julia-1.0.app/Contents/Resources/julia/share/julia/stdlib/v1.0/SuiteSparse/src/cholmod.jl\" target=\"_blank\">/Applications/Julia-1.0.app/Contents/Resources/julia/share/julia/stdlib/v1.0/SuiteSparse/src/cholmod.jl:1343</a></li> <li> *(u::<b>LinearAlgebra.Adjoint{T,#s576} where #s576<:(AbstractArray{T,1} where T) where T</b>, v::<b>AbstractArray{T,1} where T</b>) in LinearAlgebra at <a href=\"file:///Applications/Julia-1.0.app/Contents/Resources/julia/share/julia/stdlib/v1.0/LinearAlgebra/src/adjtrans.jl\" target=\"_blank\">/Applications/Julia-1.0.app/Contents/Resources/julia/share/julia/stdlib/v1.0/LinearAlgebra/src/adjtrans.jl:197</a></li> <li> *<i>{T<:Real}</i>(u::<b>LinearAlgebra.Transpose{T,#s576} where #s576<:(AbstractArray{T,1} where T)</b>, v::<b>AbstractArray{T,1}</b>) in LinearAlgebra at <a href=\"file:///Applications/Julia-1.0.app/Contents/Resources/julia/share/julia/stdlib/v1.0/LinearAlgebra/src/adjtrans.jl\" target=\"_blank\">/Applications/Julia-1.0.app/Contents/Resources/julia/share/julia/stdlib/v1.0/LinearAlgebra/src/adjtrans.jl:198</a></li> <li> *(u::<b>LinearAlgebra.Transpose{T,#s576} where #s576<:(AbstractArray{T,1} where T) where T</b>, v::<b>LinearAlgebra.Transpose{#s576,#s575} where #s575<:(LinearAlgebra.Adjoint{T,#s576} where #s576<:(AbstractArray{T,1} where T) where T) where #s576</b>) in LinearAlgebra at <a href=\"file:///Applications/Julia-1.0.app/Contents/Resources/julia/share/julia/stdlib/v1.0/LinearAlgebra/src/adjtrans.jl\" target=\"_blank\">/Applications/Julia-1.0.app/Contents/Resources/julia/share/julia/stdlib/v1.0/LinearAlgebra/src/adjtrans.jl:217</a></li> <li> *(A::<b>LinearAlgebra.Transpose{#s576,#s575} where #s575<:LinearAlgebra.AbstractTriangular where #s576</b>, B::<b>LinearAlgebra.Transpose{#s574,#s573} where #s573<:LinearAlgebra.AbstractTriangular where #s574</b>) in LinearAlgebra at <a href=\"file:///Applications/Julia-1.0.app/Contents/Resources/julia/share/julia/stdlib/v1.0/LinearAlgebra/src/triangular.jl\" target=\"_blank\">/Applications/Julia-1.0.app/Contents/Resources/julia/share/julia/stdlib/v1.0/LinearAlgebra/src/triangular.jl:1970</a></li> <li> *(A::<b>LinearAlgebra.Transpose{#s576,#s575} where #s575<:(Union{Hermitian{T,S}, Symmetric{T,S}, Symmetric{Complex{T},S}} where S where T<:Real) where #s576</b>, B::<b>LinearAlgebra.Transpose{#s574,#s573} where #s573<:LinearAlgebra.AbstractTriangular where #s574</b>) in LinearAlgebra at <a href=\"file:///Applications/Julia-1.0.app/Contents/Resources/julia/share/julia/stdlib/v1.0/LinearAlgebra/src/symmetric.jl\" target=\"_blank\">/Applications/Julia-1.0.app/Contents/Resources/julia/share/julia/stdlib/v1.0/LinearAlgebra/src/symmetric.jl:865</a></li> <li> *(v::<b>LinearAlgebra.Transpose{T,#s576} where #s576<:(AbstractArray{T,1} where T) where T</b>, A::<b>LinearAlgebra.Transpose{#s576,#s575} where #s575<:LinearAlgebra.AbstractTriangular where #s576</b>) in LinearAlgebra at <a href=\"file:///Applications/Julia-1.0.app/Contents/Resources/julia/share/julia/stdlib/v1.0/LinearAlgebra/src/triangular.jl\" target=\"_blank\">/Applications/Julia-1.0.app/Contents/Resources/julia/share/julia/stdlib/v1.0/LinearAlgebra/src/triangular.jl:1955</a></li> <li> *(A::<b>LinearAlgebra.Transpose{#s576,#s575} where #s575<:LinearAlgebra.AbstractTriangular where #s576</b>, B::<b>LinearAlgebra.Transpose{#s574,#s573} where #s573<:(Union{Hermitian{T,S}, Symmetric{T,S}, Symmetric{Complex{T},S}} where S where T<:Real) where #s574</b>) in LinearAlgebra at <a href=\"file:///Applications/Julia-1.0.app/Contents/Resources/julia/share/julia/stdlib/v1.0/LinearAlgebra/src/symmetric.jl\" target=\"_blank\">/Applications/Julia-1.0.app/Contents/Resources/julia/share/julia/stdlib/v1.0/LinearAlgebra/src/symmetric.jl:861</a></li> <li> *(A::<b>LinearAlgebra.Transpose{#s576,#s575} where #s575<:LinearAlgebra.AbstractTriangular where #s576</b>, B::<b>LinearAlgebra.Transpose{#s574,#s573} where #s573<:(AbstractArray{T,1} where T) where #s574</b>) in LinearAlgebra at <a href=\"file:///Applications/Julia-1.0.app/Contents/Resources/julia/share/julia/stdlib/v1.0/LinearAlgebra/src/triangular.jl\" target=\"_blank\">/Applications/Julia-1.0.app/Contents/Resources/julia/share/julia/stdlib/v1.0/LinearAlgebra/src/triangular.jl:2487</a></li> <li> *(transA::<b>LinearAlgebra.Transpose{#s576,#s575} where #s575<:(Union{Hermitian{T,S}, Symmetric{T,S}, Symmetric{Complex{T},S}} where S where T<:Real) where #s576</b>, transB::<b>LinearAlgebra.Transpose{#s574,#s573} where #s573<:(Union{Hermitian{T,S}, Symmetric{T,S}, Symmetric{Complex{T},S}} where S where T<:Real) where #s574</b>) in LinearAlgebra at <a href=\"file:///Applications/Julia-1.0.app/Contents/Resources/julia/share/julia/stdlib/v1.0/LinearAlgebra/src/symmetric.jl\" target=\"_blank\">/Applications/Julia-1.0.app/Contents/Resources/julia/share/julia/stdlib/v1.0/LinearAlgebra/src/symmetric.jl:430</a></li> <li> *(transA::<b>LinearAlgebra.Transpose{#s576,#s575} where #s575<:(Union{Hermitian{T,S}, Symmetric{T,S}, Symmetric{Complex{T},S}} where S where T<:Real) where #s576</b>, transB::<b>LinearAlgebra.Transpose{#s574,#s573} where #s573<:(Union{Hermitian{T,S}, Hermitian{Complex{T},S}, Symmetric{T,S}} where S where T<:Real) where #s574</b>) in LinearAlgebra at <a href=\"file:///Applications/Julia-1.0.app/Contents/Resources/julia/share/julia/stdlib/v1.0/LinearAlgebra/src/symmetric.jl\" target=\"_blank\">/Applications/Julia-1.0.app/Contents/Resources/julia/share/julia/stdlib/v1.0/LinearAlgebra/src/symmetric.jl:431</a></li> <li> *(transA::<b>LinearAlgebra.Transpose{#s576,#s575} where #s575<:(Union{Hermitian{T,S}, Hermitian{Complex{T},S}, Symmetric{T,S}} where S where T<:Real) where #s576</b>, transB::<b>LinearAlgebra.Transpose{#s574,#s573} where #s573<:(Union{Hermitian{T,S}, Symmetric{T,S}, Symmetric{Complex{T},S}} where S where T<:Real) where #s574</b>) in LinearAlgebra at <a href=\"file:///Applications/Julia-1.0.app/Contents/Resources/julia/share/julia/stdlib/v1.0/LinearAlgebra/src/symmetric.jl\" target=\"_blank\">/Applications/Julia-1.0.app/Contents/Resources/julia/share/julia/stdlib/v1.0/LinearAlgebra/src/symmetric.jl:432</a></li> <li> *(transD::<b>LinearAlgebra.Transpose{#s576,#s575} where #s575<:LinearAlgebra.Diagonal where #s576</b>, transA::<b>LinearAlgebra.Transpose{#s574,#s573} where #s573<:(Union{Hermitian{T,S}, Symmetric{T,S}, Symmetric{Complex{T},S}} where S where T<:Real) where #s574</b>) in LinearAlgebra at <a href=\"file:///Applications/Julia-1.0.app/Contents/Resources/julia/share/julia/stdlib/v1.0/LinearAlgebra/src/diagonal.jl\" target=\"_blank\">/Applications/Julia-1.0.app/Contents/Resources/julia/share/julia/stdlib/v1.0/LinearAlgebra/src/diagonal.jl:291</a></li> <li> *(A::<b>LinearAlgebra.Transpose{#s576,#s575} where #s575<:(AbstractArray{T,1} where T) where #s576</b>, B::<b>LinearAlgebra.Transpose{#s574,#s573} where #s573<:(Union{Hermitian{T,S}, Symmetric{T,S}, Symmetric{Complex{T},S}} where S where T<:Real) where #s574</b>) in LinearAlgebra at <a href=\"file:///Applications/Julia-1.0.app/Contents/Resources/julia/share/julia/stdlib/v1.0/LinearAlgebra/src/symmetric.jl\" target=\"_blank\">/Applications/Julia-1.0.app/Contents/Resources/julia/share/julia/stdlib/v1.0/LinearAlgebra/src/symmetric.jl:845</a></li> <li> *(transA::<b>LinearAlgebra.Transpose{#s576,#s575} where #s575<:(Union{Hermitian{T,S}, Symmetric{T,S}, Symmetric{Complex{T},S}} where S where T<:Real) where #s576</b>, transD::<b>LinearAlgebra.Transpose{#s574,#s573} where #s573<:LinearAlgebra.Diagonal where #s574</b>) in LinearAlgebra at <a href=\"file:///Applications/Julia-1.0.app/Contents/Resources/julia/share/julia/stdlib/v1.0/LinearAlgebra/src/diagonal.jl\" target=\"_blank\">/Applications/Julia-1.0.app/Contents/Resources/julia/share/julia/stdlib/v1.0/LinearAlgebra/src/diagonal.jl:290</a></li> <li> *(A::<b>LinearAlgebra.Transpose{#s576,#s575} where #s575<:(Union{Hermitian{T,S}, Symmetric{T,S}, Symmetric{Complex{T},S}} where S where T<:Real) where #s576</b>, B::<b>LinearAlgebra.Transpose{#s574,#s573} where #s573<:(AbstractArray{T,1} where T) where #s574</b>) in LinearAlgebra at <a href=\"file:///Applications/Julia-1.0.app/Contents/Resources/julia/share/julia/stdlib/v1.0/LinearAlgebra/src/symmetric.jl\" target=\"_blank\">/Applications/Julia-1.0.app/Contents/Resources/julia/share/julia/stdlib/v1.0/LinearAlgebra/src/symmetric.jl:854</a></li> <li> *(D::<b>LinearAlgebra.Transpose{#s576,#s575} where #s575<:LinearAlgebra.Diagonal where #s576</b>, B::<b>LinearAlgebra.Transpose{#s574,#s573} where #s573<:LinearAlgebra.Diagonal where #s574</b>) in LinearAlgebra at <a href=\"file:///Applications/Julia-1.0.app/Contents/Resources/julia/share/julia/stdlib/v1.0/LinearAlgebra/src/diagonal.jl\" target=\"_blank\">/Applications/Julia-1.0.app/Contents/Resources/julia/share/julia/stdlib/v1.0/LinearAlgebra/src/diagonal.jl:251</a></li> <li> *<i>{Tv, Ti}</i>(A::<b>LinearAlgebra.Transpose{#s576,#s575} where #s575<:SparseArrays.SparseMatrixCSC{Tv,Ti} where #s576</b>, B::<b>LinearAlgebra.Transpose{#s574,#s573} where #s573<:SparseArrays.SparseMatrixCSC{Tv,Ti} where #s574</b>) in SparseArrays at <a href=\"file:///Applications/Julia-1.0.app/Contents/Resources/julia/share/julia/stdlib/v1.0/SparseArrays/src/linalg.jl\" target=\"_blank\">/Applications/Julia-1.0.app/Contents/Resources/julia/share/julia/stdlib/v1.0/SparseArrays/src/linalg.jl:147</a></li> <li> *<i>{TvA, TiA, TvB, TiB}</i>(transA::<b>LinearAlgebra.Transpose{#s576,#s575} where #s575<:SparseArrays.SparseMatrixCSC{TvA,TiA} where #s576</b>, transB::<b>LinearAlgebra.Transpose{#s574,#s573} where #s573<:SparseArrays.SparseMatrixCSC{TvB,TiB} where #s574</b>) in SparseArrays at <a href=\"file:///Applications/Julia-1.0.app/Contents/Resources/julia/share/julia/stdlib/v1.0/SparseArrays/src/linalg.jl\" target=\"_blank\">/Applications/Julia-1.0.app/Contents/Resources/julia/share/julia/stdlib/v1.0/SparseArrays/src/linalg.jl:17</a></li> <li> *(u::<b>LinearAlgebra.Transpose{T,#s576} where #s576<:(AbstractArray{T,1} where T) where T</b>, v::<b>LinearAlgebra.Transpose{T,#s576} where #s576<:(AbstractArray{T,1} where T) where T</b>) in LinearAlgebra at <a href=\"file:///Applications/Julia-1.0.app/Contents/Resources/julia/share/julia/stdlib/v1.0/LinearAlgebra/src/adjtrans.jl\" target=\"_blank\">/Applications/Julia-1.0.app/Contents/Resources/julia/share/julia/stdlib/v1.0/LinearAlgebra/src/adjtrans.jl:209</a></li> <li> *(u::<b>LinearAlgebra.Transpose{T,#s576} where #s576<:(AbstractArray{T,1} where T) where T</b>, v::<b>LinearAlgebra.Adjoint{#s576,#s575} where #s575<:(LinearAlgebra.Transpose{T,#s576} where #s576<:(AbstractArray{T,1} where T) where T) where #s576</b>) in LinearAlgebra at <a href=\"file:///Applications/Julia-1.0.app/Contents/Resources/julia/share/julia/stdlib/v1.0/LinearAlgebra/src/adjtrans.jl\" target=\"_blank\">/Applications/Julia-1.0.app/Contents/Resources/julia/share/julia/stdlib/v1.0/LinearAlgebra/src/adjtrans.jl:213</a></li> <li> *<i>{T<:Union{Complex{Float32}, Complex{Float64}}}</i>(transx::<b>LinearAlgebra.Transpose{#s576,#s575} where #s575<:Union{DenseArray{T,1}, ReinterpretArray{T,1,S,A} where S where A<:Union{SubArray{T,N,A,I,true} where I<:Tuple{AbstractUnitRange,Vararg{Any,N} where N} where A<:DenseArray where N where T, DenseArray}, ReshapedArray{T,1,A,MI} where MI<:Tuple{Vararg{SignedMultiplicativeInverse{Int64},N} where N} where A<:Union{ReinterpretArray{T,N,S,A} where S where A<:Union{SubArray{T,N,A,I,true} where I<:Tuple{AbstractUnitRange,Vararg{Any,N} where N} where A<:DenseArray where N where T, DenseArray} where N where T, SubArray{T,N,A,I,true} where I<:Tuple{AbstractUnitRange,Vararg{Any,N} where N} where A<:DenseArray where N where T, DenseArray}, SubArray{T,1,A,I,L} where L where I<:Tuple{Vararg{Union{Int64, AbstractRange{Int64}, AbstractCartesianIndex},N} where N} where A<:Union{ReinterpretArray{T,N,S,A} where S where A<:Union{SubArray{T,N,A,I,true} where I<:Tuple{AbstractUnitRange,Vararg{Any,N} where N} where A<:DenseArray where N where T, DenseArray} where N where T, ReshapedArray{T,N,A,MI} where MI<:Tuple{Vararg{SignedMultiplicativeInverse{Int64},N} where N} where A<:Union{ReinterpretArray{T,N,S,A} where S where A<:Union{SubArray{T,N,A,I,true} where I<:Tuple{AbstractUnitRange,Vararg{Any,N} where N} where A<:DenseArray where N where T, DenseArray} where N where T, SubArray{T,N,A,I,true} where I<:Tuple{AbstractUnitRange,Vararg{Any,N} where N} where A<:DenseArray where N where T, DenseArray} where N where T, DenseArray}} where #s576</b>, y::<b>Union{DenseArray{T,1}, ReinterpretArray{T,1,S,A} where S where A<:Union{SubArray{T,N,A,I,true} where I<:Tuple{AbstractUnitRange,Vararg{Any,N} where N} where A<:DenseArray where N where T, DenseArray}, ReshapedArray{T,1,A,MI} where MI<:Tuple{Vararg{SignedMultiplicativeInverse{Int64},N} where N} where A<:Union{ReinterpretArray{T,N,S,A} where S where A<:Union{SubArray{T,N,A,I,true} where I<:Tuple{AbstractUnitRange,Vararg{Any,N} where N} where A<:DenseArray where N where T, DenseArray} where N where T, SubArray{T,N,A,I,true} where I<:Tuple{AbstractUnitRange,Vararg{Any,N} where N} where A<:DenseArray where N where T, DenseArray}, SubArray{T,1,A,I,L} where L where I<:Tuple{Vararg{Union{Int64, AbstractRange{Int64}, AbstractCartesianIndex},N} where N} where A<:Union{ReinterpretArray{T,N,S,A} where S where A<:Union{SubArray{T,N,A,I,true} where I<:Tuple{AbstractUnitRange,Vararg{Any,N} where N} where A<:DenseArray where N where T, DenseArray} where N where T, ReshapedArray{T,N,A,MI} where MI<:Tuple{Vararg{SignedMultiplicativeInverse{Int64},N} where N} where A<:Union{ReinterpretArray{T,N,S,A} where S where A<:Union{SubArray{T,N,A,I,true} where I<:Tuple{AbstractUnitRange,Vararg{Any,N} where N} where A<:DenseArray where N where T, DenseArray} where N where T, SubArray{T,N,A,I,true} where I<:Tuple{AbstractUnitRange,Vararg{Any,N} where N} where A<:DenseArray where N where T, DenseArray} where N where T, DenseArray}}</b>) in LinearAlgebra at <a href=\"file:///Applications/Julia-1.0.app/Contents/Resources/julia/share/julia/stdlib/v1.0/LinearAlgebra/src/matmul.jl\" target=\"_blank\">/Applications/Julia-1.0.app/Contents/Resources/julia/share/julia/stdlib/v1.0/LinearAlgebra/src/matmul.jl:39</a></li> <li> *<i>{T<:Union{Complex{Float32}, Complex{Float64}, Float32, Float64}, S}</i>(transA::<b>LinearAlgebra.Transpose{#s576,#s575} where #s575<:Union{DenseArray{T,2}, ReinterpretArray{T,2,S,A} where S where A<:Union{SubArray{T,N,A,I,true} where I<:Tuple{AbstractUnitRange,Vararg{Any,N} where N} where A<:DenseArray where N where T, DenseArray}, ReshapedArray{T,2,A,MI} where MI<:Tuple{Vararg{SignedMultiplicativeInverse{Int64},N} where N} where A<:Union{ReinterpretArray{T,N,S,A} where S where A<:Union{SubArray{T,N,A,I,true} where I<:Tuple{AbstractUnitRange,Vararg{Any,N} where N} where A<:DenseArray where N where T, DenseArray} where N where T, SubArray{T,N,A,I,true} where I<:Tuple{AbstractUnitRange,Vararg{Any,N} where N} where A<:DenseArray where N where T, DenseArray}, SubArray{T,2,A,I,L} where L where I<:Tuple{Vararg{Union{Int64, AbstractRange{Int64}, AbstractCartesianIndex},N} where N} where A<:Union{ReinterpretArray{T,N,S,A} where S where A<:Union{SubArray{T,N,A,I,true} where I<:Tuple{AbstractUnitRange,Vararg{Any,N} where N} where A<:DenseArray where N where T, DenseArray} where N where T, ReshapedArray{T,N,A,MI} where MI<:Tuple{Vararg{SignedMultiplicativeInverse{Int64},N} where N} where A<:Union{ReinterpretArray{T,N,S,A} where S where A<:Union{SubArray{T,N,A,I,true} where I<:Tuple{AbstractUnitRange,Vararg{Any,N} where N} where A<:DenseArray where N where T, DenseArray} where N where T, SubArray{T,N,A,I,true} where I<:Tuple{AbstractUnitRange,Vararg{Any,N} where N} where A<:DenseArray where N where T, DenseArray} where N where T, DenseArray}} where #s576</b>, x::<b>Union{DenseArray{S,1}, ReinterpretArray{S,1,S1,A} where S1 where A<:Union{SubArray{T,N,A,I,true} where I<:Tuple{AbstractUnitRange,Vararg{Any,N} where N} where A<:DenseArray where N where T, DenseArray}, ReshapedArray{S,1,A,MI} where MI<:Tuple{Vararg{SignedMultiplicativeInverse{Int64},N} where N} where A<:Union{ReinterpretArray{T,N,S,A} where S where A<:Union{SubArray{T,N,A,I,true} where I<:Tuple{AbstractUnitRange,Vararg{Any,N} where N} where A<:DenseArray where N where T, DenseArray} where N where T, SubArray{T,N,A,I,true} where I<:Tuple{AbstractUnitRange,Vararg{Any,N} where N} where A<:DenseArray where N where T, DenseArray}, SubArray{S,1,A,I,L} where L where I<:Tuple{Vararg{Union{Int64, AbstractRange{Int64}, AbstractCartesianIndex},N} where N} where A<:Union{ReinterpretArray{T,N,S,A} where S where A<:Union{SubArray{T,N,A,I,true} where I<:Tuple{AbstractUnitRange,Vararg{Any,N} where N} where A<:DenseArray where N where T, DenseArray} where N where T, ReshapedArray{T,N,A,MI} where MI<:Tuple{Vararg{SignedMultiplicativeInverse{Int64},N} where N} where A<:Union{ReinterpretArray{T,N,S,A} where S where A<:Union{SubArray{T,N,A,I,true} where I<:Tuple{AbstractUnitRange,Vararg{Any,N} where N} where A<:DenseArray where N where T, DenseArray} where N where T, SubArray{T,N,A,I,true} where I<:Tuple{AbstractUnitRange,Vararg{Any,N} where N} where A<:DenseArray where N where T, DenseArray} where N where T, DenseArray}}</b>) in LinearAlgebra at <a href=\"file:///Applications/Julia-1.0.app/Contents/Resources/julia/share/julia/stdlib/v1.0/LinearAlgebra/src/matmul.jl\" target=\"_blank\">/Applications/Julia-1.0.app/Contents/Resources/julia/share/julia/stdlib/v1.0/LinearAlgebra/src/matmul.jl:79</a></li> <li> *(xformA::<b>LinearAlgebra.Transpose{#s576,#s575} where #s575<:LinearAlgebra.UpperTriangular where #s576</b>, B::<b>LinearAlgebra.LowerTriangular</b>) in LinearAlgebra at <a href=\"file:///Applications/Julia-1.0.app/Contents/Resources/julia/share/julia/stdlib/v1.0/LinearAlgebra/src/triangular.jl\" target=\"_blank\">/Applications/Julia-1.0.app/Contents/Resources/julia/share/julia/stdlib/v1.0/LinearAlgebra/src/triangular.jl:1647</a></li> <li> *(xformA::<b>LinearAlgebra.Transpose{#s574,#s573} where #s573<:LinearAlgebra.UnitUpperTriangular where #s574</b>, B::<b>LinearAlgebra.LowerTriangular</b>) in LinearAlgebra at <a href=\"file:///Applications/Julia-1.0.app/Contents/Resources/julia/share/julia/stdlib/v1.0/LinearAlgebra/src/triangular.jl\" target=\"_blank\">/Applications/Julia-1.0.app/Contents/Resources/julia/share/julia/stdlib/v1.0/LinearAlgebra/src/triangular.jl:1656</a></li> <li> *(xformA::<b>LinearAlgebra.Transpose{#s572,#s571} where #s571<:LinearAlgebra.LowerTriangular where #s572</b>, B::<b>LinearAlgebra.UpperTriangular</b>) in LinearAlgebra at <a href=\"file:///Applications/Julia-1.0.app/Contents/Resources/julia/share/julia/stdlib/v1.0/LinearAlgebra/src/triangular.jl\" target=\"_blank\">/Applications/Julia-1.0.app/Contents/Resources/julia/share/julia/stdlib/v1.0/LinearAlgebra/src/triangular.jl:1665</a></li> <li> *(xformA::<b>LinearAlgebra.Transpose{#s570,#s569} where #s569<:LinearAlgebra.UnitLowerTriangular where #s570</b>, B::<b>LinearAlgebra.UpperTriangular</b>) in LinearAlgebra at <a href=\"file:///Applications/Julia-1.0.app/Contents/Resources/julia/share/julia/stdlib/v1.0/LinearAlgebra/src/triangular.jl\" target=\"_blank\">/Applications/Julia-1.0.app/Contents/Resources/julia/share/julia/stdlib/v1.0/LinearAlgebra/src/triangular.jl:1674</a></li> <li> *(transA::<b>LinearAlgebra.Transpose{#s576,#s575} where #s575<:LinearAlgebra.AbstractTriangular where #s576</b>, B::<b>LinearAlgebra.AbstractTriangular</b>) in LinearAlgebra at <a href=\"file:///Applications/Julia-1.0.app/Contents/Resources/julia/share/julia/stdlib/v1.0/LinearAlgebra/src/triangular.jl\" target=\"_blank\">/Applications/Julia-1.0.app/Contents/Resources/julia/share/julia/stdlib/v1.0/LinearAlgebra/src/triangular.jl:1772</a></li> <li> *(A::<b>LinearAlgebra.Transpose{#s576,#s575} where #s575<:LinearAlgebra.AbstractTriangular where #s576</b>, B::<b>LinearAlgebra.Transpose{#s574,#s573} where #s573<:(AbstractArray{T,2} where T) where #s574</b>) in LinearAlgebra at <a href=\"file:///Applications/Julia-1.0.app/Contents/Resources/julia/share/julia/stdlib/v1.0/LinearAlgebra/src/triangular.jl\" target=\"_blank\">/Applications/Julia-1.0.app/Contents/Resources/julia/share/julia/stdlib/v1.0/LinearAlgebra/src/triangular.jl:1971</a></li> <li> *(A::<b>LinearAlgebra.Transpose{#s576,#s575} where #s575<:LinearAlgebra.AbstractTriangular where #s576</b>, B::<b>LinearAlgebra.Adjoint{#s574,#s573} where #s573<:LinearAlgebra.AbstractTriangular where #s574</b>) in LinearAlgebra at <a href=\"file:///Applications/Julia-1.0.app/Contents/Resources/julia/share/julia/stdlib/v1.0/LinearAlgebra/src/triangular.jl\" target=\"_blank\">/Applications/Julia-1.0.app/Contents/Resources/julia/share/julia/stdlib/v1.0/LinearAlgebra/src/triangular.jl:2482</a></li> <li> *(A::<b>LinearAlgebra.Transpose{#s576,#s575} where #s575<:LinearAlgebra.AbstractTriangular where #s576</b>, B::<b>LinearAlgebra.Adjoint{#s574,#s573} where #s573<:(Union{Hermitian{T,S}, Hermitian{Complex{T},S}, Symmetric{T,S}} where S where T<:Real) where #s574</b>) in LinearAlgebra at <a href=\"file:///Applications/Julia-1.0.app/Contents/Resources/julia/share/julia/stdlib/v1.0/LinearAlgebra/src/symmetric.jl\" target=\"_blank\">/Applications/Julia-1.0.app/Contents/Resources/julia/share/julia/stdlib/v1.0/LinearAlgebra/src/symmetric.jl:860</a></li> <li> *(A::<b>LinearAlgebra.Transpose{#s576,#s575} where #s575<:LinearAlgebra.AbstractTriangular where #s576</b>, B::<b>LinearAlgebra.Adjoint{#s574,#s573} where #s573<:(AbstractArray{T,1} where T) where #s574</b>) in LinearAlgebra at <a href=\"file:///Applications/Julia-1.0.app/Contents/Resources/julia/share/julia/stdlib/v1.0/LinearAlgebra/src/triangular.jl\" target=\"_blank\">/Applications/Julia-1.0.app/Contents/Resources/julia/share/julia/stdlib/v1.0/LinearAlgebra/src/triangular.jl:2488</a></li> <li> *(A::<b>LinearAlgebra.Transpose{#s576,#s575} where #s575<:LinearAlgebra.AbstractTriangular where #s576</b>, B::<b>LinearAlgebra.Adjoint{#s574,#s573} where #s573<:(AbstractArray{T,2} where T) where #s574</b>) in LinearAlgebra at <a href=\"file:///Applications/Julia-1.0.app/Contents/Resources/julia/share/julia/stdlib/v1.0/LinearAlgebra/src/triangular.jl\" target=\"_blank\">/Applications/Julia-1.0.app/Contents/Resources/julia/share/julia/stdlib/v1.0/LinearAlgebra/src/triangular.jl:2489</a></li> <li> *(A::<b>LinearAlgebra.Transpose{#s576,#s575} where #s575<:LinearAlgebra.AbstractTriangular where #s576</b>, D::<b>LinearAlgebra.Diagonal</b>) in LinearAlgebra at <a href=\"file:///Applications/Julia-1.0.app/Contents/Resources/julia/share/julia/stdlib/v1.0/LinearAlgebra/src/diagonal.jl\" target=\"_blank\">/Applications/Julia-1.0.app/Contents/Resources/julia/share/julia/stdlib/v1.0/LinearAlgebra/src/diagonal.jl:222</a></li> <li> *(A::<b>LinearAlgebra.Transpose{#s576,#s575} where #s575<:LinearAlgebra.AbstractTriangular where #s576</b>, B::<b>LinearAlgebra.Adjoint{#s574,#s573} where #s573<:LinearAlgebra.AbstractRotation where #s574</b>) in LinearAlgebra at <a href=\"file:///Applications/Julia-1.0.app/Contents/Resources/julia/share/julia/stdlib/v1.0/LinearAlgebra/src/givens.jl\" target=\"_blank\">/Applications/Julia-1.0.app/Contents/Resources/julia/share/julia/stdlib/v1.0/LinearAlgebra/src/givens.jl:393</a></li> <li> *(transA::<b>LinearAlgebra.Transpose{#s574,#s573} where #s573<:LinearAlgebra.AbstractTriangular where #s574</b>, B::<b>AbstractArray{T,1} where T</b>) in LinearAlgebra at <a href=\"file:///Applications/Julia-1.0.app/Contents/Resources/julia/share/julia/stdlib/v1.0/LinearAlgebra/src/triangular.jl\" target=\"_blank\">/Applications/Julia-1.0.app/Contents/Resources/julia/share/julia/stdlib/v1.0/LinearAlgebra/src/triangular.jl:1813</a></li> <li> *(transA::<b>LinearAlgebra.Transpose{#s576,#s575} where #s575<:(Union{Hermitian{T,S}, Symmetric{T,S}, Symmetric{Complex{T},S}} where S where T<:Real) where #s576</b>, B::<b>LinearAlgebra.AbstractTriangular</b>) in LinearAlgebra at <a href=\"file:///Applications/Julia-1.0.app/Contents/Resources/julia/share/julia/stdlib/v1.0/LinearAlgebra/src/symmetric.jl\" target=\"_blank\">/Applications/Julia-1.0.app/Contents/Resources/julia/share/julia/stdlib/v1.0/LinearAlgebra/src/symmetric.jl:438</a></li> <li> *(A::<b>LinearAlgebra.Transpose{#s177,#s176} where #s176<:(Union{StaticArray{Tuple{#s12},T,1} where #s12, StaticArray{Tuple{#s13,#s14},T,2} where #s14 where #s13} where T) where #s177</b>, B::<b>LinearAlgebra.AbstractTriangular{#s175,#s174} where #s174<:(StaticArrays.StaticArray{Tuple{N,M},T,2} where T where M where N) where #s175</b>) in StaticArrays at <a href=\"file:///Users/abradley/.julia/packages/StaticArrays/mcf7t/src/triangular.jl\" target=\"_blank\">/Users/abradley/.julia/packages/StaticArrays/mcf7t/src/triangular.jl:13</a></li> <li> *(v::<b>LinearAlgebra.Transpose{T,#s576} where #s576<:(AbstractArray{T,1} where T) where T</b>, A::<b>LinearAlgebra.AbstractTriangular</b>) in LinearAlgebra at <a href=\"file:///Applications/Julia-1.0.app/Contents/Resources/julia/share/julia/stdlib/v1.0/LinearAlgebra/src/triangular.jl\" target=\"_blank\">/Applications/Julia-1.0.app/Contents/Resources/julia/share/julia/stdlib/v1.0/LinearAlgebra/src/triangular.jl:1953</a></li> <li> *(A::<b>LinearAlgebra.Transpose{#s576,#s575} where #s575<:(Union{Hermitian{T,S}, Symmetric{T,S}, Symmetric{Complex{T},S}} where S where T<:Real) where #s576</b>, B::<b>LinearAlgebra.Adjoint{#s574,#s573} where #s573<:LinearAlgebra.AbstractTriangular where #s574</b>) in LinearAlgebra at <a href=\"file:///Applications/Julia-1.0.app/Contents/Resources/julia/share/julia/stdlib/v1.0/LinearAlgebra/src/symmetric.jl\" target=\"_blank\">/Applications/Julia-1.0.app/Contents/Resources/julia/share/julia/stdlib/v1.0/LinearAlgebra/src/symmetric.jl:864</a></li> <li> *(A::<b>LinearAlgebra.Transpose{#s576,#s575} where #s575<:(AbstractArray{T,1} where T) where #s576</b>, B::<b>LinearAlgebra.Adjoint{#s574,#s573} where #s573<:LinearAlgebra.AbstractTriangular where #s574</b>) in LinearAlgebra at <a href=\"file:///Applications/Julia-1.0.app/Contents/Resources/julia/share/julia/stdlib/v1.0/LinearAlgebra/src/triangular.jl\" target=\"_blank\">/Applications/Julia-1.0.app/Contents/Resources/julia/share/julia/stdlib/v1.0/LinearAlgebra/src/triangular.jl:2493</a></li> <li> *(A::<b>LinearAlgebra.Transpose{#s576,#s575} where #s575<:(Union{Hermitian{T,S}, Symmetric{T,S}, Symmetric{Complex{T},S}} where S where T<:Real) where #s576</b>, B::<b>LinearAlgebra.Adjoint{#s574,#s573} where #s573<:(Union{Hermitian{T,S}, Hermitian{Complex{T},S}, Symmetric{T,S}} where S where T<:Real) where #s574</b>) in LinearAlgebra at <a href=\"file:///Applications/Julia-1.0.app/Contents/Resources/julia/share/julia/stdlib/v1.0/LinearAlgebra/src/symmetric.jl\" target=\"_blank\">/Applications/Julia-1.0.app/Contents/Resources/julia/share/julia/stdlib/v1.0/LinearAlgebra/src/symmetric.jl:837</a></li> <li> *(A::<b>LinearAlgebra.Transpose{#s576,#s575} where #s575<:(Union{Hermitian{T,S}, Symmetric{T,S}, Symmetric{Complex{T},S}} where S where T<:Real) where #s576</b>, B::<b>LinearAlgebra.Adjoint{#s574,#s573} where #s573<:(AbstractArray{T,1} where T) where #s574</b>) in LinearAlgebra at <a href=\"file:///Applications/Julia-1.0.app/Contents/Resources/julia/share/julia/stdlib/v1.0/LinearAlgebra/src/symmetric.jl\" target=\"_blank\">/Applications/Julia-1.0.app/Contents/Resources/julia/share/julia/stdlib/v1.0/LinearAlgebra/src/symmetric.jl:852</a></li> <li> *(A::<b>LinearAlgebra.Transpose{#s576,#s575} where #s575<:(Union{Hermitian{T,S}, Symmetric{T,S}, Symmetric{Complex{T},S}} where S where T<:Real) where #s576</b>, B::<b>LinearAlgebra.Adjoint{#s574,#s573} where #s573<:(AbstractArray{T,2} where T) where #s574</b>) in LinearAlgebra at <a href=\"file:///Applications/Julia-1.0.app/Contents/Resources/julia/share/julia/stdlib/v1.0/LinearAlgebra/src/symmetric.jl\" target=\"_blank\">/Applications/Julia-1.0.app/Contents/Resources/julia/share/julia/stdlib/v1.0/LinearAlgebra/src/symmetric.jl:853</a></li> <li> *(A::<b>LinearAlgebra.Transpose{#s576,#s575} where #s575<:(Union{Hermitian{T,S}, Symmetric{T,S}, Symmetric{Complex{T},S}} where S where T<:Real) where #s576</b>, B::<b>LinearAlgebra.Transpose{#s574,#s573} where #s573<:(AbstractArray{T,2} where T) where #s574</b>) in LinearAlgebra at <a href=\"file:///Applications/Julia-1.0.app/Contents/Resources/julia/share/julia/stdlib/v1.0/LinearAlgebra/src/symmetric.jl\" target=\"_blank\">/Applications/Julia-1.0.app/Contents/Resources/julia/share/julia/stdlib/v1.0/LinearAlgebra/src/symmetric.jl:855</a></li> <li> *(transA::<b>LinearAlgebra.Transpose{#s576,#s575} where #s575<:(Union{Hermitian{T,S}, Symmetric{T,S}, Symmetric{Complex{T},S}} where S where T<:Real) where #s576</b>, B::<b>LinearAlgebra.Diagonal</b>) in LinearAlgebra at <a href=\"file:///Applications/Julia-1.0.app/Contents/Resources/julia/share/julia/stdlib/v1.0/LinearAlgebra/src/diagonal.jl\" target=\"_blank\">/Applications/Julia-1.0.app/Contents/Resources/julia/share/julia/stdlib/v1.0/LinearAlgebra/src/diagonal.jl:287</a></li> <li> *(A::<b>LinearAlgebra.Transpose{#s576,#s575} where #s575<:(Union{Hermitian{T,S}, Symmetric{T,S}, Symmetric{Complex{T},S}} where S where T<:Real) where #s576</b>, B::<b>LinearAlgebra.Adjoint{#s574,#s573} where #s573<:LinearAlgebra.AbstractRotation where #s574</b>) in LinearAlgebra at <a href=\"file:///Applications/Julia-1.0.app/Contents/Resources/julia/share/julia/stdlib/v1.0/LinearAlgebra/src/givens.jl\" target=\"_blank\">/Applications/Julia-1.0.app/Contents/Resources/julia/share/julia/stdlib/v1.0/LinearAlgebra/src/givens.jl:395</a></li> <li> *(transA::<b>LinearAlgebra.Transpose{#s576,#s575} where #s575<:(Union{Hermitian{T,S}, Symmetric{T,S}, Symmetric{Complex{T},S}} where S where T<:Real) where #s576</b>, B::<b>AbstractArray{T,1} where T</b>) in LinearAlgebra at <a href=\"file:///Applications/Julia-1.0.app/Contents/Resources/julia/share/julia/stdlib/v1.0/LinearAlgebra/src/symmetric.jl\" target=\"_blank\">/Applications/Julia-1.0.app/Contents/Resources/julia/share/julia/stdlib/v1.0/LinearAlgebra/src/symmetric.jl:421</a></li> <li> *(A::<b>LinearAlgebra.Transpose{#s576,#s575} where #s575<:(AbstractArray{T,1} where T) where #s576</b>, B::<b>LinearAlgebra.Adjoint{#s574,#s573} where #s573<:(Union{Hermitian{T,S}, Hermitian{Complex{T},S}, Symmetric{T,S}} where S where T<:Real) where #s574</b>) in LinearAlgebra at <a href=\"file:///Applications/Julia-1.0.app/Contents/Resources/julia/share/julia/stdlib/v1.0/LinearAlgebra/src/symmetric.jl\" target=\"_blank\">/Applications/Julia-1.0.app/Contents/Resources/julia/share/julia/stdlib/v1.0/LinearAlgebra/src/symmetric.jl:843</a></li> <li> *(D::<b>LinearAlgebra.Transpose{#s576,#s575} where #s575<:LinearAlgebra.Diagonal where #s576</b>, B::<b>LinearAlgebra.Diagonal</b>) in LinearAlgebra at <a href=\"file:///Applications/Julia-1.0.app/Contents/Resources/julia/share/julia/stdlib/v1.0/LinearAlgebra/src/diagonal.jl\" target=\"_blank\">/Applications/Julia-1.0.app/Contents/Resources/julia/share/julia/stdlib/v1.0/LinearAlgebra/src/diagonal.jl:221</a></li> <li> *(x::<b>LinearAlgebra.Transpose{#s576,#s575} where #s575<:(AbstractArray{T,1} where T) where #s576</b>, D::<b>LinearAlgebra.Diagonal</b>) in LinearAlgebra at <a href=\"file:///Applications/Julia-1.0.app/Contents/Resources/julia/share/julia/stdlib/v1.0/LinearAlgebra/src/diagonal.jl\" target=\"_blank\">/Applications/Julia-1.0.app/Contents/Resources/julia/share/julia/stdlib/v1.0/LinearAlgebra/src/diagonal.jl:511</a></li> <li> *(x::<b>LinearAlgebra.Transpose{#s576,#s575} where #s575<:(AbstractArray{T,1} where T) where #s576</b>, D::<b>LinearAlgebra.Diagonal</b>, y::<b>AbstractArray{T,1} where T</b>) in LinearAlgebra at <a href=\"file:///Applications/Julia-1.0.app/Contents/Resources/julia/share/julia/stdlib/v1.0/LinearAlgebra/src/diagonal.jl\" target=\"_blank\">/Applications/Julia-1.0.app/Contents/Resources/julia/share/julia/stdlib/v1.0/LinearAlgebra/src/diagonal.jl:512</a></li> <li> *(A::<b>LinearAlgebra.Transpose{#s576,#s575} where #s575<:(AbstractArray{T,1} where T) where #s576</b>, B::<b>LinearAlgebra.Adjoint{#s574,#s573} where #s573<:LinearAlgebra.AbstractRotation where #s574</b>) in LinearAlgebra at <a href=\"file:///Applications/Julia-1.0.app/Contents/Resources/julia/share/julia/stdlib/v1.0/LinearAlgebra/src/givens.jl\" target=\"_blank\">/Applications/Julia-1.0.app/Contents/Resources/julia/share/julia/stdlib/v1.0/LinearAlgebra/src/givens.jl:389</a></li> <li> *<i>{Ta, Tx}</i>(transA::<b>LinearAlgebra.Transpose{#s576,#s575} where #s575<:Union{DenseArray{Ta,2}, ReinterpretArray{Ta,2,S,A} where S where A<:Union{SubArray{T,N,A,I,true} where I<:Tuple{AbstractUnitRange,Vararg{Any,N} where N} where A<:DenseArray where N where T, DenseArray}, ReshapedArray{Ta,2,A,MI} where MI<:Tuple{Vararg{SignedMultiplicativeInverse{Int64},N} where N} where A<:Union{ReinterpretArray{T,N,S,A} where S where A<:Union{SubArray{T,N,A,I,true} where I<:Tuple{AbstractUnitRange,Vararg{Any,N} where N} where A<:DenseArray where N where T, DenseArray} where N where T, SubArray{T,N,A,I,true} where I<:Tuple{AbstractUnitRange,Vararg{Any,N} where N} where A<:DenseArray where N where T, DenseArray}, SubArray{Ta,2,A,I,L} where L where I<:Tuple{Vararg{Union{Int64, AbstractRange{Int64}, AbstractCartesianIndex},N} where N} where A<:Union{ReinterpretArray{T,N,S,A} where S where A<:Union{SubArray{T,N,A,I,true} where I<:Tuple{AbstractUnitRange,Vararg{Any,N} where N} where A<:DenseArray where N where T, DenseArray} where N where T, ReshapedArray{T,N,A,MI} where MI<:Tuple{Vararg{SignedMultiplicativeInverse{Int64},N} where N} where A<:Union{ReinterpretArray{T,N,S,A} where S where A<:Union{SubArray{T,N,A,I,true} where I<:Tuple{AbstractUnitRange,Vararg{Any,N} where N} where A<:DenseArray where N where T, DenseArray} where N where T, SubArray{T,N,A,I,true} where I<:Tuple{AbstractUnitRange,Vararg{Any,N} where N} where A<:DenseArray where N where T, DenseArray} where N where T, DenseArray}} where #s576</b>, x::<b>SparseArrays.AbstractSparseArray{Tx,Ti,1} where Ti</b>) in SparseArrays at <a href=\"file:///Applications/Julia-1.0.app/Contents/Resources/julia/share/julia/stdlib/v1.0/SparseArrays/src/sparsevector.jl\" target=\"_blank\">/Applications/Julia-1.0.app/Contents/Resources/julia/share/julia/stdlib/v1.0/SparseArrays/src/sparsevector.jl:1519</a></li> <li> *(transA::<b>LinearAlgebra.Transpose{#s576,#s575} where #s575<:SparseArrays.SparseMatrixCSC where #s576</b>, x::<b>SparseArrays.AbstractSparseArray{Tv,Ti,1} where Ti where Tv</b>) in SparseArrays at <a href=\"file:///Applications/Julia-1.0.app/Contents/Resources/julia/share/julia/stdlib/v1.0/SparseArrays/src/sparsevector.jl\" target=\"_blank\">/Applications/Julia-1.0.app/Contents/Resources/julia/share/julia/stdlib/v1.0/SparseArrays/src/sparsevector.jl:1673</a></li> <li> *<i>{Tv, Ti}</i>(A::<b>LinearAlgebra.Transpose{#s576,#s575} where #s575<:SparseArrays.SparseMatrixCSC{Tv,Ti} where #s576</b>, B::<b>SparseArrays.SparseMatrixCSC{Tv,Ti}</b>) in SparseArrays at <a href=\"file:///Applications/Julia-1.0.app/Contents/Resources/julia/share/julia/stdlib/v1.0/SparseArrays/src/linalg.jl\" target=\"_blank\">/Applications/Julia-1.0.app/Contents/Resources/julia/share/julia/stdlib/v1.0/SparseArrays/src/linalg.jl:144</a></li> <li> *<i>{TvA, TiA, TvB, TiB}</i>(transA::<b>LinearAlgebra.Transpose{#s576,#s575} where #s575<:SparseArrays.SparseMatrixCSC{TvA,TiA} where #s576</b>, B::<b>SparseArrays.SparseMatrixCSC{TvB,TiB}</b>) in SparseArrays at <a href=\"file:///Applications/Julia-1.0.app/Contents/Resources/julia/share/julia/stdlib/v1.0/SparseArrays/src/linalg.jl\" target=\"_blank\">/Applications/Julia-1.0.app/Contents/Resources/julia/share/julia/stdlib/v1.0/SparseArrays/src/linalg.jl:13</a></li> <li> *<i>{TA, S, Tx}</i>(transA::<b>LinearAlgebra.Transpose{#s576,#s575} where #s575<:SparseArrays.SparseMatrixCSC{TA,S} where #s576</b>, x::<b>Union{DenseArray{Tx,1}, ReinterpretArray{Tx,1,S,A} where S where A<:Union{SubArray{T,N,A,I,true} where I<:Tuple{AbstractUnitRange,Vararg{Any,N} where N} where A<:DenseArray where N where T, DenseArray}, ReshapedArray{Tx,1,A,MI} where MI<:Tuple{Vararg{SignedMultiplicativeInverse{Int64},N} where N} where A<:Union{ReinterpretArray{T,N,S,A} where S where A<:Union{SubArray{T,N,A,I,true} where I<:Tuple{AbstractUnitRange,Vararg{Any,N} where N} where A<:DenseArray where N where T, DenseArray} where N where T, SubArray{T,N,A,I,true} where I<:Tuple{AbstractUnitRange,Vararg{Any,N} where N} where A<:DenseArray where N where T, DenseArray}, SubArray{Tx,1,A,I,L} where L where I<:Tuple{Vararg{Union{Int64, AbstractRange{Int64}, AbstractCartesianIndex},N} where N} where A<:Union{ReinterpretArray{T,N,S,A} where S where A<:Union{SubArray{T,N,A,I,true} where I<:Tuple{AbstractUnitRange,Vararg{Any,N} where N} where A<:DenseArray where N where T, DenseArray} where N where T, ReshapedArray{T,N,A,MI} where MI<:Tuple{Vararg{SignedMultiplicativeInverse{Int64},N} where N} where A<:Union{ReinterpretArray{T,N,S,A} where S where A<:Union{SubArray{T,N,A,I,true} where I<:Tuple{AbstractUnitRange,Vararg{Any,N} where N} where A<:DenseArray where N where T, DenseArray} where N where T, SubArray{T,N,A,I,true} where I<:Tuple{AbstractUnitRange,Vararg{Any,N} where N} where A<:DenseArray where N where T, DenseArray} where N where T, DenseArray}}</b>) in SparseArrays at <a href=\"file:///Applications/Julia-1.0.app/Contents/Resources/julia/share/julia/stdlib/v1.0/SparseArrays/src/linalg.jl\" target=\"_blank\">/Applications/Julia-1.0.app/Contents/Resources/julia/share/julia/stdlib/v1.0/SparseArrays/src/linalg.jl:103</a></li> <li> *<i>{TA, S, Tx}</i>(transA::<b>LinearAlgebra.Transpose{#s576,#s575} where #s575<:SparseArrays.SparseMatrixCSC{TA,S} where #s576</b>, B::<b>Union{DenseArray{Tx,2}, ReinterpretArray{Tx,2,S,A} where S where A<:Union{SubArray{T,N,A,I,true} where I<:Tuple{AbstractUnitRange,Vararg{Any,N} where N} where A<:DenseArray where N where T, DenseArray}, ReshapedArray{Tx,2,A,MI} where MI<:Tuple{Vararg{SignedMultiplicativeInverse{Int64},N} where N} where A<:Union{ReinterpretArray{T,N,S,A} where S where A<:Union{SubArray{T,N,A,I,true} where I<:Tuple{AbstractUnitRange,Vararg{Any,N} where N} where A<:DenseArray where N where T, DenseArray} where N where T, SubArray{T,N,A,I,true} where I<:Tuple{AbstractUnitRange,Vararg{Any,N} where N} where A<:DenseArray where N where T, DenseArray}, SubArray{Tx,2,A,I,L} where L where I<:Tuple{Vararg{Union{Int64, AbstractRange{Int64}, AbstractCartesianIndex},N} where N} where A<:Union{ReinterpretArray{T,N,S,A} where S where A<:Union{SubArray{T,N,A,I,true} where I<:Tuple{AbstractUnitRange,Vararg{Any,N} where N} where A<:DenseArray where N where T, DenseArray} where N where T, ReshapedArray{T,N,A,MI} where MI<:Tuple{Vararg{SignedMultiplicativeInverse{Int64},N} where N} where A<:Union{ReinterpretArray{T,N,S,A} where S where A<:Union{SubArray{T,N,A,I,true} where I<:Tuple{AbstractUnitRange,Vararg{Any,N} where N} where A<:DenseArray where N where T, DenseArray} where N where T, SubArray{T,N,A,I,true} where I<:Tuple{AbstractUnitRange,Vararg{Any,N} where N} where A<:DenseArray where N where T, DenseArray} where N where T, DenseArray}}</b>) in SparseArrays at <a href=\"file:///Applications/Julia-1.0.app/Contents/Resources/julia/share/julia/stdlib/v1.0/SparseArrays/src/linalg.jl\" target=\"_blank\">/Applications/Julia-1.0.app/Contents/Resources/julia/share/julia/stdlib/v1.0/SparseArrays/src/linalg.jl:105</a></li> <li> *(u::<b>LinearAlgebra.Transpose{T,#s576} where #s576<:(AbstractArray{T,1} where T) where T</b>, v::<b>AbstractArray{T,1} where T</b>) in LinearAlgebra at <a href=\"file:///Applications/Julia-1.0.app/Contents/Resources/julia/share/julia/stdlib/v1.0/LinearAlgebra/src/adjtrans.jl\" target=\"_blank\">/Applications/Julia-1.0.app/Contents/Resources/julia/share/julia/stdlib/v1.0/LinearAlgebra/src/adjtrans.jl:200</a></li> <li> *<i>{T<:Union{Complex{Float32}, Complex{Float64}, Float32, Float64}, S}</i>(A::<b>Union{DenseArray{T,2}, ReinterpretArray{T,2,S,A} where S where A<:Union{SubArray{T,N,A,I,true} where I<:Tuple{AbstractUnitRange,Vararg{Any,N} where N} where A<:DenseArray where N where T, DenseArray}, ReshapedArray{T,2,A,MI} where MI<:Tuple{Vararg{SignedMultiplicativeInverse{Int64},N} where N} where A<:Union{ReinterpretArray{T,N,S,A} where S where A<:Union{SubArray{T,N,A,I,true} where I<:Tuple{AbstractUnitRange,Vararg{Any,N} where N} where A<:DenseArray where N where T, DenseArray} where N where T, SubArray{T,N,A,I,true} where I<:Tuple{AbstractUnitRange,Vararg{Any,N} where N} where A<:DenseArray where N where T, DenseArray}, SubArray{T,2,A,I,L} where L where I<:Tuple{Vararg{Union{Int64, AbstractRange{Int64}, AbstractCartesianIndex},N} where N} where A<:Union{ReinterpretArray{T,N,S,A} where S where A<:Union{SubArray{T,N,A,I,true} where I<:Tuple{AbstractUnitRange,Vararg{Any,N} where N} where A<:DenseArray where N where T, DenseArray} where N where T, ReshapedArray{T,N,A,MI} where MI<:Tuple{Vararg{SignedMultiplicativeInverse{Int64},N} where N} where A<:Union{ReinterpretArray{T,N,S,A} where S where A<:Union{SubArray{T,N,A,I,true} where I<:Tuple{AbstractUnitRange,Vararg{Any,N} where N} where A<:DenseArray where N where T, DenseArray} where N where T, SubArray{T,N,A,I,true} where I<:Tuple{AbstractUnitRange,Vararg{Any,N} where N} where A<:DenseArray where N where T, DenseArray} where N where T, DenseArray}}</b>, x::<b>Union{DenseArray{S,1}, ReinterpretArray{S,1,S1,A} where S1 where A<:Union{SubArray{T,N,A,I,true} where I<:Tuple{AbstractUnitRange,Vararg{Any,N} where N} where A<:DenseArray where N where T, DenseArray}, ReshapedArray{S,1,A,MI} where MI<:Tuple{Vararg{SignedMultiplicativeInverse{Int64},N} where N} where A<:Union{ReinterpretArray{T,N,S,A} where S where A<:Union{SubArray{T,N,A,I,true} where I<:Tuple{AbstractUnitRange,Vararg{Any,N} where N} where A<:DenseArray where N where T, DenseArray} where N where T, SubArray{T,N,A,I,true} where I<:Tuple{AbstractUnitRange,Vararg{Any,N} where N} where A<:DenseArray where N where T, DenseArray}, SubArray{S,1,A,I,L} where L where I<:Tuple{Vararg{Union{Int64, AbstractRange{Int64}, AbstractCartesianIndex},N} where N} where A<:Union{ReinterpretArray{T,N,S,A} where S where A<:Union{SubArray{T,N,A,I,true} where I<:Tuple{AbstractUnitRange,Vararg{Any,N} where N} where A<:DenseArray where N where T, DenseArray} where N where T, ReshapedArray{T,N,A,MI} where MI<:Tuple{Vararg{SignedMultiplicativeInverse{Int64},N} where N} where A<:Union{ReinterpretArray{T,N,S,A} where S where A<:Union{SubArray{T,N,A,I,true} where I<:Tuple{AbstractUnitRange,Vararg{Any,N} where N} where A<:DenseArray where N where T, DenseArray} where N where T, SubArray{T,N,A,I,true} where I<:Tuple{AbstractUnitRange,Vararg{Any,N} where N} where A<:DenseArray where N where T, DenseArray} where N where T, DenseArray}}</b>) in LinearAlgebra at <a href=\"file:///Applications/Julia-1.0.app/Contents/Resources/julia/share/julia/stdlib/v1.0/LinearAlgebra/src/matmul.jl\" target=\"_blank\">/Applications/Julia-1.0.app/Contents/Resources/julia/share/julia/stdlib/v1.0/LinearAlgebra/src/matmul.jl:45</a></li> <li> *<i>{T, S}</i>(transA::<b>LinearAlgebra.Transpose{#s576,#s575} where #s575<:AbstractArray{T,2} where #s576</b>, x::<b>AbstractArray{S,1}</b>) in LinearAlgebra at <a href=\"file:///Applications/Julia-1.0.app/Contents/Resources/julia/share/julia/stdlib/v1.0/LinearAlgebra/src/matmul.jl\" target=\"_blank\">/Applications/Julia-1.0.app/Contents/Resources/julia/share/julia/stdlib/v1.0/LinearAlgebra/src/matmul.jl:84</a></li> <li> *<i>{T, S}</i>(adjA::<b>LinearAlgebra.Adjoint{#s576,#s575} where #s575<:AbstractArray{T,2} where #s576</b>, x::<b>AbstractArray{S,1}</b>) in LinearAlgebra at <a href=\"file:///Applications/Julia-1.0.app/Contents/Resources/julia/share/julia/stdlib/v1.0/LinearAlgebra/src/matmul.jl\" target=\"_blank\">/Applications/Julia-1.0.app/Contents/Resources/julia/share/julia/stdlib/v1.0/LinearAlgebra/src/matmul.jl:103</a></li> <li> *(adjA::<b>LinearAlgebra.Adjoint{#s576,#s575} where #s575<:LinearAlgebra.AbstractTriangular where #s576</b>, B::<b>AbstractArray{T,2} where T</b>) in LinearAlgebra at <a href=\"file:///Applications/Julia-1.0.app/Contents/Resources/julia/share/julia/stdlib/v1.0/LinearAlgebra/src/triangular.jl\" target=\"_blank\">/Applications/Julia-1.0.app/Contents/Resources/julia/share/julia/stdlib/v1.0/LinearAlgebra/src/triangular.jl:1805</a></li> <li> *(adjA::<b>LinearAlgebra.Adjoint{#s576,#s575} where #s575<:(Union{Hermitian{T,S}, Hermitian{Complex{T},S}, Symmetric{T,S}} where S where T<:Real) where #s576</b>, B::<b>AbstractArray{T,2} where T</b>) in LinearAlgebra at <a href=\"file:///Applications/Julia-1.0.app/Contents/Resources/julia/share/julia/stdlib/v1.0/LinearAlgebra/src/symmetric.jl\" target=\"_blank\">/Applications/Julia-1.0.app/Contents/Resources/julia/share/julia/stdlib/v1.0/LinearAlgebra/src/symmetric.jl:426</a></li> <li> *(x::<b>LinearAlgebra.Adjoint{T,#s576} where #s576<:(AbstractArray{T,1} where T) where T</b>, A::<b>AbstractArray{T,2} where T</b>) in LinearAlgebra at <a href=\"file:///Applications/Julia-1.0.app/Contents/Resources/julia/share/julia/stdlib/v1.0/LinearAlgebra/src/matmul.jl\" target=\"_blank\">/Applications/Julia-1.0.app/Contents/Resources/julia/share/julia/stdlib/v1.0/LinearAlgebra/src/matmul.jl:122</a></li> <li> *(transA::<b>LinearAlgebra.Transpose{#s574,#s573} where #s573<:LinearAlgebra.AbstractTriangular where #s574</b>, B::<b>AbstractArray{T,2} where T</b>) in LinearAlgebra at <a href=\"file:///Applications/Julia-1.0.app/Contents/Resources/julia/share/julia/stdlib/v1.0/LinearAlgebra/src/triangular.jl\" target=\"_blank\">/Applications/Julia-1.0.app/Contents/Resources/julia/share/julia/stdlib/v1.0/LinearAlgebra/src/triangular.jl:1813</a></li> <li> *(transA::<b>LinearAlgebra.Transpose{#s576,#s575} where #s575<:(Union{Hermitian{T,S}, Symmetric{T,S}, Symmetric{Complex{T},S}} where S where T<:Real) where #s576</b>, B::<b>AbstractArray{T,2} where T</b>) in LinearAlgebra at <a href=\"file:///Applications/Julia-1.0.app/Contents/Resources/julia/share/julia/stdlib/v1.0/LinearAlgebra/src/symmetric.jl\" target=\"_blank\">/Applications/Julia-1.0.app/Contents/Resources/julia/share/julia/stdlib/v1.0/LinearAlgebra/src/symmetric.jl:422</a></li> <li> *(x::<b>LinearAlgebra.Transpose{T,#s576} where #s576<:(AbstractArray{T,1} where T) where T</b>, A::<b>AbstractArray{T,2} where T</b>) in LinearAlgebra at <a href=\"file:///Applications/Julia-1.0.app/Contents/Resources/julia/share/julia/stdlib/v1.0/LinearAlgebra/src/matmul.jl\" target=\"_blank\">/Applications/Julia-1.0.app/Contents/Resources/julia/share/julia/stdlib/v1.0/LinearAlgebra/src/matmul.jl:123</a></li> <li> *(A::<b>LinearAlgebra.SymTridiagonal</b>, B::<b>Number</b>) in LinearAlgebra at <a href=\"file:///Applications/Julia-1.0.app/Contents/Resources/julia/share/julia/stdlib/v1.0/LinearAlgebra/src/tridiag.jl\" target=\"_blank\">/Applications/Julia-1.0.app/Contents/Resources/julia/share/julia/stdlib/v1.0/LinearAlgebra/src/tridiag.jl:160</a></li> <li> *(A::<b>LinearAlgebra.Tridiagonal</b>, B::<b>Number</b>) in LinearAlgebra at <a href=\"file:///Applications/Julia-1.0.app/Contents/Resources/julia/share/julia/stdlib/v1.0/LinearAlgebra/src/tridiag.jl\" target=\"_blank\">/Applications/Julia-1.0.app/Contents/Resources/julia/share/julia/stdlib/v1.0/LinearAlgebra/src/tridiag.jl:614</a></li> <li> *(A::<b>LinearAlgebra.UpperTriangular</b>, x::<b>Number</b>) in LinearAlgebra at <a href=\"file:///Applications/Julia-1.0.app/Contents/Resources/julia/share/julia/stdlib/v1.0/LinearAlgebra/src/triangular.jl\" target=\"_blank\">/Applications/Julia-1.0.app/Contents/Resources/julia/share/julia/stdlib/v1.0/LinearAlgebra/src/triangular.jl:670</a></li> <li> *(A::<b>LinearAlgebra.UnitUpperTriangular</b>, x::<b>Number</b>) in LinearAlgebra at <a href=\"file:///Applications/Julia-1.0.app/Contents/Resources/julia/share/julia/stdlib/v1.0/LinearAlgebra/src/triangular.jl\" target=\"_blank\">/Applications/Julia-1.0.app/Contents/Resources/julia/share/julia/stdlib/v1.0/LinearAlgebra/src/triangular.jl:673</a></li> <li> *(A::<b>LinearAlgebra.LowerTriangular</b>, x::<b>Number</b>) in LinearAlgebra at <a href=\"file:///Applications/Julia-1.0.app/Contents/Resources/julia/share/julia/stdlib/v1.0/LinearAlgebra/src/triangular.jl\" target=\"_blank\">/Applications/Julia-1.0.app/Contents/Resources/julia/share/julia/stdlib/v1.0/LinearAlgebra/src/triangular.jl:670</a></li> <li> *(A::<b>LinearAlgebra.UnitLowerTriangular</b>, x::<b>Number</b>) in LinearAlgebra at <a href=\"file:///Applications/Julia-1.0.app/Contents/Resources/julia/share/julia/stdlib/v1.0/LinearAlgebra/src/triangular.jl\" target=\"_blank\">/Applications/Julia-1.0.app/Contents/Resources/julia/share/julia/stdlib/v1.0/LinearAlgebra/src/triangular.jl:673</a></li> <li> *(A::<b>Union{SymTridiagonal, Tridiagonal}</b>, B::<b>LinearAlgebra.AbstractTriangular</b>) in LinearAlgebra at <a href=\"file:///Applications/Julia-1.0.app/Contents/Resources/julia/share/julia/stdlib/v1.0/LinearAlgebra/src/triangular.jl\" target=\"_blank\">/Applications/Julia-1.0.app/Contents/Resources/julia/share/julia/stdlib/v1.0/LinearAlgebra/src/triangular.jl:1602</a></li> <li> *(A::<b>Union{LowerTriangular{#s175,#s174} where #s174<:(StaticArray{Tuple{N,M},T,2} where T where M where N) where #s175, UpperTriangular{#s177,#s176} where #s176<:(StaticArray{Tuple{N,M},T,2} where T where M where N) where #s177}</b>, B::<b>Union{LowerTriangular{#s175,#s174} where #s174<:(StaticArray{Tuple{N,M},T,2} where T where M where N) where #s175, UpperTriangular{#s177,#s176} where #s176<:(StaticArray{Tuple{N,M},T,2} where T where M where N) where #s177}</b>) in StaticArrays at <a href=\"file:///Users/abradley/.julia/packages/StaticArrays/mcf7t/src/triangular.jl\" target=\"_blank\">/Users/abradley/.julia/packages/StaticArrays/mcf7t/src/triangular.jl:24</a></li> <li> *(A::<b>LinearAlgebra.LowerTriangular</b>, B::<b>LinearAlgebra.LowerTriangular</b>) in LinearAlgebra at <a href=\"file:///Applications/Julia-1.0.app/Contents/Resources/julia/share/julia/stdlib/v1.0/LinearAlgebra/src/triangular.jl\" target=\"_blank\">/Applications/Julia-1.0.app/Contents/Resources/julia/share/julia/stdlib/v1.0/LinearAlgebra/src/triangular.jl:1607</a></li> <li> *(A::<b>LinearAlgebra.UnitLowerTriangular</b>, B::<b>LinearAlgebra.LowerTriangular</b>) in LinearAlgebra at <a href=\"file:///Applications/Julia-1.0.app/Contents/Resources/julia/share/julia/stdlib/v1.0/LinearAlgebra/src/triangular.jl\" target=\"_blank\">/Applications/Julia-1.0.app/Contents/Resources/julia/share/julia/stdlib/v1.0/LinearAlgebra/src/triangular.jl:1615</a></li> <li> *(A::<b>LinearAlgebra.UpperTriangular</b>, B::<b>LinearAlgebra.UpperTriangular</b>) in LinearAlgebra at <a href=\"file:///Applications/Julia-1.0.app/Contents/Resources/julia/share/julia/stdlib/v1.0/LinearAlgebra/src/triangular.jl\" target=\"_blank\">/Applications/Julia-1.0.app/Contents/Resources/julia/share/julia/stdlib/v1.0/LinearAlgebra/src/triangular.jl:1623</a></li> <li> *(A::<b>LinearAlgebra.UnitUpperTriangular</b>, B::<b>LinearAlgebra.UpperTriangular</b>) in LinearAlgebra at <a href=\"file:///Applications/Julia-1.0.app/Contents/Resources/julia/share/julia/stdlib/v1.0/LinearAlgebra/src/triangular.jl\" target=\"_blank\">/Applications/Julia-1.0.app/Contents/Resources/julia/share/julia/stdlib/v1.0/LinearAlgebra/src/triangular.jl:1631</a></li> <li> *(A::<b>LinearAlgebra.LowerTriangular</b>, xformB::<b>LinearAlgebra.Adjoint{#s576,#s575} where #s575<:LinearAlgebra.UpperTriangular where #s576</b>) in LinearAlgebra at <a href=\"file:///Applications/Julia-1.0.app/Contents/Resources/julia/share/julia/stdlib/v1.0/LinearAlgebra/src/triangular.jl\" target=\"_blank\">/Applications/Julia-1.0.app/Contents/Resources/julia/share/julia/stdlib/v1.0/LinearAlgebra/src/triangular.jl:1720</a></li> <li> *(A::<b>LinearAlgebra.LowerTriangular</b>, xformB::<b>LinearAlgebra.Adjoint{#s574,#s573} where #s573<:LinearAlgebra.UnitUpperTriangular where #s574</b>) in LinearAlgebra at <a href=\"file:///Applications/Julia-1.0.app/Contents/Resources/julia/share/julia/stdlib/v1.0/LinearAlgebra/src/triangular.jl\" target=\"_blank\">/Applications/Julia-1.0.app/Contents/Resources/julia/share/julia/stdlib/v1.0/LinearAlgebra/src/triangular.jl:1729</a></li> <li> *(A::<b>LinearAlgebra.UpperTriangular</b>, xformB::<b>LinearAlgebra.Adjoint{#s572,#s571} where #s571<:LinearAlgebra.LowerTriangular where #s572</b>) in LinearAlgebra at <a href=\"file:///Applications/Julia-1.0.app/Contents/Resources/julia/share/julia/stdlib/v1.0/LinearAlgebra/src/triangular.jl\" target=\"_blank\">/Applications/Julia-1.0.app/Contents/Resources/julia/share/julia/stdlib/v1.0/LinearAlgebra/src/triangular.jl:1738</a></li> <li> *(A::<b>LinearAlgebra.UpperTriangular</b>, xformB::<b>LinearAlgebra.Adjoint{#s570,#s569} where #s569<:LinearAlgebra.UnitLowerTriangular where #s570</b>) in LinearAlgebra at <a href=\"file:///Applications/Julia-1.0.app/Contents/Resources/julia/share/julia/stdlib/v1.0/LinearAlgebra/src/triangular.jl\" target=\"_blank\">/Applications/Julia-1.0.app/Contents/Resources/julia/share/julia/stdlib/v1.0/LinearAlgebra/src/triangular.jl:1747</a></li> <li> *(A::<b>LinearAlgebra.LowerTriangular</b>, xformB::<b>LinearAlgebra.Transpose{#s576,#s575} where #s575<:LinearAlgebra.UpperTriangular where #s576</b>) in LinearAlgebra at <a href=\"file:///Applications/Julia-1.0.app/Contents/Resources/julia/share/julia/stdlib/v1.0/LinearAlgebra/src/triangular.jl\" target=\"_blank\">/Applications/Julia-1.0.app/Contents/Resources/julia/share/julia/stdlib/v1.0/LinearAlgebra/src/triangular.jl:1720</a></li> <li> *(A::<b>LinearAlgebra.LowerTriangular</b>, xformB::<b>LinearAlgebra.Transpose{#s574,#s573} where #s573<:LinearAlgebra.UnitUpperTriangular where #s574</b>) in LinearAlgebra at <a href=\"file:///Applications/Julia-1.0.app/Contents/Resources/julia/share/julia/stdlib/v1.0/LinearAlgebra/src/triangular.jl\" target=\"_blank\">/Applications/Julia-1.0.app/Contents/Resources/julia/share/julia/stdlib/v1.0/LinearAlgebra/src/triangular.jl:1729</a></li> <li> *(A::<b>LinearAlgebra.UpperTriangular</b>, xformB::<b>LinearAlgebra.Transpose{#s572,#s571} where #s571<:LinearAlgebra.LowerTriangular where #s572</b>) in LinearAlgebra at <a href=\"file:///Applications/Julia-1.0.app/Contents/Resources/julia/share/julia/stdlib/v1.0/LinearAlgebra/src/triangular.jl\" target=\"_blank\">/Applications/Julia-1.0.app/Contents/Resources/julia/share/julia/stdlib/v1.0/LinearAlgebra/src/triangular.jl:1738</a></li> <li> *(A::<b>LinearAlgebra.UpperTriangular</b>, xformB::<b>LinearAlgebra.Transpose{#s570,#s569} where #s569<:LinearAlgebra.UnitLowerTriangular where #s570</b>) in LinearAlgebra at <a href=\"file:///Applications/Julia-1.0.app/Contents/Resources/julia/share/julia/stdlib/v1.0/LinearAlgebra/src/triangular.jl\" target=\"_blank\">/Applications/Julia-1.0.app/Contents/Resources/julia/share/julia/stdlib/v1.0/LinearAlgebra/src/triangular.jl:1747</a></li> <li> *(A::<b>LinearAlgebra.AbstractTriangular</b>, B::<b>LinearAlgebra.AbstractTriangular</b>) in LinearAlgebra at <a href=\"file:///Applications/Julia-1.0.app/Contents/Resources/julia/share/julia/stdlib/v1.0/LinearAlgebra/src/triangular.jl\" target=\"_blank\">/Applications/Julia-1.0.app/Contents/Resources/julia/share/julia/stdlib/v1.0/LinearAlgebra/src/triangular.jl:1759</a></li> <li> *(A::<b>LinearAlgebra.AbstractTriangular</b>, adjB::<b>LinearAlgebra.Adjoint{#s576,#s575} where #s575<:LinearAlgebra.AbstractTriangular where #s576</b>) in LinearAlgebra at <a href=\"file:///Applications/Julia-1.0.app/Contents/Resources/julia/share/julia/stdlib/v1.0/LinearAlgebra/src/triangular.jl\" target=\"_blank\">/Applications/Julia-1.0.app/Contents/Resources/julia/share/julia/stdlib/v1.0/LinearAlgebra/src/triangular.jl:1780</a></li> <li> *(A::<b>LinearAlgebra.AbstractTriangular</b>, transB::<b>LinearAlgebra.Transpose{#s576,#s575} where #s575<:LinearAlgebra.AbstractTriangular where #s576</b>) in LinearAlgebra at <a href=\"file:///Applications/Julia-1.0.app/Contents/Resources/julia/share/julia/stdlib/v1.0/LinearAlgebra/src/triangular.jl\" target=\"_blank\">/Applications/Julia-1.0.app/Contents/Resources/julia/share/julia/stdlib/v1.0/LinearAlgebra/src/triangular.jl:1787</a></li> <li> *(A::<b>LinearAlgebra.AbstractTriangular</b>, adjB::<b>LinearAlgebra.Adjoint{#s576,#s575} where #s575<:(Union{Hermitian{T,S}, Hermitian{Complex{T},S}, Symmetric{T,S}} where S where T<:Real) where #s576</b>) in LinearAlgebra at <a href=\"file:///Applications/Julia-1.0.app/Contents/Resources/julia/share/julia/stdlib/v1.0/LinearAlgebra/src/symmetric.jl\" target=\"_blank\">/Applications/Julia-1.0.app/Contents/Resources/julia/share/julia/stdlib/v1.0/LinearAlgebra/src/symmetric.jl:441</a></li> <li> *(A::<b>LinearAlgebra.AbstractTriangular</b>, adjB::<b>LinearAlgebra.Adjoint{#s576,#s575} where #s575<:Union{QRCompactWYQ, QRPackedQ} where #s576</b>) in LinearAlgebra at <a href=\"file:///Applications/Julia-1.0.app/Contents/Resources/julia/share/julia/stdlib/v1.0/LinearAlgebra/src/special.jl\" target=\"_blank\">/Applications/Julia-1.0.app/Contents/Resources/julia/share/julia/stdlib/v1.0/LinearAlgebra/src/special.jl:132</a></li> <li> *(A::<b>LinearAlgebra.AbstractTriangular{#s177,#s176} where #s176<:(StaticArrays.StaticArray{Tuple{N,M},T,2} where T where M where N) where #s177</b>, B::<b>LinearAlgebra.Adjoint{#s175,#s174} where #s174<:(Union{StaticArray{Tuple{#s12},T,1} where #s12, StaticArray{Tuple{#s13,#s14},T,2} where #s14 where #s13} where T) where #s175</b>) in StaticArrays at <a href=\"file:///Users/abradley/.julia/packages/StaticArrays/mcf7t/src/triangular.jl\" target=\"_blank\">/Users/abradley/.julia/packages/StaticArrays/mcf7t/src/triangular.jl:15</a></li> <li> *(A::<b>LinearAlgebra.AbstractTriangular</b>, B::<b>LinearAlgebra.Adjoint{#s576,#s575} where #s575<:(AbstractArray{T,2} where T) where #s576</b>) in LinearAlgebra at <a href=\"file:///Applications/Julia-1.0.app/Contents/Resources/julia/share/julia/stdlib/v1.0/LinearAlgebra/src/triangular.jl\" target=\"_blank\">/Applications/Julia-1.0.app/Contents/Resources/julia/share/julia/stdlib/v1.0/LinearAlgebra/src/triangular.jl:1965</a></li> <li> *(A::<b>LinearAlgebra.AbstractTriangular</b>, transB::<b>LinearAlgebra.Transpose{#s576,#s575} where #s575<:(Union{Hermitian{T,S}, Symmetric{T,S}, Symmetric{Complex{T},S}} where S where T<:Real) where #s576</b>) in LinearAlgebra at <a href=\"file:///Applications/Julia-1.0.app/Contents/Resources/julia/share/julia/stdlib/v1.0/LinearAlgebra/src/symmetric.jl\" target=\"_blank\">/Applications/Julia-1.0.app/Contents/Resources/julia/share/julia/stdlib/v1.0/LinearAlgebra/src/symmetric.jl:439</a></li> <li> *(A::<b>LinearAlgebra.AbstractTriangular{#s177,#s176} where #s176<:(StaticArrays.StaticArray{Tuple{N,M},T,2} where T where M where N) where #s177</b>, B::<b>LinearAlgebra.Transpose{#s175,#s174} where #s174<:(Union{StaticArray{Tuple{#s12},T,1} where #s12, StaticArray{Tuple{#s13,#s14},T,2} where #s14 where #s13} where T) where #s175</b>) in StaticArrays at <a href=\"file:///Users/abradley/.julia/packages/StaticArrays/mcf7t/src/triangular.jl\" target=\"_blank\">/Users/abradley/.julia/packages/StaticArrays/mcf7t/src/triangular.jl:17</a></li> <li> *(A::<b>LinearAlgebra.AbstractTriangular</b>, B::<b>LinearAlgebra.Transpose{#s576,#s575} where #s575<:(AbstractArray{T,2} where T) where #s576</b>) in LinearAlgebra at <a href=\"file:///Applications/Julia-1.0.app/Contents/Resources/julia/share/julia/stdlib/v1.0/LinearAlgebra/src/triangular.jl\" target=\"_blank\">/Applications/Julia-1.0.app/Contents/Resources/julia/share/julia/stdlib/v1.0/LinearAlgebra/src/triangular.jl:1966</a></li> <li> *(A::<b>LinearAlgebra.AbstractTriangular</b>, B::<b>LinearAlgebra.Adjoint{#s576,#s575} where #s575<:(AbstractArray{T,1} where T) where #s576</b>) in LinearAlgebra at <a href=\"file:///Applications/Julia-1.0.app/Contents/Resources/julia/share/julia/stdlib/v1.0/LinearAlgebra/src/triangular.jl\" target=\"_blank\">/Applications/Julia-1.0.app/Contents/Resources/julia/share/julia/stdlib/v1.0/LinearAlgebra/src/triangular.jl:2478</a></li> <li> *(A::<b>LinearAlgebra.AbstractTriangular</b>, B::<b>LinearAlgebra.Transpose{#s576,#s575} where #s575<:(AbstractArray{T,1} where T) where #s576</b>) in LinearAlgebra at <a href=\"file:///Applications/Julia-1.0.app/Contents/Resources/julia/share/julia/stdlib/v1.0/LinearAlgebra/src/triangular.jl\" target=\"_blank\">/Applications/Julia-1.0.app/Contents/Resources/julia/share/julia/stdlib/v1.0/LinearAlgebra/src/triangular.jl:2479</a></li> <li> *(A::<b>LinearAlgebra.AbstractTriangular</b>, D::<b>LinearAlgebra.Diagonal</b>) in LinearAlgebra at <a href=\"file:///Applications/Julia-1.0.app/Contents/Resources/julia/share/julia/stdlib/v1.0/LinearAlgebra/src/diagonal.jl\" target=\"_blank\">/Applications/Julia-1.0.app/Contents/Resources/julia/share/julia/stdlib/v1.0/LinearAlgebra/src/diagonal.jl:161</a></li> <li> *(A::<b>LinearAlgebra.AbstractTriangular</b>, B::<b>Union{Bidiagonal, SymTridiagonal, Tridiagonal}</b>) in LinearAlgebra at <a href=\"file:///Applications/Julia-1.0.app/Contents/Resources/julia/share/julia/stdlib/v1.0/LinearAlgebra/src/bidiag.jl\" target=\"_blank\">/Applications/Julia-1.0.app/Contents/Resources/julia/share/julia/stdlib/v1.0/LinearAlgebra/src/bidiag.jl:491</a></li> <li> *(A::<b>LinearAlgebra.AbstractTriangular</b>, B::<b>LinearAlgebra.Adjoint{#s576,#s575} where #s575<:LinearAlgebra.AbstractRotation where #s576</b>) in LinearAlgebra at <a href=\"file:///Applications/Julia-1.0.app/Contents/Resources/julia/share/julia/stdlib/v1.0/LinearAlgebra/src/givens.jl\" target=\"_blank\">/Applications/Julia-1.0.app/Contents/Resources/julia/share/julia/stdlib/v1.0/LinearAlgebra/src/givens.jl:398</a></li> <li> *(A::<b>LinearAlgebra.AbstractTriangular{#s177,#s176} where #s176<:(StaticArrays.StaticArray{Tuple{N,M},T,2} where T where M where N) where #s177</b>, B::<b>Union{StaticArray{Tuple{#s12},T,1} where #s12, StaticArray{Tuple{#s13,#s14},T,2} where #s14 where #s13} where T</b>) in StaticArrays at <a href=\"file:///Users/abradley/.julia/packages/StaticArrays/mcf7t/src/triangular.jl\" target=\"_blank\">/Users/abradley/.julia/packages/StaticArrays/mcf7t/src/triangular.jl:22</a></li> <li> *(A::<b>LinearAlgebra.AbstractTriangular</b>, B::<b>AbstractArray{T,1} where T</b>) in LinearAlgebra at <a href=\"file:///Applications/Julia-1.0.app/Contents/Resources/julia/share/julia/stdlib/v1.0/LinearAlgebra/src/triangular.jl\" target=\"_blank\">/Applications/Julia-1.0.app/Contents/Resources/julia/share/julia/stdlib/v1.0/LinearAlgebra/src/triangular.jl:1798</a></li> <li> *(A::<b>LinearAlgebra.AbstractTriangular</b>, B::<b>AbstractArray{T,2} where T</b>) in LinearAlgebra at <a href=\"file:///Applications/Julia-1.0.app/Contents/Resources/julia/share/julia/stdlib/v1.0/LinearAlgebra/src/triangular.jl\" target=\"_blank\">/Applications/Julia-1.0.app/Contents/Resources/julia/share/julia/stdlib/v1.0/LinearAlgebra/src/triangular.jl:1798</a></li> <li> *(A::<b>LinearAlgebra.Adjoint{#s576,#s575} where #s575<:(AbstractArray{T,2} where T) where #s576</b>, B::<b>LinearAlgebra.AbstractTriangular</b>) in LinearAlgebra at <a href=\"file:///Applications/Julia-1.0.app/Contents/Resources/julia/share/julia/stdlib/v1.0/LinearAlgebra/src/triangular.jl\" target=\"_blank\">/Applications/Julia-1.0.app/Contents/Resources/julia/share/julia/stdlib/v1.0/LinearAlgebra/src/triangular.jl:1963</a></li> <li> *(A::<b>LinearAlgebra.Transpose{#s576,#s575} where #s575<:(AbstractArray{T,2} where T) where #s576</b>, B::<b>LinearAlgebra.AbstractTriangular</b>) in LinearAlgebra at <a href=\"file:///Applications/Julia-1.0.app/Contents/Resources/julia/share/julia/stdlib/v1.0/LinearAlgebra/src/triangular.jl\" target=\"_blank\">/Applications/Julia-1.0.app/Contents/Resources/julia/share/julia/stdlib/v1.0/LinearAlgebra/src/triangular.jl:1964</a></li> <li> *(A::<b>LinearAlgebra.Adjoint{#s576,#s575} where #s575<:(AbstractArray{T,2} where T) where #s576</b>, B::<b>LinearAlgebra.Adjoint{#s574,#s573} where #s573<:LinearAlgebra.AbstractTriangular where #s574</b>) in LinearAlgebra at <a href=\"file:///Applications/Julia-1.0.app/Contents/Resources/julia/share/julia/stdlib/v1.0/LinearAlgebra/src/triangular.jl\" target=\"_blank\">/Applications/Julia-1.0.app/Contents/Resources/julia/share/julia/stdlib/v1.0/LinearAlgebra/src/triangular.jl:1969</a></li> <li> *(A::<b>LinearAlgebra.Transpose{#s576,#s575} where #s575<:(AbstractArray{T,2} where T) where #s576</b>, B::<b>LinearAlgebra.Transpose{#s574,#s573} where #s573<:LinearAlgebra.AbstractTriangular where #s574</b>) in LinearAlgebra at <a href=\"file:///Applications/Julia-1.0.app/Contents/Resources/julia/share/julia/stdlib/v1.0/LinearAlgebra/src/triangular.jl\" target=\"_blank\">/Applications/Julia-1.0.app/Contents/Resources/julia/share/julia/stdlib/v1.0/LinearAlgebra/src/triangular.jl:1972</a></li> <li> *(A::<b>LinearAlgebra.Adjoint{#s576,#s575} where #s575<:(AbstractArray{T,2} where T) where #s576</b>, B::<b>LinearAlgebra.Transpose{#s574,#s573} where #s573<:LinearAlgebra.AbstractTriangular where #s574</b>) in LinearAlgebra at <a href=\"file:///Applications/Julia-1.0.app/Contents/Resources/julia/share/julia/stdlib/v1.0/LinearAlgebra/src/triangular.jl\" target=\"_blank\">/Applications/Julia-1.0.app/Contents/Resources/julia/share/julia/stdlib/v1.0/LinearAlgebra/src/triangular.jl:2492</a></li> <li> *(A::<b>LinearAlgebra.Transpose{#s576,#s575} where #s575<:(AbstractArray{T,2} where T) where #s576</b>, B::<b>LinearAlgebra.Adjoint{#s574,#s573} where #s573<:LinearAlgebra.AbstractTriangular where #s574</b>) in LinearAlgebra at <a href=\"file:///Applications/Julia-1.0.app/Contents/Resources/julia/share/julia/stdlib/v1.0/LinearAlgebra/src/triangular.jl\" target=\"_blank\">/Applications/Julia-1.0.app/Contents/Resources/julia/share/julia/stdlib/v1.0/LinearAlgebra/src/triangular.jl:2494</a></li> <li> *(A::<b>LinearAlgebra.AbstractQ</b>, b::<b>Union{DenseArray{T,1}, ReinterpretArray{T,1,S,A} where S where A<:Union{SubArray{T,N,A,I,true} where I<:Tuple{AbstractUnitRange,Vararg{Any,N} where N} where A<:DenseArray where N where T, DenseArray}, ReshapedArray{T,1,A,MI} where MI<:Tuple{Vararg{SignedMultiplicativeInverse{Int64},N} where N} where A<:Union{ReinterpretArray{T,N,S,A} where S where A<:Union{SubArray{T,N,A,I,true} where I<:Tuple{AbstractUnitRange,Vararg{Any,N} where N} where A<:DenseArray where N where T, DenseArray} where N where T, SubArray{T,N,A,I,true} where I<:Tuple{AbstractUnitRange,Vararg{Any,N} where N} where A<:DenseArray where N where T, DenseArray}, SubArray{T,1,A,I,L} where L where I<:Tuple{Vararg{Union{Int64, AbstractRange{Int64}, AbstractCartesianIndex},N} where N} where A<:Union{ReinterpretArray{T,N,S,A} where S where A<:Union{SubArray{T,N,A,I,true} where I<:Tuple{AbstractUnitRange,Vararg{Any,N} where N} where A<:DenseArray where N where T, DenseArray} where N where T, ReshapedArray{T,N,A,MI} where MI<:Tuple{Vararg{SignedMultiplicativeInverse{Int64},N} where N} where A<:Union{ReinterpretArray{T,N,S,A} where S where A<:Union{SubArray{T,N,A,I,true} where I<:Tuple{AbstractUnitRange,Vararg{Any,N} where N} where A<:DenseArray where N where T, DenseArray} where N where T, SubArray{T,N,A,I,true} where I<:Tuple{AbstractUnitRange,Vararg{Any,N} where N} where A<:DenseArray where N where T, DenseArray} where N where T, DenseArray}} where T</b>) in LinearAlgebra at <a href=\"file:///Applications/Julia-1.0.app/Contents/Resources/julia/share/julia/stdlib/v1.0/LinearAlgebra/src/qr.jl\" target=\"_blank\">/Applications/Julia-1.0.app/Contents/Resources/julia/share/julia/stdlib/v1.0/LinearAlgebra/src/qr.jl:557</a></li> <li> *(A::<b>LinearAlgebra.AbstractQ</b>, B::<b>Union{DenseArray{T,2}, ReinterpretArray{T,2,S,A} where S where A<:Union{SubArray{T,N,A,I,true} where I<:Tuple{AbstractUnitRange,Vararg{Any,N} where N} where A<:DenseArray where N where T, DenseArray}, ReshapedArray{T,2,A,MI} where MI<:Tuple{Vararg{SignedMultiplicativeInverse{Int64},N} where N} where A<:Union{ReinterpretArray{T,N,S,A} where S where A<:Union{SubArray{T,N,A,I,true} where I<:Tuple{AbstractUnitRange,Vararg{Any,N} where N} where A<:DenseArray where N where T, DenseArray} where N where T, SubArray{T,N,A,I,true} where I<:Tuple{AbstractUnitRange,Vararg{Any,N} where N} where A<:DenseArray where N where T, DenseArray}, SubArray{T,2,A,I,L} where L where I<:Tuple{Vararg{Union{Int64, AbstractRange{Int64}, AbstractCartesianIndex},N} where N} where A<:Union{ReinterpretArray{T,N,S,A} where S where A<:Union{SubArray{T,N,A,I,true} where I<:Tuple{AbstractUnitRange,Vararg{Any,N} where N} where A<:DenseArray where N where T, DenseArray} where N where T, ReshapedArray{T,N,A,MI} where MI<:Tuple{Vararg{SignedMultiplicativeInverse{Int64},N} where N} where A<:Union{ReinterpretArray{T,N,S,A} where S where A<:Union{SubArray{T,N,A,I,true} where I<:Tuple{AbstractUnitRange,Vararg{Any,N} where N} where A<:DenseArray where N where T, DenseArray} where N where T, SubArray{T,N,A,I,true} where I<:Tuple{AbstractUnitRange,Vararg{Any,N} where N} where A<:DenseArray where N where T, DenseArray} where N where T, DenseArray}} where T</b>) in LinearAlgebra at <a href=\"file:///Applications/Julia-1.0.app/Contents/Resources/julia/share/julia/stdlib/v1.0/LinearAlgebra/src/qr.jl\" target=\"_blank\">/Applications/Julia-1.0.app/Contents/Resources/julia/share/julia/stdlib/v1.0/LinearAlgebra/src/qr.jl:569</a></li> <li> *(Q::<b>LinearAlgebra.AbstractQ</b>, adjB::<b>LinearAlgebra.Adjoint{#s576,#s575} where #s575<:(Union{DenseArray{T,1}, DenseArray{T,2}, ReinterpretArray{T,2,S,A} where S where A<:Union{SubArray{T,N,A,I,true} where I<:Tuple{AbstractUnitRange,Vararg{Any,N} where N} where A<:DenseArray where N where T, DenseArray}, ReinterpretArray{T,1,S,A} where S where A<:Union{SubArray{T,N,A,I,true} where I<:Tuple{AbstractUnitRange,Vararg{Any,N} where N} where A<:DenseArray where N where T, DenseArray}, ReshapedArray{T,1,A,MI} where MI<:Tuple{Vararg{SignedMultiplicativeInverse{Int64},N} where N} where A<:Union{ReinterpretArray{T,N,S,A} where S where A<:Union{SubArray{T,N,A,I,true} where I<:Tuple{AbstractUnitRange,Vararg{Any,N} where N} where A<:DenseArray where N where T, DenseArray} where N where T, SubArray{T,N,A,I,true} where I<:Tuple{AbstractUnitRange,Vararg{Any,N} where N} where A<:DenseArray where N where T, DenseArray}, ReshapedArray{T,2,A,MI} where MI<:Tuple{Vararg{SignedMultiplicativeInverse{Int64},N} where N} where A<:Union{ReinterpretArray{T,N,S,A} where S where A<:Union{SubArray{T,N,A,I,true} where I<:Tuple{AbstractUnitRange,Vararg{Any,N} where N} where A<:DenseArray where N where T, DenseArray} where N where T, SubArray{T,N,A,I,true} where I<:Tuple{AbstractUnitRange,Vararg{Any,N} where N} where A<:DenseArray where N where T, DenseArray}, SubArray{T,1,A,I,L} where L where I<:Tuple{Vararg{Union{Int64, AbstractRange{Int64}, AbstractCartesianIndex},N} where N} where A<:Union{ReinterpretArray{T,N,S,A} where S where A<:Union{SubArray{T,N,A,I,true} where I<:Tuple{AbstractUnitRange,Vararg{Any,N} where N} where A<:DenseArray where N where T, DenseArray} where N where T, ReshapedArray{T,N,A,MI} where MI<:Tuple{Vararg{SignedMultiplicativeInverse{Int64},N} where N} where A<:Union{ReinterpretArray{T,N,S,A} where S where A<:Union{SubArray{T,N,A,I,true} where I<:Tuple{AbstractUnitRange,Vararg{Any,N} where N} where A<:DenseArray where N where T, DenseArray} where N where T, SubArray{T,N,A,I,true} where I<:Tuple{AbstractUnitRange,Vararg{Any,N} where N} where A<:DenseArray where N where T, DenseArray} where N where T, DenseArray}, SubArray{T,2,A,I,L} where L where I<:Tuple{Vararg{Union{Int64, AbstractRange{Int64}, AbstractCartesianIndex},N} where N} where A<:Union{ReinterpretArray{T,N,S,A} where S where A<:Union{SubArray{T,N,A,I,true} where I<:Tuple{AbstractUnitRange,Vararg{Any,N} where N} where A<:DenseArray where N where T, DenseArray} where N where T, ReshapedArray{T,N,A,MI} where MI<:Tuple{Vararg{SignedMultiplicativeInverse{Int64},N} where N} where A<:Union{ReinterpretArray{T,N,S,A} where S where A<:Union{SubArray{T,N,A,I,true} where I<:Tuple{AbstractUnitRange,Vararg{Any,N} where N} where A<:DenseArray where N where T, DenseArray} where N where T, SubArray{T,N,A,I,true} where I<:Tuple{AbstractUnitRange,Vararg{Any,N} where N} where A<:DenseArray where N where T, DenseArray} where N where T, DenseArray}} where T) where #s576</b>) in LinearAlgebra at <a href=\"file:///Applications/Julia-1.0.app/Contents/Resources/julia/share/julia/stdlib/v1.0/LinearAlgebra/src/qr.jl\" target=\"_blank\">/Applications/Julia-1.0.app/Contents/Resources/julia/share/julia/stdlib/v1.0/LinearAlgebra/src/qr.jl:624</a></li> <li> *(A::<b>Union{DenseArray{T,2}, ReinterpretArray{T,2,S,A} where S where A<:Union{SubArray{T,N,A,I,true} where I<:Tuple{AbstractUnitRange,Vararg{Any,N} where N} where A<:DenseArray where N where T, DenseArray}, ReshapedArray{T,2,A,MI} where MI<:Tuple{Vararg{SignedMultiplicativeInverse{Int64},N} where N} where A<:Union{ReinterpretArray{T,N,S,A} where S where A<:Union{SubArray{T,N,A,I,true} where I<:Tuple{AbstractUnitRange,Vararg{Any,N} where N} where A<:DenseArray where N where T, DenseArray} where N where T, SubArray{T,N,A,I,true} where I<:Tuple{AbstractUnitRange,Vararg{Any,N} where N} where A<:DenseArray where N where T, DenseArray}, SubArray{T,2,A,I,L} where L where I<:Tuple{Vararg{Union{Int64, AbstractRange{Int64}, AbstractCartesianIndex},N} where N} where A<:Union{ReinterpretArray{T,N,S,A} where S where A<:Union{SubArray{T,N,A,I,true} where I<:Tuple{AbstractUnitRange,Vararg{Any,N} where N} where A<:DenseArray where N where T, DenseArray} where N where T, ReshapedArray{T,N,A,MI} where MI<:Tuple{Vararg{SignedMultiplicativeInverse{Int64},N} where N} where A<:Union{ReinterpretArray{T,N,S,A} where S where A<:Union{SubArray{T,N,A,I,true} where I<:Tuple{AbstractUnitRange,Vararg{Any,N} where N} where A<:DenseArray where N where T, DenseArray} where N where T, SubArray{T,N,A,I,true} where I<:Tuple{AbstractUnitRange,Vararg{Any,N} where N} where A<:DenseArray where N where T, DenseArray} where N where T, DenseArray}} where T</b>, Q::<b>LinearAlgebra.AbstractQ</b>) in LinearAlgebra at <a href=\"file:///Applications/Julia-1.0.app/Contents/Resources/julia/share/julia/stdlib/v1.0/LinearAlgebra/src/qr.jl\" target=\"_blank\">/Applications/Julia-1.0.app/Contents/Resources/julia/share/julia/stdlib/v1.0/LinearAlgebra/src/qr.jl:669</a></li> <li> *(A::<b>Union{DenseArray{T,2}, ReinterpretArray{T,2,S,A} where S where A<:Union{SubArray{T,N,A,I,true} where I<:Tuple{AbstractUnitRange,Vararg{Any,N} where N} where A<:DenseArray where N where T, DenseArray}, ReshapedArray{T,2,A,MI} where MI<:Tuple{Vararg{SignedMultiplicativeInverse{Int64},N} where N} where A<:Union{ReinterpretArray{T,N,S,A} where S where A<:Union{SubArray{T,N,A,I,true} where I<:Tuple{AbstractUnitRange,Vararg{Any,N} where N} where A<:DenseArray where N where T, DenseArray} where N where T, SubArray{T,N,A,I,true} where I<:Tuple{AbstractUnitRange,Vararg{Any,N} where N} where A<:DenseArray where N where T, DenseArray}, SubArray{T,2,A,I,L} where L where I<:Tuple{Vararg{Union{Int64, AbstractRange{Int64}, AbstractCartesianIndex},N} where N} where A<:Union{ReinterpretArray{T,N,S,A} where S where A<:Union{SubArray{T,N,A,I,true} where I<:Tuple{AbstractUnitRange,Vararg{Any,N} where N} where A<:DenseArray where N where T, DenseArray} where N where T, ReshapedArray{T,N,A,MI} where MI<:Tuple{Vararg{SignedMultiplicativeInverse{Int64},N} where N} where A<:Union{ReinterpretArray{T,N,S,A} where S where A<:Union{SubArray{T,N,A,I,true} where I<:Tuple{AbstractUnitRange,Vararg{Any,N} where N} where A<:DenseArray where N where T, DenseArray} where N where T, SubArray{T,N,A,I,true} where I<:Tuple{AbstractUnitRange,Vararg{Any,N} where N} where A<:DenseArray where N where T, DenseArray} where N where T, DenseArray}} where T</b>, adjB::<b>LinearAlgebra.Adjoint{#s576,#s575} where #s575<:LinearAlgebra.AbstractQ where #s576</b>) in LinearAlgebra at <a href=\"file:///Applications/Julia-1.0.app/Contents/Resources/julia/share/julia/stdlib/v1.0/LinearAlgebra/src/qr.jl\" target=\"_blank\">/Applications/Julia-1.0.app/Contents/Resources/julia/share/julia/stdlib/v1.0/LinearAlgebra/src/qr.jl:709</a></li> <li> *(A::<b>LinearAlgebra.LQPackedQ</b>, B::<b>Union{DenseArray{T,1}, DenseArray{T,2}, ReinterpretArray{T,2,S,A} where S where A<:Union{SubArray{T,N,A,I,true} where I<:Tuple{AbstractUnitRange,Vararg{Any,N} where N} where A<:DenseArray where N where T, DenseArray}, ReinterpretArray{T,1,S,A} where S where A<:Union{SubArray{T,N,A,I,true} where I<:Tuple{AbstractUnitRange,Vararg{Any,N} where N} where A<:DenseArray where N where T, DenseArray}, ReshapedArray{T,1,A,MI} where MI<:Tuple{Vararg{SignedMultiplicativeInverse{Int64},N} where N} where A<:Union{ReinterpretArray{T,N,S,A} where S where A<:Union{SubArray{T,N,A,I,true} where I<:Tuple{AbstractUnitRange,Vararg{Any,N} where N} where A<:DenseArray where N where T, DenseArray} where N where T, SubArray{T,N,A,I,true} where I<:Tuple{AbstractUnitRange,Vararg{Any,N} where N} where A<:DenseArray where N where T, DenseArray}, ReshapedArray{T,2,A,MI} where MI<:Tuple{Vararg{SignedMultiplicativeInverse{Int64},N} where N} where A<:Union{ReinterpretArray{T,N,S,A} where S where A<:Union{SubArray{T,N,A,I,true} where I<:Tuple{AbstractUnitRange,Vararg{Any,N} where N} where A<:DenseArray where N where T, DenseArray} where N where T, SubArray{T,N,A,I,true} where I<:Tuple{AbstractUnitRange,Vararg{Any,N} where N} where A<:DenseArray where N where T, DenseArray}, SubArray{T,1,A,I,L} where L where I<:Tuple{Vararg{Union{Int64, AbstractRange{Int64}, AbstractCartesianIndex},N} where N} where A<:Union{ReinterpretArray{T,N,S,A} where S where A<:Union{SubArray{T,N,A,I,true} where I<:Tuple{AbstractUnitRange,Vararg{Any,N} where N} where A<:DenseArray where N where T, DenseArray} where N where T, ReshapedArray{T,N,A,MI} where MI<:Tuple{Vararg{SignedMultiplicativeInverse{Int64},N} where N} where A<:Union{ReinterpretArray{T,N,S,A} where S where A<:Union{SubArray{T,N,A,I,true} where I<:Tuple{AbstractUnitRange,Vararg{Any,N} where N} where A<:DenseArray where N where T, DenseArray} where N where T, SubArray{T,N,A,I,true} where I<:Tuple{AbstractUnitRange,Vararg{Any,N} where N} where A<:DenseArray where N where T, DenseArray} where N where T, DenseArray}, SubArray{T,2,A,I,L} where L where I<:Tuple{Vararg{Union{Int64, AbstractRange{Int64}, AbstractCartesianIndex},N} where N} where A<:Union{ReinterpretArray{T,N,S,A} where S where A<:Union{SubArray{T,N,A,I,true} where I<:Tuple{AbstractUnitRange,Vararg{Any,N} where N} where A<:DenseArray where N where T, DenseArray} where N where T, ReshapedArray{T,N,A,MI} where MI<:Tuple{Vararg{SignedMultiplicativeInverse{Int64},N} where N} where A<:Union{ReinterpretArray{T,N,S,A} where S where A<:Union{SubArray{T,N,A,I,true} where I<:Tuple{AbstractUnitRange,Vararg{Any,N} where N} where A<:DenseArray where N where T, DenseArray} where N where T, SubArray{T,N,A,I,true} where I<:Tuple{AbstractUnitRange,Vararg{Any,N} where N} where A<:DenseArray where N where T, DenseArray} where N where T, DenseArray}} where T</b>) in LinearAlgebra at <a href=\"file:///Applications/Julia-1.0.app/Contents/Resources/julia/share/julia/stdlib/v1.0/LinearAlgebra/src/lq.jl\" target=\"_blank\">/Applications/Julia-1.0.app/Contents/Resources/julia/share/julia/stdlib/v1.0/LinearAlgebra/src/lq.jl:152</a></li> <li> *(A::<b>LinearAlgebra.LQPackedQ</b>, adjB::<b>LinearAlgebra.Adjoint{#s576,#s575} where #s575<:(Union{DenseArray{T,1}, DenseArray{T,2}, ReinterpretArray{T,2,S,A} where S where A<:Union{SubArray{T,N,A,I,true} where I<:Tuple{AbstractUnitRange,Vararg{Any,N} where N} where A<:DenseArray where N where T, DenseArray}, ReinterpretArray{T,1,S,A} where S where A<:Union{SubArray{T,N,A,I,true} where I<:Tuple{AbstractUnitRange,Vararg{Any,N} where N} where A<:DenseArray where N where T, DenseArray}, ReshapedArray{T,1,A,MI} where MI<:Tuple{Vararg{SignedMultiplicativeInverse{Int64},N} where N} where A<:Union{ReinterpretArray{T,N,S,A} where S where A<:Union{SubArray{T,N,A,I,true} where I<:Tuple{AbstractUnitRange,Vararg{Any,N} where N} where A<:DenseArray where N where T, DenseArray} where N where T, SubArray{T,N,A,I,true} where I<:Tuple{AbstractUnitRange,Vararg{Any,N} where N} where A<:DenseArray where N where T, DenseArray}, ReshapedArray{T,2,A,MI} where MI<:Tuple{Vararg{SignedMultiplicativeInverse{Int64},N} where N} where A<:Union{ReinterpretArray{T,N,S,A} where S where A<:Union{SubArray{T,N,A,I,true} where I<:Tuple{AbstractUnitRange,Vararg{Any,N} where N} where A<:DenseArray where N where T, DenseArray} where N where T, SubArray{T,N,A,I,true} where I<:Tuple{AbstractUnitRange,Vararg{Any,N} where N} where A<:DenseArray where N where T, DenseArray}, SubArray{T,1,A,I,L} where L where I<:Tuple{Vararg{Union{Int64, AbstractRange{Int64}, AbstractCartesianIndex},N} where N} where A<:Union{ReinterpretArray{T,N,S,A} where S where A<:Union{SubArray{T,N,A,I,true} where I<:Tuple{AbstractUnitRange,Vararg{Any,N} where N} where A<:DenseArray where N where T, DenseArray} where N where T, ReshapedArray{T,N,A,MI} where MI<:Tuple{Vararg{SignedMultiplicativeInverse{Int64},N} where N} where A<:Union{ReinterpretArray{T,N,S,A} where S where A<:Union{SubArray{T,N,A,I,true} where I<:Tuple{AbstractUnitRange,Vararg{Any,N} where N} where A<:DenseArray where N where T, DenseArray} where N where T, SubArray{T,N,A,I,true} where I<:Tuple{AbstractUnitRange,Vararg{Any,N} where N} where A<:DenseArray where N where T, DenseArray} where N where T, DenseArray}, SubArray{T,2,A,I,L} where L where I<:Tuple{Vararg{Union{Int64, AbstractRange{Int64}, AbstractCartesianIndex},N} where N} where A<:Union{ReinterpretArray{T,N,S,A} where S where A<:Union{SubArray{T,N,A,I,true} where I<:Tuple{AbstractUnitRange,Vararg{Any,N} where N} where A<:DenseArray where N where T, DenseArray} where N where T, ReshapedArray{T,N,A,MI} where MI<:Tuple{Vararg{SignedMultiplicativeInverse{Int64},N} where N} where A<:Union{ReinterpretArray{T,N,S,A} where S where A<:Union{SubArray{T,N,A,I,true} where I<:Tuple{AbstractUnitRange,Vararg{Any,N} where N} where A<:DenseArray where N where T, DenseArray} where N where T, SubArray{T,N,A,I,true} where I<:Tuple{AbstractUnitRange,Vararg{Any,N} where N} where A<:DenseArray where N where T, DenseArray} where N where T, DenseArray}} where T) where #s576</b>) in LinearAlgebra at <a href=\"file:///Applications/Julia-1.0.app/Contents/Resources/julia/share/julia/stdlib/v1.0/LinearAlgebra/src/lq.jl\" target=\"_blank\">/Applications/Julia-1.0.app/Contents/Resources/julia/share/julia/stdlib/v1.0/LinearAlgebra/src/lq.jl:176</a></li> <li> *(A::<b>Union{DenseArray{T,1}, DenseArray{T,2}, ReinterpretArray{T,2,S,A} where S where A<:Union{SubArray{T,N,A,I,true} where I<:Tuple{AbstractUnitRange,Vararg{Any,N} where N} where A<:DenseArray where N where T, DenseArray}, ReinterpretArray{T,1,S,A} where S where A<:Union{SubArray{T,N,A,I,true} where I<:Tuple{AbstractUnitRange,Vararg{Any,N} where N} where A<:DenseArray where N where T, DenseArray}, ReshapedArray{T,1,A,MI} where MI<:Tuple{Vararg{SignedMultiplicativeInverse{Int64},N} where N} where A<:Union{ReinterpretArray{T,N,S,A} where S where A<:Union{SubArray{T,N,A,I,true} where I<:Tuple{AbstractUnitRange,Vararg{Any,N} where N} where A<:DenseArray where N where T, DenseArray} where N where T, SubArray{T,N,A,I,true} where I<:Tuple{AbstractUnitRange,Vararg{Any,N} where N} where A<:DenseArray where N where T, DenseArray}, ReshapedArray{T,2,A,MI} where MI<:Tuple{Vararg{SignedMultiplicativeInverse{Int64},N} where N} where A<:Union{ReinterpretArray{T,N,S,A} where S where A<:Union{SubArray{T,N,A,I,true} where I<:Tuple{AbstractUnitRange,Vararg{Any,N} where N} where A<:DenseArray where N where T, DenseArray} where N where T, SubArray{T,N,A,I,true} where I<:Tuple{AbstractUnitRange,Vararg{Any,N} where N} where A<:DenseArray where N where T, DenseArray}, SubArray{T,1,A,I,L} where L where I<:Tuple{Vararg{Union{Int64, AbstractRange{Int64}, AbstractCartesianIndex},N} where N} where A<:Union{ReinterpretArray{T,N,S,A} where S where A<:Union{SubArray{T,N,A,I,true} where I<:Tuple{AbstractUnitRange,Vararg{Any,N} where N} where A<:DenseArray where N where T, DenseArray} where N where T, ReshapedArray{T,N,A,MI} where MI<:Tuple{Vararg{SignedMultiplicativeInverse{Int64},N} where N} where A<:Union{ReinterpretArray{T,N,S,A} where S where A<:Union{SubArray{T,N,A,I,true} where I<:Tuple{AbstractUnitRange,Vararg{Any,N} where N} where A<:DenseArray where N where T, DenseArray} where N where T, SubArray{T,N,A,I,true} where I<:Tuple{AbstractUnitRange,Vararg{Any,N} where N} where A<:DenseArray where N where T, DenseArray} where N where T, DenseArray}, SubArray{T,2,A,I,L} where L where I<:Tuple{Vararg{Union{Int64, AbstractRange{Int64}, AbstractCartesianIndex},N} where N} where A<:Union{ReinterpretArray{T,N,S,A} where S where A<:Union{SubArray{T,N,A,I,true} where I<:Tuple{AbstractUnitRange,Vararg{Any,N} where N} where A<:DenseArray where N where T, DenseArray} where N where T, ReshapedArray{T,N,A,MI} where MI<:Tuple{Vararg{SignedMultiplicativeInverse{Int64},N} where N} where A<:Union{ReinterpretArray{T,N,S,A} where S where A<:Union{SubArray{T,N,A,I,true} where I<:Tuple{AbstractUnitRange,Vararg{Any,N} where N} where A<:DenseArray where N where T, DenseArray} where N where T, SubArray{T,N,A,I,true} where I<:Tuple{AbstractUnitRange,Vararg{Any,N} where N} where A<:DenseArray where N where T, DenseArray} where N where T, DenseArray}} where T</b>, adjQ::<b>LinearAlgebra.Adjoint{#s576,#s575} where #s575<:LinearAlgebra.LQPackedQ where #s576</b>) in LinearAlgebra at <a href=\"file:///Applications/Julia-1.0.app/Contents/Resources/julia/share/julia/stdlib/v1.0/LinearAlgebra/src/lq.jl\" target=\"_blank\">/Applications/Julia-1.0.app/Contents/Resources/julia/share/julia/stdlib/v1.0/LinearAlgebra/src/lq.jl:215</a></li> <li> *(A::<b>Union{DenseArray{T,1}, DenseArray{T,2}, ReinterpretArray{T,2,S,A} where S where A<:Union{SubArray{T,N,A,I,true} where I<:Tuple{AbstractUnitRange,Vararg{Any,N} where N} where A<:DenseArray where N where T, DenseArray}, ReinterpretArray{T,1,S,A} where S where A<:Union{SubArray{T,N,A,I,true} where I<:Tuple{AbstractUnitRange,Vararg{Any,N} where N} where A<:DenseArray where N where T, DenseArray}, ReshapedArray{T,1,A,MI} where MI<:Tuple{Vararg{SignedMultiplicativeInverse{Int64},N} where N} where A<:Union{ReinterpretArray{T,N,S,A} where S where A<:Union{SubArray{T,N,A,I,true} where I<:Tuple{AbstractUnitRange,Vararg{Any,N} where N} where A<:DenseArray where N where T, DenseArray} where N where T, SubArray{T,N,A,I,true} where I<:Tuple{AbstractUnitRange,Vararg{Any,N} where N} where A<:DenseArray where N where T, DenseArray}, ReshapedArray{T,2,A,MI} where MI<:Tuple{Vararg{SignedMultiplicativeInverse{Int64},N} where N} where A<:Union{ReinterpretArray{T,N,S,A} where S where A<:Union{SubArray{T,N,A,I,true} where I<:Tuple{AbstractUnitRange,Vararg{Any,N} where N} where A<:DenseArray where N where T, DenseArray} where N where T, SubArray{T,N,A,I,true} where I<:Tuple{AbstractUnitRange,Vararg{Any,N} where N} where A<:DenseArray where N where T, DenseArray}, SubArray{T,1,A,I,L} where L where I<:Tuple{Vararg{Union{Int64, AbstractRange{Int64}, AbstractCartesianIndex},N} where N} where A<:Union{ReinterpretArray{T,N,S,A} where S where A<:Union{SubArray{T,N,A,I,true} where I<:Tuple{AbstractUnitRange,Vararg{Any,N} where N} where A<:DenseArray where N where T, DenseArray} where N where T, ReshapedArray{T,N,A,MI} where MI<:Tuple{Vararg{SignedMultiplicativeInverse{Int64},N} where N} where A<:Union{ReinterpretArray{T,N,S,A} where S where A<:Union{SubArray{T,N,A,I,true} where I<:Tuple{AbstractUnitRange,Vararg{Any,N} where N} where A<:DenseArray where N where T, DenseArray} where N where T, SubArray{T,N,A,I,true} where I<:Tuple{AbstractUnitRange,Vararg{Any,N} where N} where A<:DenseArray where N where T, DenseArray} where N where T, DenseArray}, SubArray{T,2,A,I,L} where L where I<:Tuple{Vararg{Union{Int64, AbstractRange{Int64}, AbstractCartesianIndex},N} where N} where A<:Union{ReinterpretArray{T,N,S,A} where S where A<:Union{SubArray{T,N,A,I,true} where I<:Tuple{AbstractUnitRange,Vararg{Any,N} where N} where A<:DenseArray where N where T, DenseArray} where N where T, ReshapedArray{T,N,A,MI} where MI<:Tuple{Vararg{SignedMultiplicativeInverse{Int64},N} where N} where A<:Union{ReinterpretArray{T,N,S,A} where S where A<:Union{SubArray{T,N,A,I,true} where I<:Tuple{AbstractUnitRange,Vararg{Any,N} where N} where A<:DenseArray where N where T, DenseArray} where N where T, SubArray{T,N,A,I,true} where I<:Tuple{AbstractUnitRange,Vararg{Any,N} where N} where A<:DenseArray where N where T, DenseArray} where N where T, DenseArray}} where T</b>, Q::<b>LinearAlgebra.LQPackedQ</b>) in LinearAlgebra at <a href=\"file:///Applications/Julia-1.0.app/Contents/Resources/julia/share/julia/stdlib/v1.0/LinearAlgebra/src/lq.jl\" target=\"_blank\">/Applications/Julia-1.0.app/Contents/Resources/julia/share/julia/stdlib/v1.0/LinearAlgebra/src/lq.jl:239</a></li> <li> *(A::<b>Union{Hermitian{T,S}, Symmetric{T,S}} where S where T</b>, B::<b>Union{Hermitian{T,S}, Symmetric{T,S}} where S where T</b>) in LinearAlgebra at <a href=\"file:///Applications/Julia-1.0.app/Contents/Resources/julia/share/julia/stdlib/v1.0/LinearAlgebra/src/symmetric.jl\" target=\"_blank\">/Applications/Julia-1.0.app/Contents/Resources/julia/share/julia/stdlib/v1.0/LinearAlgebra/src/symmetric.jl:417</a></li> <li> *(A::<b>LinearAlgebra.Symmetric</b>, x::<b>Bool</b>) in LinearAlgebra at <a href=\"file:///Applications/Julia-1.0.app/Contents/Resources/julia/share/julia/stdlib/v1.0/LinearAlgebra/src/symmetric.jl\" target=\"_blank\">/Applications/Julia-1.0.app/Contents/Resources/julia/share/julia/stdlib/v1.0/LinearAlgebra/src/symmetric.jl:445</a></li> <li> *(A::<b>LinearAlgebra.Symmetric</b>, x::<b>Number</b>) in LinearAlgebra at <a href=\"file:///Applications/Julia-1.0.app/Contents/Resources/julia/share/julia/stdlib/v1.0/LinearAlgebra/src/symmetric.jl\" target=\"_blank\">/Applications/Julia-1.0.app/Contents/Resources/julia/share/julia/stdlib/v1.0/LinearAlgebra/src/symmetric.jl:447</a></li> <li> *(A::<b>LinearAlgebra.Hermitian</b>, x::<b>Bool</b>) in LinearAlgebra at <a href=\"file:///Applications/Julia-1.0.app/Contents/Resources/julia/share/julia/stdlib/v1.0/LinearAlgebra/src/symmetric.jl\" target=\"_blank\">/Applications/Julia-1.0.app/Contents/Resources/julia/share/julia/stdlib/v1.0/LinearAlgebra/src/symmetric.jl:445</a></li> <li> *(A::<b>LinearAlgebra.Hermitian</b>, x::<b>Real</b>) in LinearAlgebra at <a href=\"file:///Applications/Julia-1.0.app/Contents/Resources/julia/share/julia/stdlib/v1.0/LinearAlgebra/src/symmetric.jl\" target=\"_blank\">/Applications/Julia-1.0.app/Contents/Resources/julia/share/julia/stdlib/v1.0/LinearAlgebra/src/symmetric.jl:447</a></li> <li> *(A::<b>LinearAlgebra.Adjoint{#s576,#s575} where #s575<:(AbstractArray{T,2} where T) where #s576</b>, B::<b>LinearAlgebra.Adjoint{#s574,#s573} where #s573<:(Union{Hermitian{T,S}, Hermitian{Complex{T},S}, Symmetric{T,S}} where S where T<:Real) where #s574</b>) in LinearAlgebra at <a href=\"file:///Applications/Julia-1.0.app/Contents/Resources/julia/share/julia/stdlib/v1.0/LinearAlgebra/src/symmetric.jl\" target=\"_blank\">/Applications/Julia-1.0.app/Contents/Resources/julia/share/julia/stdlib/v1.0/LinearAlgebra/src/symmetric.jl:840</a></li> <li> *(A::<b>LinearAlgebra.Adjoint{#s576,#s575} where #s575<:(AbstractArray{T,2} where T) where #s576</b>, B::<b>LinearAlgebra.Transpose{#s574,#s573} where #s573<:(Union{Hermitian{T,S}, Symmetric{T,S}, Symmetric{Complex{T},S}} where S where T<:Real) where #s574</b>) in LinearAlgebra at <a href=\"file:///Applications/Julia-1.0.app/Contents/Resources/julia/share/julia/stdlib/v1.0/LinearAlgebra/src/symmetric.jl\" target=\"_blank\">/Applications/Julia-1.0.app/Contents/Resources/julia/share/julia/stdlib/v1.0/LinearAlgebra/src/symmetric.jl:842</a></li> <li> *(A::<b>LinearAlgebra.Transpose{#s576,#s575} where #s575<:(AbstractArray{T,2} where T) where #s576</b>, B::<b>LinearAlgebra.Adjoint{#s574,#s573} where #s573<:(Union{Hermitian{T,S}, Hermitian{Complex{T},S}, Symmetric{T,S}} where S where T<:Real) where #s574</b>) in LinearAlgebra at <a href=\"file:///Applications/Julia-1.0.app/Contents/Resources/julia/share/julia/stdlib/v1.0/LinearAlgebra/src/symmetric.jl\" target=\"_blank\">/Applications/Julia-1.0.app/Contents/Resources/julia/share/julia/stdlib/v1.0/LinearAlgebra/src/symmetric.jl:844</a></li> <li> *(A::<b>LinearAlgebra.Transpose{#s576,#s575} where #s575<:(AbstractArray{T,2} where T) where #s576</b>, B::<b>LinearAlgebra.Transpose{#s574,#s573} where #s573<:(Union{Hermitian{T,S}, Symmetric{T,S}, Symmetric{Complex{T},S}} where S where T<:Real) where #s574</b>) in LinearAlgebra at <a href=\"file:///Applications/Julia-1.0.app/Contents/Resources/julia/share/julia/stdlib/v1.0/LinearAlgebra/src/symmetric.jl\" target=\"_blank\">/Applications/Julia-1.0.app/Contents/Resources/julia/share/julia/stdlib/v1.0/LinearAlgebra/src/symmetric.jl:846</a></li> <li> *(D::<b>LinearAlgebra.Diagonal</b>, x::<b>Number</b>) in LinearAlgebra at <a href=\"file:///Applications/Julia-1.0.app/Contents/Resources/julia/share/julia/stdlib/v1.0/LinearAlgebra/src/diagonal.jl\" target=\"_blank\">/Applications/Julia-1.0.app/Contents/Resources/julia/share/julia/stdlib/v1.0/LinearAlgebra/src/diagonal.jl:156</a></li> <li> *(Da::<b>LinearAlgebra.Diagonal</b>, Db::<b>LinearAlgebra.Diagonal</b>) in LinearAlgebra at <a href=\"file:///Applications/Julia-1.0.app/Contents/Resources/julia/share/julia/stdlib/v1.0/LinearAlgebra/src/diagonal.jl\" target=\"_blank\">/Applications/Julia-1.0.app/Contents/Resources/julia/share/julia/stdlib/v1.0/LinearAlgebra/src/diagonal.jl:158</a></li> <li> *(D::<b>LinearAlgebra.Diagonal</b>, B::<b>LinearAlgebra.AbstractTriangular</b>) in LinearAlgebra at <a href=\"file:///Applications/Julia-1.0.app/Contents/Resources/julia/share/julia/stdlib/v1.0/LinearAlgebra/src/diagonal.jl\" target=\"_blank\">/Applications/Julia-1.0.app/Contents/Resources/julia/share/julia/stdlib/v1.0/LinearAlgebra/src/diagonal.jl:162</a></li> <li> *(D::<b>LinearAlgebra.Diagonal</b>, B::<b>LinearAlgebra.Adjoint{#s576,#s575} where #s575<:LinearAlgebra.Diagonal where #s576</b>) in LinearAlgebra at <a href=\"file:///Applications/Julia-1.0.app/Contents/Resources/julia/share/julia/stdlib/v1.0/LinearAlgebra/src/diagonal.jl\" target=\"_blank\">/Applications/Julia-1.0.app/Contents/Resources/julia/share/julia/stdlib/v1.0/LinearAlgebra/src/diagonal.jl:230</a></li> <li> *(D::<b>LinearAlgebra.Diagonal</b>, B::<b>LinearAlgebra.Adjoint{#s576,#s575} where #s575<:LinearAlgebra.AbstractTriangular where #s576</b>) in LinearAlgebra at <a href=\"file:///Applications/Julia-1.0.app/Contents/Resources/julia/share/julia/stdlib/v1.0/LinearAlgebra/src/diagonal.jl\" target=\"_blank\">/Applications/Julia-1.0.app/Contents/Resources/julia/share/julia/stdlib/v1.0/LinearAlgebra/src/diagonal.jl:231</a></li> <li> *(D::<b>LinearAlgebra.Diagonal</b>, adjQ::<b>LinearAlgebra.Adjoint{#s576,#s575} where #s575<:Union{QRCompactWYQ, QRPackedQ} where #s576</b>) in LinearAlgebra at <a href=\"file:///Applications/Julia-1.0.app/Contents/Resources/julia/share/julia/stdlib/v1.0/LinearAlgebra/src/diagonal.jl\" target=\"_blank\">/Applications/Julia-1.0.app/Contents/Resources/julia/share/julia/stdlib/v1.0/LinearAlgebra/src/diagonal.jl:232</a></li> <li> *(A::<b>LinearAlgebra.Diagonal</b>, adjB::<b>LinearAlgebra.Adjoint{#s576,#s575} where #s575<:(Union{Hermitian{T,S}, Hermitian{Complex{T},S}, Symmetric{T,S}} where S where T<:Real) where #s576</b>) in LinearAlgebra at <a href=\"file:///Applications/Julia-1.0.app/Contents/Resources/julia/share/julia/stdlib/v1.0/LinearAlgebra/src/diagonal.jl\" target=\"_blank\">/Applications/Julia-1.0.app/Contents/Resources/julia/share/julia/stdlib/v1.0/LinearAlgebra/src/diagonal.jl:288</a></li> <li> *(D::<b>LinearAlgebra.Diagonal</b>, adjA::<b>LinearAlgebra.Adjoint{#s576,#s575} where #s575<:(AbstractArray{T,2} where T) where #s576</b>) in LinearAlgebra at <a href=\"file:///Applications/Julia-1.0.app/Contents/Resources/julia/share/julia/stdlib/v1.0/LinearAlgebra/src/diagonal.jl\" target=\"_blank\">/Applications/Julia-1.0.app/Contents/Resources/julia/share/julia/stdlib/v1.0/LinearAlgebra/src/diagonal.jl:234</a></li> <li> *(D::<b>LinearAlgebra.Diagonal</b>, B::<b>LinearAlgebra.Transpose{#s576,#s575} where #s575<:LinearAlgebra.Diagonal where #s576</b>) in LinearAlgebra at <a href=\"file:///Applications/Julia-1.0.app/Contents/Resources/julia/share/julia/stdlib/v1.0/LinearAlgebra/src/diagonal.jl\" target=\"_blank\">/Applications/Julia-1.0.app/Contents/Resources/julia/share/julia/stdlib/v1.0/LinearAlgebra/src/diagonal.jl:240</a></li> <li> *(D::<b>LinearAlgebra.Diagonal</b>, B::<b>LinearAlgebra.Transpose{#s576,#s575} where #s575<:LinearAlgebra.AbstractTriangular where #s576</b>) in LinearAlgebra at <a href=\"file:///Applications/Julia-1.0.app/Contents/Resources/julia/share/julia/stdlib/v1.0/LinearAlgebra/src/diagonal.jl\" target=\"_blank\">/Applications/Julia-1.0.app/Contents/Resources/julia/share/julia/stdlib/v1.0/LinearAlgebra/src/diagonal.jl:241</a></li> <li> *(A::<b>LinearAlgebra.Diagonal</b>, transB::<b>LinearAlgebra.Transpose{#s576,#s575} where #s575<:(Union{Hermitian{T,S}, Symmetric{T,S}, Symmetric{Complex{T},S}} where S where T<:Real) where #s576</b>) in LinearAlgebra at <a href=\"file:///Applications/Julia-1.0.app/Contents/Resources/julia/share/julia/stdlib/v1.0/LinearAlgebra/src/diagonal.jl\" target=\"_blank\">/Applications/Julia-1.0.app/Contents/Resources/julia/share/julia/stdlib/v1.0/LinearAlgebra/src/diagonal.jl:286</a></li> <li> *(D::<b>LinearAlgebra.Diagonal</b>, transA::<b>LinearAlgebra.Transpose{#s576,#s575} where #s575<:(AbstractArray{T,2} where T) where #s576</b>) in LinearAlgebra at <a href=\"file:///Applications/Julia-1.0.app/Contents/Resources/julia/share/julia/stdlib/v1.0/LinearAlgebra/src/diagonal.jl\" target=\"_blank\">/Applications/Julia-1.0.app/Contents/Resources/julia/share/julia/stdlib/v1.0/LinearAlgebra/src/diagonal.jl:243</a></li> <li> *(A::<b>LinearAlgebra.Diagonal</b>, B::<b>LinearAlgebra.Adjoint{#s576,#s575} where #s575<:LinearAlgebra.AbstractRotation where #s576</b>) in LinearAlgebra at <a href=\"file:///Applications/Julia-1.0.app/Contents/Resources/julia/share/julia/stdlib/v1.0/LinearAlgebra/src/givens.jl\" target=\"_blank\">/Applications/Julia-1.0.app/Contents/Resources/julia/share/julia/stdlib/v1.0/LinearAlgebra/src/givens.jl:397</a></li> <li> *(D::<b>LinearAlgebra.Diagonal</b>, A::<b>SparseArrays.SparseMatrixCSC</b>) in SparseArrays at <a href=\"file:///Applications/Julia-1.0.app/Contents/Resources/julia/share/julia/stdlib/v1.0/SparseArrays/src/linalg.jl\" target=\"_blank\">/Applications/Julia-1.0.app/Contents/Resources/julia/share/julia/stdlib/v1.0/SparseArrays/src/linalg.jl:130</a></li> <li> *(D::<b>LinearAlgebra.Diagonal{T,StaticArrays.SArray{Tuple{N},T,1,N}} where T where N</b>, A::<b>StaticArrays.StaticArray{Tuple{N,M},T,2} where T where M where N</b>) in StaticArrays at <a href=\"file:///Users/abradley/.julia/packages/StaticArrays/mcf7t/src/SDiagonal.jl\" target=\"_blank\">/Users/abradley/.julia/packages/StaticArrays/mcf7t/src/SDiagonal.jl:22</a></li> <li> *(D::<b>LinearAlgebra.Diagonal</b>, V::<b>AbstractArray{T,1} where T</b>) in LinearAlgebra at <a href=\"file:///Applications/Julia-1.0.app/Contents/Resources/julia/share/julia/stdlib/v1.0/LinearAlgebra/src/diagonal.jl\" target=\"_blank\">/Applications/Julia-1.0.app/Contents/Resources/julia/share/julia/stdlib/v1.0/LinearAlgebra/src/diagonal.jl:159</a></li> <li> *(D::<b>LinearAlgebra.Diagonal</b>, A::<b>AbstractArray{T,2} where T</b>) in LinearAlgebra at <a href=\"file:///Applications/Julia-1.0.app/Contents/Resources/julia/share/julia/stdlib/v1.0/LinearAlgebra/src/diagonal.jl\" target=\"_blank\">/Applications/Julia-1.0.app/Contents/Resources/julia/share/julia/stdlib/v1.0/LinearAlgebra/src/diagonal.jl:166</a></li> <li> *(adjA::<b>LinearAlgebra.Adjoint{#s576,#s575} where #s575<:(AbstractArray{T,2} where T) where #s576</b>, D::<b>LinearAlgebra.Diagonal</b>) in LinearAlgebra at <a href=\"file:///Applications/Julia-1.0.app/Contents/Resources/julia/share/julia/stdlib/v1.0/LinearAlgebra/src/diagonal.jl\" target=\"_blank\">/Applications/Julia-1.0.app/Contents/Resources/julia/share/julia/stdlib/v1.0/LinearAlgebra/src/diagonal.jl:215</a></li> <li> *(transA::<b>LinearAlgebra.Transpose{#s576,#s575} where #s575<:(AbstractArray{T,2} where T) where #s576</b>, D::<b>LinearAlgebra.Diagonal</b>) in LinearAlgebra at <a href=\"file:///Applications/Julia-1.0.app/Contents/Resources/julia/share/julia/stdlib/v1.0/LinearAlgebra/src/diagonal.jl\" target=\"_blank\">/Applications/Julia-1.0.app/Contents/Resources/julia/share/julia/stdlib/v1.0/LinearAlgebra/src/diagonal.jl:224</a></li> <li> *(A::<b>LinearAlgebra.Bidiagonal</b>, B::<b>Number</b>) in LinearAlgebra at <a href=\"file:///Applications/Julia-1.0.app/Contents/Resources/julia/share/julia/stdlib/v1.0/LinearAlgebra/src/bidiag.jl\" target=\"_blank\">/Applications/Julia-1.0.app/Contents/Resources/julia/share/julia/stdlib/v1.0/LinearAlgebra/src/bidiag.jl:320</a></li> <li> *(A::<b>Union{Bidiagonal, SymTridiagonal, Tridiagonal}</b>, B::<b>Union{Bidiagonal, SymTridiagonal, Tridiagonal}</b>) in LinearAlgebra at <a href=\"file:///Applications/Julia-1.0.app/Contents/Resources/julia/share/julia/stdlib/v1.0/LinearAlgebra/src/bidiag.jl\" target=\"_blank\">/Applications/Julia-1.0.app/Contents/Resources/julia/share/julia/stdlib/v1.0/LinearAlgebra/src/bidiag.jl:492</a></li> <li> *<i>{T}</i>(A::<b>LinearAlgebra.Bidiagonal{T,V} where V<:AbstractArray{T,1}</b>, adjB::<b>LinearAlgebra.Adjoint{#s576,#s575} where #s575<:AbstractArray{T,1} where #s576</b>) in LinearAlgebra at <a href=\"file:///Applications/Julia-1.0.app/Contents/Resources/julia/share/julia/stdlib/v1.0/LinearAlgebra/src/bidiag.jl\" target=\"_blank\">/Applications/Julia-1.0.app/Contents/Resources/julia/share/julia/stdlib/v1.0/LinearAlgebra/src/bidiag.jl:497</a></li> <li> *<i>{T}</i>(A::<b>LinearAlgebra.Bidiagonal{T,V} where V<:AbstractArray{T,1}</b>, B::<b>AbstractArray{T,1}</b>) in LinearAlgebra at <a href=\"file:///Applications/Julia-1.0.app/Contents/Resources/julia/share/julia/stdlib/v1.0/LinearAlgebra/src/bidiag.jl\" target=\"_blank\">/Applications/Julia-1.0.app/Contents/Resources/julia/share/julia/stdlib/v1.0/LinearAlgebra/src/bidiag.jl:495</a></li> <li> *(A::<b>LinearAlgebra.Adjoint{#s576,#s575} where #s575<:(AbstractArray{T,2} where T) where #s576</b>, B::<b>LinearAlgebra.Adjoint{#s574,#s573} where #s573<:LinearAlgebra.AbstractRotation where #s574</b>) in LinearAlgebra at <a href=\"file:///Applications/Julia-1.0.app/Contents/Resources/julia/share/julia/stdlib/v1.0/LinearAlgebra/src/givens.jl\" target=\"_blank\">/Applications/Julia-1.0.app/Contents/Resources/julia/share/julia/stdlib/v1.0/LinearAlgebra/src/givens.jl:388</a></li> <li> *(A::<b>LinearAlgebra.Transpose{#s576,#s575} where #s575<:(AbstractArray{T,2} where T) where #s576</b>, B::<b>LinearAlgebra.Adjoint{#s574,#s573} where #s573<:LinearAlgebra.AbstractRotation where #s574</b>) in LinearAlgebra at <a href=\"file:///Applications/Julia-1.0.app/Contents/Resources/julia/share/julia/stdlib/v1.0/LinearAlgebra/src/givens.jl\" target=\"_blank\">/Applications/Julia-1.0.app/Contents/Resources/julia/share/julia/stdlib/v1.0/LinearAlgebra/src/givens.jl:390</a></li> <li> *(x::<b>Union{SubArray{T,1,#s576,Tuple{Slice{OneTo{Int64}},Int64},false} where #s576<:SparseMatrixCSC, SparseVector{T,Ti} where Ti<:Integer} where T</b>, a::<b>Number</b>) in SparseArrays at <a href=\"file:///Applications/Julia-1.0.app/Contents/Resources/julia/share/julia/stdlib/v1.0/SparseArrays/src/sparsevector.jl\" target=\"_blank\">/Applications/Julia-1.0.app/Contents/Resources/julia/share/julia/stdlib/v1.0/SparseArrays/src/sparsevector.jl:1393</a></li> <li> *<i>{TX, TvA, TiA}</i>(X::<b>Union{DenseArray{TX,2}, ReinterpretArray{TX,2,S,A} where S where A<:Union{SubArray{T,N,A,I,true} where I<:Tuple{AbstractUnitRange,Vararg{Any,N} where N} where A<:DenseArray where N where T, DenseArray}, ReshapedArray{TX,2,A,MI} where MI<:Tuple{Vararg{SignedMultiplicativeInverse{Int64},N} where N} where A<:Union{ReinterpretArray{T,N,S,A} where S where A<:Union{SubArray{T,N,A,I,true} where I<:Tuple{AbstractUnitRange,Vararg{Any,N} where N} where A<:DenseArray where N where T, DenseArray} where N where T, SubArray{T,N,A,I,true} where I<:Tuple{AbstractUnitRange,Vararg{Any,N} where N} where A<:DenseArray where N where T, DenseArray}, SubArray{TX,2,A,I,L} where L where I<:Tuple{Vararg{Union{Int64, AbstractRange{Int64}, AbstractCartesianIndex},N} where N} where A<:Union{ReinterpretArray{T,N,S,A} where S where A<:Union{SubArray{T,N,A,I,true} where I<:Tuple{AbstractUnitRange,Vararg{Any,N} where N} where A<:DenseArray where N where T, DenseArray} where N where T, ReshapedArray{T,N,A,MI} where MI<:Tuple{Vararg{SignedMultiplicativeInverse{Int64},N} where N} where A<:Union{ReinterpretArray{T,N,S,A} where S where A<:Union{SubArray{T,N,A,I,true} where I<:Tuple{AbstractUnitRange,Vararg{Any,N} where N} where A<:DenseArray where N where T, DenseArray} where N where T, SubArray{T,N,A,I,true} where I<:Tuple{AbstractUnitRange,Vararg{Any,N} where N} where A<:DenseArray where N where T, DenseArray} where N where T, DenseArray}}</b>, A::<b>SparseArrays.SparseMatrixCSC{TvA,TiA}</b>) in SparseArrays at <a href=\"file:///Applications/Julia-1.0.app/Contents/Resources/julia/share/julia/stdlib/v1.0/SparseArrays/src/linalg.jl\" target=\"_blank\">/Applications/Julia-1.0.app/Contents/Resources/julia/share/julia/stdlib/v1.0/SparseArrays/src/linalg.jl:118</a></li> <li> *<i>{Ta, Tx}</i>(A::<b>Union{DenseArray{Ta,2}, ReinterpretArray{Ta,2,S,A} where S where A<:Union{SubArray{T,N,A,I,true} where I<:Tuple{AbstractUnitRange,Vararg{Any,N} where N} where A<:DenseArray where N where T, DenseArray}, ReshapedArray{Ta,2,A,MI} where MI<:Tuple{Vararg{SignedMultiplicativeInverse{Int64},N} where N} where A<:Union{ReinterpretArray{T,N,S,A} where S where A<:Union{SubArray{T,N,A,I,true} where I<:Tuple{AbstractUnitRange,Vararg{Any,N} where N} where A<:DenseArray where N where T, DenseArray} where N where T, SubArray{T,N,A,I,true} where I<:Tuple{AbstractUnitRange,Vararg{Any,N} where N} where A<:DenseArray where N where T, DenseArray}, SubArray{Ta,2,A,I,L} where L where I<:Tuple{Vararg{Union{Int64, AbstractRange{Int64}, AbstractCartesianIndex},N} where N} where A<:Union{ReinterpretArray{T,N,S,A} where S where A<:Union{SubArray{T,N,A,I,true} where I<:Tuple{AbstractUnitRange,Vararg{Any,N} where N} where A<:DenseArray where N where T, DenseArray} where N where T, ReshapedArray{T,N,A,MI} where MI<:Tuple{Vararg{SignedMultiplicativeInverse{Int64},N} where N} where A<:Union{ReinterpretArray{T,N,S,A} where S where A<:Union{SubArray{T,N,A,I,true} where I<:Tuple{AbstractUnitRange,Vararg{Any,N} where N} where A<:DenseArray where N where T, DenseArray} where N where T, SubArray{T,N,A,I,true} where I<:Tuple{AbstractUnitRange,Vararg{Any,N} where N} where A<:DenseArray where N where T, DenseArray} where N where T, DenseArray}}</b>, x::<b>SparseArrays.AbstractSparseArray{Tx,Ti,1} where Ti</b>) in SparseArrays at <a href=\"file:///Applications/Julia-1.0.app/Contents/Resources/julia/share/julia/stdlib/v1.0/SparseArrays/src/sparsevector.jl\" target=\"_blank\">/Applications/Julia-1.0.app/Contents/Resources/julia/share/julia/stdlib/v1.0/SparseArrays/src/sparsevector.jl:1480</a></li> <li> *(A::<b>SparseArrays.SparseMatrixCSC</b>, x::<b>SparseArrays.AbstractSparseArray{Tv,Ti,1} where Ti where Tv</b>) in SparseArrays at <a href=\"file:///Applications/Julia-1.0.app/Contents/Resources/julia/share/julia/stdlib/v1.0/SparseArrays/src/sparsevector.jl\" target=\"_blank\">/Applications/Julia-1.0.app/Contents/Resources/julia/share/julia/stdlib/v1.0/SparseArrays/src/sparsevector.jl:1667</a></li> <li> *<i>{Tv, Ti}</i>(A::<b>SparseArrays.SparseMatrixCSC{Tv,Ti}</b>, B::<b>SparseArrays.SparseMatrixCSC{Tv,Ti}</b>) in SparseArrays at <a href=\"file:///Applications/Julia-1.0.app/Contents/Resources/julia/share/julia/stdlib/v1.0/SparseArrays/src/linalg.jl\" target=\"_blank\">/Applications/Julia-1.0.app/Contents/Resources/julia/share/julia/stdlib/v1.0/SparseArrays/src/linalg.jl:141</a></li> <li> *<i>{TvA, TiA, TvB, TiB}</i>(A::<b>SparseArrays.SparseMatrixCSC{TvA,TiA}</b>, B::<b>SparseArrays.SparseMatrixCSC{TvB,TiB}</b>) in SparseArrays at <a href=\"file:///Applications/Julia-1.0.app/Contents/Resources/julia/share/julia/stdlib/v1.0/SparseArrays/src/linalg.jl\" target=\"_blank\">/Applications/Julia-1.0.app/Contents/Resources/julia/share/julia/stdlib/v1.0/SparseArrays/src/linalg.jl:7</a></li> <li> *<i>{Tv, Ti}</i>(A::<b>SparseArrays.SparseMatrixCSC{Tv,Ti}</b>, B::<b>LinearAlgebra.Transpose{#s576,#s575} where #s575<:SparseArrays.SparseMatrixCSC{Tv,Ti} where #s576</b>) in SparseArrays at <a href=\"file:///Applications/Julia-1.0.app/Contents/Resources/julia/share/julia/stdlib/v1.0/SparseArrays/src/linalg.jl\" target=\"_blank\">/Applications/Julia-1.0.app/Contents/Resources/julia/share/julia/stdlib/v1.0/SparseArrays/src/linalg.jl:143</a></li> <li> *<i>{TvA, TiA, TvB, TiB}</i>(A::<b>SparseArrays.SparseMatrixCSC{TvA,TiA}</b>, transB::<b>LinearAlgebra.Transpose{#s576,#s575} where #s575<:SparseArrays.SparseMatrixCSC{TvB,TiB} where #s576</b>) in SparseArrays at <a href=\"file:///Applications/Julia-1.0.app/Contents/Resources/julia/share/julia/stdlib/v1.0/SparseArrays/src/linalg.jl\" target=\"_blank\">/Applications/Julia-1.0.app/Contents/Resources/julia/share/julia/stdlib/v1.0/SparseArrays/src/linalg.jl:9</a></li> <li> *<i>{Tv, Ti}</i>(A::<b>SparseArrays.SparseMatrixCSC{Tv,Ti}</b>, B::<b>LinearAlgebra.Adjoint{#s576,#s575} where #s575<:SparseArrays.SparseMatrixCSC{Tv,Ti} where #s576</b>) in SparseArrays at <a href=\"file:///Applications/Julia-1.0.app/Contents/Resources/julia/share/julia/stdlib/v1.0/SparseArrays/src/linalg.jl\" target=\"_blank\">/Applications/Julia-1.0.app/Contents/Resources/julia/share/julia/stdlib/v1.0/SparseArrays/src/linalg.jl:142</a></li> <li> *<i>{TvA, TiA, TvB, TiB}</i>(A::<b>SparseArrays.SparseMatrixCSC{TvA,TiA}</b>, adjB::<b>LinearAlgebra.Adjoint{#s576,#s575} where #s575<:SparseArrays.SparseMatrixCSC{TvB,TiB} where #s576</b>) in SparseArrays at <a href=\"file:///Applications/Julia-1.0.app/Contents/Resources/julia/share/julia/stdlib/v1.0/SparseArrays/src/linalg.jl\" target=\"_blank\">/Applications/Julia-1.0.app/Contents/Resources/julia/share/julia/stdlib/v1.0/SparseArrays/src/linalg.jl:11</a></li> <li> *<i>{TA, S, Tx}</i>(A::<b>SparseArrays.SparseMatrixCSC{TA,S}</b>, x::<b>Union{DenseArray{Tx,1}, ReinterpretArray{Tx,1,S,A} where S where A<:Union{SubArray{T,N,A,I,true} where I<:Tuple{AbstractUnitRange,Vararg{Any,N} where N} where A<:DenseArray where N where T, DenseArray}, ReshapedArray{Tx,1,A,MI} where MI<:Tuple{Vararg{SignedMultiplicativeInverse{Int64},N} where N} where A<:Union{ReinterpretArray{T,N,S,A} where S where A<:Union{SubArray{T,N,A,I,true} where I<:Tuple{AbstractUnitRange,Vararg{Any,N} where N} where A<:DenseArray where N where T, DenseArray} where N where T, SubArray{T,N,A,I,true} where I<:Tuple{AbstractUnitRange,Vararg{Any,N} where N} where A<:DenseArray where N where T, DenseArray}, SubArray{Tx,1,A,I,L} where L where I<:Tuple{Vararg{Union{Int64, AbstractRange{Int64}, AbstractCartesianIndex},N} where N} where A<:Union{ReinterpretArray{T,N,S,A} where S where A<:Union{SubArray{T,N,A,I,true} where I<:Tuple{AbstractUnitRange,Vararg{Any,N} where N} where A<:DenseArray where N where T, DenseArray} where N where T, ReshapedArray{T,N,A,MI} where MI<:Tuple{Vararg{SignedMultiplicativeInverse{Int64},N} where N} where A<:Union{ReinterpretArray{T,N,S,A} where S where A<:Union{SubArray{T,N,A,I,true} where I<:Tuple{AbstractUnitRange,Vararg{Any,N} where N} where A<:DenseArray where N where T, DenseArray} where N where T, SubArray{T,N,A,I,true} where I<:Tuple{AbstractUnitRange,Vararg{Any,N} where N} where A<:DenseArray where N where T, DenseArray} where N where T, DenseArray}}</b>) in SparseArrays at <a href=\"file:///Applications/Julia-1.0.app/Contents/Resources/julia/share/julia/stdlib/v1.0/SparseArrays/src/linalg.jl\" target=\"_blank\">/Applications/Julia-1.0.app/Contents/Resources/julia/share/julia/stdlib/v1.0/SparseArrays/src/linalg.jl:51</a></li> <li> *<i>{TA, S, Tx}</i>(A::<b>SparseArrays.SparseMatrixCSC{TA,S}</b>, B::<b>Union{DenseArray{Tx,2}, ReinterpretArray{Tx,2,S,A} where S where A<:Union{SubArray{T,N,A,I,true} where I<:Tuple{AbstractUnitRange,Vararg{Any,N} where N} where A<:DenseArray where N where T, DenseArray}, ReshapedArray{Tx,2,A,MI} where MI<:Tuple{Vararg{SignedMultiplicativeInverse{Int64},N} where N} where A<:Union{ReinterpretArray{T,N,S,A} where S where A<:Union{SubArray{T,N,A,I,true} where I<:Tuple{AbstractUnitRange,Vararg{Any,N} where N} where A<:DenseArray where N where T, DenseArray} where N where T, SubArray{T,N,A,I,true} where I<:Tuple{AbstractUnitRange,Vararg{Any,N} where N} where A<:DenseArray where N where T, DenseArray}, SubArray{Tx,2,A,I,L} where L where I<:Tuple{Vararg{Union{Int64, AbstractRange{Int64}, AbstractCartesianIndex},N} where N} where A<:Union{ReinterpretArray{T,N,S,A} where S where A<:Union{SubArray{T,N,A,I,true} where I<:Tuple{AbstractUnitRange,Vararg{Any,N} where N} where A<:DenseArray where N where T, DenseArray} where N where T, ReshapedArray{T,N,A,MI} where MI<:Tuple{Vararg{SignedMultiplicativeInverse{Int64},N} where N} where A<:Union{ReinterpretArray{T,N,S,A} where S where A<:Union{SubArray{T,N,A,I,true} where I<:Tuple{AbstractUnitRange,Vararg{Any,N} where N} where A<:DenseArray where N where T, DenseArray} where N where T, SubArray{T,N,A,I,true} where I<:Tuple{AbstractUnitRange,Vararg{Any,N} where N} where A<:DenseArray where N where T, DenseArray} where N where T, DenseArray}}</b>) in SparseArrays at <a href=\"file:///Applications/Julia-1.0.app/Contents/Resources/julia/share/julia/stdlib/v1.0/SparseArrays/src/linalg.jl\" target=\"_blank\">/Applications/Julia-1.0.app/Contents/Resources/julia/share/julia/stdlib/v1.0/SparseArrays/src/linalg.jl:53</a></li> <li> *(A::<b>SparseArrays.SparseMatrixCSC</b>, D::<b>LinearAlgebra.Diagonal</b>) in SparseArrays at <a href=\"file:///Applications/Julia-1.0.app/Contents/Resources/julia/share/julia/stdlib/v1.0/SparseArrays/src/linalg.jl\" target=\"_blank\">/Applications/Julia-1.0.app/Contents/Resources/julia/share/julia/stdlib/v1.0/SparseArrays/src/linalg.jl:134</a></li> <li> *(A::<b>SuiteSparse.CHOLMOD.Sparse</b>, B::<b>SuiteSparse.CHOLMOD.Sparse</b>) in SuiteSparse.CHOLMOD at <a href=\"file:///Applications/Julia-1.0.app/Contents/Resources/julia/share/julia/stdlib/v1.0/SuiteSparse/src/cholmod.jl\" target=\"_blank\">/Applications/Julia-1.0.app/Contents/Resources/julia/share/julia/stdlib/v1.0/SuiteSparse/src/cholmod.jl:1307</a></li> <li> *(A::<b>SuiteSparse.CHOLMOD.Sparse</b>, B::<b>SuiteSparse.CHOLMOD.Dense</b>) in SuiteSparse.CHOLMOD at <a href=\"file:///Applications/Julia-1.0.app/Contents/Resources/julia/share/julia/stdlib/v1.0/SuiteSparse/src/cholmod.jl\" target=\"_blank\">/Applications/Julia-1.0.app/Contents/Resources/julia/share/julia/stdlib/v1.0/SuiteSparse/src/cholmod.jl:1308</a></li> <li> *(A::<b>SuiteSparse.CHOLMOD.Sparse</b>, B::<b>Union{Array{T,1}, Array{T,2}} where T</b>) in SuiteSparse.CHOLMOD at <a href=\"file:///Applications/Julia-1.0.app/Contents/Resources/julia/share/julia/stdlib/v1.0/SuiteSparse/src/cholmod.jl\" target=\"_blank\">/Applications/Julia-1.0.app/Contents/Resources/julia/share/julia/stdlib/v1.0/SuiteSparse/src/cholmod.jl:1309</a></li> <li> *<i>{Tv<:Float64}</i>(A::<b>SuiteSparse.CHOLMOD.Sparse{Tv}</b>, adjB::<b>LinearAlgebra.Adjoint{Tv,SuiteSparse.CHOLMOD.Sparse{Tv}}</b>) in SuiteSparse.CHOLMOD at <a href=\"file:///Applications/Julia-1.0.app/Contents/Resources/julia/share/julia/stdlib/v1.0/SuiteSparse/src/cholmod.jl\" target=\"_blank\">/Applications/Julia-1.0.app/Contents/Resources/julia/share/julia/stdlib/v1.0/SuiteSparse/src/cholmod.jl:1312</a></li> <li> *<i>{Ti}</i>(A::<b>LinearAlgebra.Symmetric{Float64,SparseArrays.SparseMatrixCSC{Float64,Ti}}</b>, B::<b>Union{SparseMatrixCSC{Float64,Ti}, SparseVector{Float64,Ti}}</b>) in SuiteSparse.CHOLMOD at <a href=\"file:///Applications/Julia-1.0.app/Contents/Resources/julia/share/julia/stdlib/v1.0/SuiteSparse/src/cholmod.jl\" target=\"_blank\">/Applications/Julia-1.0.app/Contents/Resources/julia/share/julia/stdlib/v1.0/SuiteSparse/src/cholmod.jl:1849</a></li> <li> *<i>{Ti}</i>(A::<b>LinearAlgebra.Hermitian{Complex{Float64},SparseArrays.SparseMatrixCSC{Complex{Float64},Ti}}</b>, B::<b>Union{SparseMatrixCSC{Complex{Float64},Ti}, SparseVector{Complex{Float64},Ti}}</b>) in SuiteSparse.CHOLMOD at <a href=\"file:///Applications/Julia-1.0.app/Contents/Resources/julia/share/julia/stdlib/v1.0/SuiteSparse/src/cholmod.jl\" target=\"_blank\">/Applications/Julia-1.0.app/Contents/Resources/julia/share/julia/stdlib/v1.0/SuiteSparse/src/cholmod.jl:1851</a></li> <li> *<i>{Ti}</i>(A::<b>LinearAlgebra.Hermitian{Float64,SparseArrays.SparseMatrixCSC{Float64,Ti}}</b>, B::<b>Union{SparseMatrixCSC{Float64,Ti}, SparseVector{Float64,Ti}}</b>) in SuiteSparse.CHOLMOD at <a href=\"file:///Applications/Julia-1.0.app/Contents/Resources/julia/share/julia/stdlib/v1.0/SuiteSparse/src/cholmod.jl\" target=\"_blank\">/Applications/Julia-1.0.app/Contents/Resources/julia/share/julia/stdlib/v1.0/SuiteSparse/src/cholmod.jl:1853</a></li> <li> *<i>{Ti}</i>(A::<b>Union{SparseMatrixCSC{Float64,Ti}, SparseVector{Float64,Ti}}</b>, B::<b>LinearAlgebra.Symmetric{Float64,SparseArrays.SparseMatrixCSC{Float64,Ti}}</b>) in SuiteSparse.CHOLMOD at <a href=\"file:///Applications/Julia-1.0.app/Contents/Resources/julia/share/julia/stdlib/v1.0/SuiteSparse/src/cholmod.jl\" target=\"_blank\">/Applications/Julia-1.0.app/Contents/Resources/julia/share/julia/stdlib/v1.0/SuiteSparse/src/cholmod.jl:1856</a></li> <li> *<i>{Ti}</i>(A::<b>Union{SparseMatrixCSC{Complex{Float64},Ti}, SparseVector{Complex{Float64},Ti}}</b>, B::<b>LinearAlgebra.Hermitian{Complex{Float64},SparseArrays.SparseMatrixCSC{Complex{Float64},Ti}}</b>) in SuiteSparse.CHOLMOD at <a href=\"file:///Applications/Julia-1.0.app/Contents/Resources/julia/share/julia/stdlib/v1.0/SuiteSparse/src/cholmod.jl\" target=\"_blank\">/Applications/Julia-1.0.app/Contents/Resources/julia/share/julia/stdlib/v1.0/SuiteSparse/src/cholmod.jl:1858</a></li> <li> *<i>{Ti}</i>(A::<b>Union{SparseMatrixCSC{Float64,Ti}, SparseVector{Float64,Ti}}</b>, B::<b>LinearAlgebra.Hermitian{Float64,SparseArrays.SparseMatrixCSC{Float64,Ti}}</b>) in SuiteSparse.CHOLMOD at <a href=\"file:///Applications/Julia-1.0.app/Contents/Resources/julia/share/julia/stdlib/v1.0/SuiteSparse/src/cholmod.jl\" target=\"_blank\">/Applications/Julia-1.0.app/Contents/Resources/julia/share/julia/stdlib/v1.0/SuiteSparse/src/cholmod.jl:1860</a></li> <li> *(A::<b>StaticArrays.StaticArray{Tuple{N,M},T,2} where T where M where N</b>, D::<b>LinearAlgebra.Diagonal{T,StaticArrays.SArray{Tuple{N},T,1,N}} where T where N</b>) in StaticArrays at <a href=\"file:///Users/abradley/.julia/packages/StaticArrays/mcf7t/src/SDiagonal.jl\" target=\"_blank\">/Users/abradley/.julia/packages/StaticArrays/mcf7t/src/SDiagonal.jl:21</a></li> <li> *(a::<b>StaticArrays.StaticArray</b>, b::<b>Number</b>) in StaticArrays at <a href=\"file:///Users/abradley/.julia/packages/StaticArrays/mcf7t/src/linalg.jl\" target=\"_blank\">/Users/abradley/.julia/packages/StaticArrays/mcf7t/src/linalg.jl:26</a></li> <li> *(a::<b>StaticArrays.StaticArray{Tuple{N,M},T,2} where T where M where N</b>, b::<b>LinearAlgebra.UniformScaling</b>) in StaticArrays at <a href=\"file:///Users/abradley/.julia/packages/StaticArrays/mcf7t/src/linalg.jl\" target=\"_blank\">/Users/abradley/.julia/packages/StaticArrays/mcf7t/src/linalg.jl:51</a></li> <li> *(A::<b>StaticArrays.StaticArray{Tuple{N,M},T,2} where T where M where N</b>, B::<b>StaticArrays.StaticArray{Tuple{N},T,1} where T where N</b>) in StaticArrays at <a href=\"file:///Users/abradley/.julia/packages/StaticArrays/mcf7t/src/matrix_multiply.jl\" target=\"_blank\">/Users/abradley/.julia/packages/StaticArrays/mcf7t/src/matrix_multiply.jl:8</a></li> <li> *(A::<b>StaticArrays.StaticArray{Tuple{N,M},T,2} where T where M where N</b>, B::<b>StaticArrays.StaticArray{Tuple{N,M},T,2} where T where M where N</b>) in StaticArrays at <a href=\"file:///Users/abradley/.julia/packages/StaticArrays/mcf7t/src/matrix_multiply.jl\" target=\"_blank\">/Users/abradley/.julia/packages/StaticArrays/mcf7t/src/matrix_multiply.jl:9</a></li> <li> *<i>{N}</i>(A::<b>StaticArrays.StaticArray{Tuple{N,1},#s177,2} where #s177</b>, B::<b>LinearAlgebra.Adjoint{#s176,#s175} where #s175<:(StaticArrays.StaticArray{Tuple{N},T,1} where T where N) where #s176</b>) in StaticArrays at <a href=\"file:///Users/abradley/.julia/packages/StaticArrays/mcf7t/src/matrix_multiply.jl\" target=\"_blank\">/Users/abradley/.julia/packages/StaticArrays/mcf7t/src/matrix_multiply.jl:13</a></li> <li> *<i>{N}</i>(A::<b>StaticArrays.StaticArray{Tuple{N,1},#s177,2} where #s177</b>, B::<b>LinearAlgebra.Transpose{#s176,#s175} where #s175<:(StaticArrays.StaticArray{Tuple{N},T,1} where T where N) where #s176</b>) in StaticArrays at <a href=\"file:///Users/abradley/.julia/packages/StaticArrays/mcf7t/src/matrix_multiply.jl\" target=\"_blank\">/Users/abradley/.julia/packages/StaticArrays/mcf7t/src/matrix_multiply.jl:14</a></li> <li> *(A::<b>StaticArrays.StaticArray{Tuple{N,M},T,2} where T where M where N</b>, B::<b>AbstractArray{T,1} where T</b>) in StaticArrays at <a href=\"file:///Users/abradley/.julia/packages/StaticArrays/mcf7t/src/matrix_multiply.jl\" target=\"_blank\">/Users/abradley/.julia/packages/StaticArrays/mcf7t/src/matrix_multiply.jl:7</a></li> <li> *(A::<b>StaticArrays.StaticArray{Tuple{N},T,1} where T where N</b>, B::<b>StaticArrays.StaticArray{Tuple{N,M},T,2} where T where M where N</b>) in StaticArrays at <a href=\"file:///Users/abradley/.julia/packages/StaticArrays/mcf7t/src/matrix_multiply.jl\" target=\"_blank\">/Users/abradley/.julia/packages/StaticArrays/mcf7t/src/matrix_multiply.jl:10</a></li> <li> *(A::<b>StaticArrays.StaticArray{Tuple{N},T,1} where T where N</b>, B::<b>LinearAlgebra.Transpose{#s177,#s176} where #s176<:(StaticArrays.StaticArray{Tuple{N},T,1} where T where N) where #s177</b>) in StaticArrays at <a href=\"file:///Users/abradley/.julia/packages/StaticArrays/mcf7t/src/matrix_multiply.jl\" target=\"_blank\">/Users/abradley/.julia/packages/StaticArrays/mcf7t/src/matrix_multiply.jl:11</a></li> <li> *(A::<b>StaticArrays.StaticArray{Tuple{N},T,1} where T where N</b>, B::<b>LinearAlgebra.Adjoint{#s177,#s176} where #s176<:(StaticArrays.StaticArray{Tuple{N},T,1} where T where N) where #s177</b>) in StaticArrays at <a href=\"file:///Users/abradley/.julia/packages/StaticArrays/mcf7t/src/matrix_multiply.jl\" target=\"_blank\">/Users/abradley/.julia/packages/StaticArrays/mcf7t/src/matrix_multiply.jl:12</a></li> <li> *(A::<b>Union{StaticArray{Tuple{#s12},T,1} where #s12, StaticArray{Tuple{#s13,#s14},T,2} where #s14 where #s13} where T</b>, B::<b>LinearAlgebra.AbstractTriangular{#s177,#s176} where #s176<:(StaticArrays.StaticArray{Tuple{N,M},T,2} where T where M where N) where #s177</b>) in StaticArrays at <a href=\"file:///Users/abradley/.julia/packages/StaticArrays/mcf7t/src/triangular.jl\" target=\"_blank\">/Users/abradley/.julia/packages/StaticArrays/mcf7t/src/triangular.jl:23</a></li> <li> *(x::<b>AbstractArray{#s57,2} where #s57<:Number</b>) in Base at <a href=\"https://github.com/JuliaLang/julia/tree/099e826241fca365a120df9bac9a9fede6e7bae4/base/abstractarraymath.jl#L99\" target=\"_blank\">abstractarraymath.jl:99</a></li> <li> *(B::<b>Number</b>, A::<b>LinearAlgebra.SymTridiagonal</b>) in LinearAlgebra at <a href=\"file:///Applications/Julia-1.0.app/Contents/Resources/julia/share/julia/stdlib/v1.0/LinearAlgebra/src/tridiag.jl\" target=\"_blank\">/Applications/Julia-1.0.app/Contents/Resources/julia/share/julia/stdlib/v1.0/LinearAlgebra/src/tridiag.jl:161</a></li> <li> *(B::<b>Number</b>, A::<b>LinearAlgebra.Tridiagonal</b>) in LinearAlgebra at <a href=\"file:///Applications/Julia-1.0.app/Contents/Resources/julia/share/julia/stdlib/v1.0/LinearAlgebra/src/tridiag.jl\" target=\"_blank\">/Applications/Julia-1.0.app/Contents/Resources/julia/share/julia/stdlib/v1.0/LinearAlgebra/src/tridiag.jl:615</a></li> <li> *(x::<b>Number</b>, A::<b>LinearAlgebra.UpperTriangular</b>) in LinearAlgebra at <a href=\"file:///Applications/Julia-1.0.app/Contents/Resources/julia/share/julia/stdlib/v1.0/LinearAlgebra/src/triangular.jl\" target=\"_blank\">/Applications/Julia-1.0.app/Contents/Resources/julia/share/julia/stdlib/v1.0/LinearAlgebra/src/triangular.jl:680</a></li> <li> *(x::<b>Number</b>, A::<b>LinearAlgebra.UnitUpperTriangular</b>) in LinearAlgebra at <a href=\"file:///Applications/Julia-1.0.app/Contents/Resources/julia/share/julia/stdlib/v1.0/LinearAlgebra/src/triangular.jl\" target=\"_blank\">/Applications/Julia-1.0.app/Contents/Resources/julia/share/julia/stdlib/v1.0/LinearAlgebra/src/triangular.jl:683</a></li> <li> *(x::<b>Number</b>, A::<b>LinearAlgebra.LowerTriangular</b>) in LinearAlgebra at <a href=\"file:///Applications/Julia-1.0.app/Contents/Resources/julia/share/julia/stdlib/v1.0/LinearAlgebra/src/triangular.jl\" target=\"_blank\">/Applications/Julia-1.0.app/Contents/Resources/julia/share/julia/stdlib/v1.0/LinearAlgebra/src/triangular.jl:680</a></li> <li> *(x::<b>Number</b>, A::<b>LinearAlgebra.UnitLowerTriangular</b>) in LinearAlgebra at <a href=\"file:///Applications/Julia-1.0.app/Contents/Resources/julia/share/julia/stdlib/v1.0/LinearAlgebra/src/triangular.jl\" target=\"_blank\">/Applications/Julia-1.0.app/Contents/Resources/julia/share/julia/stdlib/v1.0/LinearAlgebra/src/triangular.jl:683</a></li> <li> *(x::<b>Number</b>, D::<b>LinearAlgebra.Diagonal</b>) in LinearAlgebra at <a href=\"file:///Applications/Julia-1.0.app/Contents/Resources/julia/share/julia/stdlib/v1.0/LinearAlgebra/src/diagonal.jl\" target=\"_blank\">/Applications/Julia-1.0.app/Contents/Resources/julia/share/julia/stdlib/v1.0/LinearAlgebra/src/diagonal.jl:155</a></li> <li> *(B::<b>Number</b>, A::<b>LinearAlgebra.Bidiagonal</b>) in LinearAlgebra at <a href=\"file:///Applications/Julia-1.0.app/Contents/Resources/julia/share/julia/stdlib/v1.0/LinearAlgebra/src/bidiag.jl\" target=\"_blank\">/Applications/Julia-1.0.app/Contents/Resources/julia/share/julia/stdlib/v1.0/LinearAlgebra/src/bidiag.jl:321</a></li> <li> *(a::<b>Number</b>, x::<b>Union{SubArray{T,1,#s576,Tuple{Slice{OneTo{Int64}},Int64},false} where #s576<:SparseMatrixCSC, SparseVector{T,Ti} where Ti<:Integer} where T</b>) in SparseArrays at <a href=\"file:///Applications/Julia-1.0.app/Contents/Resources/julia/share/julia/stdlib/v1.0/SparseArrays/src/sparsevector.jl\" target=\"_blank\">/Applications/Julia-1.0.app/Contents/Resources/julia/share/julia/stdlib/v1.0/SparseArrays/src/sparsevector.jl:1394</a></li> <li> *(a::<b>Number</b>, b::<b>StaticArrays.StaticArray</b>) in StaticArrays at <a href=\"file:///Users/abradley/.julia/packages/StaticArrays/mcf7t/src/linalg.jl\" target=\"_blank\">/Users/abradley/.julia/packages/StaticArrays/mcf7t/src/linalg.jl:25</a></li> <li> *(A::<b>Number</b>, B::<b>AbstractArray</b>) in Base at <a href=\"https://github.com/JuliaLang/julia/tree/099e826241fca365a120df9bac9a9fede6e7bae4/base/arraymath.jl#L52\" target=\"_blank\">arraymath.jl:52</a></li> <li> *(A::<b>AbstractArray</b>, B::<b>Number</b>) in Base at <a href=\"https://github.com/JuliaLang/julia/tree/099e826241fca365a120df9bac9a9fede6e7bae4/base/arraymath.jl#L55\" target=\"_blank\">arraymath.jl:55</a></li> <li> *(s1::<b>Union{AbstractChar, AbstractString}</b>, ss::<b>Union{AbstractChar, AbstractString}...</b>) in Base at <a href=\"https://github.com/JuliaLang/julia/tree/099e826241fca365a120df9bac9a9fede6e7bae4/base/strings/basic.jl#L229\" target=\"_blank\">strings/basic.jl:229</a></li> <li> *(index::<b>CartesianIndex</b>, a::<b>Integer</b>) in Base.IteratorsMD at <a href=\"https://github.com/JuliaLang/julia/tree/099e826241fca365a120df9bac9a9fede6e7bae4/base/multidimensional.jl#L116\" target=\"_blank\">multidimensional.jl:116</a></li> <li> *(::<b>Number</b>, ::<b>Missing</b>) in Base at <a href=\"https://github.com/JuliaLang/julia/tree/099e826241fca365a120df9bac9a9fede6e7bae4/base/missing.jl#L94\" target=\"_blank\">missing.jl:94</a></li> <li> *(d::<b>AbstractString</b>, x::<b>Missing</b>) in Base at <a href=\"https://github.com/JuliaLang/julia/tree/099e826241fca365a120df9bac9a9fede6e7bae4/base/missing.jl#L140\" target=\"_blank\">missing.jl:140</a></li> <li> *<i>{P<:Period}</i>(x::<b>P</b>, y::<b>Real</b>) in Dates at <a href=\"file:///Applications/Julia-1.0.app/Contents/Resources/julia/share/julia/stdlib/v1.0/Dates/src/periods.jl\" target=\"_blank\">/Applications/Julia-1.0.app/Contents/Resources/julia/share/julia/stdlib/v1.0/Dates/src/periods.jl:92</a></li> <li> *(u::<b>AbstractArray{T,1} where T</b>, v::<b>Union{Adjoint{T,#s576}, Transpose{T,#s576}} where #s576<:(AbstractArray{T,1} where T) where T</b>) in LinearAlgebra at <a href=\"file:///Applications/Julia-1.0.app/Contents/Resources/julia/share/julia/stdlib/v1.0/LinearAlgebra/src/adjtrans.jl\" target=\"_blank\">/Applications/Julia-1.0.app/Contents/Resources/julia/share/julia/stdlib/v1.0/LinearAlgebra/src/adjtrans.jl:205</a></li> <li> *(A::<b>AbstractArray{T,2} where T</b>, B::<b>LinearAlgebra.AbstractTriangular</b>) in LinearAlgebra at <a href=\"file:///Applications/Julia-1.0.app/Contents/Resources/julia/share/julia/stdlib/v1.0/LinearAlgebra/src/triangular.jl\" target=\"_blank\">/Applications/Julia-1.0.app/Contents/Resources/julia/share/julia/stdlib/v1.0/LinearAlgebra/src/triangular.jl:1929</a></li> <li> *(A::<b>AbstractArray{T,2} where T</b>, adjB::<b>LinearAlgebra.Adjoint{#s576,#s575} where #s575<:LinearAlgebra.AbstractTriangular where #s576</b>) in LinearAlgebra at <a href=\"file:///Applications/Julia-1.0.app/Contents/Resources/julia/share/julia/stdlib/v1.0/LinearAlgebra/src/triangular.jl\" target=\"_blank\">/Applications/Julia-1.0.app/Contents/Resources/julia/share/julia/stdlib/v1.0/LinearAlgebra/src/triangular.jl:1936</a></li> <li> *(A::<b>AbstractArray{T,2} where T</b>, transB::<b>LinearAlgebra.Transpose{#s576,#s575} where #s575<:LinearAlgebra.AbstractTriangular where #s576</b>) in LinearAlgebra at <a href=\"file:///Applications/Julia-1.0.app/Contents/Resources/julia/share/julia/stdlib/v1.0/LinearAlgebra/src/triangular.jl\" target=\"_blank\">/Applications/Julia-1.0.app/Contents/Resources/julia/share/julia/stdlib/v1.0/LinearAlgebra/src/triangular.jl:1944</a></li> <li> *(A::<b>AbstractArray{T,2} where T</b>, transB::<b>LinearAlgebra.Transpose{#s576,#s575} where #s575<:(Union{Hermitian{T,S}, Symmetric{T,S}, Symmetric{Complex{T},S}} where S where T<:Real) where #s576</b>) in LinearAlgebra at <a href=\"file:///Applications/Julia-1.0.app/Contents/Resources/julia/share/julia/stdlib/v1.0/LinearAlgebra/src/symmetric.jl\" target=\"_blank\">/Applications/Julia-1.0.app/Contents/Resources/julia/share/julia/stdlib/v1.0/LinearAlgebra/src/symmetric.jl:423</a></li> <li> *(A::<b>AbstractArray{T,2} where T</b>, adjB::<b>LinearAlgebra.Adjoint{#s576,#s575} where #s575<:(Union{Hermitian{T,S}, Hermitian{Complex{T},S}, Symmetric{T,S}} where S where T<:Real) where #s576</b>) in LinearAlgebra at <a href=\"file:///Applications/Julia-1.0.app/Contents/Resources/julia/share/julia/stdlib/v1.0/LinearAlgebra/src/symmetric.jl\" target=\"_blank\">/Applications/Julia-1.0.app/Contents/Resources/julia/share/julia/stdlib/v1.0/LinearAlgebra/src/symmetric.jl:427</a></li> <li> *(A::<b>AbstractArray{T,2} where T</b>, D::<b>LinearAlgebra.Diagonal</b>) in LinearAlgebra at <a href=\"file:///Applications/Julia-1.0.app/Contents/Resources/julia/share/julia/stdlib/v1.0/LinearAlgebra/src/diagonal.jl\" target=\"_blank\">/Applications/Julia-1.0.app/Contents/Resources/julia/share/julia/stdlib/v1.0/LinearAlgebra/src/diagonal.jl:164</a></li> <li> *(A::<b>AbstractArray{T,2} where T</b>, adjR::<b>LinearAlgebra.Adjoint{#s576,#s575} where #s575<:LinearAlgebra.AbstractRotation where #s576</b>) in LinearAlgebra at <a href=\"file:///Applications/Julia-1.0.app/Contents/Resources/julia/share/julia/stdlib/v1.0/LinearAlgebra/src/givens.jl\" target=\"_blank\">/Applications/Julia-1.0.app/Contents/Resources/julia/share/julia/stdlib/v1.0/LinearAlgebra/src/givens.jl:14</a></li> <li> *<i>{T, S}</i>(A::<b>AbstractArray{T,2}</b>, x::<b>AbstractArray{S,1}</b>) in LinearAlgebra at <a href=\"file:///Applications/Julia-1.0.app/Contents/Resources/julia/share/julia/stdlib/v1.0/LinearAlgebra/src/matmul.jl\" target=\"_blank\">/Applications/Julia-1.0.app/Contents/Resources/julia/share/julia/stdlib/v1.0/LinearAlgebra/src/matmul.jl:49</a></li> <li> *(a::<b>AbstractArray{T,1} where T</b>, transB::<b>LinearAlgebra.Transpose{#s576,#s575} where #s575<:(AbstractArray{T,2} where T) where #s576</b>) in LinearAlgebra at <a href=\"file:///Applications/Julia-1.0.app/Contents/Resources/julia/share/julia/stdlib/v1.0/LinearAlgebra/src/matmul.jl\" target=\"_blank\">/Applications/Julia-1.0.app/Contents/Resources/julia/share/julia/stdlib/v1.0/LinearAlgebra/src/matmul.jl:55</a></li> <li> *(a::<b>AbstractArray{T,1} where T</b>, adjB::<b>LinearAlgebra.Adjoint{#s576,#s575} where #s575<:(AbstractArray{T,2} where T) where #s576</b>) in LinearAlgebra at <a href=\"file:///Applications/Julia-1.0.app/Contents/Resources/julia/share/julia/stdlib/v1.0/LinearAlgebra/src/matmul.jl\" target=\"_blank\">/Applications/Julia-1.0.app/Contents/Resources/julia/share/julia/stdlib/v1.0/LinearAlgebra/src/matmul.jl:59</a></li> <li> *(A::<b>AbstractArray{T,1} where T</b>, adjR::<b>LinearAlgebra.Adjoint{#s576,#s575} where #s575<:LinearAlgebra.AbstractRotation where #s576</b>) in LinearAlgebra at <a href=\"file:///Applications/Julia-1.0.app/Contents/Resources/julia/share/julia/stdlib/v1.0/LinearAlgebra/src/givens.jl\" target=\"_blank\">/Applications/Julia-1.0.app/Contents/Resources/julia/share/julia/stdlib/v1.0/LinearAlgebra/src/givens.jl:13</a></li> <li> *(a::<b>AbstractArray{T,1} where T</b>, B::<b>AbstractArray{T,2} where T</b>) in LinearAlgebra at <a href=\"file:///Applications/Julia-1.0.app/Contents/Resources/julia/share/julia/stdlib/v1.0/LinearAlgebra/src/matmul.jl\" target=\"_blank\">/Applications/Julia-1.0.app/Contents/Resources/julia/share/julia/stdlib/v1.0/LinearAlgebra/src/matmul.jl:62</a></li> <li> *(A::<b>AbstractArray{T,2} where T</b>, B::<b>AbstractArray{T,2} where T</b>) in LinearAlgebra at <a href=\"file:///Applications/Julia-1.0.app/Contents/Resources/julia/share/julia/stdlib/v1.0/LinearAlgebra/src/matmul.jl\" target=\"_blank\">/Applications/Julia-1.0.app/Contents/Resources/julia/share/julia/stdlib/v1.0/LinearAlgebra/src/matmul.jl:141</a></li> <li> *<i>{TA, TB}</i>(A::<b>LinearAlgebra.LQ{TA,S} where S<:AbstractArray{TA,2}</b>, B::<b>Union{DenseArray{TB,1}, DenseArray{TB,2}, ReinterpretArray{TB,2,S,A} where S where A<:Union{SubArray{T,N,A,I,true} where I<:Tuple{AbstractUnitRange,Vararg{Any,N} where N} where A<:DenseArray where N where T, DenseArray}, ReinterpretArray{TB,1,S,A} where S where A<:Union{SubArray{T,N,A,I,true} where I<:Tuple{AbstractUnitRange,Vararg{Any,N} where N} where A<:DenseArray where N where T, DenseArray}, ReshapedArray{TB,1,A,MI} where MI<:Tuple{Vararg{SignedMultiplicativeInverse{Int64},N} where N} where A<:Union{ReinterpretArray{T,N,S,A} where S where A<:Union{SubArray{T,N,A,I,true} where I<:Tuple{AbstractUnitRange,Vararg{Any,N} where N} where A<:DenseArray where N where T, DenseArray} where N where T, SubArray{T,N,A,I,true} where I<:Tuple{AbstractUnitRange,Vararg{Any,N} where N} where A<:DenseArray where N where T, DenseArray}, ReshapedArray{TB,2,A,MI} where MI<:Tuple{Vararg{SignedMultiplicativeInverse{Int64},N} where N} where A<:Union{ReinterpretArray{T,N,S,A} where S where A<:Union{SubArray{T,N,A,I,true} where I<:Tuple{AbstractUnitRange,Vararg{Any,N} where N} where A<:DenseArray where N where T, DenseArray} where N where T, SubArray{T,N,A,I,true} where I<:Tuple{AbstractUnitRange,Vararg{Any,N} where N} where A<:DenseArray where N where T, DenseArray}, SubArray{TB,1,A,I,L} where L where I<:Tuple{Vararg{Union{Int64, AbstractRange{Int64}, AbstractCartesianIndex},N} where N} where A<:Union{ReinterpretArray{T,N,S,A} where S where A<:Union{SubArray{T,N,A,I,true} where I<:Tuple{AbstractUnitRange,Vararg{Any,N} where N} where A<:DenseArray where N where T, DenseArray} where N where T, ReshapedArray{T,N,A,MI} where MI<:Tuple{Vararg{SignedMultiplicativeInverse{Int64},N} where N} where A<:Union{ReinterpretArray{T,N,S,A} where S where A<:Union{SubArray{T,N,A,I,true} where I<:Tuple{AbstractUnitRange,Vararg{Any,N} where N} where A<:DenseArray where N where T, DenseArray} where N where T, SubArray{T,N,A,I,true} where I<:Tuple{AbstractUnitRange,Vararg{Any,N} where N} where A<:DenseArray where N where T, DenseArray} where N where T, DenseArray}, SubArray{TB,2,A,I,L} where L where I<:Tuple{Vararg{Union{Int64, AbstractRange{Int64}, AbstractCartesianIndex},N} where N} where A<:Union{ReinterpretArray{T,N,S,A} where S where A<:Union{SubArray{T,N,A,I,true} where I<:Tuple{AbstractUnitRange,Vararg{Any,N} where N} where A<:DenseArray where N where T, DenseArray} where N where T, ReshapedArray{T,N,A,MI} where MI<:Tuple{Vararg{SignedMultiplicativeInverse{Int64},N} where N} where A<:Union{ReinterpretArray{T,N,S,A} where S where A<:Union{SubArray{T,N,A,I,true} where I<:Tuple{AbstractUnitRange,Vararg{Any,N} where N} where A<:DenseArray where N where T, DenseArray} where N where T, SubArray{T,N,A,I,true} where I<:Tuple{AbstractUnitRange,Vararg{Any,N} where N} where A<:DenseArray where N where T, DenseArray} where N where T, DenseArray}}</b>) in LinearAlgebra at <a href=\"file:///Applications/Julia-1.0.app/Contents/Resources/julia/share/julia/stdlib/v1.0/LinearAlgebra/src/lq.jl\" target=\"_blank\">/Applications/Julia-1.0.app/Contents/Resources/julia/share/julia/stdlib/v1.0/LinearAlgebra/src/lq.jl:144</a></li> <li> *(J1::<b>LinearAlgebra.UniformScaling</b>, J2::<b>LinearAlgebra.UniformScaling</b>) in LinearAlgebra at <a href=\"file:///Applications/Julia-1.0.app/Contents/Resources/julia/share/julia/stdlib/v1.0/LinearAlgebra/src/uniformscaling.jl\" target=\"_blank\">/Applications/Julia-1.0.app/Contents/Resources/julia/share/julia/stdlib/v1.0/LinearAlgebra/src/uniformscaling.jl:144</a></li> <li> *(J::<b>LinearAlgebra.UniformScaling</b>, B::<b>BitArray{2}</b>) in LinearAlgebra at <a href=\"file:///Applications/Julia-1.0.app/Contents/Resources/julia/share/julia/stdlib/v1.0/LinearAlgebra/src/uniformscaling.jl\" target=\"_blank\">/Applications/Julia-1.0.app/Contents/Resources/julia/share/julia/stdlib/v1.0/LinearAlgebra/src/uniformscaling.jl:146</a></li> <li> *(A::<b>AbstractArray{T,2} where T</b>, J::<b>LinearAlgebra.UniformScaling</b>) in LinearAlgebra at <a href=\"file:///Applications/Julia-1.0.app/Contents/Resources/julia/share/julia/stdlib/v1.0/LinearAlgebra/src/uniformscaling.jl\" target=\"_blank\">/Applications/Julia-1.0.app/Contents/Resources/julia/share/julia/stdlib/v1.0/LinearAlgebra/src/uniformscaling.jl:147</a></li> <li> *(a::<b>LinearAlgebra.UniformScaling</b>, b::<b>Union{StaticArray{Tuple{N},T,1} where T where N, StaticArray{Tuple{N,M},T,2} where T where M where N}</b>) in StaticArrays at <a href=\"file:///Users/abradley/.julia/packages/StaticArrays/mcf7t/src/linalg.jl\" target=\"_blank\">/Users/abradley/.julia/packages/StaticArrays/mcf7t/src/linalg.jl:50</a></li> <li> *(J::<b>LinearAlgebra.UniformScaling</b>, A::<b>Union{AbstractArray{T,1}, AbstractArray{T,2}} where T</b>) in LinearAlgebra at <a href=\"file:///Applications/Julia-1.0.app/Contents/Resources/julia/share/julia/stdlib/v1.0/LinearAlgebra/src/uniformscaling.jl\" target=\"_blank\">/Applications/Julia-1.0.app/Contents/Resources/julia/share/julia/stdlib/v1.0/LinearAlgebra/src/uniformscaling.jl:148</a></li> <li> *(x::<b>Number</b>, J::<b>LinearAlgebra.UniformScaling</b>) in LinearAlgebra at <a href=\"file:///Applications/Julia-1.0.app/Contents/Resources/julia/share/julia/stdlib/v1.0/LinearAlgebra/src/uniformscaling.jl\" target=\"_blank\">/Applications/Julia-1.0.app/Contents/Resources/julia/share/julia/stdlib/v1.0/LinearAlgebra/src/uniformscaling.jl:149</a></li> <li> *(J::<b>LinearAlgebra.UniformScaling</b>, x::<b>Number</b>) in LinearAlgebra at <a href=\"file:///Applications/Julia-1.0.app/Contents/Resources/julia/share/julia/stdlib/v1.0/LinearAlgebra/src/uniformscaling.jl\" target=\"_blank\">/Applications/Julia-1.0.app/Contents/Resources/julia/share/julia/stdlib/v1.0/LinearAlgebra/src/uniformscaling.jl:150</a></li> <li> *<i>{T, S}</i>(R::<b>LinearAlgebra.AbstractRotation{T}</b>, A::<b>Union{AbstractArray{S,1}, AbstractArray{S,2}}</b>) in LinearAlgebra at <a href=\"file:///Applications/Julia-1.0.app/Contents/Resources/julia/share/julia/stdlib/v1.0/LinearAlgebra/src/givens.jl\" target=\"_blank\">/Applications/Julia-1.0.app/Contents/Resources/julia/share/julia/stdlib/v1.0/LinearAlgebra/src/givens.jl:10</a></li> <li> *<i>{T, S}</i>(A::<b>AbstractArray{T,2}</b>, R::<b>LinearAlgebra.AbstractRotation{S}</b>) in LinearAlgebra at <a href=\"file:///Applications/Julia-1.0.app/Contents/Resources/julia/share/julia/stdlib/v1.0/LinearAlgebra/src/givens.jl\" target=\"_blank\">/Applications/Julia-1.0.app/Contents/Resources/julia/share/julia/stdlib/v1.0/LinearAlgebra/src/givens.jl:21</a></li> <li> *<i>{T}</i>(G1::<b>LinearAlgebra.Givens{T}</b>, G2::<b>LinearAlgebra.Givens{T}</b>) in LinearAlgebra at <a href=\"file:///Applications/Julia-1.0.app/Contents/Resources/julia/share/julia/stdlib/v1.0/LinearAlgebra/src/givens.jl\" target=\"_blank\">/Applications/Julia-1.0.app/Contents/Resources/julia/share/julia/stdlib/v1.0/LinearAlgebra/src/givens.jl:381</a></li> <li> *(c::<b>Number</b>, a::<b>Union{LMS, XYZ}</b>) in Colors at <a href=\"file:///Users/abradley/.julia/packages/Colors/4hvzi/src/algorithms.jl\" target=\"_blank\">/Users/abradley/.julia/packages/Colors/4hvzi/src/algorithms.jl:7</a></li> <li> *(a::<b>Measures.Measure</b>, b::<b>Number</b>) in Measures at <a href=\"file:///Users/abradley/.julia/packages/Measures/eNttC/src/operations.jl\" target=\"_blank\">/Users/abradley/.julia/packages/Measures/eNttC/src/operations.jl:47</a></li> <li> *(a::<b>Number</b>, b::<b>Measures.Measure</b>) in Measures at <a href=\"file:///Users/abradley/.julia/packages/Measures/eNttC/src/operations.jl\" target=\"_blank\">/Users/abradley/.julia/packages/Measures/eNttC/src/operations.jl:48</a></li> <li> *(a::<b>Tuple{Vararg{Measures.Measure,N}} where N</b>, b::<b>Number</b>) in Measures at <a href=\"file:///Users/abradley/.julia/packages/Measures/eNttC/src/point.jl\" target=\"_blank\">/Users/abradley/.julia/packages/Measures/eNttC/src/point.jl:18</a></li> <li> *(a::<b>Number</b>, b::<b>Tuple{Vararg{Measures.Measure,N}} where N</b>) in Measures at <a href=\"file:///Users/abradley/.julia/packages/Measures/eNttC/src/point.jl\" target=\"_blank\">/Users/abradley/.julia/packages/Measures/eNttC/src/point.jl:19</a></li> <li> *(m1::<b>Measures.Length{:pct,T} where T</b>, m2::<b>Measures.Length{:mm,Float64}</b>) in Plots at <a href=\"file:///Users/abradley/.julia/packages/Plots/UQI78/src/layouts.jl\" target=\"_blank\">/Users/abradley/.julia/packages/Plots/UQI78/src/layouts.jl:25</a></li> <li> *(a, b::<b>PyObject</b>) in PyCall at <a href=\"file:///Users/abradley/.julia/packages/PyCall/0jMpb/src/pyoperators.jl\" target=\"_blank\">/Users/abradley/.julia/packages/PyCall/0jMpb/src/pyoperators.jl:15</a></li> <li> *(a, b, c, xs...) in Base at <a href=\"https://github.com/JuliaLang/julia/tree/099e826241fca365a120df9bac9a9fede6e7bae4/base/operators.jl#L502\" target=\"_blank\">operators.jl:502</a></li> </ul>"
      ],
      "text/plain": [
       "# 373 methods for generic function \"*\":\n",
       "[1] *(x::Bool, z::Complex{Bool}) in Base at complex.jl:281\n",
       "[2] *(x::Bool, y::Bool) in Base at bool.jl:106\n",
       "[3] *(x::Bool, y::T) where T<:AbstractFloat in Base at bool.jl:118\n",
       "[4] *(x::Bool, z::Complex) in Base at complex.jl:288\n",
       "[5] *(x::Bool, y::AbstractIrrational) in Base at irrationals.jl:135\n",
       "[6] *(a::Float16, b::Float16) in Base at float.jl:392\n",
       "[7] *(x::Float32, y::Float32) in Base at float.jl:398\n",
       "[8] *(x::Float64, y::Float64) in Base at float.jl:399\n",
       "[9] *(z::Complex{Bool}, x::Bool) in Base at complex.jl:282\n",
       "[10] *(z::Complex{Bool}, x::Real) in Base at complex.jl:300\n",
       "[11] *(::Missing, ::Missing) in Base at missing.jl:92\n",
       "[12] *(::Missing, ::Number) in Base at missing.jl:93\n",
       "[13] *(d::Missing, x::AbstractString) in Base at missing.jl:139\n",
       "[14] *(this::Base.Grisu.Float, other::Base.Grisu.Float) in Base.Grisu at grisu/float.jl:140\n",
       "[15] *(c::BigInt, x::BigFloat) in Base.MPFR at mpfr.jl:353\n",
       "[16] *(a::BigInt, b::BigInt, c::BigInt, d::BigInt, e::BigInt) in Base.GMP at gmp.jl:443\n",
       "[17] *(a::BigInt, b::BigInt, c::BigInt, d::BigInt) in Base.GMP at gmp.jl:442\n",
       "[18] *(a::BigInt, b::BigInt, c::BigInt) in Base.GMP at gmp.jl:441\n",
       "[19] *(x::BigInt, y::BigInt) in Base.GMP at gmp.jl:412\n",
       "[20] *(x::BigInt, c::Union{UInt16, UInt32, UInt64, UInt8}) in Base.GMP at gmp.jl:460\n",
       "[21] *(x::BigInt, c::Union{Int16, Int32, Int64, Int8}) in Base.GMP at gmp.jl:462\n",
       "[22] *(a::BigFloat, b::BigFloat, c::BigFloat, d::BigFloat, e::BigFloat) in Base.MPFR at mpfr.jl:503\n",
       "[23] *(a::BigFloat, b::BigFloat, c::BigFloat, d::BigFloat) in Base.MPFR at mpfr.jl:496\n",
       "[24] *(a::BigFloat, b::BigFloat, c::BigFloat) in Base.MPFR at mpfr.jl:490\n",
       "[25] *(x::BigFloat, c::BigInt) in Base.MPFR at mpfr.jl:349\n",
       "[26] *(x::BigFloat, y::BigFloat) in Base.MPFR at mpfr.jl:318\n",
       "[27] *(x::BigFloat, c::Union{UInt16, UInt32, UInt64, UInt8}) in Base.MPFR at mpfr.jl:325\n",
       "[28] *(x::BigFloat, c::Union{Int16, Int32, Int64, Int8}) in Base.MPFR at mpfr.jl:333\n",
       "[29] *(x::BigFloat, c::Union{Float16, Float32, Float64}) in Base.MPFR at mpfr.jl:341\n",
       "[30] *(B::BitArray{2}, J::LinearAlgebra.UniformScaling) in LinearAlgebra at /Applications/Julia-1.0.app/Contents/Resources/julia/share/julia/stdlib/v1.0/LinearAlgebra/src/uniformscaling.jl:145\n",
       "[31] *(m1::Measures.Length{:mm,Float64}, m2::Measures.Length{:pct,T} where T) in Plots at /Users/abradley/.julia/packages/Plots/UQI78/src/layouts.jl:24\n",
       "[32] *(a::PyObject, b::PyObject) in PyCall at /Users/abradley/.julia/packages/PyCall/0jMpb/src/pyoperators.jl:12\n",
       "[33] *(a::PyObject, b) in PyCall at /Users/abradley/.julia/packages/PyCall/0jMpb/src/pyoperators.jl:14\n",
       "[34] *(y::AbstractFloat, x::Bool) in Base at bool.jl:120\n",
       "[35] *(x::T, y::T) where T<:Union{Int128, UInt128} in Base at int.jl:788\n",
       "[36] *(x::T, y::T) where T<:Union{Int128, Int16, Int32, Int64, Int8, UInt128, UInt16, UInt32, UInt64, UInt8} in Base at int.jl:54\n",
       "[37] *(c::Union{UInt16, UInt32, UInt64, UInt8}, x::BigInt) in Base.GMP at gmp.jl:461\n",
       "[38] *(c::Union{Int16, Int32, Int64, Int8}, x::BigInt) in Base.GMP at gmp.jl:463\n",
       "[39] *(a::Integer, b::Integer) in Base at int.jl:800\n",
       "[40] *(x::Real, r::StepRangeLen{#s57,#s56,S} where S where #s56<:Base.TwicePrecision where #s57<:Real) in Base at twiceprecision.jl:479\n",
       "[41] *(z::Complex, w::Complex) in Base at complex.jl:268\n",
       "[42] *(z::Complex, x::Bool) in Base at complex.jl:289\n",
       "[43] *(x::Real, z::Complex{Bool}) in Base at complex.jl:299\n",
       "[44] *(x::Real, z::Complex) in Base at complex.jl:311\n",
       "[45] *(z::Complex, x::Real) in Base at complex.jl:312\n",
       "[46] *(x::Rational, y::Rational) in Base at rational.jl:259\n",
       "[47] *(a::Integer, index::CartesianIndex{N}) where N in Base.IteratorsMD at multidimensional.jl:115\n",
       "[48] *(c::Union{UInt16, UInt32, UInt64, UInt8}, x::BigFloat) in Base.MPFR at mpfr.jl:329\n",
       "[49] *(c::Union{Int16, Int32, Int64, Int8}, x::BigFloat) in Base.MPFR at mpfr.jl:337\n",
       "[50] *(c::Union{Float16, Float32, Float64}, x::BigFloat) in Base.MPFR at mpfr.jl:345\n",
       "[51] *(x::AbstractIrrational, y::AbstractIrrational) in Base at irrationals.jl:133\n",
       "[52] *(y::Real, x::Dates.Period) in Dates at /Applications/Julia-1.0.app/Contents/Resources/julia/share/julia/stdlib/v1.0/Dates/src/periods.jl:93\n",
       "[53] *(x::Real, ::Type{X}) where X<:FixedPointNumbers.FixedPoint in FixedPointNumbers at /Users/abradley/.julia/packages/FixedPointNumbers/3QAEg/src/FixedPointNumbers.jl:35\n",
       "[54] *(x::FixedPointNumbers.Fixed{T,f}, y::FixedPointNumbers.Fixed{T,f}) where {T, f} in FixedPointNumbers at /Users/abradley/.julia/packages/FixedPointNumbers/3QAEg/src/fixed.jl:42\n",
       "[55] *(x::T, y::T) where T<:FixedPointNumbers.Normed in FixedPointNumbers at /Users/abradley/.julia/packages/FixedPointNumbers/3QAEg/src/normed.jl:93\n",
       "[56] *(x::Number) in Base at operators.jl:478\n",
       "[57] *(x::T, y::T) where T<:Number in Base at promotion.jl:412\n",
       "[58] *(x::Number, y::Number) in Base at promotion.jl:314\n",
       "[59] *(x::Base.TwicePrecision{#s57} where #s57<:Union{Float16, Float32, Float64}, v::Integer) in Base at twiceprecision.jl:286\n",
       "[60] *(x::Base.TwicePrecision, v::Number) in Base at twiceprecision.jl:282\n",
       "[61] *(v::Number, x::Base.TwicePrecision) in Base at twiceprecision.jl:291\n",
       "[62] *(x::Base.TwicePrecision{T}, y::Base.TwicePrecision{T}) where T in Base at twiceprecision.jl:294\n",
       "[63] *(x::Base.TwicePrecision, y::Base.TwicePrecision) in Base at twiceprecision.jl:298\n",
       "[64] *(r::StepRangeLen{#s57,#s56,S} where S where #s56<:Base.TwicePrecision where #s57<:Real, x::Real) in Base at twiceprecision.jl:481\n",
       "[65] *(X::Union{DenseArray{P,N}, ReinterpretArray{P,N,S,A} where S where A<:Union{SubArray{T,N,A,I,true} where I<:Tuple{AbstractUnitRange,Vararg{Any,N} where N} where A<:DenseArray where N where T, DenseArray}, ReshapedArray{P,N,A,MI} where MI<:Tuple{Vararg{SignedMultiplicativeInverse{Int64},N} where N} where A<:Union{ReinterpretArray{T,N,S,A} where S where A<:Union{SubArray{T,N,A,I,true} where I<:Tuple{AbstractUnitRange,Vararg{Any,N} where N} where A<:DenseArray where N where T, DenseArray} where N where T, SubArray{T,N,A,I,true} where I<:Tuple{AbstractUnitRange,Vararg{Any,N} where N} where A<:DenseArray where N where T, DenseArray}, SubArray{P,N,A,I,L} where L where I<:Tuple{Vararg{Union{Int64, AbstractRange{Int64}, AbstractCartesianIndex},N} where N} where A<:Union{ReinterpretArray{T,N,S,A} where S where A<:Union{SubArray{T,N,A,I,true} where I<:Tuple{AbstractUnitRange,Vararg{Any,N} where N} where A<:DenseArray where N where T, DenseArray} where N where T, ReshapedArray{T,N,A,MI} where MI<:Tuple{Vararg{SignedMultiplicativeInverse{Int64},N} where N} where A<:Union{ReinterpretArray{T,N,S,A} where S where A<:Union{SubArray{T,N,A,I,true} where I<:Tuple{AbstractUnitRange,Vararg{Any,N} where N} where A<:DenseArray where N where T, DenseArray} where N where T, SubArray{T,N,A,I,true} where I<:Tuple{AbstractUnitRange,Vararg{Any,N} where N} where A<:DenseArray where N where T, DenseArray} where N where T, DenseArray}} where N, y::Real) where P<:Dates.Period in Dates at /Applications/Julia-1.0.app/Contents/Resources/julia/share/julia/stdlib/v1.0/Dates/src/periods.jl:98\n",
       "[66] *(u::LinearAlgebra.Adjoint{T,#s576} where #s576<:(AbstractArray{T,1} where T) where T, v::LinearAlgebra.Adjoint{#s576,#s575} where #s575<:(LinearAlgebra.Transpose{T,#s576} where #s576<:(AbstractArray{T,1} where T) where T) where #s576) in LinearAlgebra at /Applications/Julia-1.0.app/Contents/Resources/julia/share/julia/stdlib/v1.0/LinearAlgebra/src/adjtrans.jl:215\n",
       "[67] *(A::LinearAlgebra.Adjoint{#s576,#s575} where #s575<:LinearAlgebra.AbstractTriangular where #s576, B::LinearAlgebra.Adjoint{#s574,#s573} where #s573<:LinearAlgebra.AbstractTriangular where #s574) in LinearAlgebra at /Applications/Julia-1.0.app/Contents/Resources/julia/share/julia/stdlib/v1.0/LinearAlgebra/src/triangular.jl:1967\n",
       "[68] *(A::LinearAlgebra.Adjoint{#s576,#s575} where #s575<:(Union{Hermitian{T,S}, Hermitian{Complex{T},S}, Symmetric{T,S}} where S where T<:Real) where #s576, B::LinearAlgebra.Adjoint{#s574,#s573} where #s573<:LinearAlgebra.AbstractTriangular where #s574) in LinearAlgebra at /Applications/Julia-1.0.app/Contents/Resources/julia/share/julia/stdlib/v1.0/LinearAlgebra/src/symmetric.jl:862\n",
       "[69] *(v::LinearAlgebra.Adjoint{T,#s576} where #s576<:(AbstractArray{T,1} where T) where T, A::LinearAlgebra.Adjoint{#s576,#s575} where #s575<:LinearAlgebra.AbstractTriangular where #s576) in LinearAlgebra at /Applications/Julia-1.0.app/Contents/Resources/julia/share/julia/stdlib/v1.0/LinearAlgebra/src/triangular.jl:1954\n",
       "[70] *(A::LinearAlgebra.Adjoint{#s576,#s575} where #s575<:LinearAlgebra.AbstractTriangular where #s576, B::LinearAlgebra.Adjoint{#s574,#s573} where #s573<:(Union{Hermitian{T,S}, Hermitian{Complex{T},S}, Symmetric{T,S}} where S where T<:Real) where #s574) in LinearAlgebra at /Applications/Julia-1.0.app/Contents/Resources/julia/share/julia/stdlib/v1.0/LinearAlgebra/src/symmetric.jl:858\n",
       "[71] *(A::LinearAlgebra.Adjoint{#s576,#s575} where #s575<:LinearAlgebra.AbstractTriangular where #s576, B::LinearAlgebra.Adjoint{#s574,#s573} where #s573<:(AbstractArray{T,1} where T) where #s574) in LinearAlgebra at /Applications/Julia-1.0.app/Contents/Resources/julia/share/julia/stdlib/v1.0/LinearAlgebra/src/triangular.jl:2484\n",
       "[72] *(adjQ::LinearAlgebra.Adjoint{#s576,#s575} where #s575<:LinearAlgebra.AbstractQ where #s576, adjB::LinearAlgebra.Adjoint{#s574,#s573} where #s573<:(Union{DenseArray{T,1}, DenseArray{T,2}, ReinterpretArray{T,2,S,A} where S where A<:Union{SubArray{T,N,A,I,true} where I<:Tuple{AbstractUnitRange,Vararg{Any,N} where N} where A<:DenseArray where N where T, DenseArray}, ReinterpretArray{T,1,S,A} where S where A<:Union{SubArray{T,N,A,I,true} where I<:Tuple{AbstractUnitRange,Vararg{Any,N} where N} where A<:DenseArray where N where T, DenseArray}, ReshapedArray{T,1,A,MI} where MI<:Tuple{Vararg{SignedMultiplicativeInverse{Int64},N} where N} where A<:Union{ReinterpretArray{T,N,S,A} where S where A<:Union{SubArray{T,N,A,I,true} where I<:Tuple{AbstractUnitRange,Vararg{Any,N} where N} where A<:DenseArray where N where T, DenseArray} where N where T, SubArray{T,N,A,I,true} where I<:Tuple{AbstractUnitRange,Vararg{Any,N} where N} where A<:DenseArray where N where T, DenseArray}, ReshapedArray{T,2,A,MI} where MI<:Tuple{Vararg{SignedMultiplicativeInverse{Int64},N} where N} where A<:Union{ReinterpretArray{T,N,S,A} where S where A<:Union{SubArray{T,N,A,I,true} where I<:Tuple{AbstractUnitRange,Vararg{Any,N} where N} where A<:DenseArray where N where T, DenseArray} where N where T, SubArray{T,N,A,I,true} where I<:Tuple{AbstractUnitRange,Vararg{Any,N} where N} where A<:DenseArray where N where T, DenseArray}, SubArray{T,1,A,I,L} where L where I<:Tuple{Vararg{Union{Int64, AbstractRange{Int64}, AbstractCartesianIndex},N} where N} where A<:Union{ReinterpretArray{T,N,S,A} where S where A<:Union{SubArray{T,N,A,I,true} where I<:Tuple{AbstractUnitRange,Vararg{Any,N} where N} where A<:DenseArray where N where T, DenseArray} where N where T, ReshapedArray{T,N,A,MI} where MI<:Tuple{Vararg{SignedMultiplicativeInverse{Int64},N} where N} where A<:Union{ReinterpretArray{T,N,S,A} where S where A<:Union{SubArray{T,N,A,I,true} where I<:Tuple{AbstractUnitRange,Vararg{Any,N} where N} where A<:DenseArray where N where T, DenseArray} where N where T, SubArray{T,N,A,I,true} where I<:Tuple{AbstractUnitRange,Vararg{Any,N} where N} where A<:DenseArray where N where T, DenseArray} where N where T, DenseArray}, SubArray{T,2,A,I,L} where L where I<:Tuple{Vararg{Union{Int64, AbstractRange{Int64}, AbstractCartesianIndex},N} where N} where A<:Union{ReinterpretArray{T,N,S,A} where S where A<:Union{SubArray{T,N,A,I,true} where I<:Tuple{AbstractUnitRange,Vararg{Any,N} where N} where A<:DenseArray where N where T, DenseArray} where N where T, ReshapedArray{T,N,A,MI} where MI<:Tuple{Vararg{SignedMultiplicativeInverse{Int64},N} where N} where A<:Union{ReinterpretArray{T,N,S,A} where S where A<:Union{SubArray{T,N,A,I,true} where I<:Tuple{AbstractUnitRange,Vararg{Any,N} where N} where A<:DenseArray where N where T, DenseArray} where N where T, SubArray{T,N,A,I,true} where I<:Tuple{AbstractUnitRange,Vararg{Any,N} where N} where A<:DenseArray where N where T, DenseArray} where N where T, DenseArray}} where T) where #s574) in LinearAlgebra at /Applications/Julia-1.0.app/Contents/Resources/julia/share/julia/stdlib/v1.0/LinearAlgebra/src/qr.jl:631\n",
       "[73] *(adjA::LinearAlgebra.Adjoint{#s576,#s575} where #s575<:(Union{DenseArray{T,1}, DenseArray{T,2}, ReinterpretArray{T,2,S,A} where S where A<:Union{SubArray{T,N,A,I,true} where I<:Tuple{AbstractUnitRange,Vararg{Any,N} where N} where A<:DenseArray where N where T, DenseArray}, ReinterpretArray{T,1,S,A} where S where A<:Union{SubArray{T,N,A,I,true} where I<:Tuple{AbstractUnitRange,Vararg{Any,N} where N} where A<:DenseArray where N where T, DenseArray}, ReshapedArray{T,1,A,MI} where MI<:Tuple{Vararg{SignedMultiplicativeInverse{Int64},N} where N} where A<:Union{ReinterpretArray{T,N,S,A} where S where A<:Union{SubArray{T,N,A,I,true} where I<:Tuple{AbstractUnitRange,Vararg{Any,N} where N} where A<:DenseArray where N where T, DenseArray} where N where T, SubArray{T,N,A,I,true} where I<:Tuple{AbstractUnitRange,Vararg{Any,N} where N} where A<:DenseArray where N where T, DenseArray}, ReshapedArray{T,2,A,MI} where MI<:Tuple{Vararg{SignedMultiplicativeInverse{Int64},N} where N} where A<:Union{ReinterpretArray{T,N,S,A} where S where A<:Union{SubArray{T,N,A,I,true} where I<:Tuple{AbstractUnitRange,Vararg{Any,N} where N} where A<:DenseArray where N where T, DenseArray} where N where T, SubArray{T,N,A,I,true} where I<:Tuple{AbstractUnitRange,Vararg{Any,N} where N} where A<:DenseArray where N where T, DenseArray}, SubArray{T,1,A,I,L} where L where I<:Tuple{Vararg{Union{Int64, AbstractRange{Int64}, AbstractCartesianIndex},N} where N} where A<:Union{ReinterpretArray{T,N,S,A} where S where A<:Union{SubArray{T,N,A,I,true} where I<:Tuple{AbstractUnitRange,Vararg{Any,N} where N} where A<:DenseArray where N where T, DenseArray} where N where T, ReshapedArray{T,N,A,MI} where MI<:Tuple{Vararg{SignedMultiplicativeInverse{Int64},N} where N} where A<:Union{ReinterpretArray{T,N,S,A} where S where A<:Union{SubArray{T,N,A,I,true} where I<:Tuple{AbstractUnitRange,Vararg{Any,N} where N} where A<:DenseArray where N where T, DenseArray} where N where T, SubArray{T,N,A,I,true} where I<:Tuple{AbstractUnitRange,Vararg{Any,N} where N} where A<:DenseArray where N where T, DenseArray} where N where T, DenseArray}, SubArray{T,2,A,I,L} where L where I<:Tuple{Vararg{Union{Int64, AbstractRange{Int64}, AbstractCartesianIndex},N} where N} where A<:Union{ReinterpretArray{T,N,S,A} where S where A<:Union{SubArray{T,N,A,I,true} where I<:Tuple{AbstractUnitRange,Vararg{Any,N} where N} where A<:DenseArray where N where T, DenseArray} where N where T, ReshapedArray{T,N,A,MI} where MI<:Tuple{Vararg{SignedMultiplicativeInverse{Int64},N} where N} where A<:Union{ReinterpretArray{T,N,S,A} where S where A<:Union{SubArray{T,N,A,I,true} where I<:Tuple{AbstractUnitRange,Vararg{Any,N} where N} where A<:DenseArray where N where T, DenseArray} where N where T, SubArray{T,N,A,I,true} where I<:Tuple{AbstractUnitRange,Vararg{Any,N} where N} where A<:DenseArray where N where T, DenseArray} where N where T, DenseArray}} where T) where #s576, adjQ::LinearAlgebra.Adjoint{#s574,#s573} where #s573<:LinearAlgebra.AbstractQ where #s574) in LinearAlgebra at /Applications/Julia-1.0.app/Contents/Resources/julia/share/julia/stdlib/v1.0/LinearAlgebra/src/qr.jl:734\n",
       "[74] *(u::LinearAlgebra.Adjoint{T,#s576} where #s576<:(AbstractArray{T,1} where T) where T, A::LinearAlgebra.Adjoint{#s576,#s575} where #s575<:LinearAlgebra.AbstractQ where #s576) in LinearAlgebra at /Applications/Julia-1.0.app/Contents/Resources/julia/share/julia/stdlib/v1.0/LinearAlgebra/src/qr.jl:722\n",
       "[75] *(adjA::LinearAlgebra.Adjoint{#s576,#s575} where #s575<:LinearAlgebra.LQPackedQ where #s576, adjB::LinearAlgebra.Adjoint{#s574,#s573} where #s573<:(Union{DenseArray{T,1}, DenseArray{T,2}, ReinterpretArray{T,2,S,A} where S where A<:Union{SubArray{T,N,A,I,true} where I<:Tuple{AbstractUnitRange,Vararg{Any,N} where N} where A<:DenseArray where N where T, DenseArray}, ReinterpretArray{T,1,S,A} where S where A<:Union{SubArray{T,N,A,I,true} where I<:Tuple{AbstractUnitRange,Vararg{Any,N} where N} where A<:DenseArray where N where T, DenseArray}, ReshapedArray{T,1,A,MI} where MI<:Tuple{Vararg{SignedMultiplicativeInverse{Int64},N} where N} where A<:Union{ReinterpretArray{T,N,S,A} where S where A<:Union{SubArray{T,N,A,I,true} where I<:Tuple{AbstractUnitRange,Vararg{Any,N} where N} where A<:DenseArray where N where T, DenseArray} where N where T, SubArray{T,N,A,I,true} where I<:Tuple{AbstractUnitRange,Vararg{Any,N} where N} where A<:DenseArray where N where T, DenseArray}, ReshapedArray{T,2,A,MI} where MI<:Tuple{Vararg{SignedMultiplicativeInverse{Int64},N} where N} where A<:Union{ReinterpretArray{T,N,S,A} where S where A<:Union{SubArray{T,N,A,I,true} where I<:Tuple{AbstractUnitRange,Vararg{Any,N} where N} where A<:DenseArray where N where T, DenseArray} where N where T, SubArray{T,N,A,I,true} where I<:Tuple{AbstractUnitRange,Vararg{Any,N} where N} where A<:DenseArray where N where T, DenseArray}, SubArray{T,1,A,I,L} where L where I<:Tuple{Vararg{Union{Int64, AbstractRange{Int64}, AbstractCartesianIndex},N} where N} where A<:Union{ReinterpretArray{T,N,S,A} where S where A<:Union{SubArray{T,N,A,I,true} where I<:Tuple{AbstractUnitRange,Vararg{Any,N} where N} where A<:DenseArray where N where T, DenseArray} where N where T, ReshapedArray{T,N,A,MI} where MI<:Tuple{Vararg{SignedMultiplicativeInverse{Int64},N} where N} where A<:Union{ReinterpretArray{T,N,S,A} where S where A<:Union{SubArray{T,N,A,I,true} where I<:Tuple{AbstractUnitRange,Vararg{Any,N} where N} where A<:DenseArray where N where T, DenseArray} where N where T, SubArray{T,N,A,I,true} where I<:Tuple{AbstractUnitRange,Vararg{Any,N} where N} where A<:DenseArray where N where T, DenseArray} where N where T, DenseArray}, SubArray{T,2,A,I,L} where L where I<:Tuple{Vararg{Union{Int64, AbstractRange{Int64}, AbstractCartesianIndex},N} where N} where A<:Union{ReinterpretArray{T,N,S,A} where S where A<:Union{SubArray{T,N,A,I,true} where I<:Tuple{AbstractUnitRange,Vararg{Any,N} where N} where A<:DenseArray where N where T, DenseArray} where N where T, ReshapedArray{T,N,A,MI} where MI<:Tuple{Vararg{SignedMultiplicativeInverse{Int64},N} where N} where A<:Union{ReinterpretArray{T,N,S,A} where S where A<:Union{SubArray{T,N,A,I,true} where I<:Tuple{AbstractUnitRange,Vararg{Any,N} where N} where A<:DenseArray where N where T, DenseArray} where N where T, SubArray{T,N,A,I,true} where I<:Tuple{AbstractUnitRange,Vararg{Any,N} where N} where A<:DenseArray where N where T, DenseArray} where N where T, DenseArray}} where T) where #s574) in LinearAlgebra at /Applications/Julia-1.0.app/Contents/Resources/julia/share/julia/stdlib/v1.0/LinearAlgebra/src/lq.jl:183\n",
       "[76] *(adjA::LinearAlgebra.Adjoint{#s576,#s575} where #s575<:(Union{DenseArray{T,2}, ReinterpretArray{T,2,S,A} where S where A<:Union{SubArray{T,N,A,I,true} where I<:Tuple{AbstractUnitRange,Vararg{Any,N} where N} where A<:DenseArray where N where T, DenseArray}, ReshapedArray{T,2,A,MI} where MI<:Tuple{Vararg{SignedMultiplicativeInverse{Int64},N} where N} where A<:Union{ReinterpretArray{T,N,S,A} where S where A<:Union{SubArray{T,N,A,I,true} where I<:Tuple{AbstractUnitRange,Vararg{Any,N} where N} where A<:DenseArray where N where T, DenseArray} where N where T, SubArray{T,N,A,I,true} where I<:Tuple{AbstractUnitRange,Vararg{Any,N} where N} where A<:DenseArray where N where T, DenseArray}, SubArray{T,2,A,I,L} where L where I<:Tuple{Vararg{Union{Int64, AbstractRange{Int64}, AbstractCartesianIndex},N} where N} where A<:Union{ReinterpretArray{T,N,S,A} where S where A<:Union{SubArray{T,N,A,I,true} where I<:Tuple{AbstractUnitRange,Vararg{Any,N} where N} where A<:DenseArray where N where T, DenseArray} where N where T, ReshapedArray{T,N,A,MI} where MI<:Tuple{Vararg{SignedMultiplicativeInverse{Int64},N} where N} where A<:Union{ReinterpretArray{T,N,S,A} where S where A<:Union{SubArray{T,N,A,I,true} where I<:Tuple{AbstractUnitRange,Vararg{Any,N} where N} where A<:DenseArray where N where T, DenseArray} where N where T, SubArray{T,N,A,I,true} where I<:Tuple{AbstractUnitRange,Vararg{Any,N} where N} where A<:DenseArray where N where T, DenseArray} where N where T, DenseArray}} where T) where #s576, adjQ::LinearAlgebra.Adjoint{#s574,#s573} where #s573<:LinearAlgebra.LQPackedQ where #s574) in LinearAlgebra at /Applications/Julia-1.0.app/Contents/Resources/julia/share/julia/stdlib/v1.0/LinearAlgebra/src/lq.jl:220\n",
       "[77] *(adjA::LinearAlgebra.Adjoint{#s576,#s575} where #s575<:(Union{Hermitian{T,S}, Hermitian{Complex{T},S}, Symmetric{T,S}} where S where T<:Real) where #s576, adjB::LinearAlgebra.Adjoint{#s574,#s573} where #s573<:(Union{Hermitian{T,S}, Hermitian{Complex{T},S}, Symmetric{T,S}} where S where T<:Real) where #s574) in LinearAlgebra at /Applications/Julia-1.0.app/Contents/Resources/julia/share/julia/stdlib/v1.0/LinearAlgebra/src/symmetric.jl:433\n",
       "[78] *(adjA::LinearAlgebra.Adjoint{#s576,#s575} where #s575<:(Union{Hermitian{T,S}, Symmetric{T,S}, Symmetric{Complex{T},S}} where S where T<:Real) where #s576, adjB::LinearAlgebra.Adjoint{#s574,#s573} where #s573<:(Union{Hermitian{T,S}, Hermitian{Complex{T},S}, Symmetric{T,S}} where S where T<:Real) where #s574) in LinearAlgebra at /Applications/Julia-1.0.app/Contents/Resources/julia/share/julia/stdlib/v1.0/LinearAlgebra/src/symmetric.jl:434\n",
       "[79] *(adjA::LinearAlgebra.Adjoint{#s576,#s575} where #s575<:(Union{Hermitian{T,S}, Hermitian{Complex{T},S}, Symmetric{T,S}} where S where T<:Real) where #s576, adjB::LinearAlgebra.Adjoint{#s574,#s573} where #s573<:(Union{Hermitian{T,S}, Symmetric{T,S}, Symmetric{Complex{T},S}} where S where T<:Real) where #s574) in LinearAlgebra at /Applications/Julia-1.0.app/Contents/Resources/julia/share/julia/stdlib/v1.0/LinearAlgebra/src/symmetric.jl:435\n",
       "[80] *(adjD::LinearAlgebra.Adjoint{#s576,#s575} where #s575<:LinearAlgebra.Diagonal where #s576, adjA::LinearAlgebra.Adjoint{#s574,#s573} where #s573<:(Union{Hermitian{T,S}, Hermitian{Complex{T},S}, Symmetric{T,S}} where S where T<:Real) where #s574) in LinearAlgebra at /Applications/Julia-1.0.app/Contents/Resources/julia/share/julia/stdlib/v1.0/LinearAlgebra/src/diagonal.jl:293\n",
       "[81] *(A::LinearAlgebra.Adjoint{#s576,#s575} where #s575<:(AbstractArray{T,1} where T) where #s576, B::LinearAlgebra.Adjoint{#s574,#s573} where #s573<:(Union{Hermitian{T,S}, Hermitian{Complex{T},S}, Symmetric{T,S}} where S where T<:Real) where #s574) in LinearAlgebra at /Applications/Julia-1.0.app/Contents/Resources/julia/share/julia/stdlib/v1.0/LinearAlgebra/src/symmetric.jl:839\n",
       "[82] *(adjA::LinearAlgebra.Adjoint{#s576,#s575} where #s575<:(Union{Hermitian{T,S}, Hermitian{Complex{T},S}, Symmetric{T,S}} where S where T<:Real) where #s576, adjD::LinearAlgebra.Adjoint{#s574,#s573} where #s573<:LinearAlgebra.Diagonal where #s574) in LinearAlgebra at /Applications/Julia-1.0.app/Contents/Resources/julia/share/julia/stdlib/v1.0/LinearAlgebra/src/diagonal.jl:292\n",
       "[83] *(A::LinearAlgebra.Adjoint{#s576,#s575} where #s575<:(Union{Hermitian{T,S}, Hermitian{Complex{T},S}, Symmetric{T,S}} where S where T<:Real) where #s576, B::LinearAlgebra.Adjoint{#s574,#s573} where #s573<:(AbstractArray{T,1} where T) where #s574) in LinearAlgebra at /Applications/Julia-1.0.app/Contents/Resources/julia/share/julia/stdlib/v1.0/LinearAlgebra/src/symmetric.jl:848\n",
       "[84] *(D::LinearAlgebra.Adjoint{#s576,#s575} where #s575<:LinearAlgebra.Diagonal where #s576, B::LinearAlgebra.Adjoint{#s574,#s573} where #s573<:LinearAlgebra.Diagonal where #s574) in LinearAlgebra at /Applications/Julia-1.0.app/Contents/Resources/julia/share/julia/stdlib/v1.0/LinearAlgebra/src/diagonal.jl:249\n",
       "[85] *(A::LinearAlgebra.Adjoint{#s576,#s575} where #s575<:SparseArrays.SparseMatrixCSC{Tv,Ti} where #s576, B::LinearAlgebra.Adjoint{#s574,#s573} where #s573<:SparseArrays.SparseMatrixCSC{Tv,Ti} where #s574) where {Tv, Ti} in SparseArrays at /Applications/Julia-1.0.app/Contents/Resources/julia/share/julia/stdlib/v1.0/SparseArrays/src/linalg.jl:146\n",
       "[86] *(adjA::LinearAlgebra.Adjoint{#s576,#s575} where #s575<:SparseArrays.SparseMatrixCSC{TvA,TiA} where #s576, adjB::LinearAlgebra.Adjoint{#s574,#s573} where #s573<:SparseArrays.SparseMatrixCSC{TvB,TiB} where #s574) where {TvA, TiA, TvB, TiB} in SparseArrays at /Applications/Julia-1.0.app/Contents/Resources/julia/share/julia/stdlib/v1.0/SparseArrays/src/linalg.jl:19\n",
       "[87] *(u::LinearAlgebra.Adjoint{T,#s576} where #s576<:(AbstractArray{T,1} where T) where T, v::LinearAlgebra.Adjoint{T,#s576} where #s576<:(AbstractArray{T,1} where T) where T) in LinearAlgebra at /Applications/Julia-1.0.app/Contents/Resources/julia/share/julia/stdlib/v1.0/LinearAlgebra/src/adjtrans.jl:208\n",
       "[88] *(u::LinearAlgebra.Adjoint{T,#s576} where #s576<:(AbstractArray{T,1} where T) where T, v::LinearAlgebra.Transpose{#s576,#s575} where #s575<:(LinearAlgebra.Adjoint{T,#s576} where #s576<:(AbstractArray{T,1} where T) where T) where #s576) in LinearAlgebra at /Applications/Julia-1.0.app/Contents/Resources/julia/share/julia/stdlib/v1.0/LinearAlgebra/src/adjtrans.jl:219\n",
       "[89] *(adjA::LinearAlgebra.Adjoint{#s576,#s575} where #s575<:Union{DenseArray{T,2}, ReinterpretArray{T,2,S,A} where S where A<:Union{SubArray{T,N,A,I,true} where I<:Tuple{AbstractUnitRange,Vararg{Any,N} where N} where A<:DenseArray where N where T, DenseArray}, ReshapedArray{T,2,A,MI} where MI<:Tuple{Vararg{SignedMultiplicativeInverse{Int64},N} where N} where A<:Union{ReinterpretArray{T,N,S,A} where S where A<:Union{SubArray{T,N,A,I,true} where I<:Tuple{AbstractUnitRange,Vararg{Any,N} where N} where A<:DenseArray where N where T, DenseArray} where N where T, SubArray{T,N,A,I,true} where I<:Tuple{AbstractUnitRange,Vararg{Any,N} where N} where A<:DenseArray where N where T, DenseArray}, SubArray{T,2,A,I,L} where L where I<:Tuple{Vararg{Union{Int64, AbstractRange{Int64}, AbstractCartesianIndex},N} where N} where A<:Union{ReinterpretArray{T,N,S,A} where S where A<:Union{SubArray{T,N,A,I,true} where I<:Tuple{AbstractUnitRange,Vararg{Any,N} where N} where A<:DenseArray where N where T, DenseArray} where N where T, ReshapedArray{T,N,A,MI} where MI<:Tuple{Vararg{SignedMultiplicativeInverse{Int64},N} where N} where A<:Union{ReinterpretArray{T,N,S,A} where S where A<:Union{SubArray{T,N,A,I,true} where I<:Tuple{AbstractUnitRange,Vararg{Any,N} where N} where A<:DenseArray where N where T, DenseArray} where N where T, SubArray{T,N,A,I,true} where I<:Tuple{AbstractUnitRange,Vararg{Any,N} where N} where A<:DenseArray where N where T, DenseArray} where N where T, DenseArray}} where #s576, x::Union{DenseArray{S,1}, ReinterpretArray{S,1,S1,A} where S1 where A<:Union{SubArray{T,N,A,I,true} where I<:Tuple{AbstractUnitRange,Vararg{Any,N} where N} where A<:DenseArray where N where T, DenseArray}, ReshapedArray{S,1,A,MI} where MI<:Tuple{Vararg{SignedMultiplicativeInverse{Int64},N} where N} where A<:Union{ReinterpretArray{T,N,S,A} where S where A<:Union{SubArray{T,N,A,I,true} where I<:Tuple{AbstractUnitRange,Vararg{Any,N} where N} where A<:DenseArray where N where T, DenseArray} where N where T, SubArray{T,N,A,I,true} where I<:Tuple{AbstractUnitRange,Vararg{Any,N} where N} where A<:DenseArray where N where T, DenseArray}, SubArray{S,1,A,I,L} where L where I<:Tuple{Vararg{Union{Int64, AbstractRange{Int64}, AbstractCartesianIndex},N} where N} where A<:Union{ReinterpretArray{T,N,S,A} where S where A<:Union{SubArray{T,N,A,I,true} where I<:Tuple{AbstractUnitRange,Vararg{Any,N} where N} where A<:DenseArray where N where T, DenseArray} where N where T, ReshapedArray{T,N,A,MI} where MI<:Tuple{Vararg{SignedMultiplicativeInverse{Int64},N} where N} where A<:Union{ReinterpretArray{T,N,S,A} where S where A<:Union{SubArray{T,N,A,I,true} where I<:Tuple{AbstractUnitRange,Vararg{Any,N} where N} where A<:DenseArray where N where T, DenseArray} where N where T, SubArray{T,N,A,I,true} where I<:Tuple{AbstractUnitRange,Vararg{Any,N} where N} where A<:DenseArray where N where T, DenseArray} where N where T, DenseArray}}) where {T<:Union{Complex{Float32}, Complex{Float64}, Float32, Float64}, S} in LinearAlgebra at /Applications/Julia-1.0.app/Contents/Resources/julia/share/julia/stdlib/v1.0/LinearAlgebra/src/matmul.jl:98\n",
       "[90] *(xformA::LinearAlgebra.Adjoint{#s576,#s575} where #s575<:LinearAlgebra.UpperTriangular where #s576, B::LinearAlgebra.LowerTriangular) in LinearAlgebra at /Applications/Julia-1.0.app/Contents/Resources/julia/share/julia/stdlib/v1.0/LinearAlgebra/src/triangular.jl:1647\n",
       "[91] *(xformA::LinearAlgebra.Adjoint{#s574,#s573} where #s573<:LinearAlgebra.UnitUpperTriangular where #s574, B::LinearAlgebra.LowerTriangular) in LinearAlgebra at /Applications/Julia-1.0.app/Contents/Resources/julia/share/julia/stdlib/v1.0/LinearAlgebra/src/triangular.jl:1656\n",
       "[92] *(xformA::LinearAlgebra.Adjoint{#s572,#s571} where #s571<:LinearAlgebra.LowerTriangular where #s572, B::LinearAlgebra.UpperTriangular) in LinearAlgebra at /Applications/Julia-1.0.app/Contents/Resources/julia/share/julia/stdlib/v1.0/LinearAlgebra/src/triangular.jl:1665\n",
       "[93] *(xformA::LinearAlgebra.Adjoint{#s570,#s569} where #s569<:LinearAlgebra.UnitLowerTriangular where #s570, B::LinearAlgebra.UpperTriangular) in LinearAlgebra at /Applications/Julia-1.0.app/Contents/Resources/julia/share/julia/stdlib/v1.0/LinearAlgebra/src/triangular.jl:1674\n",
       "[94] *(adjA::LinearAlgebra.Adjoint{#s576,#s575} where #s575<:LinearAlgebra.AbstractTriangular where #s576, B::LinearAlgebra.AbstractTriangular) in LinearAlgebra at /Applications/Julia-1.0.app/Contents/Resources/julia/share/julia/stdlib/v1.0/LinearAlgebra/src/triangular.jl:1765\n",
       "[95] *(A::LinearAlgebra.Adjoint{#s576,#s575} where #s575<:LinearAlgebra.AbstractTriangular where #s576, B::LinearAlgebra.Adjoint{#s574,#s573} where #s573<:(AbstractArray{T,2} where T) where #s574) in LinearAlgebra at /Applications/Julia-1.0.app/Contents/Resources/julia/share/julia/stdlib/v1.0/LinearAlgebra/src/triangular.jl:1968\n",
       "[96] *(A::LinearAlgebra.Adjoint{#s576,#s575} where #s575<:LinearAlgebra.AbstractTriangular where #s576, B::LinearAlgebra.Transpose{#s574,#s573} where #s573<:LinearAlgebra.AbstractTriangular where #s574) in LinearAlgebra at /Applications/Julia-1.0.app/Contents/Resources/julia/share/julia/stdlib/v1.0/LinearAlgebra/src/triangular.jl:2481\n",
       "[97] *(A::LinearAlgebra.Adjoint{#s576,#s575} where #s575<:LinearAlgebra.AbstractTriangular where #s576, B::LinearAlgebra.Transpose{#s574,#s573} where #s573<:(Union{Hermitian{T,S}, Symmetric{T,S}, Symmetric{Complex{T},S}} where S where T<:Real) where #s574) in LinearAlgebra at /Applications/Julia-1.0.app/Contents/Resources/julia/share/julia/stdlib/v1.0/LinearAlgebra/src/symmetric.jl:859\n",
       "[98] *(A::LinearAlgebra.Adjoint{#s576,#s575} where #s575<:LinearAlgebra.AbstractTriangular where #s576, B::LinearAlgebra.Transpose{#s574,#s573} where #s573<:(AbstractArray{T,2} where T) where #s574) in LinearAlgebra at /Applications/Julia-1.0.app/Contents/Resources/julia/share/julia/stdlib/v1.0/LinearAlgebra/src/triangular.jl:2485\n",
       "[99] *(A::LinearAlgebra.Adjoint{#s576,#s575} where #s575<:LinearAlgebra.AbstractTriangular where #s576, B::LinearAlgebra.Transpose{#s574,#s573} where #s573<:(AbstractArray{T,1} where T) where #s574) in LinearAlgebra at /Applications/Julia-1.0.app/Contents/Resources/julia/share/julia/stdlib/v1.0/LinearAlgebra/src/triangular.jl:2486\n",
       "[100] *(A::LinearAlgebra.Adjoint{#s576,#s575} where #s575<:LinearAlgebra.AbstractTriangular where #s576, D::LinearAlgebra.Diagonal) in LinearAlgebra at /Applications/Julia-1.0.app/Contents/Resources/julia/share/julia/stdlib/v1.0/LinearAlgebra/src/diagonal.jl:213\n",
       "[101] *(A::LinearAlgebra.Adjoint{#s576,#s575} where #s575<:LinearAlgebra.AbstractTriangular where #s576, B::LinearAlgebra.Adjoint{#s574,#s573} where #s573<:LinearAlgebra.AbstractRotation where #s574) in LinearAlgebra at /Applications/Julia-1.0.app/Contents/Resources/julia/share/julia/stdlib/v1.0/LinearAlgebra/src/givens.jl:392\n",
       "[102] *(adjA::LinearAlgebra.Adjoint{#s576,#s575} where #s575<:LinearAlgebra.AbstractTriangular where #s576, B::AbstractArray{T,1} where T) in LinearAlgebra at /Applications/Julia-1.0.app/Contents/Resources/julia/share/julia/stdlib/v1.0/LinearAlgebra/src/triangular.jl:1805\n",
       "[103] *(adjA::LinearAlgebra.Adjoint{#s576,#s575} where #s575<:(Union{Hermitian{T,S}, Hermitian{Complex{T},S}, Symmetric{T,S}} where S where T<:Real) where #s576, B::LinearAlgebra.AbstractTriangular) in LinearAlgebra at /Applications/Julia-1.0.app/Contents/Resources/julia/share/julia/stdlib/v1.0/LinearAlgebra/src/symmetric.jl:440\n",
       "[104] *(A::LinearAlgebra.Adjoint{#s177,#s176} where #s176<:(Union{StaticArray{Tuple{#s12},T,1} where #s12, StaticArray{Tuple{#s13,#s14},T,2} where #s14 where #s13} where T) where #s177, B::LinearAlgebra.AbstractTriangular{#s175,#s174} where #s174<:(StaticArrays.StaticArray{Tuple{N,M},T,2} where T where M where N) where #s175) in StaticArrays at /Users/abradley/.julia/packages/StaticArrays/mcf7t/src/triangular.jl:11\n",
       "[105] *(v::LinearAlgebra.Adjoint{T,#s576} where #s576<:(AbstractArray{T,1} where T) where T, A::LinearAlgebra.AbstractTriangular) in LinearAlgebra at /Applications/Julia-1.0.app/Contents/Resources/julia/share/julia/stdlib/v1.0/LinearAlgebra/src/triangular.jl:1952\n",
       "[106] *(A::LinearAlgebra.Adjoint{#s576,#s575} where #s575<:(Union{Hermitian{T,S}, Hermitian{Complex{T},S}, Symmetric{T,S}} where S where T<:Real) where #s576, B::LinearAlgebra.Transpose{#s574,#s573} where #s573<:LinearAlgebra.AbstractTriangular where #s574) in LinearAlgebra at /Applications/Julia-1.0.app/Contents/Resources/julia/share/julia/stdlib/v1.0/LinearAlgebra/src/symmetric.jl:863\n",
       "[107] *(A::LinearAlgebra.Adjoint{#s576,#s575} where #s575<:(AbstractArray{T,1} where T) where #s576, B::LinearAlgebra.Transpose{#s574,#s573} where #s573<:LinearAlgebra.AbstractTriangular where #s574) in LinearAlgebra at /Applications/Julia-1.0.app/Contents/Resources/julia/share/julia/stdlib/v1.0/LinearAlgebra/src/triangular.jl:2491\n",
       "[108] *(adjQ::LinearAlgebra.Adjoint{#s576,#s575} where #s575<:LinearAlgebra.AbstractQ where #s576, B::Union{DenseArray{T,1}, DenseArray{T,2}, ReinterpretArray{T,2,S,A} where S where A<:Union{SubArray{T,N,A,I,true} where I<:Tuple{AbstractUnitRange,Vararg{Any,N} where N} where A<:DenseArray where N where T, DenseArray}, ReinterpretArray{T,1,S,A} where S where A<:Union{SubArray{T,N,A,I,true} where I<:Tuple{AbstractUnitRange,Vararg{Any,N} where N} where A<:DenseArray where N where T, DenseArray}, ReshapedArray{T,1,A,MI} where MI<:Tuple{Vararg{SignedMultiplicativeInverse{Int64},N} where N} where A<:Union{ReinterpretArray{T,N,S,A} where S where A<:Union{SubArray{T,N,A,I,true} where I<:Tuple{AbstractUnitRange,Vararg{Any,N} where N} where A<:DenseArray where N where T, DenseArray} where N where T, SubArray{T,N,A,I,true} where I<:Tuple{AbstractUnitRange,Vararg{Any,N} where N} where A<:DenseArray where N where T, DenseArray}, ReshapedArray{T,2,A,MI} where MI<:Tuple{Vararg{SignedMultiplicativeInverse{Int64},N} where N} where A<:Union{ReinterpretArray{T,N,S,A} where S where A<:Union{SubArray{T,N,A,I,true} where I<:Tuple{AbstractUnitRange,Vararg{Any,N} where N} where A<:DenseArray where N where T, DenseArray} where N where T, SubArray{T,N,A,I,true} where I<:Tuple{AbstractUnitRange,Vararg{Any,N} where N} where A<:DenseArray where N where T, DenseArray}, SubArray{T,1,A,I,L} where L where I<:Tuple{Vararg{Union{Int64, AbstractRange{Int64}, AbstractCartesianIndex},N} where N} where A<:Union{ReinterpretArray{T,N,S,A} where S where A<:Union{SubArray{T,N,A,I,true} where I<:Tuple{AbstractUnitRange,Vararg{Any,N} where N} where A<:DenseArray where N where T, DenseArray} where N where T, ReshapedArray{T,N,A,MI} where MI<:Tuple{Vararg{SignedMultiplicativeInverse{Int64},N} where N} where A<:Union{ReinterpretArray{T,N,S,A} where S where A<:Union{SubArray{T,N,A,I,true} where I<:Tuple{AbstractUnitRange,Vararg{Any,N} where N} where A<:DenseArray where N where T, DenseArray} where N where T, SubArray{T,N,A,I,true} where I<:Tuple{AbstractUnitRange,Vararg{Any,N} where N} where A<:DenseArray where N where T, DenseArray} where N where T, DenseArray}, SubArray{T,2,A,I,L} where L where I<:Tuple{Vararg{Union{Int64, AbstractRange{Int64}, AbstractCartesianIndex},N} where N} where A<:Union{ReinterpretArray{T,N,S,A} where S where A<:Union{SubArray{T,N,A,I,true} where I<:Tuple{AbstractUnitRange,Vararg{Any,N} where N} where A<:DenseArray where N where T, DenseArray} where N where T, ReshapedArray{T,N,A,MI} where MI<:Tuple{Vararg{SignedMultiplicativeInverse{Int64},N} where N} where A<:Union{ReinterpretArray{T,N,S,A} where S where A<:Union{SubArray{T,N,A,I,true} where I<:Tuple{AbstractUnitRange,Vararg{Any,N} where N} where A<:DenseArray where N where T, DenseArray} where N where T, SubArray{T,N,A,I,true} where I<:Tuple{AbstractUnitRange,Vararg{Any,N} where N} where A<:DenseArray where N where T, DenseArray} where N where T, DenseArray}} where T) in LinearAlgebra at /Applications/Julia-1.0.app/Contents/Resources/julia/share/julia/stdlib/v1.0/LinearAlgebra/src/qr.jl:617\n",
       "[109] *(adjA::LinearAlgebra.Adjoint{#s576,#s575} where #s575<:(Union{DenseArray{T,1}, DenseArray{T,2}, ReinterpretArray{T,2,S,A} where S where A<:Union{SubArray{T,N,A,I,true} where I<:Tuple{AbstractUnitRange,Vararg{Any,N} where N} where A<:DenseArray where N where T, DenseArray}, ReinterpretArray{T,1,S,A} where S where A<:Union{SubArray{T,N,A,I,true} where I<:Tuple{AbstractUnitRange,Vararg{Any,N} where N} where A<:DenseArray where N where T, DenseArray}, ReshapedArray{T,1,A,MI} where MI<:Tuple{Vararg{SignedMultiplicativeInverse{Int64},N} where N} where A<:Union{ReinterpretArray{T,N,S,A} where S where A<:Union{SubArray{T,N,A,I,true} where I<:Tuple{AbstractUnitRange,Vararg{Any,N} where N} where A<:DenseArray where N where T, DenseArray} where N where T, SubArray{T,N,A,I,true} where I<:Tuple{AbstractUnitRange,Vararg{Any,N} where N} where A<:DenseArray where N where T, DenseArray}, ReshapedArray{T,2,A,MI} where MI<:Tuple{Vararg{SignedMultiplicativeInverse{Int64},N} where N} where A<:Union{ReinterpretArray{T,N,S,A} where S where A<:Union{SubArray{T,N,A,I,true} where I<:Tuple{AbstractUnitRange,Vararg{Any,N} where N} where A<:DenseArray where N where T, DenseArray} where N where T, SubArray{T,N,A,I,true} where I<:Tuple{AbstractUnitRange,Vararg{Any,N} where N} where A<:DenseArray where N where T, DenseArray}, SubArray{T,1,A,I,L} where L where I<:Tuple{Vararg{Union{Int64, AbstractRange{Int64}, AbstractCartesianIndex},N} where N} where A<:Union{ReinterpretArray{T,N,S,A} where S where A<:Union{SubArray{T,N,A,I,true} where I<:Tuple{AbstractUnitRange,Vararg{Any,N} where N} where A<:DenseArray where N where T, DenseArray} where N where T, ReshapedArray{T,N,A,MI} where MI<:Tuple{Vararg{SignedMultiplicativeInverse{Int64},N} where N} where A<:Union{ReinterpretArray{T,N,S,A} where S where A<:Union{SubArray{T,N,A,I,true} where I<:Tuple{AbstractUnitRange,Vararg{Any,N} where N} where A<:DenseArray where N where T, DenseArray} where N where T, SubArray{T,N,A,I,true} where I<:Tuple{AbstractUnitRange,Vararg{Any,N} where N} where A<:DenseArray where N where T, DenseArray} where N where T, DenseArray}, SubArray{T,2,A,I,L} where L where I<:Tuple{Vararg{Union{Int64, AbstractRange{Int64}, AbstractCartesianIndex},N} where N} where A<:Union{ReinterpretArray{T,N,S,A} where S where A<:Union{SubArray{T,N,A,I,true} where I<:Tuple{AbstractUnitRange,Vararg{Any,N} where N} where A<:DenseArray where N where T, DenseArray} where N where T, ReshapedArray{T,N,A,MI} where MI<:Tuple{Vararg{SignedMultiplicativeInverse{Int64},N} where N} where A<:Union{ReinterpretArray{T,N,S,A} where S where A<:Union{SubArray{T,N,A,I,true} where I<:Tuple{AbstractUnitRange,Vararg{Any,N} where N} where A<:DenseArray where N where T, DenseArray} where N where T, SubArray{T,N,A,I,true} where I<:Tuple{AbstractUnitRange,Vararg{Any,N} where N} where A<:DenseArray where N where T, DenseArray} where N where T, DenseArray}} where T) where #s576, Q::LinearAlgebra.AbstractQ) in LinearAlgebra at /Applications/Julia-1.0.app/Contents/Resources/julia/share/julia/stdlib/v1.0/LinearAlgebra/src/qr.jl:727\n",
       "[110] *(adjA::LinearAlgebra.Adjoint{#s576,#s575} where #s575<:LinearAlgebra.LQPackedQ where #s576, B::Union{DenseArray{T,1}, DenseArray{T,2}, ReinterpretArray{T,2,S,A} where S where A<:Union{SubArray{T,N,A,I,true} where I<:Tuple{AbstractUnitRange,Vararg{Any,N} where N} where A<:DenseArray where N where T, DenseArray}, ReinterpretArray{T,1,S,A} where S where A<:Union{SubArray{T,N,A,I,true} where I<:Tuple{AbstractUnitRange,Vararg{Any,N} where N} where A<:DenseArray where N where T, DenseArray}, ReshapedArray{T,1,A,MI} where MI<:Tuple{Vararg{SignedMultiplicativeInverse{Int64},N} where N} where A<:Union{ReinterpretArray{T,N,S,A} where S where A<:Union{SubArray{T,N,A,I,true} where I<:Tuple{AbstractUnitRange,Vararg{Any,N} where N} where A<:DenseArray where N where T, DenseArray} where N where T, SubArray{T,N,A,I,true} where I<:Tuple{AbstractUnitRange,Vararg{Any,N} where N} where A<:DenseArray where N where T, DenseArray}, ReshapedArray{T,2,A,MI} where MI<:Tuple{Vararg{SignedMultiplicativeInverse{Int64},N} where N} where A<:Union{ReinterpretArray{T,N,S,A} where S where A<:Union{SubArray{T,N,A,I,true} where I<:Tuple{AbstractUnitRange,Vararg{Any,N} where N} where A<:DenseArray where N where T, DenseArray} where N where T, SubArray{T,N,A,I,true} where I<:Tuple{AbstractUnitRange,Vararg{Any,N} where N} where A<:DenseArray where N where T, DenseArray}, SubArray{T,1,A,I,L} where L where I<:Tuple{Vararg{Union{Int64, AbstractRange{Int64}, AbstractCartesianIndex},N} where N} where A<:Union{ReinterpretArray{T,N,S,A} where S where A<:Union{SubArray{T,N,A,I,true} where I<:Tuple{AbstractUnitRange,Vararg{Any,N} where N} where A<:DenseArray where N where T, DenseArray} where N where T, ReshapedArray{T,N,A,MI} where MI<:Tuple{Vararg{SignedMultiplicativeInverse{Int64},N} where N} where A<:Union{ReinterpretArray{T,N,S,A} where S where A<:Union{SubArray{T,N,A,I,true} where I<:Tuple{AbstractUnitRange,Vararg{Any,N} where N} where A<:DenseArray where N where T, DenseArray} where N where T, SubArray{T,N,A,I,true} where I<:Tuple{AbstractUnitRange,Vararg{Any,N} where N} where A<:DenseArray where N where T, DenseArray} where N where T, DenseArray}, SubArray{T,2,A,I,L} where L where I<:Tuple{Vararg{Union{Int64, AbstractRange{Int64}, AbstractCartesianIndex},N} where N} where A<:Union{ReinterpretArray{T,N,S,A} where S where A<:Union{SubArray{T,N,A,I,true} where I<:Tuple{AbstractUnitRange,Vararg{Any,N} where N} where A<:DenseArray where N where T, DenseArray} where N where T, ReshapedArray{T,N,A,MI} where MI<:Tuple{Vararg{SignedMultiplicativeInverse{Int64},N} where N} where A<:Union{ReinterpretArray{T,N,S,A} where S where A<:Union{SubArray{T,N,A,I,true} where I<:Tuple{AbstractUnitRange,Vararg{Any,N} where N} where A<:DenseArray where N where T, DenseArray} where N where T, SubArray{T,N,A,I,true} where I<:Tuple{AbstractUnitRange,Vararg{Any,N} where N} where A<:DenseArray where N where T, DenseArray} where N where T, DenseArray}} where T) in LinearAlgebra at /Applications/Julia-1.0.app/Contents/Resources/julia/share/julia/stdlib/v1.0/LinearAlgebra/src/lq.jl:163\n",
       "[111] *(adjA::LinearAlgebra.Adjoint{#s576,#s575} where #s575<:(Union{DenseArray{T,2}, ReinterpretArray{T,2,S,A} where S where A<:Union{SubArray{T,N,A,I,true} where I<:Tuple{AbstractUnitRange,Vararg{Any,N} where N} where A<:DenseArray where N where T, DenseArray}, ReshapedArray{T,2,A,MI} where MI<:Tuple{Vararg{SignedMultiplicativeInverse{Int64},N} where N} where A<:Union{ReinterpretArray{T,N,S,A} where S where A<:Union{SubArray{T,N,A,I,true} where I<:Tuple{AbstractUnitRange,Vararg{Any,N} where N} where A<:DenseArray where N where T, DenseArray} where N where T, SubArray{T,N,A,I,true} where I<:Tuple{AbstractUnitRange,Vararg{Any,N} where N} where A<:DenseArray where N where T, DenseArray}, SubArray{T,2,A,I,L} where L where I<:Tuple{Vararg{Union{Int64, AbstractRange{Int64}, AbstractCartesianIndex},N} where N} where A<:Union{ReinterpretArray{T,N,S,A} where S where A<:Union{SubArray{T,N,A,I,true} where I<:Tuple{AbstractUnitRange,Vararg{Any,N} where N} where A<:DenseArray where N where T, DenseArray} where N where T, ReshapedArray{T,N,A,MI} where MI<:Tuple{Vararg{SignedMultiplicativeInverse{Int64},N} where N} where A<:Union{ReinterpretArray{T,N,S,A} where S where A<:Union{SubArray{T,N,A,I,true} where I<:Tuple{AbstractUnitRange,Vararg{Any,N} where N} where A<:DenseArray where N where T, DenseArray} where N where T, SubArray{T,N,A,I,true} where I<:Tuple{AbstractUnitRange,Vararg{Any,N} where N} where A<:DenseArray where N where T, DenseArray} where N where T, DenseArray}} where T) where #s576, Q::LinearAlgebra.LQPackedQ) in LinearAlgebra at /Applications/Julia-1.0.app/Contents/Resources/julia/share/julia/stdlib/v1.0/LinearAlgebra/src/lq.jl:251\n",
       "[112] *(A::LinearAlgebra.Adjoint{#s576,#s575} where #s575<:(Union{Hermitian{T,S}, Hermitian{Complex{T},S}, Symmetric{T,S}} where S where T<:Real) where #s576, B::LinearAlgebra.Transpose{#s574,#s573} where #s573<:(Union{Hermitian{T,S}, Symmetric{T,S}, Symmetric{Complex{T},S}} where S where T<:Real) where #s574) in LinearAlgebra at /Applications/Julia-1.0.app/Contents/Resources/julia/share/julia/stdlib/v1.0/LinearAlgebra/src/symmetric.jl:836\n",
       "[113] *(A::LinearAlgebra.Adjoint{#s576,#s575} where #s575<:(Union{Hermitian{T,S}, Hermitian{Complex{T},S}, Symmetric{T,S}} where S where T<:Real) where #s576, B::LinearAlgebra.Adjoint{#s574,#s573} where #s573<:(AbstractArray{T,2} where T) where #s574) in LinearAlgebra at /Applications/Julia-1.0.app/Contents/Resources/julia/share/julia/stdlib/v1.0/LinearAlgebra/src/symmetric.jl:849\n",
       "[114] *(A::LinearAlgebra.Adjoint{#s576,#s575} where #s575<:(Union{Hermitian{T,S}, Hermitian{Complex{T},S}, Symmetric{T,S}} where S where T<:Real) where #s576, B::LinearAlgebra.Transpose{#s574,#s573} where #s573<:(AbstractArray{T,1} where T) where #s574) in LinearAlgebra at /Applications/Julia-1.0.app/Contents/Resources/julia/share/julia/stdlib/v1.0/LinearAlgebra/src/symmetric.jl:850\n",
       "[115] *(A::LinearAlgebra.Adjoint{#s576,#s575} where #s575<:(Union{Hermitian{T,S}, Hermitian{Complex{T},S}, Symmetric{T,S}} where S where T<:Real) where #s576, B::LinearAlgebra.Transpose{#s574,#s573} where #s573<:(AbstractArray{T,2} where T) where #s574) in LinearAlgebra at /Applications/Julia-1.0.app/Contents/Resources/julia/share/julia/stdlib/v1.0/LinearAlgebra/src/symmetric.jl:851\n",
       "[116] *(adjA::LinearAlgebra.Adjoint{#s576,#s575} where #s575<:(Union{Hermitian{T,S}, Hermitian{Complex{T},S}, Symmetric{T,S}} where S where T<:Real) where #s576, B::LinearAlgebra.Diagonal) in LinearAlgebra at /Applications/Julia-1.0.app/Contents/Resources/julia/share/julia/stdlib/v1.0/LinearAlgebra/src/diagonal.jl:289\n",
       "[117] *(A::LinearAlgebra.Adjoint{#s576,#s575} where #s575<:(Union{Hermitian{T,S}, Hermitian{Complex{T},S}, Symmetric{T,S}} where S where T<:Real) where #s576, B::LinearAlgebra.Adjoint{#s574,#s573} where #s573<:LinearAlgebra.AbstractRotation where #s574) in LinearAlgebra at /Applications/Julia-1.0.app/Contents/Resources/julia/share/julia/stdlib/v1.0/LinearAlgebra/src/givens.jl:394\n",
       "[118] *(adjA::LinearAlgebra.Adjoint{#s576,#s575} where #s575<:(Union{Hermitian{T,S}, Hermitian{Complex{T},S}, Symmetric{T,S}} where S where T<:Real) where #s576, B::AbstractArray{T,1} where T) in LinearAlgebra at /Applications/Julia-1.0.app/Contents/Resources/julia/share/julia/stdlib/v1.0/LinearAlgebra/src/symmetric.jl:425\n",
       "[119] *(A::LinearAlgebra.Adjoint{#s576,#s575} where #s575<:(AbstractArray{T,1} where T) where #s576, B::LinearAlgebra.Transpose{#s574,#s573} where #s573<:(Union{Hermitian{T,S}, Symmetric{T,S}, Symmetric{Complex{T},S}} where S where T<:Real) where #s574) in LinearAlgebra at /Applications/Julia-1.0.app/Contents/Resources/julia/share/julia/stdlib/v1.0/LinearAlgebra/src/symmetric.jl:841\n",
       "[120] *(D::LinearAlgebra.Adjoint{#s576,#s575} where #s575<:LinearAlgebra.Diagonal where #s576, B::LinearAlgebra.Diagonal) in LinearAlgebra at /Applications/Julia-1.0.app/Contents/Resources/julia/share/julia/stdlib/v1.0/LinearAlgebra/src/diagonal.jl:212\n",
       "[121] *(x::LinearAlgebra.Adjoint{#s576,#s575} where #s575<:(AbstractArray{T,1} where T) where #s576, D::LinearAlgebra.Diagonal) in LinearAlgebra at /Applications/Julia-1.0.app/Contents/Resources/julia/share/julia/stdlib/v1.0/LinearAlgebra/src/diagonal.jl:508\n",
       "[122] *(x::LinearAlgebra.Adjoint{#s576,#s575} where #s575<:(AbstractArray{T,1} where T) where #s576, D::LinearAlgebra.Diagonal, y::AbstractArray{T,1} where T) in LinearAlgebra at /Applications/Julia-1.0.app/Contents/Resources/julia/share/julia/stdlib/v1.0/LinearAlgebra/src/diagonal.jl:509\n",
       "[123] *(adjA::LinearAlgebra.Adjoint{#s576,#s575} where #s575<:(LinearAlgebra.Bidiagonal{T,V} where V<:AbstractArray{T,1}) where #s576, B::AbstractArray{T,1}) where T in LinearAlgebra at /Applications/Julia-1.0.app/Contents/Resources/julia/share/julia/stdlib/v1.0/LinearAlgebra/src/bidiag.jl:496\n",
       "[124] *(A::LinearAlgebra.Adjoint{#s576,#s575} where #s575<:(AbstractArray{T,1} where T) where #s576, B::LinearAlgebra.Adjoint{#s574,#s573} where #s573<:LinearAlgebra.AbstractRotation where #s574) in LinearAlgebra at /Applications/Julia-1.0.app/Contents/Resources/julia/share/julia/stdlib/v1.0/LinearAlgebra/src/givens.jl:387\n",
       "[125] *(adjA::LinearAlgebra.Adjoint{#s576,#s575} where #s575<:SparseArrays.SparseMatrixCSC where #s576, x::SparseArrays.AbstractSparseArray{Tv,Ti,1} where Ti where Tv) in SparseArrays at /Applications/Julia-1.0.app/Contents/Resources/julia/share/julia/stdlib/v1.0/SparseArrays/src/sparsevector.jl:1676\n",
       "[126] *(A::LinearAlgebra.Adjoint{#s576,#s575} where #s575<:SparseArrays.SparseMatrixCSC{Tv,Ti} where #s576, B::SparseArrays.SparseMatrixCSC{Tv,Ti}) where {Tv, Ti} in SparseArrays at /Applications/Julia-1.0.app/Contents/Resources/julia/share/julia/stdlib/v1.0/SparseArrays/src/linalg.jl:145\n",
       "[127] *(adjA::LinearAlgebra.Adjoint{#s576,#s575} where #s575<:SparseArrays.SparseMatrixCSC{TvA,TiA} where #s576, B::SparseArrays.SparseMatrixCSC{TvB,TiB}) where {TvA, TiA, TvB, TiB} in SparseArrays at /Applications/Julia-1.0.app/Contents/Resources/julia/share/julia/stdlib/v1.0/SparseArrays/src/linalg.jl:15\n",
       "[128] *(adjA::LinearAlgebra.Adjoint{#s576,#s575} where #s575<:SparseArrays.SparseMatrixCSC{TA,S} where #s576, x::Union{DenseArray{Tx,1}, ReinterpretArray{Tx,1,S,A} where S where A<:Union{SubArray{T,N,A,I,true} where I<:Tuple{AbstractUnitRange,Vararg{Any,N} where N} where A<:DenseArray where N where T, DenseArray}, ReshapedArray{Tx,1,A,MI} where MI<:Tuple{Vararg{SignedMultiplicativeInverse{Int64},N} where N} where A<:Union{ReinterpretArray{T,N,S,A} where S where A<:Union{SubArray{T,N,A,I,true} where I<:Tuple{AbstractUnitRange,Vararg{Any,N} where N} where A<:DenseArray where N where T, DenseArray} where N where T, SubArray{T,N,A,I,true} where I<:Tuple{AbstractUnitRange,Vararg{Any,N} where N} where A<:DenseArray where N where T, DenseArray}, SubArray{Tx,1,A,I,L} where L where I<:Tuple{Vararg{Union{Int64, AbstractRange{Int64}, AbstractCartesianIndex},N} where N} where A<:Union{ReinterpretArray{T,N,S,A} where S where A<:Union{SubArray{T,N,A,I,true} where I<:Tuple{AbstractUnitRange,Vararg{Any,N} where N} where A<:DenseArray where N where T, DenseArray} where N where T, ReshapedArray{T,N,A,MI} where MI<:Tuple{Vararg{SignedMultiplicativeInverse{Int64},N} where N} where A<:Union{ReinterpretArray{T,N,S,A} where S where A<:Union{SubArray{T,N,A,I,true} where I<:Tuple{AbstractUnitRange,Vararg{Any,N} where N} where A<:DenseArray where N where T, DenseArray} where N where T, SubArray{T,N,A,I,true} where I<:Tuple{AbstractUnitRange,Vararg{Any,N} where N} where A<:DenseArray where N where T, DenseArray} where N where T, DenseArray}}) where {TA, S, Tx} in SparseArrays at /Applications/Julia-1.0.app/Contents/Resources/julia/share/julia/stdlib/v1.0/SparseArrays/src/linalg.jl:77\n",
       "[129] *(adjA::LinearAlgebra.Adjoint{#s576,#s575} where #s575<:SparseArrays.SparseMatrixCSC{TA,S} where #s576, B::Union{DenseArray{Tx,2}, ReinterpretArray{Tx,2,S,A} where S where A<:Union{SubArray{T,N,A,I,true} where I<:Tuple{AbstractUnitRange,Vararg{Any,N} where N} where A<:DenseArray where N where T, DenseArray}, ReshapedArray{Tx,2,A,MI} where MI<:Tuple{Vararg{SignedMultiplicativeInverse{Int64},N} where N} where A<:Union{ReinterpretArray{T,N,S,A} where S where A<:Union{SubArray{T,N,A,I,true} where I<:Tuple{AbstractUnitRange,Vararg{Any,N} where N} where A<:DenseArray where N where T, DenseArray} where N where T, SubArray{T,N,A,I,true} where I<:Tuple{AbstractUnitRange,Vararg{Any,N} where N} where A<:DenseArray where N where T, DenseArray}, SubArray{Tx,2,A,I,L} where L where I<:Tuple{Vararg{Union{Int64, AbstractRange{Int64}, AbstractCartesianIndex},N} where N} where A<:Union{ReinterpretArray{T,N,S,A} where S where A<:Union{SubArray{T,N,A,I,true} where I<:Tuple{AbstractUnitRange,Vararg{Any,N} where N} where A<:DenseArray where N where T, DenseArray} where N where T, ReshapedArray{T,N,A,MI} where MI<:Tuple{Vararg{SignedMultiplicativeInverse{Int64},N} where N} where A<:Union{ReinterpretArray{T,N,S,A} where S where A<:Union{SubArray{T,N,A,I,true} where I<:Tuple{AbstractUnitRange,Vararg{Any,N} where N} where A<:DenseArray where N where T, DenseArray} where N where T, SubArray{T,N,A,I,true} where I<:Tuple{AbstractUnitRange,Vararg{Any,N} where N} where A<:DenseArray where N where T, DenseArray} where N where T, DenseArray}}) where {TA, S, Tx} in SparseArrays at /Applications/Julia-1.0.app/Contents/Resources/julia/share/julia/stdlib/v1.0/SparseArrays/src/linalg.jl:79\n",
       "[130] *(adjA::LinearAlgebra.Adjoint{#s576,#s575} where #s575<:SuiteSparse.CHOLMOD.Sparse where #s576, B::SuiteSparse.CHOLMOD.Sparse) in SuiteSparse.CHOLMOD at /Applications/Julia-1.0.app/Contents/Resources/julia/share/julia/stdlib/v1.0/SuiteSparse/src/cholmod.jl:1332\n",
       "[131] *(adjA::LinearAlgebra.Adjoint{#s576,#s575} where #s575<:SuiteSparse.CHOLMOD.Sparse where #s576, B::SuiteSparse.CHOLMOD.Dense) in SuiteSparse.CHOLMOD at /Applications/Julia-1.0.app/Contents/Resources/julia/share/julia/stdlib/v1.0/SuiteSparse/src/cholmod.jl:1341\n",
       "[132] *(adjA::LinearAlgebra.Adjoint{#s576,#s575} where #s575<:SuiteSparse.CHOLMOD.Sparse where #s576, B::Union{Array{T,1}, Array{T,2}} where T) in SuiteSparse.CHOLMOD at /Applications/Julia-1.0.app/Contents/Resources/julia/share/julia/stdlib/v1.0/SuiteSparse/src/cholmod.jl:1343\n",
       "[133] *(u::LinearAlgebra.Adjoint{T,#s576} where #s576<:(AbstractArray{T,1} where T) where T, v::AbstractArray{T,1} where T) in LinearAlgebra at /Applications/Julia-1.0.app/Contents/Resources/julia/share/julia/stdlib/v1.0/LinearAlgebra/src/adjtrans.jl:197\n",
       "[134] *(u::LinearAlgebra.Transpose{T,#s576} where #s576<:(AbstractArray{T,1} where T), v::AbstractArray{T,1}) where T<:Real in LinearAlgebra at /Applications/Julia-1.0.app/Contents/Resources/julia/share/julia/stdlib/v1.0/LinearAlgebra/src/adjtrans.jl:198\n",
       "[135] *(u::LinearAlgebra.Transpose{T,#s576} where #s576<:(AbstractArray{T,1} where T) where T, v::LinearAlgebra.Transpose{#s576,#s575} where #s575<:(LinearAlgebra.Adjoint{T,#s576} where #s576<:(AbstractArray{T,1} where T) where T) where #s576) in LinearAlgebra at /Applications/Julia-1.0.app/Contents/Resources/julia/share/julia/stdlib/v1.0/LinearAlgebra/src/adjtrans.jl:217\n",
       "[136] *(A::LinearAlgebra.Transpose{#s576,#s575} where #s575<:LinearAlgebra.AbstractTriangular where #s576, B::LinearAlgebra.Transpose{#s574,#s573} where #s573<:LinearAlgebra.AbstractTriangular where #s574) in LinearAlgebra at /Applications/Julia-1.0.app/Contents/Resources/julia/share/julia/stdlib/v1.0/LinearAlgebra/src/triangular.jl:1970\n",
       "[137] *(A::LinearAlgebra.Transpose{#s576,#s575} where #s575<:(Union{Hermitian{T,S}, Symmetric{T,S}, Symmetric{Complex{T},S}} where S where T<:Real) where #s576, B::LinearAlgebra.Transpose{#s574,#s573} where #s573<:LinearAlgebra.AbstractTriangular where #s574) in LinearAlgebra at /Applications/Julia-1.0.app/Contents/Resources/julia/share/julia/stdlib/v1.0/LinearAlgebra/src/symmetric.jl:865\n",
       "[138] *(v::LinearAlgebra.Transpose{T,#s576} where #s576<:(AbstractArray{T,1} where T) where T, A::LinearAlgebra.Transpose{#s576,#s575} where #s575<:LinearAlgebra.AbstractTriangular where #s576) in LinearAlgebra at /Applications/Julia-1.0.app/Contents/Resources/julia/share/julia/stdlib/v1.0/LinearAlgebra/src/triangular.jl:1955\n",
       "[139] *(A::LinearAlgebra.Transpose{#s576,#s575} where #s575<:LinearAlgebra.AbstractTriangular where #s576, B::LinearAlgebra.Transpose{#s574,#s573} where #s573<:(Union{Hermitian{T,S}, Symmetric{T,S}, Symmetric{Complex{T},S}} where S where T<:Real) where #s574) in LinearAlgebra at /Applications/Julia-1.0.app/Contents/Resources/julia/share/julia/stdlib/v1.0/LinearAlgebra/src/symmetric.jl:861\n",
       "[140] *(A::LinearAlgebra.Transpose{#s576,#s575} where #s575<:LinearAlgebra.AbstractTriangular where #s576, B::LinearAlgebra.Transpose{#s574,#s573} where #s573<:(AbstractArray{T,1} where T) where #s574) in LinearAlgebra at /Applications/Julia-1.0.app/Contents/Resources/julia/share/julia/stdlib/v1.0/LinearAlgebra/src/triangular.jl:2487\n",
       "[141] *(transA::LinearAlgebra.Transpose{#s576,#s575} where #s575<:(Union{Hermitian{T,S}, Symmetric{T,S}, Symmetric{Complex{T},S}} where S where T<:Real) where #s576, transB::LinearAlgebra.Transpose{#s574,#s573} where #s573<:(Union{Hermitian{T,S}, Symmetric{T,S}, Symmetric{Complex{T},S}} where S where T<:Real) where #s574) in LinearAlgebra at /Applications/Julia-1.0.app/Contents/Resources/julia/share/julia/stdlib/v1.0/LinearAlgebra/src/symmetric.jl:430\n",
       "[142] *(transA::LinearAlgebra.Transpose{#s576,#s575} where #s575<:(Union{Hermitian{T,S}, Symmetric{T,S}, Symmetric{Complex{T},S}} where S where T<:Real) where #s576, transB::LinearAlgebra.Transpose{#s574,#s573} where #s573<:(Union{Hermitian{T,S}, Hermitian{Complex{T},S}, Symmetric{T,S}} where S where T<:Real) where #s574) in LinearAlgebra at /Applications/Julia-1.0.app/Contents/Resources/julia/share/julia/stdlib/v1.0/LinearAlgebra/src/symmetric.jl:431\n",
       "[143] *(transA::LinearAlgebra.Transpose{#s576,#s575} where #s575<:(Union{Hermitian{T,S}, Hermitian{Complex{T},S}, Symmetric{T,S}} where S where T<:Real) where #s576, transB::LinearAlgebra.Transpose{#s574,#s573} where #s573<:(Union{Hermitian{T,S}, Symmetric{T,S}, Symmetric{Complex{T},S}} where S where T<:Real) where #s574) in LinearAlgebra at /Applications/Julia-1.0.app/Contents/Resources/julia/share/julia/stdlib/v1.0/LinearAlgebra/src/symmetric.jl:432\n",
       "[144] *(transD::LinearAlgebra.Transpose{#s576,#s575} where #s575<:LinearAlgebra.Diagonal where #s576, transA::LinearAlgebra.Transpose{#s574,#s573} where #s573<:(Union{Hermitian{T,S}, Symmetric{T,S}, Symmetric{Complex{T},S}} where S where T<:Real) where #s574) in LinearAlgebra at /Applications/Julia-1.0.app/Contents/Resources/julia/share/julia/stdlib/v1.0/LinearAlgebra/src/diagonal.jl:291\n",
       "[145] *(A::LinearAlgebra.Transpose{#s576,#s575} where #s575<:(AbstractArray{T,1} where T) where #s576, B::LinearAlgebra.Transpose{#s574,#s573} where #s573<:(Union{Hermitian{T,S}, Symmetric{T,S}, Symmetric{Complex{T},S}} where S where T<:Real) where #s574) in LinearAlgebra at /Applications/Julia-1.0.app/Contents/Resources/julia/share/julia/stdlib/v1.0/LinearAlgebra/src/symmetric.jl:845\n",
       "[146] *(transA::LinearAlgebra.Transpose{#s576,#s575} where #s575<:(Union{Hermitian{T,S}, Symmetric{T,S}, Symmetric{Complex{T},S}} where S where T<:Real) where #s576, transD::LinearAlgebra.Transpose{#s574,#s573} where #s573<:LinearAlgebra.Diagonal where #s574) in LinearAlgebra at /Applications/Julia-1.0.app/Contents/Resources/julia/share/julia/stdlib/v1.0/LinearAlgebra/src/diagonal.jl:290\n",
       "[147] *(A::LinearAlgebra.Transpose{#s576,#s575} where #s575<:(Union{Hermitian{T,S}, Symmetric{T,S}, Symmetric{Complex{T},S}} where S where T<:Real) where #s576, B::LinearAlgebra.Transpose{#s574,#s573} where #s573<:(AbstractArray{T,1} where T) where #s574) in LinearAlgebra at /Applications/Julia-1.0.app/Contents/Resources/julia/share/julia/stdlib/v1.0/LinearAlgebra/src/symmetric.jl:854\n",
       "[148] *(D::LinearAlgebra.Transpose{#s576,#s575} where #s575<:LinearAlgebra.Diagonal where #s576, B::LinearAlgebra.Transpose{#s574,#s573} where #s573<:LinearAlgebra.Diagonal where #s574) in LinearAlgebra at /Applications/Julia-1.0.app/Contents/Resources/julia/share/julia/stdlib/v1.0/LinearAlgebra/src/diagonal.jl:251\n",
       "[149] *(A::LinearAlgebra.Transpose{#s576,#s575} where #s575<:SparseArrays.SparseMatrixCSC{Tv,Ti} where #s576, B::LinearAlgebra.Transpose{#s574,#s573} where #s573<:SparseArrays.SparseMatrixCSC{Tv,Ti} where #s574) where {Tv, Ti} in SparseArrays at /Applications/Julia-1.0.app/Contents/Resources/julia/share/julia/stdlib/v1.0/SparseArrays/src/linalg.jl:147\n",
       "[150] *(transA::LinearAlgebra.Transpose{#s576,#s575} where #s575<:SparseArrays.SparseMatrixCSC{TvA,TiA} where #s576, transB::LinearAlgebra.Transpose{#s574,#s573} where #s573<:SparseArrays.SparseMatrixCSC{TvB,TiB} where #s574) where {TvA, TiA, TvB, TiB} in SparseArrays at /Applications/Julia-1.0.app/Contents/Resources/julia/share/julia/stdlib/v1.0/SparseArrays/src/linalg.jl:17\n",
       "[151] *(u::LinearAlgebra.Transpose{T,#s576} where #s576<:(AbstractArray{T,1} where T) where T, v::LinearAlgebra.Transpose{T,#s576} where #s576<:(AbstractArray{T,1} where T) where T) in LinearAlgebra at /Applications/Julia-1.0.app/Contents/Resources/julia/share/julia/stdlib/v1.0/LinearAlgebra/src/adjtrans.jl:209\n",
       "[152] *(u::LinearAlgebra.Transpose{T,#s576} where #s576<:(AbstractArray{T,1} where T) where T, v::LinearAlgebra.Adjoint{#s576,#s575} where #s575<:(LinearAlgebra.Transpose{T,#s576} where #s576<:(AbstractArray{T,1} where T) where T) where #s576) in LinearAlgebra at /Applications/Julia-1.0.app/Contents/Resources/julia/share/julia/stdlib/v1.0/LinearAlgebra/src/adjtrans.jl:213\n",
       "[153] *(transx::LinearAlgebra.Transpose{#s576,#s575} where #s575<:Union{DenseArray{T,1}, ReinterpretArray{T,1,S,A} where S where A<:Union{SubArray{T,N,A,I,true} where I<:Tuple{AbstractUnitRange,Vararg{Any,N} where N} where A<:DenseArray where N where T, DenseArray}, ReshapedArray{T,1,A,MI} where MI<:Tuple{Vararg{SignedMultiplicativeInverse{Int64},N} where N} where A<:Union{ReinterpretArray{T,N,S,A} where S where A<:Union{SubArray{T,N,A,I,true} where I<:Tuple{AbstractUnitRange,Vararg{Any,N} where N} where A<:DenseArray where N where T, DenseArray} where N where T, SubArray{T,N,A,I,true} where I<:Tuple{AbstractUnitRange,Vararg{Any,N} where N} where A<:DenseArray where N where T, DenseArray}, SubArray{T,1,A,I,L} where L where I<:Tuple{Vararg{Union{Int64, AbstractRange{Int64}, AbstractCartesianIndex},N} where N} where A<:Union{ReinterpretArray{T,N,S,A} where S where A<:Union{SubArray{T,N,A,I,true} where I<:Tuple{AbstractUnitRange,Vararg{Any,N} where N} where A<:DenseArray where N where T, DenseArray} where N where T, ReshapedArray{T,N,A,MI} where MI<:Tuple{Vararg{SignedMultiplicativeInverse{Int64},N} where N} where A<:Union{ReinterpretArray{T,N,S,A} where S where A<:Union{SubArray{T,N,A,I,true} where I<:Tuple{AbstractUnitRange,Vararg{Any,N} where N} where A<:DenseArray where N where T, DenseArray} where N where T, SubArray{T,N,A,I,true} where I<:Tuple{AbstractUnitRange,Vararg{Any,N} where N} where A<:DenseArray where N where T, DenseArray} where N where T, DenseArray}} where #s576, y::Union{DenseArray{T,1}, ReinterpretArray{T,1,S,A} where S where A<:Union{SubArray{T,N,A,I,true} where I<:Tuple{AbstractUnitRange,Vararg{Any,N} where N} where A<:DenseArray where N where T, DenseArray}, ReshapedArray{T,1,A,MI} where MI<:Tuple{Vararg{SignedMultiplicativeInverse{Int64},N} where N} where A<:Union{ReinterpretArray{T,N,S,A} where S where A<:Union{SubArray{T,N,A,I,true} where I<:Tuple{AbstractUnitRange,Vararg{Any,N} where N} where A<:DenseArray where N where T, DenseArray} where N where T, SubArray{T,N,A,I,true} where I<:Tuple{AbstractUnitRange,Vararg{Any,N} where N} where A<:DenseArray where N where T, DenseArray}, SubArray{T,1,A,I,L} where L where I<:Tuple{Vararg{Union{Int64, AbstractRange{Int64}, AbstractCartesianIndex},N} where N} where A<:Union{ReinterpretArray{T,N,S,A} where S where A<:Union{SubArray{T,N,A,I,true} where I<:Tuple{AbstractUnitRange,Vararg{Any,N} where N} where A<:DenseArray where N where T, DenseArray} where N where T, ReshapedArray{T,N,A,MI} where MI<:Tuple{Vararg{SignedMultiplicativeInverse{Int64},N} where N} where A<:Union{ReinterpretArray{T,N,S,A} where S where A<:Union{SubArray{T,N,A,I,true} where I<:Tuple{AbstractUnitRange,Vararg{Any,N} where N} where A<:DenseArray where N where T, DenseArray} where N where T, SubArray{T,N,A,I,true} where I<:Tuple{AbstractUnitRange,Vararg{Any,N} where N} where A<:DenseArray where N where T, DenseArray} where N where T, DenseArray}}) where T<:Union{Complex{Float32}, Complex{Float64}} in LinearAlgebra at /Applications/Julia-1.0.app/Contents/Resources/julia/share/julia/stdlib/v1.0/LinearAlgebra/src/matmul.jl:39\n",
       "[154] *(transA::LinearAlgebra.Transpose{#s576,#s575} where #s575<:Union{DenseArray{T,2}, ReinterpretArray{T,2,S,A} where S where A<:Union{SubArray{T,N,A,I,true} where I<:Tuple{AbstractUnitRange,Vararg{Any,N} where N} where A<:DenseArray where N where T, DenseArray}, ReshapedArray{T,2,A,MI} where MI<:Tuple{Vararg{SignedMultiplicativeInverse{Int64},N} where N} where A<:Union{ReinterpretArray{T,N,S,A} where S where A<:Union{SubArray{T,N,A,I,true} where I<:Tuple{AbstractUnitRange,Vararg{Any,N} where N} where A<:DenseArray where N where T, DenseArray} where N where T, SubArray{T,N,A,I,true} where I<:Tuple{AbstractUnitRange,Vararg{Any,N} where N} where A<:DenseArray where N where T, DenseArray}, SubArray{T,2,A,I,L} where L where I<:Tuple{Vararg{Union{Int64, AbstractRange{Int64}, AbstractCartesianIndex},N} where N} where A<:Union{ReinterpretArray{T,N,S,A} where S where A<:Union{SubArray{T,N,A,I,true} where I<:Tuple{AbstractUnitRange,Vararg{Any,N} where N} where A<:DenseArray where N where T, DenseArray} where N where T, ReshapedArray{T,N,A,MI} where MI<:Tuple{Vararg{SignedMultiplicativeInverse{Int64},N} where N} where A<:Union{ReinterpretArray{T,N,S,A} where S where A<:Union{SubArray{T,N,A,I,true} where I<:Tuple{AbstractUnitRange,Vararg{Any,N} where N} where A<:DenseArray where N where T, DenseArray} where N where T, SubArray{T,N,A,I,true} where I<:Tuple{AbstractUnitRange,Vararg{Any,N} where N} where A<:DenseArray where N where T, DenseArray} where N where T, DenseArray}} where #s576, x::Union{DenseArray{S,1}, ReinterpretArray{S,1,S1,A} where S1 where A<:Union{SubArray{T,N,A,I,true} where I<:Tuple{AbstractUnitRange,Vararg{Any,N} where N} where A<:DenseArray where N where T, DenseArray}, ReshapedArray{S,1,A,MI} where MI<:Tuple{Vararg{SignedMultiplicativeInverse{Int64},N} where N} where A<:Union{ReinterpretArray{T,N,S,A} where S where A<:Union{SubArray{T,N,A,I,true} where I<:Tuple{AbstractUnitRange,Vararg{Any,N} where N} where A<:DenseArray where N where T, DenseArray} where N where T, SubArray{T,N,A,I,true} where I<:Tuple{AbstractUnitRange,Vararg{Any,N} where N} where A<:DenseArray where N where T, DenseArray}, SubArray{S,1,A,I,L} where L where I<:Tuple{Vararg{Union{Int64, AbstractRange{Int64}, AbstractCartesianIndex},N} where N} where A<:Union{ReinterpretArray{T,N,S,A} where S where A<:Union{SubArray{T,N,A,I,true} where I<:Tuple{AbstractUnitRange,Vararg{Any,N} where N} where A<:DenseArray where N where T, DenseArray} where N where T, ReshapedArray{T,N,A,MI} where MI<:Tuple{Vararg{SignedMultiplicativeInverse{Int64},N} where N} where A<:Union{ReinterpretArray{T,N,S,A} where S where A<:Union{SubArray{T,N,A,I,true} where I<:Tuple{AbstractUnitRange,Vararg{Any,N} where N} where A<:DenseArray where N where T, DenseArray} where N where T, SubArray{T,N,A,I,true} where I<:Tuple{AbstractUnitRange,Vararg{Any,N} where N} where A<:DenseArray where N where T, DenseArray} where N where T, DenseArray}}) where {T<:Union{Complex{Float32}, Complex{Float64}, Float32, Float64}, S} in LinearAlgebra at /Applications/Julia-1.0.app/Contents/Resources/julia/share/julia/stdlib/v1.0/LinearAlgebra/src/matmul.jl:79\n",
       "[155] *(xformA::LinearAlgebra.Transpose{#s576,#s575} where #s575<:LinearAlgebra.UpperTriangular where #s576, B::LinearAlgebra.LowerTriangular) in LinearAlgebra at /Applications/Julia-1.0.app/Contents/Resources/julia/share/julia/stdlib/v1.0/LinearAlgebra/src/triangular.jl:1647\n",
       "[156] *(xformA::LinearAlgebra.Transpose{#s574,#s573} where #s573<:LinearAlgebra.UnitUpperTriangular where #s574, B::LinearAlgebra.LowerTriangular) in LinearAlgebra at /Applications/Julia-1.0.app/Contents/Resources/julia/share/julia/stdlib/v1.0/LinearAlgebra/src/triangular.jl:1656\n",
       "[157] *(xformA::LinearAlgebra.Transpose{#s572,#s571} where #s571<:LinearAlgebra.LowerTriangular where #s572, B::LinearAlgebra.UpperTriangular) in LinearAlgebra at /Applications/Julia-1.0.app/Contents/Resources/julia/share/julia/stdlib/v1.0/LinearAlgebra/src/triangular.jl:1665\n",
       "[158] *(xformA::LinearAlgebra.Transpose{#s570,#s569} where #s569<:LinearAlgebra.UnitLowerTriangular where #s570, B::LinearAlgebra.UpperTriangular) in LinearAlgebra at /Applications/Julia-1.0.app/Contents/Resources/julia/share/julia/stdlib/v1.0/LinearAlgebra/src/triangular.jl:1674\n",
       "[159] *(transA::LinearAlgebra.Transpose{#s576,#s575} where #s575<:LinearAlgebra.AbstractTriangular where #s576, B::LinearAlgebra.AbstractTriangular) in LinearAlgebra at /Applications/Julia-1.0.app/Contents/Resources/julia/share/julia/stdlib/v1.0/LinearAlgebra/src/triangular.jl:1772\n",
       "[160] *(A::LinearAlgebra.Transpose{#s576,#s575} where #s575<:LinearAlgebra.AbstractTriangular where #s576, B::LinearAlgebra.Transpose{#s574,#s573} where #s573<:(AbstractArray{T,2} where T) where #s574) in LinearAlgebra at /Applications/Julia-1.0.app/Contents/Resources/julia/share/julia/stdlib/v1.0/LinearAlgebra/src/triangular.jl:1971\n",
       "[161] *(A::LinearAlgebra.Transpose{#s576,#s575} where #s575<:LinearAlgebra.AbstractTriangular where #s576, B::LinearAlgebra.Adjoint{#s574,#s573} where #s573<:LinearAlgebra.AbstractTriangular where #s574) in LinearAlgebra at /Applications/Julia-1.0.app/Contents/Resources/julia/share/julia/stdlib/v1.0/LinearAlgebra/src/triangular.jl:2482\n",
       "[162] *(A::LinearAlgebra.Transpose{#s576,#s575} where #s575<:LinearAlgebra.AbstractTriangular where #s576, B::LinearAlgebra.Adjoint{#s574,#s573} where #s573<:(Union{Hermitian{T,S}, Hermitian{Complex{T},S}, Symmetric{T,S}} where S where T<:Real) where #s574) in LinearAlgebra at /Applications/Julia-1.0.app/Contents/Resources/julia/share/julia/stdlib/v1.0/LinearAlgebra/src/symmetric.jl:860\n",
       "[163] *(A::LinearAlgebra.Transpose{#s576,#s575} where #s575<:LinearAlgebra.AbstractTriangular where #s576, B::LinearAlgebra.Adjoint{#s574,#s573} where #s573<:(AbstractArray{T,1} where T) where #s574) in LinearAlgebra at /Applications/Julia-1.0.app/Contents/Resources/julia/share/julia/stdlib/v1.0/LinearAlgebra/src/triangular.jl:2488\n",
       "[164] *(A::LinearAlgebra.Transpose{#s576,#s575} where #s575<:LinearAlgebra.AbstractTriangular where #s576, B::LinearAlgebra.Adjoint{#s574,#s573} where #s573<:(AbstractArray{T,2} where T) where #s574) in LinearAlgebra at /Applications/Julia-1.0.app/Contents/Resources/julia/share/julia/stdlib/v1.0/LinearAlgebra/src/triangular.jl:2489\n",
       "[165] *(A::LinearAlgebra.Transpose{#s576,#s575} where #s575<:LinearAlgebra.AbstractTriangular where #s576, D::LinearAlgebra.Diagonal) in LinearAlgebra at /Applications/Julia-1.0.app/Contents/Resources/julia/share/julia/stdlib/v1.0/LinearAlgebra/src/diagonal.jl:222\n",
       "[166] *(A::LinearAlgebra.Transpose{#s576,#s575} where #s575<:LinearAlgebra.AbstractTriangular where #s576, B::LinearAlgebra.Adjoint{#s574,#s573} where #s573<:LinearAlgebra.AbstractRotation where #s574) in LinearAlgebra at /Applications/Julia-1.0.app/Contents/Resources/julia/share/julia/stdlib/v1.0/LinearAlgebra/src/givens.jl:393\n",
       "[167] *(transA::LinearAlgebra.Transpose{#s574,#s573} where #s573<:LinearAlgebra.AbstractTriangular where #s574, B::AbstractArray{T,1} where T) in LinearAlgebra at /Applications/Julia-1.0.app/Contents/Resources/julia/share/julia/stdlib/v1.0/LinearAlgebra/src/triangular.jl:1813\n",
       "[168] *(transA::LinearAlgebra.Transpose{#s576,#s575} where #s575<:(Union{Hermitian{T,S}, Symmetric{T,S}, Symmetric{Complex{T},S}} where S where T<:Real) where #s576, B::LinearAlgebra.AbstractTriangular) in LinearAlgebra at /Applications/Julia-1.0.app/Contents/Resources/julia/share/julia/stdlib/v1.0/LinearAlgebra/src/symmetric.jl:438\n",
       "[169] *(A::LinearAlgebra.Transpose{#s177,#s176} where #s176<:(Union{StaticArray{Tuple{#s12},T,1} where #s12, StaticArray{Tuple{#s13,#s14},T,2} where #s14 where #s13} where T) where #s177, B::LinearAlgebra.AbstractTriangular{#s175,#s174} where #s174<:(StaticArrays.StaticArray{Tuple{N,M},T,2} where T where M where N) where #s175) in StaticArrays at /Users/abradley/.julia/packages/StaticArrays/mcf7t/src/triangular.jl:13\n",
       "[170] *(v::LinearAlgebra.Transpose{T,#s576} where #s576<:(AbstractArray{T,1} where T) where T, A::LinearAlgebra.AbstractTriangular) in LinearAlgebra at /Applications/Julia-1.0.app/Contents/Resources/julia/share/julia/stdlib/v1.0/LinearAlgebra/src/triangular.jl:1953\n",
       "[171] *(A::LinearAlgebra.Transpose{#s576,#s575} where #s575<:(Union{Hermitian{T,S}, Symmetric{T,S}, Symmetric{Complex{T},S}} where S where T<:Real) where #s576, B::LinearAlgebra.Adjoint{#s574,#s573} where #s573<:LinearAlgebra.AbstractTriangular where #s574) in LinearAlgebra at /Applications/Julia-1.0.app/Contents/Resources/julia/share/julia/stdlib/v1.0/LinearAlgebra/src/symmetric.jl:864\n",
       "[172] *(A::LinearAlgebra.Transpose{#s576,#s575} where #s575<:(AbstractArray{T,1} where T) where #s576, B::LinearAlgebra.Adjoint{#s574,#s573} where #s573<:LinearAlgebra.AbstractTriangular where #s574) in LinearAlgebra at /Applications/Julia-1.0.app/Contents/Resources/julia/share/julia/stdlib/v1.0/LinearAlgebra/src/triangular.jl:2493\n",
       "[173] *(A::LinearAlgebra.Transpose{#s576,#s575} where #s575<:(Union{Hermitian{T,S}, Symmetric{T,S}, Symmetric{Complex{T},S}} where S where T<:Real) where #s576, B::LinearAlgebra.Adjoint{#s574,#s573} where #s573<:(Union{Hermitian{T,S}, Hermitian{Complex{T},S}, Symmetric{T,S}} where S where T<:Real) where #s574) in LinearAlgebra at /Applications/Julia-1.0.app/Contents/Resources/julia/share/julia/stdlib/v1.0/LinearAlgebra/src/symmetric.jl:837\n",
       "[174] *(A::LinearAlgebra.Transpose{#s576,#s575} where #s575<:(Union{Hermitian{T,S}, Symmetric{T,S}, Symmetric{Complex{T},S}} where S where T<:Real) where #s576, B::LinearAlgebra.Adjoint{#s574,#s573} where #s573<:(AbstractArray{T,1} where T) where #s574) in LinearAlgebra at /Applications/Julia-1.0.app/Contents/Resources/julia/share/julia/stdlib/v1.0/LinearAlgebra/src/symmetric.jl:852\n",
       "[175] *(A::LinearAlgebra.Transpose{#s576,#s575} where #s575<:(Union{Hermitian{T,S}, Symmetric{T,S}, Symmetric{Complex{T},S}} where S where T<:Real) where #s576, B::LinearAlgebra.Adjoint{#s574,#s573} where #s573<:(AbstractArray{T,2} where T) where #s574) in LinearAlgebra at /Applications/Julia-1.0.app/Contents/Resources/julia/share/julia/stdlib/v1.0/LinearAlgebra/src/symmetric.jl:853\n",
       "[176] *(A::LinearAlgebra.Transpose{#s576,#s575} where #s575<:(Union{Hermitian{T,S}, Symmetric{T,S}, Symmetric{Complex{T},S}} where S where T<:Real) where #s576, B::LinearAlgebra.Transpose{#s574,#s573} where #s573<:(AbstractArray{T,2} where T) where #s574) in LinearAlgebra at /Applications/Julia-1.0.app/Contents/Resources/julia/share/julia/stdlib/v1.0/LinearAlgebra/src/symmetric.jl:855\n",
       "[177] *(transA::LinearAlgebra.Transpose{#s576,#s575} where #s575<:(Union{Hermitian{T,S}, Symmetric{T,S}, Symmetric{Complex{T},S}} where S where T<:Real) where #s576, B::LinearAlgebra.Diagonal) in LinearAlgebra at /Applications/Julia-1.0.app/Contents/Resources/julia/share/julia/stdlib/v1.0/LinearAlgebra/src/diagonal.jl:287\n",
       "[178] *(A::LinearAlgebra.Transpose{#s576,#s575} where #s575<:(Union{Hermitian{T,S}, Symmetric{T,S}, Symmetric{Complex{T},S}} where S where T<:Real) where #s576, B::LinearAlgebra.Adjoint{#s574,#s573} where #s573<:LinearAlgebra.AbstractRotation where #s574) in LinearAlgebra at /Applications/Julia-1.0.app/Contents/Resources/julia/share/julia/stdlib/v1.0/LinearAlgebra/src/givens.jl:395\n",
       "[179] *(transA::LinearAlgebra.Transpose{#s576,#s575} where #s575<:(Union{Hermitian{T,S}, Symmetric{T,S}, Symmetric{Complex{T},S}} where S where T<:Real) where #s576, B::AbstractArray{T,1} where T) in LinearAlgebra at /Applications/Julia-1.0.app/Contents/Resources/julia/share/julia/stdlib/v1.0/LinearAlgebra/src/symmetric.jl:421\n",
       "[180] *(A::LinearAlgebra.Transpose{#s576,#s575} where #s575<:(AbstractArray{T,1} where T) where #s576, B::LinearAlgebra.Adjoint{#s574,#s573} where #s573<:(Union{Hermitian{T,S}, Hermitian{Complex{T},S}, Symmetric{T,S}} where S where T<:Real) where #s574) in LinearAlgebra at /Applications/Julia-1.0.app/Contents/Resources/julia/share/julia/stdlib/v1.0/LinearAlgebra/src/symmetric.jl:843\n",
       "[181] *(D::LinearAlgebra.Transpose{#s576,#s575} where #s575<:LinearAlgebra.Diagonal where #s576, B::LinearAlgebra.Diagonal) in LinearAlgebra at /Applications/Julia-1.0.app/Contents/Resources/julia/share/julia/stdlib/v1.0/LinearAlgebra/src/diagonal.jl:221\n",
       "[182] *(x::LinearAlgebra.Transpose{#s576,#s575} where #s575<:(AbstractArray{T,1} where T) where #s576, D::LinearAlgebra.Diagonal) in LinearAlgebra at /Applications/Julia-1.0.app/Contents/Resources/julia/share/julia/stdlib/v1.0/LinearAlgebra/src/diagonal.jl:511\n",
       "[183] *(x::LinearAlgebra.Transpose{#s576,#s575} where #s575<:(AbstractArray{T,1} where T) where #s576, D::LinearAlgebra.Diagonal, y::AbstractArray{T,1} where T) in LinearAlgebra at /Applications/Julia-1.0.app/Contents/Resources/julia/share/julia/stdlib/v1.0/LinearAlgebra/src/diagonal.jl:512\n",
       "[184] *(A::LinearAlgebra.Transpose{#s576,#s575} where #s575<:(AbstractArray{T,1} where T) where #s576, B::LinearAlgebra.Adjoint{#s574,#s573} where #s573<:LinearAlgebra.AbstractRotation where #s574) in LinearAlgebra at /Applications/Julia-1.0.app/Contents/Resources/julia/share/julia/stdlib/v1.0/LinearAlgebra/src/givens.jl:389\n",
       "[185] *(transA::LinearAlgebra.Transpose{#s576,#s575} where #s575<:Union{DenseArray{Ta,2}, ReinterpretArray{Ta,2,S,A} where S where A<:Union{SubArray{T,N,A,I,true} where I<:Tuple{AbstractUnitRange,Vararg{Any,N} where N} where A<:DenseArray where N where T, DenseArray}, ReshapedArray{Ta,2,A,MI} where MI<:Tuple{Vararg{SignedMultiplicativeInverse{Int64},N} where N} where A<:Union{ReinterpretArray{T,N,S,A} where S where A<:Union{SubArray{T,N,A,I,true} where I<:Tuple{AbstractUnitRange,Vararg{Any,N} where N} where A<:DenseArray where N where T, DenseArray} where N where T, SubArray{T,N,A,I,true} where I<:Tuple{AbstractUnitRange,Vararg{Any,N} where N} where A<:DenseArray where N where T, DenseArray}, SubArray{Ta,2,A,I,L} where L where I<:Tuple{Vararg{Union{Int64, AbstractRange{Int64}, AbstractCartesianIndex},N} where N} where A<:Union{ReinterpretArray{T,N,S,A} where S where A<:Union{SubArray{T,N,A,I,true} where I<:Tuple{AbstractUnitRange,Vararg{Any,N} where N} where A<:DenseArray where N where T, DenseArray} where N where T, ReshapedArray{T,N,A,MI} where MI<:Tuple{Vararg{SignedMultiplicativeInverse{Int64},N} where N} where A<:Union{ReinterpretArray{T,N,S,A} where S where A<:Union{SubArray{T,N,A,I,true} where I<:Tuple{AbstractUnitRange,Vararg{Any,N} where N} where A<:DenseArray where N where T, DenseArray} where N where T, SubArray{T,N,A,I,true} where I<:Tuple{AbstractUnitRange,Vararg{Any,N} where N} where A<:DenseArray where N where T, DenseArray} where N where T, DenseArray}} where #s576, x::SparseArrays.AbstractSparseArray{Tx,Ti,1} where Ti) where {Ta, Tx} in SparseArrays at /Applications/Julia-1.0.app/Contents/Resources/julia/share/julia/stdlib/v1.0/SparseArrays/src/sparsevector.jl:1519\n",
       "[186] *(transA::LinearAlgebra.Transpose{#s576,#s575} where #s575<:SparseArrays.SparseMatrixCSC where #s576, x::SparseArrays.AbstractSparseArray{Tv,Ti,1} where Ti where Tv) in SparseArrays at /Applications/Julia-1.0.app/Contents/Resources/julia/share/julia/stdlib/v1.0/SparseArrays/src/sparsevector.jl:1673\n",
       "[187] *(A::LinearAlgebra.Transpose{#s576,#s575} where #s575<:SparseArrays.SparseMatrixCSC{Tv,Ti} where #s576, B::SparseArrays.SparseMatrixCSC{Tv,Ti}) where {Tv, Ti} in SparseArrays at /Applications/Julia-1.0.app/Contents/Resources/julia/share/julia/stdlib/v1.0/SparseArrays/src/linalg.jl:144\n",
       "[188] *(transA::LinearAlgebra.Transpose{#s576,#s575} where #s575<:SparseArrays.SparseMatrixCSC{TvA,TiA} where #s576, B::SparseArrays.SparseMatrixCSC{TvB,TiB}) where {TvA, TiA, TvB, TiB} in SparseArrays at /Applications/Julia-1.0.app/Contents/Resources/julia/share/julia/stdlib/v1.0/SparseArrays/src/linalg.jl:13\n",
       "[189] *(transA::LinearAlgebra.Transpose{#s576,#s575} where #s575<:SparseArrays.SparseMatrixCSC{TA,S} where #s576, x::Union{DenseArray{Tx,1}, ReinterpretArray{Tx,1,S,A} where S where A<:Union{SubArray{T,N,A,I,true} where I<:Tuple{AbstractUnitRange,Vararg{Any,N} where N} where A<:DenseArray where N where T, DenseArray}, ReshapedArray{Tx,1,A,MI} where MI<:Tuple{Vararg{SignedMultiplicativeInverse{Int64},N} where N} where A<:Union{ReinterpretArray{T,N,S,A} where S where A<:Union{SubArray{T,N,A,I,true} where I<:Tuple{AbstractUnitRange,Vararg{Any,N} where N} where A<:DenseArray where N where T, DenseArray} where N where T, SubArray{T,N,A,I,true} where I<:Tuple{AbstractUnitRange,Vararg{Any,N} where N} where A<:DenseArray where N where T, DenseArray}, SubArray{Tx,1,A,I,L} where L where I<:Tuple{Vararg{Union{Int64, AbstractRange{Int64}, AbstractCartesianIndex},N} where N} where A<:Union{ReinterpretArray{T,N,S,A} where S where A<:Union{SubArray{T,N,A,I,true} where I<:Tuple{AbstractUnitRange,Vararg{Any,N} where N} where A<:DenseArray where N where T, DenseArray} where N where T, ReshapedArray{T,N,A,MI} where MI<:Tuple{Vararg{SignedMultiplicativeInverse{Int64},N} where N} where A<:Union{ReinterpretArray{T,N,S,A} where S where A<:Union{SubArray{T,N,A,I,true} where I<:Tuple{AbstractUnitRange,Vararg{Any,N} where N} where A<:DenseArray where N where T, DenseArray} where N where T, SubArray{T,N,A,I,true} where I<:Tuple{AbstractUnitRange,Vararg{Any,N} where N} where A<:DenseArray where N where T, DenseArray} where N where T, DenseArray}}) where {TA, S, Tx} in SparseArrays at /Applications/Julia-1.0.app/Contents/Resources/julia/share/julia/stdlib/v1.0/SparseArrays/src/linalg.jl:103\n",
       "[190] *(transA::LinearAlgebra.Transpose{#s576,#s575} where #s575<:SparseArrays.SparseMatrixCSC{TA,S} where #s576, B::Union{DenseArray{Tx,2}, ReinterpretArray{Tx,2,S,A} where S where A<:Union{SubArray{T,N,A,I,true} where I<:Tuple{AbstractUnitRange,Vararg{Any,N} where N} where A<:DenseArray where N where T, DenseArray}, ReshapedArray{Tx,2,A,MI} where MI<:Tuple{Vararg{SignedMultiplicativeInverse{Int64},N} where N} where A<:Union{ReinterpretArray{T,N,S,A} where S where A<:Union{SubArray{T,N,A,I,true} where I<:Tuple{AbstractUnitRange,Vararg{Any,N} where N} where A<:DenseArray where N where T, DenseArray} where N where T, SubArray{T,N,A,I,true} where I<:Tuple{AbstractUnitRange,Vararg{Any,N} where N} where A<:DenseArray where N where T, DenseArray}, SubArray{Tx,2,A,I,L} where L where I<:Tuple{Vararg{Union{Int64, AbstractRange{Int64}, AbstractCartesianIndex},N} where N} where A<:Union{ReinterpretArray{T,N,S,A} where S where A<:Union{SubArray{T,N,A,I,true} where I<:Tuple{AbstractUnitRange,Vararg{Any,N} where N} where A<:DenseArray where N where T, DenseArray} where N where T, ReshapedArray{T,N,A,MI} where MI<:Tuple{Vararg{SignedMultiplicativeInverse{Int64},N} where N} where A<:Union{ReinterpretArray{T,N,S,A} where S where A<:Union{SubArray{T,N,A,I,true} where I<:Tuple{AbstractUnitRange,Vararg{Any,N} where N} where A<:DenseArray where N where T, DenseArray} where N where T, SubArray{T,N,A,I,true} where I<:Tuple{AbstractUnitRange,Vararg{Any,N} where N} where A<:DenseArray where N where T, DenseArray} where N where T, DenseArray}}) where {TA, S, Tx} in SparseArrays at /Applications/Julia-1.0.app/Contents/Resources/julia/share/julia/stdlib/v1.0/SparseArrays/src/linalg.jl:105\n",
       "[191] *(u::LinearAlgebra.Transpose{T,#s576} where #s576<:(AbstractArray{T,1} where T) where T, v::AbstractArray{T,1} where T) in LinearAlgebra at /Applications/Julia-1.0.app/Contents/Resources/julia/share/julia/stdlib/v1.0/LinearAlgebra/src/adjtrans.jl:200\n",
       "[192] *(A::Union{DenseArray{T,2}, ReinterpretArray{T,2,S,A} where S where A<:Union{SubArray{T,N,A,I,true} where I<:Tuple{AbstractUnitRange,Vararg{Any,N} where N} where A<:DenseArray where N where T, DenseArray}, ReshapedArray{T,2,A,MI} where MI<:Tuple{Vararg{SignedMultiplicativeInverse{Int64},N} where N} where A<:Union{ReinterpretArray{T,N,S,A} where S where A<:Union{SubArray{T,N,A,I,true} where I<:Tuple{AbstractUnitRange,Vararg{Any,N} where N} where A<:DenseArray where N where T, DenseArray} where N where T, SubArray{T,N,A,I,true} where I<:Tuple{AbstractUnitRange,Vararg{Any,N} where N} where A<:DenseArray where N where T, DenseArray}, SubArray{T,2,A,I,L} where L where I<:Tuple{Vararg{Union{Int64, AbstractRange{Int64}, AbstractCartesianIndex},N} where N} where A<:Union{ReinterpretArray{T,N,S,A} where S where A<:Union{SubArray{T,N,A,I,true} where I<:Tuple{AbstractUnitRange,Vararg{Any,N} where N} where A<:DenseArray where N where T, DenseArray} where N where T, ReshapedArray{T,N,A,MI} where MI<:Tuple{Vararg{SignedMultiplicativeInverse{Int64},N} where N} where A<:Union{ReinterpretArray{T,N,S,A} where S where A<:Union{SubArray{T,N,A,I,true} where I<:Tuple{AbstractUnitRange,Vararg{Any,N} where N} where A<:DenseArray where N where T, DenseArray} where N where T, SubArray{T,N,A,I,true} where I<:Tuple{AbstractUnitRange,Vararg{Any,N} where N} where A<:DenseArray where N where T, DenseArray} where N where T, DenseArray}}, x::Union{DenseArray{S,1}, ReinterpretArray{S,1,S1,A} where S1 where A<:Union{SubArray{T,N,A,I,true} where I<:Tuple{AbstractUnitRange,Vararg{Any,N} where N} where A<:DenseArray where N where T, DenseArray}, ReshapedArray{S,1,A,MI} where MI<:Tuple{Vararg{SignedMultiplicativeInverse{Int64},N} where N} where A<:Union{ReinterpretArray{T,N,S,A} where S where A<:Union{SubArray{T,N,A,I,true} where I<:Tuple{AbstractUnitRange,Vararg{Any,N} where N} where A<:DenseArray where N where T, DenseArray} where N where T, SubArray{T,N,A,I,true} where I<:Tuple{AbstractUnitRange,Vararg{Any,N} where N} where A<:DenseArray where N where T, DenseArray}, SubArray{S,1,A,I,L} where L where I<:Tuple{Vararg{Union{Int64, AbstractRange{Int64}, AbstractCartesianIndex},N} where N} where A<:Union{ReinterpretArray{T,N,S,A} where S where A<:Union{SubArray{T,N,A,I,true} where I<:Tuple{AbstractUnitRange,Vararg{Any,N} where N} where A<:DenseArray where N where T, DenseArray} where N where T, ReshapedArray{T,N,A,MI} where MI<:Tuple{Vararg{SignedMultiplicativeInverse{Int64},N} where N} where A<:Union{ReinterpretArray{T,N,S,A} where S where A<:Union{SubArray{T,N,A,I,true} where I<:Tuple{AbstractUnitRange,Vararg{Any,N} where N} where A<:DenseArray where N where T, DenseArray} where N where T, SubArray{T,N,A,I,true} where I<:Tuple{AbstractUnitRange,Vararg{Any,N} where N} where A<:DenseArray where N where T, DenseArray} where N where T, DenseArray}}) where {T<:Union{Complex{Float32}, Complex{Float64}, Float32, Float64}, S} in LinearAlgebra at /Applications/Julia-1.0.app/Contents/Resources/julia/share/julia/stdlib/v1.0/LinearAlgebra/src/matmul.jl:45\n",
       "[193] *(transA::LinearAlgebra.Transpose{#s576,#s575} where #s575<:AbstractArray{T,2} where #s576, x::AbstractArray{S,1}) where {T, S} in LinearAlgebra at /Applications/Julia-1.0.app/Contents/Resources/julia/share/julia/stdlib/v1.0/LinearAlgebra/src/matmul.jl:84\n",
       "[194] *(adjA::LinearAlgebra.Adjoint{#s576,#s575} where #s575<:AbstractArray{T,2} where #s576, x::AbstractArray{S,1}) where {T, S} in LinearAlgebra at /Applications/Julia-1.0.app/Contents/Resources/julia/share/julia/stdlib/v1.0/LinearAlgebra/src/matmul.jl:103\n",
       "[195] *(adjA::LinearAlgebra.Adjoint{#s576,#s575} where #s575<:LinearAlgebra.AbstractTriangular where #s576, B::AbstractArray{T,2} where T) in LinearAlgebra at /Applications/Julia-1.0.app/Contents/Resources/julia/share/julia/stdlib/v1.0/LinearAlgebra/src/triangular.jl:1805\n",
       "[196] *(adjA::LinearAlgebra.Adjoint{#s576,#s575} where #s575<:(Union{Hermitian{T,S}, Hermitian{Complex{T},S}, Symmetric{T,S}} where S where T<:Real) where #s576, B::AbstractArray{T,2} where T) in LinearAlgebra at /Applications/Julia-1.0.app/Contents/Resources/julia/share/julia/stdlib/v1.0/LinearAlgebra/src/symmetric.jl:426\n",
       "[197] *(x::LinearAlgebra.Adjoint{T,#s576} where #s576<:(AbstractArray{T,1} where T) where T, A::AbstractArray{T,2} where T) in LinearAlgebra at /Applications/Julia-1.0.app/Contents/Resources/julia/share/julia/stdlib/v1.0/LinearAlgebra/src/matmul.jl:122\n",
       "[198] *(transA::LinearAlgebra.Transpose{#s574,#s573} where #s573<:LinearAlgebra.AbstractTriangular where #s574, B::AbstractArray{T,2} where T) in LinearAlgebra at /Applications/Julia-1.0.app/Contents/Resources/julia/share/julia/stdlib/v1.0/LinearAlgebra/src/triangular.jl:1813\n",
       "[199] *(transA::LinearAlgebra.Transpose{#s576,#s575} where #s575<:(Union{Hermitian{T,S}, Symmetric{T,S}, Symmetric{Complex{T},S}} where S where T<:Real) where #s576, B::AbstractArray{T,2} where T) in LinearAlgebra at /Applications/Julia-1.0.app/Contents/Resources/julia/share/julia/stdlib/v1.0/LinearAlgebra/src/symmetric.jl:422\n",
       "[200] *(x::LinearAlgebra.Transpose{T,#s576} where #s576<:(AbstractArray{T,1} where T) where T, A::AbstractArray{T,2} where T) in LinearAlgebra at /Applications/Julia-1.0.app/Contents/Resources/julia/share/julia/stdlib/v1.0/LinearAlgebra/src/matmul.jl:123\n",
       "[201] *(A::LinearAlgebra.SymTridiagonal, B::Number) in LinearAlgebra at /Applications/Julia-1.0.app/Contents/Resources/julia/share/julia/stdlib/v1.0/LinearAlgebra/src/tridiag.jl:160\n",
       "[202] *(A::LinearAlgebra.Tridiagonal, B::Number) in LinearAlgebra at /Applications/Julia-1.0.app/Contents/Resources/julia/share/julia/stdlib/v1.0/LinearAlgebra/src/tridiag.jl:614\n",
       "[203] *(A::LinearAlgebra.UpperTriangular, x::Number) in LinearAlgebra at /Applications/Julia-1.0.app/Contents/Resources/julia/share/julia/stdlib/v1.0/LinearAlgebra/src/triangular.jl:670\n",
       "[204] *(A::LinearAlgebra.UnitUpperTriangular, x::Number) in LinearAlgebra at /Applications/Julia-1.0.app/Contents/Resources/julia/share/julia/stdlib/v1.0/LinearAlgebra/src/triangular.jl:673\n",
       "[205] *(A::LinearAlgebra.LowerTriangular, x::Number) in LinearAlgebra at /Applications/Julia-1.0.app/Contents/Resources/julia/share/julia/stdlib/v1.0/LinearAlgebra/src/triangular.jl:670\n",
       "[206] *(A::LinearAlgebra.UnitLowerTriangular, x::Number) in LinearAlgebra at /Applications/Julia-1.0.app/Contents/Resources/julia/share/julia/stdlib/v1.0/LinearAlgebra/src/triangular.jl:673\n",
       "[207] *(A::Union{SymTridiagonal, Tridiagonal}, B::LinearAlgebra.AbstractTriangular) in LinearAlgebra at /Applications/Julia-1.0.app/Contents/Resources/julia/share/julia/stdlib/v1.0/LinearAlgebra/src/triangular.jl:1602\n",
       "[208] *(A::Union{LowerTriangular{#s175,#s174} where #s174<:(StaticArray{Tuple{N,M},T,2} where T where M where N) where #s175, UpperTriangular{#s177,#s176} where #s176<:(StaticArray{Tuple{N,M},T,2} where T where M where N) where #s177}, B::Union{LowerTriangular{#s175,#s174} where #s174<:(StaticArray{Tuple{N,M},T,2} where T where M where N) where #s175, UpperTriangular{#s177,#s176} where #s176<:(StaticArray{Tuple{N,M},T,2} where T where M where N) where #s177}) in StaticArrays at /Users/abradley/.julia/packages/StaticArrays/mcf7t/src/triangular.jl:24\n",
       "[209] *(A::LinearAlgebra.LowerTriangular, B::LinearAlgebra.LowerTriangular) in LinearAlgebra at /Applications/Julia-1.0.app/Contents/Resources/julia/share/julia/stdlib/v1.0/LinearAlgebra/src/triangular.jl:1607\n",
       "[210] *(A::LinearAlgebra.UnitLowerTriangular, B::LinearAlgebra.LowerTriangular) in LinearAlgebra at /Applications/Julia-1.0.app/Contents/Resources/julia/share/julia/stdlib/v1.0/LinearAlgebra/src/triangular.jl:1615\n",
       "[211] *(A::LinearAlgebra.UpperTriangular, B::LinearAlgebra.UpperTriangular) in LinearAlgebra at /Applications/Julia-1.0.app/Contents/Resources/julia/share/julia/stdlib/v1.0/LinearAlgebra/src/triangular.jl:1623\n",
       "[212] *(A::LinearAlgebra.UnitUpperTriangular, B::LinearAlgebra.UpperTriangular) in LinearAlgebra at /Applications/Julia-1.0.app/Contents/Resources/julia/share/julia/stdlib/v1.0/LinearAlgebra/src/triangular.jl:1631\n",
       "[213] *(A::LinearAlgebra.LowerTriangular, xformB::LinearAlgebra.Adjoint{#s576,#s575} where #s575<:LinearAlgebra.UpperTriangular where #s576) in LinearAlgebra at /Applications/Julia-1.0.app/Contents/Resources/julia/share/julia/stdlib/v1.0/LinearAlgebra/src/triangular.jl:1720\n",
       "[214] *(A::LinearAlgebra.LowerTriangular, xformB::LinearAlgebra.Adjoint{#s574,#s573} where #s573<:LinearAlgebra.UnitUpperTriangular where #s574) in LinearAlgebra at /Applications/Julia-1.0.app/Contents/Resources/julia/share/julia/stdlib/v1.0/LinearAlgebra/src/triangular.jl:1729\n",
       "[215] *(A::LinearAlgebra.UpperTriangular, xformB::LinearAlgebra.Adjoint{#s572,#s571} where #s571<:LinearAlgebra.LowerTriangular where #s572) in LinearAlgebra at /Applications/Julia-1.0.app/Contents/Resources/julia/share/julia/stdlib/v1.0/LinearAlgebra/src/triangular.jl:1738\n",
       "[216] *(A::LinearAlgebra.UpperTriangular, xformB::LinearAlgebra.Adjoint{#s570,#s569} where #s569<:LinearAlgebra.UnitLowerTriangular where #s570) in LinearAlgebra at /Applications/Julia-1.0.app/Contents/Resources/julia/share/julia/stdlib/v1.0/LinearAlgebra/src/triangular.jl:1747\n",
       "[217] *(A::LinearAlgebra.LowerTriangular, xformB::LinearAlgebra.Transpose{#s576,#s575} where #s575<:LinearAlgebra.UpperTriangular where #s576) in LinearAlgebra at /Applications/Julia-1.0.app/Contents/Resources/julia/share/julia/stdlib/v1.0/LinearAlgebra/src/triangular.jl:1720\n",
       "[218] *(A::LinearAlgebra.LowerTriangular, xformB::LinearAlgebra.Transpose{#s574,#s573} where #s573<:LinearAlgebra.UnitUpperTriangular where #s574) in LinearAlgebra at /Applications/Julia-1.0.app/Contents/Resources/julia/share/julia/stdlib/v1.0/LinearAlgebra/src/triangular.jl:1729\n",
       "[219] *(A::LinearAlgebra.UpperTriangular, xformB::LinearAlgebra.Transpose{#s572,#s571} where #s571<:LinearAlgebra.LowerTriangular where #s572) in LinearAlgebra at /Applications/Julia-1.0.app/Contents/Resources/julia/share/julia/stdlib/v1.0/LinearAlgebra/src/triangular.jl:1738\n",
       "[220] *(A::LinearAlgebra.UpperTriangular, xformB::LinearAlgebra.Transpose{#s570,#s569} where #s569<:LinearAlgebra.UnitLowerTriangular where #s570) in LinearAlgebra at /Applications/Julia-1.0.app/Contents/Resources/julia/share/julia/stdlib/v1.0/LinearAlgebra/src/triangular.jl:1747\n",
       "[221] *(A::LinearAlgebra.AbstractTriangular, B::LinearAlgebra.AbstractTriangular) in LinearAlgebra at /Applications/Julia-1.0.app/Contents/Resources/julia/share/julia/stdlib/v1.0/LinearAlgebra/src/triangular.jl:1759\n",
       "[222] *(A::LinearAlgebra.AbstractTriangular, adjB::LinearAlgebra.Adjoint{#s576,#s575} where #s575<:LinearAlgebra.AbstractTriangular where #s576) in LinearAlgebra at /Applications/Julia-1.0.app/Contents/Resources/julia/share/julia/stdlib/v1.0/LinearAlgebra/src/triangular.jl:1780\n",
       "[223] *(A::LinearAlgebra.AbstractTriangular, transB::LinearAlgebra.Transpose{#s576,#s575} where #s575<:LinearAlgebra.AbstractTriangular where #s576) in LinearAlgebra at /Applications/Julia-1.0.app/Contents/Resources/julia/share/julia/stdlib/v1.0/LinearAlgebra/src/triangular.jl:1787\n",
       "[224] *(A::LinearAlgebra.AbstractTriangular, adjB::LinearAlgebra.Adjoint{#s576,#s575} where #s575<:(Union{Hermitian{T,S}, Hermitian{Complex{T},S}, Symmetric{T,S}} where S where T<:Real) where #s576) in LinearAlgebra at /Applications/Julia-1.0.app/Contents/Resources/julia/share/julia/stdlib/v1.0/LinearAlgebra/src/symmetric.jl:441\n",
       "[225] *(A::LinearAlgebra.AbstractTriangular, adjB::LinearAlgebra.Adjoint{#s576,#s575} where #s575<:Union{QRCompactWYQ, QRPackedQ} where #s576) in LinearAlgebra at /Applications/Julia-1.0.app/Contents/Resources/julia/share/julia/stdlib/v1.0/LinearAlgebra/src/special.jl:132\n",
       "[226] *(A::LinearAlgebra.AbstractTriangular{#s177,#s176} where #s176<:(StaticArrays.StaticArray{Tuple{N,M},T,2} where T where M where N) where #s177, B::LinearAlgebra.Adjoint{#s175,#s174} where #s174<:(Union{StaticArray{Tuple{#s12},T,1} where #s12, StaticArray{Tuple{#s13,#s14},T,2} where #s14 where #s13} where T) where #s175) in StaticArrays at /Users/abradley/.julia/packages/StaticArrays/mcf7t/src/triangular.jl:15\n",
       "[227] *(A::LinearAlgebra.AbstractTriangular, B::LinearAlgebra.Adjoint{#s576,#s575} where #s575<:(AbstractArray{T,2} where T) where #s576) in LinearAlgebra at /Applications/Julia-1.0.app/Contents/Resources/julia/share/julia/stdlib/v1.0/LinearAlgebra/src/triangular.jl:1965\n",
       "[228] *(A::LinearAlgebra.AbstractTriangular, transB::LinearAlgebra.Transpose{#s576,#s575} where #s575<:(Union{Hermitian{T,S}, Symmetric{T,S}, Symmetric{Complex{T},S}} where S where T<:Real) where #s576) in LinearAlgebra at /Applications/Julia-1.0.app/Contents/Resources/julia/share/julia/stdlib/v1.0/LinearAlgebra/src/symmetric.jl:439\n",
       "[229] *(A::LinearAlgebra.AbstractTriangular{#s177,#s176} where #s176<:(StaticArrays.StaticArray{Tuple{N,M},T,2} where T where M where N) where #s177, B::LinearAlgebra.Transpose{#s175,#s174} where #s174<:(Union{StaticArray{Tuple{#s12},T,1} where #s12, StaticArray{Tuple{#s13,#s14},T,2} where #s14 where #s13} where T) where #s175) in StaticArrays at /Users/abradley/.julia/packages/StaticArrays/mcf7t/src/triangular.jl:17\n",
       "[230] *(A::LinearAlgebra.AbstractTriangular, B::LinearAlgebra.Transpose{#s576,#s575} where #s575<:(AbstractArray{T,2} where T) where #s576) in LinearAlgebra at /Applications/Julia-1.0.app/Contents/Resources/julia/share/julia/stdlib/v1.0/LinearAlgebra/src/triangular.jl:1966\n",
       "[231] *(A::LinearAlgebra.AbstractTriangular, B::LinearAlgebra.Adjoint{#s576,#s575} where #s575<:(AbstractArray{T,1} where T) where #s576) in LinearAlgebra at /Applications/Julia-1.0.app/Contents/Resources/julia/share/julia/stdlib/v1.0/LinearAlgebra/src/triangular.jl:2478\n",
       "[232] *(A::LinearAlgebra.AbstractTriangular, B::LinearAlgebra.Transpose{#s576,#s575} where #s575<:(AbstractArray{T,1} where T) where #s576) in LinearAlgebra at /Applications/Julia-1.0.app/Contents/Resources/julia/share/julia/stdlib/v1.0/LinearAlgebra/src/triangular.jl:2479\n",
       "[233] *(A::LinearAlgebra.AbstractTriangular, D::LinearAlgebra.Diagonal) in LinearAlgebra at /Applications/Julia-1.0.app/Contents/Resources/julia/share/julia/stdlib/v1.0/LinearAlgebra/src/diagonal.jl:161\n",
       "[234] *(A::LinearAlgebra.AbstractTriangular, B::Union{Bidiagonal, SymTridiagonal, Tridiagonal}) in LinearAlgebra at /Applications/Julia-1.0.app/Contents/Resources/julia/share/julia/stdlib/v1.0/LinearAlgebra/src/bidiag.jl:491\n",
       "[235] *(A::LinearAlgebra.AbstractTriangular, B::LinearAlgebra.Adjoint{#s576,#s575} where #s575<:LinearAlgebra.AbstractRotation where #s576) in LinearAlgebra at /Applications/Julia-1.0.app/Contents/Resources/julia/share/julia/stdlib/v1.0/LinearAlgebra/src/givens.jl:398\n",
       "[236] *(A::LinearAlgebra.AbstractTriangular{#s177,#s176} where #s176<:(StaticArrays.StaticArray{Tuple{N,M},T,2} where T where M where N) where #s177, B::Union{StaticArray{Tuple{#s12},T,1} where #s12, StaticArray{Tuple{#s13,#s14},T,2} where #s14 where #s13} where T) in StaticArrays at /Users/abradley/.julia/packages/StaticArrays/mcf7t/src/triangular.jl:22\n",
       "[237] *(A::LinearAlgebra.AbstractTriangular, B::AbstractArray{T,1} where T) in LinearAlgebra at /Applications/Julia-1.0.app/Contents/Resources/julia/share/julia/stdlib/v1.0/LinearAlgebra/src/triangular.jl:1798\n",
       "[238] *(A::LinearAlgebra.AbstractTriangular, B::AbstractArray{T,2} where T) in LinearAlgebra at /Applications/Julia-1.0.app/Contents/Resources/julia/share/julia/stdlib/v1.0/LinearAlgebra/src/triangular.jl:1798\n",
       "[239] *(A::LinearAlgebra.Adjoint{#s576,#s575} where #s575<:(AbstractArray{T,2} where T) where #s576, B::LinearAlgebra.AbstractTriangular) in LinearAlgebra at /Applications/Julia-1.0.app/Contents/Resources/julia/share/julia/stdlib/v1.0/LinearAlgebra/src/triangular.jl:1963\n",
       "[240] *(A::LinearAlgebra.Transpose{#s576,#s575} where #s575<:(AbstractArray{T,2} where T) where #s576, B::LinearAlgebra.AbstractTriangular) in LinearAlgebra at /Applications/Julia-1.0.app/Contents/Resources/julia/share/julia/stdlib/v1.0/LinearAlgebra/src/triangular.jl:1964\n",
       "[241] *(A::LinearAlgebra.Adjoint{#s576,#s575} where #s575<:(AbstractArray{T,2} where T) where #s576, B::LinearAlgebra.Adjoint{#s574,#s573} where #s573<:LinearAlgebra.AbstractTriangular where #s574) in LinearAlgebra at /Applications/Julia-1.0.app/Contents/Resources/julia/share/julia/stdlib/v1.0/LinearAlgebra/src/triangular.jl:1969\n",
       "[242] *(A::LinearAlgebra.Transpose{#s576,#s575} where #s575<:(AbstractArray{T,2} where T) where #s576, B::LinearAlgebra.Transpose{#s574,#s573} where #s573<:LinearAlgebra.AbstractTriangular where #s574) in LinearAlgebra at /Applications/Julia-1.0.app/Contents/Resources/julia/share/julia/stdlib/v1.0/LinearAlgebra/src/triangular.jl:1972\n",
       "[243] *(A::LinearAlgebra.Adjoint{#s576,#s575} where #s575<:(AbstractArray{T,2} where T) where #s576, B::LinearAlgebra.Transpose{#s574,#s573} where #s573<:LinearAlgebra.AbstractTriangular where #s574) in LinearAlgebra at /Applications/Julia-1.0.app/Contents/Resources/julia/share/julia/stdlib/v1.0/LinearAlgebra/src/triangular.jl:2492\n",
       "[244] *(A::LinearAlgebra.Transpose{#s576,#s575} where #s575<:(AbstractArray{T,2} where T) where #s576, B::LinearAlgebra.Adjoint{#s574,#s573} where #s573<:LinearAlgebra.AbstractTriangular where #s574) in LinearAlgebra at /Applications/Julia-1.0.app/Contents/Resources/julia/share/julia/stdlib/v1.0/LinearAlgebra/src/triangular.jl:2494\n",
       "[245] *(A::LinearAlgebra.AbstractQ, b::Union{DenseArray{T,1}, ReinterpretArray{T,1,S,A} where S where A<:Union{SubArray{T,N,A,I,true} where I<:Tuple{AbstractUnitRange,Vararg{Any,N} where N} where A<:DenseArray where N where T, DenseArray}, ReshapedArray{T,1,A,MI} where MI<:Tuple{Vararg{SignedMultiplicativeInverse{Int64},N} where N} where A<:Union{ReinterpretArray{T,N,S,A} where S where A<:Union{SubArray{T,N,A,I,true} where I<:Tuple{AbstractUnitRange,Vararg{Any,N} where N} where A<:DenseArray where N where T, DenseArray} where N where T, SubArray{T,N,A,I,true} where I<:Tuple{AbstractUnitRange,Vararg{Any,N} where N} where A<:DenseArray where N where T, DenseArray}, SubArray{T,1,A,I,L} where L where I<:Tuple{Vararg{Union{Int64, AbstractRange{Int64}, AbstractCartesianIndex},N} where N} where A<:Union{ReinterpretArray{T,N,S,A} where S where A<:Union{SubArray{T,N,A,I,true} where I<:Tuple{AbstractUnitRange,Vararg{Any,N} where N} where A<:DenseArray where N where T, DenseArray} where N where T, ReshapedArray{T,N,A,MI} where MI<:Tuple{Vararg{SignedMultiplicativeInverse{Int64},N} where N} where A<:Union{ReinterpretArray{T,N,S,A} where S where A<:Union{SubArray{T,N,A,I,true} where I<:Tuple{AbstractUnitRange,Vararg{Any,N} where N} where A<:DenseArray where N where T, DenseArray} where N where T, SubArray{T,N,A,I,true} where I<:Tuple{AbstractUnitRange,Vararg{Any,N} where N} where A<:DenseArray where N where T, DenseArray} where N where T, DenseArray}} where T) in LinearAlgebra at /Applications/Julia-1.0.app/Contents/Resources/julia/share/julia/stdlib/v1.0/LinearAlgebra/src/qr.jl:557\n",
       "[246] *(A::LinearAlgebra.AbstractQ, B::Union{DenseArray{T,2}, ReinterpretArray{T,2,S,A} where S where A<:Union{SubArray{T,N,A,I,true} where I<:Tuple{AbstractUnitRange,Vararg{Any,N} where N} where A<:DenseArray where N where T, DenseArray}, ReshapedArray{T,2,A,MI} where MI<:Tuple{Vararg{SignedMultiplicativeInverse{Int64},N} where N} where A<:Union{ReinterpretArray{T,N,S,A} where S where A<:Union{SubArray{T,N,A,I,true} where I<:Tuple{AbstractUnitRange,Vararg{Any,N} where N} where A<:DenseArray where N where T, DenseArray} where N where T, SubArray{T,N,A,I,true} where I<:Tuple{AbstractUnitRange,Vararg{Any,N} where N} where A<:DenseArray where N where T, DenseArray}, SubArray{T,2,A,I,L} where L where I<:Tuple{Vararg{Union{Int64, AbstractRange{Int64}, AbstractCartesianIndex},N} where N} where A<:Union{ReinterpretArray{T,N,S,A} where S where A<:Union{SubArray{T,N,A,I,true} where I<:Tuple{AbstractUnitRange,Vararg{Any,N} where N} where A<:DenseArray where N where T, DenseArray} where N where T, ReshapedArray{T,N,A,MI} where MI<:Tuple{Vararg{SignedMultiplicativeInverse{Int64},N} where N} where A<:Union{ReinterpretArray{T,N,S,A} where S where A<:Union{SubArray{T,N,A,I,true} where I<:Tuple{AbstractUnitRange,Vararg{Any,N} where N} where A<:DenseArray where N where T, DenseArray} where N where T, SubArray{T,N,A,I,true} where I<:Tuple{AbstractUnitRange,Vararg{Any,N} where N} where A<:DenseArray where N where T, DenseArray} where N where T, DenseArray}} where T) in LinearAlgebra at /Applications/Julia-1.0.app/Contents/Resources/julia/share/julia/stdlib/v1.0/LinearAlgebra/src/qr.jl:569\n",
       "[247] *(Q::LinearAlgebra.AbstractQ, adjB::LinearAlgebra.Adjoint{#s576,#s575} where #s575<:(Union{DenseArray{T,1}, DenseArray{T,2}, ReinterpretArray{T,2,S,A} where S where A<:Union{SubArray{T,N,A,I,true} where I<:Tuple{AbstractUnitRange,Vararg{Any,N} where N} where A<:DenseArray where N where T, DenseArray}, ReinterpretArray{T,1,S,A} where S where A<:Union{SubArray{T,N,A,I,true} where I<:Tuple{AbstractUnitRange,Vararg{Any,N} where N} where A<:DenseArray where N where T, DenseArray}, ReshapedArray{T,1,A,MI} where MI<:Tuple{Vararg{SignedMultiplicativeInverse{Int64},N} where N} where A<:Union{ReinterpretArray{T,N,S,A} where S where A<:Union{SubArray{T,N,A,I,true} where I<:Tuple{AbstractUnitRange,Vararg{Any,N} where N} where A<:DenseArray where N where T, DenseArray} where N where T, SubArray{T,N,A,I,true} where I<:Tuple{AbstractUnitRange,Vararg{Any,N} where N} where A<:DenseArray where N where T, DenseArray}, ReshapedArray{T,2,A,MI} where MI<:Tuple{Vararg{SignedMultiplicativeInverse{Int64},N} where N} where A<:Union{ReinterpretArray{T,N,S,A} where S where A<:Union{SubArray{T,N,A,I,true} where I<:Tuple{AbstractUnitRange,Vararg{Any,N} where N} where A<:DenseArray where N where T, DenseArray} where N where T, SubArray{T,N,A,I,true} where I<:Tuple{AbstractUnitRange,Vararg{Any,N} where N} where A<:DenseArray where N where T, DenseArray}, SubArray{T,1,A,I,L} where L where I<:Tuple{Vararg{Union{Int64, AbstractRange{Int64}, AbstractCartesianIndex},N} where N} where A<:Union{ReinterpretArray{T,N,S,A} where S where A<:Union{SubArray{T,N,A,I,true} where I<:Tuple{AbstractUnitRange,Vararg{Any,N} where N} where A<:DenseArray where N where T, DenseArray} where N where T, ReshapedArray{T,N,A,MI} where MI<:Tuple{Vararg{SignedMultiplicativeInverse{Int64},N} where N} where A<:Union{ReinterpretArray{T,N,S,A} where S where A<:Union{SubArray{T,N,A,I,true} where I<:Tuple{AbstractUnitRange,Vararg{Any,N} where N} where A<:DenseArray where N where T, DenseArray} where N where T, SubArray{T,N,A,I,true} where I<:Tuple{AbstractUnitRange,Vararg{Any,N} where N} where A<:DenseArray where N where T, DenseArray} where N where T, DenseArray}, SubArray{T,2,A,I,L} where L where I<:Tuple{Vararg{Union{Int64, AbstractRange{Int64}, AbstractCartesianIndex},N} where N} where A<:Union{ReinterpretArray{T,N,S,A} where S where A<:Union{SubArray{T,N,A,I,true} where I<:Tuple{AbstractUnitRange,Vararg{Any,N} where N} where A<:DenseArray where N where T, DenseArray} where N where T, ReshapedArray{T,N,A,MI} where MI<:Tuple{Vararg{SignedMultiplicativeInverse{Int64},N} where N} where A<:Union{ReinterpretArray{T,N,S,A} where S where A<:Union{SubArray{T,N,A,I,true} where I<:Tuple{AbstractUnitRange,Vararg{Any,N} where N} where A<:DenseArray where N where T, DenseArray} where N where T, SubArray{T,N,A,I,true} where I<:Tuple{AbstractUnitRange,Vararg{Any,N} where N} where A<:DenseArray where N where T, DenseArray} where N where T, DenseArray}} where T) where #s576) in LinearAlgebra at /Applications/Julia-1.0.app/Contents/Resources/julia/share/julia/stdlib/v1.0/LinearAlgebra/src/qr.jl:624\n",
       "[248] *(A::Union{DenseArray{T,2}, ReinterpretArray{T,2,S,A} where S where A<:Union{SubArray{T,N,A,I,true} where I<:Tuple{AbstractUnitRange,Vararg{Any,N} where N} where A<:DenseArray where N where T, DenseArray}, ReshapedArray{T,2,A,MI} where MI<:Tuple{Vararg{SignedMultiplicativeInverse{Int64},N} where N} where A<:Union{ReinterpretArray{T,N,S,A} where S where A<:Union{SubArray{T,N,A,I,true} where I<:Tuple{AbstractUnitRange,Vararg{Any,N} where N} where A<:DenseArray where N where T, DenseArray} where N where T, SubArray{T,N,A,I,true} where I<:Tuple{AbstractUnitRange,Vararg{Any,N} where N} where A<:DenseArray where N where T, DenseArray}, SubArray{T,2,A,I,L} where L where I<:Tuple{Vararg{Union{Int64, AbstractRange{Int64}, AbstractCartesianIndex},N} where N} where A<:Union{ReinterpretArray{T,N,S,A} where S where A<:Union{SubArray{T,N,A,I,true} where I<:Tuple{AbstractUnitRange,Vararg{Any,N} where N} where A<:DenseArray where N where T, DenseArray} where N where T, ReshapedArray{T,N,A,MI} where MI<:Tuple{Vararg{SignedMultiplicativeInverse{Int64},N} where N} where A<:Union{ReinterpretArray{T,N,S,A} where S where A<:Union{SubArray{T,N,A,I,true} where I<:Tuple{AbstractUnitRange,Vararg{Any,N} where N} where A<:DenseArray where N where T, DenseArray} where N where T, SubArray{T,N,A,I,true} where I<:Tuple{AbstractUnitRange,Vararg{Any,N} where N} where A<:DenseArray where N where T, DenseArray} where N where T, DenseArray}} where T, Q::LinearAlgebra.AbstractQ) in LinearAlgebra at /Applications/Julia-1.0.app/Contents/Resources/julia/share/julia/stdlib/v1.0/LinearAlgebra/src/qr.jl:669\n",
       "[249] *(A::Union{DenseArray{T,2}, ReinterpretArray{T,2,S,A} where S where A<:Union{SubArray{T,N,A,I,true} where I<:Tuple{AbstractUnitRange,Vararg{Any,N} where N} where A<:DenseArray where N where T, DenseArray}, ReshapedArray{T,2,A,MI} where MI<:Tuple{Vararg{SignedMultiplicativeInverse{Int64},N} where N} where A<:Union{ReinterpretArray{T,N,S,A} where S where A<:Union{SubArray{T,N,A,I,true} where I<:Tuple{AbstractUnitRange,Vararg{Any,N} where N} where A<:DenseArray where N where T, DenseArray} where N where T, SubArray{T,N,A,I,true} where I<:Tuple{AbstractUnitRange,Vararg{Any,N} where N} where A<:DenseArray where N where T, DenseArray}, SubArray{T,2,A,I,L} where L where I<:Tuple{Vararg{Union{Int64, AbstractRange{Int64}, AbstractCartesianIndex},N} where N} where A<:Union{ReinterpretArray{T,N,S,A} where S where A<:Union{SubArray{T,N,A,I,true} where I<:Tuple{AbstractUnitRange,Vararg{Any,N} where N} where A<:DenseArray where N where T, DenseArray} where N where T, ReshapedArray{T,N,A,MI} where MI<:Tuple{Vararg{SignedMultiplicativeInverse{Int64},N} where N} where A<:Union{ReinterpretArray{T,N,S,A} where S where A<:Union{SubArray{T,N,A,I,true} where I<:Tuple{AbstractUnitRange,Vararg{Any,N} where N} where A<:DenseArray where N where T, DenseArray} where N where T, SubArray{T,N,A,I,true} where I<:Tuple{AbstractUnitRange,Vararg{Any,N} where N} where A<:DenseArray where N where T, DenseArray} where N where T, DenseArray}} where T, adjB::LinearAlgebra.Adjoint{#s576,#s575} where #s575<:LinearAlgebra.AbstractQ where #s576) in LinearAlgebra at /Applications/Julia-1.0.app/Contents/Resources/julia/share/julia/stdlib/v1.0/LinearAlgebra/src/qr.jl:709\n",
       "[250] *(A::LinearAlgebra.LQPackedQ, B::Union{DenseArray{T,1}, DenseArray{T,2}, ReinterpretArray{T,2,S,A} where S where A<:Union{SubArray{T,N,A,I,true} where I<:Tuple{AbstractUnitRange,Vararg{Any,N} where N} where A<:DenseArray where N where T, DenseArray}, ReinterpretArray{T,1,S,A} where S where A<:Union{SubArray{T,N,A,I,true} where I<:Tuple{AbstractUnitRange,Vararg{Any,N} where N} where A<:DenseArray where N where T, DenseArray}, ReshapedArray{T,1,A,MI} where MI<:Tuple{Vararg{SignedMultiplicativeInverse{Int64},N} where N} where A<:Union{ReinterpretArray{T,N,S,A} where S where A<:Union{SubArray{T,N,A,I,true} where I<:Tuple{AbstractUnitRange,Vararg{Any,N} where N} where A<:DenseArray where N where T, DenseArray} where N where T, SubArray{T,N,A,I,true} where I<:Tuple{AbstractUnitRange,Vararg{Any,N} where N} where A<:DenseArray where N where T, DenseArray}, ReshapedArray{T,2,A,MI} where MI<:Tuple{Vararg{SignedMultiplicativeInverse{Int64},N} where N} where A<:Union{ReinterpretArray{T,N,S,A} where S where A<:Union{SubArray{T,N,A,I,true} where I<:Tuple{AbstractUnitRange,Vararg{Any,N} where N} where A<:DenseArray where N where T, DenseArray} where N where T, SubArray{T,N,A,I,true} where I<:Tuple{AbstractUnitRange,Vararg{Any,N} where N} where A<:DenseArray where N where T, DenseArray}, SubArray{T,1,A,I,L} where L where I<:Tuple{Vararg{Union{Int64, AbstractRange{Int64}, AbstractCartesianIndex},N} where N} where A<:Union{ReinterpretArray{T,N,S,A} where S where A<:Union{SubArray{T,N,A,I,true} where I<:Tuple{AbstractUnitRange,Vararg{Any,N} where N} where A<:DenseArray where N where T, DenseArray} where N where T, ReshapedArray{T,N,A,MI} where MI<:Tuple{Vararg{SignedMultiplicativeInverse{Int64},N} where N} where A<:Union{ReinterpretArray{T,N,S,A} where S where A<:Union{SubArray{T,N,A,I,true} where I<:Tuple{AbstractUnitRange,Vararg{Any,N} where N} where A<:DenseArray where N where T, DenseArray} where N where T, SubArray{T,N,A,I,true} where I<:Tuple{AbstractUnitRange,Vararg{Any,N} where N} where A<:DenseArray where N where T, DenseArray} where N where T, DenseArray}, SubArray{T,2,A,I,L} where L where I<:Tuple{Vararg{Union{Int64, AbstractRange{Int64}, AbstractCartesianIndex},N} where N} where A<:Union{ReinterpretArray{T,N,S,A} where S where A<:Union{SubArray{T,N,A,I,true} where I<:Tuple{AbstractUnitRange,Vararg{Any,N} where N} where A<:DenseArray where N where T, DenseArray} where N where T, ReshapedArray{T,N,A,MI} where MI<:Tuple{Vararg{SignedMultiplicativeInverse{Int64},N} where N} where A<:Union{ReinterpretArray{T,N,S,A} where S where A<:Union{SubArray{T,N,A,I,true} where I<:Tuple{AbstractUnitRange,Vararg{Any,N} where N} where A<:DenseArray where N where T, DenseArray} where N where T, SubArray{T,N,A,I,true} where I<:Tuple{AbstractUnitRange,Vararg{Any,N} where N} where A<:DenseArray where N where T, DenseArray} where N where T, DenseArray}} where T) in LinearAlgebra at /Applications/Julia-1.0.app/Contents/Resources/julia/share/julia/stdlib/v1.0/LinearAlgebra/src/lq.jl:152\n",
       "[251] *(A::LinearAlgebra.LQPackedQ, adjB::LinearAlgebra.Adjoint{#s576,#s575} where #s575<:(Union{DenseArray{T,1}, DenseArray{T,2}, ReinterpretArray{T,2,S,A} where S where A<:Union{SubArray{T,N,A,I,true} where I<:Tuple{AbstractUnitRange,Vararg{Any,N} where N} where A<:DenseArray where N where T, DenseArray}, ReinterpretArray{T,1,S,A} where S where A<:Union{SubArray{T,N,A,I,true} where I<:Tuple{AbstractUnitRange,Vararg{Any,N} where N} where A<:DenseArray where N where T, DenseArray}, ReshapedArray{T,1,A,MI} where MI<:Tuple{Vararg{SignedMultiplicativeInverse{Int64},N} where N} where A<:Union{ReinterpretArray{T,N,S,A} where S where A<:Union{SubArray{T,N,A,I,true} where I<:Tuple{AbstractUnitRange,Vararg{Any,N} where N} where A<:DenseArray where N where T, DenseArray} where N where T, SubArray{T,N,A,I,true} where I<:Tuple{AbstractUnitRange,Vararg{Any,N} where N} where A<:DenseArray where N where T, DenseArray}, ReshapedArray{T,2,A,MI} where MI<:Tuple{Vararg{SignedMultiplicativeInverse{Int64},N} where N} where A<:Union{ReinterpretArray{T,N,S,A} where S where A<:Union{SubArray{T,N,A,I,true} where I<:Tuple{AbstractUnitRange,Vararg{Any,N} where N} where A<:DenseArray where N where T, DenseArray} where N where T, SubArray{T,N,A,I,true} where I<:Tuple{AbstractUnitRange,Vararg{Any,N} where N} where A<:DenseArray where N where T, DenseArray}, SubArray{T,1,A,I,L} where L where I<:Tuple{Vararg{Union{Int64, AbstractRange{Int64}, AbstractCartesianIndex},N} where N} where A<:Union{ReinterpretArray{T,N,S,A} where S where A<:Union{SubArray{T,N,A,I,true} where I<:Tuple{AbstractUnitRange,Vararg{Any,N} where N} where A<:DenseArray where N where T, DenseArray} where N where T, ReshapedArray{T,N,A,MI} where MI<:Tuple{Vararg{SignedMultiplicativeInverse{Int64},N} where N} where A<:Union{ReinterpretArray{T,N,S,A} where S where A<:Union{SubArray{T,N,A,I,true} where I<:Tuple{AbstractUnitRange,Vararg{Any,N} where N} where A<:DenseArray where N where T, DenseArray} where N where T, SubArray{T,N,A,I,true} where I<:Tuple{AbstractUnitRange,Vararg{Any,N} where N} where A<:DenseArray where N where T, DenseArray} where N where T, DenseArray}, SubArray{T,2,A,I,L} where L where I<:Tuple{Vararg{Union{Int64, AbstractRange{Int64}, AbstractCartesianIndex},N} where N} where A<:Union{ReinterpretArray{T,N,S,A} where S where A<:Union{SubArray{T,N,A,I,true} where I<:Tuple{AbstractUnitRange,Vararg{Any,N} where N} where A<:DenseArray where N where T, DenseArray} where N where T, ReshapedArray{T,N,A,MI} where MI<:Tuple{Vararg{SignedMultiplicativeInverse{Int64},N} where N} where A<:Union{ReinterpretArray{T,N,S,A} where S where A<:Union{SubArray{T,N,A,I,true} where I<:Tuple{AbstractUnitRange,Vararg{Any,N} where N} where A<:DenseArray where N where T, DenseArray} where N where T, SubArray{T,N,A,I,true} where I<:Tuple{AbstractUnitRange,Vararg{Any,N} where N} where A<:DenseArray where N where T, DenseArray} where N where T, DenseArray}} where T) where #s576) in LinearAlgebra at /Applications/Julia-1.0.app/Contents/Resources/julia/share/julia/stdlib/v1.0/LinearAlgebra/src/lq.jl:176\n",
       "[252] *(A::Union{DenseArray{T,1}, DenseArray{T,2}, ReinterpretArray{T,2,S,A} where S where A<:Union{SubArray{T,N,A,I,true} where I<:Tuple{AbstractUnitRange,Vararg{Any,N} where N} where A<:DenseArray where N where T, DenseArray}, ReinterpretArray{T,1,S,A} where S where A<:Union{SubArray{T,N,A,I,true} where I<:Tuple{AbstractUnitRange,Vararg{Any,N} where N} where A<:DenseArray where N where T, DenseArray}, ReshapedArray{T,1,A,MI} where MI<:Tuple{Vararg{SignedMultiplicativeInverse{Int64},N} where N} where A<:Union{ReinterpretArray{T,N,S,A} where S where A<:Union{SubArray{T,N,A,I,true} where I<:Tuple{AbstractUnitRange,Vararg{Any,N} where N} where A<:DenseArray where N where T, DenseArray} where N where T, SubArray{T,N,A,I,true} where I<:Tuple{AbstractUnitRange,Vararg{Any,N} where N} where A<:DenseArray where N where T, DenseArray}, ReshapedArray{T,2,A,MI} where MI<:Tuple{Vararg{SignedMultiplicativeInverse{Int64},N} where N} where A<:Union{ReinterpretArray{T,N,S,A} where S where A<:Union{SubArray{T,N,A,I,true} where I<:Tuple{AbstractUnitRange,Vararg{Any,N} where N} where A<:DenseArray where N where T, DenseArray} where N where T, SubArray{T,N,A,I,true} where I<:Tuple{AbstractUnitRange,Vararg{Any,N} where N} where A<:DenseArray where N where T, DenseArray}, SubArray{T,1,A,I,L} where L where I<:Tuple{Vararg{Union{Int64, AbstractRange{Int64}, AbstractCartesianIndex},N} where N} where A<:Union{ReinterpretArray{T,N,S,A} where S where A<:Union{SubArray{T,N,A,I,true} where I<:Tuple{AbstractUnitRange,Vararg{Any,N} where N} where A<:DenseArray where N where T, DenseArray} where N where T, ReshapedArray{T,N,A,MI} where MI<:Tuple{Vararg{SignedMultiplicativeInverse{Int64},N} where N} where A<:Union{ReinterpretArray{T,N,S,A} where S where A<:Union{SubArray{T,N,A,I,true} where I<:Tuple{AbstractUnitRange,Vararg{Any,N} where N} where A<:DenseArray where N where T, DenseArray} where N where T, SubArray{T,N,A,I,true} where I<:Tuple{AbstractUnitRange,Vararg{Any,N} where N} where A<:DenseArray where N where T, DenseArray} where N where T, DenseArray}, SubArray{T,2,A,I,L} where L where I<:Tuple{Vararg{Union{Int64, AbstractRange{Int64}, AbstractCartesianIndex},N} where N} where A<:Union{ReinterpretArray{T,N,S,A} where S where A<:Union{SubArray{T,N,A,I,true} where I<:Tuple{AbstractUnitRange,Vararg{Any,N} where N} where A<:DenseArray where N where T, DenseArray} where N where T, ReshapedArray{T,N,A,MI} where MI<:Tuple{Vararg{SignedMultiplicativeInverse{Int64},N} where N} where A<:Union{ReinterpretArray{T,N,S,A} where S where A<:Union{SubArray{T,N,A,I,true} where I<:Tuple{AbstractUnitRange,Vararg{Any,N} where N} where A<:DenseArray where N where T, DenseArray} where N where T, SubArray{T,N,A,I,true} where I<:Tuple{AbstractUnitRange,Vararg{Any,N} where N} where A<:DenseArray where N where T, DenseArray} where N where T, DenseArray}} where T, adjQ::LinearAlgebra.Adjoint{#s576,#s575} where #s575<:LinearAlgebra.LQPackedQ where #s576) in LinearAlgebra at /Applications/Julia-1.0.app/Contents/Resources/julia/share/julia/stdlib/v1.0/LinearAlgebra/src/lq.jl:215\n",
       "[253] *(A::Union{DenseArray{T,1}, DenseArray{T,2}, ReinterpretArray{T,2,S,A} where S where A<:Union{SubArray{T,N,A,I,true} where I<:Tuple{AbstractUnitRange,Vararg{Any,N} where N} where A<:DenseArray where N where T, DenseArray}, ReinterpretArray{T,1,S,A} where S where A<:Union{SubArray{T,N,A,I,true} where I<:Tuple{AbstractUnitRange,Vararg{Any,N} where N} where A<:DenseArray where N where T, DenseArray}, ReshapedArray{T,1,A,MI} where MI<:Tuple{Vararg{SignedMultiplicativeInverse{Int64},N} where N} where A<:Union{ReinterpretArray{T,N,S,A} where S where A<:Union{SubArray{T,N,A,I,true} where I<:Tuple{AbstractUnitRange,Vararg{Any,N} where N} where A<:DenseArray where N where T, DenseArray} where N where T, SubArray{T,N,A,I,true} where I<:Tuple{AbstractUnitRange,Vararg{Any,N} where N} where A<:DenseArray where N where T, DenseArray}, ReshapedArray{T,2,A,MI} where MI<:Tuple{Vararg{SignedMultiplicativeInverse{Int64},N} where N} where A<:Union{ReinterpretArray{T,N,S,A} where S where A<:Union{SubArray{T,N,A,I,true} where I<:Tuple{AbstractUnitRange,Vararg{Any,N} where N} where A<:DenseArray where N where T, DenseArray} where N where T, SubArray{T,N,A,I,true} where I<:Tuple{AbstractUnitRange,Vararg{Any,N} where N} where A<:DenseArray where N where T, DenseArray}, SubArray{T,1,A,I,L} where L where I<:Tuple{Vararg{Union{Int64, AbstractRange{Int64}, AbstractCartesianIndex},N} where N} where A<:Union{ReinterpretArray{T,N,S,A} where S where A<:Union{SubArray{T,N,A,I,true} where I<:Tuple{AbstractUnitRange,Vararg{Any,N} where N} where A<:DenseArray where N where T, DenseArray} where N where T, ReshapedArray{T,N,A,MI} where MI<:Tuple{Vararg{SignedMultiplicativeInverse{Int64},N} where N} where A<:Union{ReinterpretArray{T,N,S,A} where S where A<:Union{SubArray{T,N,A,I,true} where I<:Tuple{AbstractUnitRange,Vararg{Any,N} where N} where A<:DenseArray where N where T, DenseArray} where N where T, SubArray{T,N,A,I,true} where I<:Tuple{AbstractUnitRange,Vararg{Any,N} where N} where A<:DenseArray where N where T, DenseArray} where N where T, DenseArray}, SubArray{T,2,A,I,L} where L where I<:Tuple{Vararg{Union{Int64, AbstractRange{Int64}, AbstractCartesianIndex},N} where N} where A<:Union{ReinterpretArray{T,N,S,A} where S where A<:Union{SubArray{T,N,A,I,true} where I<:Tuple{AbstractUnitRange,Vararg{Any,N} where N} where A<:DenseArray where N where T, DenseArray} where N where T, ReshapedArray{T,N,A,MI} where MI<:Tuple{Vararg{SignedMultiplicativeInverse{Int64},N} where N} where A<:Union{ReinterpretArray{T,N,S,A} where S where A<:Union{SubArray{T,N,A,I,true} where I<:Tuple{AbstractUnitRange,Vararg{Any,N} where N} where A<:DenseArray where N where T, DenseArray} where N where T, SubArray{T,N,A,I,true} where I<:Tuple{AbstractUnitRange,Vararg{Any,N} where N} where A<:DenseArray where N where T, DenseArray} where N where T, DenseArray}} where T, Q::LinearAlgebra.LQPackedQ) in LinearAlgebra at /Applications/Julia-1.0.app/Contents/Resources/julia/share/julia/stdlib/v1.0/LinearAlgebra/src/lq.jl:239\n",
       "[254] *(A::Union{Hermitian{T,S}, Symmetric{T,S}} where S where T, B::Union{Hermitian{T,S}, Symmetric{T,S}} where S where T) in LinearAlgebra at /Applications/Julia-1.0.app/Contents/Resources/julia/share/julia/stdlib/v1.0/LinearAlgebra/src/symmetric.jl:417\n",
       "[255] *(A::LinearAlgebra.Symmetric, x::Bool) in LinearAlgebra at /Applications/Julia-1.0.app/Contents/Resources/julia/share/julia/stdlib/v1.0/LinearAlgebra/src/symmetric.jl:445\n",
       "[256] *(A::LinearAlgebra.Symmetric, x::Number) in LinearAlgebra at /Applications/Julia-1.0.app/Contents/Resources/julia/share/julia/stdlib/v1.0/LinearAlgebra/src/symmetric.jl:447\n",
       "[257] *(A::LinearAlgebra.Hermitian, x::Bool) in LinearAlgebra at /Applications/Julia-1.0.app/Contents/Resources/julia/share/julia/stdlib/v1.0/LinearAlgebra/src/symmetric.jl:445\n",
       "[258] *(A::LinearAlgebra.Hermitian, x::Real) in LinearAlgebra at /Applications/Julia-1.0.app/Contents/Resources/julia/share/julia/stdlib/v1.0/LinearAlgebra/src/symmetric.jl:447\n",
       "[259] *(A::LinearAlgebra.Adjoint{#s576,#s575} where #s575<:(AbstractArray{T,2} where T) where #s576, B::LinearAlgebra.Adjoint{#s574,#s573} where #s573<:(Union{Hermitian{T,S}, Hermitian{Complex{T},S}, Symmetric{T,S}} where S where T<:Real) where #s574) in LinearAlgebra at /Applications/Julia-1.0.app/Contents/Resources/julia/share/julia/stdlib/v1.0/LinearAlgebra/src/symmetric.jl:840\n",
       "[260] *(A::LinearAlgebra.Adjoint{#s576,#s575} where #s575<:(AbstractArray{T,2} where T) where #s576, B::LinearAlgebra.Transpose{#s574,#s573} where #s573<:(Union{Hermitian{T,S}, Symmetric{T,S}, Symmetric{Complex{T},S}} where S where T<:Real) where #s574) in LinearAlgebra at /Applications/Julia-1.0.app/Contents/Resources/julia/share/julia/stdlib/v1.0/LinearAlgebra/src/symmetric.jl:842\n",
       "[261] *(A::LinearAlgebra.Transpose{#s576,#s575} where #s575<:(AbstractArray{T,2} where T) where #s576, B::LinearAlgebra.Adjoint{#s574,#s573} where #s573<:(Union{Hermitian{T,S}, Hermitian{Complex{T},S}, Symmetric{T,S}} where S where T<:Real) where #s574) in LinearAlgebra at /Applications/Julia-1.0.app/Contents/Resources/julia/share/julia/stdlib/v1.0/LinearAlgebra/src/symmetric.jl:844\n",
       "[262] *(A::LinearAlgebra.Transpose{#s576,#s575} where #s575<:(AbstractArray{T,2} where T) where #s576, B::LinearAlgebra.Transpose{#s574,#s573} where #s573<:(Union{Hermitian{T,S}, Symmetric{T,S}, Symmetric{Complex{T},S}} where S where T<:Real) where #s574) in LinearAlgebra at /Applications/Julia-1.0.app/Contents/Resources/julia/share/julia/stdlib/v1.0/LinearAlgebra/src/symmetric.jl:846\n",
       "[263] *(D::LinearAlgebra.Diagonal, x::Number) in LinearAlgebra at /Applications/Julia-1.0.app/Contents/Resources/julia/share/julia/stdlib/v1.0/LinearAlgebra/src/diagonal.jl:156\n",
       "[264] *(Da::LinearAlgebra.Diagonal, Db::LinearAlgebra.Diagonal) in LinearAlgebra at /Applications/Julia-1.0.app/Contents/Resources/julia/share/julia/stdlib/v1.0/LinearAlgebra/src/diagonal.jl:158\n",
       "[265] *(D::LinearAlgebra.Diagonal, B::LinearAlgebra.AbstractTriangular) in LinearAlgebra at /Applications/Julia-1.0.app/Contents/Resources/julia/share/julia/stdlib/v1.0/LinearAlgebra/src/diagonal.jl:162\n",
       "[266] *(D::LinearAlgebra.Diagonal, B::LinearAlgebra.Adjoint{#s576,#s575} where #s575<:LinearAlgebra.Diagonal where #s576) in LinearAlgebra at /Applications/Julia-1.0.app/Contents/Resources/julia/share/julia/stdlib/v1.0/LinearAlgebra/src/diagonal.jl:230\n",
       "[267] *(D::LinearAlgebra.Diagonal, B::LinearAlgebra.Adjoint{#s576,#s575} where #s575<:LinearAlgebra.AbstractTriangular where #s576) in LinearAlgebra at /Applications/Julia-1.0.app/Contents/Resources/julia/share/julia/stdlib/v1.0/LinearAlgebra/src/diagonal.jl:231\n",
       "[268] *(D::LinearAlgebra.Diagonal, adjQ::LinearAlgebra.Adjoint{#s576,#s575} where #s575<:Union{QRCompactWYQ, QRPackedQ} where #s576) in LinearAlgebra at /Applications/Julia-1.0.app/Contents/Resources/julia/share/julia/stdlib/v1.0/LinearAlgebra/src/diagonal.jl:232\n",
       "[269] *(A::LinearAlgebra.Diagonal, adjB::LinearAlgebra.Adjoint{#s576,#s575} where #s575<:(Union{Hermitian{T,S}, Hermitian{Complex{T},S}, Symmetric{T,S}} where S where T<:Real) where #s576) in LinearAlgebra at /Applications/Julia-1.0.app/Contents/Resources/julia/share/julia/stdlib/v1.0/LinearAlgebra/src/diagonal.jl:288\n",
       "[270] *(D::LinearAlgebra.Diagonal, adjA::LinearAlgebra.Adjoint{#s576,#s575} where #s575<:(AbstractArray{T,2} where T) where #s576) in LinearAlgebra at /Applications/Julia-1.0.app/Contents/Resources/julia/share/julia/stdlib/v1.0/LinearAlgebra/src/diagonal.jl:234\n",
       "[271] *(D::LinearAlgebra.Diagonal, B::LinearAlgebra.Transpose{#s576,#s575} where #s575<:LinearAlgebra.Diagonal where #s576) in LinearAlgebra at /Applications/Julia-1.0.app/Contents/Resources/julia/share/julia/stdlib/v1.0/LinearAlgebra/src/diagonal.jl:240\n",
       "[272] *(D::LinearAlgebra.Diagonal, B::LinearAlgebra.Transpose{#s576,#s575} where #s575<:LinearAlgebra.AbstractTriangular where #s576) in LinearAlgebra at /Applications/Julia-1.0.app/Contents/Resources/julia/share/julia/stdlib/v1.0/LinearAlgebra/src/diagonal.jl:241\n",
       "[273] *(A::LinearAlgebra.Diagonal, transB::LinearAlgebra.Transpose{#s576,#s575} where #s575<:(Union{Hermitian{T,S}, Symmetric{T,S}, Symmetric{Complex{T},S}} where S where T<:Real) where #s576) in LinearAlgebra at /Applications/Julia-1.0.app/Contents/Resources/julia/share/julia/stdlib/v1.0/LinearAlgebra/src/diagonal.jl:286\n",
       "[274] *(D::LinearAlgebra.Diagonal, transA::LinearAlgebra.Transpose{#s576,#s575} where #s575<:(AbstractArray{T,2} where T) where #s576) in LinearAlgebra at /Applications/Julia-1.0.app/Contents/Resources/julia/share/julia/stdlib/v1.0/LinearAlgebra/src/diagonal.jl:243\n",
       "[275] *(A::LinearAlgebra.Diagonal, B::LinearAlgebra.Adjoint{#s576,#s575} where #s575<:LinearAlgebra.AbstractRotation where #s576) in LinearAlgebra at /Applications/Julia-1.0.app/Contents/Resources/julia/share/julia/stdlib/v1.0/LinearAlgebra/src/givens.jl:397\n",
       "[276] *(D::LinearAlgebra.Diagonal, A::SparseArrays.SparseMatrixCSC) in SparseArrays at /Applications/Julia-1.0.app/Contents/Resources/julia/share/julia/stdlib/v1.0/SparseArrays/src/linalg.jl:130\n",
       "[277] *(D::LinearAlgebra.Diagonal{T,StaticArrays.SArray{Tuple{N},T,1,N}} where T where N, A::StaticArrays.StaticArray{Tuple{N,M},T,2} where T where M where N) in StaticArrays at /Users/abradley/.julia/packages/StaticArrays/mcf7t/src/SDiagonal.jl:22\n",
       "[278] *(D::LinearAlgebra.Diagonal, V::AbstractArray{T,1} where T) in LinearAlgebra at /Applications/Julia-1.0.app/Contents/Resources/julia/share/julia/stdlib/v1.0/LinearAlgebra/src/diagonal.jl:159\n",
       "[279] *(D::LinearAlgebra.Diagonal, A::AbstractArray{T,2} where T) in LinearAlgebra at /Applications/Julia-1.0.app/Contents/Resources/julia/share/julia/stdlib/v1.0/LinearAlgebra/src/diagonal.jl:166\n",
       "[280] *(adjA::LinearAlgebra.Adjoint{#s576,#s575} where #s575<:(AbstractArray{T,2} where T) where #s576, D::LinearAlgebra.Diagonal) in LinearAlgebra at /Applications/Julia-1.0.app/Contents/Resources/julia/share/julia/stdlib/v1.0/LinearAlgebra/src/diagonal.jl:215\n",
       "[281] *(transA::LinearAlgebra.Transpose{#s576,#s575} where #s575<:(AbstractArray{T,2} where T) where #s576, D::LinearAlgebra.Diagonal) in LinearAlgebra at /Applications/Julia-1.0.app/Contents/Resources/julia/share/julia/stdlib/v1.0/LinearAlgebra/src/diagonal.jl:224\n",
       "[282] *(A::LinearAlgebra.Bidiagonal, B::Number) in LinearAlgebra at /Applications/Julia-1.0.app/Contents/Resources/julia/share/julia/stdlib/v1.0/LinearAlgebra/src/bidiag.jl:320\n",
       "[283] *(A::Union{Bidiagonal, SymTridiagonal, Tridiagonal}, B::Union{Bidiagonal, SymTridiagonal, Tridiagonal}) in LinearAlgebra at /Applications/Julia-1.0.app/Contents/Resources/julia/share/julia/stdlib/v1.0/LinearAlgebra/src/bidiag.jl:492\n",
       "[284] *(A::LinearAlgebra.Bidiagonal{T,V} where V<:AbstractArray{T,1}, adjB::LinearAlgebra.Adjoint{#s576,#s575} where #s575<:AbstractArray{T,1} where #s576) where T in LinearAlgebra at /Applications/Julia-1.0.app/Contents/Resources/julia/share/julia/stdlib/v1.0/LinearAlgebra/src/bidiag.jl:497\n",
       "[285] *(A::LinearAlgebra.Bidiagonal{T,V} where V<:AbstractArray{T,1}, B::AbstractArray{T,1}) where T in LinearAlgebra at /Applications/Julia-1.0.app/Contents/Resources/julia/share/julia/stdlib/v1.0/LinearAlgebra/src/bidiag.jl:495\n",
       "[286] *(A::LinearAlgebra.Adjoint{#s576,#s575} where #s575<:(AbstractArray{T,2} where T) where #s576, B::LinearAlgebra.Adjoint{#s574,#s573} where #s573<:LinearAlgebra.AbstractRotation where #s574) in LinearAlgebra at /Applications/Julia-1.0.app/Contents/Resources/julia/share/julia/stdlib/v1.0/LinearAlgebra/src/givens.jl:388\n",
       "[287] *(A::LinearAlgebra.Transpose{#s576,#s575} where #s575<:(AbstractArray{T,2} where T) where #s576, B::LinearAlgebra.Adjoint{#s574,#s573} where #s573<:LinearAlgebra.AbstractRotation where #s574) in LinearAlgebra at /Applications/Julia-1.0.app/Contents/Resources/julia/share/julia/stdlib/v1.0/LinearAlgebra/src/givens.jl:390\n",
       "[288] *(x::Union{SubArray{T,1,#s576,Tuple{Slice{OneTo{Int64}},Int64},false} where #s576<:SparseMatrixCSC, SparseVector{T,Ti} where Ti<:Integer} where T, a::Number) in SparseArrays at /Applications/Julia-1.0.app/Contents/Resources/julia/share/julia/stdlib/v1.0/SparseArrays/src/sparsevector.jl:1393\n",
       "[289] *(X::Union{DenseArray{TX,2}, ReinterpretArray{TX,2,S,A} where S where A<:Union{SubArray{T,N,A,I,true} where I<:Tuple{AbstractUnitRange,Vararg{Any,N} where N} where A<:DenseArray where N where T, DenseArray}, ReshapedArray{TX,2,A,MI} where MI<:Tuple{Vararg{SignedMultiplicativeInverse{Int64},N} where N} where A<:Union{ReinterpretArray{T,N,S,A} where S where A<:Union{SubArray{T,N,A,I,true} where I<:Tuple{AbstractUnitRange,Vararg{Any,N} where N} where A<:DenseArray where N where T, DenseArray} where N where T, SubArray{T,N,A,I,true} where I<:Tuple{AbstractUnitRange,Vararg{Any,N} where N} where A<:DenseArray where N where T, DenseArray}, SubArray{TX,2,A,I,L} where L where I<:Tuple{Vararg{Union{Int64, AbstractRange{Int64}, AbstractCartesianIndex},N} where N} where A<:Union{ReinterpretArray{T,N,S,A} where S where A<:Union{SubArray{T,N,A,I,true} where I<:Tuple{AbstractUnitRange,Vararg{Any,N} where N} where A<:DenseArray where N where T, DenseArray} where N where T, ReshapedArray{T,N,A,MI} where MI<:Tuple{Vararg{SignedMultiplicativeInverse{Int64},N} where N} where A<:Union{ReinterpretArray{T,N,S,A} where S where A<:Union{SubArray{T,N,A,I,true} where I<:Tuple{AbstractUnitRange,Vararg{Any,N} where N} where A<:DenseArray where N where T, DenseArray} where N where T, SubArray{T,N,A,I,true} where I<:Tuple{AbstractUnitRange,Vararg{Any,N} where N} where A<:DenseArray where N where T, DenseArray} where N where T, DenseArray}}, A::SparseArrays.SparseMatrixCSC{TvA,TiA}) where {TX, TvA, TiA} in SparseArrays at /Applications/Julia-1.0.app/Contents/Resources/julia/share/julia/stdlib/v1.0/SparseArrays/src/linalg.jl:118\n",
       "[290] *(A::Union{DenseArray{Ta,2}, ReinterpretArray{Ta,2,S,A} where S where A<:Union{SubArray{T,N,A,I,true} where I<:Tuple{AbstractUnitRange,Vararg{Any,N} where N} where A<:DenseArray where N where T, DenseArray}, ReshapedArray{Ta,2,A,MI} where MI<:Tuple{Vararg{SignedMultiplicativeInverse{Int64},N} where N} where A<:Union{ReinterpretArray{T,N,S,A} where S where A<:Union{SubArray{T,N,A,I,true} where I<:Tuple{AbstractUnitRange,Vararg{Any,N} where N} where A<:DenseArray where N where T, DenseArray} where N where T, SubArray{T,N,A,I,true} where I<:Tuple{AbstractUnitRange,Vararg{Any,N} where N} where A<:DenseArray where N where T, DenseArray}, SubArray{Ta,2,A,I,L} where L where I<:Tuple{Vararg{Union{Int64, AbstractRange{Int64}, AbstractCartesianIndex},N} where N} where A<:Union{ReinterpretArray{T,N,S,A} where S where A<:Union{SubArray{T,N,A,I,true} where I<:Tuple{AbstractUnitRange,Vararg{Any,N} where N} where A<:DenseArray where N where T, DenseArray} where N where T, ReshapedArray{T,N,A,MI} where MI<:Tuple{Vararg{SignedMultiplicativeInverse{Int64},N} where N} where A<:Union{ReinterpretArray{T,N,S,A} where S where A<:Union{SubArray{T,N,A,I,true} where I<:Tuple{AbstractUnitRange,Vararg{Any,N} where N} where A<:DenseArray where N where T, DenseArray} where N where T, SubArray{T,N,A,I,true} where I<:Tuple{AbstractUnitRange,Vararg{Any,N} where N} where A<:DenseArray where N where T, DenseArray} where N where T, DenseArray}}, x::SparseArrays.AbstractSparseArray{Tx,Ti,1} where Ti) where {Ta, Tx} in SparseArrays at /Applications/Julia-1.0.app/Contents/Resources/julia/share/julia/stdlib/v1.0/SparseArrays/src/sparsevector.jl:1480\n",
       "[291] *(A::SparseArrays.SparseMatrixCSC, x::SparseArrays.AbstractSparseArray{Tv,Ti,1} where Ti where Tv) in SparseArrays at /Applications/Julia-1.0.app/Contents/Resources/julia/share/julia/stdlib/v1.0/SparseArrays/src/sparsevector.jl:1667\n",
       "[292] *(A::SparseArrays.SparseMatrixCSC{Tv,Ti}, B::SparseArrays.SparseMatrixCSC{Tv,Ti}) where {Tv, Ti} in SparseArrays at /Applications/Julia-1.0.app/Contents/Resources/julia/share/julia/stdlib/v1.0/SparseArrays/src/linalg.jl:141\n",
       "[293] *(A::SparseArrays.SparseMatrixCSC{TvA,TiA}, B::SparseArrays.SparseMatrixCSC{TvB,TiB}) where {TvA, TiA, TvB, TiB} in SparseArrays at /Applications/Julia-1.0.app/Contents/Resources/julia/share/julia/stdlib/v1.0/SparseArrays/src/linalg.jl:7\n",
       "[294] *(A::SparseArrays.SparseMatrixCSC{Tv,Ti}, B::LinearAlgebra.Transpose{#s576,#s575} where #s575<:SparseArrays.SparseMatrixCSC{Tv,Ti} where #s576) where {Tv, Ti} in SparseArrays at /Applications/Julia-1.0.app/Contents/Resources/julia/share/julia/stdlib/v1.0/SparseArrays/src/linalg.jl:143\n",
       "[295] *(A::SparseArrays.SparseMatrixCSC{TvA,TiA}, transB::LinearAlgebra.Transpose{#s576,#s575} where #s575<:SparseArrays.SparseMatrixCSC{TvB,TiB} where #s576) where {TvA, TiA, TvB, TiB} in SparseArrays at /Applications/Julia-1.0.app/Contents/Resources/julia/share/julia/stdlib/v1.0/SparseArrays/src/linalg.jl:9\n",
       "[296] *(A::SparseArrays.SparseMatrixCSC{Tv,Ti}, B::LinearAlgebra.Adjoint{#s576,#s575} where #s575<:SparseArrays.SparseMatrixCSC{Tv,Ti} where #s576) where {Tv, Ti} in SparseArrays at /Applications/Julia-1.0.app/Contents/Resources/julia/share/julia/stdlib/v1.0/SparseArrays/src/linalg.jl:142\n",
       "[297] *(A::SparseArrays.SparseMatrixCSC{TvA,TiA}, adjB::LinearAlgebra.Adjoint{#s576,#s575} where #s575<:SparseArrays.SparseMatrixCSC{TvB,TiB} where #s576) where {TvA, TiA, TvB, TiB} in SparseArrays at /Applications/Julia-1.0.app/Contents/Resources/julia/share/julia/stdlib/v1.0/SparseArrays/src/linalg.jl:11\n",
       "[298] *(A::SparseArrays.SparseMatrixCSC{TA,S}, x::Union{DenseArray{Tx,1}, ReinterpretArray{Tx,1,S,A} where S where A<:Union{SubArray{T,N,A,I,true} where I<:Tuple{AbstractUnitRange,Vararg{Any,N} where N} where A<:DenseArray where N where T, DenseArray}, ReshapedArray{Tx,1,A,MI} where MI<:Tuple{Vararg{SignedMultiplicativeInverse{Int64},N} where N} where A<:Union{ReinterpretArray{T,N,S,A} where S where A<:Union{SubArray{T,N,A,I,true} where I<:Tuple{AbstractUnitRange,Vararg{Any,N} where N} where A<:DenseArray where N where T, DenseArray} where N where T, SubArray{T,N,A,I,true} where I<:Tuple{AbstractUnitRange,Vararg{Any,N} where N} where A<:DenseArray where N where T, DenseArray}, SubArray{Tx,1,A,I,L} where L where I<:Tuple{Vararg{Union{Int64, AbstractRange{Int64}, AbstractCartesianIndex},N} where N} where A<:Union{ReinterpretArray{T,N,S,A} where S where A<:Union{SubArray{T,N,A,I,true} where I<:Tuple{AbstractUnitRange,Vararg{Any,N} where N} where A<:DenseArray where N where T, DenseArray} where N where T, ReshapedArray{T,N,A,MI} where MI<:Tuple{Vararg{SignedMultiplicativeInverse{Int64},N} where N} where A<:Union{ReinterpretArray{T,N,S,A} where S where A<:Union{SubArray{T,N,A,I,true} where I<:Tuple{AbstractUnitRange,Vararg{Any,N} where N} where A<:DenseArray where N where T, DenseArray} where N where T, SubArray{T,N,A,I,true} where I<:Tuple{AbstractUnitRange,Vararg{Any,N} where N} where A<:DenseArray where N where T, DenseArray} where N where T, DenseArray}}) where {TA, S, Tx} in SparseArrays at /Applications/Julia-1.0.app/Contents/Resources/julia/share/julia/stdlib/v1.0/SparseArrays/src/linalg.jl:51\n",
       "[299] *(A::SparseArrays.SparseMatrixCSC{TA,S}, B::Union{DenseArray{Tx,2}, ReinterpretArray{Tx,2,S,A} where S where A<:Union{SubArray{T,N,A,I,true} where I<:Tuple{AbstractUnitRange,Vararg{Any,N} where N} where A<:DenseArray where N where T, DenseArray}, ReshapedArray{Tx,2,A,MI} where MI<:Tuple{Vararg{SignedMultiplicativeInverse{Int64},N} where N} where A<:Union{ReinterpretArray{T,N,S,A} where S where A<:Union{SubArray{T,N,A,I,true} where I<:Tuple{AbstractUnitRange,Vararg{Any,N} where N} where A<:DenseArray where N where T, DenseArray} where N where T, SubArray{T,N,A,I,true} where I<:Tuple{AbstractUnitRange,Vararg{Any,N} where N} where A<:DenseArray where N where T, DenseArray}, SubArray{Tx,2,A,I,L} where L where I<:Tuple{Vararg{Union{Int64, AbstractRange{Int64}, AbstractCartesianIndex},N} where N} where A<:Union{ReinterpretArray{T,N,S,A} where S where A<:Union{SubArray{T,N,A,I,true} where I<:Tuple{AbstractUnitRange,Vararg{Any,N} where N} where A<:DenseArray where N where T, DenseArray} where N where T, ReshapedArray{T,N,A,MI} where MI<:Tuple{Vararg{SignedMultiplicativeInverse{Int64},N} where N} where A<:Union{ReinterpretArray{T,N,S,A} where S where A<:Union{SubArray{T,N,A,I,true} where I<:Tuple{AbstractUnitRange,Vararg{Any,N} where N} where A<:DenseArray where N where T, DenseArray} where N where T, SubArray{T,N,A,I,true} where I<:Tuple{AbstractUnitRange,Vararg{Any,N} where N} where A<:DenseArray where N where T, DenseArray} where N where T, DenseArray}}) where {TA, S, Tx} in SparseArrays at /Applications/Julia-1.0.app/Contents/Resources/julia/share/julia/stdlib/v1.0/SparseArrays/src/linalg.jl:53\n",
       "[300] *(A::SparseArrays.SparseMatrixCSC, D::LinearAlgebra.Diagonal) in SparseArrays at /Applications/Julia-1.0.app/Contents/Resources/julia/share/julia/stdlib/v1.0/SparseArrays/src/linalg.jl:134\n",
       "[301] *(A::SuiteSparse.CHOLMOD.Sparse, B::SuiteSparse.CHOLMOD.Sparse) in SuiteSparse.CHOLMOD at /Applications/Julia-1.0.app/Contents/Resources/julia/share/julia/stdlib/v1.0/SuiteSparse/src/cholmod.jl:1307\n",
       "[302] *(A::SuiteSparse.CHOLMOD.Sparse, B::SuiteSparse.CHOLMOD.Dense) in SuiteSparse.CHOLMOD at /Applications/Julia-1.0.app/Contents/Resources/julia/share/julia/stdlib/v1.0/SuiteSparse/src/cholmod.jl:1308\n",
       "[303] *(A::SuiteSparse.CHOLMOD.Sparse, B::Union{Array{T,1}, Array{T,2}} where T) in SuiteSparse.CHOLMOD at /Applications/Julia-1.0.app/Contents/Resources/julia/share/julia/stdlib/v1.0/SuiteSparse/src/cholmod.jl:1309\n",
       "[304] *(A::SuiteSparse.CHOLMOD.Sparse{Tv}, adjB::LinearAlgebra.Adjoint{Tv,SuiteSparse.CHOLMOD.Sparse{Tv}}) where Tv<:Float64 in SuiteSparse.CHOLMOD at /Applications/Julia-1.0.app/Contents/Resources/julia/share/julia/stdlib/v1.0/SuiteSparse/src/cholmod.jl:1312\n",
       "[305] *(A::LinearAlgebra.Symmetric{Float64,SparseArrays.SparseMatrixCSC{Float64,Ti}}, B::Union{SparseMatrixCSC{Float64,Ti}, SparseVector{Float64,Ti}}) where Ti in SuiteSparse.CHOLMOD at /Applications/Julia-1.0.app/Contents/Resources/julia/share/julia/stdlib/v1.0/SuiteSparse/src/cholmod.jl:1849\n",
       "[306] *(A::LinearAlgebra.Hermitian{Complex{Float64},SparseArrays.SparseMatrixCSC{Complex{Float64},Ti}}, B::Union{SparseMatrixCSC{Complex{Float64},Ti}, SparseVector{Complex{Float64},Ti}}) where Ti in SuiteSparse.CHOLMOD at /Applications/Julia-1.0.app/Contents/Resources/julia/share/julia/stdlib/v1.0/SuiteSparse/src/cholmod.jl:1851\n",
       "[307] *(A::LinearAlgebra.Hermitian{Float64,SparseArrays.SparseMatrixCSC{Float64,Ti}}, B::Union{SparseMatrixCSC{Float64,Ti}, SparseVector{Float64,Ti}}) where Ti in SuiteSparse.CHOLMOD at /Applications/Julia-1.0.app/Contents/Resources/julia/share/julia/stdlib/v1.0/SuiteSparse/src/cholmod.jl:1853\n",
       "[308] *(A::Union{SparseMatrixCSC{Float64,Ti}, SparseVector{Float64,Ti}}, B::LinearAlgebra.Symmetric{Float64,SparseArrays.SparseMatrixCSC{Float64,Ti}}) where Ti in SuiteSparse.CHOLMOD at /Applications/Julia-1.0.app/Contents/Resources/julia/share/julia/stdlib/v1.0/SuiteSparse/src/cholmod.jl:1856\n",
       "[309] *(A::Union{SparseMatrixCSC{Complex{Float64},Ti}, SparseVector{Complex{Float64},Ti}}, B::LinearAlgebra.Hermitian{Complex{Float64},SparseArrays.SparseMatrixCSC{Complex{Float64},Ti}}) where Ti in SuiteSparse.CHOLMOD at /Applications/Julia-1.0.app/Contents/Resources/julia/share/julia/stdlib/v1.0/SuiteSparse/src/cholmod.jl:1858\n",
       "[310] *(A::Union{SparseMatrixCSC{Float64,Ti}, SparseVector{Float64,Ti}}, B::LinearAlgebra.Hermitian{Float64,SparseArrays.SparseMatrixCSC{Float64,Ti}}) where Ti in SuiteSparse.CHOLMOD at /Applications/Julia-1.0.app/Contents/Resources/julia/share/julia/stdlib/v1.0/SuiteSparse/src/cholmod.jl:1860\n",
       "[311] *(A::StaticArrays.StaticArray{Tuple{N,M},T,2} where T where M where N, D::LinearAlgebra.Diagonal{T,StaticArrays.SArray{Tuple{N},T,1,N}} where T where N) in StaticArrays at /Users/abradley/.julia/packages/StaticArrays/mcf7t/src/SDiagonal.jl:21\n",
       "[312] *(a::StaticArrays.StaticArray, b::Number) in StaticArrays at /Users/abradley/.julia/packages/StaticArrays/mcf7t/src/linalg.jl:26\n",
       "[313] *(a::StaticArrays.StaticArray{Tuple{N,M},T,2} where T where M where N, b::LinearAlgebra.UniformScaling) in StaticArrays at /Users/abradley/.julia/packages/StaticArrays/mcf7t/src/linalg.jl:51\n",
       "[314] *(A::StaticArrays.StaticArray{Tuple{N,M},T,2} where T where M where N, B::StaticArrays.StaticArray{Tuple{N},T,1} where T where N) in StaticArrays at /Users/abradley/.julia/packages/StaticArrays/mcf7t/src/matrix_multiply.jl:8\n",
       "[315] *(A::StaticArrays.StaticArray{Tuple{N,M},T,2} where T where M where N, B::StaticArrays.StaticArray{Tuple{N,M},T,2} where T where M where N) in StaticArrays at /Users/abradley/.julia/packages/StaticArrays/mcf7t/src/matrix_multiply.jl:9\n",
       "[316] *(A::StaticArrays.StaticArray{Tuple{N,1},#s177,2} where #s177, B::LinearAlgebra.Adjoint{#s176,#s175} where #s175<:(StaticArrays.StaticArray{Tuple{N},T,1} where T where N) where #s176) where N in StaticArrays at /Users/abradley/.julia/packages/StaticArrays/mcf7t/src/matrix_multiply.jl:13\n",
       "[317] *(A::StaticArrays.StaticArray{Tuple{N,1},#s177,2} where #s177, B::LinearAlgebra.Transpose{#s176,#s175} where #s175<:(StaticArrays.StaticArray{Tuple{N},T,1} where T where N) where #s176) where N in StaticArrays at /Users/abradley/.julia/packages/StaticArrays/mcf7t/src/matrix_multiply.jl:14\n",
       "[318] *(A::StaticArrays.StaticArray{Tuple{N,M},T,2} where T where M where N, B::AbstractArray{T,1} where T) in StaticArrays at /Users/abradley/.julia/packages/StaticArrays/mcf7t/src/matrix_multiply.jl:7\n",
       "[319] *(A::StaticArrays.StaticArray{Tuple{N},T,1} where T where N, B::StaticArrays.StaticArray{Tuple{N,M},T,2} where T where M where N) in StaticArrays at /Users/abradley/.julia/packages/StaticArrays/mcf7t/src/matrix_multiply.jl:10\n",
       "[320] *(A::StaticArrays.StaticArray{Tuple{N},T,1} where T where N, B::LinearAlgebra.Transpose{#s177,#s176} where #s176<:(StaticArrays.StaticArray{Tuple{N},T,1} where T where N) where #s177) in StaticArrays at /Users/abradley/.julia/packages/StaticArrays/mcf7t/src/matrix_multiply.jl:11\n",
       "[321] *(A::StaticArrays.StaticArray{Tuple{N},T,1} where T where N, B::LinearAlgebra.Adjoint{#s177,#s176} where #s176<:(StaticArrays.StaticArray{Tuple{N},T,1} where T where N) where #s177) in StaticArrays at /Users/abradley/.julia/packages/StaticArrays/mcf7t/src/matrix_multiply.jl:12\n",
       "[322] *(A::Union{StaticArray{Tuple{#s12},T,1} where #s12, StaticArray{Tuple{#s13,#s14},T,2} where #s14 where #s13} where T, B::LinearAlgebra.AbstractTriangular{#s177,#s176} where #s176<:(StaticArrays.StaticArray{Tuple{N,M},T,2} where T where M where N) where #s177) in StaticArrays at /Users/abradley/.julia/packages/StaticArrays/mcf7t/src/triangular.jl:23\n",
       "[323] *(x::AbstractArray{#s57,2} where #s57<:Number) in Base at abstractarraymath.jl:99\n",
       "[324] *(B::Number, A::LinearAlgebra.SymTridiagonal) in LinearAlgebra at /Applications/Julia-1.0.app/Contents/Resources/julia/share/julia/stdlib/v1.0/LinearAlgebra/src/tridiag.jl:161\n",
       "[325] *(B::Number, A::LinearAlgebra.Tridiagonal) in LinearAlgebra at /Applications/Julia-1.0.app/Contents/Resources/julia/share/julia/stdlib/v1.0/LinearAlgebra/src/tridiag.jl:615\n",
       "[326] *(x::Number, A::LinearAlgebra.UpperTriangular) in LinearAlgebra at /Applications/Julia-1.0.app/Contents/Resources/julia/share/julia/stdlib/v1.0/LinearAlgebra/src/triangular.jl:680\n",
       "[327] *(x::Number, A::LinearAlgebra.UnitUpperTriangular) in LinearAlgebra at /Applications/Julia-1.0.app/Contents/Resources/julia/share/julia/stdlib/v1.0/LinearAlgebra/src/triangular.jl:683\n",
       "[328] *(x::Number, A::LinearAlgebra.LowerTriangular) in LinearAlgebra at /Applications/Julia-1.0.app/Contents/Resources/julia/share/julia/stdlib/v1.0/LinearAlgebra/src/triangular.jl:680\n",
       "[329] *(x::Number, A::LinearAlgebra.UnitLowerTriangular) in LinearAlgebra at /Applications/Julia-1.0.app/Contents/Resources/julia/share/julia/stdlib/v1.0/LinearAlgebra/src/triangular.jl:683\n",
       "[330] *(x::Number, D::LinearAlgebra.Diagonal) in LinearAlgebra at /Applications/Julia-1.0.app/Contents/Resources/julia/share/julia/stdlib/v1.0/LinearAlgebra/src/diagonal.jl:155\n",
       "[331] *(B::Number, A::LinearAlgebra.Bidiagonal) in LinearAlgebra at /Applications/Julia-1.0.app/Contents/Resources/julia/share/julia/stdlib/v1.0/LinearAlgebra/src/bidiag.jl:321\n",
       "[332] *(a::Number, x::Union{SubArray{T,1,#s576,Tuple{Slice{OneTo{Int64}},Int64},false} where #s576<:SparseMatrixCSC, SparseVector{T,Ti} where Ti<:Integer} where T) in SparseArrays at /Applications/Julia-1.0.app/Contents/Resources/julia/share/julia/stdlib/v1.0/SparseArrays/src/sparsevector.jl:1394\n",
       "[333] *(a::Number, b::StaticArrays.StaticArray) in StaticArrays at /Users/abradley/.julia/packages/StaticArrays/mcf7t/src/linalg.jl:25\n",
       "[334] *(A::Number, B::AbstractArray) in Base at arraymath.jl:52\n",
       "[335] *(A::AbstractArray, B::Number) in Base at arraymath.jl:55\n",
       "[336] *(s1::Union{AbstractChar, AbstractString}, ss::Union{AbstractChar, AbstractString}...) in Base at strings/basic.jl:229\n",
       "[337] *(index::CartesianIndex, a::Integer) in Base.IteratorsMD at multidimensional.jl:116\n",
       "[338] *(::Number, ::Missing) in Base at missing.jl:94\n",
       "[339] *(d::AbstractString, x::Missing) in Base at missing.jl:140\n",
       "[340] *(x::P, y::Real) where P<:Dates.Period in Dates at /Applications/Julia-1.0.app/Contents/Resources/julia/share/julia/stdlib/v1.0/Dates/src/periods.jl:92\n",
       "[341] *(u::AbstractArray{T,1} where T, v::Union{Adjoint{T,#s576}, Transpose{T,#s576}} where #s576<:(AbstractArray{T,1} where T) where T) in LinearAlgebra at /Applications/Julia-1.0.app/Contents/Resources/julia/share/julia/stdlib/v1.0/LinearAlgebra/src/adjtrans.jl:205\n",
       "[342] *(A::AbstractArray{T,2} where T, B::LinearAlgebra.AbstractTriangular) in LinearAlgebra at /Applications/Julia-1.0.app/Contents/Resources/julia/share/julia/stdlib/v1.0/LinearAlgebra/src/triangular.jl:1929\n",
       "[343] *(A::AbstractArray{T,2} where T, adjB::LinearAlgebra.Adjoint{#s576,#s575} where #s575<:LinearAlgebra.AbstractTriangular where #s576) in LinearAlgebra at /Applications/Julia-1.0.app/Contents/Resources/julia/share/julia/stdlib/v1.0/LinearAlgebra/src/triangular.jl:1936\n",
       "[344] *(A::AbstractArray{T,2} where T, transB::LinearAlgebra.Transpose{#s576,#s575} where #s575<:LinearAlgebra.AbstractTriangular where #s576) in LinearAlgebra at /Applications/Julia-1.0.app/Contents/Resources/julia/share/julia/stdlib/v1.0/LinearAlgebra/src/triangular.jl:1944\n",
       "[345] *(A::AbstractArray{T,2} where T, transB::LinearAlgebra.Transpose{#s576,#s575} where #s575<:(Union{Hermitian{T,S}, Symmetric{T,S}, Symmetric{Complex{T},S}} where S where T<:Real) where #s576) in LinearAlgebra at /Applications/Julia-1.0.app/Contents/Resources/julia/share/julia/stdlib/v1.0/LinearAlgebra/src/symmetric.jl:423\n",
       "[346] *(A::AbstractArray{T,2} where T, adjB::LinearAlgebra.Adjoint{#s576,#s575} where #s575<:(Union{Hermitian{T,S}, Hermitian{Complex{T},S}, Symmetric{T,S}} where S where T<:Real) where #s576) in LinearAlgebra at /Applications/Julia-1.0.app/Contents/Resources/julia/share/julia/stdlib/v1.0/LinearAlgebra/src/symmetric.jl:427\n",
       "[347] *(A::AbstractArray{T,2} where T, D::LinearAlgebra.Diagonal) in LinearAlgebra at /Applications/Julia-1.0.app/Contents/Resources/julia/share/julia/stdlib/v1.0/LinearAlgebra/src/diagonal.jl:164\n",
       "[348] *(A::AbstractArray{T,2} where T, adjR::LinearAlgebra.Adjoint{#s576,#s575} where #s575<:LinearAlgebra.AbstractRotation where #s576) in LinearAlgebra at /Applications/Julia-1.0.app/Contents/Resources/julia/share/julia/stdlib/v1.0/LinearAlgebra/src/givens.jl:14\n",
       "[349] *(A::AbstractArray{T,2}, x::AbstractArray{S,1}) where {T, S} in LinearAlgebra at /Applications/Julia-1.0.app/Contents/Resources/julia/share/julia/stdlib/v1.0/LinearAlgebra/src/matmul.jl:49\n",
       "[350] *(a::AbstractArray{T,1} where T, transB::LinearAlgebra.Transpose{#s576,#s575} where #s575<:(AbstractArray{T,2} where T) where #s576) in LinearAlgebra at /Applications/Julia-1.0.app/Contents/Resources/julia/share/julia/stdlib/v1.0/LinearAlgebra/src/matmul.jl:55\n",
       "[351] *(a::AbstractArray{T,1} where T, adjB::LinearAlgebra.Adjoint{#s576,#s575} where #s575<:(AbstractArray{T,2} where T) where #s576) in LinearAlgebra at /Applications/Julia-1.0.app/Contents/Resources/julia/share/julia/stdlib/v1.0/LinearAlgebra/src/matmul.jl:59\n",
       "[352] *(A::AbstractArray{T,1} where T, adjR::LinearAlgebra.Adjoint{#s576,#s575} where #s575<:LinearAlgebra.AbstractRotation where #s576) in LinearAlgebra at /Applications/Julia-1.0.app/Contents/Resources/julia/share/julia/stdlib/v1.0/LinearAlgebra/src/givens.jl:13\n",
       "[353] *(a::AbstractArray{T,1} where T, B::AbstractArray{T,2} where T) in LinearAlgebra at /Applications/Julia-1.0.app/Contents/Resources/julia/share/julia/stdlib/v1.0/LinearAlgebra/src/matmul.jl:62\n",
       "[354] *(A::AbstractArray{T,2} where T, B::AbstractArray{T,2} where T) in LinearAlgebra at /Applications/Julia-1.0.app/Contents/Resources/julia/share/julia/stdlib/v1.0/LinearAlgebra/src/matmul.jl:141\n",
       "[355] *(A::LinearAlgebra.LQ{TA,S} where S<:AbstractArray{TA,2}, B::Union{DenseArray{TB,1}, DenseArray{TB,2}, ReinterpretArray{TB,2,S,A} where S where A<:Union{SubArray{T,N,A,I,true} where I<:Tuple{AbstractUnitRange,Vararg{Any,N} where N} where A<:DenseArray where N where T, DenseArray}, ReinterpretArray{TB,1,S,A} where S where A<:Union{SubArray{T,N,A,I,true} where I<:Tuple{AbstractUnitRange,Vararg{Any,N} where N} where A<:DenseArray where N where T, DenseArray}, ReshapedArray{TB,1,A,MI} where MI<:Tuple{Vararg{SignedMultiplicativeInverse{Int64},N} where N} where A<:Union{ReinterpretArray{T,N,S,A} where S where A<:Union{SubArray{T,N,A,I,true} where I<:Tuple{AbstractUnitRange,Vararg{Any,N} where N} where A<:DenseArray where N where T, DenseArray} where N where T, SubArray{T,N,A,I,true} where I<:Tuple{AbstractUnitRange,Vararg{Any,N} where N} where A<:DenseArray where N where T, DenseArray}, ReshapedArray{TB,2,A,MI} where MI<:Tuple{Vararg{SignedMultiplicativeInverse{Int64},N} where N} where A<:Union{ReinterpretArray{T,N,S,A} where S where A<:Union{SubArray{T,N,A,I,true} where I<:Tuple{AbstractUnitRange,Vararg{Any,N} where N} where A<:DenseArray where N where T, DenseArray} where N where T, SubArray{T,N,A,I,true} where I<:Tuple{AbstractUnitRange,Vararg{Any,N} where N} where A<:DenseArray where N where T, DenseArray}, SubArray{TB,1,A,I,L} where L where I<:Tuple{Vararg{Union{Int64, AbstractRange{Int64}, AbstractCartesianIndex},N} where N} where A<:Union{ReinterpretArray{T,N,S,A} where S where A<:Union{SubArray{T,N,A,I,true} where I<:Tuple{AbstractUnitRange,Vararg{Any,N} where N} where A<:DenseArray where N where T, DenseArray} where N where T, ReshapedArray{T,N,A,MI} where MI<:Tuple{Vararg{SignedMultiplicativeInverse{Int64},N} where N} where A<:Union{ReinterpretArray{T,N,S,A} where S where A<:Union{SubArray{T,N,A,I,true} where I<:Tuple{AbstractUnitRange,Vararg{Any,N} where N} where A<:DenseArray where N where T, DenseArray} where N where T, SubArray{T,N,A,I,true} where I<:Tuple{AbstractUnitRange,Vararg{Any,N} where N} where A<:DenseArray where N where T, DenseArray} where N where T, DenseArray}, SubArray{TB,2,A,I,L} where L where I<:Tuple{Vararg{Union{Int64, AbstractRange{Int64}, AbstractCartesianIndex},N} where N} where A<:Union{ReinterpretArray{T,N,S,A} where S where A<:Union{SubArray{T,N,A,I,true} where I<:Tuple{AbstractUnitRange,Vararg{Any,N} where N} where A<:DenseArray where N where T, DenseArray} where N where T, ReshapedArray{T,N,A,MI} where MI<:Tuple{Vararg{SignedMultiplicativeInverse{Int64},N} where N} where A<:Union{ReinterpretArray{T,N,S,A} where S where A<:Union{SubArray{T,N,A,I,true} where I<:Tuple{AbstractUnitRange,Vararg{Any,N} where N} where A<:DenseArray where N where T, DenseArray} where N where T, SubArray{T,N,A,I,true} where I<:Tuple{AbstractUnitRange,Vararg{Any,N} where N} where A<:DenseArray where N where T, DenseArray} where N where T, DenseArray}}) where {TA, TB} in LinearAlgebra at /Applications/Julia-1.0.app/Contents/Resources/julia/share/julia/stdlib/v1.0/LinearAlgebra/src/lq.jl:144\n",
       "[356] *(J1::LinearAlgebra.UniformScaling, J2::LinearAlgebra.UniformScaling) in LinearAlgebra at /Applications/Julia-1.0.app/Contents/Resources/julia/share/julia/stdlib/v1.0/LinearAlgebra/src/uniformscaling.jl:144\n",
       "[357] *(J::LinearAlgebra.UniformScaling, B::BitArray{2}) in LinearAlgebra at /Applications/Julia-1.0.app/Contents/Resources/julia/share/julia/stdlib/v1.0/LinearAlgebra/src/uniformscaling.jl:146\n",
       "[358] *(A::AbstractArray{T,2} where T, J::LinearAlgebra.UniformScaling) in LinearAlgebra at /Applications/Julia-1.0.app/Contents/Resources/julia/share/julia/stdlib/v1.0/LinearAlgebra/src/uniformscaling.jl:147\n",
       "[359] *(a::LinearAlgebra.UniformScaling, b::Union{StaticArray{Tuple{N},T,1} where T where N, StaticArray{Tuple{N,M},T,2} where T where M where N}) in StaticArrays at /Users/abradley/.julia/packages/StaticArrays/mcf7t/src/linalg.jl:50\n",
       "[360] *(J::LinearAlgebra.UniformScaling, A::Union{AbstractArray{T,1}, AbstractArray{T,2}} where T) in LinearAlgebra at /Applications/Julia-1.0.app/Contents/Resources/julia/share/julia/stdlib/v1.0/LinearAlgebra/src/uniformscaling.jl:148\n",
       "[361] *(x::Number, J::LinearAlgebra.UniformScaling) in LinearAlgebra at /Applications/Julia-1.0.app/Contents/Resources/julia/share/julia/stdlib/v1.0/LinearAlgebra/src/uniformscaling.jl:149\n",
       "[362] *(J::LinearAlgebra.UniformScaling, x::Number) in LinearAlgebra at /Applications/Julia-1.0.app/Contents/Resources/julia/share/julia/stdlib/v1.0/LinearAlgebra/src/uniformscaling.jl:150\n",
       "[363] *(R::LinearAlgebra.AbstractRotation{T}, A::Union{AbstractArray{S,1}, AbstractArray{S,2}}) where {T, S} in LinearAlgebra at /Applications/Julia-1.0.app/Contents/Resources/julia/share/julia/stdlib/v1.0/LinearAlgebra/src/givens.jl:10\n",
       "[364] *(A::AbstractArray{T,2}, R::LinearAlgebra.AbstractRotation{S}) where {T, S} in LinearAlgebra at /Applications/Julia-1.0.app/Contents/Resources/julia/share/julia/stdlib/v1.0/LinearAlgebra/src/givens.jl:21\n",
       "[365] *(G1::LinearAlgebra.Givens{T}, G2::LinearAlgebra.Givens{T}) where T in LinearAlgebra at /Applications/Julia-1.0.app/Contents/Resources/julia/share/julia/stdlib/v1.0/LinearAlgebra/src/givens.jl:381\n",
       "[366] *(c::Number, a::Union{LMS, XYZ}) in Colors at /Users/abradley/.julia/packages/Colors/4hvzi/src/algorithms.jl:7\n",
       "[367] *(a::Measures.Measure, b::Number) in Measures at /Users/abradley/.julia/packages/Measures/eNttC/src/operations.jl:47\n",
       "[368] *(a::Number, b::Measures.Measure) in Measures at /Users/abradley/.julia/packages/Measures/eNttC/src/operations.jl:48\n",
       "[369] *(a::Tuple{Vararg{Measures.Measure,N}} where N, b::Number) in Measures at /Users/abradley/.julia/packages/Measures/eNttC/src/point.jl:18\n",
       "[370] *(a::Number, b::Tuple{Vararg{Measures.Measure,N}} where N) in Measures at /Users/abradley/.julia/packages/Measures/eNttC/src/point.jl:19\n",
       "[371] *(m1::Measures.Length{:pct,T} where T, m2::Measures.Length{:mm,Float64}) in Plots at /Users/abradley/.julia/packages/Plots/UQI78/src/layouts.jl:25\n",
       "[372] *(a, b::PyObject) in PyCall at /Users/abradley/.julia/packages/PyCall/0jMpb/src/pyoperators.jl:15\n",
       "[373] *(a, b, c, xs...) in Base at operators.jl:502"
      ]
     },
     "execution_count": 65,
     "metadata": {},
     "output_type": "execute_result"
    }
   ],
   "source": [
    "methods(*)"
   ]
  },
  {
   "cell_type": "code",
   "execution_count": 66,
   "metadata": {},
   "outputs": [
    {
     "data": {
      "text/plain": [
       "CodeInfo(\n",
       "\u001b[90m\u001b[77G│\u001b[1G\u001b[39m\u001b[90m54 \u001b[39m1 ─ %1 = (Base.mul_int)(x, y)\n",
       "\u001b[90m\u001b[77G│\u001b[1G\u001b[39m\u001b[90m   \u001b[39m└──      return %1\n",
       ")"
      ]
     },
     "execution_count": 66,
     "metadata": {},
     "output_type": "execute_result"
    }
   ],
   "source": [
    "@code_lowered 5*5 #what is high-level julia translated into?"
   ]
  },
  {
   "cell_type": "code",
   "execution_count": 67,
   "metadata": {},
   "outputs": [
    {
     "name": "stdout",
     "output_type": "stream",
     "text": [
      "\n",
      "; Function *\n",
      "; Location: int.jl:54\n",
      "define i64 @\"julia_*_24657\"(i64, i64) {\n",
      "top:\n",
      "  %2 = mul i64 %1, %0\n",
      "  ret i64 %2\n",
      "}\n"
     ]
    }
   ],
   "source": [
    "@code_llvm 5*5 #what does the compiler produce?"
   ]
  },
  {
   "cell_type": "code",
   "execution_count": 68,
   "metadata": {},
   "outputs": [
    {
     "data": {
      "text/plain": [
       "CodeInfo(\n",
       "\u001b[90m\u001b[77G│\u001b[1G\u001b[39m\u001b[90m314 \u001b[39m1 ─ %1 = (Base.promote)(x, y)\n",
       "\u001b[90m\u001b[77G│\u001b[1G\u001b[39m\u001b[90m    \u001b[39m│   %2 = (Core._apply)(Base.:*, %1)\n",
       "\u001b[90m\u001b[77G│\u001b[1G\u001b[39m\u001b[90m    \u001b[39m└──      return %2\n",
       ")"
      ]
     },
     "execution_count": 68,
     "metadata": {},
     "output_type": "execute_result"
    }
   ],
   "source": [
    "@code_lowered 5*2.1"
   ]
  },
  {
   "cell_type": "code",
   "execution_count": 69,
   "metadata": {},
   "outputs": [
    {
     "name": "stdout",
     "output_type": "stream",
     "text": [
      "\n",
      "; Function *\n",
      "; Location: promotion.jl:314\n",
      "define double @\"julia_*_30222\"(i64, double) {\n",
      "top:\n",
      "; Function promote; {\n",
      "; Location: promotion.jl:284\n",
      "; Function _promote; {\n",
      "; Location: promotion.jl:261\n",
      "; Function convert; {\n",
      "; Location: number.jl:7\n",
      "; Function Type; {\n",
      "; Location: float.jl:60\n",
      "  %2 = sitofp i64 %0 to double\n",
      ";}}}}\n",
      "; Function *; {\n",
      "; Location: float.jl:399\n",
      "  %3 = fmul double %2, %1\n",
      ";}\n",
      "  ret double %3\n",
      "}\n"
     ]
    }
   ],
   "source": [
    "@code_llvm 5*2.1"
   ]
  },
  {
   "cell_type": "code",
   "execution_count": 70,
   "metadata": {},
   "outputs": [
    {
     "name": "stdout",
     "output_type": "stream",
     "text": [
      "  0.031 ns (0 allocations: 0 bytes)\n"
     ]
    },
    {
     "data": {
      "text/plain": [
       "25"
      ]
     },
     "execution_count": 70,
     "metadata": {},
     "output_type": "execute_result"
    }
   ],
   "source": [
    "#multiply two integers\n",
    "@btime 5*5"
   ]
  },
  {
   "cell_type": "code",
   "execution_count": 71,
   "metadata": {},
   "outputs": [
    {
     "name": "stdout",
     "output_type": "stream",
     "text": [
      "  1.886 ns (0 allocations: 0 bytes)\n"
     ]
    },
    {
     "data": {
      "text/plain": [
       "10.5"
      ]
     },
     "execution_count": 71,
     "metadata": {},
     "output_type": "execute_result"
    }
   ],
   "source": [
    "#multiply a float and an integer\n",
    "@btime 5*2.1"
   ]
  },
  {
   "cell_type": "markdown",
   "metadata": {},
   "source": [
    "Is float multiplication really that much slower?"
   ]
  },
  {
   "cell_type": "code",
   "execution_count": 72,
   "metadata": {},
   "outputs": [
    {
     "name": "stdout",
     "output_type": "stream",
     "text": [
      "  0.031 ns (0 allocations: 0 bytes)\n"
     ]
    },
    {
     "data": {
      "text/plain": [
       "10.5"
      ]
     },
     "execution_count": 72,
     "metadata": {},
     "output_type": "execute_result"
    }
   ],
   "source": [
    "#multiply two floats\n",
    "@btime 5.0*2.1"
   ]
  },
  {
   "cell_type": "markdown",
   "metadata": {},
   "source": [
    "No, we took a hit from promotion. These timing comparisons and code principles apply across the enirety of $\\julia$: "
   ]
  },
  {
   "cell_type": "markdown",
   "metadata": {},
   "source": [
    "<div class=\"alert alert-block alert-warning\"><font color=blue>\n",
    "You are both free to create without concern for data types, and free to optimize so that efficient code is written for you by the compiler once your code is type stable.\n",
    "    </font></div>    \n",
    "    \n",
    "- Note 90\\% of $\\julia$ is written in $\\julia$: the core of julia is setting up a composable type system and multiple dispatch structure for methods. All data types and methods that act on therm are build with the same core language that you are free to extend as you wish!\n",
    "\n",
    "- This is one of the main reasons developers enjoy $\\julia$. \n",
    "\n",
    "- For users: come for the speed, stay for the productivity!"
   ]
  },
  {
   "cell_type": "markdown",
   "metadata": {},
   "source": [
    "## Avoid global scope: functions are key\n",
    "There is one final \"gotcha\" that I need to emphasize: running any sequence of commands straight in the REPL or in a Jupyter cell _can_ lead to a speed penalty that will be immediately fixed by wrapping your code inside a function. This is because for $\\julia$, the command line is at global scope, and the compiler has trouble inferring type information for global variables (unless you declare types for each variable explicitly). The function barrier makes the compiler's job much easier, and should make your code much more usable. \n",
    "\n",
    "In $\\julia$, your writing should always proceed towards wrapping hard-working commands inside functions to get the job done in a fast and modular way that avoids this issue. \n",
    "\n",
    "Happily, creating and modifying functions in $\\julia$ is super-easy!"
   ]
  },
  {
   "cell_type": "markdown",
   "metadata": {},
   "source": [
    "# Array comprehension\n",
    "Julia has absorbed many nice language features that have emerged in different contexts. For example the array comprehension, a nice natural language syntax for building complex arrays of arbitrary size, element by element. (a little slow to evaluate, but clear and easy to write!)"
   ]
  },
  {
   "cell_type": "code",
   "execution_count": 73,
   "metadata": {},
   "outputs": [
    {
     "data": {
      "text/plain": [
       "5×4×3 Array{Int64,3}:\n",
       "[:, :, 1] =\n",
       " 1   4   9  16\n",
       " 2   8  18  32\n",
       " 3  12  27  48\n",
       " 4  16  36  64\n",
       " 5  20  45  80\n",
       "\n",
       "[:, :, 2] =\n",
       " 1   4   9  16\n",
       " 2   8  18  32\n",
       " 3  12  27  48\n",
       " 4  16  36  64\n",
       " 5  20  45  80\n",
       "\n",
       "[:, :, 3] =\n",
       " 1   4   9  16\n",
       " 2   8  18  32\n",
       " 3  12  27  48\n",
       " 4  16  36  64\n",
       " 5  20  45  80"
      ]
     },
     "execution_count": 73,
     "metadata": {},
     "output_type": "execute_result"
    }
   ],
   "source": [
    "B = [i*j^2 for i in 1:5, j in 1:4, k in 1:3]"
   ]
  },
  {
   "cell_type": "code",
   "execution_count": 74,
   "metadata": {},
   "outputs": [
    {
     "data": {
      "text/plain": [
       "2×2 Array{Bool,2}:\n",
       "  true  false\n",
       " false  false"
      ]
     },
     "execution_count": 74,
     "metadata": {},
     "output_type": "execute_result"
    }
   ],
   "source": [
    "truthTable = [i*j for i in [true; false], j in [true; false]]"
   ]
  },
  {
   "cell_type": "code",
   "execution_count": 75,
   "metadata": {},
   "outputs": [
    {
     "data": {
      "text/plain": [
       "kron (generic function with 25 methods)"
      ]
     },
     "execution_count": 75,
     "metadata": {},
     "output_type": "execute_result"
    }
   ],
   "source": [
    "⊗=kron"
   ]
  },
  {
   "cell_type": "code",
   "execution_count": 76,
   "metadata": {},
   "outputs": [],
   "source": [
    "using LinearAlgebra"
   ]
  },
  {
   "cell_type": "code",
   "execution_count": 77,
   "metadata": {},
   "outputs": [
    {
     "data": {
      "text/plain": [
       "2×2 Array{Float64,2}:\n",
       " 1.0  0.0\n",
       " 0.0  1.0"
      ]
     },
     "execution_count": 77,
     "metadata": {},
     "output_type": "execute_result"
    }
   ],
   "source": [
    "a = randn(3,3)\n",
    "b = one(randn(2,2))"
   ]
  },
  {
   "cell_type": "code",
   "execution_count": 78,
   "metadata": {},
   "outputs": [
    {
     "data": {
      "text/plain": [
       "6×6 Array{Float64,2}:\n",
       "  2.04888    0.0       1.07188   0.0       -0.181842   -0.0      \n",
       "  0.0        2.04888   0.0       1.07188   -0.0        -0.181842 \n",
       " -0.149097  -0.0       0.855614  0.0       -0.629326   -0.0      \n",
       " -0.0       -0.149097  0.0       0.855614  -0.0        -0.629326 \n",
       "  0.520474   0.0       0.198172  0.0       -0.0354704  -0.0      \n",
       "  0.0        0.520474  0.0       0.198172  -0.0        -0.0354704"
      ]
     },
     "execution_count": 78,
     "metadata": {},
     "output_type": "execute_result"
    }
   ],
   "source": [
    "a⊗b"
   ]
  },
  {
   "cell_type": "code",
   "execution_count": 79,
   "metadata": {},
   "outputs": [
    {
     "data": {
      "text/plain": [
       "6×6 Array{Float64,2}:\n",
       "  2.04888   1.07188   -0.181842    0.0       0.0       -0.0      \n",
       " -0.149097  0.855614  -0.629326   -0.0       0.0       -0.0      \n",
       "  0.520474  0.198172  -0.0354704   0.0       0.0       -0.0      \n",
       "  0.0       0.0       -0.0         2.04888   1.07188   -0.181842 \n",
       " -0.0       0.0       -0.0        -0.149097  0.855614  -0.629326 \n",
       "  0.0       0.0       -0.0         0.520474  0.198172  -0.0354704"
      ]
     },
     "execution_count": 79,
     "metadata": {},
     "output_type": "execute_result"
    }
   ],
   "source": [
    "b⊗a"
   ]
  },
  {
   "cell_type": "markdown",
   "metadata": {},
   "source": [
    "More introductory topics to explore:\n",
    "- [Conditional evaluation; ternary operator](https://docs.julialang.org/en/v1/manual/control-flow/#man-conditional-evaluation-1)\n",
    "- [Mathematical operators](https://docs.julialang.org/en/v1/base/math/#math-ops-1)"
   ]
  },
  {
   "cell_type": "markdown",
   "metadata": {},
   "source": [
    "More packages to explore:\n",
    " - [DynamicalSystems](https://github.com/JuliaDynamics/DynamicalSystems.jl)\n",
    " - [QuantumOptics](https://github.com/qojulia/QuantumOptics.jl)\n",
    " - [SymPy](https://github.com/JuliaPy/SymPy.jl)\n",
    " - [PGFPlots](https://github.com/JuliaTeX/PGFPlots.jl)"
   ]
  },
  {
   "cell_type": "markdown",
   "metadata": {},
   "source": [
    " ## Juno\n",
    " - Integrated Development Environment based on the wonderful open-source editor [Atom](https://atom.io/).\n",
    " - Great once you get into writing a sizeable amount of code.\n",
    " - Line by line evaluation, plotting, workspace, documentation browser, GitHub integration, etc. "
   ]
  },
  {
   "cell_type": "markdown",
   "metadata": {},
   "source": [
    "<img src=\"media/juno.png\" width=\"600\">"
   ]
  }
 ],
 "metadata": {
  "kernelspec": {
   "display_name": "Julia 1.0.3",
   "language": "julia",
   "name": "julia-1.0"
  },
  "language_info": {
   "file_extension": ".jl",
   "mimetype": "application/julia",
   "name": "julia",
   "version": "1.0.3"
  }
 },
 "nbformat": 4,
 "nbformat_minor": 2
}
