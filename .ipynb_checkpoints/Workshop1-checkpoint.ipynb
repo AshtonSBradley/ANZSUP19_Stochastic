{
 "cells": [
  {
   "cell_type": "markdown",
   "metadata": {},
   "source": [
    "# Stochastic Differential Equations, Quantum Phase Space, and Julia\n",
    "\n",
    "$$\n",
    "\\def\\julia{\\texttt{julia}}\n",
    "\\def\\dashint{{\\int\\!\\!\\!\\!\\!\\!-\\,}}\n",
    "\\def\\infdashint{\\dashint_{\\!\\!\\!-\\infty}^{\\,\\infty}}\n",
    "\\def\\D{\\,{\\rm d}}\n",
    "\\def\\E{{\\rm e}}\n",
    "\\def\\dx{\\D x}\n",
    "\\def\\dt{\\D t}\n",
    "\\def\\dz{\\D z}\n",
    "\\def\\C{{\\mathbb C}}\n",
    "\\def\\R{{\\mathbb R}}\n",
    "\\def\\CC{{\\cal C}}\n",
    "\\def\\HH{{\\cal H}}\n",
    "\\def\\I{{\\rm i}}\n",
    "\\def\\qqqquad{\\qquad\\qquad}\n",
    "\\def\\qqfor{\\qquad\\hbox{for}\\qquad}\n",
    "\\def\\qqwhere{\\qquad\\hbox{where}\\qquad}\n",
    "\\def\\Res_#1{\\underset{#1}{\\rm Res}}\\,\n",
    "\\def\\sech{{\\rm sech}\\,}\n",
    "\\def\\vc#1{{\\mathbf #1}}\n",
    "$$\n",
    "\n",
    "Dr. Ashton Bradley\n",
    "<br>\n",
    "ashton.bradley@otago.ac.nz\n",
    "<br>\n",
    "http://amoqt.otago.ac.nz"
   ]
  },
  {
   "cell_type": "markdown",
   "metadata": {},
   "source": [
    "# Intro to julia"
   ]
  },
  {
   "cell_type": "markdown",
   "metadata": {},
   "source": [
    "This laboratory will serve as an introduction to julia, and provide some essential background for stochastic processes.  "
   ]
  },
  {
   "cell_type": "markdown",
   "metadata": {},
   "source": [
    "## Workshop 1 (1.5 hours): $\\julia$ in a nutshell\n",
    "Getting started in $\\julia$: the basics\n",
    "\n",
    "- Familiarity with $\\julia$ computing environments: REPL, Jupyter, Juno\n",
    "- Variables, functions \n",
    "- Using packages and plotting\n",
    "- How does $\\julia$ solve the two-language problem?\n",
    "\n",
    "References\n",
    "\n",
    "- [julialang.org](https://julialang.org)\n",
    "- [juliaobserver](https://juliaobserver.com)\n",
    "- _Julia: A Fresh Approach to Numerical Computing_, Jeff Bezanson, Alan Edelman, Stefan Karpinski and Viral B. Shah [SIAM Review, __59__, 65–98 (2017)](http://julialang.org/publications/julia-fresh-approach-BEKS.pdf)\n",
    "- [Fun and sometimes useful julia packages](http://amoqt.otago.ac.nz/resources/juliajam)"
   ]
  },
  {
   "cell_type": "markdown",
   "metadata": {},
   "source": [
    "# Motivation: the two-language problem\n",
    "Why another language? \n",
    "\n",
    "- Compiled languages\n",
    "    - Fast execution\n",
    "    - Slow to read/write/debug\n",
    "    - Tend to get isolated from latest conceptual developments \n",
    "- Interpreted languages \n",
    "    - Slow exection\n",
    "    - Easy to read/write/debug\n",
    "    - Not well suited for high performance computing\n",
    "- This is a ___major___ issue in technical computing. \n",
    "- This conflict motivated the development of $\\julia$ at MIT (1.0 released 2018). \n",
    "- [next big thing?](https://www.techrepublic.com/article/is-julia-the-next-big-programming-language-mit-thinks-so-as-version-1-0-lands/)\n",
    "- [Julia joined the \"petaflop club\" in 2017](https://www.hpcwire.com/off-the-wire/julia-joins-petaflop-club/), the only high level scripting language ever to do so."
   ]
  },
  {
   "cell_type": "markdown",
   "metadata": {},
   "source": [
    "## Julia microbenchmarks\n",
    "[https://julialang.org/benchmarks/](https://julialang.org/benchmarks/)"
   ]
  },
  {
   "cell_type": "markdown",
   "metadata": {},
   "source": [
    "<img src=\"media/juliabench.png\" width=\"600\">"
   ]
  },
  {
   "cell_type": "markdown",
   "metadata": {},
   "source": [
    "<img src=\"media/packages.png\" width=\"600\">"
   ]
  },
  {
   "cell_type": "markdown",
   "metadata": {},
   "source": [
    "## Julia observer\n",
    "\n",
    "An up to date package listing is provided at [juliaobserver.com](https://juliaobserver.com/packages)\n",
    "\n",
    "## Language \n",
    "Julia is powered by several unique language innovations that developers love, and I think you will too once you get to know a bit more about them:\n",
    "\n",
    "- Multiple dispatch: methods are not owned by classes.\n",
    "- Duck typing: you can define your own data types by their properties; they translate across all of julia \n",
    "- Different julia modules can call each other without any loss of performance\n",
    "\n",
    "Coming from a different language, you may find a list of [noteworthy differences to other languages](https://docs.julialang.org/en/v0.7.0/manual/noteworthy-differences/)  useful."
   ]
  },
  {
   "cell_type": "markdown",
   "metadata": {},
   "source": [
    "# $\\julia$ environments"
   ]
  },
  {
   "cell_type": "markdown",
   "metadata": {},
   "source": [
    "## Read, Evaluate, Print, Loop (REPL)"
   ]
  },
  {
   "cell_type": "markdown",
   "metadata": {},
   "source": [
    "<img src=\"media/repl.png\" width=\"500\">"
   ]
  },
  {
   "cell_type": "markdown",
   "metadata": {},
   "source": [
    "## Package manager"
   ]
  },
  {
   "cell_type": "markdown",
   "metadata": {},
   "source": [
    "How to access Pkg mode in the REPL\n",
    "```julia\n",
    "julia> ]\n",
    "```\n",
    "\n",
    "To add a package\n",
    "\n",
    "```julia\n",
    "(1.0) pkg> add IJulia \n",
    "```"
   ]
  },
  {
   "cell_type": "markdown",
   "metadata": {},
   "source": [
    "Note that REPL commands are just $\\julia$ commands, so julia REPL and jupyter are identical, except that the Pkg mode can't be accessed in jupyter."
   ]
  },
  {
   "cell_type": "code",
   "execution_count": null,
   "metadata": {},
   "outputs": [],
   "source": [
    "#how to access Pkg commands in jupyter\n",
    "using Pkg\n",
    "pkg\"status\" "
   ]
  },
  {
   "cell_type": "markdown",
   "metadata": {},
   "source": [
    "To load a package\n",
    "```julia\n",
    "julia> using IJulia\n",
    "```"
   ]
  },
  {
   "cell_type": "markdown",
   "metadata": {},
   "source": [
    "`IJulia` provides the jupyter environment for julia. \n",
    "    \n",
    "To launch jupyter, enter this command in the REPL:\n",
    "```julia\n",
    "julia> notebook()\n",
    "```"
   ]
  },
  {
   "cell_type": "markdown",
   "metadata": {},
   "source": [
    "You should now have access to the lectures as jupyter notebooks (no? let me know)."
   ]
  },
  {
   "cell_type": "markdown",
   "metadata": {},
   "source": [
    "# Jupyter\n",
    "Web browser front end calls a $\\julia$ kernel, evaluates, returns result; quite low overhead."
   ]
  },
  {
   "cell_type": "code",
   "execution_count": null,
   "metadata": {},
   "outputs": [],
   "source": [
    "using Plots\n",
    "# set defaults for GR backend\n",
    "gr(titlefontsize=12,grid=false,legend=false,size=(600,200))"
   ]
  },
  {
   "cell_type": "code",
   "execution_count": null,
   "metadata": {},
   "outputs": [],
   "source": [
    "# let's add one useful function (more on this later)\n",
    "linspace(a,b,n) = LinRange(a,b,n) |> collect"
   ]
  },
  {
   "cell_type": "code",
   "execution_count": null,
   "metadata": {},
   "outputs": [],
   "source": [
    "x = linspace(0,10,500);"
   ]
  },
  {
   "cell_type": "code",
   "execution_count": null,
   "metadata": {},
   "outputs": [],
   "source": [
    "#first plot will take a few seconds\n",
    "plot(x,sin.(x)) \n",
    "xlabel!(\"x\");ylabel!(\"sin(x)\")"
   ]
  },
  {
   "cell_type": "markdown",
   "metadata": {},
   "source": [
    "- Dot-calls: extension of Matlab's local array operation syntax.\n",
    "- `xlabel!()`: `!` at the end of the function name is a julia convention that declares: \"modifies the input\", also referred to as a _mutating function_; here the input is the current plot which doesn't neet to be declared. "
   ]
  },
  {
   "cell_type": "code",
   "execution_count": null,
   "metadata": {},
   "outputs": [],
   "source": [
    "plot!(x,cos.(x).^2,fillrange=[zero(x) cos.(x).^2],\n",
    "    c=:blue,alpha=0.3)\n",
    "\n",
    "# line continuation: just break off, mid-command"
   ]
  },
  {
   "cell_type": "code",
   "execution_count": null,
   "metadata": {},
   "outputs": [],
   "source": [
    "z=2; println(z) #more than one command on same line"
   ]
  },
  {
   "cell_type": "code",
   "execution_count": null,
   "metadata": {},
   "outputs": [],
   "source": [
    "println(\"hello world, this is julia. It's a bit like Matlab, Python, R, C, Fortran, Ruby, Haskell, ...\n",
    "    but not really like any other language\")"
   ]
  },
  {
   "cell_type": "markdown",
   "metadata": {},
   "source": [
    "# Calling other languages"
   ]
  },
  {
   "cell_type": "code",
   "execution_count": null,
   "metadata": {},
   "outputs": [],
   "source": [
    "println(\"from julia you can also easily use  libraries from \n",
    "    Python, R, C/Fortran, C++, and Java. \n",
    "    Did I mention that I like \", pi ,\" ?\")"
   ]
  },
  {
   "cell_type": "markdown",
   "metadata": {},
   "source": [
    "For example, a number of special functions can be called via the C library GSL ([GNU Scientific Library](https://github.com/JuliaMath/GSL.jl)):"
   ]
  },
  {
   "cell_type": "code",
   "execution_count": null,
   "metadata": {},
   "outputs": [],
   "source": [
    "#load some wrapper functions that call GSL\n",
    "using GSL"
   ]
  },
  {
   "cell_type": "code",
   "execution_count": null,
   "metadata": {},
   "outputs": [],
   "source": [
    "sf_bessel_J0(0.3)"
   ]
  },
  {
   "cell_type": "markdown",
   "metadata": {},
   "source": [
    "A native $\\julia$ implementation of many special functions can be found in [SpecialFunctions.jl](https://github.com/JuliaMath/SpecialFunctions.jl)"
   ]
  },
  {
   "cell_type": "code",
   "execution_count": null,
   "metadata": {},
   "outputs": [],
   "source": [
    "using SpecialFunctions"
   ]
  },
  {
   "cell_type": "code",
   "execution_count": null,
   "metadata": {},
   "outputs": [],
   "source": [
    "zeta(3) # returns a Float64"
   ]
  },
  {
   "cell_type": "code",
   "execution_count": null,
   "metadata": {},
   "outputs": [],
   "source": [
    "zeta(2.0 + 3.0im) # returns a complex float"
   ]
  },
  {
   "cell_type": "code",
   "execution_count": null,
   "metadata": {},
   "outputs": [],
   "source": [
    "typeof(ans)"
   ]
  },
  {
   "cell_type": "markdown",
   "metadata": {},
   "source": [
    "You can also use [PyCall.jl](https://github.com/JuliaPy/PyCall.jl) to call `python` functions with low overhead:"
   ]
  },
  {
   "cell_type": "code",
   "execution_count": null,
   "metadata": {},
   "outputs": [],
   "source": [
    "using PyCall"
   ]
  },
  {
   "cell_type": "code",
   "execution_count": null,
   "metadata": {},
   "outputs": [],
   "source": [
    "@pyimport math\n",
    "math.sin(math.pi / 4) - sin(pi / 4)  # returns 0.0"
   ]
  },
  {
   "cell_type": "markdown",
   "metadata": {},
   "source": [
    "- A nice feature of jupyter is that we can enter text, latex, and code, all in one easily shareable document. \n",
    "- Open Science! Yay! There are [many other kernels](https://github.com/jupyter/jupyter/wiki/Jupyter-kernels) available for jupyter.\n",
    "- The importance of such an open science standard is highlighted by major scientific discovery of LIGO: the black hole merger data, simulations, and analysis were provided as [jupyter notebooks](https://blog.jupyter.org/congratulations-to-the-ligo-and-virgo-collaborations-from-project-jupyter-5923247be019)."
   ]
  },
  {
   "cell_type": "markdown",
   "metadata": {},
   "source": [
    "- To shift from ___code mode___ to ___markdown mode___, press `ESC`, then `y`.\n",
    "\n",
    "- You can now type text with simple [markdown](https://www.markdownguide.org/cheat-sheet/) syntax, LaTeX in-line $\\langle x\\rangle=\\pi$, and full line equations:\n",
    "$$i\\hbar\\frac{\\partial\\psi}{\\partial t}=\\hat{H}\\psi,$$\n",
    "add [links](http://www.google.com), and drag in images. Not all of latex is supported, but for example, you can\n",
    "\n",
    "\\begin{align}\n",
    "\\partial_t\\psi&=L\\psi\\tag{some equation}\\\\\n",
    "-\\nabla^2\\psi&=\\lambda\\psi\\tag{some other}\n",
    "\\end{align}"
   ]
  },
  {
   "cell_type": "markdown",
   "metadata": {},
   "source": [
    "- To go back to code mode, press `ESC`, then `m`; default is code mode. \n",
    "\n",
    "- A full list of keyboard shortcuts can be found under the help menu above."
   ]
  },
  {
   "cell_type": "markdown",
   "metadata": {},
   "source": [
    "## Cool things you can do in julia"
   ]
  },
  {
   "cell_type": "code",
   "execution_count": null,
   "metadata": {},
   "outputs": [],
   "source": [
    "😸=35.6 #unicode inputs are allowed varables!"
   ]
  },
  {
   "cell_type": "code",
   "execution_count": null,
   "metadata": {},
   "outputs": [],
   "source": [
    "ψ=25 #LaTeX tab completion: type \\psi<tab> to get the greek letter ψ."
   ]
  },
  {
   "cell_type": "code",
   "execution_count": null,
   "metadata": {},
   "outputs": [],
   "source": [
    "ħ = 1.0545718e-34"
   ]
  },
  {
   "cell_type": "code",
   "execution_count": null,
   "metadata": {},
   "outputs": [],
   "source": [
    "#variable precision \n",
    "BigFloat(pi,2000)"
   ]
  },
  {
   "cell_type": "code",
   "execution_count": null,
   "metadata": {},
   "outputs": [],
   "source": [
    "exp(im*BigFloat(pi,2000))+1"
   ]
  },
  {
   "cell_type": "code",
   "execution_count": null,
   "metadata": {},
   "outputs": [],
   "source": [
    "typeof(BigFloat(pi))"
   ]
  },
  {
   "cell_type": "markdown",
   "metadata": {},
   "source": [
    "Here \"BigFloat\" is both \n",
    "\n",
    "- a method to perform type conversion, and \n",
    "- the name of a data type. \n",
    "\n",
    "These two things are defined separately."
   ]
  },
  {
   "cell_type": "code",
   "execution_count": null,
   "metadata": {},
   "outputs": [],
   "source": [
    "mypi = BigFloat(pi,64)"
   ]
  },
  {
   "cell_type": "code",
   "execution_count": null,
   "metadata": {},
   "outputs": [],
   "source": [
    "typeof(mypi) <: AbstractFloat"
   ]
  },
  {
   "cell_type": "markdown",
   "metadata": {},
   "source": [
    "There is an abstract type system that you can extend as you like."
   ]
  },
  {
   "cell_type": "code",
   "execution_count": null,
   "metadata": {},
   "outputs": [],
   "source": [
    "?BigFloat "
   ]
  },
  {
   "cell_type": "markdown",
   "metadata": {},
   "source": [
    "## Arrays and functions"
   ]
  },
  {
   "cell_type": "code",
   "execution_count": null,
   "metadata": {},
   "outputs": [],
   "source": [
    "x = randn(6)"
   ]
  },
  {
   "cell_type": "code",
   "execution_count": null,
   "metadata": {},
   "outputs": [],
   "source": [
    "x[2] # accessing an element of an array: [] vs ()"
   ]
  },
  {
   "cell_type": "code",
   "execution_count": null,
   "metadata": {},
   "outputs": [],
   "source": [
    "x^2"
   ]
  },
  {
   "cell_type": "code",
   "execution_count": null,
   "metadata": {},
   "outputs": [],
   "source": [
    "x.^2 # a dot-call: element-wise operations"
   ]
  },
  {
   "cell_type": "code",
   "execution_count": null,
   "metadata": {},
   "outputs": [],
   "source": [
    "# let's define a function\n",
    "f(x) = x^3-x+pi"
   ]
  },
  {
   "cell_type": "code",
   "execution_count": null,
   "metadata": {},
   "outputs": [],
   "source": [
    "f.(x)"
   ]
  },
  {
   "cell_type": "markdown",
   "metadata": {},
   "source": [
    "same result without passing to a function:"
   ]
  },
  {
   "cell_type": "code",
   "execution_count": null,
   "metadata": {},
   "outputs": [],
   "source": [
    "x.^3 .-x.+pi #manually dot all operations that will act on arrays element by element"
   ]
  },
  {
   "cell_type": "code",
   "execution_count": null,
   "metadata": {},
   "outputs": [],
   "source": [
    "@. x^3-x+pi # the macro @. will dot-the-lot."
   ]
  },
  {
   "cell_type": "markdown",
   "metadata": {},
   "source": [
    "By dotting the function call, `f.(x)`, the dot is applied to all operations."
   ]
  },
  {
   "cell_type": "markdown",
   "metadata": {},
   "source": [
    "### Two-dimensional example"
   ]
  },
  {
   "cell_type": "code",
   "execution_count": null,
   "metadata": {},
   "outputs": [],
   "source": [
    "f2(x,y) = x^3-y+pi"
   ]
  },
  {
   "cell_type": "code",
   "execution_count": null,
   "metadata": {},
   "outputs": [],
   "source": [
    "y = x"
   ]
  },
  {
   "cell_type": "code",
   "execution_count": null,
   "metadata": {},
   "outputs": [],
   "source": [
    "f2(x,y) #(oops!)"
   ]
  },
  {
   "cell_type": "code",
   "execution_count": null,
   "metadata": {},
   "outputs": [],
   "source": [
    "f2.(x,y) #acts on each element of column vectors x, y"
   ]
  },
  {
   "cell_type": "code",
   "execution_count": null,
   "metadata": {},
   "outputs": [],
   "source": [
    "f2.(x,y') #broadcasts each element of x along y, and of y along x"
   ]
  },
  {
   "cell_type": "markdown",
   "metadata": {},
   "source": [
    "This is a beautiful feature of $\\julia$ due to Steven Johnson (MIT, of FFTW fame). It goes quite deeply into the language, allowing you to create \"fused kernels\", compiling many dot-calls together into a single highly efficient operation acting locally in memory. "
   ]
  },
  {
   "cell_type": "markdown",
   "metadata": {},
   "source": [
    "# Memory and function calls\n",
    "It is worth emphasizing at this point that one of the great advantages of $\\julia$ is that it allows low-level access to memory, giving pathways to overcome one of the main bottleknecks of interpreted languages. A major deficiency  of other high-level languages such as Matlab is that function calls are slowed down by temporary memory allocations. \n",
    "\n",
    "## Writing in-place\n",
    "If we want to do a calculation and write the output in-place in memory"
   ]
  },
  {
   "cell_type": "code",
   "execution_count": null,
   "metadata": {},
   "outputs": [],
   "source": [
    "using BenchmarkTools "
   ]
  },
  {
   "cell_type": "code",
   "execution_count": null,
   "metadata": {},
   "outputs": [],
   "source": [
    "x=randn(10000);"
   ]
  },
  {
   "cell_type": "code",
   "execution_count": null,
   "metadata": {},
   "outputs": [],
   "source": [
    "#let's pre-allocate somwhere to write the output\n",
    "z = f2.(x,x');"
   ]
  },
  {
   "cell_type": "code",
   "execution_count": null,
   "metadata": {},
   "outputs": [],
   "source": [
    "# do many calls, and return average execution time, and memory allocations\n",
    "@btime z = f2.(x,x');"
   ]
  },
  {
   "cell_type": "markdown",
   "metadata": {},
   "source": [
    "So far this is an allocating call, requiring a temporary allocation for the result, before finally writing the result to `z`. \n",
    "\n",
    "Now let's write the result directly to memory, the $\\julia$ way:"
   ]
  },
  {
   "cell_type": "code",
   "execution_count": null,
   "metadata": {},
   "outputs": [],
   "source": [
    "@btime z .= f2.(x,x');"
   ]
  },
  {
   "cell_type": "markdown",
   "metadata": {},
   "source": [
    "The calculation is basically allocation free, with a significant speed up. In ambitious physics simulations, this can translate into much larger gains in execution speed."
   ]
  },
  {
   "cell_type": "markdown",
   "metadata": {},
   "source": [
    "This is probably a good time to point out that \n",
    "\n",
    "- In $\\julia$ there is no speed advantage to \"vectorizing\" your code. \n",
    "- If you prefer to write your own loops, you will get native C speed in $\\julia$.\n",
    "- By using dot-calls, you will get you very close to the same speed, while maintaining the clarity of vectorized code. "
   ]
  },
  {
   "cell_type": "markdown",
   "metadata": {},
   "source": [
    "# Loops, iterators"
   ]
  },
  {
   "cell_type": "code",
   "execution_count": null,
   "metadata": {},
   "outputs": [],
   "source": [
    "for j=1:10\n",
    "    println(\"j is $j\")\n",
    "end"
   ]
  },
  {
   "cell_type": "code",
   "execution_count": null,
   "metadata": {},
   "outputs": [],
   "source": [
    "# an interator\n",
    "n = 1:30"
   ]
  },
  {
   "cell_type": "code",
   "execution_count": null,
   "metadata": {},
   "outputs": [],
   "source": [
    "typeof(n) #not an Array"
   ]
  },
  {
   "cell_type": "code",
   "execution_count": null,
   "metadata": {},
   "outputs": [],
   "source": [
    "# a simple function with type conversion using redirection\n",
    "sumton(n) = n*(n+1)/2 |> Int #or, better: |> typeof(n) "
   ]
  },
  {
   "cell_type": "code",
   "execution_count": null,
   "metadata": {},
   "outputs": [],
   "source": [
    "sumton(3)"
   ]
  },
  {
   "cell_type": "code",
   "execution_count": null,
   "metadata": {},
   "outputs": [],
   "source": [
    "sumton(3.1)"
   ]
  },
  {
   "cell_type": "code",
   "execution_count": null,
   "metadata": {},
   "outputs": [],
   "source": [
    "# a for loop with string inerpolation\n",
    "for j in n\n",
    "    println(\"sum up to j: j = $j; julia gives $(sum(n[1:j])); Euler gives $(sumton(j))\")\n",
    "end"
   ]
  },
  {
   "cell_type": "markdown",
   "metadata": {},
   "source": [
    "## Geometric series\n",
    "Let's make a little function to evaluate the geometric series up to a given polynomial degree $N-1$."
   ]
  },
  {
   "cell_type": "markdown",
   "metadata": {},
   "source": [
    "__Exercise:__ Write a function to sum `N` terms in the geometric series, for input `x`."
   ]
  },
  {
   "cell_type": "code",
   "execution_count": 1,
   "metadata": {},
   "outputs": [
    {
     "data": {
      "text/plain": [
       "geometric (generic function with 1 method)"
      ]
     },
     "execution_count": 1,
     "metadata": {},
     "output_type": "execute_result"
    }
   ],
   "source": [
    "# write a function to add up the terms\n",
    "function geometric(x,N)\n",
    "    y=zero(x)\n",
    "    for j=0:N-1\n",
    "        y+=x^j\n",
    "    end\n",
    "    return y\n",
    "end"
   ]
  },
  {
   "cell_type": "markdown",
   "metadata": {},
   "source": [
    "(note we haven't used any type annotations!)"
   ]
  },
  {
   "cell_type": "markdown",
   "metadata": {},
   "source": [
    "and compare with the analytical result:\n",
    "<div class=\"alert alert-block alert-warning\"><font color=blue>\n",
    "$$S_N=\\sum_{k=0}^{N-1}x^k=1+x+x^2+x^3\\dots+x^{N-1}=\\frac{1-x^N}{1-x}$$\n",
    "</font></div>"
   ]
  },
  {
   "cell_type": "code",
   "execution_count": 2,
   "metadata": {},
   "outputs": [
    {
     "data": {
      "text/plain": [
       "geomExact (generic function with 1 method)"
      ]
     },
     "execution_count": 2,
     "metadata": {},
     "output_type": "execute_result"
    }
   ],
   "source": [
    "geomExact(x,N)=(1-x^N)/(1-x)"
   ]
  },
  {
   "cell_type": "markdown",
   "metadata": {},
   "source": [
    "A note on compilation and evaluation\n",
    " - first call with particular data type triggers $\\julia$ to compile fast code.\n",
    " - all later calls with the same type will get fast execution"
   ]
  },
  {
   "cell_type": "markdown",
   "metadata": {},
   "source": [
    "Let's time the first call:"
   ]
  },
  {
   "cell_type": "code",
   "execution_count": 3,
   "metadata": {},
   "outputs": [
    {
     "name": "stdout",
     "output_type": "stream",
     "text": [
      "  0.013478 seconds (14.06 k allocations: 750.082 KiB)\n"
     ]
    },
    {
     "data": {
      "text/plain": [
       "1.1111111111111112"
      ]
     },
     "execution_count": 3,
     "metadata": {},
     "output_type": "execute_result"
    }
   ],
   "source": [
    "@time geometric(.1,1000) #compile"
   ]
  },
  {
   "cell_type": "markdown",
   "metadata": {},
   "source": [
    "Now $\\julia$ has compiled efficient code for the types we passed (not the values), i.e. Float64 and Int64"
   ]
  },
  {
   "cell_type": "code",
   "execution_count": 4,
   "metadata": {},
   "outputs": [
    {
     "name": "stdout",
     "output_type": "stream",
     "text": [
      "  0.000051 seconds (5 allocations: 176 bytes)\n"
     ]
    },
    {
     "data": {
      "text/plain": [
       "1.1111111111111112"
      ]
     },
     "execution_count": 4,
     "metadata": {},
     "output_type": "execute_result"
    }
   ],
   "source": [
    "@time geometric(.1,1000) # ~C speed!"
   ]
  },
  {
   "cell_type": "code",
   "execution_count": 5,
   "metadata": {},
   "outputs": [
    {
     "ename": "LoadError",
     "evalue": "UndefVarError: @btime not defined",
     "output_type": "error",
     "traceback": [
      "UndefVarError: @btime not defined",
      ""
     ]
    }
   ],
   "source": [
    "@btime geometric(.1,1000) # a more reliable measure of timing"
   ]
  },
  {
   "cell_type": "markdown",
   "metadata": {},
   "source": [
    "Our two functions should achieve the same result to numerical precision"
   ]
  },
  {
   "cell_type": "code",
   "execution_count": 6,
   "metadata": {},
   "outputs": [
    {
     "data": {
      "text/plain": [
       "(31.74824973581979, 31.748249735819783)"
      ]
     },
     "execution_count": 6,
     "metadata": {},
     "output_type": "execute_result"
    }
   ],
   "source": [
    "x = 0.97\n",
    "N = 100\n",
    "geometric(x,N),geomExact(x,N)"
   ]
  },
  {
   "cell_type": "markdown",
   "metadata": {},
   "source": [
    "In this example, \"numerical precision\" means about 1e-14 due to accumulated floating point error:"
   ]
  },
  {
   "cell_type": "code",
   "execution_count": 7,
   "metadata": {},
   "outputs": [
    {
     "data": {
      "text/plain": [
       "true"
      ]
     },
     "execution_count": 7,
     "metadata": {},
     "output_type": "execute_result"
    }
   ],
   "source": [
    "isapprox(geometric(x,N),geomExact(x,N),atol=1e-14)"
   ]
  },
  {
   "cell_type": "markdown",
   "metadata": {},
   "source": [
    "Notice we can dot some or all of the arguments:"
   ]
  },
  {
   "cell_type": "code",
   "execution_count": 8,
   "metadata": {},
   "outputs": [
    {
     "data": {
      "text/plain": [
       "3-element Array{Float64,1}:\n",
       " 1.1111111111111112\n",
       " 1.25              \n",
       " 1.4285714285714288"
      ]
     },
     "execution_count": 8,
     "metadata": {},
     "output_type": "execute_result"
    }
   ],
   "source": [
    "geometric.([0.1; 0.2; 0.3],100) "
   ]
  },
  {
   "cell_type": "code",
   "execution_count": 9,
   "metadata": {},
   "outputs": [
    {
     "data": {
      "text/plain": [
       "1×4 Array{Float64,2}:\n",
       " 3.23917  3.33067  3.33326  3.33333"
      ]
     },
     "execution_count": 9,
     "metadata": {},
     "output_type": "execute_result"
    }
   ],
   "source": [
    "geometric.(0.7,[10 20 30 100]) "
   ]
  },
  {
   "cell_type": "code",
   "execution_count": 10,
   "metadata": {},
   "outputs": [
    {
     "data": {
      "text/plain": [
       "3×4 Array{Float64,2}:\n",
       " 1.11  1.11111  1.11111  1.11111\n",
       " 1.24  1.25     1.25     1.25   \n",
       " 2.19  3.33067  3.33326  3.33333"
      ]
     },
     "execution_count": 10,
     "metadata": {},
     "output_type": "execute_result"
    }
   ],
   "source": [
    "geometric.([0.1; 0.2; 0.7],[3 20 30 100]) "
   ]
  },
  {
   "cell_type": "markdown",
   "metadata": {},
   "source": [
    "# Miltiple dispatch\n",
    "This is really the key language feature the sets $\\julia$ apart from other technical computing languages. \n",
    "- Methods are not owned by classes\n",
    "- Operator overloading is ubiquitous and tied to data type\n",
    "- Types can be extended at will"
   ]
  },
  {
   "cell_type": "code",
   "execution_count": null,
   "metadata": {},
   "outputs": [],
   "source": [
    "methods(*)"
   ]
  },
  {
   "cell_type": "code",
   "execution_count": null,
   "metadata": {},
   "outputs": [],
   "source": [
    "@code_lowered 5*5 #what is high-level julia translated into?"
   ]
  },
  {
   "cell_type": "code",
   "execution_count": null,
   "metadata": {},
   "outputs": [],
   "source": [
    "@code_llvm 5*5 #what does the compiler produce?"
   ]
  },
  {
   "cell_type": "code",
   "execution_count": null,
   "metadata": {},
   "outputs": [],
   "source": [
    "@code_lowered 5*2.1"
   ]
  },
  {
   "cell_type": "code",
   "execution_count": null,
   "metadata": {},
   "outputs": [],
   "source": [
    "@code_llvm 5*2.1"
   ]
  },
  {
   "cell_type": "code",
   "execution_count": null,
   "metadata": {},
   "outputs": [],
   "source": [
    "#multiply two integers\n",
    "@btime 5*5"
   ]
  },
  {
   "cell_type": "code",
   "execution_count": null,
   "metadata": {},
   "outputs": [],
   "source": [
    "#multiply a float and an integer\n",
    "@btime 5*2.1"
   ]
  },
  {
   "cell_type": "markdown",
   "metadata": {},
   "source": [
    "Is float multiplication really that much slower?"
   ]
  },
  {
   "cell_type": "code",
   "execution_count": null,
   "metadata": {},
   "outputs": [],
   "source": [
    "#multiply two floats\n",
    "@btime 5.0*2.1"
   ]
  },
  {
   "cell_type": "markdown",
   "metadata": {},
   "source": [
    "These timing comparisons and code principles apply across the enirety of $\\julia$: "
   ]
  },
  {
   "cell_type": "markdown",
   "metadata": {},
   "source": [
    "<div class=\"alert alert-block alert-warning\"><font color=blue>\n",
    "You are both free to create without concern for data types, and free to optimize so that efficient code is written for you by the compiler once your code is type stable.\n",
    "    </font></div>    \n",
    "    \n",
    "- Note 90\\% of $\\julia$ is written in $\\julia$: the core of julia is setting up a composable type system and multiple dispatch structure for methods. All data types and methods that act on therm are build with the same core language that you are free to extend as you wish!\n",
    "\n",
    "- This is one of the main reasons developers enjoy $\\julia$. \n",
    "\n",
    "- For users: come for the speed, stay for the productivity!"
   ]
  },
  {
   "cell_type": "markdown",
   "metadata": {},
   "source": [
    "# Array comprehension\n",
    "Julia has absorbed many nice language features that have emerged in different contexts. For example the array comprehension, a nice natural language syntax for building complex arrays of arbitrary size, element by element. (a little slow to evaluate, but clear and easy to write!)"
   ]
  },
  {
   "cell_type": "code",
   "execution_count": null,
   "metadata": {},
   "outputs": [],
   "source": [
    "B = [i*j^2 for i in 1:5, j in 1:4, k in 1:3]"
   ]
  },
  {
   "cell_type": "code",
   "execution_count": null,
   "metadata": {},
   "outputs": [],
   "source": [
    "truthTable = [i*j for i in [true; false], j in [true; false]]"
   ]
  },
  {
   "cell_type": "code",
   "execution_count": null,
   "metadata": {},
   "outputs": [],
   "source": [
    "⊗=kron"
   ]
  },
  {
   "cell_type": "code",
   "execution_count": null,
   "metadata": {},
   "outputs": [],
   "source": [
    "using LinearAlgebra"
   ]
  },
  {
   "cell_type": "code",
   "execution_count": null,
   "metadata": {},
   "outputs": [],
   "source": [
    "a = randn(3,3)\n",
    "b = one(randn(2,2))"
   ]
  },
  {
   "cell_type": "code",
   "execution_count": null,
   "metadata": {},
   "outputs": [],
   "source": [
    "a⊗b"
   ]
  },
  {
   "cell_type": "code",
   "execution_count": null,
   "metadata": {},
   "outputs": [],
   "source": [
    "b⊗a"
   ]
  },
  {
   "cell_type": "markdown",
   "metadata": {},
   "source": [
    "More introductory topics to explore:\n",
    "- [Conditional evaluation; ternary operator](https://docs.julialang.org/en/v1/manual/control-flow/#man-conditional-evaluation-1)\n",
    "- [Mathematical operators](https://docs.julialang.org/en/v1/base/math/#math-ops-1)"
   ]
  },
  {
   "cell_type": "markdown",
   "metadata": {},
   "source": [
    "More packages to explore:\n",
    " - [DynamicalSystems](https://github.com/JuliaDynamics/DynamicalSystems.jl)\n",
    " - [QuantumOptics](https://github.com/qojulia/QuantumOptics.jl)\n",
    " - [SymPy](https://github.com/JuliaPy/SymPy.jl)\n",
    " - [PGFPlots](https://github.com/JuliaTeX/PGFPlots.jl)"
   ]
  },
  {
   "cell_type": "markdown",
   "metadata": {},
   "source": [
    " ## Juno\n",
    " - Integrated Development Environment based on the wonderful open-source editor [Atom](https://atom.io/).\n",
    " - Great once you get into writing a sizeable amount of code.\n",
    " - Line by line evaluation, plotting, workspace, documentation browser, GitHub integration, etc. "
   ]
  },
  {
   "cell_type": "markdown",
   "metadata": {},
   "source": [
    "<img src=\"media/juno.png\" width=\"600\">"
   ]
  }
 ],
 "metadata": {
  "kernelspec": {
   "display_name": "Julia 1.0.3",
   "language": "julia",
   "name": "julia-1.0"
  },
  "language_info": {
   "file_extension": ".jl",
   "mimetype": "application/julia",
   "name": "julia",
   "version": "1.0.3"
  }
 },
 "nbformat": 4,
 "nbformat_minor": 2
}
