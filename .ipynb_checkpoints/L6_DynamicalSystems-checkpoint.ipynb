{
 "cells": [
  {
   "cell_type": "markdown",
   "metadata": {},
   "source": [
    "$$\n",
    "\\def\\I{{\\rm i}}\n",
    "\\def\\qq{\\qquad\\qquad}\n",
    "\\def\\qfor{\\qquad\\hbox{for}\\qquad}\n",
    "\\def\\qwhere{\\qquad\\hbox{where}\\qquad}\n",
    "\\def\\ale#1{\\begin{align}#1\\end{align}}\n",
    "\\def\\em{\\epsilon_m}\n",
    "\\def\\unit#1{{\\rm #1}}\n",
    "$$\n",
    "# PHSI 365: Computational Physics \n",
    "Dr. Ashton Bradley\n",
    "<br>\n",
    "Room 416\n",
    "<br>\n",
    "ashton.bradley@otago.ac.nz\n",
    "<br>\n",
    "\n",
    "Lab demonstrators: Luke Traynor, Xiaoquan Yu\n",
    "<br>\n",
    "Website: Blackboard\n",
    "<br>\n",
    "Class reps: Chris Hayton, Felix Cook"
   ]
  },
  {
   "cell_type": "markdown",
   "metadata": {},
   "source": [
    "# Dynamical Systems\n",
    "## Outline\n",
    "- Predator-Prey model (Lotka-Volterra system)\n",
    "- Steady states (fixed points)\n",
    "- Linearisation, and its failure\n",
    "- Numerical integration of ODE's\n",
    "- Interacting with your resuts   "
   ]
  },
  {
   "cell_type": "markdown",
   "metadata": {},
   "source": [
    "# Predator-Prey Model"
   ]
  },
  {
   "attachments": {},
   "cell_type": "markdown",
   "metadata": {},
   "source": [
    "<div style=\"width: 200px;\">![Rabbit_in_montana.jpg](attachment:Rabbit_in_montana.jpg)</div>"
   ]
  },
  {
   "attachments": {},
   "cell_type": "markdown",
   "metadata": {},
   "source": [
    "<div style=\"width: 200px;\">![220px-Black_and_White_Wolves.jpg](attachment:220px-Black_and_White_Wolves.jpg)</div>"
   ]
  },
  {
   "cell_type": "markdown",
   "metadata": {},
   "source": [
    "A classical problem in population dynamics is the so-called predator-prey system described by the famous [Lotka-Volterra equations](https://en.wikipedia.org/wiki/Lotka–Volterra_equations). \n",
    "\n",
    "Aswell as being interesting in its own right, this system forms a wonderful testing ground for us to learn some very general techniques of numerical solution and analysis. \n",
    "\n",
    "## Physical System\n",
    "### Rabbits\n",
    "Consider a population of rabbits, $r(t)$, evolving in time due to forces in its environment. \n",
    "\n",
    "There are two important effects:\n",
    "\n",
    "1. The reproductive growth rate $\\lambda$.\n",
    "2. The natural decay rate $\\gamma$ due to predation by wolves. \n",
    "\n",
    "It is assumed that the rabbits don't live long enough to die of old age, but have population decay rate determined by the number of wolves. \n",
    "### Wolves\n",
    "The wolves on the other hand, being apex predators, are assumed to die of old age, and to have reproductive growth rate depending on the abundance of their food supply, the rabbits.\n",
    "\n",
    "The population $w(t)$ is thus altered by two main affects: \n",
    "\n",
    "1. Reproductive growth rate $\\kappa$\n",
    "2. Natural decay rate due to old age $\\beta$.\n",
    "\n",
    "## Equations of motion\n",
    "The **Lotka-Volterra equations** for this system take the form:\n",
    "<div class=\"alert alert-block alert-warning\">\n",
    "<font color=blue>\n",
    "\\begin{align}\n",
    "\\frac{dr}{dt}&=\\lambda r - \\gamma wr\\\\\n",
    "\\frac{dw}{dt}&=-\\beta w + \\kappa rw\\tag{1}\n",
    "\\end{align}\n",
    "</font>\n",
    "</div>\n",
    "The solutions of this two-variable system of coupled **nonlinear** equations tells us everything about our simple model for population dynamics.  "
   ]
  },
  {
   "cell_type": "markdown",
   "metadata": {},
   "source": [
    "## Analysis\n",
    "Of course, we can go ahead numerically integrate the equations and examine the solutions. \n",
    "\n",
    "To do that successfully we also need to understand the physical meaning of different initial conditions.\n",
    "\n",
    "Before we do that, we should ask:\n",
    "\n",
    "1. Are there any regimes that we can describe analytically?\n",
    "2. Are there any obvious sanity checks for our results?\n",
    "\n",
    "The first question to answer is: what are the restrictions on the coeffecients in order that our equations describe the rabbit-wolf system? \n",
    "\n",
    "A brief inspection should reveal that we require $\\beta, \\gamma, \\kappa, \\lambda$ all real and positive for the equations of motion to correspond with our conceptual formulation of the model. \n",
    "- What goes wrong with the model if $\\gamma <0$?\n",
    "\n",
    "The second question for any system of time-evolution equations is the role of initial conditions. What is a meaningful initial condition for our system? \n",
    "### Stationary solutions (fixed-points)\n",
    "A very useful approach is to look for stationary solutions of the equations of motion. \n",
    "\n",
    "That is, we seek *time-independent* solutions $w(t)\\equiv\\bar w$, $r(t)\\equiv\\bar r$ of the equations of motion. \n",
    "\n",
    "Assuming such solutions exist, when the populations reach these special values, all of the growth and decay processes altering the rabbit and wolf populations are in perfect balance. \n",
    "\n",
    "Such fixed-point solutions are non-trivial as our equations of motion are nonlinear.\n",
    "\n",
    "By *definition*, the fixed-point populations $\\bar r, \\bar w$ are solutions of the time-independent equations under the condition that $dr/dt=dw/dt\\equiv 0$, in other words, we should solve the simpler system:\n",
    "<div class=\"alert alert-block alert-warning\">\n",
    "<font color=blue>\n",
    "\\begin{align}\n",
    "0&=\\lambda \\bar r - \\gamma \\bar w\\bar r\\\\\n",
    "0&=-\\beta \\bar w + \\kappa \\bar r\\bar w\\tag{2}\n",
    "\\end{align}\n",
    "</font>\n",
    "</div>\n",
    "\n",
    "with solutions\n",
    "\\begin{align}\n",
    "\\bar r&=\\frac{\\beta}{\\kappa} \\\\\n",
    "\\bar w&=\\frac{\\lambda}{\\gamma}\\tag{3}\n",
    "\\end{align}\n",
    "\n",
    "The fixed-point solutions will play a central role in undertanding all of the complicated time dynamics that can occur in the rabbit-wolf system. \n",
    "\n",
    "We can interpret these populations as occuring due to a competition between the primary forces acting on each population\n",
    "- Why does the decay rate of rabbits, $\\kappa$, not appear in the steady-state solution for $w(t)$?"
   ]
  },
  {
   "cell_type": "markdown",
   "metadata": {},
   "source": [
    "# Numerical solution\n",
    "Let's solve the equations of motion. We could write our own integrators to do this, but at this point we are going to use this opportunity to get familiar with some existing Julia packages, and the process of using Julia."
   ]
  },
  {
   "cell_type": "code",
   "execution_count": null,
   "metadata": {},
   "outputs": [],
   "source": [
    "#requires (only required the first time you install any of these packages)\n",
    "#ENV[\"PYTHON\"]=\"\"; # make sure we use containerised miniconda\n",
    "#Pkg.add(\"PyPlot\") # Matlab-esque plotting\n",
    "#Pkg.add(\"Interact\") # interact with your results\n",
    "#Pkg.add(\"DifferentialEquations\") # a LARGE meta-package. Will take a while to install and compile the first time"
   ]
  },
  {
   "cell_type": "code",
   "execution_count": 1,
   "metadata": {},
   "outputs": [],
   "source": [
    "using DifferentialEquations, PyPlot"
   ]
  },
  {
   "cell_type": "code",
   "execution_count": 2,
   "metadata": {},
   "outputs": [
    {
     "name": "stdout",
     "output_type": "stream",
     "text": [
      "  4.095775 seconds (5.78 M allocations: 740.971 MiB, 2.49% gc time)\n"
     ]
    }
   ],
   "source": [
    "#system parameters\n",
    "λ = .7   # rabbit growth\n",
    "γ = 0.4  # rabbit loss\n",
    "κ = 0.3  # wolf growth\n",
    "β = 1.2  # wolf loss\n",
    "\n",
    "#define the equations of motion\n",
    "function lotkavolterra(du,u,p,t)\n",
    "    du[1] =  λ*u[1] - γ*u[2]*u[1]\n",
    "    du[2] = -β*u[2] + κ*u[1]*u[2]\n",
    "end\n",
    "\n",
    "#Sanity check: let us verify that if we start at a fixed point, it is really a stationary solution\n",
    "r̄ = β/κ\n",
    "w̄ = λ/γ\n",
    "u0 = [r̄ ; w̄]\n",
    "ti = 0.0\n",
    "tf = .2\n",
    "Nt = 100\n",
    "tspan = (ti,tf)\n",
    "t = collect(linspace(ti,tf,Nt))\n",
    "\n",
    "#define the problem type\n",
    "prob = ODEProblem(lotkavolterra,u0,tspan)\n",
    "\n",
    "#solve the problem, saving at specified time points\n",
    "@time sol = solve(prob,saveat=t);"
   ]
  },
  {
   "cell_type": "code",
   "execution_count": 3,
   "metadata": {},
   "outputs": [
    {
     "name": "stdout",
     "output_type": "stream",
     "text": [
      "  0.000223 seconds (2.03 k allocations: 72.563 KiB)\n"
     ]
    }
   ],
   "source": [
    "#solve the problem, saving at specified time points\n",
    "@time sol = solve(prob,saveat=t);"
   ]
  },
  {
   "cell_type": "code",
   "execution_count": 4,
   "metadata": {},
   "outputs": [
    {
     "data": {
      "image/png": "[encoded data removed]",
      "text/plain": [
       "PyPlot.Figure(PyObject <matplotlib.figure.Figure object at 0x144def050>)"
      ]
     },
     "metadata": {},
     "output_type": "display_data"
    },
    {
     "name": "stdout",
     "output_type": "stream",
     "text": [
      "r̄ = 4.0\n",
      "w̄ = 1.7499999999999998\n"
     ]
    }
   ],
   "source": [
    "r = sol[1,:]; w = sol[2,:]\n",
    "#plot the solution\n",
    "figure(figsize=(6,2))\n",
    "plot(t,r);plot(t,w)\n",
    "xlabel(L\"t\");ylabel(\"population\");legend([\"rabbits\",\"wolves\"])\n",
    "ylim([0., 5.]);\n",
    "println(\"r̄ = \",r̄); println(\"w̄ = \",w̄);"
   ]
  },
  {
   "cell_type": "markdown",
   "metadata": {},
   "source": [
    "## Steady-state: small perturbations"
   ]
  },
  {
   "cell_type": "code",
   "execution_count": 5,
   "metadata": {},
   "outputs": [
    {
     "name": "stdout",
     "output_type": "stream",
     "text": [
      "  0.000589 seconds (4.61 k allocations: 141.188 KiB)\n"
     ]
    }
   ],
   "source": [
    "#parameters\n",
    "λ = .7  # rabbit growth\n",
    "γ = 0.4  # rabbit loss\n",
    "κ = 0.3  # wolf growth\n",
    "β = 1.2  # wolf loss\n",
    "\n",
    "#what happens if the rabbits and wolves start near, but not exactly at, a fixed point?\n",
    "ϵ = .1\n",
    "u0 = [β/κ + ϵ ; λ/γ - ϵ] #one slightly larger, one slightly smaller\n",
    "ti = 0.0\n",
    "tf = 50.0\n",
    "Nt = 200\n",
    "tspan = (ti,tf)\n",
    "t = collect(linspace(ti,tf,Nt))\n",
    "\n",
    "prob = ODEProblem(lotkavolterra,u0,tspan)\n",
    "@time sol = solve(prob,saveat=t);\n",
    "\n",
    "#pull the time evolution out of the ODE solver\n",
    "r = sol[1,:]; w = sol[2,:];"
   ]
  },
  {
   "cell_type": "code",
   "execution_count": 6,
   "metadata": {},
   "outputs": [
    {
     "data": {
      "image/png": "[encoded data removed]",
      "text/plain": [
       "PyPlot.Figure(PyObject <matplotlib.figure.Figure object at 0x135a394d0>)"
      ]
     },
     "metadata": {},
     "output_type": "display_data"
    }
   ],
   "source": [
    "figure(figsize=(6,3))\n",
    "plot(t,r,color=\"blue\")\n",
    "plot(t,w,color=\"red\")\n",
    "plot(t,r̄*ones(t),color=\"blue\",lw=.5)\n",
    "plot(t,w̄*ones(t),color=\"red\",lw=.5)\n",
    "plot(0.0,u0[1],\"o\",color=\"blue\")\n",
    "plot(0.0,u0[2],\"o\",color=\"red\")\n",
    "xlabel(L\"t\");ylabel(\"population\")\n",
    "xlim(-5,65)\n",
    "legend([L\"r(t)\",L\"w(t)\",L\"\\bar r\",L\"\\bar w\"],loc=\"right\");"
   ]
  },
  {
   "cell_type": "markdown",
   "metadata": {},
   "source": [
    "# Analytic solution: linearisation\n",
    "We can expand upon this notion of steady states further and linearise the Lotka-Volterra system around the steady-steady state. \n",
    "\n",
    "If we are on the right track, we should expect to find out the properties of small excursions from the steady state. \n",
    "\n",
    "The procedure is very general, and this kind of analysis can reveal fundamental properties of equations of motion. \n",
    "\n",
    "The essential assumption is that we consider **small departures** from the steady state. It is then perfectly legitimate to linearise the equations of motion, by which we mean simply that we should only retain terms that are at most linear in the amplitude of the departure. \n",
    "\n",
    "In mathematical terms, we can write a general solution in the form \n",
    "\n",
    "\\begin{align}\n",
    "r(t)&=\\bar r+\\epsilon(t)\\\\\n",
    "w(t)&=\\bar w+\\delta(t)\\tag{4}\n",
    "\\end{align}\n",
    "\n",
    "where our barred variables describe the steady state solution, and hence are *by definition* **independent of time**. Recall that the steady state solutions satisfy the fixed point equations. The **linearisation** appears when we insist that $\\epsilon, \\delta$ must be small, and we then make use of this property to neglect **nonlinear** terms, namely any terms of order $\\epsilon^2, \\delta^2, \\epsilon\\delta$, or indeed any higher powers. \n",
    "\n",
    "Now that we have written the solution in suitable form, we substitute into the equations of motion to give\n",
    "<div class=\"alert alert-block alert-warning\">\n",
    "<font color=blue>\n",
    "\\begin{align}\n",
    "\\frac{d\\epsilon}{dt}&=\\lambda (\\bar r+\\epsilon) - \\gamma (\\bar w+\\delta)(\\bar r+\\epsilon)\\\\\n",
    "\\frac{d\\delta}{dt}&=-\\beta (\\bar w+\\delta) + \\kappa (\\bar w+\\delta)(\\bar r+\\epsilon)\n",
    "\\end{align}\n",
    "</font>\n",
    "</div>"
   ]
  },
  {
   "cell_type": "markdown",
   "metadata": {},
   "source": [
    "Linearising, and using the fixed point equations (2), (3), we find\n",
    "<div class=\"alert alert-block alert-warning\">\n",
    "<font color=blue>\n",
    "\\begin{align}\n",
    "\\frac{d\\epsilon}{dt}&=- \\gamma \\bar r\\delta\\\\\n",
    "\\frac{d\\delta}{dt}&= \\kappa \\bar w\\epsilon\\tag{5}\n",
    "\\end{align}\n",
    "</font>\n",
    "</div>\n",
    "There is a lot of fortuitous cancellation! \n",
    "\n",
    "These simple coupled equations can now be solved using a standard trick. \n",
    "\n",
    "We notice that the $\\dot\\epsilon$ equation only couples to $\\delta$, and $\\dot\\delta$ only couples ot $\\epsilon$. \n",
    "\n",
    "If we differentiate again with respect to time, we find that the equations decouple nicely:\n",
    "<div class=\"alert alert-block alert-warning\">\n",
    "<font color=blue>\n",
    "\\begin{align}\n",
    "\\frac{d^2\\epsilon}{dt^2}&=- \\gamma \\kappa\\bar r\\bar w\\epsilon=-\\omega^2\\epsilon,\\\\\n",
    "\\frac{d^2\\delta}{dt^2}&= -\\gamma \\kappa\\bar r\\bar w\\epsilon=-\\omega^2\\delta\\tag{6}\n",
    "\\end{align}\n",
    "</font>\n",
    "</div>\n",
    "and both equations describe simple harmonic (oscillatory) motion; we have identified a characteristic frequency of oscillation \n",
    "\n",
    "$$\\omega\\equiv\\sqrt{\\gamma \\kappa\\bar r\\bar w}.$$\n",
    "\n",
    "Notice that linearisation has revealed quite a lot about the dynamics of our system. We learn that there are steady states, and there a **characteristic frequency** of oscillation around the steady-state, and the frequency increases with the size of the steady state populations, and coupling rates. \n",
    "\n",
    "So the linearised dynamics are of the form (putting $\\epsilon(0)=\\epsilon_0$ etc)\n",
    "\n",
    "\\begin{align}\n",
    "\\epsilon(t)&=\\epsilon_0\\cos\\omega t-\\frac{\\gamma\\bar r\\delta_0}{\\omega}\\sin\\omega t,\\\\\n",
    "\\delta(t)&= \\delta_0\\cos\\omega t+\\frac{\\kappa \\bar w\\epsilon_0}{\\omega}\\sin\\omega t,\n",
    "\\end{align}\n",
    "\n",
    "where we have included the intial phase (the $\\sin$ terms), by making use of the initial state of (5). If you are not convinced, you should check carefully that this is the solution of the linearised equations.\n",
    "\n",
    "We should emphasise that these oscillations can be understood as a kind of linear phenomenon, but they are occuring in a nonlinear system - the stationary solution is nonlinear! "
   ]
  },
  {
   "cell_type": "markdown",
   "metadata": {},
   "source": [
    "\n",
    "# Failure of linearisation\n",
    "Let us plot our linearised solution and check that it describes the system. \n",
    "\n",
    "With the linearised solution in hand, we can also explore something very important numerically: when does linearisation break down?"
   ]
  },
  {
   "cell_type": "markdown",
   "metadata": {},
   "source": [
    "# Interact\n",
    "It can be extremely helpful to interact with our results in a rather direct way, which is pheasible for small systems like the current one.\n",
    "\n",
    "Julia has excellent capabilities for interaction in the package `Interact`. \n",
    "\n",
    "We can take our code from above and define a parameter that we want to vary, and have Julia calculate all the results and analysis on the fly. To set this up we will also see our first example of a new code construct: the *macro* denoted by `@macro_name`. Macros are convenient meta-commands, i.e. code that writes code."
   ]
  },
  {
   "cell_type": "code",
   "execution_count": null,
   "metadata": {},
   "outputs": [],
   "source": [
    "#ENV[\"PYTHON\"] = \"\"\n",
    "#Pkg.build(\"PyCall\")\n",
    "#Pkg.build(\"IJulia\")\n",
    "#Pkg.build(\"Interact\")"
   ]
  },
  {
   "cell_type": "code",
   "execution_count": 8,
   "metadata": {},
   "outputs": [
    {
     "data": {
      "text/html": [
       "<div id=\"interact-js-shim\">\n",
       "    <script charset=\"utf-8\">\n",
       "(function (IPython, $, _, MathJax) {\n",
       "    $.event.special.destroyed = {\n",
       "\tremove: function(o) {\n",
       "\t    if (o.handler) {\n",
       "\t\to.handler.apply(this, arguments)\n",
       "\t    }\n",
       "\t}\n",
       "    }\n",
       "\n",
       "    var OutputArea = IPython.version >= \"4.0.0\" ? require(\"notebook/js/outputarea\").OutputArea : IPython.OutputArea;\n",
       "\n",
       "    var redrawValue = function (container, type, val) {\n",
       "\tvar selector = $(\"<div/>\");\n",
       "\tvar oa = new OutputArea(_.extend(selector, {\n",
       "\t    selector: selector,\n",
       "\t    prompt_area: true,\n",
       "\t    events: IPython.events,\n",
       "\t    keyboard_manager: IPython.keyboard_manager\n",
       "\t})); // Hack to work with IPython 2.1.0\n",
       "\n",
       "\tswitch (type) {\n",
       "\tcase \"image/png\":\n",
       "            var _src = 'data:' + type + ';base64,' + val;\n",
       "\t    $(container).find(\"img\").attr('src', _src);\n",
       "\t    break;\n",
       "\tcase \"text/latex\":\n",
       "\t\tif (MathJax){\n",
       "\t\t\tvar math = MathJax.Hub.getAllJax(container)[0];\n",
       "\t\t\tMathJax.Hub.Queue([\"Text\", math, val.replace(/^\\${1,2}|\\${1,2}$/g, '')]);\n",
       "\t\t\tbreak;\n",
       "\t\t}\n",
       "\tdefault:\n",
       "\t    var toinsert = OutputArea.append_map[type].apply(\n",
       "\t\toa, [val, {}, selector]\n",
       "\t    );\n",
       "\t    $(container).empty().append(toinsert.contents());\n",
       "\t    selector.remove();\n",
       "\t}\n",
       "    }\n",
       "\n",
       "\n",
       "    $(document).ready(function() {\n",
       "\tfunction initComm(evt, data) {\n",
       "\t    var comm_manager = data.kernel.comm_manager;\n",
       "        //_.extend(comm_manager.targets, require(\"widgets/js/widget\"))\n",
       "\t    comm_manager.register_target(\"Signal\", function (comm) {\n",
       "            comm.on_msg(function (msg) {\n",
       "                var val = msg.content.data.value;\n",
       "                $(\".signal-\" + comm.comm_id).each(function() {\n",
       "                var type = $(this).data(\"type\");\n",
       "                if (typeof(val[type]) !== \"undefined\" && val[type] !== null) {\n",
       "                    redrawValue(this, type, val[type], type);\n",
       "                }\n",
       "                });\n",
       "                delete val;\n",
       "                delete msg.content.data.value;\n",
       "            });\n",
       "\t    });\n",
       "\n",
       "\t    // coordingate with Comm and redraw Signals\n",
       "\t    // XXX: Test using Reactive here to improve performance\n",
       "\t    $([IPython.events]).on(\n",
       "\t\t'output_appended.OutputArea', function (event, type, value, md, toinsert) {\n",
       "\t\t    if (md && md.reactive) {\n",
       "                // console.log(md.comm_id);\n",
       "                toinsert.addClass(\"signal-\" + md.comm_id);\n",
       "                toinsert.data(\"type\", type);\n",
       "                // Signal back indicating the mimetype required\n",
       "                var comm_manager = IPython.notebook.kernel.comm_manager;\n",
       "                var comm = comm_manager.comms[md.comm_id];\n",
       "                comm.then(function (c) {\n",
       "                    c.send({action: \"subscribe_mime\",\n",
       "                       mime: type});\n",
       "                    toinsert.bind(\"destroyed\", function() {\n",
       "                        c.send({action: \"unsubscribe_mime\",\n",
       "                               mime: type});\n",
       "                    });\n",
       "                })\n",
       "\t\t    }\n",
       "\t    });\n",
       "\t}\n",
       "\n",
       "\ttry {\n",
       "\t    // try to initialize right away. otherwise, wait on the status_started event.\n",
       "\t    initComm(undefined, IPython.notebook);\n",
       "\t} catch (e) {\n",
       "\t    $([IPython.events]).on('kernel_created.Kernel kernel_created.Session', initComm);\n",
       "\t}\n",
       "    });\n",
       "})(IPython, jQuery, _, MathJax);\n",
       "</script>\n",
       "    <script>\n",
       "        window.interactLoadedFlag = true\n",
       "       $(\"#interact-js-shim\").bind(\"destroyed\", function () {\n",
       "           if (window.interactLoadedFlag) {\n",
       "               console.warn(\"JavaScript required by Interact will be removed if you remove this cell or run using Interact more than once.\")\n",
       "           }\n",
       "       })\n",
       "       $([IPython.events]).on(\"kernel_starting.Kernel kernel_restarting.Kernel\", function () { window.interactLoadedFlag = false })\n",
       "   </script>\n",
       "</div>"
      ]
     },
     "metadata": {},
     "output_type": "display_data"
    }
   ],
   "source": [
    "using Interact"
   ]
  },
  {
   "cell_type": "code",
   "execution_count": 9,
   "metadata": {},
   "outputs": [
    {
     "data": {
      "application/vnd.jupyter.widget-view+json": {
       "model_id": "ed458a9b-459e-4010-9bfa-f116cafbd5a5",
       "version_major": 2,
       "version_minor": 0
      }
     },
     "metadata": {},
     "output_type": "display_data"
    },
    {
     "data": {
      "text/html": [],
      "text/plain": [
       "Interact.Options{:SelectionSlider,Float64}(5: \"input-2\" = 0.7578947368421053 Float64 , \"ϵ\", 0.7578947368421053, \"0.7578947368421053\", 10, Interact.OptionDict(DataStructures.OrderedDict(\"0.0\"=>0.0,\"0.08421052631578947\"=>0.0842105,\"0.16842105263157894\"=>0.168421,\"0.25263157894736843\"=>0.252632,\"0.3368421052631579\"=>0.336842,\"0.42105263157894735\"=>0.421053,\"0.5052631578947369\"=>0.505263,\"0.5894736842105263\"=>0.589474,\"0.6736842105263158\"=>0.673684,\"0.7578947368421053\"=>0.757895…), Dict(0.0842105=>\"0.08421052631578947\",1.51579=>\"1.5157894736842106\",0.168421=>\"0.16842105263157894\",0.673684=>\"0.6736842105263158\",0.0=>\"0.0\",1.17895=>\"1.1789473684210525\",0.757895=>\"0.7578947368421053\",1.09474=>\"1.0947368421052632\",1.26316=>\"1.263157894736842\",1.6=>\"1.6\"…)), Any[], Any[], true, \"horizontal\", true)"
      ]
     },
     "metadata": {},
     "output_type": "display_data"
    },
    {
     "data": {
      "image/png": "[encoded data removed]",
      "text/plain": [
       "PyPlot.Figure(PyObject <matplotlib.figure.Figure object at 0x137cb2150>)"
      ]
     },
     "execution_count": 9,
     "metadata": {
      "comm_id": "7314c746-f1b1-4d10-ab0d-0d2eb05482de",
      "reactive": true
     },
     "output_type": "execute_result"
    }
   ],
   "source": [
    "ϵmax = 1.6\n",
    "Neps = 20\n",
    "ϵvec = linspace(0.0,ϵmax,Neps)\n",
    "\n",
    "f=figure(figsize=(6,3))\n",
    "@manipulate for ϵ in ϵvec withfig(f,clear=true) do\n",
    "    #= start of code to step through for different ϵ =#\n",
    "    u0 = [β/κ + ϵ ; λ/γ - ϵ]\n",
    "    ti = 0.0\n",
    "    tf = 50.0\n",
    "    Nt = 200\n",
    "    tspan = (ti,tf)\n",
    "    t = collect(linspace(ti,tf,Nt))\n",
    "    prob = ODEProblem(lotkavolterra,u0,tspan)\n",
    "    sol = solve(prob,saveat=t);\n",
    "    r = sol[1,:];\n",
    "    w = sol[2,:];\n",
    "    plot(t,r,color=\"blue\")\n",
    "    plot(t,w,color=\"red\")\n",
    "    plot(t,r̄*ones(t),color=\"blue\",lw=.5)\n",
    "    plot(t,w̄*ones(t),color=\"red\",lw=.5)\n",
    "    plot(0.0,u0[1],\"o\",color=\"blue\",ms=4)\n",
    "    plot(0.0,u0[2],\"o\",color=\"red\",ms=4)\n",
    "    xlabel(L\"t\");ylabel(\"population\")\n",
    "    xlim(-2,65)\n",
    "    ylim(0,13)\n",
    "    legend([L\"r(t)\",L\"w(t)\",L\"\\bar r\",L\"\\bar w\"],loc=\"right\");\n",
    "    #= end of code to step through for different ϵ =#\n",
    "    end\n",
    "end"
   ]
  },
  {
   "cell_type": "markdown",
   "metadata": {},
   "source": [
    "# Next time\n",
    "## Systems of coupled ODEs\n",
    "- Coupled oscillators\n",
    "- Reduction of second order systems to first order\n",
    "- Driving and damping\n",
    "- Mechanical resonance"
   ]
  },
  {
   "cell_type": "code",
   "execution_count": null,
   "metadata": {},
   "outputs": [],
   "source": []
  }
 ],
 "metadata": {
  "kernelspec": {
   "display_name": "Julia 0.6.3",
   "language": "julia",
   "name": "julia-0.6"
  },
  "language_info": {
   "file_extension": ".jl",
   "mimetype": "application/julia",
   "name": "julia",
   "version": "0.6.3"
  }
 },
 "nbformat": 4,
 "nbformat_minor": 2
}
