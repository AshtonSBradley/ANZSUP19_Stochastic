{
 "cells": [
  {
   "cell_type": "markdown",
   "metadata": {},
   "source": [
    "# Stochastic Differential Equations, Quantum Phase Space, and Julia \n",
    "\n",
    "$$\n",
    "\\def\\julia{\\texttt{julia}}\n",
    "\\def\\dashint{{\\int\\!\\!\\!\\!\\!\\!-\\,}}\n",
    "\\def\\infdashint{\\dashint_{\\!\\!\\!-\\infty}^{\\,\\infty}}\n",
    "\\def\\D{\\,{\\rm d}}\n",
    "\\def\\E{{\\rm e}}\n",
    "\\def\\dx{\\D x}\n",
    "\\def\\dt{\\D t}\n",
    "\\def\\dz{\\D z}\n",
    "\\def\\C{{\\mathbb C}}\n",
    "\\def\\R{{\\mathbb R}}\n",
    "\\def\\CC{{\\cal C}}\n",
    "\\def\\HH{{\\cal H}}\n",
    "\\def\\I{{\\rm i}}\n",
    "\\def\\qqqquad{\\qquad\\qquad}\n",
    "\\def\\qqfor{\\qquad\\hbox{for}\\qquad}\n",
    "\\def\\qqwhere{\\qquad\\hbox{where}\\qquad}\n",
    "\\def\\Res_#1{\\underset{#1}{\\rm Res}}\\,\n",
    "\\def\\sech{{\\rm sech}\\,}\n",
    "\\def\\vc#1{{\\mathbf #1}}\n",
    "$$\n",
    "\n",
    "Dr. Ashton Bradley\n",
    "<br>\n",
    "ashton.bradley@otago.ac.nz\n",
    "<br>\n",
    "http://amoqt.otago.ac.nz"
   ]
  },
  {
   "cell_type": "markdown",
   "metadata": {},
   "source": [
    "## Workshop 2 (1 hour) \n",
    "- Numerical Wiener process\n",
    "- Intro to `DifferentialEquations.jl`"
   ]
  },
  {
   "cell_type": "markdown",
   "metadata": {},
   "source": [
    "# Wiener process\n",
    "The _Wiener process_ $W(t)$, depending continuously on $t\\in[0,T]$, has the following defining properties:\n",
    "1. $W(0)=0$ (with probability 1).\n",
    "2. For $0\\leq s<t\\leq T$ the random variable given by the increment $W(t)-W(0)$ is normally distributed with mean zero and variance $t-s$. \n",
    "3. For $0\\leq s<t<u<v\\leq T$ the increments $W(t)-W(s)$ and $W(v)-W(u)$ are independent. \n",
    "\n",
    "Property 2 is the statement that the Wiener process can be described by a normal random variable:\n",
    "\n",
    ">$W(t)-W(s)\\sim \\sqrt{t-s}N(0,1)$, where $N(0,1)$ is a scaled Gaussian random variable with mean zero and unit variance. In $\\julia$ this is `randn()`.\n",
    "\n",
    "Property 3 is the statement that the Wiener process is a _Markov process_ (memoryless).\n",
    "\n",
    "The Wiener process is often referred to as simply ___Brownian motion___ since it is the fundamental process governing Brownian motion as derived by Einstein, with diffusion coefficient $D\\equiv 1$."
   ]
  },
  {
   "cell_type": "markdown",
   "metadata": {},
   "source": [
    "# Computational Wiener process\n",
    "On a computer we always deal with discretizations. The discretized Brownian motion is equivalent to a set of samples from `randn()` "
   ]
  },
  {
   "cell_type": "code",
   "execution_count": null,
   "metadata": {},
   "outputs": [],
   "source": [
    "using Statistics, Plots, LaTeXStrings, Revise\n",
    "gr(grid=false,legend=false,size=(400,200),titlefontsize=12)"
   ]
  },
  {
   "cell_type": "code",
   "execution_count": null,
   "metadata": {},
   "outputs": [],
   "source": [
    "linspace(a,b,n) =  LinRange(a,b,n) |> collect #linspace is worth having"
   ]
  },
  {
   "cell_type": "code",
   "execution_count": null,
   "metadata": {},
   "outputs": [],
   "source": [
    "randn() # part of base julia"
   ]
  },
  {
   "cell_type": "code",
   "execution_count": null,
   "metadata": {},
   "outputs": [],
   "source": [
    "N = 3000\n",
    "x = randn(N)\n",
    "n = 1:N |> collect # convert a range object to a vector\n",
    "plot(n,x,seriestype=:scatter,ms=.5,size=(500,150))\n",
    "title!(\"$N samples drawn from N(0,1)\")"
   ]
  },
  {
   "cell_type": "code",
   "execution_count": null,
   "metadata": {},
   "outputs": [],
   "source": [
    "mean(x),var(x) # from the Statistics package"
   ]
  },
  {
   "cell_type": "code",
   "execution_count": null,
   "metadata": {},
   "outputs": [],
   "source": [
    "T = 1; N = 500; dt = T/N\n",
    "t = linspace(0,T,N+1)\n",
    "W = zeros(N)\n",
    "ΔW = sqrt(dt)*randn(N); #all independent"
   ]
  },
  {
   "cell_type": "code",
   "execution_count": null,
   "metadata": {},
   "outputs": [],
   "source": [
    "mean(ΔW), var(ΔW), dt, length(t)"
   ]
  },
  {
   "cell_type": "markdown",
   "metadata": {},
   "source": [
    "We single the initial condition out as a special point with index $j=0$, and use the discretized definition\n",
    "\n",
    "$ W_j\\equiv W_{j-1} + ΔW_j$\n",
    "\n",
    "with $j=1,2,..., N$. This choice is consistent with julia's \"1-indexing\" of arrays."
   ]
  },
  {
   "cell_type": "code",
   "execution_count": null,
   "metadata": {},
   "outputs": [],
   "source": [
    "W[1] = ΔW[1] \n",
    "for j in 2:N \n",
    "    W[j] = W[j-1] + ΔW[j]\n",
    "end\n",
    "W = [0.0; W]; # careful here! - in jupyter we can do out of order execution"
   ]
  },
  {
   "cell_type": "code",
   "execution_count": null,
   "metadata": {},
   "outputs": [],
   "source": [
    "mean(W), length(W)"
   ]
  },
  {
   "cell_type": "code",
   "execution_count": null,
   "metadata": {},
   "outputs": [],
   "source": [
    "dt = T/N\n",
    "plot(t,W)\n",
    "xlabel!(\"t\");ylabel!(\"W(t)\")"
   ]
  },
  {
   "cell_type": "markdown",
   "metadata": {},
   "source": [
    "Let's deal with the sampling and initial condition inside a single function that samples one path, for `N` steps. \n",
    "\n",
    "We can also easily add a short documentation string to explain the function. This gives an example of documentation conventions and notation."
   ]
  },
  {
   "cell_type": "code",
   "execution_count": null,
   "metadata": {},
   "outputs": [],
   "source": [
    "\"\"\"\n",
    "`t,ΔW,W = wienerpath(N,T)`\n",
    "\n",
    "Sample a path of the Wiener process over time interval `[0,T]` for `N` increments `ΔW` and initial condition `W(t=0)=W[1]=0.0`. \n",
    "\n",
    "Outputs:\n",
    "\n",
    "- `t` time vector, of length `N+1`\n",
    "- `ΔW` vector of increments, of length `N`\n",
    "- `W` vector of `W[j]` at time points `t=t_j` with `j=1,2,...,N` corresponding to increments. The initial value is included, giving a vector of length `N+1`.\n",
    "\"\"\"\n",
    "function wienerpath(N,T)\n",
    "    dt = T/N\n",
    "    t = 0:dt:T |> collect\n",
    "    dW = sqrt(dt)*randn(N)\n",
    "    W = cumsum(dW)\n",
    "    W = [0.0;W]\n",
    "    return t,dW,W\n",
    "end"
   ]
  },
  {
   "cell_type": "markdown",
   "metadata": {},
   "source": [
    "The function is now part of our current julia session, and the documentation is also part of julia:"
   ]
  },
  {
   "cell_type": "code",
   "execution_count": null,
   "metadata": {},
   "outputs": [],
   "source": [
    "?wienerpath"
   ]
  },
  {
   "cell_type": "markdown",
   "metadata": {},
   "source": [
    "We can also save the same code to a file, say `wienerpath.jl`, and load it by executing the command\n",
    "`include(\"wienerpath.jl\")`"
   ]
  },
  {
   "cell_type": "code",
   "execution_count": null,
   "metadata": {},
   "outputs": [],
   "source": [
    "N = 500\n",
    "t,ΔW,W = wienerpath(N,1)\n",
    "p1=plot(t,W)\n",
    "plot!(t,sqrt.(t),linewidth=1,c=:black)\n",
    "plot!(t,-sqrt.(t),linewidth=1,c=:black)\n",
    "ylims!(-3,3);xlabel!(\"t\");ylabel!(\"W(t)\")"
   ]
  },
  {
   "cell_type": "code",
   "execution_count": null,
   "metadata": {},
   "outputs": [],
   "source": [
    "Np = 50\n",
    "for j = 1:Np\n",
    "    t,ΔW,W = wienerpath(N,1)\n",
    "    plot!(p1,t,W,legend=false)\n",
    "end\n",
    "plot!(t,sqrt.(t),linewidth=1,c=:black)\n",
    "plot!(t,-sqrt.(t),linewidth=1,c=:black)\n",
    "title!(L\"\\langle W(t)^2\\rangle=\\sqrt{t}\\;\\; \\textrm{spreading of sample paths}\")"
   ]
  },
  {
   "cell_type": "markdown",
   "metadata": {},
   "source": [
    "Let's make a simple animated `.gif` of wienerpaths:"
   ]
  },
  {
   "cell_type": "code",
   "execution_count": null,
   "metadata": {},
   "outputs": [],
   "source": [
    "N = 500\n",
    "t,ΔW,W = wienerpath(N,1)\n",
    "p1 = plot(t,W)\n",
    "plot!(t,sqrt.(t),linewidth=1,c=:black)\n",
    "plot!(t,-sqrt.(t),linewidth=1,c=:black)\n",
    "ylims!(-3,3);xlabel!(\"t\");ylabel!(\"W(t)\")\n",
    "\n",
    "anim = @animate for i=1:150\n",
    "t,ΔW,W = wienerpath(N,1)\n",
    "plot!(p1,t,W)\n",
    "end\n",
    "\n",
    "gif(anim,\"media/wpaths.gif\", fps = 12)"
   ]
  },
  {
   "cell_type": "markdown",
   "metadata": {},
   "source": [
    "# FPE solution for Brownian motion\n",
    "The diffusion equation\n",
    "\n",
    "$$\\frac{\\partial p(x,t|0,0)}{\\partial t}=\\frac{1}{2}\\frac{\\partial^2p(x,t|0,0)}{\\partial x^2}$$\n",
    "\n",
    "with ideally localized initial condition $p(x,t=0|0,0) = n\\delta(x)$ has solution\n",
    "\n",
    "$$p(x,t|0,0)=\\frac{n}{\\sqrt{2\\pi t}}e^{-x^2/2t}$$"
   ]
  },
  {
   "cell_type": "code",
   "execution_count": null,
   "metadata": {},
   "outputs": [],
   "source": [
    "p(x,t) = exp(-x^2/(2t))/sqrt(2π*t) #scalar definition"
   ]
  },
  {
   "cell_type": "code",
   "execution_count": null,
   "metadata": {},
   "outputs": [],
   "source": [
    "y = linspace(-2,2,500)\n",
    "heatmap(t,y,p.(y,t'),size=(600,200),transpose=false) # broadcast\n",
    "plot!(t,sqrt.(t),linewidth=1,c=:white)\n",
    "plot!(t,-sqrt.(t),linewidth=1,c=:white)\n",
    "xlims!(0,.5);ylims!(-2,2)"
   ]
  },
  {
   "cell_type": "code",
   "execution_count": null,
   "metadata": {},
   "outputs": [],
   "source": [
    "# another plot example\n",
    "p1=surface(t,y,p.(y,t'),color = :rainbow,size=(400,300))\n",
    "plot!(p1, camera=(40, 40))"
   ]
  },
  {
   "cell_type": "markdown",
   "metadata": {},
   "source": [
    "# Ensemble average\n",
    "Let's compute a simple stochastic average over our Wiener increments. \n",
    "\n",
    "We can graph the sample average for a set of sample paths of the Wiener process. \n",
    "\n",
    "- We show the average, and a few sample paths, of the function $f(t)=e^{t+W(t)/2}$. \n",
    "- The known analytic result for the mean is $\\langle f(t)\\rangle =e^{9t/8}$."
   ]
  },
  {
   "cell_type": "code",
   "execution_count": null,
   "metadata": {},
   "outputs": [],
   "source": [
    "T = 1; N = 500; Δt = T/N \n",
    "t = linspace(0,T,N+1)\n",
    "Np = 1000\n",
    "ΔW = sqrt(Δt)*randn(N,Np)\n",
    "W = cumsum(ΔW,dims=1)\n",
    "W = [zeros(1,Np); W]\n",
    "U = @. exp(t + 0.5*W) # broadcast (!!)\n",
    "Ū = mean(U,dims=2) # path average at each time\n",
    "plot(t,U[:,1:3],s=:dot,size=(500,300)) # show a few paths\n",
    "plot!(t,Ū,w=8,c=:lightgrey,label=\"mean of $Np paths\",legend=:topleft)\n",
    "plot!(t,exp.(9t/8),w=2,c=:blue,label=L\"e^{9t/8}\\;\\;\\textrm{(analytic)}\")\n",
    "xlabel!(L\"t\");ylabel!(L\"W(t)\")\n",
    "title!(L\"\\langle e^{t+W(t)/2}\\rangle\")"
   ]
  },
  {
   "cell_type": "markdown",
   "metadata": {},
   "source": [
    "## Theorem\n",
    "If $u$ is a Gaussian variable with mean $\\langle u\\rangle =0$ and variance $\\langle u^2\\rangle=\\sigma^2$, then \n",
    "\n",
    "$$ \\langle e^{\\alpha u}\\rangle = e^{\\alpha^2\\sigma^2/2}$$\n",
    "\n",
    "__Exercise:__ use this to prove the analytic result for $\\langle f(t)\\rangle$ given above."
   ]
  },
  {
   "cell_type": "markdown",
   "metadata": {},
   "source": [
    "# Differential Equations\n",
    "Chris Rackauckas (recent Math PhD at UC Irvine, now Postdoc at MIT) has written an ___utterly astonishing___ differential equation solving package in $\\julia$.\n",
    "- He is an expert on SDE's, expert programmer and $\\julia$ whiz.\n",
    "- Wanted to compare results for different SDE methods and problems\n",
    "- Realized there was no decent package for numerical solving\n",
    "- `DifferentialEquations.jl` is now world-leading in every aspect of numerical solving\n",
    "- State of the art adaptive stochastic integration methods, only published 2018 (now being copied by other libraries).\n",
    "- See also his blog [Stochastic Lifestyle](http://www.stochasticlifestyle.com/) for some really nice resources for learning more about $\\julia$.\n",
    "- See a comparison [here](http://www.stochasticlifestyle.com/comparison-differential-equation-solver-suites-matlab-r-julia-python-c-fortran/)"
   ]
  },
  {
   "cell_type": "markdown",
   "metadata": {},
   "source": [
    "To compare with library of similar convenience, for a small problem (comparable to predator-prey considered below) how does it compare with Matlab's ODE45?\n",
    "\n",
    "<img src=\"media/comparison.png\" width=\"600\">"
   ]
  },
  {
   "cell_type": "markdown",
   "metadata": {},
   "source": [
    "Yes - that is that two orders of magnitude!"
   ]
  },
  {
   "cell_type": "code",
   "execution_count": null,
   "metadata": {},
   "outputs": [],
   "source": [
    "using DifferentialEquations, Statistics, Plots, LaTeXStrings, Revise\n",
    "gr(grid=false,legend=false,size=(400,200),titlefontsize=12)\n",
    "linspace(a,b,n) = LinRange(a,b,n) |> collect"
   ]
  },
  {
   "cell_type": "markdown",
   "metadata": {},
   "source": [
    "# A cute example: predator-prey model"
   ]
  },
  {
   "cell_type": "markdown",
   "metadata": {},
   "source": [
    "## Equations of motion\n",
    "The **Lotka-Volterra equations** for this system take the form:\n",
    "<div class=\"alert alert-block alert-warning\">\n",
    "<font color=blue>\n",
    "\\begin{align}\n",
    "\\frac{dr}{dt}&=\\lambda r - \\gamma wr\\\\\n",
    "\\frac{dw}{dt}&=-\\beta w + \\sigma rw \n",
    "\\end{align}\n",
    "</font>\n",
    "</div>\n",
    "The solutions of this two-variable system of coupled nonlinear equations tells us everything about our simple model for population dynamics.  "
   ]
  },
  {
   "cell_type": "code",
   "execution_count": null,
   "metadata": {},
   "outputs": [],
   "source": [
    "#\\:rabbit2: = 🐇 #remember to tab-complete \n",
    "#\\:wolf: = 🐺\n",
    "#\\lambda<tab> = λ #etc"
   ]
  },
  {
   "cell_type": "code",
   "execution_count": null,
   "metadata": {},
   "outputs": [],
   "source": [
    "#system parameters\n",
    "λ = .7  # 🐇 growth\n",
    "γ = 0.4  # 🐇 loss\n",
    "σ = 0.3  # 🐺 growth\n",
    "β = 1.2  # 🐺 loss\n",
    "\n",
    "#define the equations of motion (standard first order form)\n",
    "#in-place vector syntax\n",
    "function predatorprey!(du,u,p,t)\n",
    "    du[1] =  p[1]*u[1] - p[2]*u[2]*u[1]\n",
    "    du[2] = -p[3]*u[2] + p[4]*u[1]*u[2]\n",
    "    return nothing  #good practice if the function is mutating\n",
    "end"
   ]
  },
  {
   "cell_type": "markdown",
   "metadata": {},
   "source": [
    "the function signature (first line) shows the required form \n",
    "if you are writing your own function to pass to DifferentialEquations. In this \"in-place form\", you have to first declare the place the differentials are written to (`du`), then declare the unknown fields (`u`), then a set of parameters (`p`), and finally time `t`. Note that in our EOM, we don't make use of `t`, and in general it is not a requirement that `p` is used either, just that the function signature has this general form. For the \"out-of-place\" form, this would become `predatorprey(u,p,t)`, and we would need to replace `return nothing` with `return x`, where `x` is the result of evaluating the RHS of our EOM."
   ]
  },
  {
   "cell_type": "markdown",
   "metadata": {},
   "source": [
    "Define EOM using a macro from [ParameterizedFunctions.jl](https://github.com/JuliaDiffEq/ParameterizedFunctions.jl)"
   ]
  },
  {
   "cell_type": "code",
   "execution_count": null,
   "metadata": {},
   "outputs": [],
   "source": [
    "pprey = @ode_def_all LotkaVolterra begin\n",
    "  d🐇 = λ*🐇 - γ*🐺*🐇\n",
    "  d🐺 = -β*🐺 + σ*🐇*🐺\n",
    "end λ γ β σ"
   ]
  },
  {
   "cell_type": "markdown",
   "metadata": {},
   "source": [
    "The macro writes a bunch of methods with the right syntax to pass to `DifferentialEquations` using your declared set of unknowns. Note that the unknowns are declared implicitly by stating the equations. Again, the syntax is that you should write `dx = ...` for each equation of motion, dropping the redundant `dt` that would appear on the right hand side if this was a rigorous mathematical statement of your equations of motion. \n",
    "    "
   ]
  },
  {
   "cell_type": "markdown",
   "metadata": {},
   "source": [
    "# Fixed point\n",
    "let us verify that if we start at a fixed point, \n",
    "it is really a stationary solution"
   ]
  },
  {
   "cell_type": "code",
   "execution_count": null,
   "metadata": {},
   "outputs": [],
   "source": [
    "r̄ = β/σ\n",
    "w̄ = λ/γ\n",
    "u0 = [r̄ ; w̄]\n",
    "ti = 0.0\n",
    "tf = .2\n",
    "Nt = 100\n",
    "tspan = (ti,tf)\n",
    "t = linspace(ti,tf,Nt) \n",
    "params = [λ; γ; β; σ]\n",
    "\n",
    "#define the problem type\n",
    "prob = ODEProblem(pprey,u0,tspan,params)"
   ]
  },
  {
   "cell_type": "markdown",
   "metadata": {},
   "source": [
    "First call triggers the just in time compiler (JIT)"
   ]
  },
  {
   "cell_type": "code",
   "execution_count": null,
   "metadata": {},
   "outputs": [],
   "source": [
    "#solve the problem, saving at specified time points\n",
    "@time sol = solve(prob,saveat=t);"
   ]
  },
  {
   "cell_type": "markdown",
   "metadata": {},
   "source": [
    "The solution time for compiled code:"
   ]
  },
  {
   "cell_type": "code",
   "execution_count": null,
   "metadata": {},
   "outputs": [],
   "source": [
    "#solve the problem, saving at specified time points\n",
    "@time sol = solve(prob,saveat=t);"
   ]
  },
  {
   "cell_type": "code",
   "execution_count": null,
   "metadata": {},
   "outputs": [],
   "source": [
    "🐇 = sol[1,:]; 🐺 = sol[2,:]\n",
    "plot(t,🐇,label=\"rabbits\",legend=:topright);plot!(t,🐺,label=\"wolves\")\n",
    "ylims!(0,8);xlabel!(\"t\");ylabel!(\"population\")"
   ]
  },
  {
   "cell_type": "code",
   "execution_count": null,
   "metadata": {},
   "outputs": [],
   "source": [
    "#parameters\n",
    "λ = .7  # 🐇 growth\n",
    "γ = 0.4  # 🐇 loss\n",
    "σ = 0.3  # 🐺 growth\n",
    "β = 1.2  # 🐺 loss\n",
    "params = [λ; γ; β; σ]\n",
    "r̄ = β/σ; w̄ = λ/γ\n",
    "\n",
    "#what happens if the rabbits and wolves start near, but not exactly at, a fixed point?\n",
    "ϵ = .1\n",
    "u0 = [β/σ + ϵ ; λ/γ - ϵ] #one slightly larger, one slightly smaller\n",
    "ti = 0.0\n",
    "tf = 50.0\n",
    "Nt = 200\n",
    "tspan = (ti,tf)\n",
    "t = linspace(ti,tf,Nt) \n",
    "\n",
    "prob = ODEProblem(pprey,u0,tspan,params)\n",
    "@time sol = solve(prob,saveat=t);"
   ]
  },
  {
   "cell_type": "code",
   "execution_count": null,
   "metadata": {},
   "outputs": [],
   "source": [
    "🐇 = sol[1,:]; 🐺 = sol[2,:]\n",
    "plot(t,🐇,label=L\"r(t)\",legend=:topright);plot!(t,🐺,label=L\"w(t)\")\n",
    "plot!(t,r̄*one.(t),label=L\"\\bar r\",s=:d)\n",
    "plot!(t,w̄*one.(t),label=L\"\\bar w\",s=:d)\n",
    "ylims!(0,5);xlabel!(\"t\");ylabel!(\"population\")\n",
    "xlims!(0,70)"
   ]
  },
  {
   "cell_type": "markdown",
   "metadata": {},
   "source": [
    "Great. Let's say we want to study behavior as a function of how far the populations start from the steady state. \n",
    "\n",
    "We wrap the above inside a fuction (let's avoid global scope and simplify):"
   ]
  },
  {
   "cell_type": "code",
   "execution_count": null,
   "metadata": {},
   "outputs": [],
   "source": [
    "function pprey_shift(ϵ)\n",
    "#parameters\n",
    "λ = .7  # 🐇 growth\n",
    "γ = 0.4  # 🐇 loss\n",
    "σ = 0.3  # 🐺 growth\n",
    "β = 1.2  # 🐺 loss\n",
    "params = [λ; γ; β; σ]\n",
    "\n",
    "u0 = [β/σ + ϵ ; λ/γ - ϵ] #one slightly larger, one slightly smaller\n",
    "ti = 0.0\n",
    "tf = 50.0\n",
    "Nt = 200\n",
    "tspan = (ti,tf)\n",
    "t = linspace(ti,tf,Nt) \n",
    "\n",
    "prob = ODEProblem(pprey,u0,tspan,params)\n",
    "sol = solve(prob,saveat=t);\n",
    "🐇 = sol[1,:]; 🐺 = sol[2,:]\n",
    "    return 🐇, 🐺\n",
    "end"
   ]
  },
  {
   "cell_type": "code",
   "execution_count": null,
   "metadata": {},
   "outputs": [],
   "source": [
    "using Interact"
   ]
  },
  {
   "cell_type": "code",
   "execution_count": null,
   "metadata": {
    "scrolled": true
   },
   "outputs": [],
   "source": [
    "ϵmax = 1.2\n",
    "Neps = 20\n",
    "ϵvec = linspace(0.0,ϵmax,Neps)\n",
    "\n",
    "p1=plot(size=(600,200))\n",
    "@manipulate for ϵ in ϵvec \n",
    "    🐇, 🐺 = pprey_shift(ϵ)\n",
    "    plot(t,🐇,label=L\"r(t)\",legend=:topright);plot!(t,🐺,label=L\"w(t)\")\n",
    "    plot!(t,r̄*one.(t),label=L\"\\bar r\",s=:d)\n",
    "    plot!(t,w̄*one.(t),label=L\"\\bar w\",s=:d)\n",
    "    ylims!(0,5);xlabel!(\"t\");ylabel!(\"population\")\n",
    "    xlims!(0,70);ylims!(0,8)\n",
    "    title!(\"predator-prey dynamics\")\n",
    "end"
   ]
  },
  {
   "cell_type": "markdown",
   "metadata": {},
   "source": [
    "Fast enough to run and plot in real time scanning parameter space. If the slider feels a little clunky at times, it is because it is running every simulation along the way and plotting the last one that you stop at (efficiency of interact isn't such a priority for $\\julia$ developers at the moment!)"
   ]
  },
  {
   "cell_type": "markdown",
   "metadata": {},
   "source": [
    "# Workshop 3\n",
    "- Quantum phase space with SDE's"
   ]
  }
 ],
 "metadata": {
  "kernelspec": {
   "display_name": "Julia 1.0.3",
   "language": "julia",
   "name": "julia-1.0"
  },
  "language_info": {
   "file_extension": ".jl",
   "mimetype": "application/julia",
   "name": "julia",
   "version": "1.0.3"
  }
 },
 "nbformat": 4,
 "nbformat_minor": 2
}
