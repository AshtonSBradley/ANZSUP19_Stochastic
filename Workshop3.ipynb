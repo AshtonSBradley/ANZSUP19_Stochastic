{
 "cells": [
  {
   "cell_type": "markdown",
   "metadata": {},
   "source": [
    "# Stochastic Differential Equations, Quantum Phase Space, and Julia \n",
    "\n",
    "$$\n",
    "\\def\\julia{\\texttt{julia}}\n",
    "\\def\\dashint{{\\int\\!\\!\\!\\!\\!\\!-\\,}}\n",
    "\\def\\infdashint{\\dashint_{\\!\\!\\!-\\infty}^{\\,\\infty}}\n",
    "\\def\\D{\\,{\\rm d}}\n",
    "\\def\\E{{\\rm e}}\n",
    "\\def\\dx{\\D x}\n",
    "\\def\\dt{\\D t}\n",
    "\\def\\dz{\\D z}\n",
    "\\def\\C{{\\mathbb C}}\n",
    "\\def\\R{{\\mathbb R}}\n",
    "\\def\\CC{{\\cal C}}\n",
    "\\def\\HH{{\\cal H}}\n",
    "\\def\\I{{\\rm i}}\n",
    "\\def\\qqqquad{\\qquad\\qquad}\n",
    "\\def\\qqfor{\\qquad\\hbox{for}\\qquad}\n",
    "\\def\\qqwhere{\\qquad\\hbox{where}\\qquad}\n",
    "\\def\\Res_#1{\\underset{#1}{\\rm Res}}\\,\n",
    "\\def\\sech{{\\rm sech}\\,}\n",
    "\\def\\vc#1{{\\mathbf #1}}\n",
    "$$\n",
    "\n",
    "Dr. Ashton Bradley\n",
    "<br>\n",
    "ashton.bradley@otago.ac.nz\n",
    "<br>\n",
    "http://amoqt.otago.ac.nz"
   ]
  },
  {
   "cell_type": "markdown",
   "metadata": {},
   "source": [
    "## Workshop 3 (1 hour): Quantum Phase space\n",
    "Numerical solution of SDEs for physicists\n",
    "\n",
    "- $\\texttt{DifferentialEquations.jl}$: fast, adaptive stochastic integration\n",
    "- Physical examples will include a selection of:\n",
    "    - Damped, driven, harmonic oscillator\n",
    "    - Phase diffusion\n",
    "    - Model of a laser: stochastic Van der Pol equation\n",
    "    - Intracavity parametric down conversion: squeezing in the +P representation\n",
    "\n",
    "\n",
    "References\n",
    "\n",
    "- _The Quantum World of Ultracold Atoms and Light: Book I: Foundations of Quantum Optics_, C. W. Gardiner and P. Zoller, [Imperial College Press, London (2014)](https://www.worldscientific.com/worldscibooks/10.1142/p941)\n",
    "- _Generalized P-representations in quantum optics_, P. D. Drumond and C. W. Gardiner, [J. Phys. A-Math. and Gen., __13__, 2353-2368 (1980)](http://iopscience.iop.org/article/10.1088/0305-4470/13/7/018/meta)\n",
    "- [A deep introduction to julia](http://ucidatascienceinitiative.github.io/IntroToJulia/), Christopher Rackauckas\n",
    "- [_Stochastic Lifestyle_](http://www.stochasticlifestyle.com/), Christopher Rackauckas\n",
    "- _Dynamics and statistical mechanics of ultra-cold Bose gases using c-field techniques_,\n",
    "P. B. Blakie, A. S. Bradley, M. J. Davis, R. J. Ballagh, and C. W. Gardiner, [Advances in Phyiscs 57, 363 (2008)](https://doi.org/10.1080/00018730802564254)"
   ]
  },
  {
   "cell_type": "markdown",
   "metadata": {},
   "source": [
    "# Master Equation to SDE\n",
    "\n",
    "We now wish to utilize the link between FPE and SDE to map the quantum dynamical problem described by the density matrix equation of motion \n",
    "\n",
    "$$\\frac{\\partial \\rho}{\\partial t} = -\\frac{i}{\\hbar}[H,\\rho] + {\\cal L}(\\rho)\\tag{open quantum system}$$\n",
    "\n",
    "to the numerically easier problem of solving a set of coupled SDE's. \n",
    "\n",
    "For our purpose, the essential feature is to understand how the action of a creation or annihilation operator on the density matrix maps to an equivalent term in the FPE. \n",
    "\n",
    "From there, provided the diffusion matrix is ___positive semi-definite___ ($\\textrm{det}D\\geq 1$), there is a mapping of the quantum problem to an equivalent SDE."
   ]
  },
  {
   "cell_type": "markdown",
   "metadata": {},
   "source": [
    "# P-function mappings\n",
    "The simplest mapping is for the $P$-function, defined by the diagonal expansion in coherent states\n",
    "\n",
    "$$\\rho = \\int d^2\\alpha\\; |\\alpha\\rangle\\langle\\alpha|P(\\alpha,\\alpha^*,t)$$\n",
    "\n",
    "Provided such an expansion exists, we then have\n",
    "\n",
    "$$a\\rho = \\int d^2\\alpha\\; |\\alpha\\rangle\\langle\\alpha|\\alpha P(\\alpha,\\alpha^*,t)$$\n",
    "\n",
    "and \n",
    "\n",
    "\\begin{align}\n",
    "a^\\dagger\\rho &= \\int d^2\\alpha\\; P(\\alpha,\\alpha^*,t)\\left(\\alpha^*+\\frac{\\partial}{\\partial \\alpha}\\right)|\\alpha\\rangle\\langle\\alpha|\\notag\\\\\n",
    "&=\\int d^2\\alpha\\; |\\alpha\\rangle\\langle\\alpha|\\left(\\alpha^*-\\frac{\\partial}{\\partial \\alpha}\\right)P(\\alpha,\\alpha^*,t)\\notag\n",
    "\\end{align}\n",
    "\n",
    "Notice here we have used integration by parts; we thus assume that $P$ decays sufficiently quickly as $|\\alpha|\\to\\infty$ to justify this step. "
   ]
  },
  {
   "cell_type": "markdown",
   "metadata": {},
   "source": [
    "Carrying out similar operations for $\\rho a$, $\\rho a^\\dagger$, we establish the first step in our mapping to SDE's\n",
    "\n",
    "<div class=\"alert alert-block alert-warning\">\n",
    "<font color=blue>\n",
    "\\begin{align}\n",
    "a\\rho &\\longrightarrow \\alpha P\\notag\\\\\n",
    "a^\\dagger\\rho &\\longrightarrow \\left(\\alpha^*-\\frac{\\partial}{\\partial \\alpha}\\right)P\\tag{P-function mappings}\\\\\n",
    "\\rho a&\\longrightarrow \\left(\\alpha-\\frac{\\partial}{\\partial \\alpha^*}\\right)P\\notag\\\\\n",
    "\\rho a^\\dagger &\\longrightarrow \\alpha^* P\\notag\n",
    "\\end{align}\n",
    "    </font></div>"
   ]
  },
  {
   "cell_type": "code",
   "execution_count": null,
   "metadata": {},
   "outputs": [],
   "source": []
  },
  {
   "cell_type": "code",
   "execution_count": 1,
   "metadata": {},
   "outputs": [],
   "source": [
    "using DifferentialEquations"
   ]
  },
  {
   "cell_type": "markdown",
   "metadata": {},
   "source": [
    "# Damped harmonic oscillator"
   ]
  },
  {
   "cell_type": "code",
   "execution_count": null,
   "metadata": {},
   "outputs": [],
   "source": []
  },
  {
   "cell_type": "markdown",
   "metadata": {},
   "source": [
    "# Phase diffusion"
   ]
  },
  {
   "cell_type": "markdown",
   "metadata": {},
   "source": [
    "# Intracavity parameteric down conversion"
   ]
  },
  {
   "cell_type": "code",
   "execution_count": null,
   "metadata": {},
   "outputs": [],
   "source": []
  }
 ],
 "metadata": {
  "kernelspec": {
   "display_name": "Julia 1.0.3",
   "language": "julia",
   "name": "julia-1.0"
  },
  "language_info": {
   "file_extension": ".jl",
   "mimetype": "application/julia",
   "name": "julia",
   "version": "1.0.3"
  }
 },
 "nbformat": 4,
 "nbformat_minor": 2
}
