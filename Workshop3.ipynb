{
 "cells": [
  {
   "cell_type": "markdown",
   "metadata": {},
   "source": [
    "# Stochastic Differential Equations, Quantum Phase Space, and Julia \n",
    "\n",
    "$$\n",
    "\\def\\julia{\\texttt{julia}}\n",
    "\\def\\dashint{{\\int\\!\\!\\!\\!\\!\\!-\\,}}\n",
    "\\def\\infdashint{\\dashint_{\\!\\!\\!-\\infty}^{\\,\\infty}}\n",
    "\\def\\D{\\,{\\rm d}}\n",
    "\\def\\E{{\\rm e}}\n",
    "\\def\\dx{\\D x}\n",
    "\\def\\dt{\\D t}\n",
    "\\def\\dz{\\D z}\n",
    "\\def\\C{{\\mathbb C}}\n",
    "\\def\\R{{\\mathbb R}}\n",
    "\\def\\CC{{\\cal C}}\n",
    "\\def\\HH{{\\cal H}}\n",
    "\\def\\I{{\\rm i}}\n",
    "\\def\\qqqquad{\\qquad\\qquad}\n",
    "\\def\\qqfor{\\qquad\\hbox{for}\\qquad}\n",
    "\\def\\qqwhere{\\qquad\\hbox{where}\\qquad}\n",
    "\\def\\Res_#1{\\underset{#1}{\\rm Res}}\\,\n",
    "\\def\\sech{{\\rm sech}\\,}\n",
    "\\def\\vc#1{{\\mathbf #1}}\n",
    "$$\n",
    "\n",
    "Dr. Ashton Bradley\n",
    "<br>\n",
    "ashton.bradley@otago.ac.nz\n",
    "<br>\n",
    "http://amoqt.otago.ac.nz"
   ]
  },
  {
   "cell_type": "markdown",
   "metadata": {},
   "source": [
    "## Workshop 3: Quantum Phase space\n",
    "Numerical solution of SDEs for physicists\n",
    "\n",
    "- [DifferentialEquations.jl](https://github.com/SciML/DifferentialEquations.jl): fast, adaptive stochastic integration\n",
    "- Worked example: damped optical cavity \n",
    "\n",
    "\n",
    "References\n",
    "\n",
    "- *The Quantum World of Ultracold Atoms and Light: Book I: Foundations of Quantum Optics*, C. W. Gardiner and P. Zoller, [Imperial College Press, London (2014)](https://www.worldscientific.com/worldscibooks/10.1142/p941)\n",
    "- *Generalized P-representations in quantum optics*, P. D. Drumond and C. W. Gardiner, [J. Phys. A-Math. and Gen., __13__, 2353-2368 (1980)](http://iopscience.iop.org/article/10.1088/0305-4470/13/7/018/meta)\n",
    "- [A deep introduction to julia](http://ucidatascienceinitiative.github.io/IntroToJulia/), Christopher Rackauckas\n",
    "- [_Stochastic Lifestyle_](http://www.stochasticlifestyle.com/), Christopher Rackauckas\n",
    "- *Dynamics and statistical mechanics of ultra-cold Bose gases using c-field techniques*,\n",
    "P. B. Blakie, A. S. Bradley, M. J. Davis, R. J. Ballagh, and C. W. Gardiner, [Advances in Phyiscs 57, 363 (2008)](https://doi.org/10.1080/00018730802564254)"
   ]
  },
  {
   "cell_type": "markdown",
   "metadata": {},
   "source": [
    "# SDE's in DifferentialEquations.jl"
   ]
  },
  {
   "cell_type": "code",
   "execution_count": null,
   "metadata": {},
   "outputs": [],
   "source": [
    "using DifferentialEquations, Statistics, Plots, LaTeXStrings, Revise\n",
    "gr(grid=false,legend=false,size=(400,200),titlefontsize=12)"
   ]
  },
  {
   "cell_type": "markdown",
   "metadata": {},
   "source": [
    "## Ornstein-Uhlenbeck process"
   ]
  },
  {
   "cell_type": "markdown",
   "metadata": {},
   "source": [
    "First example: \n",
    "\n",
    "$$du = -γ u dt + βdW(t)$$"
   ]
  },
  {
   "cell_type": "markdown",
   "metadata": {},
   "source": [
    "Note that \n",
    "- for _additive noise_ it doesn't matter if we interpret this as an Ito $(I)$ or Stratonivich $(S)$ stochastic integral equation.\n",
    "- In `DifferentialEquations.jl` there are different methods implemented for each discretization."
   ]
  },
  {
   "cell_type": "code",
   "execution_count": null,
   "metadata": {},
   "outputs": [],
   "source": [
    "γ = 0.1\n",
    "β = 2.1\n",
    "u0= 0.0\n",
    "A(u,p,t) = -γ*u # drift\n",
    "B(u,p,t) = β    # diffusion\n",
    "\n",
    "t0 = 0.0; tf = 1.0; Nt = 200\n",
    "dt = .0001\n",
    "tspan = (t0,tf)\n",
    "t = LinRange(tspan...,Nt)\n",
    "prob = SDEProblem(A,B,u0,tspan)"
   ]
  },
  {
   "cell_type": "markdown",
   "metadata": {},
   "source": [
    "Fixed step size, using the simplest Ito method: [Euler-Maruyama method](https://en.wikipedia.org/wiki/Euler%E2%80%93Maruyama_method)"
   ]
  },
  {
   "cell_type": "code",
   "execution_count": null,
   "metadata": {},
   "outputs": [],
   "source": [
    "sol = solve(prob,EM(),dt=dt,saveat=t)\n",
    "plot(sol,lw=1)"
   ]
  },
  {
   "cell_type": "markdown",
   "metadata": {},
   "source": [
    "Fixed step size, using simplest Stratonivich method: [Euler-Heun method](https://en.wikipedia.org/wiki/Heun%27s_method)"
   ]
  },
  {
   "cell_type": "code",
   "execution_count": null,
   "metadata": {},
   "outputs": [],
   "source": [
    "sol = solve(prob,EulerHeun(),dt=dt,saveat=t)\n",
    "plot(sol,lw=1)"
   ]
  },
  {
   "cell_type": "markdown",
   "metadata": {},
   "source": [
    "Adaptive integration using general method due to Lamba and Rackauckas. "
   ]
  },
  {
   "cell_type": "code",
   "execution_count": null,
   "metadata": {},
   "outputs": [],
   "source": [
    "sol = solve(prob,LambaEM(),saveat=t)\n",
    "plot(sol,lw=1)"
   ]
  },
  {
   "cell_type": "markdown",
   "metadata": {},
   "source": [
    "The trajectories look quite different! We are seeing the solution approach the steady state: adaptive solvers can stretch their legs and take bigger steps as dynamical timescales increase. Let's go back and check the timing. You can see this immediately translates to large gains in execution time. \n",
    "\n",
    "Historically, general methods are of low order of convergence, and performant adaptivity was not available. In my opinion, *general* adaptive methods that Rackauckas, Nie, and Lamba have been developing and sharing through $\\julia$ are a total game changer.\n",
    "\n",
    "See the article by [Rackauckas and Nie](https://www.aimsciences.org/article/doi/10.3934/dcdsb.2017133) for an in-depth discussion of rejection sampling with memory. "
   ]
  },
  {
   "cell_type": "markdown",
   "metadata": {},
   "source": [
    "### Documentation\n",
    "For a list of all SDE methods see [SDE solvers](http://docs.juliadiffeq.org/latest/solvers/sde_solve.html) \n",
    "\n",
    "For a list of ODE methods, see [ODE solvers](http://docs.juliadiffeq.org/latest/solvers/ode_solve.html#OrdinaryDiffEq.jl-1)"
   ]
  },
  {
   "cell_type": "markdown",
   "metadata": {},
   "source": [
    "## Convergence and Monte Carlo and testing\n",
    "Calling `solve` returns a single trajectory, allowing tests of _strong convergence_ for the integrator.\n",
    "\n",
    "In Physics we are usually interested in sochastic averages, and this kind of convergence is called _weak convergence_. \n",
    "\n",
    "In `DifferentialEquations` the single trajectory problem is completely decoupled from the multi-trajectory problem. The latter is a _Monte Carlo problem_. There are separate libraries for solving MC problems, handling parallel execution, computing averages, etc. \n",
    "\n",
    "It is worth emphasizing here that $\\julia$ package development is all done on github, and is ___test driven___. What this means is that `DifferentialEquations` has a vast battery of tests that the algorithms are automatically subjected to as part of any update to the code. In my experience, the tests are taken very seriously (nothing merges until tests pass), and I have never found any problems with integrators. \n",
    "\n",
    "That said, it can sometimes take a bit of digging to locate the integrator code and understand exactly what it is doing and how to pass the right parameter to achieve your desired level of accuracy or error estimator. The fundamental reason for this is that `DifferentialEquations.jl` is a large _meta-package_. \n",
    "\n",
    "Structure of a metapackage: [let's take a quick look at the code so you can see for yourself.](https://github.com/JuliaDiffEq/DifferentialEquations.jl)\n",
    "\n"
   ]
  },
  {
   "cell_type": "markdown",
   "metadata": {},
   "source": [
    "## Monte Carlo problem"
   ]
  },
  {
   "cell_type": "code",
   "execution_count": null,
   "metadata": {},
   "outputs": [],
   "source": [
    "monte_prob = MonteCarloProblem(prob) # adaptive, as that was last definition of prob"
   ]
  },
  {
   "cell_type": "code",
   "execution_count": null,
   "metadata": {},
   "outputs": [],
   "source": [
    "sol = solve(monte_prob,trajectories=1000)"
   ]
  },
  {
   "cell_type": "code",
   "execution_count": null,
   "metadata": {},
   "outputs": [],
   "source": [
    "summ = MonteCarloSummary(sol,0:0.01:1)\n",
    "plot(summ,labels=\"Middle 95%\")\n",
    "summ = MonteCarloSummary(sol,0:0.01:1;quantiles=[0.25,0.75])\n",
    "plot!(summ,labels=\"Middle 50%\",legend=:topleft)\n",
    "xlabel!(\"t\");ylabel!(\"u(t)\")\n",
    "title!(\"Ornstein-Uhlenbeck process\")"
   ]
  },
  {
   "cell_type": "markdown",
   "metadata": {},
   "source": [
    "# Defining more complex problems"
   ]
  },
  {
   "cell_type": "markdown",
   "metadata": {},
   "source": [
    "- Systems of coupled equations\n",
    "- Real versus complex noise for quantum problems"
   ]
  },
  {
   "cell_type": "code",
   "execution_count": null,
   "metadata": {},
   "outputs": [],
   "source": [
    "a = @ode_def_bare Drift begin\n",
    "  du = -γ*u    \n",
    "end γ β"
   ]
  },
  {
   "cell_type": "code",
   "execution_count": null,
   "metadata": {},
   "outputs": [],
   "source": [
    "b = @ode_def_bare Diffusion begin\n",
    "  du = β\n",
    "end γ β"
   ]
  },
  {
   "cell_type": "code",
   "execution_count": null,
   "metadata": {},
   "outputs": [],
   "source": [
    "function brownian(Ntraj)\n",
    "# time \n",
    "ti = 0.\n",
    "tf = 100.\n",
    "Nt = 100\n",
    "tspan = (ti,tf)\n",
    "t = LinRange(ti,tf,Nt)\n",
    "γ = 0.1; β = 0.5\n",
    "p = (γ,β)\n",
    "    \n",
    "# initial condition\n",
    "u0 = [6.0]\n",
    "    \n",
    "# define problem\n",
    "prob = SDEProblem(a,b,u0,tspan,p)\n",
    "    \n",
    "alg = SRIW1() # higher order adaptive for diagonal noise\n",
    "dt = 1/100\n",
    "    \n",
    "monte_prob = MonteCarloProblem(prob)\n",
    "\n",
    "\n",
    "return solve(monte_prob,alg,saveat=t,trajectories=Ntraj)\n",
    "end"
   ]
  },
  {
   "cell_type": "code",
   "execution_count": null,
   "metadata": {},
   "outputs": [],
   "source": [
    "println(\"compile...\")\n",
    "brownian(1);"
   ]
  },
  {
   "cell_type": "code",
   "execution_count": null,
   "metadata": {},
   "outputs": [],
   "source": [
    "Ntraj = 100\n",
    "println(\"start...\")\n",
    "@time sol = brownian(Ntraj);"
   ]
  },
  {
   "cell_type": "code",
   "execution_count": null,
   "metadata": {},
   "outputs": [],
   "source": [
    "plot(sol,lw=1) # few paths"
   ]
  },
  {
   "cell_type": "code",
   "execution_count": null,
   "metadata": {},
   "outputs": [],
   "source": [
    "Ntraj = 5000 # let's get some clean statistics\n",
    "println(\"start...\")\n",
    "@time sol = brownian(Ntraj);"
   ]
  },
  {
   "cell_type": "code",
   "execution_count": null,
   "metadata": {},
   "outputs": [],
   "source": [
    "summ = MonteCarloSummary(sol)\n",
    "plot(summ,labels=\"Middle 95%\")\n",
    "summ = MonteCarloSummary(sol;quantiles=[0.25,0.75])\n",
    "plot!(summ,labels=\"Middle 50%\",legend=:topright)\n",
    "xlabel!(\"t\");ylabel!(\"u(t)\")\n",
    "title!(\"Ornstein-Uhlenbeck process\")"
   ]
  },
  {
   "cell_type": "markdown",
   "metadata": {},
   "source": [
    "# Quantum Phase Space\n",
    "My aim now is to walk you through the whole process for a simple problem. First a quick recap."
   ]
  },
  {
   "cell_type": "markdown",
   "metadata": {},
   "source": [
    "## Master Equation to SDE\n",
    "\n",
    "We now wish to utilize the link between FPE and SDE to map the quantum dynamical problem described by the density matrix equation of motion \n",
    "\n",
    "$$\\frac{\\partial \\rho}{\\partial t} = -\\frac{i}{\\hbar}[H,\\rho] + {\\cal L}(\\rho)\\tag{open quantum system}$$\n",
    "\n",
    "to the numerically easier problem of solving a set of coupled SDE's. \n",
    "\n",
    "For our purpose, the essential feature is to understand how the action of a creation or annihilation operator on the density matrix maps to an equivalent term in the FPE. \n",
    "\n",
    "From there, provided the FPE only has derivatives up to second order (strictly an FPE when true), and diffusion matrix is ___positive definite___ ($\\textrm{det}D> 1$), there is a mapping of the quantum problem to an equivalent SDE.\n",
    "\n",
    "We use the coherent state basis to effect the mapping\n",
    "\n",
    "$$\\dot{\\rho}(t)\\longrightarrow \\partial_tP(\\alpha,\\alpha^*,t)\\longrightarrow d\\alpha(t)$$\n",
    "\n",
    "Moments of $P$ give normally ordered operator averages:\n",
    "\n",
    "<div class=\"alert alert-block alert-warning\"><font color=blue>\n",
    "$$\\langle (a^\\dagger)^na^m\\rangle=\\overline{((\\alpha^*)^n\\alpha^m)}_P$$\n",
    "    </font></div>\n",
    "    \n",
    "The moments can be evaluated from stocahstic averaging over the paths of the SDE."
   ]
  },
  {
   "cell_type": "markdown",
   "metadata": {},
   "source": [
    "## P-function mappings\n",
    "The simplest mapping is for the $P$-function, defined by the diagonal expansion in coherent states\n",
    "\n",
    "$$\\rho = \\int d^2\\alpha\\; |\\alpha\\rangle\\langle\\alpha|P(\\alpha,\\alpha^*,t)$$\n",
    "\n",
    "Provided such an expansion exists, we then have\n",
    "\n",
    "$$a\\rho = \\int d^2\\alpha\\; |\\alpha\\rangle\\langle\\alpha|\\alpha P(\\alpha,\\alpha^*,t)$$\n",
    "\n",
    "and \n",
    "\n",
    "\\begin{align}\n",
    "a^\\dagger\\rho &= \\int d^2\\alpha\\; P(\\alpha,\\alpha^*,t)\\left(\\alpha^*+\\frac{\\partial}{\\partial \\alpha}\\right)|\\alpha\\rangle\\langle\\alpha|\\notag\\\\\n",
    "&=\\int d^2\\alpha\\; |\\alpha\\rangle\\langle\\alpha|\\left(\\alpha^*-\\frac{\\partial}{\\partial \\alpha}\\right)P(\\alpha,\\alpha^*,t)\\notag\n",
    "\\end{align}\n",
    "\n",
    "Notice here we have used integration by parts; we thus require that $P$ decays sufficiently quickly as $|\\alpha|\\to\\infty$; there are (uncommon) situations where this is not valid, which will not concern us here."
   ]
  },
  {
   "cell_type": "markdown",
   "metadata": {},
   "source": [
    "Carrying out similar operations for $\\rho a$, $\\rho a^\\dagger$, we establish the mapping of operators to differential operators acting on $P$\n",
    "\n",
    "<div class=\"alert alert-block alert-warning\"><font color=blue>\n",
    "\\begin{align}\n",
    "a\\rho &\\longrightarrow \\alpha P\\notag\\\\\n",
    "a^\\dagger\\rho &\\longrightarrow \\left(\\alpha^*-\\frac{\\partial}{\\partial \\alpha}\\right)P\\tag{P-function mappings}\\\\\n",
    "\\rho a&\\longrightarrow \\left(\\alpha-\\frac{\\partial}{\\partial \\alpha^*}\\right)P\\notag\\\\\n",
    "\\rho a^\\dagger &\\longrightarrow \\alpha^* P\\notag\n",
    "\\end{align}\n",
    "</font></div>"
   ]
  },
  {
   "cell_type": "markdown",
   "metadata": {},
   "source": [
    "- There are other important distributions, $Q$, $W$, and $+P$. The last two are the most useful in practical simulations."
   ]
  },
  {
   "cell_type": "markdown",
   "metadata": {},
   "source": [
    "# Damped harmonic oscillator\n",
    "A well-known example including Hamiltonian and dissipative terms, a damped optical cavity. We take the Hamiltonian to be\n",
    "\n",
    "$$H= \\hbar\\omega (a^\\dagger a+\\tfrac{1}{2})$$\n",
    "\n",
    "## Master equation\n",
    "Making the Born and Markov approximations, the density matrix time in the _Schroedinger picture_ is\n",
    "\n",
    "\\begin{align}\n",
    "\\dot{\\rho}&=-\\frac{i}{\\hbar}[a^\\dagger a,H]+\\underbrace{\\frac{\\gamma}{2} (\\bar n+1)\\left[2a\\rho a^\\dagger - a^\\dagger a\\rho - \\rho a^\\dagger a \\right]}_{\\textrm{cavity losses: thermal and vacuum}}+\\underbrace{\\frac{\\gamma}{2} \\bar n\\left[2a^\\dagger\\rho a - a a^\\dagger\\rho - \\rho a a^\\dagger \\right]}_{\\textrm{cavity gain: thermal}}\n",
    "\\end{align}\n",
    "\n",
    "__Exercise:__ If you haven't worked with this kind of object before, use the cyclic properity of the trace, $\\textrm{tr}(ABC)=\\textrm{tr}(BCA)=\\textrm{tr}(CAB)$, to show that the mean photon number $n=\\langle a^\\dagger a\\rangle=\\textrm{tr}(\\rho a^\\dagger a)$ evolves as\n",
    "\n",
    "$$\\frac{dn}{dt}=-\\gamma (n - \\bar n).$$ \n",
    "\n",
    "The steady state is simply $n_s=\\bar n$, and the reservoir population at energy $\\hbar \\omega$ is \n",
    "\n",
    "$$\\bar n=\\frac{1}{e^{\\beta \\hbar\\omega}-1}.\\tag{Photon thermal state}$$\n",
    "\n",
    "So the cavity mode and the environment reach equilibrium on a timescale or order $\\sim 1/\\gamma$, the inverse cavity loss rate."
   ]
  },
  {
   "cell_type": "markdown",
   "metadata": {},
   "source": [
    "## Mapping to P-function\n",
    "Applying the mappings, taking care to preserve the order when acting on $\\rho$ (action from the right, the order is reversed, i.e., apply the first operator to act on $\\rho$ on the right as the first differential operator acting on $P$. Right-versus left can be chosen in either order, but you should apply all operator mappings on one side in order, then all on the other side), we find\n",
    "\n",
    "\\begin{align}\\frac{\\partial P}{\\partial t}&=-\\frac{\\partial}{\\partial\\alpha}[\\overbrace{(-i\\omega-\\tfrac{\\gamma}{2})\\alpha}^{\\textrm{drift term for}\\; d\\alpha} P]-\\frac{\\partial}{\\partial\\alpha^*}[\\overbrace{(i\\omega-\\tfrac{\\gamma}{2})\\alpha^*}^{\\textrm{drift term for}\\; d\\alpha^*} P]\\\\\n",
    "&+\\underbrace{\\frac{\\gamma\\bar n}{2}\\frac{\\partial^2}{\\partial\\alpha\\partial \\alpha^*}P+\\frac{\\gamma\\bar n}{2}\\frac{\\partial^2}{\\partial\\alpha^*\\partial \\alpha}P}_{\\textrm{ shows where entries are in diffusion matrix}}\n",
    "\\end{align}"
   ]
  },
  {
   "cell_type": "markdown",
   "metadata": {},
   "source": [
    "## Equivalent SDE\n",
    "The mapping from Ito SDE to FPE for an $n$-variable vector $\\mathbf{x}$ of stochastic variables starts from the SDE\n",
    "\n",
    "<div class=\"alert alert-block alert-warning\"><font color=blue>\n",
    "$$(I)d\\mathbf{x}(t)=\\mathbf{A}(\\mathbf{x},t)dt+\\mathbf{B}(\\mathbf{x},t)d\\mathbf{W}(t),$$\n",
    "</font></div>\n",
    "\n",
    "where $\\mathbf{A}$ is $n$ dimensional ___drift vector___, $d\\mathbf{W}(t)$ is an $m$-dimensional vector of real noises, and $\\mathbf{B}$ is the $n\\times m$ noise matrix. \n",
    "\n",
    "The condition that the $n\\times n$ dimensional diffusion matrix $\\mathbf{D}$ is positive-definite ensures that a factorization $\\mathbf{D}=\\mathbf{B}\\mathbf{B}^T$ may be found. \n",
    "\n",
    "Using the same approach we took in lecture 2, it can be shown that this SDE is equivalent to the FPE\n",
    "\n",
    "<div class=\"alert alert-block alert-warning\"><font color=blue>\n",
    "$$\\frac{\\partial p}{\\partial t}=-\\sum_i\\partial_i[A_i(\\mathbf{x},t)p]+\\frac{1}{2}\\sum_{i,j}\\partial_i\\partial_j([\\mathbf{B}(\\mathbf{x},t)\\mathbf{B}^T(\\mathbf{x},t)]_{ij}p)$$\n",
    "    </font></div>\n",
    "    "
   ]
  },
  {
   "cell_type": "markdown",
   "metadata": {},
   "source": [
    "So we work backwards: find a factorization of the diffusion matrix. For convenience we take as our vector of unknowns \n",
    "\n",
    "$$\\mathbf{x}= [\\alpha\\;\\; \\alpha^*]^T$$\n",
    "\n",
    "The determinant of $\\mathbf{D}$ can only be computed in terms of _real variables_, so some care should be taken. \n",
    "\n",
    "This choice gives the diffusion matrix (note the $1/2$ has gone!)\n",
    "\n",
    "$$\\mathbf{D}=\\begin{bmatrix}\n",
    "    0 & \\gamma\\bar n \\\\\n",
    "    \\gamma\\bar n & 0 \\\\\n",
    "\\end{bmatrix},$$\n",
    "\n",
    "that we factorize using the useful form (check this!)\n",
    "\n",
    "$$\\begin{bmatrix}\n",
    "    0 & 1 \\\\\n",
    "    1 & 0 \\\\\n",
    "\\end{bmatrix}=\\frac{1}{\\sqrt{2}}\\begin{bmatrix}\n",
    "    1 & i \\\\\n",
    "    1 & -i \\\\\n",
    "\\end{bmatrix}\\frac{1}{\\sqrt{2}}\\begin{bmatrix}\n",
    "    1 & 1 \\\\\n",
    "    i & -i \\\\\n",
    "\\end{bmatrix}$$\n",
    "\n",
    "to find \n",
    "\n",
    "$$\\mathbf{B}=\\frac{\\gamma\\bar n}{\\sqrt{2}}\\begin{bmatrix}\n",
    "    1 & i \\\\\n",
    "    1 & -i \\\\\n",
    "\\end{bmatrix}.$$\n",
    "\n",
    "Using the vector of real noises (Wiener increments)\n",
    "\n",
    "$$d\\mathbf{W}(t)=\\begin{bmatrix}\n",
    "    dw_1(t) \\\\\n",
    "    dw_2(t) \\\\\n",
    "\\end{bmatrix}$$\n",
    "\n",
    "we arrive the pair of SDE's\n",
    "\n",
    "<div class=\"alert alert-block alert-warning\"><font color=blue>\n",
    "\\begin{align}\n",
    "(I)d\\alpha&=(-i\\omega-\\gamma/2)\\alpha dt+\\sqrt{\\gamma\\bar n}\\;dw(t)\\\\\n",
    "(I)d\\alpha^*&=(i\\omega-\\gamma/2)\\alpha^* dt+\\sqrt{\\gamma\\bar n}\\;dw^*(t)\n",
    "\\end{align}\n",
    "</font></div>\n",
    "\n",
    "where the noise is now a _complex Wiener process_\n",
    "\n",
    "$$dw(t)=\\frac{1}{\\sqrt{2}}(dW_1(t)+idW_2(t))$$\n",
    "\n",
    "with correlations\n",
    "\n",
    "\\begin{align}\n",
    "\\langle dw(t)dw(t)\\rangle&=0\\\\\n",
    "\\langle dw^*(t)dw(t)\\rangle&=dt.\n",
    "\\end{align}\n",
    "\n",
    "You can verify this using the properties of the standard real Wiener processes $dW_j(t)$, which have nonvanishing correlator $\\langle dW_j(t)dW_k(t)\\rangle=\\delta_{jk}dt$."
   ]
  },
  {
   "cell_type": "markdown",
   "metadata": {},
   "source": [
    "Note that \n",
    "- In this case, the two equations are complex conjugates (same noise in each!)\n",
    "- We only need to solve one SDE\n",
    "- In `DifferentialEquations.jl` the default noise is of the same type as the fields, so this is the the default and we don't need any special noises.\n",
    "- In $+P$ simulations we need _real_ noises, and want to work with _complex_ variables. In this case we would need to define our own noises; see [PhaseSpaceTools](https://github.com/AshtonSBradley/PhaseSpaceTools.jl) (a little package I have writting to do initial state sampling and provide some helpful methods for SDE's)."
   ]
  },
  {
   "cell_type": "markdown",
   "metadata": {},
   "source": [
    "## Solving the SDE"
   ]
  },
  {
   "cell_type": "code",
   "execution_count": null,
   "metadata": {},
   "outputs": [],
   "source": [
    "drift = @ode_def_bare Drift begin\n",
    "  dα = (-im*ω-γ/2)*α    \n",
    "  # dᾱ = (im*ω-γ/2)*ᾱ # in +P these would be independent\n",
    "    end ω γ n̄\n",
    "\n",
    "diffusion = @ode_def_bare Diffusion begin\n",
    "  dα = sqrt(γ*n̄)\n",
    "  # dᾱ = sqrt(γ*n̄) # in +P these would be independent\n",
    "    end ω γ n̄"
   ]
  },
  {
   "cell_type": "code",
   "execution_count": null,
   "metadata": {},
   "outputs": [],
   "source": [
    "function opticalcavity(Ntraj)\n",
    "# time \n",
    "ti = 0.\n",
    "tf = 50.\n",
    "Nt = 100\n",
    "t = LinRange(ti,tf,Nt)\n",
    "tspan = (ti,tf)\n",
    "\n",
    "ω = 1.0; γ = 0.1; n̄ = 10\n",
    "p = (ω,γ,n̄)\n",
    "    \n",
    "# initial condition (must of the same type as solution! here an array of length 1)\n",
    "a0 = [10.0+0.0*im]\n",
    "    \n",
    "    \n",
    "prob = SDEProblem(drift,diffusion,a0,tspan,p)\n",
    "alg = SRIW1() # higher order adaptive for diagonal noise\n",
    "dt = 1/100\n",
    "    \n",
    "monte_prob = MonteCarloProblem(prob)\n",
    "\n",
    "return solve(monte_prob,alg,saveat=t,trajectories=Ntraj)\n",
    "end"
   ]
  },
  {
   "cell_type": "code",
   "execution_count": null,
   "metadata": {},
   "outputs": [],
   "source": [
    "println(\"compile...\")\n",
    "opticalcavity(1);"
   ]
  },
  {
   "cell_type": "code",
   "execution_count": null,
   "metadata": {},
   "outputs": [],
   "source": [
    "Ntraj = 5000  \n",
    "println(\"start...\")\n",
    "@time sol = opticalcavity(Ntraj);"
   ]
  },
  {
   "cell_type": "code",
   "execution_count": null,
   "metadata": {},
   "outputs": [],
   "source": [
    "# trajectories are first index\n",
    "# modes are second index\n",
    "# time is third index\n",
    "α(j) = sol[j][1,:]\n",
    "\n",
    "# trajectory average at each time, for each mode\n",
    "n1 = zero(abs.(α(1)))\n",
    "for j in 1:Ntraj\n",
    "    n1 += abs2.(α(j))\n",
    "end\n",
    "\n",
    "n1 /= Ntraj; # divide by number of trajectories"
   ]
  },
  {
   "cell_type": "markdown",
   "metadata": {},
   "source": [
    "We can check our results agains the analytic solution\n",
    "\n",
    "$$n(t)=\\bar{n}+e^{-\\gamma t}(n_0-\\bar{n})$$"
   ]
  },
  {
   "cell_type": "code",
   "execution_count": null,
   "metadata": {},
   "outputs": [],
   "source": [
    "# we need the same parameters outside the function\n",
    "ti = 0.\n",
    "tf = 50.\n",
    "Nt = 100\n",
    "t = LinRange(ti,tf,Nt);\n",
    "\n",
    "ω = 1.0\n",
    "γ = 0.1\n",
    "n̄ = 10 \n",
    "n0 = 100\n",
    "na(t) = n̄ + exp(-γ*t)*(n0-n̄)"
   ]
  },
  {
   "cell_type": "code",
   "execution_count": null,
   "metadata": {},
   "outputs": [],
   "source": [
    "plot(t,na.(t),c=:red,lw=1,label=\"exact\",legend=:topright)\n",
    "plot!(t,n1,lw=6,c=:blue,alpha=.2,label=\"SDE\")\n",
    "plot!(t,one.(t)*n̄,s=:dash,label=L\"\\bar n\")\n",
    "xlims!(ti,tf);ylims!(0,1.1*n0)\n",
    "ylabel!(L\"\\langle a^\\dag a\\rangle\")\n",
    "xlabel!(L\"t\");title!(\"Approach to thermal equilibrium\")"
   ]
  },
  {
   "cell_type": "markdown",
   "metadata": {},
   "source": [
    "## Remarks\n",
    "- We have considered a simple and familiar example to highlight the key steps. You should now be able to work through any phase space mapping problem, find equivalent SDE's (approximately if truncation proves necessary), and solve them.\n",
    "- The Wigner represtation has mappings that appear more symmetric. Moments of $W$, and hence stochastic averages over equivalent SDE's allow computation of *symmetric operator averages*, e.g. $\\overline{(\\alpha^*\\alpha)}_W=\\tfrac{1}{2}\\langle a^\\dagger a+a a^\\dagger\\rangle=\\langle a^\\dagger a\\rangle+\\tfrac{1}{2}$. This is a key distinction between $W$ and $P$, the latter giving *normally ordered operator averages*.\n",
    "- This extra factor of $\\tfrac{1}{2}$ is the source of vacuum noise in the truncated Wigner initial conditions that is absent from $P$-function methods."
   ]
  },
  {
   "cell_type": "markdown",
   "metadata": {},
   "source": [
    "# More Julia for physicists\n",
    "- [ApproxFun](https://github.com/JuliaApproximation/ApproxFun.jl)\n",
    "    - High precision calculations with Chebychev polynomials in 1D, 2D (inspired by [ChebFun](http://www.chebfun.org/) for Matlab)\n",
    "- [Measurements.jl](https://github.com/JuliaPhysics/Measurements.jl) \n",
    "    - allows you to define numbers with uncertainties, perform calculations involving them, and easily get the uncertainty of the result according to linear error propagation theory.\n",
    "    - uses [PhysicalConstants](https://github.com/JuliaPhysics/PhysicalConstants.jl) and [UnitFul](https://github.com/ajkeller34/Unitful.jl)\n",
    "- [Parameters](https://github.com/mauro3/Parameters.jl)\n",
    "    - package to handle numerical-model parameters. \n",
    "    - keyword type constructors with default values for structs and NamedTuples,\n",
    "    - unpacking and packing of composite types and dicts.\n",
    "    - a great way to handle model parameter passing!"
   ]
  },
  {
   "cell_type": "markdown",
   "metadata": {},
   "source": [
    "# From symbolic to efficient numerical evaluation using SymPy\n",
    "In $\\julia$ you can do computer algebra work in [SymPy](https://github.com/JuliaPy/SymPy.jl) (not a Mathematica replacement, but can do a lot of standard computer algebra in an jupyter environment that has a comparable user experience), and then create fast compiled code using the $\\julia$ compiler, by using the function `lambdify`. \n",
    "\n",
    "Let's see a simple example, namely finding a jacobian. At this point there could be some namespace clashes, so before proceeding, restart and clear outputs using the kernel menu. "
   ]
  },
  {
   "cell_type": "code",
   "execution_count": 1,
   "metadata": {},
   "outputs": [],
   "source": [
    "using SymPy, BenchmarkTools\n",
    "# (in this notebook we call SymPy methods by class to avoid \n",
    "# namespace clashes with other packages loaded above)"
   ]
  },
  {
   "cell_type": "code",
   "execution_count": 2,
   "metadata": {},
   "outputs": [
    {
     "data": {
      "text/plain": [
       "(x, y)"
      ]
     },
     "execution_count": 2,
     "metadata": {},
     "output_type": "execute_result"
    }
   ],
   "source": [
    "@syms x y"
   ]
  },
  {
   "cell_type": "code",
   "execution_count": 3,
   "metadata": {},
   "outputs": [
    {
     "data": {
      "text/plain": [
       "f (generic function with 1 method)"
      ]
     },
     "execution_count": 3,
     "metadata": {},
     "output_type": "execute_result"
    }
   ],
   "source": [
    "f(x,y) = sin(x)*exp(-y^2)"
   ]
  },
  {
   "cell_type": "code",
   "execution_count": 4,
   "metadata": {},
   "outputs": [
    {
     "data": {
      "text/latex": [
       "\\[\\left[ \\begin{array}{rr}- e^{- y^{2}} \\sin{\\left(x \\right)}&- 2 y e^{- y^{2}} \\cos{\\left(x \\right)}\\\\- 2 y e^{- y^{2}} \\cos{\\left(x \\right)}&2 \\left(2 y^{2} - 1\\right) e^{- y^{2}} \\sin{\\left(x \\right)}\\end{array}\\right]\\]"
      ],
      "text/plain": [
       "2×2 Array{Sym,2}:\n",
       "     -exp(-y^2)*sin(x)           -2*y*exp(-y^2)*cos(x)\n",
       " -2*y*exp(-y^2)*cos(x)  2*(2*y^2 - 1)*exp(-y^2)*sin(x)"
      ]
     },
     "execution_count": 4,
     "metadata": {},
     "output_type": "execute_result"
    }
   ],
   "source": [
    "# build jacobian as a sym expression using an array comprehension\n",
    "jac=[SymPy.diff(f(x,y), v1, v2) for v1 in [x,y], v2 in [x,y]]"
   ]
  },
  {
   "cell_type": "code",
   "execution_count": 5,
   "metadata": {},
   "outputs": [
    {
     "name": "stdout",
     "output_type": "stream",
     "text": [
      "search: \u001b[0m\u001b[1ml\u001b[22m\u001b[0m\u001b[1ma\u001b[22m\u001b[0m\u001b[1mm\u001b[22m\u001b[0m\u001b[1mb\u001b[22m\u001b[0m\u001b[1md\u001b[22m\u001b[0m\u001b[1mi\u001b[22m\u001b[0m\u001b[1mf\u001b[22m\u001b[0m\u001b[1my\u001b[22m\n",
      "\n"
     ]
    },
    {
     "data": {
      "text/latex": [
       "\\begin{verbatim}\n",
       " lambdify(ex, vars; typ, fns, values, use_julia_code, invoke_latest)\n",
       "\\end{verbatim}\n",
       "Take a symbolic expression and return an anonymous \\texttt{Julia} function\n",
       "\n",
       "Converts from a SymPy object to an expression by walking the SymPy expression tree and converting each step. Then creates a function. The function arguments are based on \\texttt{free\\_symbols}, and its ordering unless \\texttt{vars} is specified directly.\n",
       "\n",
       "\\begin{itemize}\n",
       "\\item \\texttt{use\\_julia\\_code=false} will use SymPy's conversion to an expression, the default is \\texttt{false}\n",
       "\n",
       "\n",
       "\\item \\texttt{invoke\\_latest=true} calls \\texttt{Base.invokelatest} to work around world age issues. This is th safe default, but setting to \\texttt{false} will result in faster-executing functions.\n",
       "\n",
       "\\end{itemize}\n",
       "Example:\n",
       "\n",
       "\\begin{verbatim}\n",
       "@vars x y z\n",
       "ex = x^2 * sin(x)\n",
       "fn = lambdify(ex)\n",
       "fn(pi)\n",
       "\n",
       "ex = x + 2y + 3z\n",
       "fn = lambdify(ex)\n",
       "fn(1,2,3) # order is y,x,z\n",
       "\n",
       "fn = lambdify(ex, (x,y,z))\n",
       "fn(1,2,3)\n",
       "\\end{verbatim}\n",
       "\\begin{quote}\n",
       "\\textbf{note}\n",
       "\n",
       "Note\n",
       "\n",
       "Ideally, this would just be:\n",
       "\n",
       "\\end{quote}\n",
       "\\begin{verbatim}\n",
       "body = Meta.parse(julia_code(ex))\n",
       "syms = Symbol.(free_symbols(ex))\n",
       "fn = eval(Expr(:function, Expr(:call, gensym(), syms...), body))\n",
       "\\end{verbatim}\n",
       "Where the first line could also be \\texttt{convert(Expr, ex)}. However, the \\texttt{julia\\_code} method from sympy needs some attention.\n",
       "\n"
      ],
      "text/markdown": [
       "```\n",
       " lambdify(ex, vars; typ, fns, values, use_julia_code, invoke_latest)\n",
       "```\n",
       "\n",
       "Take a symbolic expression and return an anonymous `Julia` function\n",
       "\n",
       "Converts from a SymPy object to an expression by walking the SymPy expression tree and converting each step. Then creates a function. The function arguments are based on `free_symbols`, and its ordering unless `vars` is specified directly.\n",
       "\n",
       "  * `use_julia_code=false` will use SymPy's conversion to an expression, the default is `false`\n",
       "  * `invoke_latest=true` calls `Base.invokelatest` to work around world age issues. This is th safe default, but setting to `false` will result in faster-executing functions.\n",
       "\n",
       "Example:\n",
       "\n",
       "```\n",
       "@vars x y z\n",
       "ex = x^2 * sin(x)\n",
       "fn = lambdify(ex)\n",
       "fn(pi)\n",
       "\n",
       "ex = x + 2y + 3z\n",
       "fn = lambdify(ex)\n",
       "fn(1,2,3) # order is y,x,z\n",
       "\n",
       "fn = lambdify(ex, (x,y,z))\n",
       "fn(1,2,3)\n",
       "```\n",
       "\n",
       "!!! note\n",
       "    Ideally, this would just be:\n",
       "\n",
       "\n",
       "```\n",
       "body = Meta.parse(julia_code(ex))\n",
       "syms = Symbol.(free_symbols(ex))\n",
       "fn = eval(Expr(:function, Expr(:call, gensym(), syms...), body))\n",
       "```\n",
       "\n",
       "Where the first line could also be `convert(Expr, ex)`. However, the `julia_code` method from sympy needs some attention.\n"
      ],
      "text/plain": [
       "\u001b[36m   lambdify(ex, vars; typ, fns, values, use_julia_code, invoke_latest)\u001b[39m\n",
       "\n",
       "  Take a symbolic expression and return an anonymous \u001b[36mJulia\u001b[39m function\n",
       "\n",
       "  Converts from a SymPy object to an expression by walking the SymPy\n",
       "  expression tree and converting each step. Then creates a function. The\n",
       "  function arguments are based on \u001b[36mfree_symbols\u001b[39m, and its ordering unless \u001b[36mvars\u001b[39m\n",
       "  is specified directly.\n",
       "\n",
       "    •    \u001b[36muse_julia_code=false\u001b[39m will use SymPy's conversion to an expression,\n",
       "        the default is \u001b[36mfalse\u001b[39m\n",
       "\n",
       "    •    \u001b[36minvoke_latest=true\u001b[39m calls \u001b[36mBase.invokelatest\u001b[39m to work around world\n",
       "        age issues. This is th safe default, but setting to \u001b[36mfalse\u001b[39m will\n",
       "        result in faster-executing functions.\n",
       "\n",
       "  Example:\n",
       "\n",
       "\u001b[36m  @vars x y z\u001b[39m\n",
       "\u001b[36m  ex = x^2 * sin(x)\u001b[39m\n",
       "\u001b[36m  fn = lambdify(ex)\u001b[39m\n",
       "\u001b[36m  fn(pi)\u001b[39m\n",
       "\u001b[36m  \u001b[39m\n",
       "\u001b[36m  ex = x + 2y + 3z\u001b[39m\n",
       "\u001b[36m  fn = lambdify(ex)\u001b[39m\n",
       "\u001b[36m  fn(1,2,3) # order is y,x,z\u001b[39m\n",
       "\u001b[36m  \u001b[39m\n",
       "\u001b[36m  fn = lambdify(ex, (x,y,z))\u001b[39m\n",
       "\u001b[36m  fn(1,2,3)\u001b[39m\n",
       "\n",
       "\u001b[36m\u001b[1m  │ \u001b[22m\u001b[39m\u001b[36m\u001b[1mNote\u001b[22m\u001b[39m\n",
       "\u001b[36m\u001b[1m  │\u001b[22m\u001b[39m\n",
       "\u001b[36m\u001b[1m  │\u001b[22m\u001b[39m  Ideally, this would just be:\n",
       "\n",
       "\u001b[36m  body = Meta.parse(julia_code(ex))\u001b[39m\n",
       "\u001b[36m  syms = Symbol.(free_symbols(ex))\u001b[39m\n",
       "\u001b[36m  fn = eval(Expr(:function, Expr(:call, gensym(), syms...), body))\u001b[39m\n",
       "\n",
       "  Where the first line could also be \u001b[36mconvert(Expr, ex)\u001b[39m. However, the\n",
       "  \u001b[36mjulia_code\u001b[39m method from sympy needs some attention."
      ]
     },
     "execution_count": 5,
     "metadata": {},
     "output_type": "execute_result"
    }
   ],
   "source": [
    "?lambdify"
   ]
  },
  {
   "cell_type": "code",
   "execution_count": 6,
   "metadata": {},
   "outputs": [
    {
     "data": {
      "text/plain": [
       "#86 (generic function with 1 method)"
      ]
     },
     "execution_count": 6,
     "metadata": {},
     "output_type": "execute_result"
    }
   ],
   "source": [
    "# define a c-compiled function from symbolic expression\n",
    "jac_lam=lambdify(jac,[x,y])"
   ]
  },
  {
   "cell_type": "code",
   "execution_count": 7,
   "metadata": {},
   "outputs": [
    {
     "data": {
      "text/plain": [
       "2×2 Array{Float64,2}:\n",
       " -0.0959189  -0.382396\n",
       " -0.382396   -0.176491"
      ]
     },
     "execution_count": 7,
     "metadata": {},
     "output_type": "execute_result"
    }
   ],
   "source": [
    "jac_lam(.1,.2)"
   ]
  },
  {
   "cell_type": "markdown",
   "metadata": {},
   "source": [
    "# test against native julia"
   ]
  },
  {
   "cell_type": "code",
   "execution_count": 40,
   "metadata": {},
   "outputs": [
    {
     "data": {
      "text/plain": [
       "jac_native (generic function with 1 method)"
      ]
     },
     "execution_count": 40,
     "metadata": {},
     "output_type": "execute_result"
    }
   ],
   "source": [
    "jac_native(x,y)=[-exp(-y^2)sin(x) -2y*exp(-y^2)cos(x);\n",
    "            -2y*exp(-y^2)cos(x) 2(2y^2-1)exp(-y^2)sin(x)]"
   ]
  },
  {
   "cell_type": "code",
   "execution_count": 41,
   "metadata": {},
   "outputs": [
    {
     "data": {
      "text/plain": [
       "2×2 Array{Float64,2}:\n",
       " -0.0959189  -0.382396\n",
       " -0.382396   -0.176491"
      ]
     },
     "execution_count": 41,
     "metadata": {},
     "output_type": "execute_result"
    }
   ],
   "source": [
    "jac_native(.1,.2)"
   ]
  },
  {
   "cell_type": "code",
   "execution_count": 73,
   "metadata": {},
   "outputs": [
    {
     "name": "stdout",
     "output_type": "stream",
     "text": [
      "  421.011 μs (233 allocations: 7.42 KiB)\n"
     ]
    }
   ],
   "source": [
    "@btime subs(jac[1],(x,.1),(y,.2)),subs(jac[2],(x,.1),(y,.2)),subs(jac[3],(x,.1),(y,.2)),subs(jac[4],(x,.1),(y,.2));"
   ]
  },
  {
   "cell_type": "code",
   "execution_count": 64,
   "metadata": {},
   "outputs": [
    {
     "name": "stdout",
     "output_type": "stream",
     "text": [
      "  5.755 μs (63 allocations: 1.41 KiB)\n"
     ]
    }
   ],
   "source": [
    "@btime jac_lam(.1,.2);"
   ]
  },
  {
   "cell_type": "code",
   "execution_count": 65,
   "metadata": {},
   "outputs": [
    {
     "name": "stdout",
     "output_type": "stream",
     "text": [
      "  97.844 ns (5 allocations: 176 bytes)\n"
     ]
    }
   ],
   "source": [
    "@btime jac_native(.1,.2);"
   ]
  },
  {
   "cell_type": "markdown",
   "metadata": {},
   "source": [
    "So in this case lambdify is about 70 times faster than sympy, but still takes 6 times longer than native julia. \n",
    "\n",
    "In this simple example, we had the luxury of writing down a native julia expression, but the value of this approach comes when such a baseline is not available due to the complexity of expressions involved. In which case, a factor of 70 is a welcome improvement!"
   ]
  }
 ],
 "metadata": {
  "@webio": {
   "lastCommId": null,
   "lastKernelId": null
  },
  "kernelspec": {
   "display_name": "Julia 1.4.0",
   "language": "julia",
   "name": "julia-1.4"
  },
  "language_info": {
   "file_extension": ".jl",
   "mimetype": "application/julia",
   "name": "julia",
   "version": "1.4.0"
  }
 },
 "nbformat": 4,
 "nbformat_minor": 2
}
